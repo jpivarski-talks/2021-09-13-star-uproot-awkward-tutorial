{
 "cells": [
  {
   "cell_type": "markdown",
   "id": "88a6d7a8-4ba0-44aa-b9cc-bde6ca17eb71",
   "metadata": {},
   "source": [
    "# Scientific Python tutorial for the STAR collaboration\n",
    "\n",
    "This notebook shows you how to do physics analysis in Python using a STAR PicoDST file. I presented it on Zoom on September 13, 2021.\n",
    "\n",
    "You can read it in GitHub ([jpivarski-talks/2021-09-13-star-uproot-awkward-tutorial](https://github.com/jpivarski-talks/2021-09-13-star-uproot-awkward-tutorial)) or run it [interactively on Binder](FIXME).\n",
    "\n",
    "I recommend the latter, as that would let you see the outputs of the code cells and make modifications to explore \"what if?\" scenarios. Binder loads all dependencies on its server; you don't have to install anything.\n",
    "\n",
    "If you want to run it on your own computer, see the `requirements.txt` file for Python packages to install. The requirements specifies exact versions that are known to work with this notebook, but if you plan to use these libraries for other work, you'll probably want the latest versions of each.\n",
    "\n",
    "This notebook is broken up into sections that lead toward a project in which you will be translating a C++ analysis into array-oriented Python."
   ]
  },
  {
   "cell_type": "markdown",
   "id": "1a438bfd-a767-4d0b-bbc9-1175b4d34e43",
   "metadata": {
    "tags": []
   },
   "source": [
    "## 1. Python: interactively building up an analysis"
   ]
  },
  {
   "cell_type": "markdown",
   "id": "2764f556-cbaf-4629-ac50-0eb78b58ea99",
   "metadata": {},
   "source": [
    "## 2. NumPy: thinking one array at a time"
   ]
  },
  {
   "cell_type": "markdown",
   "id": "ee248524-5bd4-4f9b-8303-68575b5e1e67",
   "metadata": {},
   "source": [
    "## 3. Uproot: array-oriented ROOT I/O"
   ]
  },
  {
   "cell_type": "markdown",
   "id": "4f5afbe6-52bf-4c65-b604-7106fc87dd1e",
   "metadata": {},
   "source": [
    "## 4. Awkward Array: complex data in arrays"
   ]
  },
  {
   "cell_type": "markdown",
   "id": "e013b84a-8de8-481d-a559-c0682ec8f403",
   "metadata": {},
   "source": [
    "## 5. Vector, hist, fastjet: the array-oriented ecosystem"
   ]
  },
  {
   "cell_type": "markdown",
   "id": "4d7bc919-93cd-4f03-94ac-ed821d1faf37",
   "metadata": {},
   "source": [
    "## 6. Z peak: translating a C++ analysis into array-oriented Python\n",
    "\n",
    "In this section, you will plot the mass of e⁺e⁻ pairs from the PicoDST file, using [star-picodst-W-reference-for-jim/macros/PicoDstAnalyzer.C](star-picodst-W-reference-for-jim/macros/PicoDstAnalyzer.C) as a guide."
   ]
  },
  {
   "cell_type": "markdown",
   "id": "cf80a172-196d-4d1a-97ab-40528e76e1fa",
   "metadata": {},
   "source": [
    "### Reading the data\n",
    "\n",
    "All data come from the PicoDST file, so let's load it again."
   ]
  },
  {
   "cell_type": "code",
   "execution_count": 59,
   "id": "3b0f4f5c-69bb-43a5-9d5e-4fac3deeb669",
   "metadata": {},
   "outputs": [],
   "source": [
    "import uproot\n",
    "import awkward as ak\n",
    "import numpy as np"
   ]
  },
  {
   "cell_type": "code",
   "execution_count": 3,
   "id": "917d1057-26d7-4b6e-92a5-175d71640c1a",
   "metadata": {},
   "outputs": [
    {
     "data": {
      "text/plain": [
       "<TTree 'PicoDst' (18 branches) at 0x7f651848f250>"
      ]
     },
     "execution_count": 3,
     "metadata": {},
     "output_type": "execute_result"
    }
   ],
   "source": [
    "picodst = uproot.open(\"https://pivarski-princeton.s3.amazonaws.com/pythia_ppZee_run17emb.picoDst.root:PicoDst\")\n",
    "picodst"
   ]
  },
  {
   "cell_type": "markdown",
   "id": "8224ed6d-59d4-4836-9b50-41804a800dfd",
   "metadata": {
    "tags": []
   },
   "source": [
    "In [star-picodst-W-reference-for-jim/macros/PicoDstAnalyzer.C](star-picodst-W-reference-for-jim/macros/PicoDstAnalyzer.C), the chain of commands that leads to getting a track is:\n",
    "\n",
    "```c++\n",
    "// get a reader and initialize it\n",
    "const Char_t *inFile = \"pythia_ppZee_run17emb.picoDst.root:PicoDst\";\n",
    "StPicoDstReader* picoReader = new StPicoDstReader(inFile);\n",
    "picoReader->Init();\n",
    "\n",
    "// in the loop over events (iEvent), load an event\n",
    "Bool_t readEvent = picoReader->readPicoEvent(iEvent);\n",
    "StPicoDst *dst = picoReader->picoDst();\n",
    "\n",
    "// in the loop over tracks (iTrk), load a track\n",
    "StPicoTrack *picoTrack = dst->track(iTrk);\n",
    "```\n",
    "\n",
    "The most relevant quantity for calculating invariant mass is the track's momentum:\n",
    "\n",
    "```c++\n",
    "picoTrack->pMom()\n",
    "```\n",
    "\n",
    "As a first step, we need to get track momenta. The [star-picodst-W-reference-for-jim/StPicoTrack.h](star-picodst-W-reference-for-jim/StPicoTrack.h) defines `pMom` as\n",
    "\n",
    "```c++\n",
    "TVector3 pMom() const           { return TVector3(mPMomentumX, mPMomentumY, mPMomentumZ); }\n",
    "```\n",
    "\n",
    "**Exercise 1:** Search through `picodst` and find _the full names_ of these branches. Then read all three into _arrays_ named `px`, `py`, and `pz`.\n",
    "\n",
    "For reference, here is the [uproot.TTree](https://uproot.readthedocs.io/en/latest/uproot.behaviors.TTree.TTree.html) documentation.\n",
    "\n",
    "Depending on your network connection, those arrays could take 30 seconds to load. Be sure you have an expression that works on a small subsample before starting the big download."
   ]
  },
  {
   "cell_type": "code",
   "execution_count": null,
   "id": "d4fc90c7-921a-4e26-b924-b0a5c87ed1c1",
   "metadata": {},
   "outputs": [],
   "source": [
    "picodst. ???"
   ]
  },
  {
   "cell_type": "markdown",
   "id": "3d22cde5-329a-4b6b-b56a-32ff63536b27",
   "metadata": {
    "tags": []
   },
   "source": [
    "<details>\n",
    "    <summary><b>Answer</b> (no peeking!)</summary>\n",
    "\n",
    "Search around with `picodst.keys`, gradually narrowing its output with wildcards or regular expressions like either of the following:\n",
    "\n",
    "```python\n",
    "picodst.keys(filter_name=\"*mPMomentum[XYZ]\")\n",
    "\n",
    "picodst.keys(filter_name=\"/.*mPMomentum[XYZ]/\")\n",
    "```\n",
    "</details>"
   ]
  },
  {
   "cell_type": "code",
   "execution_count": null,
   "id": "ca0a6924-c6ee-41cd-a2aa-7d8a3549c241",
   "metadata": {},
   "outputs": [],
   "source": [
    "px, py, pz = ???"
   ]
  },
  {
   "cell_type": "markdown",
   "id": "b69783fb-af9b-4538-ace6-f96522498396",
   "metadata": {},
   "source": [
    "<details>\n",
    "    <summary><b>Hint for postponing the big download</b> (okay, maybe peek)</summary>\n",
    "\n",
    "Remember that all of the array-fetching functions (`TTree.arrays`, `TBranch.array`, etc.) take `entry_start` and `entry_stop` as arguments.\n",
    "\n",
    "You can quickly limit the number of baskets read by setting `entry_stop` to some small number, like 1000.\n",
    "\n",
    "```python\n",
    "picodst.arrays(\"Event.mEventId\", entry_stop=1000)\n",
    "```\n",
    "<br>\n",
    "\n",
    "When you've got something you like, you can then remove the `entry_stop=1000` to let it go through the whole file.\n",
    "</details>"
   ]
  },
  {
   "cell_type": "markdown",
   "id": "87f9e631-f31f-4307-bb11-4a7c652572b6",
   "metadata": {},
   "source": [
    "<details>\n",
    "    <summary><b>Answer</b> (no peeking!)</summary>\n",
    "\n",
    "There are several different ways to read the arrays, but the most straightforward are `TTree.arrays` and `TBranch.array`.\n",
    "\n",
    "`TTree.arrays` can use the same `filter_name` that you identified with `TTree.keys`. But just calling it as-is returns a single array.\n",
    "\n",
    "```python\n",
    "single_array = picodst.arrays(filter_name=\"*mPMomentum[XYZ]\")\n",
    "```\n",
    "<br>\n",
    "\n",
    "**Solution 1:** You could, then, look at the `single_array.fields` ([ak.fields](https://awkward-array.readthedocs.io/en/latest/_auto/ak.fields.html)) to see what their names are and just pull them out.\n",
    "\n",
    "```python\n",
    "px = single_array[\"Track.mPMomentumX\"]\n",
    "py = single_array[\"Track.mPMomentumY\"]\n",
    "pz = single_array[\"Track.mPMomentumZ\"]\n",
    "```\n",
    "<br>\n",
    "\n",
    "**Solution 2:** Or you could pull them all out at once (without needing to know their names) with [ak.unzip](https://awkward-array.readthedocs.io/en/latest/_auto/ak.unzip.html).\n",
    "\n",
    "```python\n",
    "px, py, pz = ak.unzip(single_array)\n",
    "```\n",
    "<br>\n",
    "\n",
    "**Solution 3:** Or, if you noticed the `how` parameter of `TTree.arrays`, you'd see that this gives you the desired form directly.\n",
    "\n",
    "```python\n",
    "px, py, pz = picodst.arrays(filter_name=\"*mPMomentum[XYZ]\", how=tuple)\n",
    "```\n",
    "<br>\n",
    "\n",
    "**Solution 4:** As one final alternative, you could get each branch object and use `TBranch.array` on each one individually. (For network traffic, this is three request-and-responses rather than one, so it's less efficient, but leave that for later performance tuning.)\n",
    "\n",
    "```python\n",
    "px = picodst[\"Track/Track.mPMomentumX\"].array()\n",
    "py = picodst[\"Track/Track.mPMomentumY\"].array()\n",
    "pz = picodst[\"Track/Track.mPMomentumZ\"].array()\n",
    "```\n",
    "</details>"
   ]
  },
  {
   "cell_type": "markdown",
   "id": "a1de568b-03d3-486d-92f9-7ca9ecce8e43",
   "metadata": {},
   "source": [
    "### Making an array of Lorentz vectors\n",
    "\n",
    "Rather than calculating invariant mass from first principles, let's cast these as a `\"Momentum4D\"` with the Vector library."
   ]
  },
  {
   "cell_type": "code",
   "execution_count": 28,
   "id": "0ac13c62-7520-4269-b5c6-79ca76cd0fdb",
   "metadata": {},
   "outputs": [],
   "source": [
    "import vector\n",
    "vector.register_awkward()"
   ]
  },
  {
   "cell_type": "markdown",
   "id": "74553e16-bad5-4a52-9f20-8703bf5f2788",
   "metadata": {},
   "source": [
    "**Exercise 2:** Combine the `px`, `py`, `pz`, and `M = 0.000511` (a constant) into an array of type\n",
    "\n",
    "```\n",
    "8004 * var * {\"px\": float32, \"py\": float32, \"pz\": float32, \"M\": float64}\n",
    "```\n",
    "\n",
    "It is _essential_ that the \"`var`\" is outside the record structure—that it is an array of lists of `px-py-pz-M` records, not an array of records of `px-py-pz-M` lists, such as\n",
    "\n",
    "```\n",
    "8004 * {\"px\": var * float32, \"py\": var * float32, \"pz\": var * float32, \"M\": float64}\n",
    "```\n",
    "\n",
    "_When that works,_ also add the name `\"Momentum4D\"` to those records, so that they become Lorentz vectors. The type should then look like\n",
    "\n",
    "```\n",
    "8004 * var * Momentum4D[\"px\": float32, \"py\": float32, \"pz\": float32, \"M\": float64]\n",
    "```\n",
    "\n",
    "Both of these should compute instantaneously. If it's taking a long time, something's wrong.\n",
    "\n",
    "**Hint:** The [ak.zip](https://awkward-array.readthedocs.io/en/latest/_auto/ak.zip.html) function is relevant. You might also use [ak.Array](https://awkward-array.readthedocs.io/en/latest/_auto/ak.Array.html) and/or [ak.with_name](https://awkward-array.readthedocs.io/en/latest/_auto/ak.with_name.html), and [ak.type](https://awkward-array.readthedocs.io/en/latest/_auto/ak.type.html) or just `.type` to look at the type."
   ]
  },
  {
   "cell_type": "code",
   "execution_count": 29,
   "id": "70a15532-f20f-4e6d-8acc-738d569e9f08",
   "metadata": {},
   "outputs": [
    {
     "data": {
      "text/plain": [
       "(<Array [[0, -0.142, 0, 0, 0, ... 0, 0, 0, 0]] type='8004 * var * float32'>,\n",
       " <Array [[0, 0.374, 0, 0, 0, ... 0, 0, 0, 0, 0]] type='8004 * var * float32'>,\n",
       " <Array [[0, 0.151, 0, 0, 0, ... 0, 0, 0, 0, 0]] type='8004 * var * float32'>)"
      ]
     },
     "execution_count": 29,
     "metadata": {},
     "output_type": "execute_result"
    }
   ],
   "source": [
    "pMom = ???"
   ]
  },
  {
   "cell_type": "markdown",
   "id": "35f5efe3-17f4-4606-8ec6-3eaed0f39aec",
   "metadata": {},
   "source": [
    "<details>\n",
    "    <summary><b>Answer</b> (no peeking!)</summary>\n",
    "\n",
    "This is just what the `ak.zip` function does, when given a dict of field names to arrays. Don't set the `depth_limit`, as that would prevent their merger into an array of lists of records. The `\"M\"` field does not need to be an array—`ak.zip` will \"broadcast\" a constant into the same shape as the other fields.\n",
    "\n",
    "```python\n",
    "ak.zip({\"px\": px, \"py\": py, \"pz\": pz, \"M\": 0.000511})\n",
    "```\n",
    "<br>\n",
    "\n",
    "To add the `\"Momentum4D\"` name to these fields, you could use `ak.with_name` explicitly:\n",
    "\n",
    "```python\n",
    "ak.with_name(ak.zip({\"px\": px, \"py\": py, \"pz\": pz, \"M\": 0.000511}), \"Momentum4D\")\n",
    "```\n",
    "<br>\n",
    "\n",
    "or just add it as an argument in the original `ak.zip`:\n",
    "\n",
    "```python\n",
    "ak.zip({\"px\": px, \"py\": py, \"pz\": pz, \"M\": 0.000511}, with_name=\"Momentum4D\")\n",
    "```\n",
    "<br>\n",
    "\n",
    "The `ak.Array` constructor also has a `with_name` argument, so you could have used that, too.\n",
    "</details>"
   ]
  },
  {
   "cell_type": "markdown",
   "id": "df422789-45fd-44ab-96f1-dc98eef9a4e2",
   "metadata": {},
   "source": [
    "### Aside: if you're averse to physical constants in your code\n",
    "\n",
    "There are libraries for that. Particle is a \"Pythonic PDG\" and hepunits has unit conversions in the same units as Particle."
   ]
  },
  {
   "cell_type": "code",
   "execution_count": 58,
   "id": "38348016-3393-4fa0-879f-9ed3928679a0",
   "metadata": {},
   "outputs": [
    {
     "data": {
      "text/plain": [
       "0.0005109989460999999"
      ]
     },
     "execution_count": 58,
     "metadata": {},
     "output_type": "execute_result"
    }
   ],
   "source": [
    "import particle, hepunits\n",
    "\n",
    "particle.Particle.find(\"e-\").mass / hepunits.GeV"
   ]
  },
  {
   "cell_type": "markdown",
   "id": "10625ba1-1526-4180-b381-7eea122531f9",
   "metadata": {},
   "source": [
    "Constant fields can be added to a list of records through assignment."
   ]
  },
  {
   "cell_type": "code",
   "execution_count": 54,
   "id": "2c742d76-c424-4700-9dec-2274f7896412",
   "metadata": {},
   "outputs": [],
   "source": [
    "pMom[\"M\"] = particle.Particle.find(\"e-\").mass / hepunits.GeV"
   ]
  },
  {
   "cell_type": "markdown",
   "id": "8acae146-0f51-4ca7-8ad9-13606b9cd4a0",
   "metadata": {},
   "source": [
    "Now it's more precise."
   ]
  },
  {
   "cell_type": "code",
   "execution_count": 57,
   "id": "ec0cec6c-3881-43ef-b875-75784aa8a8f7",
   "metadata": {},
   "outputs": [
    {
     "data": {
      "text/plain": [
       "0.0005109989460999999"
      ]
     },
     "execution_count": 57,
     "metadata": {},
     "output_type": "execute_result"
    }
   ],
   "source": [
    "pMom[0, 0, \"M\"]"
   ]
  },
  {
   "cell_type": "markdown",
   "id": "75cbfea2-1da3-45f2-889a-acfb42e6581d",
   "metadata": {},
   "source": [
    "### How many tracks are there per event? How many pairwise combinations?\n",
    "\n",
    "The [ak.num](https://awkward-array.readthedocs.io/en/latest/_auto/ak.num.html) function returns the number of items in a `var` dimension, and NumPy's [np.mean](https://numpy.org/doc/stable/reference/generated/numpy.mean.html) computes an average."
   ]
  },
  {
   "cell_type": "code",
   "execution_count": 60,
   "id": "92d4c03f-a7d2-4331-b537-1095a82be94c",
   "metadata": {},
   "outputs": [
    {
     "data": {
      "text/plain": [
       "<Array [2594, 2513, 2909, ... 2441, 2586, 2321] type='8004 * int64'>"
      ]
     },
     "execution_count": 60,
     "metadata": {},
     "output_type": "execute_result"
    }
   ],
   "source": [
    "ak.num(pMom)"
   ]
  },
  {
   "cell_type": "code",
   "execution_count": 65,
   "id": "02a30db3-c76e-4200-878f-ca7748c85234",
   "metadata": {},
   "outputs": [
    {
     "data": {
      "text/plain": [
       "2611.1579210394802"
      ]
     },
     "execution_count": 65,
     "metadata": {},
     "output_type": "execute_result"
    }
   ],
   "source": [
    "np.mean(ak.num(pMom))"
   ]
  },
  {
   "cell_type": "markdown",
   "id": "6c3872f2-47af-42ce-b8a6-bd54318c13f5",
   "metadata": {},
   "source": [
    "**Exercise 3:** If we were to compute [ak.combinations](https://awkward-array.readthedocs.io/en/latest/_auto/ak.combinations.html) on these tracks (don't try it!), how many combinations would there be, on average?\n",
    "\n",
    "Remember, for a list with $N$ items, `ak.combinations(dataset, 2)` produces \"$N$ choose $2$\" pairs, which is $\\frac{N (N - 1)}{2}$."
   ]
  },
  {
   "cell_type": "markdown",
   "id": "949999c3-db7f-4f9b-82b3-f53e63f8fca7",
   "metadata": {},
   "source": [
    "<details>\n",
    "    <summary><b>Answer</b> (no peeking!)</summary>\n",
    "\n",
    "If $N$ were a single scalar, we would just compute the formula\n",
    "\n",
    "```python\n",
    "N = 10\n",
    "(N * (N - 1)) / 2\n",
    "```\n",
    "<br>\n",
    "\n",
    "In array-oriented computing, we can do the same thing with an array of values.\n",
    "\n",
    "```python\n",
    "tracks_in_each_event = ak.num(pMom)\n",
    "pairs_in_each_event = (tracks_in_each_event * (tracks_in_each_event - 1)) / 2\n",
    "np.mean(pairs_in_each_event)\n",
    "```\n",
    "<br>\n",
    "\n",
    "which is 3.5 million pairs _in each event._\n",
    "</details>"
   ]
  },
  {
   "cell_type": "markdown",
   "id": "f17fa9bb-5a59-4272-91c0-5e5439d5125e",
   "metadata": {},
   "source": [
    "### Selecting electrons\n",
    "\n",
    "Although we've created Lorentz vector objects of mass 0.000511 GeV, there's no guarantee that these tracks are electrons. In fact, many of them are not.\n",
    "\n",
    "A good discriminating property of electrons is that they deposit most of their energy in an electromagnetic calorimeter. If the $p_T$ measured via track curvature is approximately equal to the energy of a matched calorimeter tower, then there's a better chance they're electrons.\n",
    "\n",
    "In the C++ code ([star-picodst-W-reference-for-jim/macros/PicoDstAnalyzer.C](star-picodst-W-reference-for-jim/macros/PicoDstAnalyzer.C)), tracks are identified as having an electromagnetic shower match with\n",
    "\n",
    "```c++\n",
    "picoTrack->isBemcTrack()\n",
    "```\n",
    "\n",
    "and the matching shower is returned via\n",
    "\n",
    "```c++\n",
    "StPicoBEmcPidTraits *trait = dst->bemcPidTraits( picoTrack->bemcPidTraitsIndex() );\n",
    "```\n",
    "\n",
    "The The [star-picodst-W-reference-for-jim/StPicoTrack.h](star-picodst-W-reference-for-jim/StPicoTrack.h) defines these as\n",
    "\n",
    "```c++\n",
    "Bool_t isBemcTrack() const             { return (mBEmcPidTraitsIndex<0) ? false : true; }\n",
    "\n",
    "Int_t bemcPidTraitsIndex() const       { return mBEmcPidTraitsIndex; }\n",
    "\n",
    "static StPicoBEmcPidTraits* bemcPidTraits(Int_t i) { return (StPicoBEmcPidTraits*)picoArrays[StPicoArrays::BEmcPidTraits]->UncheckedAt(i); }\n",
    "```\n",
    "\n",
    "which we can find as branches in the TTree."
   ]
  },
  {
   "cell_type": "code",
   "execution_count": 77,
   "id": "80d5492a-61b0-444e-acf8-d2900ef2e3c8",
   "metadata": {},
   "outputs": [],
   "source": [
    "emc_index = picodst[\"Track.mBEmcPidTraitsIndex\"].array()\n",
    "emc_energy = picodst[\"EmcPidTraits.mBtowE\"].array()"
   ]
  },
  {
   "cell_type": "code",
   "execution_count": 78,
   "id": "2d2d2f5c-f419-4ba5-8445-f6b52041eab6",
   "metadata": {},
   "outputs": [
    {
     "data": {
      "text/plain": [
       "<Array [[-1, -1, -1, -1, ... -1, -1, -1, -1]] type='8004 * var * int16'>"
      ]
     },
     "execution_count": 78,
     "metadata": {},
     "output_type": "execute_result"
    }
   ],
   "source": [
    "emc_index"
   ]
  },
  {
   "cell_type": "code",
   "execution_count": 79,
   "id": "8794dc7b-2104-4ab7-a14e-be6f464711e9",
   "metadata": {},
   "outputs": [
    {
     "data": {
      "text/plain": [
       "<Array [[0, 0, 1705, 32767, ... 0, 360, 0]] type='8004 * var * int16'>"
      ]
     },
     "execution_count": 79,
     "metadata": {},
     "output_type": "execute_result"
    }
   ],
   "source": [
    "emc_energy"
   ]
  },
  {
   "cell_type": "markdown",
   "id": "7f8addc0-1ecc-4eec-958f-dd150a84e687",
   "metadata": {},
   "source": [
    "**Exercise 4:** Make an array with the same shape as `pMom` containing _true_ if the corresponding track has an electromagnetic calorimeter match and _false_ if it does not.\n",
    "\n",
    "It should have type ([ak.type](https://awkward-array.readthedocs.io/en/latest/_auto/ak.type.html))\n",
    "\n",
    "```\n",
    "8004 * var * bool\n",
    "```"
   ]
  },
  {
   "cell_type": "code",
   "execution_count": null,
   "id": "54654d9b-010a-429f-a555-a5a5d44f2d58",
   "metadata": {},
   "outputs": [],
   "source": [
    "isBemcTrack = ???"
   ]
  },
  {
   "cell_type": "markdown",
   "id": "250d11c5-52ed-414a-a65b-dede62770536",
   "metadata": {},
   "source": [
    "It should then be possible to compute"
   ]
  },
  {
   "cell_type": "code",
   "execution_count": 86,
   "id": "c87f07aa-2507-4f78-b60c-aca524a8f202",
   "metadata": {},
   "outputs": [],
   "source": [
    "pMom_isemc = pMom[isBemcTrack]\n",
    "emc_index_isemc = emc_index[isBemcTrack]"
   ]
  },
  {
   "cell_type": "markdown",
   "id": "f369a08a-be7a-4633-84ae-5e4e4d1c0010",
   "metadata": {},
   "source": [
    "and the average numbers of _selected_ tracks is much fewer."
   ]
  },
  {
   "cell_type": "code",
   "execution_count": 88,
   "id": "6d72eb6d-b420-492b-934a-1462264fc091",
   "metadata": {},
   "outputs": [
    {
     "data": {
      "text/plain": [
       "16.81984007996002"
      ]
     },
     "execution_count": 88,
     "metadata": {},
     "output_type": "execute_result"
    }
   ],
   "source": [
    "np.mean(ak.num(pMom_isemc))"
   ]
  },
  {
   "cell_type": "code",
   "execution_count": 89,
   "id": "d4592dfe-edb0-47e2-9365-fdbe489e50c4",
   "metadata": {},
   "outputs": [
    {
     "data": {
      "text/plain": [
       "16.81984007996002"
      ]
     },
     "execution_count": 89,
     "metadata": {},
     "output_type": "execute_result"
    }
   ],
   "source": [
    "np.mean(ak.num(emc_index_isemc))"
   ]
  },
  {
   "cell_type": "markdown",
   "id": "43daca7b-55ea-4e48-8082-8772ef701b1f",
   "metadata": {},
   "source": [
    "<details>\n",
    "    <summary><b>Answer</b> (no peeking!)</summary>\n",
    "\n",
    "Comparison operators, `<` and `>`, apply array-at-a-time, like anything else.\n",
    "\n",
    "```python\n",
    "isBemcTrack = (emc_index >= 0)\n",
    "```\n",
    "<br>\n",
    "\n",
    "Be sure to get the direction of the comparison right: in the C++ code, `mBEmcPidTraitsIndex<0` means `isBemcTrack` is _false_.\n",
    "</details>"
   ]
  },
  {
   "cell_type": "code",
   "execution_count": null,
   "id": "b03fbda9-c1d0-4edd-8d77-d3da6db0ba98",
   "metadata": {},
   "outputs": [],
   "source": []
  }
 ],
 "metadata": {
  "kernelspec": {
   "display_name": "Python 3 (ipykernel)",
   "language": "python",
   "name": "python3"
  },
  "language_info": {
   "codemirror_mode": {
    "name": "ipython",
    "version": 3
   },
   "file_extension": ".py",
   "mimetype": "text/x-python",
   "name": "python",
   "nbconvert_exporter": "python",
   "pygments_lexer": "ipython3",
   "version": "3.8.10"
  }
 },
 "nbformat": 4,
 "nbformat_minor": 5
}
