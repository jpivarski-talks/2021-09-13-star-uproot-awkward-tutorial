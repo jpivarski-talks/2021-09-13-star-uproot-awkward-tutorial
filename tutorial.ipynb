{
 "cells": [
  {
   "cell_type": "markdown",
   "id": "8fb1d877-4e75-47c7-8272-8950a6424e4c",
   "metadata": {
    "tags": []
   },
   "source": [
    "<img src=\"fig/scikit-hep-logo.svg\" style=\"height: 200px; margin-left: auto; margin-bottom: -75px\">\n",
    "\n",
    "# Scikit-HEP tutorial for the STAR collaboration"
   ]
  },
  {
   "cell_type": "markdown",
   "id": "362a427c-196f-47dd-a090-fe73455bda89",
   "metadata": {},
   "source": [
    "This notebook shows you how to do physics analysis in Python using Scikit-HEP tools: Uproot, Awkward Array, Vector, hist, etc., and it uses a STAR PicoDST file as an example. I presented this tutorial on Zoom on September 13, 2021 (see [STAR collaboration website](https://drupal.star.bnl.gov/STAR/meetings/star-collaboration-meeting-september-2021/juniors-day), if you have access). You can also find it on GitHub at [jpivarski-talks/2021-09-13-star-uproot-awkward-tutorial](https://github.com/jpivarski-talks/2021-09-13-star-uproot-awkward-tutorial).\n",
    "\n",
    "You can [run this notebook on Binder](https://mybinder.org/v2/gh/jpivarski-talks/2021-09-13-star-uproot-awkward-tutorial/HEAD?urlpath=lab/tree/tutorial.ipynb), which loads all of the package dependencies on Binder's servers; you don't have to install anything on your computer. But if you would like to run it on your computer, see the [requirements.txt](https://github.com/jpivarski-talks/2021-09-13-star-uproot-awkward-tutorial/blob/main/requirements.txt) file. This specifies exact versions of dependencies that are known to work for this notebook, though if you plan to use these packages later on, you'll want the latest versions of each.\n",
    "\n",
    "The first 5 sections are introductory, and the last contains exercises. In the live tutorial, we spent one hour on the introductory material and one hour in small groups, working on the exercises."
   ]
  },
  {
   "cell_type": "markdown",
   "id": "1a438bfd-a767-4d0b-bbc9-1175b4d34e43",
   "metadata": {
    "tags": []
   },
   "source": [
    "## 1. Python: interactively building up an analysis"
   ]
  },
  {
   "cell_type": "markdown",
   "id": "f0b53126-2a79-4978-9686-76ff68a87791",
   "metadata": {},
   "source": [
    "<img src=\"fig/python-logo.svg\" style=\"height: 150px\">"
   ]
  },
  {
   "cell_type": "markdown",
   "id": "74047f21-c923-4ddf-a4c1-0359b7f2fc3d",
   "metadata": {
    "jp-MarkdownHeadingCollapsed": true,
    "tags": []
   },
   "source": [
    "### Introduction: why Python?"
   ]
  },
  {
   "cell_type": "markdown",
   "id": "0cdc875d-f10c-471e-8611-0cd3beb64f19",
   "metadata": {},
   "source": [
    "**It's where the party's at.**\n",
    "\n",
    "I mean it: the best argument for Python is that there's a huge community of _people_ who can help you and _people_ developing infrastructure.\n",
    "\n",
    "You probably learned Python in a university course, and you'll probably use it a lot in your career.\n",
    "\n",
    "<br><br><br>"
   ]
  },
  {
   "cell_type": "markdown",
   "id": "d3663c3f-58d5-47cd-86b0-4f4de7a05cbd",
   "metadata": {},
   "source": [
    "**Python is especially popular for data analysis:**\n",
    "\n",
    "<img src=\"fig/analytics-by-language.svg\" width=\"800px\">\n",
    "\n",
    "See also Jake VanderPlas's [_Unexpected Effectiveness of Python in Science_](https://speakerdeck.com/jakevdp/the-unexpected-effectiveness-of-python-in-science) talk (2017).\n",
    "\n",
    "<br><br><br>"
   ]
  },
  {
   "cell_type": "markdown",
   "id": "842d8acc-1029-4ebe-89ba-72b6d150aca7",
   "metadata": {},
   "source": [
    "**Python is one of a large class of languages in which \"debugging mode is always on.\"**\n",
    "\n",
    "   * Except for bugs in external libraries (and very rare bugs in the language itself), you can't cause a segmentation fault or memory leak.\n",
    "   * Errors produce a stack trace _with line numbers_.\n",
    "   * You can print any object.\n",
    "   * Interactive debuggers are superfluous; the language itself is interactive (raise an exception at a break point that exports variables).\n",
    "   * Although long-running programs are slow, it _starts up_ quickly, minimizing the debug cycle.\n",
    "\n",
    "C++ is not one of these languages.\n",
    "\n",
    "<br><br><br>"
   ]
  },
  {
   "cell_type": "markdown",
   "id": "6c73864e-c0f2-40f9-8e6f-15c844a55818",
   "metadata": {},
   "source": [
    "**\"Always debugging\" has a cost: performance.**\n",
    "\n",
    "Most of Python's design choices prevent fast computation:\n",
    "\n",
    "   * runtime type checking\n",
    "   * garbage collection\n",
    "   * boxing numbers as objects\n",
    "   * no value types or move semantics at all (all Python references are \"pointer chasing\")\n",
    "   * virtual machine indirection\n",
    "   * Global Interpreter Lock (GIL) prevents threads from running in parallel\n",
    "\n",
    "_(Maybe not a necessary cost: [Julia](https://julialang.org/) might be exempt, but Julia is not popular—yet.)_\n",
    "\n",
    "<br><br><br>"
   ]
  },
  {
   "cell_type": "markdown",
   "id": "e2af7e9c-e68c-4a30-9a08-e7eb7d32fa3b",
   "metadata": {},
   "source": [
    "**And yet, scientists with big datasets have made Python their home.**\n",
    "\n",
    "This was only possible because an ecosystem grew around _arrays_ and _array-oriented programming._\n",
    "\n",
    "<img src=\"fig/harris-array-programming-nature.png\" width=\"800px\">\n",
    "\n",
    "From Harris, C.R., Millman, K.J., van der Walt, S.J. _et al._ Array programming with NumPy. _Nature_ **585,** 357–362 (2020).\n",
    "<br>\n",
    "https://doi.org/10.1038/s41586-020-2649-2\n",
    "\n",
    "<br><br><br>"
   ]
  },
  {
   "cell_type": "markdown",
   "id": "49582256-32c4-4e13-8acd-d8075eed93be",
   "metadata": {},
   "source": [
    "**Array-oriented programming is also the paradigm of GPU programming.**\n",
    "\n",
    "The slowness of Python might have pushed us toward it, but dividing your work into\n",
    "\n",
    "  * complex bookkeeping that doesn't need to be fast and\n",
    "  * a mathematical formula to compute on billions of data points\n",
    "\n",
    "is also the right way to massively parallelize.\n",
    "\n",
    "<br><br><br>"
   ]
  },
  {
   "cell_type": "markdown",
   "id": "3d14d8c9-d35a-4db2-bdce-736859a4b664",
   "metadata": {
    "jp-MarkdownHeadingCollapsed": true,
    "tags": []
   },
   "source": [
    "### What is Scikit-HEP?"
   ]
  },
  {
   "cell_type": "markdown",
   "id": "ca97cc07-cf2d-46d8-ac1f-d6aa8bdd2b0b",
   "metadata": {},
   "source": [
    "[Scikit-HEP](https://scikit-hep.org/) is a collection of Python packages for array-oriented data analysis in particle physics.\n",
    "\n",
    "(I know, \"High Energy\" does not describe all of Particle Physics, but Scikit-PP was a worse name.)\n",
    "\n",
    "The goal of this umbrella organization is to make sure that these packages\n",
    "\n",
    "  * work well together\n",
    "  * work well with the Python ecosystem (NumPy, Pandas, Matplotlib, ...) and the traditional HEP ecosystem (ROOT, formats, generators, ...)\n",
    "  * are packaged well and designed well, to minimize physicist frustration!\n",
    "\n",
    "I'm the author of Uproot and Awkward Array, so I'll have the most to say about these.\n",
    "\n",
    "But the context is that they works with a suite of other libraries.\n",
    "\n",
    "<br><br><br>"
   ]
  },
  {
   "cell_type": "markdown",
   "id": "6129a483-8eac-4b20-b7e4-a23b74ff7ef4",
   "metadata": {
    "jp-MarkdownHeadingCollapsed": true,
    "tags": []
   },
   "source": [
    "### Python language features that we'll be using"
   ]
  },
  {
   "cell_type": "markdown",
   "id": "bb90653d-5d58-4f95-844b-8788106b84be",
   "metadata": {},
   "source": [
    "We don't have time for an intro course, but many exist.\n",
    "\n",
    "<br><br><br>"
   ]
  },
  {
   "cell_type": "markdown",
   "id": "bed44019-1062-4046-9a21-951ad58422cd",
   "metadata": {},
   "source": [
    "The basic control structures:"
   ]
  },
  {
   "cell_type": "code",
   "execution_count": 1,
   "id": "07dab2f6-01db-494e-b9fe-d2eeb276bb74",
   "metadata": {},
   "outputs": [],
   "source": [
    "x = 5"
   ]
  },
  {
   "cell_type": "code",
   "execution_count": 2,
   "id": "6f6def36-a4e9-4893-9a45-f4afd7b2da3b",
   "metadata": {},
   "outputs": [
    {
     "name": "stdout",
     "output_type": "stream",
     "text": [
      "big\n"
     ]
    }
   ],
   "source": [
    "if x < 5:\n",
    "    print(\"small\")\n",
    "else:\n",
    "    print(\"big\")"
   ]
  },
  {
   "cell_type": "code",
   "execution_count": 3,
   "id": "44222b5d-a36d-4812-b15a-885cd64d8ca1",
   "metadata": {},
   "outputs": [
    {
     "name": "stdout",
     "output_type": "stream",
     "text": [
      "0\n",
      "1\n",
      "2\n",
      "3\n",
      "4\n"
     ]
    }
   ],
   "source": [
    "for i in range(x):\n",
    "    print(i)"
   ]
  },
  {
   "cell_type": "markdown",
   "id": "cf2c8a91-3579-4002-94c4-7dadad7deb52",
   "metadata": {},
   "source": [
    "are less relevant for this tutorial because these are what we avoid when working with large arrays.\n",
    "\n",
    "<br><br><br>"
   ]
  },
  {
   "cell_type": "markdown",
   "id": "50c5a6c5-1a0e-4859-bb74-dafeef912ad2",
   "metadata": {},
   "source": [
    "We will be focusing on operations like\n",
    "\n",
    "```python\n",
    "import compiled_library\n",
    "\n",
    "compiled_library.do_computationally_expensive_thing(big_array)\n",
    "```\n",
    "\n",
    "because array-oriented Python is about separating small scale, complex bookkeeping (with `if` and `for`) from large-scale processing in compiled libraries.\n",
    "\n",
    "<br><br><br>"
   ]
  },
  {
   "cell_type": "markdown",
   "id": "3c775766-099a-4752-9310-c90a88acdcbc",
   "metadata": {},
   "source": [
    "The trick is for the Python-side code to be expressive enough and the compiled code to be general enough that you don't need a new `compiled_library` for every little thing.\n",
    "\n",
    "<br><br><br>"
   ]
  },
  {
   "cell_type": "markdown",
   "id": "fa60ea83-8007-4464-81e3-b966f50925e9",
   "metadata": {},
   "source": [
    "Much of this expressivity grew up around Python's syntax for slicing lists:"
   ]
  },
  {
   "cell_type": "code",
   "execution_count": 4,
   "id": "3e80c441-e8e9-49d7-9237-e5c72a422970",
   "metadata": {},
   "outputs": [],
   "source": [
    "some_list = [0.0, 1.1, 2.2, 3.3, 4.4, 5.5, 6.6, 7.7, 8.8, 9.9]"
   ]
  },
  {
   "cell_type": "markdown",
   "id": "4226c3eb-8136-4565-9b85-908f6d0d23df",
   "metadata": {},
   "source": [
    "Single-element access is like C (counting starts at zero):"
   ]
  },
  {
   "cell_type": "code",
   "execution_count": 5,
   "id": "ae8f23b6-d2e4-4f64-8ca5-ac9914fc4ca9",
   "metadata": {},
   "outputs": [
    {
     "data": {
      "text/plain": [
       "0.0"
      ]
     },
     "execution_count": 5,
     "metadata": {},
     "output_type": "execute_result"
    }
   ],
   "source": [
    "some_list[0]"
   ]
  },
  {
   "cell_type": "code",
   "execution_count": 7,
   "id": "66a18e7d-369c-41bd-b5db-dacca303d995",
   "metadata": {},
   "outputs": [
    {
     "data": {
      "text/plain": [
       "4.4"
      ]
     },
     "execution_count": 7,
     "metadata": {},
     "output_type": "execute_result"
    }
   ],
   "source": [
    "some_list[4]"
   ]
  },
  {
   "cell_type": "markdown",
   "id": "54114f0d-2517-469f-a8e3-5e5aaf995d0b",
   "metadata": {},
   "source": [
    "Except when the index is negative; then it counts from the end of the list."
   ]
  },
  {
   "cell_type": "code",
   "execution_count": 8,
   "id": "138444d4-ef1a-4478-9338-6d696fbf5c4b",
   "metadata": {},
   "outputs": [
    {
     "data": {
      "text/plain": [
       "9.9"
      ]
     },
     "execution_count": 8,
     "metadata": {},
     "output_type": "execute_result"
    }
   ],
   "source": [
    "some_list[-1]"
   ]
  },
  {
   "cell_type": "code",
   "execution_count": 9,
   "id": "dc0dbc2b-b751-4fee-ba0a-1fd687df1624",
   "metadata": {},
   "outputs": [
    {
     "data": {
      "text/plain": [
       "8.8"
      ]
     },
     "execution_count": 9,
     "metadata": {},
     "output_type": "execute_result"
    }
   ],
   "source": [
    "some_list[-2]"
   ]
  },
  {
   "cell_type": "markdown",
   "id": "7a51cab6-518c-450d-8514-ba92ba338150",
   "metadata": {},
   "source": [
    "Running off the end of a list is an exception, not a segmentation fault or data corruption."
   ]
  },
  {
   "cell_type": "code",
   "execution_count": 10,
   "id": "079c02ef-3b95-4b53-8b7a-2d587bc42fd6",
   "metadata": {},
   "outputs": [
    {
     "ename": "IndexError",
     "evalue": "list index out of range",
     "output_type": "error",
     "traceback": [
      "\u001b[0;31m---------------------------------------------------------------------------\u001b[0m",
      "\u001b[0;31mIndexError\u001b[0m                                Traceback (most recent call last)",
      "\u001b[0;32m/tmp/ipykernel_13488/2506423034.py\u001b[0m in \u001b[0;36m<module>\u001b[0;34m\u001b[0m\n\u001b[0;32m----> 1\u001b[0;31m \u001b[0msome_list\u001b[0m\u001b[0;34m[\u001b[0m\u001b[0;36m10\u001b[0m\u001b[0;34m]\u001b[0m\u001b[0;34m\u001b[0m\u001b[0;34m\u001b[0m\u001b[0m\n\u001b[0m",
      "\u001b[0;31mIndexError\u001b[0m: list index out of range"
     ]
    }
   ],
   "source": [
    "some_list[10]"
   ]
  },
  {
   "cell_type": "code",
   "execution_count": 11,
   "id": "467469ac-41a4-4b01-9a6a-3073c508f846",
   "metadata": {},
   "outputs": [
    {
     "ename": "IndexError",
     "evalue": "list index out of range",
     "output_type": "error",
     "traceback": [
      "\u001b[0;31m---------------------------------------------------------------------------\u001b[0m",
      "\u001b[0;31mIndexError\u001b[0m                                Traceback (most recent call last)",
      "\u001b[0;32m/tmp/ipykernel_13488/3634137262.py\u001b[0m in \u001b[0;36m<module>\u001b[0;34m\u001b[0m\n\u001b[0;32m----> 1\u001b[0;31m \u001b[0msome_list\u001b[0m\u001b[0;34m[\u001b[0m\u001b[0;34m-\u001b[0m\u001b[0;36m11\u001b[0m\u001b[0;34m]\u001b[0m\u001b[0;34m\u001b[0m\u001b[0;34m\u001b[0m\u001b[0m\n\u001b[0m",
      "\u001b[0;31mIndexError\u001b[0m: list index out of range"
     ]
    }
   ],
   "source": [
    "some_list[-11]"
   ]
  },
  {
   "cell_type": "markdown",
   "id": "9e1d665d-9ec1-4453-b5a1-9410e5a3eed4",
   "metadata": {},
   "source": [
    "With a colon (`:`), you can also select ranges. The _start_ of each range is included; the _stop_ is excluded."
   ]
  },
  {
   "cell_type": "code",
   "execution_count": 12,
   "id": "f4c64b69-142c-4b82-909a-38bee0e60539",
   "metadata": {},
   "outputs": [
    {
     "data": {
      "text/plain": [
       "[2.2, 3.3, 4.4, 5.5, 6.6]"
      ]
     },
     "execution_count": 12,
     "metadata": {},
     "output_type": "execute_result"
    }
   ],
   "source": [
    "some_list[2:7]"
   ]
  },
  {
   "cell_type": "code",
   "execution_count": 15,
   "id": "53929c47-d5ce-40db-88cc-1741bbc7f1c7",
   "metadata": {},
   "outputs": [
    {
     "data": {
      "text/plain": [
       "[4.4, 5.5, 6.6, 7.7, 8.8, 9.9]"
      ]
     },
     "execution_count": 15,
     "metadata": {},
     "output_type": "execute_result"
    }
   ],
   "source": [
    "some_list[-6:]"
   ]
  },
  {
   "cell_type": "markdown",
   "id": "25f619c0-890b-4a7a-b01e-f02784ba0adc",
   "metadata": {},
   "source": [
    "Out-of-bounds ranges don't cause exceptions; they get clipped."
   ]
  },
  {
   "cell_type": "code",
   "execution_count": 16,
   "id": "ab2dc7c4-b1de-42f4-a6fd-ecd09612c026",
   "metadata": {},
   "outputs": [
    {
     "data": {
      "text/plain": [
       "[8.8, 9.9]"
      ]
     },
     "execution_count": 16,
     "metadata": {},
     "output_type": "execute_result"
    }
   ],
   "source": [
    "some_list[8:100]"
   ]
  },
  {
   "cell_type": "code",
   "execution_count": 19,
   "id": "b9bbe95b-f08d-4bf5-97cd-bd7f7447e39b",
   "metadata": {},
   "outputs": [
    {
     "data": {
      "text/plain": [
       "[]"
      ]
     },
     "execution_count": 19,
     "metadata": {},
     "output_type": "execute_result"
    }
   ],
   "source": [
    "some_list[-1000:-500]"
   ]
  },
  {
   "cell_type": "markdown",
   "id": "70056dcf-dd7d-48f2-ba8c-cd45818b1828",
   "metadata": {},
   "source": [
    "Slices have a third argument for how many elements to skip between each step."
   ]
  },
  {
   "cell_type": "code",
   "execution_count": 23,
   "id": "666cc9b5-162e-49b8-bec7-c0d13a4dc28b",
   "metadata": {},
   "outputs": [
    {
     "data": {
      "text/plain": [
       "[1.1, 3.3, 5.5, 7.7, 9.9]"
      ]
     },
     "execution_count": 23,
     "metadata": {},
     "output_type": "execute_result"
    }
   ],
   "source": [
    "some_list[1:10:2]"
   ]
  },
  {
   "cell_type": "code",
   "execution_count": 22,
   "id": "171c6bb4-e9c3-43ca-8b2f-cb31e8a1c49d",
   "metadata": {},
   "outputs": [
    {
     "data": {
      "text/plain": [
       "[0.0, 2.2, 4.4, 6.6, 8.8]"
      ]
     },
     "execution_count": 22,
     "metadata": {},
     "output_type": "execute_result"
    }
   ],
   "source": [
    "some_list[::2]"
   ]
  },
  {
   "cell_type": "markdown",
   "id": "164f5ae4-7328-4398-ae1f-66b5ee104a95",
   "metadata": {},
   "source": [
    "This _step_ is not as useful as the _start_ and _stop_, but you can always reverse a list:"
   ]
  },
  {
   "cell_type": "code",
   "execution_count": 24,
   "id": "19a91ed2-665a-4499-a9a0-e51b99fb86ec",
   "metadata": {},
   "outputs": [
    {
     "data": {
      "text/plain": [
       "[9.9, 8.8, 7.7, 6.6, 5.5, 4.4, 3.3, 2.2, 1.1, 0.0]"
      ]
     },
     "execution_count": 24,
     "metadata": {},
     "output_type": "execute_result"
    }
   ],
   "source": [
    "some_list[::-1]"
   ]
  },
  {
   "cell_type": "markdown",
   "id": "ba39c9dc-c4f3-492a-970e-bbbb5f3ac8a9",
   "metadata": {},
   "source": [
    "The _start_, _stop_, and _step_ are exactly the arguments of `range`:"
   ]
  },
  {
   "cell_type": "code",
   "execution_count": 32,
   "id": "88177f3b-27c9-4297-8737-79db0c2f37ac",
   "metadata": {},
   "outputs": [
    {
     "name": "stdout",
     "output_type": "stream",
     "text": [
      "1\n",
      "4\n",
      "7\n"
     ]
    }
   ],
   "source": [
    "for i in range(1, 9, 3):\n",
    "    print(i)"
   ]
  },
  {
   "cell_type": "code",
   "execution_count": 31,
   "id": "7e2463c6-110c-4e9b-9f24-c9f9fd84d509",
   "metadata": {},
   "outputs": [
    {
     "data": {
      "text/plain": [
       "[1.1, 4.4, 7.7]"
      ]
     },
     "execution_count": 31,
     "metadata": {},
     "output_type": "execute_result"
    }
   ],
   "source": [
    "some_list[1:9:3]"
   ]
  },
  {
   "cell_type": "markdown",
   "id": "fdc6196c-9c45-4d12-8bc1-8738721f0024",
   "metadata": {},
   "source": [
    "<br><br><br>\n",
    "\n",
    "In Python, \"dicts\" (mappings, like `std::map`) are just as important as lists (like `std::vector`).\n",
    "\n",
    "They use the square-bracket syntax in a different way:"
   ]
  },
  {
   "cell_type": "code",
   "execution_count": 33,
   "id": "3b1676c8-a86a-4756-afdb-52b459f3a77b",
   "metadata": {},
   "outputs": [],
   "source": [
    "some_dict = {\"one\": 1, \"two\": 2, \"three\": 3, \"four\": 4, \"five\": 5}"
   ]
  },
  {
   "cell_type": "code",
   "execution_count": 34,
   "id": "6f493fbe-7773-4f4a-99ca-d0e252d40203",
   "metadata": {},
   "outputs": [
    {
     "data": {
      "text/plain": [
       "2"
      ]
     },
     "execution_count": 34,
     "metadata": {},
     "output_type": "execute_result"
    }
   ],
   "source": [
    "some_dict[\"two\"]"
   ]
  },
  {
   "cell_type": "code",
   "execution_count": 35,
   "id": "42588edd-e594-4e88-b362-dd843152ab34",
   "metadata": {},
   "outputs": [
    {
     "ename": "KeyError",
     "evalue": "'not in dict'",
     "output_type": "error",
     "traceback": [
      "\u001b[0;31m---------------------------------------------------------------------------\u001b[0m",
      "\u001b[0;31mKeyError\u001b[0m                                  Traceback (most recent call last)",
      "\u001b[0;32m/tmp/ipykernel_13488/3562471464.py\u001b[0m in \u001b[0;36m<module>\u001b[0;34m\u001b[0m\n\u001b[0;32m----> 1\u001b[0;31m \u001b[0msome_dict\u001b[0m\u001b[0;34m[\u001b[0m\u001b[0;34m\"not in dict\"\u001b[0m\u001b[0;34m]\u001b[0m\u001b[0;34m\u001b[0m\u001b[0;34m\u001b[0m\u001b[0m\n\u001b[0m",
      "\u001b[0;31mKeyError\u001b[0m: 'not in dict'"
     ]
    }
   ],
   "source": [
    "some_dict[\"not in dict\"]"
   ]
  },
  {
   "cell_type": "markdown",
   "id": "dea65558-9ab1-44cb-a65e-4ec7a3f706fa",
   "metadata": {},
   "source": [
    "<br><br><br>\n",
    "\n",
    "Apart from function calls, arithmetic, variables and assignment—which are the same in all mainstream languages—slicing is the only language feature we need for NumPy.\n",
    "\n",
    "<br><br><br>"
   ]
  },
  {
   "cell_type": "markdown",
   "id": "2764f556-cbaf-4629-ac50-0eb78b58ea99",
   "metadata": {
    "tags": []
   },
   "source": [
    "## 2. NumPy: thinking one array at a time"
   ]
  },
  {
   "cell_type": "markdown",
   "id": "3838bb05-86a9-4616-8afe-16650e34dd21",
   "metadata": {},
   "source": [
    "<img src=\"fig/numpy-logo.svg\" style=\"height: 150px\">"
   ]
  },
  {
   "cell_type": "markdown",
   "id": "cb0b5dd5-8946-43dd-9549-80e528ec8e51",
   "metadata": {
    "tags": []
   },
   "source": [
    "### Introduction"
   ]
  },
  {
   "cell_type": "markdown",
   "id": "d420f8bf-0ecd-4223-919d-2a9c8e03ab4b",
   "metadata": {},
   "source": [
    "NumPy is a Python library consisting of one major data type, `np.ndarray`, and a suite of functions to manipulate objects of that type.\n",
    "\n",
    "<br><br><br>\n",
    "\n",
    "<img src=\"fig/Numpy_Python_Cheat_Sheet.svg\" width=\"100%\">\n",
    "\n",
    "<br><br><br>"
   ]
  },
  {
   "cell_type": "markdown",
   "id": "07c56ce3-712d-4097-80b1-57467973fbef",
   "metadata": {},
   "source": [
    "This is \"array-oriented.\" In each step, you decide what to do to _all values in a large dataset_.\n",
    "\n",
    "There is a tradition of languages built around this paradigm. Most of them have been for interactive data processing. NumPy is unusual in that it's a library.\n",
    "\n",
    "<img src=\"fig/apl-timeline.svg\" width=\"800px\">\n",
    "\n",
    "<br><br><br>"
   ]
  },
  {
   "cell_type": "markdown",
   "id": "e6247ea3-9652-452c-931e-6b14a4e051de",
   "metadata": {
    "tags": []
   },
   "source": [
    "### Slicing in NumPy"
   ]
  },
  {
   "cell_type": "markdown",
   "id": "e2bbfea2-0e08-4b9d-b23a-476e1b0cab22",
   "metadata": {},
   "source": [
    "NumPy has the same slicing syntax for arrays as Python has for lists."
   ]
  },
  {
   "cell_type": "code",
   "execution_count": 36,
   "id": "16f0f734-78cc-4b42-8418-c686688a70b6",
   "metadata": {},
   "outputs": [],
   "source": [
    "import numpy as np"
   ]
  },
  {
   "cell_type": "code",
   "execution_count": 37,
   "id": "aa1dfd4d-8050-4fa2-bb78-2e4e4e93f361",
   "metadata": {},
   "outputs": [],
   "source": [
    "some_array = np.array([0.0, 1.1, 2.2, 3.3, 4.4, 5.5, 6.6, 7.7, 8.8, 9.9])"
   ]
  },
  {
   "cell_type": "code",
   "execution_count": 38,
   "id": "d9be84b8-231f-4861-bd3d-27e0732f795b",
   "metadata": {},
   "outputs": [
    {
     "data": {
      "text/plain": [
       "3.3"
      ]
     },
     "execution_count": 38,
     "metadata": {},
     "output_type": "execute_result"
    }
   ],
   "source": [
    "some_array[3]"
   ]
  },
  {
   "cell_type": "code",
   "execution_count": 39,
   "id": "1910f858-d90a-48fb-9294-855510414c6a",
   "metadata": {},
   "outputs": [
    {
     "data": {
      "text/plain": [
       "8.8"
      ]
     },
     "execution_count": 39,
     "metadata": {},
     "output_type": "execute_result"
    }
   ],
   "source": [
    "some_array[-2]"
   ]
  },
  {
   "cell_type": "code",
   "execution_count": 41,
   "id": "fb5270eb-4c3b-49a2-b9cf-a48ebdf84dd5",
   "metadata": {},
   "outputs": [
    {
     "data": {
      "text/plain": [
       "array([7.7, 6.6, 5.5, 4.4, 3.3, 2.2, 1.1, 0. ])"
      ]
     },
     "execution_count": 41,
     "metadata": {},
     "output_type": "execute_result"
    }
   ],
   "source": [
    "some_array[-3::-1]"
   ]
  },
  {
   "cell_type": "markdown",
   "id": "e2d84b58-4391-4348-8957-dd4ac0c99156",
   "metadata": {},
   "source": [
    "But NumPy slices can operate on multiple dimensions."
   ]
  },
  {
   "cell_type": "code",
   "execution_count": 42,
   "id": "a8c807d2-2c4c-4565-9321-f1023fc3ea2e",
   "metadata": {},
   "outputs": [
    {
     "data": {
      "text/plain": [
       "array([[[ 0,  1,  2,  3,  4],\n",
       "        [ 5,  6,  7,  8,  9],\n",
       "        [10, 11, 12, 13, 14]],\n",
       "\n",
       "       [[15, 16, 17, 18, 19],\n",
       "        [20, 21, 22, 23, 24],\n",
       "        [25, 26, 27, 28, 29]]])"
      ]
     },
     "execution_count": 42,
     "metadata": {},
     "output_type": "execute_result"
    }
   ],
   "source": [
    "array3d = np.arange(2*3*5).reshape(2, 3, 5)\n",
    "array3d"
   ]
  },
  {
   "cell_type": "code",
   "execution_count": 44,
   "id": "2ea5cf41-6ec3-458f-9015-3c40e9b1a365",
   "metadata": {},
   "outputs": [
    {
     "data": {
      "text/plain": [
       "array([[[21, 22, 23, 24],\n",
       "        [26, 27, 28, 29]]])"
      ]
     },
     "execution_count": 44,
     "metadata": {},
     "output_type": "execute_result"
    }
   ],
   "source": [
    "array3d[1:, 1:, 1:]"
   ]
  },
  {
   "cell_type": "markdown",
   "id": "1473f7a7-1b6c-4629-9046-04fd398021ca",
   "metadata": {},
   "source": [
    "Python lists _do not_ do this."
   ]
  },
  {
   "cell_type": "code",
   "execution_count": 45,
   "id": "15d50b03-08c8-43ad-a723-aa119c6756ff",
   "metadata": {},
   "outputs": [
    {
     "data": {
      "text/plain": [
       "[[[0, 1, 2, 3, 4], [5, 6, 7, 8, 9], [10, 11, 12, 13, 14]],\n",
       " [[15, 16, 17, 18, 19], [20, 21, 22, 23, 24], [25, 26, 27, 28, 29]]]"
      ]
     },
     "execution_count": 45,
     "metadata": {},
     "output_type": "execute_result"
    }
   ],
   "source": [
    "list3d = array3d.tolist()\n",
    "list3d"
   ]
  },
  {
   "cell_type": "code",
   "execution_count": 46,
   "id": "9c539407-6402-419a-802d-4b3d71df9b05",
   "metadata": {},
   "outputs": [
    {
     "ename": "TypeError",
     "evalue": "list indices must be integers or slices, not tuple",
     "output_type": "error",
     "traceback": [
      "\u001b[0;31m---------------------------------------------------------------------------\u001b[0m",
      "\u001b[0;31mTypeError\u001b[0m                                 Traceback (most recent call last)",
      "\u001b[0;32m/tmp/ipykernel_13488/240775027.py\u001b[0m in \u001b[0;36m<module>\u001b[0;34m\u001b[0m\n\u001b[0;32m----> 1\u001b[0;31m \u001b[0mlist3d\u001b[0m\u001b[0;34m[\u001b[0m\u001b[0;36m1\u001b[0m\u001b[0;34m:\u001b[0m\u001b[0;34m,\u001b[0m \u001b[0;36m1\u001b[0m\u001b[0;34m:\u001b[0m\u001b[0;34m,\u001b[0m \u001b[0;36m1\u001b[0m\u001b[0;34m:\u001b[0m\u001b[0;34m]\u001b[0m\u001b[0;34m\u001b[0m\u001b[0;34m\u001b[0m\u001b[0m\n\u001b[0m",
      "\u001b[0;31mTypeError\u001b[0m: list indices must be integers or slices, not tuple"
     ]
    }
   ],
   "source": [
    "list3d[1:, 1:, 1:]"
   ]
  },
  {
   "cell_type": "markdown",
   "id": "ecba67c4-07ac-4774-ac2b-436f7981e806",
   "metadata": {},
   "source": [
    "NumPy slices can have mixed types:"
   ]
  },
  {
   "cell_type": "code",
   "execution_count": 48,
   "id": "848222c9-6060-4a65-9073-5ba195f15e86",
   "metadata": {},
   "outputs": [
    {
     "data": {
      "text/plain": [
       "array([14, 29])"
      ]
     },
     "execution_count": 48,
     "metadata": {},
     "output_type": "execute_result"
    }
   ],
   "source": [
    "array3d[:, -1, -1]"
   ]
  },
  {
   "cell_type": "markdown",
   "id": "d24aa6ba-2512-45b1-8c31-da0541d2d03c",
   "metadata": {},
   "source": [
    "<img src=\"fig/numpy-slicing.png\" width=\"400px\">"
   ]
  },
  {
   "cell_type": "markdown",
   "id": "23898a47-84c2-4ebe-b200-f1d49384621a",
   "metadata": {},
   "source": [
    "Most importantly, NumPy slices can also be arrays."
   ]
  },
  {
   "cell_type": "code",
   "execution_count": 52,
   "id": "394cdb47-7cb5-4231-ab02-e2d3fcad2522",
   "metadata": {},
   "outputs": [
    {
     "data": {
      "text/plain": [
       "array([0. , 1.1, 2.2, 3.3, 4.4, 6.6, 8.8])"
      ]
     },
     "execution_count": 52,
     "metadata": {},
     "output_type": "execute_result"
    }
   ],
   "source": [
    "some_array    = np.array([ 0.0,  1.1,  2.2,  3.3,  4.4,   5.5,  6.6,   7.7,  8.8,   9.9])\n",
    "boolean_slice = np.array([True, True, True, True, True, False, True, False, True, False])\n",
    "\n",
    "some_array[boolean_slice]"
   ]
  },
  {
   "cell_type": "code",
   "execution_count": 53,
   "id": "9968ebd4-1cb1-4dc9-9a6f-b35f775f3493",
   "metadata": {},
   "outputs": [
    {
     "data": {
      "text/plain": [
       "array([4.4, 2.2, 2.2, 0. , 9.9, 8.8, 3.3])"
      ]
     },
     "execution_count": 53,
     "metadata": {},
     "output_type": "execute_result"
    }
   ],
   "source": [
    "integer_slice = np.array([4, 2, 2, 0, 9, 8, 3])\n",
    "\n",
    "some_array[integer_slice]"
   ]
  },
  {
   "cell_type": "code",
   "execution_count": 65,
   "id": "abfebae2-5394-45ec-b639-9879ef1d0a31",
   "metadata": {},
   "outputs": [
    {
     "data": {
      "text/plain": [
       "array([9.9, 5.5, 1.1, 3.3, 0. , 2.2, 6.6, 7.7, 4.4, 8.8])"
      ]
     },
     "execution_count": 65,
     "metadata": {},
     "output_type": "execute_result"
    }
   ],
   "source": [
    "some_array[np.random.permutation(10)]"
   ]
  },
  {
   "cell_type": "markdown",
   "id": "5756bacf-09f3-42ca-80d2-69d7266e9da7",
   "metadata": {
    "tags": []
   },
   "source": [
    "#### **Application:** A boolean-array slice is what we like to call a cut!"
   ]
  },
  {
   "cell_type": "code",
   "execution_count": 66,
   "id": "81069f8a-b4a4-4625-9760-8b88c8c47b38",
   "metadata": {},
   "outputs": [
    {
     "data": {
      "text/plain": [
       "array([[ 1.38225178e+00, -8.96696963e-01],\n",
       "       [-1.13256196e+00,  1.65434620e-03],\n",
       "       [ 3.63877921e-01, -1.94022450e-01],\n",
       "       ...,\n",
       "       [-3.46762068e-01, -1.68737659e+00],\n",
       "       [-5.64829894e-01,  1.79751388e+00],\n",
       "       [-1.07250847e+00, -3.12263700e+00]])"
      ]
     },
     "execution_count": 66,
     "metadata": {},
     "output_type": "execute_result"
    }
   ],
   "source": [
    "primary_vertexes = np.random.normal(0, 1, (1000000, 2))\n",
    "primary_vertexes"
   ]
  },
  {
   "cell_type": "code",
   "execution_count": 72,
   "id": "6b715349-2093-430a-9331-3638d32db74b",
   "metadata": {},
   "outputs": [
    {
     "data": {
      "text/plain": [
       "1000000"
      ]
     },
     "execution_count": 72,
     "metadata": {},
     "output_type": "execute_result"
    }
   ],
   "source": [
    "len(primary_vertexes)"
   ]
  },
  {
   "cell_type": "code",
   "execution_count": 70,
   "id": "f9eda615-f4b8-4d23-bd84-62f14b3958aa",
   "metadata": {},
   "outputs": [
    {
     "data": {
      "text/plain": [
       "array([ True,  True,  True, ...,  True, False,  True])"
      ]
     },
     "execution_count": 70,
     "metadata": {},
     "output_type": "execute_result"
    }
   ],
   "source": [
    "trigger_decision = np.random.randint(0, 2, 1000000, dtype=np.bool_)\n",
    "trigger_decision"
   ]
  },
  {
   "cell_type": "code",
   "execution_count": 71,
   "id": "ef4f5ebe-f6ad-426f-9ddf-d9ca046dbb73",
   "metadata": {},
   "outputs": [
    {
     "data": {
      "text/plain": [
       "array([[ 1.38225178e+00, -8.96696963e-01],\n",
       "       [-1.13256196e+00,  1.65434620e-03],\n",
       "       [ 3.63877921e-01, -1.94022450e-01],\n",
       "       ...,\n",
       "       [-1.03864615e+00, -1.12404639e+00],\n",
       "       [-3.46762068e-01, -1.68737659e+00],\n",
       "       [-1.07250847e+00, -3.12263700e+00]])"
      ]
     },
     "execution_count": 71,
     "metadata": {},
     "output_type": "execute_result"
    }
   ],
   "source": [
    "primary_vertexes[trigger_decision]"
   ]
  },
  {
   "cell_type": "code",
   "execution_count": 73,
   "id": "84a4cff5-3e62-4d28-81c5-e3e1eeec5156",
   "metadata": {},
   "outputs": [
    {
     "data": {
      "text/plain": [
       "500027"
      ]
     },
     "execution_count": 73,
     "metadata": {},
     "output_type": "execute_result"
    }
   ],
   "source": [
    "len(primary_vertexes[trigger_decision])"
   ]
  },
  {
   "cell_type": "markdown",
   "id": "e2afedf8-5410-48ef-ae64-2feec2a90e26",
   "metadata": {
    "tags": []
   },
   "source": [
    "#### **Observation:** An integer-array slice is more general than a boolean-array slice."
   ]
  },
  {
   "cell_type": "code",
   "execution_count": null,
   "id": "f199f084-7029-4fc4-a8d0-9ce654c5d5d4",
   "metadata": {},
   "outputs": [
    {
     "data": {
      "text/plain": [
       "array([     0,      1,      2, ..., 999996, 999997, 999999])"
      ]
     },
     "execution_count": 74,
     "metadata": {},
     "output_type": "execute_result"
    }
   ],
   "source": [
    "indexes_that_pass_trigger = np.nonzero(trigger_decision)[0]\n",
    "indexes_that_pass_trigger"
   ]
  },
  {
   "cell_type": "code",
   "execution_count": null,
   "id": "31f84554-cb47-4f6d-b8a6-02e5ca4b9ee6",
   "metadata": {},
   "outputs": [
    {
     "data": {
      "text/plain": [
       "array([[ 1.38225178e+00, -8.96696963e-01],\n",
       "       [-1.13256196e+00,  1.65434620e-03],\n",
       "       [ 3.63877921e-01, -1.94022450e-01],\n",
       "       ...,\n",
       "       [-1.03864615e+00, -1.12404639e+00],\n",
       "       [-3.46762068e-01, -1.68737659e+00],\n",
       "       [-1.07250847e+00, -3.12263700e+00]])"
      ]
     },
     "execution_count": 75,
     "metadata": {},
     "output_type": "execute_result"
    }
   ],
   "source": [
    "primary_vertexes[indexes_that_pass_trigger]"
   ]
  },
  {
   "cell_type": "code",
   "execution_count": null,
   "id": "0897a7d7-057c-47a6-8451-471f2216e42a",
   "metadata": {},
   "outputs": [
    {
     "data": {
      "text/plain": [
       "500027"
      ]
     },
     "execution_count": 76,
     "metadata": {},
     "output_type": "execute_result"
    }
   ],
   "source": [
    "len(primary_vertexes[indexes_that_pass_trigger])"
   ]
  },
  {
   "cell_type": "markdown",
   "id": "0370c4f4-5897-47e1-a57c-9ca518b53ea5",
   "metadata": {},
   "source": [
    "In fact, integer-array slicing is [as general as function composition](https://github.com/scikit-hep/awkward-1.0/blob/0.2.6/docs/theory/arrays-are-functions.pdf).\n",
    "\n",
    "Often, a hard problem can be solved by (1) constructing the appropriate integer array and (2) using it as a slice.\n",
    "\n",
    "Many problems can be solved at compile-time speed (through NumPy) without compiling a new extension module."
   ]
  },
  {
   "cell_type": "markdown",
   "id": "7ccc2b1c-23e8-4c7d-911c-4d12f903d92b",
   "metadata": {
    "tags": []
   },
   "source": [
    "#### **Application:** An integer-array slice maps objects in one collection to objects in another collection."
   ]
  },
  {
   "cell_type": "code",
   "execution_count": 97,
   "id": "c332c95f-2461-45e3-89d4-596835c81050",
   "metadata": {},
   "outputs": [
    {
     "data": {
      "text/plain": [
       "(array([0, 1, 2, 3, 4]),\n",
       " array([0. , 1.1, 2.2, 3.3, 4.4]),\n",
       " array([-1,  3,  0, -1,  2]))"
      ]
     },
     "execution_count": 97,
     "metadata": {},
     "output_type": "execute_result"
    }
   ],
   "source": [
    "tracks = np.array([(0, 0.0, -1), (1, 1.1, 3), (2, 2.2, 0), (3, 3.3, -1), (4, 4.4, 2)], [(\"id\", int), (\"pt\", float), (\"shower_id\", int)])\n",
    "\n",
    "tracks[\"id\"], tracks[\"pt\"], tracks[\"shower_id\"]"
   ]
  },
  {
   "cell_type": "code",
   "execution_count": 98,
   "id": "5c35e39f-e950-478a-98ed-a9a4038fb97e",
   "metadata": {},
   "outputs": [
    {
     "data": {
      "text/plain": [
       "(array([0, 1, 2, 3]), array([2. , 9.9, 4. , 1. ]), array([ 2, -1,  4,  1]))"
      ]
     },
     "execution_count": 98,
     "metadata": {},
     "output_type": "execute_result"
    }
   ],
   "source": [
    "showers = np.array([(0, 2.0, 2), (1, 9.9, -1), (2, 4.0, 4), (3, 1.0, 1)], [(\"id\", int), (\"E\", float), (\"track_id\", int)])\n",
    "\n",
    "showers[\"id\"], showers[\"E\"], showers[\"track_id\"]"
   ]
  },
  {
   "cell_type": "code",
   "execution_count": 99,
   "id": "0da39ad9-a35f-4241-b56e-eb92e7311613",
   "metadata": {},
   "outputs": [
    {
     "data": {
      "text/plain": [
       "(2, 4., 4)"
      ]
     },
     "execution_count": 99,
     "metadata": {},
     "output_type": "execute_result"
    }
   ],
   "source": [
    "showers[2]"
   ]
  },
  {
   "cell_type": "code",
   "execution_count": 100,
   "id": "6c5a3000-7fc0-47b0-8d93-9d392663a505",
   "metadata": {},
   "outputs": [
    {
     "data": {
      "text/plain": [
       "4"
      ]
     },
     "execution_count": 100,
     "metadata": {},
     "output_type": "execute_result"
    }
   ],
   "source": [
    "showers[2][\"track_id\"]"
   ]
  },
  {
   "cell_type": "code",
   "execution_count": 101,
   "id": "1d1175ff-1df2-4506-aa7e-a285e641b158",
   "metadata": {},
   "outputs": [
    {
     "data": {
      "text/plain": [
       "(4, 4.4, 2)"
      ]
     },
     "execution_count": 101,
     "metadata": {},
     "output_type": "execute_result"
    }
   ],
   "source": [
    "tracks[showers[2][\"track_id\"]]"
   ]
  },
  {
   "cell_type": "code",
   "execution_count": 102,
   "id": "4f09f67e-4981-48bd-90f1-ae7687c2581e",
   "metadata": {},
   "outputs": [
    {
     "data": {
      "text/plain": [
       "array([(2, 2.2, 0), (4, 4.4, 2), (4, 4.4, 2), (1, 1.1, 3)],\n",
       "      dtype=[('id', '<i8'), ('pt', '<f8'), ('shower_id', '<i8')])"
      ]
     },
     "execution_count": 102,
     "metadata": {},
     "output_type": "execute_result"
    }
   ],
   "source": [
    "tracks[showers[\"track_id\"]]"
   ]
  },
  {
   "cell_type": "code",
   "execution_count": 103,
   "id": "ca3448f2-ac99-44d8-8d96-48193fdc1b33",
   "metadata": {},
   "outputs": [
    {
     "data": {
      "text/plain": [
       "array([(3, 1., 1), (3, 1., 1), (0, 2., 2), (3, 1., 1), (2, 4., 4)],\n",
       "      dtype=[('id', '<i8'), ('E', '<f8'), ('track_id', '<i8')])"
      ]
     },
     "execution_count": 103,
     "metadata": {},
     "output_type": "execute_result"
    }
   ],
   "source": [
    "showers[tracks[\"shower_id\"]]"
   ]
  },
  {
   "cell_type": "markdown",
   "id": "c6b14e0b-9c9c-4db6-a19a-8f7b788ce2b0",
   "metadata": {
    "tags": []
   },
   "source": [
    "### Elementwise operations"
   ]
  },
  {
   "cell_type": "markdown",
   "id": "c6bd83f3-ff9e-4359-9c07-0bef6a24542c",
   "metadata": {},
   "source": [
    "All \"scalars → scalar\" math functions, such as `+`, `sqrt`, `sinh`, can also take arrays as input and return an array as output.\n",
    "\n",
    "The mathematical operation is performed elementwise."
   ]
  },
  {
   "cell_type": "code",
   "execution_count": 104,
   "id": "5270c623-d997-48d7-82cf-5a1a7588975e",
   "metadata": {},
   "outputs": [
    {
     "data": {
      "text/plain": [
       "array([0, 1, 2, 3, 4, 5, 6, 7, 8, 9])"
      ]
     },
     "execution_count": 104,
     "metadata": {},
     "output_type": "execute_result"
    }
   ],
   "source": [
    "some_array = np.arange(10)\n",
    "some_array"
   ]
  },
  {
   "cell_type": "code",
   "execution_count": 105,
   "id": "7fc948ef-6bc3-4152-a445-844581ca6cf1",
   "metadata": {},
   "outputs": [
    {
     "data": {
      "text/plain": [
       "array([100, 101, 102, 103, 104, 105, 106, 107, 108, 109])"
      ]
     },
     "execution_count": 105,
     "metadata": {},
     "output_type": "execute_result"
    }
   ],
   "source": [
    "some_array + 100"
   ]
  },
  {
   "cell_type": "code",
   "execution_count": 106,
   "id": "2fe9fffa-ca0a-4389-afe5-2151d7b6583c",
   "metadata": {},
   "outputs": [
    {
     "data": {
      "text/plain": [
       "array([0. , 1.1, 2.2, 3.3, 4.4, 5.5, 6.6, 7.7, 8.8, 9.9])"
      ]
     },
     "execution_count": 106,
     "metadata": {},
     "output_type": "execute_result"
    }
   ],
   "source": [
    "some_array + np.array([0.0, 0.1, 0.2, 0.3, 0.4, 0.5, 0.6, 0.7, 0.8, 0.9])"
   ]
  },
  {
   "cell_type": "code",
   "execution_count": 107,
   "id": "be9b5b64-d4e9-4ea1-ab11-7465de0ce292",
   "metadata": {},
   "outputs": [
    {
     "data": {
      "text/plain": [
       "array([0.        , 1.        , 1.41421356, 1.73205081, 2.        ,\n",
       "       2.23606798, 2.44948974, 2.64575131, 2.82842712, 3.        ])"
      ]
     },
     "execution_count": 107,
     "metadata": {},
     "output_type": "execute_result"
    }
   ],
   "source": [
    "np.sqrt(some_array)"
   ]
  },
  {
   "cell_type": "markdown",
   "id": "c03377f7-2f78-4ed6-80db-75bc6c826e33",
   "metadata": {},
   "source": [
    "This is the part of array-oriented programming in Python that most resembles GPU programming.\n",
    "\n",
    "One step (\"kernel\") of a GPU calculation is usually a simple function applied to every element of an array on a GPU."
   ]
  },
  {
   "cell_type": "markdown",
   "id": "c30eaef2-3a4a-46cc-af77-09a7b709d275",
   "metadata": {
    "tags": []
   },
   "source": [
    "#### **Observation:** Elementwise operations can be used to construct boolean arrays for cuts."
   ]
  },
  {
   "cell_type": "code",
   "execution_count": 375,
   "id": "bc121233-5425-4d38-aa72-8a42b023390e",
   "metadata": {},
   "outputs": [
    {
     "data": {
      "text/plain": [
       "array([0, 1, 2, 3, 4, 5, 6, 7, 8, 9])"
      ]
     },
     "execution_count": 375,
     "metadata": {},
     "output_type": "execute_result"
    }
   ],
   "source": [
    "evens_and_odds = np.arange(10)\n",
    "evens_and_odds"
   ]
  },
  {
   "cell_type": "code",
   "execution_count": 377,
   "id": "35ca86bc-2ea9-454f-8ae1-58667338f8a9",
   "metadata": {},
   "outputs": [
    {
     "data": {
      "text/plain": [
       "array([ True, False,  True, False,  True, False,  True, False,  True,\n",
       "       False])"
      ]
     },
     "execution_count": 377,
     "metadata": {},
     "output_type": "execute_result"
    }
   ],
   "source": [
    "is_even = (evens_and_odds % 2 == 0)\n",
    "is_even"
   ]
  },
  {
   "cell_type": "code",
   "execution_count": 378,
   "id": "a955dbc4-cca4-4304-bc3e-06acdc427518",
   "metadata": {},
   "outputs": [
    {
     "data": {
      "text/plain": [
       "array([0, 2, 4, 6, 8])"
      ]
     },
     "execution_count": 378,
     "metadata": {},
     "output_type": "execute_result"
    }
   ],
   "source": [
    "evens_and_odds[is_even]"
   ]
  },
  {
   "cell_type": "code",
   "execution_count": 379,
   "id": "75ad09bc-45c1-4e2e-b3c2-9839f4f26a33",
   "metadata": {},
   "outputs": [
    {
     "data": {
      "text/plain": [
       "array([1, 3, 5, 7, 9])"
      ]
     },
     "execution_count": 379,
     "metadata": {},
     "output_type": "execute_result"
    }
   ],
   "source": [
    "evens_and_odds[~is_even]"
   ]
  },
  {
   "cell_type": "markdown",
   "id": "3cfa6c3c-2a39-4ea7-a084-292f810bea5a",
   "metadata": {},
   "source": [
    "This works because the comparison operators, `==`, `!=`, `<`, `<=`, `>`, `>=` are also elementwise."
   ]
  },
  {
   "cell_type": "code",
   "execution_count": 381,
   "id": "67cbf3f6-6f61-4402-bfc4-af8ce07bbd00",
   "metadata": {},
   "outputs": [
    {
     "data": {
      "text/plain": [
       "array([ True,  True,  True,  True,  True, False, False, False, False])"
      ]
     },
     "execution_count": 381,
     "metadata": {},
     "output_type": "execute_result"
    }
   ],
   "source": [
    "np.arange(9) < 5"
   ]
  },
  {
   "cell_type": "markdown",
   "id": "f9b6c320-7f3d-4cd5-8abe-2ba698fc8ae6",
   "metadata": {},
   "source": [
    "Cuts can be combined with _bitwise_ operators: `&` (and), `|` (or), `~` (not).\n",
    "\n",
    "Python's normal set of _logical_ operators—`and`, `or`, `not`—do not apply elementwise. (They just raise an error if you try to use them with arrays.)\n",
    "\n",
    "The worst part of this is that the bitwise operators have stronger precedence than comparisons:\n",
    "\n",
    "```python\n",
    "cut = pt > 5  &  abs(eta) < 3     # WRONG!\n",
    "cut = (pt > 5) & (abs(eta) < 3)   # right\n",
    "```"
   ]
  },
  {
   "cell_type": "markdown",
   "id": "8c096a3e-111c-4719-8953-4d1cd99879be",
   "metadata": {
    "tags": []
   },
   "source": [
    "#### **Application:** Applying a mathematical formula to every event of a large dataset."
   ]
  },
  {
   "cell_type": "code",
   "execution_count": 115,
   "id": "452fd6ec-8d98-4593-bcd8-7376fd4b9c9c",
   "metadata": {},
   "outputs": [],
   "source": [
    "zmumu = np.load(\"data/Zmumu.npz\")  # NumPy's I/O format; only using it here because I haven't introduced Uproot yet\n",
    "pt1 = zmumu[\"pt1\"]\n",
    "eta1 = zmumu[\"eta1\"]\n",
    "phi1 = zmumu[\"phi1\"]\n",
    "pt2 = zmumu[\"pt2\"]\n",
    "eta2 = zmumu[\"eta2\"]\n",
    "phi2 = zmumu[\"phi2\"]"
   ]
  },
  {
   "cell_type": "code",
   "execution_count": 116,
   "id": "d00691c6-9958-4ae9-b087-34386dd38e1b",
   "metadata": {},
   "outputs": [
    {
     "data": {
      "text/plain": [
       "array([44.7322, 38.8311, 38.8311, ..., 32.3997, 32.3997, 32.3997])"
      ]
     },
     "execution_count": 116,
     "metadata": {},
     "output_type": "execute_result"
    }
   ],
   "source": [
    "pt1"
   ]
  },
  {
   "cell_type": "code",
   "execution_count": 117,
   "id": "a8820aa3-5074-4725-ab99-1116845df274",
   "metadata": {},
   "outputs": [
    {
     "data": {
      "text/plain": [
       "array([-1.21769, -1.05139, -1.05139, ..., -1.57044, -1.57044, -1.57044])"
      ]
     },
     "execution_count": 117,
     "metadata": {},
     "output_type": "execute_result"
    }
   ],
   "source": [
    "eta1"
   ]
  },
  {
   "cell_type": "code",
   "execution_count": 118,
   "id": "95d60c50-32b2-4b96-8c18-8f508ac686de",
   "metadata": {},
   "outputs": [
    {
     "data": {
      "text/plain": [
       "array([ 2.74126  , -0.440873 , -0.440873 , ...,  0.0370275,  0.0370275,\n",
       "        0.0370275])"
      ]
     },
     "execution_count": 118,
     "metadata": {},
     "output_type": "execute_result"
    }
   ],
   "source": [
    "phi1"
   ]
  },
  {
   "cell_type": "markdown",
   "id": "a29c3c90-f638-472b-8d4f-d796e956d064",
   "metadata": {},
   "source": [
    "This formula computes invariant mass of particles 1 and 2 from $p_T$, $\\eta$, and $\\phi$.\n",
    "\n",
    "Let's apply it to the first item of each of the arrays."
   ]
  },
  {
   "cell_type": "code",
   "execution_count": 110,
   "id": "07bd40a0-a3f0-4373-9320-751841bc27b1",
   "metadata": {},
   "outputs": [
    {
     "data": {
      "text/plain": [
       "83.62593187902004"
      ]
     },
     "execution_count": 110,
     "metadata": {},
     "output_type": "execute_result"
    }
   ],
   "source": [
    "np.sqrt(2*pt1[0]*pt2[0]*(np.cosh(eta1[0] - eta2[0]) - np.cos(phi1[0] - phi2[0])))"
   ]
  },
  {
   "cell_type": "markdown",
   "id": "b5d189da-50e5-4831-989c-55fc7a623014",
   "metadata": {},
   "source": [
    "Now let's apply it to every item of the arrays."
   ]
  },
  {
   "cell_type": "code",
   "execution_count": 111,
   "id": "dcda2572-a50c-49a4-9973-7c1ed41e2a7a",
   "metadata": {},
   "outputs": [
    {
     "data": {
      "text/plain": [
       "array([83.62593188, 83.62593188, 83.62593188, ..., 95.96521453,\n",
       "       95.96521453, 95.96521453])"
      ]
     },
     "execution_count": 111,
     "metadata": {},
     "output_type": "execute_result"
    }
   ],
   "source": [
    "np.sqrt(2*pt1*pt2*(np.cosh(eta1 - eta2) - np.cos(phi1 - phi2)))"
   ]
  },
  {
   "cell_type": "markdown",
   "id": "5e9ffc6d-61d0-4c6f-a5d3-6d9eff0607e7",
   "metadata": {
    "tags": []
   },
   "source": [
    "#### **Application:** Building up an analysis from quick plots."
   ]
  },
  {
   "cell_type": "markdown",
   "id": "3c7cbc81-1483-47ee-9f26-c5b16425a9c3",
   "metadata": {},
   "source": [
    "Elementwise array formulas provide a quick way to make a plot."
   ]
  },
  {
   "cell_type": "code",
   "execution_count": 112,
   "id": "aa684a79-2806-4341-a8fe-7450fbe2d810",
   "metadata": {},
   "outputs": [],
   "source": [
    "import matplotlib.pyplot as plt"
   ]
  },
  {
   "cell_type": "code",
   "execution_count": 114,
   "id": "12557fb3-1fec-4f1f-bda5-bc6808c2ac48",
   "metadata": {},
   "outputs": [
    {
     "data": {
      "image/png": "[encoded data removed]",
      "text/plain": [
       "<Figure size 432x288 with 1 Axes>"
      ]
     },
     "metadata": {
      "needs_background": "light"
     },
     "output_type": "display_data"
    }
   ],
   "source": [
    "plt.hist(np.sqrt(2*pt1*pt2*(np.cosh(eta1 - eta2) - np.cos(phi1 - phi2))), bins=120, range=(0, 120));"
   ]
  },
  {
   "cell_type": "markdown",
   "id": "e2300794-a951-4849-87e9-b5739b15957e",
   "metadata": {},
   "source": [
    "In ROOT, there's a temptation to do a whole analysis in `TTree::Draw` expressions because the feedback is immediate, like array formulas.\n",
    "\n",
    "However, that wouldn't scale to large datasets. (`TTree::Draw` would repeatedly read from disk.)\n",
    "\n",
    "Array formulas, however, can be both quick plots _and_ scale to large datasets: **put the array formula into a loop over batches**."
   ]
  },
  {
   "cell_type": "code",
   "execution_count": 135,
   "id": "f36c14a8-48d4-4750-9235-8a5e48ecdad4",
   "metadata": {},
   "outputs": [],
   "source": [
    "def get_batch(i):\n",
    "    \"Fetches a batch from a large dataset (1000 events in this example).\"\n",
    "\n",
    "    zmumu = np.load(\"data/Zmumu.npz\")\n",
    "    pt1 = zmumu[\"pt1\"][i*1000 : (i+1)*1000]\n",
    "    eta1 = zmumu[\"eta1\"][i*1000 : (i+1)*1000]\n",
    "    phi1 = zmumu[\"phi1\"][i*1000 : (i+1)*1000]\n",
    "    pt2 = zmumu[\"pt2\"][i*1000 : (i+1)*1000]\n",
    "    eta2 = zmumu[\"eta2\"][i*1000 : (i+1)*1000]\n",
    "    phi2 = zmumu[\"phi2\"][i*1000 : (i+1)*1000]\n",
    "    \n",
    "    return pt1, eta1, phi1, pt2, eta2, phi2"
   ]
  },
  {
   "cell_type": "markdown",
   "id": "9116c28e-10dd-47cf-9a0b-297be4805611",
   "metadata": {},
   "source": [
    "The array formula from the quick plot can be pasted directly into this loop over batches."
   ]
  },
  {
   "cell_type": "code",
   "execution_count": 136,
   "id": "5ac91772-0788-4b2f-8052-ce67e414d85b",
   "metadata": {},
   "outputs": [],
   "source": [
    "# accumulated histogram\n",
    "counts, edges = None, None\n",
    "\n",
    "for i in range(3):\n",
    "    pt1, eta1, phi1, pt2, eta2, phi2 = get_batch(i)\n",
    "\n",
    "    # exactly the same array formula\n",
    "    invariant_mass = np.sqrt(2*pt1*pt2*(np.cosh(eta1 - eta2) - np.cos(phi1 - phi2)))\n",
    "\n",
    "    batch_counts, batch_edges = np.histogram(invariant_mass, bins=120, range=(0, 120))\n",
    "    \n",
    "    if counts is None:\n",
    "        counts, edges = batch_counts, batch_edges\n",
    "    else:\n",
    "        counts += batch_counts  # not the first time: add these counts to the previous counts"
   ]
  },
  {
   "cell_type": "code",
   "execution_count": 131,
   "id": "f748c9b0-565e-4d0b-90de-854d6492ab03",
   "metadata": {},
   "outputs": [
    {
     "data": {
      "text/plain": [
       "(array([  6,   7,   5,   8,  10,  14,  18,  12,  12,  12,   8,   6,   6,\n",
       "         10,  10,  12,   6,  12,   8,   6,  10,   2,   6,   2,   8,  10,\n",
       "          0,   4,  10,   2,   2,  10,   6,   0,   2,   0,   2,   0,   2,\n",
       "          0,   4,   2,   2,   2,   0,   4,   0,   2,   0,   0,   8,   0,\n",
       "          0,   0,   0,   0,   0,   0,   0,   2,   4,   4,  24,   4,   8,\n",
       "          0,   4,   4,  16,   0,  20,   4,  12,  12,  12,   4,   4,   8,\n",
       "         16,  16,  28,  12,  12,  20,  32,  44,  68,  88, 148, 220, 296,\n",
       "        272, 212, 120, 104,  48,  16,  12,  16,  20,  16,   0,   4,   0,\n",
       "          4,   4,   4,   0,   0,   4,   0,   0,   4,   0,   0,   0,   0,\n",
       "          0,   0,   4]),\n",
       " array([  0.,   1.,   2.,   3.,   4.,   5.,   6.,   7.,   8.,   9.,  10.,\n",
       "         11.,  12.,  13.,  14.,  15.,  16.,  17.,  18.,  19.,  20.,  21.,\n",
       "         22.,  23.,  24.,  25.,  26.,  27.,  28.,  29.,  30.,  31.,  32.,\n",
       "         33.,  34.,  35.,  36.,  37.,  38.,  39.,  40.,  41.,  42.,  43.,\n",
       "         44.,  45.,  46.,  47.,  48.,  49.,  50.,  51.,  52.,  53.,  54.,\n",
       "         55.,  56.,  57.,  58.,  59.,  60.,  61.,  62.,  63.,  64.,  65.,\n",
       "         66.,  67.,  68.,  69.,  70.,  71.,  72.,  73.,  74.,  75.,  76.,\n",
       "         77.,  78.,  79.,  80.,  81.,  82.,  83.,  84.,  85.,  86.,  87.,\n",
       "         88.,  89.,  90.,  91.,  92.,  93.,  94.,  95.,  96.,  97.,  98.,\n",
       "         99., 100., 101., 102., 103., 104., 105., 106., 107., 108., 109.,\n",
       "        110., 111., 112., 113., 114., 115., 116., 117., 118., 119., 120.]))"
      ]
     },
     "execution_count": 131,
     "metadata": {},
     "output_type": "execute_result"
    }
   ],
   "source": [
    "counts, edges"
   ]
  },
  {
   "cell_type": "code",
   "execution_count": 132,
   "id": "89eced9c-0f2b-4969-a220-457a93c98f1b",
   "metadata": {},
   "outputs": [],
   "source": [
    "import mplhep"
   ]
  },
  {
   "cell_type": "code",
   "execution_count": 133,
   "id": "15a9dc02-653f-4456-a5d8-966bd095516c",
   "metadata": {},
   "outputs": [
    {
     "data": {
      "image/png": "[encoded data removed]",
      "text/plain": [
       "<Figure size 432x288 with 1 Axes>"
      ]
     },
     "metadata": {
      "needs_background": "light"
     },
     "output_type": "display_data"
    }
   ],
   "source": [
    "mplhep.histplot(counts, edges);"
   ]
  },
  {
   "cell_type": "markdown",
   "id": "ee248524-5bd4-4f9b-8303-68575b5e1e67",
   "metadata": {
    "tags": []
   },
   "source": [
    "## 3. Uproot: array-oriented ROOT I/O"
   ]
  },
  {
   "cell_type": "markdown",
   "id": "b00d3911-76c9-4095-a849-6defe3adde02",
   "metadata": {},
   "source": [
    "<img src=\"fig/uproot-logo.svg\" style=\"height: 150px\">"
   ]
  },
  {
   "cell_type": "markdown",
   "id": "dede1c53-120b-41d9-bcb0-fe3b3d2607e5",
   "metadata": {
    "tags": []
   },
   "source": [
    "### Introduction"
   ]
  },
  {
   "cell_type": "markdown",
   "id": "dfed0f00-11c9-4866-b75e-e4761bb9ab9b",
   "metadata": {},
   "source": [
    "**Uproot is a reimplementation of ROOT file I/O in Python.**\n",
    "\n",
    "See [uproot.readthedocs.io](https://uproot.readthedocs.io/) for tutorials and reference documentation.\n",
    "\n",
    "Uproot can read most data types, but is particularly good for simple data (such as the contents of a PicoDST file). Uproot can also write simple data types (not covered in this tutorial).\n",
    "\n",
    "<img src=\"fig/abstraction-layers.svg\" width=\"800px\">\n",
    "\n",
    "<br><br><br>"
   ]
  },
  {
   "cell_type": "markdown",
   "id": "8296524c-b5fa-43ac-b9db-7145a7172958",
   "metadata": {},
   "source": [
    "**Data in ROOT files are stored in arrays (batches called \"TBaskets\"). The format is ideally suited for array-centric programming.**\n",
    "\n",
    "Navigating the file in Python is slower than it would be in C++ (the \"complex bookkeeping\"), but the time to extract and decompress a large array is independent of C++ vs Python.\n",
    "\n",
    "<br>\n",
    "<img src=\"fig/terminology.svg\" width=\"650px\">\n",
    "\n",
    "<br><br><br>"
   ]
  },
  {
   "cell_type": "markdown",
   "id": "22b5ca57-875c-4427-850c-168c7a5c38a5",
   "metadata": {
    "tags": []
   },
   "source": [
    "### Navigating a file: PicoDST"
   ]
  },
  {
   "cell_type": "markdown",
   "id": "3c9890a4-d324-41ca-a605-9e15887e0d43",
   "metadata": {},
   "source": [
    "For this tutorial, we will be using a 1 GB PicoDST file.\n",
    "\n",
    "Local and remote files can be opened with [uproot.open](https://uproot.readthedocs.io/en/latest/uproot.reading.open.html)."
   ]
  },
  {
   "cell_type": "code",
   "execution_count": 138,
   "id": "c0aa4b5a-f31e-4bb4-9326-763a62a1e6e1",
   "metadata": {},
   "outputs": [],
   "source": [
    "import uproot"
   ]
  },
  {
   "cell_type": "code",
   "execution_count": 139,
   "id": "9997ecfc-c532-4c6e-92c3-4f87779dc6f7",
   "metadata": {},
   "outputs": [
    {
     "data": {
      "text/plain": [
       "<ReadOnlyDirectory '/' at 0x7f5480fda730>"
      ]
     },
     "execution_count": 139,
     "metadata": {},
     "output_type": "execute_result"
    }
   ],
   "source": [
    "picodst_file = uproot.open(\"https://pivarski-princeton.s3.amazonaws.com/pythia_ppZee_run17emb.picoDst.root\")\n",
    "picodst_file"
   ]
  },
  {
   "cell_type": "markdown",
   "id": "efcbe2e9-efa0-4a18-95a0-4df4f898e2da",
   "metadata": {},
   "source": [
    "A [ReadOnlyDirectory](https://uproot.readthedocs.io/en/latest/uproot.reading.ReadOnlyDirectory.html) is a mapping, like a Python dict.\n",
    "\n",
    "The `keys()` method and square-bracket syntax works on a directory as it would on a dict."
   ]
  },
  {
   "cell_type": "code",
   "execution_count": 140,
   "id": "1d19b6db-a7a0-4d3b-b92f-bc379f92a05b",
   "metadata": {},
   "outputs": [
    {
     "data": {
      "text/plain": [
       "['PicoDst;1']"
      ]
     },
     "execution_count": 140,
     "metadata": {},
     "output_type": "execute_result"
    }
   ],
   "source": [
    "picodst_file.keys()"
   ]
  },
  {
   "cell_type": "code",
   "execution_count": 141,
   "id": "30cce8dc-e670-463c-8ba9-231811257cea",
   "metadata": {},
   "outputs": [
    {
     "data": {
      "text/plain": [
       "<TTree 'PicoDst' (18 branches) at 0x7f5480fda610>"
      ]
     },
     "execution_count": 141,
     "metadata": {},
     "output_type": "execute_result"
    }
   ],
   "source": [
    "picodst = picodst_file[\"PicoDst\"]\n",
    "picodst"
   ]
  },
  {
   "cell_type": "markdown",
   "id": "79f8699a-4f8a-46a0-8bc6-4360f9983e4e",
   "metadata": {},
   "source": [
    "In Uproot, a [TTree](https://uproot.readthedocs.io/en/latest/uproot.behaviors.TTree.TTree.html) is also a mapping, but this time the keys are [TBranch](https://uproot.readthedocs.io/en/latest/uproot.behaviors.TBranch.TBranch.html)es."
   ]
  },
  {
   "cell_type": "code",
   "execution_count": 149,
   "id": "f4b475e8-8a99-409b-8960-d768b9be00de",
   "metadata": {
    "collapsed": true,
    "jupyter": {
     "outputs_hidden": true
    },
    "tags": []
   },
   "outputs": [
    {
     "data": {
      "text/plain": [
       "['Event',\n",
       " 'Event/Event.mRunId',\n",
       " 'Event/Event.mEventId',\n",
       " 'Event/Event.mFillId',\n",
       " 'Event/Event.mBField',\n",
       " 'Event/Event.mTime',\n",
       " 'Event/Event.mPrimaryVertexX',\n",
       " 'Event/Event.mPrimaryVertexY',\n",
       " 'Event/Event.mPrimaryVertexZ',\n",
       " 'Event/Event.mPrimaryVertexErrorX',\n",
       " 'Event/Event.mPrimaryVertexErrorY',\n",
       " 'Event/Event.mPrimaryVertexErrorZ',\n",
       " 'Event/Event.mRanking',\n",
       " 'Event/Event.mNBEMCMatch',\n",
       " 'Event/Event.mNBTOFMatch',\n",
       " 'Event/Event.mTriggerIds',\n",
       " 'Event/Event.mRefMultFtpcEast',\n",
       " 'Event/Event.mRefMultFtpcWest',\n",
       " 'Event/Event.mRefMultNeg',\n",
       " 'Event/Event.mRefMultPos',\n",
       " 'Event/Event.mRefMult2NegEast',\n",
       " 'Event/Event.mRefMult2PosEast',\n",
       " 'Event/Event.mRefMult2NegWest',\n",
       " 'Event/Event.mRefMult2PosWest',\n",
       " 'Event/Event.mRefMult3NegEast',\n",
       " 'Event/Event.mRefMult3PosEast',\n",
       " 'Event/Event.mRefMult3NegWest',\n",
       " 'Event/Event.mRefMult3PosWest',\n",
       " 'Event/Event.mRefMult4NegEast',\n",
       " 'Event/Event.mRefMult4PosEast',\n",
       " 'Event/Event.mRefMult4NegWest',\n",
       " 'Event/Event.mRefMult4PosWest',\n",
       " 'Event/Event.mRefMultHalfNegEast',\n",
       " 'Event/Event.mRefMultHalfPosEast',\n",
       " 'Event/Event.mRefMultHalfNegWest',\n",
       " 'Event/Event.mRefMultHalfPosWest',\n",
       " 'Event/Event.mGRefMult',\n",
       " 'Event/Event.mNumberOfGlobalTracks',\n",
       " 'Event/Event.mbTofTrayMultiplicity',\n",
       " 'Event/Event.mNHitsHFT[4]',\n",
       " 'Event/Event.mNVpdHitsEast',\n",
       " 'Event/Event.mNVpdHitsWest',\n",
       " 'Event/Event.mNTofT0',\n",
       " 'Event/Event.mVzVpd',\n",
       " 'Event/Event.mZDCx',\n",
       " 'Event/Event.mBBCx',\n",
       " 'Event/Event.mBackgroundRate',\n",
       " 'Event/Event.mBbcBlueBackgroundRate',\n",
       " 'Event/Event.mBbcYellowBackgroundRate',\n",
       " 'Event/Event.mBbcEastRate',\n",
       " 'Event/Event.mBbcWestRate',\n",
       " 'Event/Event.mZdcEastRate',\n",
       " 'Event/Event.mZdcWestRate',\n",
       " 'Event/Event.mZdcSumAdcEast',\n",
       " 'Event/Event.mZdcSumAdcWest',\n",
       " 'Event/Event.mZdcSmdEastHorizontal[8]',\n",
       " 'Event/Event.mZdcSmdEastVertical[8]',\n",
       " 'Event/Event.mZdcSmdWestHorizontal[8]',\n",
       " 'Event/Event.mZdcSmdWestVertical[8]',\n",
       " 'Event/Event.mBbcAdcEast[24]',\n",
       " 'Event/Event.mBbcAdcWest[24]',\n",
       " 'Event/Event.mHighTowerThreshold[4]',\n",
       " 'Event/Event.mJetPatchThreshold[4]',\n",
       " 'Event/Event.mBunchCrossId',\n",
       " 'Event/Event.mETofHitMultiplicity',\n",
       " 'Event/Event.mETofDigiMultiplicity',\n",
       " 'Track',\n",
       " 'Track/Track.mId',\n",
       " 'Track/Track.mChi2',\n",
       " 'Track/Track.mPMomentumX',\n",
       " 'Track/Track.mPMomentumY',\n",
       " 'Track/Track.mPMomentumZ',\n",
       " 'Track/Track.mGMomentumX',\n",
       " 'Track/Track.mGMomentumY',\n",
       " 'Track/Track.mGMomentumZ',\n",
       " 'Track/Track.mOriginX',\n",
       " 'Track/Track.mOriginY',\n",
       " 'Track/Track.mOriginZ',\n",
       " 'Track/Track.mDedx',\n",
       " 'Track/Track.mDedxError',\n",
       " 'Track/Track.mNHitsFit',\n",
       " 'Track/Track.mNHitsMax',\n",
       " 'Track/Track.mNHitsDedx',\n",
       " 'Track/Track.mNSigmaPion',\n",
       " 'Track/Track.mNSigmaKaon',\n",
       " 'Track/Track.mNSigmaProton',\n",
       " 'Track/Track.mNSigmaElectron',\n",
       " 'Track/Track.mTopologyMap[2]',\n",
       " 'Track/Track.mBEmcPidTraitsIndex',\n",
       " 'Track/Track.mBTofPidTraitsIndex',\n",
       " 'Track/Track.mMtdPidTraitsIndex',\n",
       " 'Track/Track.mETofPidTraitsIndex',\n",
       " 'Track/Track.mBEmcMatchedTowerIndex',\n",
       " 'Track/Track.mTopoMap_iTpc',\n",
       " 'EmcTrigger',\n",
       " 'EmcTrigger/EmcTrigger.mFlag',\n",
       " 'EmcTrigger/EmcTrigger.mId',\n",
       " 'EmcTrigger/EmcTrigger.mAdc',\n",
       " 'EmcTrigger/EmcTrigger.mSmdE',\n",
       " 'EmcTrigger/EmcTrigger.mSmdP',\n",
       " 'MtdTrigger',\n",
       " 'MtdTrigger/MtdTrigger.mVpdTacSum',\n",
       " 'MtdTrigger/MtdTrigger.mTHUBtime[2]',\n",
       " 'MtdTrigger/MtdTrigger.mQTtacSum[8][8]',\n",
       " 'MtdTrigger/MtdTrigger.mMT101Tac[8][2]',\n",
       " 'MtdTrigger/MtdTrigger.mMT101Id[8][2]',\n",
       " 'MtdTrigger/MtdTrigger.mTF201TriggerBit',\n",
       " 'MtdTrigger/MtdTrigger.mShouldHaveRejectEvent',\n",
       " 'BTowHit',\n",
       " 'BTowHit/BTowHit.mAdc',\n",
       " 'BTowHit/BTowHit.mE',\n",
       " 'BTofHit',\n",
       " 'BTofHit/BTofHit.mId',\n",
       " 'MtdHit',\n",
       " 'MtdHit/MtdHit.mgChannel',\n",
       " 'MtdHit/MtdHit.mTriggerFlag',\n",
       " 'MtdHit/MtdHit.mLeadingEdgeTime.first',\n",
       " 'MtdHit/MtdHit.mLeadingEdgeTime.second',\n",
       " 'MtdHit/MtdHit.mTrailingEdgeTime.first',\n",
       " 'MtdHit/MtdHit.mTrailingEdgeTime.second',\n",
       " 'BbcHit',\n",
       " 'BbcHit/BbcHit.mId',\n",
       " 'BbcHit/BbcHit.mQTdata',\n",
       " 'EpdHit',\n",
       " 'EpdHit/EpdHit.mId',\n",
       " 'EpdHit/EpdHit.mQTdata',\n",
       " 'EpdHit/EpdHit.mnMIP',\n",
       " 'FmsHit',\n",
       " 'FmsHit/FmsHit.mChannelDetectorId',\n",
       " 'FmsHit/FmsHit.mAdc',\n",
       " 'EmcPidTraits',\n",
       " 'EmcPidTraits/EmcPidTraits.mTrackIndex',\n",
       " 'EmcPidTraits/EmcPidTraits.mBemcId',\n",
       " 'EmcPidTraits/EmcPidTraits.mBemcAdc0',\n",
       " 'EmcPidTraits/EmcPidTraits.mBemcE0',\n",
       " 'EmcPidTraits/EmcPidTraits.mBemcE',\n",
       " 'EmcPidTraits/EmcPidTraits.mBemcZDist',\n",
       " 'EmcPidTraits/EmcPidTraits.mBemcPhiDist',\n",
       " 'EmcPidTraits/EmcPidTraits.mBemcSmdNEta',\n",
       " 'EmcPidTraits/EmcPidTraits.mBemcSmdNPhi',\n",
       " 'EmcPidTraits/EmcPidTraits.mBtowId',\n",
       " 'EmcPidTraits/EmcPidTraits.mBtowId23',\n",
       " 'EmcPidTraits/EmcPidTraits.mBtowE',\n",
       " 'EmcPidTraits/EmcPidTraits.mBtowE2',\n",
       " 'EmcPidTraits/EmcPidTraits.mBtowE3',\n",
       " 'EmcPidTraits/EmcPidTraits.mBtowEtaDist',\n",
       " 'EmcPidTraits/EmcPidTraits.mBtowPhiDist',\n",
       " 'BTofPidTraits',\n",
       " 'BTofPidTraits/BTofPidTraits.mTrackIndex',\n",
       " 'BTofPidTraits/BTofPidTraits.mBTofCellId',\n",
       " 'BTofPidTraits/BTofPidTraits.mBTofMatchFlag',\n",
       " 'BTofPidTraits/BTofPidTraits.mBTof',\n",
       " 'BTofPidTraits/BTofPidTraits.mBTofBeta',\n",
       " 'BTofPidTraits/BTofPidTraits.mBTofYLocal',\n",
       " 'BTofPidTraits/BTofPidTraits.mBTofZLocal',\n",
       " 'BTofPidTraits/BTofPidTraits.mBTofHitPosX',\n",
       " 'BTofPidTraits/BTofPidTraits.mBTofHitPosY',\n",
       " 'BTofPidTraits/BTofPidTraits.mBTofHitPosZ',\n",
       " 'MtdPidTraits',\n",
       " 'MtdPidTraits/MtdPidTraits.mTrackIndex',\n",
       " 'MtdPidTraits/MtdPidTraits.mMtdHitIndex',\n",
       " 'MtdPidTraits/MtdPidTraits.mMatchFlag',\n",
       " 'MtdPidTraits/MtdPidTraits.mDeltaY',\n",
       " 'MtdPidTraits/MtdPidTraits.mDeltaZ',\n",
       " 'MtdPidTraits/MtdPidTraits.mDeltaTimeOfFlight',\n",
       " 'MtdPidTraits/MtdPidTraits.mBeta',\n",
       " 'MtdPidTraits/MtdPidTraits.mMtdHitChan',\n",
       " 'TrackCovMatrix',\n",
       " 'TrackCovMatrix/TrackCovMatrix.mImp',\n",
       " 'TrackCovMatrix/TrackCovMatrix.mZ',\n",
       " 'TrackCovMatrix/TrackCovMatrix.mPsi',\n",
       " 'TrackCovMatrix/TrackCovMatrix.mPti',\n",
       " 'TrackCovMatrix/TrackCovMatrix.mTan',\n",
       " 'TrackCovMatrix/TrackCovMatrix.mCurv',\n",
       " 'TrackCovMatrix/TrackCovMatrix.mSigma[5]',\n",
       " 'TrackCovMatrix/TrackCovMatrix.mCorr[10]',\n",
       " 'BEmcSmdEHit',\n",
       " 'BEmcSmdEHit/BEmcSmdEHit.mId',\n",
       " 'BEmcSmdEHit/BEmcSmdEHit.mAdc',\n",
       " 'BEmcSmdEHit/BEmcSmdEHit.mEnergy',\n",
       " 'BEmcSmdPHit',\n",
       " 'BEmcSmdPHit/BEmcSmdPHit.mId',\n",
       " 'BEmcSmdPHit/BEmcSmdPHit.mAdc',\n",
       " 'BEmcSmdPHit/BEmcSmdPHit.mEnergy',\n",
       " 'ETofHit',\n",
       " 'ETofHit/ETofHit.mGeomId',\n",
       " 'ETofHit/ETofHit.mLocalX',\n",
       " 'ETofHit/ETofHit.mLocalY',\n",
       " 'ETofHit/ETofHit.mClusterSize',\n",
       " 'ETofHit/ETofHit.mLeadingEdgeTime',\n",
       " 'ETofHit/ETofHit.mTimeOverThreshold',\n",
       " 'ETofPidTraits',\n",
       " 'ETofPidTraits/ETofPidTraits.mTrackIndex',\n",
       " 'ETofPidTraits/ETofPidTraits.mHitIndex',\n",
       " 'ETofPidTraits/ETofPidTraits.mMatchFlag',\n",
       " 'ETofPidTraits/ETofPidTraits.mTimeOfFlight',\n",
       " 'ETofPidTraits/ETofPidTraits.mBeta',\n",
       " 'ETofPidTraits/ETofPidTraits.mDeltaX',\n",
       " 'ETofPidTraits/ETofPidTraits.mDeltaY',\n",
       " 'ETofPidTraits/ETofPidTraits.mCrossingX',\n",
       " 'ETofPidTraits/ETofPidTraits.mCrossingY',\n",
       " 'ETofPidTraits/ETofPidTraits.mCrossingZ']"
      ]
     },
     "execution_count": 149,
     "metadata": {},
     "output_type": "execute_result"
    }
   ],
   "source": [
    "picodst.keys()"
   ]
  },
  {
   "cell_type": "code",
   "execution_count": 145,
   "id": "adcabffd-7482-4375-bf53-7bcf7555160c",
   "metadata": {
    "tags": []
   },
   "outputs": [
    {
     "data": {
      "text/plain": [
       "<TBranchElement 'Event' (65 subbranches) at 0x7f5480ab6e50>"
      ]
     },
     "execution_count": 145,
     "metadata": {},
     "output_type": "execute_result"
    }
   ],
   "source": [
    "picodst[\"Event\"]"
   ]
  },
  {
   "cell_type": "code",
   "execution_count": 146,
   "id": "512c7823-4828-4b33-9334-17f9cb7f6d0b",
   "metadata": {
    "collapsed": true,
    "jupyter": {
     "outputs_hidden": true
    },
    "tags": []
   },
   "outputs": [
    {
     "data": {
      "text/plain": [
       "['Event.mRunId',\n",
       " 'Event.mEventId',\n",
       " 'Event.mFillId',\n",
       " 'Event.mBField',\n",
       " 'Event.mTime',\n",
       " 'Event.mPrimaryVertexX',\n",
       " 'Event.mPrimaryVertexY',\n",
       " 'Event.mPrimaryVertexZ',\n",
       " 'Event.mPrimaryVertexErrorX',\n",
       " 'Event.mPrimaryVertexErrorY',\n",
       " 'Event.mPrimaryVertexErrorZ',\n",
       " 'Event.mRanking',\n",
       " 'Event.mNBEMCMatch',\n",
       " 'Event.mNBTOFMatch',\n",
       " 'Event.mTriggerIds',\n",
       " 'Event.mRefMultFtpcEast',\n",
       " 'Event.mRefMultFtpcWest',\n",
       " 'Event.mRefMultNeg',\n",
       " 'Event.mRefMultPos',\n",
       " 'Event.mRefMult2NegEast',\n",
       " 'Event.mRefMult2PosEast',\n",
       " 'Event.mRefMult2NegWest',\n",
       " 'Event.mRefMult2PosWest',\n",
       " 'Event.mRefMult3NegEast',\n",
       " 'Event.mRefMult3PosEast',\n",
       " 'Event.mRefMult3NegWest',\n",
       " 'Event.mRefMult3PosWest',\n",
       " 'Event.mRefMult4NegEast',\n",
       " 'Event.mRefMult4PosEast',\n",
       " 'Event.mRefMult4NegWest',\n",
       " 'Event.mRefMult4PosWest',\n",
       " 'Event.mRefMultHalfNegEast',\n",
       " 'Event.mRefMultHalfPosEast',\n",
       " 'Event.mRefMultHalfNegWest',\n",
       " 'Event.mRefMultHalfPosWest',\n",
       " 'Event.mGRefMult',\n",
       " 'Event.mNumberOfGlobalTracks',\n",
       " 'Event.mbTofTrayMultiplicity',\n",
       " 'Event.mNHitsHFT[4]',\n",
       " 'Event.mNVpdHitsEast',\n",
       " 'Event.mNVpdHitsWest',\n",
       " 'Event.mNTofT0',\n",
       " 'Event.mVzVpd',\n",
       " 'Event.mZDCx',\n",
       " 'Event.mBBCx',\n",
       " 'Event.mBackgroundRate',\n",
       " 'Event.mBbcBlueBackgroundRate',\n",
       " 'Event.mBbcYellowBackgroundRate',\n",
       " 'Event.mBbcEastRate',\n",
       " 'Event.mBbcWestRate',\n",
       " 'Event.mZdcEastRate',\n",
       " 'Event.mZdcWestRate',\n",
       " 'Event.mZdcSumAdcEast',\n",
       " 'Event.mZdcSumAdcWest',\n",
       " 'Event.mZdcSmdEastHorizontal[8]',\n",
       " 'Event.mZdcSmdEastVertical[8]',\n",
       " 'Event.mZdcSmdWestHorizontal[8]',\n",
       " 'Event.mZdcSmdWestVertical[8]',\n",
       " 'Event.mBbcAdcEast[24]',\n",
       " 'Event.mBbcAdcWest[24]',\n",
       " 'Event.mHighTowerThreshold[4]',\n",
       " 'Event.mJetPatchThreshold[4]',\n",
       " 'Event.mBunchCrossId',\n",
       " 'Event.mETofHitMultiplicity',\n",
       " 'Event.mETofDigiMultiplicity']"
      ]
     },
     "execution_count": 146,
     "metadata": {},
     "output_type": "execute_result"
    }
   ],
   "source": [
    "picodst[\"Event\"].keys()"
   ]
  },
  {
   "cell_type": "code",
   "execution_count": 147,
   "id": "eb143bf3-790f-4b93-9155-09c8301a9151",
   "metadata": {},
   "outputs": [
    {
     "data": {
      "text/plain": [
       "<TBranchElement 'Event.mEventId' at 0x7f5480addf40>"
      ]
     },
     "execution_count": 147,
     "metadata": {},
     "output_type": "execute_result"
    }
   ],
   "source": [
    "picodst[\"Event/Event.mEventId\"]"
   ]
  },
  {
   "cell_type": "markdown",
   "id": "8ddda505-b80b-40ff-83e5-dd6531004289",
   "metadata": {},
   "source": [
    "These objects have a lot of methods and properties, some of which are very low-level (e.g. get the [number of uncompressed bytes for a TBasket](https://uproot.readthedocs.io/en/latest/uproot.behaviors.TBranch.TBranch.html#basket-uncompressed-bytes)).\n",
    "\n",
    "[TBasket.typename](https://uproot.readthedocs.io/en/latest/uproot.behaviors.TBranch.TBranch.html#typename), which returns the C++ type as a string, is a useful one."
   ]
  },
  {
   "cell_type": "code",
   "execution_count": 148,
   "id": "9b0f3147-46a9-4aad-a47e-c2a17738a490",
   "metadata": {},
   "outputs": [
    {
     "data": {
      "text/plain": [
       "'int32_t[]'"
      ]
     },
     "execution_count": 148,
     "metadata": {},
     "output_type": "execute_result"
    }
   ],
   "source": [
    "picodst[\"Event/Event.mEventId\"].typename"
   ]
  },
  {
   "cell_type": "code",
   "execution_count": 155,
   "id": "23887f9e-3c06-4cf8-ac57-b547bd30f110",
   "metadata": {},
   "outputs": [
    {
     "data": {
      "text/plain": [
       "'std::vector<uint32_t>*'"
      ]
     },
     "execution_count": 155,
     "metadata": {},
     "output_type": "execute_result"
    }
   ],
   "source": [
    "picodst[\"Event/Event.mTriggerIds\"].typename"
   ]
  },
  {
   "cell_type": "code",
   "execution_count": 156,
   "id": "a6c96e0e-7f13-4056-bf59-f04ab42518f6",
   "metadata": {},
   "outputs": [
    {
     "data": {
      "text/plain": [
       "'uint16_t[][4]'"
      ]
     },
     "execution_count": 156,
     "metadata": {},
     "output_type": "execute_result"
    }
   ],
   "source": [
    "picodst[\"Event.mNHitsHFT[4]\"].typename"
   ]
  },
  {
   "cell_type": "markdown",
   "id": "8fbfbaab-1f82-47b7-ae14-1ed8331be262",
   "metadata": {},
   "source": [
    "The [TBasket.keys](https://uproot.readthedocs.io/en/latest/uproot.behaviors.TBranch.TBranch.html#keys) function has `filter_name` and `filter_typename` to search for TBranches."
   ]
  },
  {
   "cell_type": "code",
   "execution_count": 162,
   "id": "da6711b4-4a71-4a0c-bcfc-573f58cd732f",
   "metadata": {},
   "outputs": [
    {
     "data": {
      "text/plain": [
       "['Event/Event.mPrimaryVertexX',\n",
       " 'Event/Event.mPrimaryVertexY',\n",
       " 'Event/Event.mPrimaryVertexZ',\n",
       " 'Event/Event.mPrimaryVertexErrorX',\n",
       " 'Event/Event.mPrimaryVertexErrorY',\n",
       " 'Event/Event.mPrimaryVertexErrorZ']"
      ]
     },
     "execution_count": 162,
     "metadata": {},
     "output_type": "execute_result"
    }
   ],
   "source": [
    "picodst.keys(filter_name=\"*Primary*\")"
   ]
  },
  {
   "cell_type": "code",
   "execution_count": 169,
   "id": "2994e818-1c95-4cc7-942b-82331e77a12d",
   "metadata": {},
   "outputs": [
    {
     "name": "stdout",
     "output_type": "stream",
     "text": [
      "Event/Event.mBField                      float[]\n",
      "Event/Event.mPrimaryVertexX              float[]\n",
      "Event/Event.mPrimaryVertexY              float[]\n",
      "Event/Event.mPrimaryVertexZ              float[]\n",
      "Event/Event.mPrimaryVertexErrorX         float[]\n",
      "Event/Event.mPrimaryVertexErrorY         float[]\n",
      "Event/Event.mPrimaryVertexErrorZ         float[]\n",
      "Event/Event.mRanking                     float[]\n",
      "Event/Event.mVzVpd                       float[]\n",
      "Event/Event.mBackgroundRate              float[]\n",
      "Event/Event.mBbcBlueBackgroundRate       float[]\n",
      "Event/Event.mBbcYellowBackgroundRate     float[]\n",
      "Event/Event.mBbcEastRate                 float[]\n",
      "Event/Event.mBbcWestRate                 float[]\n",
      "Event/Event.mZdcEastRate                 float[]\n",
      "Event/Event.mZdcWestRate                 float[]\n"
     ]
    }
   ],
   "source": [
    "for key in picodst.keys(filter_name=\"*Event*\", filter_typename=\"*float*\"):\n",
    "    print(key.ljust(40), picodst[key].typename)"
   ]
  },
  {
   "cell_type": "markdown",
   "id": "bf0395aa-f9da-4050-8aaa-6f3bc00a1f80",
   "metadata": {},
   "source": [
    "A convenient way to see all the branches and types at once is [TTree.show](https://uproot.readthedocs.io/en/latest/uproot.behaviors.TTree.TTree.html#show)."
   ]
  },
  {
   "cell_type": "code",
   "execution_count": 157,
   "id": "1da20f06-06dd-432e-8150-4a4a8f623aa3",
   "metadata": {
    "collapsed": true,
    "jupyter": {
     "outputs_hidden": true
    },
    "tags": []
   },
   "outputs": [
    {
     "name": "stdout",
     "output_type": "stream",
     "text": [
      "name                 | typename                 | interpretation                \n",
      "---------------------+--------------------------+-------------------------------\n",
      "Event                | TClonesArray             | AsGroup(<TBranchElement 'Ev...\n",
      "Event/Event.mRunId   | int32_t[]                | AsJagged(AsDtype('>i4'))\n",
      "Event/Event.mEventId | int32_t[]                | AsJagged(AsDtype('>i4'))\n",
      "Event/Event.mFillId  | uint16_t[]               | AsJagged(AsDtype('>u2'))\n",
      "Event/Event.mBField  | float[]                  | AsJagged(AsDtype('>f4'))\n",
      "Event/Event.mTime    | int32_t[]                | AsJagged(AsDtype('>i4'))\n",
      "Event/Event.mPrim... | float[]                  | AsJagged(AsDtype('>f4'))\n",
      "Event/Event.mPrim... | float[]                  | AsJagged(AsDtype('>f4'))\n",
      "Event/Event.mPrim... | float[]                  | AsJagged(AsDtype('>f4'))\n",
      "Event/Event.mPrim... | float[]                  | AsJagged(AsDtype('>f4'))\n",
      "Event/Event.mPrim... | float[]                  | AsJagged(AsDtype('>f4'))\n",
      "Event/Event.mPrim... | float[]                  | AsJagged(AsDtype('>f4'))\n",
      "Event/Event.mRanking | float[]                  | AsJagged(AsDtype('>f4'))\n",
      "Event/Event.mNBEM... | uint16_t[]               | AsJagged(AsDtype('>u2'))\n",
      "Event/Event.mNBTO... | uint16_t[]               | AsJagged(AsDtype('>u2'))\n",
      "Event/Event.mTrig... | std::vector<uint32_t>*   | AsObjects(AsArray(True, Fal...\n",
      "Event/Event.mRefM... | uint16_t[]               | AsJagged(AsDtype('>u2'))\n",
      "Event/Event.mRefM... | uint16_t[]               | AsJagged(AsDtype('>u2'))\n",
      "Event/Event.mRefM... | uint16_t[]               | AsJagged(AsDtype('>u2'))\n",
      "Event/Event.mRefM... | uint16_t[]               | AsJagged(AsDtype('>u2'))\n",
      "Event/Event.mRefM... | uint16_t[]               | AsJagged(AsDtype('>u2'))\n",
      "Event/Event.mRefM... | uint16_t[]               | AsJagged(AsDtype('>u2'))\n",
      "Event/Event.mRefM... | uint16_t[]               | AsJagged(AsDtype('>u2'))\n",
      "Event/Event.mRefM... | uint16_t[]               | AsJagged(AsDtype('>u2'))\n",
      "Event/Event.mRefM... | uint16_t[]               | AsJagged(AsDtype('>u2'))\n",
      "Event/Event.mRefM... | uint16_t[]               | AsJagged(AsDtype('>u2'))\n",
      "Event/Event.mRefM... | uint16_t[]               | AsJagged(AsDtype('>u2'))\n",
      "Event/Event.mRefM... | uint16_t[]               | AsJagged(AsDtype('>u2'))\n",
      "Event/Event.mRefM... | uint16_t[]               | AsJagged(AsDtype('>u2'))\n",
      "Event/Event.mRefM... | uint16_t[]               | AsJagged(AsDtype('>u2'))\n",
      "Event/Event.mRefM... | uint16_t[]               | AsJagged(AsDtype('>u2'))\n",
      "Event/Event.mRefM... | uint16_t[]               | AsJagged(AsDtype('>u2'))\n",
      "Event/Event.mRefM... | uint16_t[]               | AsJagged(AsDtype('>u2'))\n",
      "Event/Event.mRefM... | uint16_t[]               | AsJagged(AsDtype('>u2'))\n",
      "Event/Event.mRefM... | uint16_t[]               | AsJagged(AsDtype('>u2'))\n",
      "Event/Event.mRefM... | uint16_t[]               | AsJagged(AsDtype('>u2'))\n",
      "Event/Event.mGRef... | uint16_t[]               | AsJagged(AsDtype('>u2'))\n",
      "Event/Event.mNumb... | uint16_t[]               | AsJagged(AsDtype('>u2'))\n",
      "Event/Event.mbTof... | uint16_t[]               | AsJagged(AsDtype('>u2'))\n",
      "Event/Event.mNHit... | uint16_t[][4]            | AsJagged(AsDtype(\"('>u2', (...\n",
      "Event/Event.mNVpd... | uint8_t[]                | AsJagged(AsDtype('uint8'))\n",
      "Event/Event.mNVpd... | uint8_t[]                | AsJagged(AsDtype('uint8'))\n",
      "Event/Event.mNTofT0  | uint16_t[]               | AsJagged(AsDtype('>u2'))\n",
      "Event/Event.mVzVpd   | float[]                  | AsJagged(AsDtype('>f4'))\n",
      "Event/Event.mZDCx    | uint32_t[]               | AsJagged(AsDtype('>u4'))\n",
      "Event/Event.mBBCx    | uint32_t[]               | AsJagged(AsDtype('>u4'))\n",
      "Event/Event.mBack... | float[]                  | AsJagged(AsDtype('>f4'))\n",
      "Event/Event.mBbcB... | float[]                  | AsJagged(AsDtype('>f4'))\n",
      "Event/Event.mBbcY... | float[]                  | AsJagged(AsDtype('>f4'))\n",
      "Event/Event.mBbcE... | float[]                  | AsJagged(AsDtype('>f4'))\n",
      "Event/Event.mBbcW... | float[]                  | AsJagged(AsDtype('>f4'))\n",
      "Event/Event.mZdcE... | float[]                  | AsJagged(AsDtype('>f4'))\n",
      "Event/Event.mZdcW... | float[]                  | AsJagged(AsDtype('>f4'))\n",
      "Event/Event.mZdcS... | uint16_t[]               | AsJagged(AsDtype('>u2'))\n",
      "Event/Event.mZdcS... | uint16_t[]               | AsJagged(AsDtype('>u2'))\n",
      "Event/Event.mZdcS... | uint16_t[][8]            | AsJagged(AsDtype(\"('>u2', (...\n",
      "Event/Event.mZdcS... | uint16_t[][8]            | AsJagged(AsDtype(\"('>u2', (...\n",
      "Event/Event.mZdcS... | uint16_t[][8]            | AsJagged(AsDtype(\"('>u2', (...\n",
      "Event/Event.mZdcS... | uint16_t[][8]            | AsJagged(AsDtype(\"('>u2', (...\n",
      "Event/Event.mBbcA... | uint16_t[][24]           | AsJagged(AsDtype(\"('>u2', (...\n",
      "Event/Event.mBbcA... | uint16_t[][24]           | AsJagged(AsDtype(\"('>u2', (...\n",
      "Event/Event.mHigh... | uint8_t[][4]             | AsJagged(AsDtype(\"('u1', (4...\n",
      "Event/Event.mJetP... | uint8_t[][4]             | AsJagged(AsDtype(\"('u1', (4...\n",
      "Event/Event.mBunc... | uint8_t[]                | AsJagged(AsDtype('uint8'))\n",
      "Event/Event.mETof... | uint16_t[]               | AsJagged(AsDtype('>u2'))\n",
      "Event/Event.mETof... | uint16_t[]               | AsJagged(AsDtype('>u2'))\n",
      "Track                | TClonesArray             | AsGroup(<TBranchElement 'Tr...\n",
      "Track/Track.mId      | uint16_t[]               | AsJagged(AsDtype('>u2'))\n",
      "Track/Track.mChi2    | uint16_t[]               | AsJagged(AsDtype('>u2'))\n",
      "Track/Track.mPMom... | float[]                  | AsJagged(AsDtype('>f4'))\n",
      "Track/Track.mPMom... | float[]                  | AsJagged(AsDtype('>f4'))\n",
      "Track/Track.mPMom... | float[]                  | AsJagged(AsDtype('>f4'))\n",
      "Track/Track.mGMom... | float[]                  | AsJagged(AsDtype('>f4'))\n",
      "Track/Track.mGMom... | float[]                  | AsJagged(AsDtype('>f4'))\n",
      "Track/Track.mGMom... | float[]                  | AsJagged(AsDtype('>f4'))\n",
      "Track/Track.mOriginX | float[]                  | AsJagged(AsDtype('>f4'))\n",
      "Track/Track.mOriginY | float[]                  | AsJagged(AsDtype('>f4'))\n",
      "Track/Track.mOriginZ | float[]                  | AsJagged(AsDtype('>f4'))\n",
      "Track/Track.mDedx    | Float16_t[]              | AsJagged(AsFloat16(0, 0, 12))\n",
      "Track/Track.mDedx... | Float16_t[]              | AsJagged(AsFloat16(0, 0, 12))\n",
      "Track/Track.mNHit... | int8_t[]                 | AsJagged(AsDtype('int8'))\n",
      "Track/Track.mNHit... | uint8_t[]                | AsJagged(AsDtype('uint8'))\n",
      "Track/Track.mNHit... | uint8_t[]                | AsJagged(AsDtype('uint8'))\n",
      "Track/Track.mNSig... | int16_t[]                | AsJagged(AsDtype('>i2'))\n",
      "Track/Track.mNSig... | int16_t[]                | AsJagged(AsDtype('>i2'))\n",
      "Track/Track.mNSig... | int16_t[]                | AsJagged(AsDtype('>i2'))\n",
      "Track/Track.mNSig... | int16_t[]                | AsJagged(AsDtype('>i2'))\n",
      "Track/Track.mTopo... | uint32_t[][2]            | AsJagged(AsDtype(\"('>u4', (...\n",
      "Track/Track.mBEmc... | int16_t[]                | AsJagged(AsDtype('>i2'))\n",
      "Track/Track.mBTof... | int16_t[]                | AsJagged(AsDtype('>i2'))\n",
      "Track/Track.mMtdP... | int16_t[]                | AsJagged(AsDtype('>i2'))\n",
      "Track/Track.mETof... | int16_t[]                | AsJagged(AsDtype('>i2'))\n",
      "Track/Track.mBEmc... | int16_t[]                | AsJagged(AsDtype('>i2'))\n",
      "Track/Track.mTopo... | uint64_t[]               | AsJagged(AsDtype('>u8'))\n",
      "EmcTrigger           | TClonesArray             | AsGroup(<TBranchElement 'Em...\n",
      "EmcTrigger/EmcTri... | uint8_t[]                | AsJagged(AsDtype('uint8'))\n",
      "EmcTrigger/EmcTri... | uint16_t[]               | AsJagged(AsDtype('>u2'))\n",
      "EmcTrigger/EmcTri... | uint16_t[]               | AsJagged(AsDtype('>u2'))\n",
      "EmcTrigger/EmcTri... | std::vector<uint16_t>*   | AsObjects(AsArray(True, Fal...\n",
      "EmcTrigger/EmcTri... | std::vector<uint16_t>*   | AsObjects(AsArray(True, Fal...\n",
      "MtdTrigger           | TClonesArray             | AsGroup(<TBranchElement 'Mt...\n",
      "MtdTrigger/MtdTri... | uint16_t[]               | AsJagged(AsDtype('>u2'))\n",
      "MtdTrigger/MtdTri... | uint32_t[][2]            | AsJagged(AsDtype(\"('>u4', (...\n",
      "MtdTrigger/MtdTri... | uint16_t[][64]           | AsJagged(AsDtype(\"('>u2', (...\n",
      "MtdTrigger/MtdTri... | uint16_t[][16]           | AsJagged(AsDtype(\"('>u2', (...\n",
      "MtdTrigger/MtdTri... | uint8_t[][16]            | AsJagged(AsDtype(\"('u1', (1...\n",
      "MtdTrigger/MtdTri... | uint32_t[]               | AsJagged(AsDtype('>u4'))\n",
      "MtdTrigger/MtdTri... | int8_t[]                 | AsJagged(AsDtype('int8'))\n",
      "BTowHit              | TClonesArray             | AsGroup(<TBranchElement 'BT...\n",
      "BTowHit/BTowHit.mAdc | uint16_t[]               | AsJagged(AsDtype('>u2'))\n",
      "BTowHit/BTowHit.mE   | int16_t[]                | AsJagged(AsDtype('>i2'))\n",
      "BTofHit              | TClonesArray             | AsGroup(<TBranchElement 'BT...\n",
      "BTofHit/BTofHit.mId  | int16_t[]                | AsJagged(AsDtype('>i2'))\n",
      "MtdHit               | TClonesArray             | AsGroup(<TBranchElement 'Mt...\n",
      "MtdHit/MtdHit.mgC... | int16_t[]                | AsJagged(AsDtype('>i2'))\n",
      "MtdHit/MtdHit.mTr... | uint8_t[]                | AsJagged(AsDtype('uint8'))\n",
      "MtdHit/MtdHit.mLe... | float[]                  | AsJagged(AsDtype('>f4'))\n",
      "MtdHit/MtdHit.mLe... | float[]                  | AsJagged(AsDtype('>f4'))\n",
      "MtdHit/MtdHit.mTr... | float[]                  | AsJagged(AsDtype('>f4'))\n",
      "MtdHit/MtdHit.mTr... | float[]                  | AsJagged(AsDtype('>f4'))\n",
      "BbcHit               | TClonesArray             | AsGroup(<TBranchElement 'Bb...\n",
      "BbcHit/BbcHit.mId    | int16_t[]                | AsJagged(AsDtype('>i2'))\n",
      "BbcHit/BbcHit.mQT... | int32_t[]                | AsJagged(AsDtype('>i4'))\n",
      "EpdHit               | TClonesArray             | AsGroup(<TBranchElement 'Ep...\n",
      "EpdHit/EpdHit.mId    | int16_t[]                | AsJagged(AsDtype('>i2'))\n",
      "EpdHit/EpdHit.mQT... | int32_t[]                | AsJagged(AsDtype('>i4'))\n",
      "EpdHit/EpdHit.mnMIP  | float[]                  | AsJagged(AsDtype('>f4'))\n",
      "FmsHit               | TClonesArray             | AsGroup(<TBranchElement 'Fm...\n",
      "FmsHit/FmsHit.mCh... | uint16_t[]               | AsJagged(AsDtype('>u2'))\n",
      "FmsHit/FmsHit.mAdc   | uint16_t[]               | AsJagged(AsDtype('>u2'))\n",
      "EmcPidTraits         | TClonesArray             | AsGroup(<TBranchElement 'Em...\n",
      "EmcPidTraits/EmcP... | int16_t[]                | AsJagged(AsDtype('>i2'))\n",
      "EmcPidTraits/EmcP... | int16_t[]                | AsJagged(AsDtype('>i2'))\n",
      "EmcPidTraits/EmcP... | int16_t[]                | AsJagged(AsDtype('>i2'))\n",
      "EmcPidTraits/EmcP... | int16_t[]                | AsJagged(AsDtype('>i2'))\n",
      "EmcPidTraits/EmcP... | int16_t[]                | AsJagged(AsDtype('>i2'))\n",
      "EmcPidTraits/EmcP... | int16_t[]                | AsJagged(AsDtype('>i2'))\n",
      "EmcPidTraits/EmcP... | int16_t[]                | AsJagged(AsDtype('>i2'))\n",
      "EmcPidTraits/EmcP... | uint8_t[]                | AsJagged(AsDtype('uint8'))\n",
      "EmcPidTraits/EmcP... | uint8_t[]                | AsJagged(AsDtype('uint8'))\n",
      "EmcPidTraits/EmcP... | int16_t[]                | AsJagged(AsDtype('>i2'))\n",
      "EmcPidTraits/EmcP... | int8_t[]                 | AsJagged(AsDtype('int8'))\n",
      "EmcPidTraits/EmcP... | int16_t[]                | AsJagged(AsDtype('>i2'))\n",
      "EmcPidTraits/EmcP... | int16_t[]                | AsJagged(AsDtype('>i2'))\n",
      "EmcPidTraits/EmcP... | int16_t[]                | AsJagged(AsDtype('>i2'))\n",
      "EmcPidTraits/EmcP... | int16_t[]                | AsJagged(AsDtype('>i2'))\n",
      "EmcPidTraits/EmcP... | int16_t[]                | AsJagged(AsDtype('>i2'))\n",
      "BTofPidTraits        | TClonesArray             | AsGroup(<TBranchElement 'BT...\n",
      "BTofPidTraits/BTo... | int16_t[]                | AsJagged(AsDtype('>i2'))\n",
      "BTofPidTraits/BTo... | int16_t[]                | AsJagged(AsDtype('>i2'))\n",
      "BTofPidTraits/BTo... | uint8_t[]                | AsJagged(AsDtype('uint8'))\n",
      "BTofPidTraits/BTo... | float[]                  | AsJagged(AsDtype('>f4'))\n",
      "BTofPidTraits/BTo... | uint16_t[]               | AsJagged(AsDtype('>u2'))\n",
      "BTofPidTraits/BTo... | int16_t[]                | AsJagged(AsDtype('>i2'))\n",
      "BTofPidTraits/BTo... | int16_t[]                | AsJagged(AsDtype('>i2'))\n",
      "BTofPidTraits/BTo... | int16_t[]                | AsJagged(AsDtype('>i2'))\n",
      "BTofPidTraits/BTo... | int16_t[]                | AsJagged(AsDtype('>i2'))\n",
      "BTofPidTraits/BTo... | int16_t[]                | AsJagged(AsDtype('>i2'))\n",
      "MtdPidTraits         | TClonesArray             | AsGroup(<TBranchElement 'Mt...\n",
      "MtdPidTraits/MtdP... | int16_t[]                | AsJagged(AsDtype('>i2'))\n",
      "MtdPidTraits/MtdP... | int16_t[]                | AsJagged(AsDtype('>i2'))\n",
      "MtdPidTraits/MtdP... | int8_t[]                 | AsJagged(AsDtype('int8'))\n",
      "MtdPidTraits/MtdP... | int16_t[]                | AsJagged(AsDtype('>i2'))\n",
      "MtdPidTraits/MtdP... | int16_t[]                | AsJagged(AsDtype('>i2'))\n",
      "MtdPidTraits/MtdP... | float[]                  | AsJagged(AsDtype('>f4'))\n",
      "MtdPidTraits/MtdP... | uint16_t[]               | AsJagged(AsDtype('>u2'))\n",
      "MtdPidTraits/MtdP... | int16_t[]                | AsJagged(AsDtype('>i2'))\n",
      "TrackCovMatrix       | TClonesArray             | AsGroup(<TBranchElement 'Tr...\n",
      "TrackCovMatrix/Tr... | Float16_t[]              | AsJagged(AsFloat16(0, 0, 12))\n",
      "TrackCovMatrix/Tr... | Float16_t[]              | AsJagged(AsFloat16(0, 0, 12))\n",
      "TrackCovMatrix/Tr... | Float16_t[]              | AsJagged(AsFloat16(-3.14159...\n",
      "TrackCovMatrix/Tr... | Float16_t[]              | AsJagged(AsFloat16(0, 0, 12))\n",
      "TrackCovMatrix/Tr... | Float16_t[]              | AsJagged(AsFloat16(-10.0, 1...\n",
      "TrackCovMatrix/Tr... | Float16_t[]              | AsJagged(AsFloat16(0, 0, 12))\n",
      "TrackCovMatrix/Tr... | Float16_t[][5]           | AsJagged(AsFloat16(0, 0, 12...\n",
      "TrackCovMatrix/Tr... | Float16_t[][10]          | AsJagged(AsFloat16(-1.0, 1....\n",
      "BEmcSmdEHit          | TClonesArray             | AsGroup(<TBranchElement 'BE...\n",
      "BEmcSmdEHit/BEmcS... | int16_t[]                | AsJagged(AsDtype('>i2'))\n",
      "BEmcSmdEHit/BEmcS... | int16_t[]                | AsJagged(AsDtype('>i2'))\n",
      "BEmcSmdEHit/BEmcS... | float[]                  | AsJagged(AsDtype('>f4'))\n",
      "BEmcSmdPHit          | TClonesArray             | AsGroup(<TBranchElement 'BE...\n",
      "BEmcSmdPHit/BEmcS... | int16_t[]                | AsJagged(AsDtype('>i2'))\n",
      "BEmcSmdPHit/BEmcS... | int16_t[]                | AsJagged(AsDtype('>i2'))\n",
      "BEmcSmdPHit/BEmcS... | float[]                  | AsJagged(AsDtype('>f4'))\n",
      "ETofHit              | TClonesArray             | AsGroup(<TBranchElement 'ET...\n",
      "ETofHit/ETofHit.m... | uint8_t[]                | AsJagged(AsDtype('uint8'))\n",
      "ETofHit/ETofHit.m... | int16_t[]                | AsJagged(AsDtype('>i2'))\n",
      "ETofHit/ETofHit.m... | int16_t[]                | AsJagged(AsDtype('>i2'))\n",
      "ETofHit/ETofHit.m... | uint8_t[]                | AsJagged(AsDtype('uint8'))\n",
      "ETofHit/ETofHit.m... | float[]                  | AsJagged(AsDtype('>f4'))\n",
      "ETofHit/ETofHit.m... | uint16_t[]               | AsJagged(AsDtype('>u2'))\n",
      "ETofPidTraits        | TClonesArray             | AsGroup(<TBranchElement 'ET...\n",
      "ETofPidTraits/ETo... | int16_t[]                | AsJagged(AsDtype('>i2'))\n",
      "ETofPidTraits/ETo... | int16_t[]                | AsJagged(AsDtype('>i2'))\n",
      "ETofPidTraits/ETo... | int8_t[]                 | AsJagged(AsDtype('int8'))\n",
      "ETofPidTraits/ETo... | float[]                  | AsJagged(AsDtype('>f4'))\n",
      "ETofPidTraits/ETo... | uint16_t[]               | AsJagged(AsDtype('>u2'))\n",
      "ETofPidTraits/ETo... | int16_t[]                | AsJagged(AsDtype('>i2'))\n",
      "ETofPidTraits/ETo... | int16_t[]                | AsJagged(AsDtype('>i2'))\n",
      "ETofPidTraits/ETo... | int16_t[]                | AsJagged(AsDtype('>i2'))\n",
      "ETofPidTraits/ETo... | int16_t[]                | AsJagged(AsDtype('>i2'))\n",
      "ETofPidTraits/ETo... | int16_t[]                | AsJagged(AsDtype('>i2'))\n"
     ]
    }
   ],
   "source": [
    "picodst.show()"
   ]
  },
  {
   "cell_type": "markdown",
   "id": "ede7eb9b-2a9a-4932-8f7a-6a66cde30126",
   "metadata": {
    "tags": []
   },
   "source": [
    "### Extracting arrays\n",
    "\n"
   ]
  },
  {
   "cell_type": "markdown",
   "id": "e39e25c4-5efa-4746-93c6-35ca3c11f433",
   "metadata": {},
   "source": [
    "[TBranch.array](https://uproot.readthedocs.io/en/latest/uproot.behaviors.TBranch.TBranch.html#array) reads an entire TBranch (all TBaskets) from the file."
   ]
  },
  {
   "cell_type": "code",
   "execution_count": 158,
   "id": "c6118f07-d1c6-47eb-9820-9b89b32270f1",
   "metadata": {},
   "outputs": [
    {
     "data": {
      "text/plain": [
       "<Array [[2], [3], [4], ... [211], [212], [213]] type='8004 * var * int32'>"
      ]
     },
     "execution_count": 158,
     "metadata": {},
     "output_type": "execute_result"
    }
   ],
   "source": [
    "picodst[\"Event/Event.mEventId\"].array()"
   ]
  },
  {
   "cell_type": "markdown",
   "id": "a2cb595a-50be-4d38-b041-99f2cf6b9828",
   "metadata": {},
   "source": [
    "For large and/or remote files, you can limit how much it reads with `entry_start` and `entry_stop`.\n",
    "\n",
    "That can save time when you're exploring, or it can be used in a parallel job (e.g. \"this task is responsible for `entry_start=10000, entry_stop=20000`\")."
   ]
  },
  {
   "cell_type": "code",
   "execution_count": 159,
   "id": "33428f9b-ae7c-41b2-a3b9-d0eea613c254",
   "metadata": {},
   "outputs": [
    {
     "data": {
      "text/plain": [
       "<Array [[2], [3], [4], ... [9], [10], [11]] type='10 * var * int32'>"
      ]
     },
     "execution_count": 159,
     "metadata": {},
     "output_type": "execute_result"
    }
   ],
   "source": [
    "picodst[\"Event/Event.mEventId\"].array(entry_stop=10)"
   ]
  },
  {
   "cell_type": "markdown",
   "id": "7cd7d842-6aa6-4f84-9bd3-5224433772d9",
   "metadata": {},
   "source": [
    "[TTree.arrays](https://uproot.readthedocs.io/en/latest/uproot.behaviors.TTree.TTree.html#arrays) reads multiple TBranches from the file.\n",
    "\n",
    "It is important to filter the TBranches somehow, with `filter_name`/`filter_typename` or with a set of `expressions`, to prevent it from trying to read the whole file!\n",
    "\n",
    "First, test the filter on [TTree.keys](https://uproot.readthedocs.io/en/latest/uproot.behaviors.TTree.TTree.html#keys) to be sure it's selecting the TBranches you want."
   ]
  },
  {
   "cell_type": "code",
   "execution_count": 170,
   "id": "c9c9ca3b-ff68-4414-8c4a-f175be596d0a",
   "metadata": {},
   "outputs": [
    {
     "data": {
      "text/plain": [
       "['Event/Event.mPrimaryVertexX',\n",
       " 'Event/Event.mPrimaryVertexY',\n",
       " 'Event/Event.mPrimaryVertexZ']"
      ]
     },
     "execution_count": 170,
     "metadata": {},
     "output_type": "execute_result"
    }
   ],
   "source": [
    "picodst.keys(filter_name=\"*mPrimaryVertex[XYZ]\")"
   ]
  },
  {
   "cell_type": "markdown",
   "id": "88dfa4db-c357-4668-822c-0e9ad5de6380",
   "metadata": {},
   "source": [
    "Then, apply the same filters to [TTree.arrays](https://uproot.readthedocs.io/en/latest/uproot.behaviors.TTree.TTree.html#arrays) to read everything in one network request."
   ]
  },
  {
   "cell_type": "code",
   "execution_count": 171,
   "id": "973ba8c3-2705-4abb-8a17-e4fcc1adb0ef",
   "metadata": {},
   "outputs": [
    {
     "data": {
      "text/plain": [
       "<Array [{'Event.mPrimaryVertexX': [, ... ] type='8004 * {\"Event.mPrimaryVertexX\"...'>"
      ]
     },
     "execution_count": 171,
     "metadata": {},
     "output_type": "execute_result"
    }
   ],
   "source": [
    "primary_vertex = picodst.arrays(filter_name=\"*mPrimaryVertex[XYZ]\")\n",
    "primary_vertex"
   ]
  },
  {
   "cell_type": "markdown",
   "id": "479fd3d1-f891-4ee9-b41f-e86f7473d9b6",
   "metadata": {},
   "source": [
    "The data have been downloaded. Extracting its parts is fast."
   ]
  },
  {
   "cell_type": "code",
   "execution_count": 172,
   "id": "8b218ed3-d5ee-4f14-bb36-bc7be9754c6f",
   "metadata": {},
   "outputs": [
    {
     "data": {
      "text/plain": [
       "<Array [[-0.0856], [-0.0978, ... [-0.159]] type='8004 * var * float32'>"
      ]
     },
     "execution_count": 172,
     "metadata": {},
     "output_type": "execute_result"
    }
   ],
   "source": [
    "primary_vertex[\"Event.mPrimaryVertexX\"]"
   ]
  },
  {
   "cell_type": "code",
   "execution_count": 173,
   "id": "8051b422-36b1-454e-b09c-2f1ab396fd54",
   "metadata": {},
   "outputs": [
    {
     "data": {
      "text/plain": [
       "<Array [[-0.148], [-0.147, ... [-0.132]] type='8004 * var * float32'>"
      ]
     },
     "execution_count": 173,
     "metadata": {},
     "output_type": "execute_result"
    }
   ],
   "source": [
    "primary_vertex[\"Event.mPrimaryVertexY\"]"
   ]
  },
  {
   "cell_type": "code",
   "execution_count": 174,
   "id": "02f2b6be-cf67-4792-9a37-82e795d253ea",
   "metadata": {},
   "outputs": [
    {
     "data": {
      "text/plain": [
       "<Array [[-48.8], [-19.6], ... [85.2], [46.3]] type='8004 * var * float32'>"
      ]
     },
     "execution_count": 174,
     "metadata": {},
     "output_type": "execute_result"
    }
   ],
   "source": [
    "primary_vertex[\"Event.mPrimaryVertexZ\"]"
   ]
  },
  {
   "cell_type": "markdown",
   "id": "6a4b04a6-a513-4ed9-9b08-0b0379f99fe6",
   "metadata": {
    "tags": []
   },
   "source": [
    "### Iterating over data in batches"
   ]
  },
  {
   "cell_type": "markdown",
   "id": "f4017b91-82c9-4bfa-87a9-175af7884f2d",
   "metadata": {},
   "source": [
    "The last section of the NumPy tutorial advocated an \"iterate over batches\" approach.\n",
    "\n",
    "[TTree.iterate](https://uproot.readthedocs.io/en/latest/uproot.behaviors.TTree.TTree.html#iterate) does that with an interface that's similar to [TTree.arrays](https://uproot.readthedocs.io/en/latest/uproot.behaviors.TTree.TTree.html#arrays), and [uproot.iterate](https://uproot.readthedocs.io/en/latest/uproot.behaviors.TBranch.iterate.html) does that with a collection of files."
   ]
  },
  {
   "cell_type": "code",
   "execution_count": 176,
   "id": "0927750f-289e-4b64-98a1-dd9f19267364",
   "metadata": {},
   "outputs": [
    {
     "data": {
      "text/plain": [
       "['Track/Track.mGMomentumX',\n",
       " 'Track/Track.mGMomentumY',\n",
       " 'Track/Track.mGMomentumZ']"
      ]
     },
     "execution_count": 176,
     "metadata": {},
     "output_type": "execute_result"
    }
   ],
   "source": [
    "picodst.keys(filter_name=\"*mGMomentum[XYZ]\")"
   ]
  },
  {
   "cell_type": "markdown",
   "id": "0ebb9053-e710-4960-ae52-319bd6204396",
   "metadata": {},
   "source": [
    "Quick check to see how much this is going to download (234 MB)."
   ]
  },
  {
   "cell_type": "code",
   "execution_count": 178,
   "id": "51a0490d-f085-427e-a107-25f8ba412f6b",
   "metadata": {},
   "outputs": [
    {
     "data": {
      "text/plain": [
       "234.476394"
      ]
     },
     "execution_count": 178,
     "metadata": {},
     "output_type": "execute_result"
    }
   ],
   "source": [
    "picodst[\"Track/Track.mGMomentumX\"].compressed_bytes * 3 / 1000**2"
   ]
  },
  {
   "cell_type": "code",
   "execution_count": 179,
   "id": "dbd94d5b-2786-4428-ad94-e0f5c06944c8",
   "metadata": {},
   "outputs": [
    {
     "data": {
      "text/plain": [
       "8004"
      ]
     },
     "execution_count": 179,
     "metadata": {},
     "output_type": "execute_result"
    }
   ],
   "source": [
    "picodst.num_entries"
   ]
  },
  {
   "cell_type": "code",
   "execution_count": 182,
   "id": "86672ea3-51f7-4df3-884e-a46d5df44961",
   "metadata": {},
   "outputs": [
    {
     "name": "stdout",
     "output_type": "stream",
     "text": [
      "100 [{'Track.mGMomentumX': [-0.124, -0.133, -0.323, -0.118, ... 0.178, 0.277, 0.256]}]\n",
      "100 [{'Track.mGMomentumX': [0.213, 0.0786, -0.244, -0.626, ... 0.113, 0.00738, 0.237]}]\n",
      "100 [{'Track.mGMomentumX': [0.319, -0.0575, 0.0512, -0.465, ... 0.117, 0.329, 0.368]}]\n",
      "100 [{'Track.mGMomentumX': [0.0971, -0.137, 0.394, 0.0512, ... 0.0899, 0.00409, 1.27]}]\n",
      "100 [{'Track.mGMomentumX': [0.103, -0.0175, -0.261, -0.269, ... 0.159, 0.066, 0.258]}]\n",
      "100 [{'Track.mGMomentumX': [1.14, 2.41, 0.481, -0.43, ... 0.358, 1.78, 0.0297, 0.149]}]\n",
      "100 [{'Track.mGMomentumX': [-0.196, 0.133, -0.00221, -0.315, ... 6.02, 0.035, 0.166]}]\n",
      "100 [{'Track.mGMomentumX': [-0.0248, 0.0173, 0.0867, 0.0721, ... 0.627, 0.791, 0.151]}]\n",
      "100 [{'Track.mGMomentumX': [-0.17, -0.313, -0.226, -0.305, ... 0.315, 0.967, 0.518]}]\n",
      "100 [{'Track.mGMomentumX': [-0.511, 0.886, 0.126, -0.429, ... 0.00284, 0.447, 0.256]}]\n",
      "100 [{'Track.mGMomentumX': [0.0396, -0.0843, -0.248, 0.544, ... 0.385, 7.57, 3.17]}]\n",
      "100 [{'Track.mGMomentumX': [0.108, 0.0744, -0.013, 0.0366, ... -0.0927, 0.511, 1.11]}]\n",
      "100 [{'Track.mGMomentumX': [-0.454, -0.295, -0.0631, -0.621, ... 0.182, 0.0918, 0.243]}]\n",
      "100 [{'Track.mGMomentumX': [-0.273, -1.33, -0.956, -0.299, ... 0.372, 0.133, -0.0112]}]\n",
      "100 [{'Track.mGMomentumX': [0.0142, -1.38, 0.315, 0.612, ... -0.0772, 0.097, 0.308]}]\n",
      "100 [{'Track.mGMomentumX': [-0.277, -0.67, -0.136, 0.031, ... 2.32, -0.0462, 0.145]}]\n",
      "100 [{'Track.mGMomentumX': [-0.31, -0.693, 0.446, 0.215, ... 0.513, 0.528, 0.04]}]\n",
      "100 [{'Track.mGMomentumX': [-0.322, -0.335, -0.685, -0.375, ... 0.0966, 0.254, 0.778]}]\n",
      "100 [{'Track.mGMomentumX': [-0.799, 0.45, 0.134, -0.628, ... 0.567, -0.0267, 0.358]}]\n",
      "100 [{'Track.mGMomentumX': [-0.232, -1.18, -0.265, 0.223, ... 2.34, 0.478, 0.407]}]\n",
      "100 [{'Track.mGMomentumX': [0.0752, 0.112, 0.0744, 0.262, ... 5.62, 0.149, -0.0557]}]\n",
      "100 [{'Track.mGMomentumX': [0.0266, 0.3, -0.261, -0.35, ... 0.107, -0.0284, -0.00292]}]\n",
      "100 [{'Track.mGMomentumX': [-0.194, -0.325, -0.27, -0.0559, ... -0.0414, 0.643, 0.12]}]\n",
      "100 [{'Track.mGMomentumX': [-0.405, 0.0152, -0.247, -0.181, ... -0.009, 3.66, 1.99]}]\n",
      "100 [{'Track.mGMomentumX': [0.417, 0.0779, 0.423, -0.195, ... 0.0884, 0.216, 2.1, 2]}]\n",
      "100 [{'Track.mGMomentumX': [-0.743, 0.139, 0.0479, 0.249, ... 0.274, 0.143, 0.249]}]\n",
      "100 [{'Track.mGMomentumX': [-0.336, 0.329, 0.398, 0.189, ... 0.0243, 0.195, 0.0446]}]\n",
      "100 [{'Track.mGMomentumX': [0.324, 0.113, 0.328, 0.367, ... 0.336, 0.208, -0.0328]}]\n",
      "100 [{'Track.mGMomentumX': [-0.0506, 0.115, -0.213, 0.963, ... 0.315, 0.05, -0.00471]}]\n",
      "100 [{'Track.mGMomentumX': [-0.413, 0.218, -0.219, 0.0599, ... 1.55, 0.561, 0.128]}]\n",
      "100 [{'Track.mGMomentumX': [-0.242, -0.16, -0.152, 0.207, ... 0.825, 0.191, 0.0702]}]\n",
      "100 [{'Track.mGMomentumX': [0.0686, -0.186, -1.07, -0.469, ... -0.107, -0.0292, 0.633]}]\n",
      "100 [{'Track.mGMomentumX': [0.208, -0.736, -0.695, -0.0967, ... 9.49, 0.0108, 0.367]}]\n",
      "100 [{'Track.mGMomentumX': [0.335, -0.251, -0.282, 0.297, ... 4.02, 0.0184, 2.9, 0.231]}]\n",
      "100 [{'Track.mGMomentumX': [-0.276, 0.642, 0.114, -0.372, ... -0.126, 0.172, 1.66]}]\n",
      "100 [{'Track.mGMomentumX': [-0.0693, -0.0731, -0.246, 0.338, ... 0.476, 0.527, 0.26]}]\n",
      "100 [{'Track.mGMomentumX': [-0.0458, -0.0189, 0.155, 0.306, ... 0.219, 0.175, -0.00976]}]\n",
      "100 [{'Track.mGMomentumX': [-0.00205, 0.0263, 0.0763, ... 1.73, -0.0105, 0.0167]}]\n",
      "100 [{'Track.mGMomentumX': [-0.264, -0.367, -0.278, 0.234, ... 0.269, 0.0241, 2.18]}]\n",
      "100 [{'Track.mGMomentumX': [0.161, -0.4, -0.24, 0.0269, ... 0.0529, 11.9, 0.0249]}]\n",
      "100 [{'Track.mGMomentumX': [0.857, 0.195, -0.569, 0.179, ... -0.00185, 0.19, 0.0637]}]\n",
      "100 [{'Track.mGMomentumX': [-0.523, -0.131, 0.471, -0.248, ... 0.24, -0.008, 0.0134]}]\n",
      "100 [{'Track.mGMomentumX': [-0.338, 0.161, -0.335, 0.779, ... 0.0264, 0.643, 0.351]}]\n",
      "100 [{'Track.mGMomentumX': [-0.109, 0.1, 0.108, 0.353, ... 0.51, 0.17, 0.0184, 0.174]}]\n",
      "100 [{'Track.mGMomentumX': [0.27, -0.251, -0.491, -0.446, ... -0.0561, 0.0417, 0.6]}]\n",
      "100 [{'Track.mGMomentumX': [-0.253, -0.388, 0.268, 0.112, ... 0.561, 9.42, 0.717]}]\n",
      "100 [{'Track.mGMomentumX': [-0.0898, 0.00968, 0.246, 0.044, ... 0.103, 0.717, -19.4]}]\n",
      "100 [{'Track.mGMomentumX': [-0.117, -0.252, 0.209, 0.211, ... 0.0714, 0.271, -0.0271]}]\n",
      "100 [{'Track.mGMomentumX': [0.229, 0.187, -0.0311, 0.344, ... -0.0318, 0.206, 0.147]}]\n",
      "100 [{'Track.mGMomentumX': [0.276, -0.056, -0.172, -0.13, ... 0.00914, 0.0436, 0.705]}]\n",
      "100 [{'Track.mGMomentumX': [0.208, -0.521, 0.0782, 0.1, ... 0.144, 0.171, 0.471, 0.183]}]\n",
      "100 [{'Track.mGMomentumX': [-0.315, 0.382, -0.106, -0.255, ... -0.0356, 0.162, -0.0464]}]\n",
      "100 [{'Track.mGMomentumX': [0.106, 0.0659, -0.45, 0.0848, ... 0.251, 0.145, 0.147]}]\n",
      "100 [{'Track.mGMomentumX': [-0.0381, 0.319, -0.816, 0.0367, ... 0.0577, 0.00584, 0.531]}]\n",
      "100 [{'Track.mGMomentumX': [0.102, -0.668, -0.0752, -0.489, ... 0.327, 0.15, 0.432]}]\n",
      "100 [{'Track.mGMomentumX': [-0.0636, 0.112, -0.669, 0.276, ... -0.0303, 0.319, 0.549]}]\n",
      "100 [{'Track.mGMomentumX': [-20.5, -0.55, -0.0574, -0.288, ... 0.424, -0.039, 0.0926]}]\n",
      "100 [{'Track.mGMomentumX': [0.0382, -0.168, -0.549, -0.121, ... 2.11, 0.359, 0.0701]}]\n",
      "100 [{'Track.mGMomentumX': [-0.315, 0.17, 0.166, 0.207, ... 0.0508, 20.4, 0.221, 1.23]}]\n",
      "100 [{'Track.mGMomentumX': [-0.384, -0.395, -0.0564, 0.229, ... 1.26, 0.36, -0.0523]}]\n",
      "100 [{'Track.mGMomentumX': [0.0676, 0.208, -0.0401, -0.164, ... 0.389, -0.0534, 0.663]}]\n",
      "100 [{'Track.mGMomentumX': [-0.46, 0.255, -0.316, -22.1, ... 0.17, 0.00278, 0.0983]}]\n",
      "100 [{'Track.mGMomentumX': [-0.338, 0.217, 0.197, 0.237, ... 0.0737, 0.704, 0.422]}]\n",
      "100 [{'Track.mGMomentumX': [0.322, 0.0894, 0.934, 0.141, ... 0.163, 0.254, 0.135]}]\n",
      "100 [{'Track.mGMomentumX': [-0.186, -0.381, 0.2, 0.133, ... 0.562, 0.513, -0.0467]}]\n",
      "100 [{'Track.mGMomentumX': [-0.478, 0.371, -0.304, -0.306, ... 0.00345, -0.0126, 12.9]}]\n",
      "100 [{'Track.mGMomentumX': [-0.422, -0.0493, 0.00216, ... -0.0104, 0.0643, 1.38]}]\n",
      "100 [{'Track.mGMomentumX': [0.196, 0.222, -0.391, -0.254, ... 0.0595, 0.0684, 0.0251]}]\n",
      "100 [{'Track.mGMomentumX': [0.0492, -0.029, 0.00055, -0.799, ... -0.0368, 0.33, 0.293]}]\n",
      "100 [{'Track.mGMomentumX': [-0.337, -0.768, -0.579, 0.204, ... 0.146, 0.144, -0.000927]}]\n",
      "100 [{'Track.mGMomentumX': [-0.357, 0.31, -0.0528, 0.529, ... 0.291, 1.66, 1.19, 0.353]}]\n",
      "100 [{'Track.mGMomentumX': [-0.392, 0.131, -0.647, -0.291, ... 0.141, 0.597, 2.33]}]\n",
      "100 [{'Track.mGMomentumX': [0.0195, -0.31, 0.2, 0.045, ... 0.383, 1.55, 0.401, -0.0117]}]\n",
      "100 [{'Track.mGMomentumX': [-0.206, -0.76, -0.353, 0.132, ... 0.239, 0.00158, 0.193]}]\n",
      "100 [{'Track.mGMomentumX': [-0.34, 0.257, -0.255, -0.875, ... 0.0485, 0.00143, -0.0481]}]\n",
      "100 [{'Track.mGMomentumX': [0.204, 0.29, -0.254, 0.965, ... 1.35, 0.874, 0.403, 0.535]}]\n",
      "100 [{'Track.mGMomentumX': [0.769, 0.224, -0.492, 0.16, ... -0.000484, -0.0164, 0.408]}]\n",
      "100 [{'Track.mGMomentumX': [0.333, 0.177, -0.372, 0.282, ... 20.2, 0.067, -0.0117]}]\n",
      "100 [{'Track.mGMomentumX': [-0.215, -0.22, 0.202, 0.327, ... -0.0188, 0.582, 0.482]}]\n",
      "100 [{'Track.mGMomentumX': [-0.126, -0.27, 0.318, 0.0109, ... 0.769, 0.077, 0.366]}]\n",
      "4 [{'Track.mGMomentumX': [-0.241, -0.708, -0.193, 0.356, ... 0.0306, 0.488, 0.934]}]\n"
     ]
    }
   ],
   "source": [
    "for arrays in picodst.iterate(filter_name=\"*mGMomentum[XYZ]\", step_size=100):\n",
    "    # put your analysis in here\n",
    "    print(len(arrays), arrays)"
   ]
  },
  {
   "cell_type": "markdown",
   "id": "4f5afbe6-52bf-4c65-b604-7106fc87dd1e",
   "metadata": {
    "tags": []
   },
   "source": [
    "## 4. Awkward Array: complex data in arrays"
   ]
  },
  {
   "cell_type": "markdown",
   "id": "87923fae-dddc-4336-902a-7eb3e465b30f",
   "metadata": {},
   "source": [
    "<img src=\"fig/awkward-logo.svg\" style=\"height: 150px\">"
   ]
  },
  {
   "cell_type": "markdown",
   "id": "ee184140-5c9b-4b42-a75f-686e33b2d015",
   "metadata": {
    "tags": []
   },
   "source": [
    "### Introduction"
   ]
  },
  {
   "cell_type": "markdown",
   "id": "2fbb8bdb-d49f-4528-b351-1cc1691e122f",
   "metadata": {},
   "source": [
    "You might have noticed that the arrays Uproot returned (by default) were not NumPy arrays.\n",
    "\n",
    "That's because our data frequently has variable-length structures, and NumPy deals strictly with rectilinear arrays.\n",
    "\n",
    "**Awkward Array is an extension of NumPy to generic data types, including nested lists.**\n",
    "\n",
    "See [awkward-array.org](https://awkward-array.org/) for tutorials and reference documentation.\n",
    "\n",
    "<img src=\"fig/pivarski-one-slide-summary.svg\" width=\"1000px\">"
   ]
  },
  {
   "cell_type": "markdown",
   "id": "f8b72e28-227c-4fea-87da-61a554199b5c",
   "metadata": {},
   "source": [
    "### Slicing in Awkward Array"
   ]
  },
  {
   "cell_type": "markdown",
   "id": "706ff9e8-fc49-4195-9146-eb2b99718bd7",
   "metadata": {},
   "source": [
    "Like NumPy, the Awkward Array library has one major type, `ak.Array`, and a suite of functions that operate on arrays.\n",
    "\n",
    "Like NumPy, `ak.Arrays` can be sliced in multiple dimensions, including boolean-array and integer-array slicing."
   ]
  },
  {
   "cell_type": "code",
   "execution_count": 359,
   "id": "aba8a7e2-3860-4f1e-b4d3-460551ed4552",
   "metadata": {},
   "outputs": [],
   "source": [
    "import awkward as ak"
   ]
  },
  {
   "cell_type": "code",
   "execution_count": 363,
   "id": "d05ed299-82e3-4d6e-9004-5895cd8afd97",
   "metadata": {},
   "outputs": [
    {
     "data": {
      "text/plain": [
       "<Array [0, 1.1, 2.2, 3.3, ... 7.7, 8.8, 9.9] type='10 * float64'>"
      ]
     },
     "execution_count": 363,
     "metadata": {},
     "output_type": "execute_result"
    }
   ],
   "source": [
    "some_array = ak.Array([0.0, 1.1, 2.2, 3.3, 4.4, 5.5, 6.6, 7.7, 8.8, 9.9])\n",
    "some_array"
   ]
  },
  {
   "cell_type": "code",
   "execution_count": 364,
   "id": "9c140990-c770-435d-bbf9-cfe27790e0ce",
   "metadata": {},
   "outputs": [
    {
     "data": {
      "text/plain": [
       "2.2"
      ]
     },
     "execution_count": 364,
     "metadata": {},
     "output_type": "execute_result"
    }
   ],
   "source": [
    "some_array[2]"
   ]
  },
  {
   "cell_type": "code",
   "execution_count": 366,
   "id": "bd51d470-9b42-4498-a2ca-aa49187449ff",
   "metadata": {},
   "outputs": [
    {
     "data": {
      "text/plain": [
       "<Array [7.7, 6.6, 5.5, 4.4, ... 2.2, 1.1, 0] type='8 * float64'>"
      ]
     },
     "execution_count": 366,
     "metadata": {},
     "output_type": "execute_result"
    }
   ],
   "source": [
    "some_array[-3::-1]"
   ]
  },
  {
   "cell_type": "code",
   "execution_count": 367,
   "id": "4e2b0987-708e-4560-ad7e-7edea4ef04ea",
   "metadata": {},
   "outputs": [
    {
     "data": {
      "text/plain": [
       "<Array [0, 1.1, 2.2, 3.3, 4.4, 6.6, 8.8] type='7 * float64'>"
      ]
     },
     "execution_count": 367,
     "metadata": {},
     "output_type": "execute_result"
    }
   ],
   "source": [
    "some_array    = ak.Array([ 0.0,  1.1,  2.2,  3.3,  4.4,   5.5,  6.6,   7.7,  8.8,   9.9])\n",
    "boolean_slice = ak.Array([True, True, True, True, True, False, True, False, True, False])\n",
    "\n",
    "some_array[boolean_slice]"
   ]
  },
  {
   "cell_type": "code",
   "execution_count": 368,
   "id": "5488784a-a328-4e0a-9a7d-6f5366391b4c",
   "metadata": {},
   "outputs": [
    {
     "data": {
      "text/plain": [
       "<Array [4.4, 2.2, 2.2, 0, 9.9, 8.8, 3.3] type='7 * float64'>"
      ]
     },
     "execution_count": 368,
     "metadata": {},
     "output_type": "execute_result"
    }
   ],
   "source": [
    "integer_slice = ak.Array([4, 2, 2, 0, 9, 8, 3])\n",
    "\n",
    "some_array[integer_slice]"
   ]
  },
  {
   "cell_type": "markdown",
   "id": "555f947f-d443-4f2a-82db-b8cfe32255d3",
   "metadata": {},
   "source": [
    "Unlike NumPy, lists within a multidimensional array need not have the same length."
   ]
  },
  {
   "cell_type": "code",
   "execution_count": 369,
   "id": "dabc17b7-6868-4079-ba1b-8554cc73c81d",
   "metadata": {},
   "outputs": [
    {
     "data": {
      "text/plain": [
       "<Array [[0, 1.1, 2.2], ... 6.6, 7.7, 8.8, 9.9]] type='5 * var * float64'>"
      ]
     },
     "execution_count": 369,
     "metadata": {},
     "output_type": "execute_result"
    }
   ],
   "source": [
    "another_array = ak.Array([[0.0, 1.1, 2.2], [], [3.3, 4.4], [5.5], [6.6, 7.7, 8.8, 9.9]])\n",
    "another_array"
   ]
  },
  {
   "cell_type": "markdown",
   "id": "39857423-07df-47d7-a3ed-99cad2500621",
   "metadata": {},
   "source": [
    "But it can still be sliced."
   ]
  },
  {
   "cell_type": "code",
   "execution_count": 372,
   "id": "85b6f7b6-89d4-409d-8ad8-5a3460a3df1d",
   "metadata": {},
   "outputs": [
    {
     "data": {
      "text/plain": [
       "<Array [[2.2], [], [], [], [8.8, 9.9]] type='5 * var * float64'>"
      ]
     },
     "execution_count": 372,
     "metadata": {},
     "output_type": "execute_result"
    }
   ],
   "source": [
    "another_array[:, 2:]"
   ]
  },
  {
   "cell_type": "code",
   "execution_count": 374,
   "id": "fa58f92b-e768-4f42-b228-ac6c9c809d81",
   "metadata": {},
   "outputs": [
    {
     "data": {
      "text/plain": [
       "<Array [0, 3.3, 6.6] type='3 * float64'>"
      ]
     },
     "execution_count": 374,
     "metadata": {},
     "output_type": "execute_result"
    }
   ],
   "source": [
    "another_array[::2, 0]"
   ]
  },
  {
   "cell_type": "markdown",
   "id": "c0c6d40a-8b90-4b47-8051-f993d81776c6",
   "metadata": {},
   "source": [
    "Since inner lists can have different lengths and some might even be empty, it's much easier to make slices that can't be satisfied. For instance,"
   ]
  },
  {
   "cell_type": "code",
   "execution_count": 390,
   "id": "0079093a-aabd-4a5b-8d8e-0d08b5662b61",
   "metadata": {},
   "outputs": [
    {
     "ename": "ValueError",
     "evalue": "in ListOffsetArray64 attempting to get 0, index out of range\n\n(https://github.com/scikit-hep/awkward-1.0/blob/1.5.0/src/cpu-kernels/awkward_NumpyArray_getitem_next_at.cpp#L21)",
     "output_type": "error",
     "traceback": [
      "\u001b[0;31m---------------------------------------------------------------------------\u001b[0m",
      "\u001b[0;31mValueError\u001b[0m                                Traceback (most recent call last)",
      "\u001b[0;32m/tmp/ipykernel_13488/3873997980.py\u001b[0m in \u001b[0;36m<module>\u001b[0;34m\u001b[0m\n\u001b[0;32m----> 1\u001b[0;31m \u001b[0manother_array\u001b[0m\u001b[0;34m[\u001b[0m\u001b[0;34m:\u001b[0m\u001b[0;34m,\u001b[0m \u001b[0;36m0\u001b[0m\u001b[0;34m]\u001b[0m\u001b[0;34m\u001b[0m\u001b[0;34m\u001b[0m\u001b[0m\n\u001b[0m",
      "\u001b[0;32m~/miniconda3/lib/python3.8/site-packages/awkward/highlevel.py\u001b[0m in \u001b[0;36m__getitem__\u001b[0;34m(self, where)\u001b[0m\n\u001b[1;32m    994\u001b[0m         \"\"\"\n\u001b[1;32m    995\u001b[0m         \u001b[0;32mif\u001b[0m \u001b[0;32mnot\u001b[0m \u001b[0mhasattr\u001b[0m\u001b[0;34m(\u001b[0m\u001b[0mself\u001b[0m\u001b[0;34m,\u001b[0m \u001b[0;34m\"_tracers\"\u001b[0m\u001b[0;34m)\u001b[0m\u001b[0;34m:\u001b[0m\u001b[0;34m\u001b[0m\u001b[0;34m\u001b[0m\u001b[0m\n\u001b[0;32m--> 996\u001b[0;31m             \u001b[0mtmp\u001b[0m \u001b[0;34m=\u001b[0m \u001b[0mak\u001b[0m\u001b[0;34m.\u001b[0m\u001b[0m_util\u001b[0m\u001b[0;34m.\u001b[0m\u001b[0mwrap\u001b[0m\u001b[0;34m(\u001b[0m\u001b[0mself\u001b[0m\u001b[0;34m.\u001b[0m\u001b[0mlayout\u001b[0m\u001b[0;34m[\u001b[0m\u001b[0mwhere\u001b[0m\u001b[0;34m]\u001b[0m\u001b[0;34m,\u001b[0m \u001b[0mself\u001b[0m\u001b[0;34m.\u001b[0m\u001b[0m_behavior\u001b[0m\u001b[0;34m)\u001b[0m\u001b[0;34m\u001b[0m\u001b[0;34m\u001b[0m\u001b[0m\n\u001b[0m\u001b[1;32m    997\u001b[0m         \u001b[0;32melse\u001b[0m\u001b[0;34m:\u001b[0m\u001b[0;34m\u001b[0m\u001b[0;34m\u001b[0m\u001b[0m\n\u001b[1;32m    998\u001b[0m             \u001b[0mtmp\u001b[0m \u001b[0;34m=\u001b[0m \u001b[0mak\u001b[0m\u001b[0;34m.\u001b[0m\u001b[0m_connect\u001b[0m\u001b[0;34m.\u001b[0m\u001b[0m_jax\u001b[0m\u001b[0;34m.\u001b[0m\u001b[0mjax_utils\u001b[0m\u001b[0;34m.\u001b[0m\u001b[0m_jaxtracers_getitem\u001b[0m\u001b[0;34m(\u001b[0m\u001b[0mself\u001b[0m\u001b[0;34m,\u001b[0m \u001b[0mwhere\u001b[0m\u001b[0;34m)\u001b[0m\u001b[0;34m\u001b[0m\u001b[0;34m\u001b[0m\u001b[0m\n",
      "\u001b[0;31mValueError\u001b[0m: in ListOffsetArray64 attempting to get 0, index out of range\n\n(https://github.com/scikit-hep/awkward-1.0/blob/1.5.0/src/cpu-kernels/awkward_NumpyArray_getitem_next_at.cpp#L21)"
     ]
    }
   ],
   "source": [
    "another_array[:, 0]"
   ]
  },
  {
   "cell_type": "markdown",
   "id": "824d744d-0f05-4f30-883d-853ee87784b5",
   "metadata": {},
   "source": [
    "Some of Awkward Array's functions, such as [ak.num](https://awkward-array.readthedocs.io/en/latest/_auto/ak.num.html), can help to construct valid slices."
   ]
  },
  {
   "cell_type": "code",
   "execution_count": 383,
   "id": "5280d79f-abe3-4855-8628-cd39921ffdfe",
   "metadata": {},
   "outputs": [
    {
     "data": {
      "text/plain": [
       "<Array [3, 0, 2, 1, 4] type='5 * int64'>"
      ]
     },
     "execution_count": 383,
     "metadata": {},
     "output_type": "execute_result"
    }
   ],
   "source": [
    "ak.num(another_array)"
   ]
  },
  {
   "cell_type": "code",
   "execution_count": 391,
   "id": "966abf67-52c8-4762-9081-a8ba3bf54a57",
   "metadata": {},
   "outputs": [
    {
     "data": {
      "text/plain": [
       "<Array [True, False, True, True, True] type='5 * bool'>"
      ]
     },
     "execution_count": 391,
     "metadata": {},
     "output_type": "execute_result"
    }
   ],
   "source": [
    "ak.num(another_array) > 0"
   ]
  },
  {
   "cell_type": "code",
   "execution_count": 392,
   "id": "e6b27c38-e3ee-43ff-a658-a4ac48e6fd86",
   "metadata": {},
   "outputs": [
    {
     "data": {
      "text/plain": [
       "<Array [[0, 1.1, 2.2], ... 6.6, 7.7, 8.8, 9.9]] type='4 * var * float64'>"
      ]
     },
     "execution_count": 392,
     "metadata": {},
     "output_type": "execute_result"
    }
   ],
   "source": [
    "another_array[ak.num(another_array) > 0]"
   ]
  },
  {
   "cell_type": "code",
   "execution_count": 393,
   "id": "c71cc13b-c555-4bcf-859f-003ead3693de",
   "metadata": {},
   "outputs": [
    {
     "data": {
      "text/plain": [
       "<Array [0, 3.3, 5.5, 6.6] type='4 * float64'>"
      ]
     },
     "execution_count": 393,
     "metadata": {},
     "output_type": "execute_result"
    }
   ],
   "source": [
    "another_array[ak.num(another_array) > 0, 0]"
   ]
  },
  {
   "cell_type": "markdown",
   "id": "81a4e133-9073-4417-aca8-121a8c1c9375",
   "metadata": {},
   "source": [
    "### Slices beyond NumPy"
   ]
  },
  {
   "cell_type": "markdown",
   "id": "4d74375c-53d5-4f74-a78e-208723c49817",
   "metadata": {},
   "source": [
    "Since Awkward Arrays can have shapes that aren't possible in NumPy, there will be situations where we'll want to make slices that have no NumPy equivalent.\n",
    "\n",
    "Like, what if we want to select all the even numbers from:"
   ]
  },
  {
   "cell_type": "code",
   "execution_count": 394,
   "id": "ae1b5f7b-27cb-4321-a432-6ad72e0f9c96",
   "metadata": {},
   "outputs": [
    {
     "data": {
      "text/plain": [
       "<Array [[0, 1, 2], [], ... [5], [6, 7, 8, 9]] type='5 * var * int64'>"
      ]
     },
     "execution_count": 394,
     "metadata": {},
     "output_type": "execute_result"
    }
   ],
   "source": [
    "even_and_odd = ak.Array([[0, 1, 2], [], [3, 4], [5], [6, 7, 8, 9]])\n",
    "even_and_odd"
   ]
  },
  {
   "cell_type": "markdown",
   "id": "2802022e-407f-426c-a642-3ac50503f117",
   "metadata": {},
   "source": [
    "We can use an elementwise comparison to make a boolean array."
   ]
  },
  {
   "cell_type": "code",
   "execution_count": 395,
   "id": "ecfbb6ae-0256-42c2-90a1-616248f047e9",
   "metadata": {},
   "outputs": [
    {
     "data": {
      "text/plain": [
       "<Array [[True, False, True, ... True, False]] type='5 * var * bool'>"
      ]
     },
     "execution_count": 395,
     "metadata": {},
     "output_type": "execute_result"
    }
   ],
   "source": [
    "is_even = (even_and_odd % 2 == 0)\n",
    "is_even"
   ]
  },
  {
   "cell_type": "markdown",
   "id": "f3ca9743-f8e8-49cd-8334-477fa360e7a2",
   "metadata": {},
   "source": [
    "This `is_even` contains variable-length lists. You can see that from the type and when we turn it back into Python lists:"
   ]
  },
  {
   "cell_type": "code",
   "execution_count": 396,
   "id": "5af517be-74ce-4617-a986-d585c136c99c",
   "metadata": {},
   "outputs": [
    {
     "data": {
      "text/plain": [
       "5 * var * bool"
      ]
     },
     "execution_count": 396,
     "metadata": {},
     "output_type": "execute_result"
    }
   ],
   "source": [
    "is_even.type"
   ]
  },
  {
   "cell_type": "code",
   "execution_count": 397,
   "id": "a3609f18-eca0-402a-85fd-99bda6c26115",
   "metadata": {},
   "outputs": [
    {
     "data": {
      "text/plain": [
       "[[True, False, True], [], [False, True], [False], [True, False, True, False]]"
      ]
     },
     "execution_count": 397,
     "metadata": {},
     "output_type": "execute_result"
    }
   ],
   "source": [
    "is_even.tolist()"
   ]
  },
  {
   "cell_type": "markdown",
   "id": "efa1cca0-634c-420b-a87d-1c562864457c",
   "metadata": {},
   "source": [
    "But the lengths of the lists in this array _are the same_ as the lengths of the lists in `even_and_odd` because the elementwise operation does not change list lengths.\n",
    "\n",
    "We'd like to use this as a cut:"
   ]
  },
  {
   "cell_type": "code",
   "execution_count": 398,
   "id": "96670499-c638-4589-a44a-2e2d80e16218",
   "metadata": {},
   "outputs": [
    {
     "data": {
      "text/plain": [
       "<Array [[0, 2], [], [4], [], [6, 8]] type='5 * var * int64'>"
      ]
     },
     "execution_count": 398,
     "metadata": {},
     "output_type": "execute_result"
    }
   ],
   "source": [
    "even_and_odd[is_even]"
   ]
  },
  {
   "cell_type": "markdown",
   "id": "ba1f72df-da0b-406a-8c2c-ac05eed03047",
   "metadata": {},
   "source": [
    "As long as the slicing array \"fits into\" the array to slice, the array can be sliced.\n",
    "\n",
    "This lets us use Awkward Arrays in the same situations as NumPy arrays, the only difference being that the data can't be arranged into a rectilinear tensor."
   ]
  },
  {
   "cell_type": "markdown",
   "id": "f60eda09-8785-4f73-b357-96bd5471f6ae",
   "metadata": {},
   "source": [
    "### Record arrays\n",
    "\n",
    "Another data type that Awkward Array supports is a \"record.\" This is an object with named, typed fields, like a `class` or `struct` in C++.\n",
    "\n",
    "When converting to or from Python objects, Awkward records correspond to Python dicts. But these are not general mappings like dicts: every instance of a record in the array must have the same fields."
   ]
  },
  {
   "cell_type": "code",
   "execution_count": 399,
   "id": "dd0b98a7-6aa7-4349-bc86-43121534b9d3",
   "metadata": {},
   "outputs": [
    {
     "data": {
      "text/plain": [
       "<Array [{x: 1, y: 1.1}, ... {x: 3, y: 3.3}] type='3 * {\"x\": int64, \"y\": float64}'>"
      ]
     },
     "execution_count": 399,
     "metadata": {},
     "output_type": "execute_result"
    }
   ],
   "source": [
    "array_of_records = ak.Array([{\"x\": 1, \"y\": 1.1}, {\"x\": 2, \"y\": 2.2}, {\"x\": 3, \"y\": 3.3}])\n",
    "array_of_records"
   ]
  },
  {
   "cell_type": "code",
   "execution_count": 400,
   "id": "9402d89e-e966-4798-ae70-136f4de19e53",
   "metadata": {},
   "outputs": [
    {
     "data": {
      "text/plain": [
       "3 * {\"x\": int64, \"y\": float64}"
      ]
     },
     "execution_count": 400,
     "metadata": {},
     "output_type": "execute_result"
    }
   ],
   "source": [
    "array_of_records.type"
   ]
  },
  {
   "cell_type": "code",
   "execution_count": 401,
   "id": "7f976678-388e-4c0f-890f-2efd5cc723db",
   "metadata": {},
   "outputs": [
    {
     "data": {
      "text/plain": [
       "[{'x': 1, 'y': 1.1}, {'x': 2, 'y': 2.2}, {'x': 3, 'y': 3.3}]"
      ]
     },
     "execution_count": 401,
     "metadata": {},
     "output_type": "execute_result"
    }
   ],
   "source": [
    "array_of_records.tolist()"
   ]
  },
  {
   "cell_type": "markdown",
   "id": "f521580d-6301-4dd5-bb73-81f7dceb8a45",
   "metadata": {},
   "source": [
    "Records can be _in_ lists and/or their fields can _contain_ lists."
   ]
  },
  {
   "cell_type": "code",
   "execution_count": 402,
   "id": "d1dacea9-5b6e-4436-90c2-f5916a1f4c27",
   "metadata": {},
   "outputs": [
    {
     "data": {
      "text/plain": [
       "<Array [[{x: 1, y: 1.1}, ... x: 5, y: 5.5}]] type='3 * var * {\"x\": int64, \"y\": f...'>"
      ]
     },
     "execution_count": 402,
     "metadata": {},
     "output_type": "execute_result"
    }
   ],
   "source": [
    "array_of_lists_of_records = ak.Array([\n",
    "    [{\"x\": 1, \"y\": 1.1}, {\"x\": 2, \"y\": 2.2}, {\"x\": 3, \"y\": 3.3}],\n",
    "    [],\n",
    "    [{\"x\": 4, \"y\": 4.4}, {\"x\": 5, \"y\": 5.5}],\n",
    "])\n",
    "array_of_lists_of_records"
   ]
  },
  {
   "cell_type": "code",
   "execution_count": 403,
   "id": "58e31e96-f128-445e-a43d-7cdf74511615",
   "metadata": {},
   "outputs": [
    {
     "data": {
      "text/plain": [
       "3 * var * {\"x\": int64, \"y\": float64}"
      ]
     },
     "execution_count": 403,
     "metadata": {},
     "output_type": "execute_result"
    }
   ],
   "source": [
    "array_of_lists_of_records.type"
   ]
  },
  {
   "cell_type": "code",
   "execution_count": 404,
   "id": "f61db14e-6eb3-48e9-8909-6bf0bf205be1",
   "metadata": {},
   "outputs": [
    {
     "data": {
      "text/plain": [
       "<Array [{x: 1, y: [1]}, ... y: [1, 2, 3]}] type='3 * {\"x\": int64, \"y\": var * int64}'>"
      ]
     },
     "execution_count": 404,
     "metadata": {},
     "output_type": "execute_result"
    }
   ],
   "source": [
    "array_of_records_with_list = ak.Array([\n",
    "    {\"x\": 1, \"y\": [1]}, {\"x\": 2, \"y\": [1, 2]}, {\"x\": 3, \"y\": [1, 2, 3]}\n",
    "])\n",
    "array_of_records_with_list"
   ]
  },
  {
   "cell_type": "code",
   "execution_count": 405,
   "id": "f67a3c77-523e-4b66-b832-8cf0f14c5772",
   "metadata": {},
   "outputs": [
    {
     "data": {
      "text/plain": [
       "3 * {\"x\": int64, \"y\": var * int64}"
      ]
     },
     "execution_count": 405,
     "metadata": {},
     "output_type": "execute_result"
    }
   ],
   "source": [
    "array_of_records_with_list.type"
   ]
  },
  {
   "cell_type": "markdown",
   "id": "46da7894-70a1-4cb7-ba04-7033871a4558",
   "metadata": {},
   "source": [
    "### Fluidity of records"
   ]
  },
  {
   "cell_type": "markdown",
   "id": "8ede1ed2-e6ba-4b26-a349-a7f7d62b19e8",
   "metadata": {},
   "source": [
    "Whereas a class instance is a \"solid\" object in Python or C++, whose existence takes up memory and constructing or deconstructing them takes time, records in Awkward Array are very fluid.\n",
    "\n",
    "Records can be \"projected\" to separate arrays and separate arrays can be \"zipped\" into records for very little computational cost."
   ]
  },
  {
   "cell_type": "code",
   "execution_count": 406,
   "id": "30404fe4-15b7-4179-9d69-4e9049d1bc90",
   "metadata": {},
   "outputs": [
    {
     "data": {
      "text/plain": [
       "<Array [{x: 1, y: 1.1}, ... {x: 3, y: 3.3}] type='3 * {\"x\": int64, \"y\": float64}'>"
      ]
     },
     "execution_count": 406,
     "metadata": {},
     "output_type": "execute_result"
    }
   ],
   "source": [
    "array_of_records"
   ]
  },
  {
   "cell_type": "code",
   "execution_count": 407,
   "id": "084a3e2e-02fd-4f53-a00e-20e9422aa67d",
   "metadata": {},
   "outputs": [
    {
     "data": {
      "text/plain": [
       "<Array [1, 2, 3] type='3 * int64'>"
      ]
     },
     "execution_count": 407,
     "metadata": {},
     "output_type": "execute_result"
    }
   ],
   "source": [
    "array_of_records[\"x\"]    # or array_of_records.x"
   ]
  },
  {
   "cell_type": "code",
   "execution_count": 408,
   "id": "77f207b5-bae1-48b9-b937-935672791c8e",
   "metadata": {},
   "outputs": [
    {
     "data": {
      "text/plain": [
       "<Array [1.1, 2.2, 3.3] type='3 * float64'>"
      ]
     },
     "execution_count": 408,
     "metadata": {},
     "output_type": "execute_result"
    }
   ],
   "source": [
    "array_of_records[\"y\"]    # or array_of_records.y"
   ]
  },
  {
   "cell_type": "code",
   "execution_count": 409,
   "id": "e4b614b9-c4bf-475b-94e1-28d8391d0b01",
   "metadata": {},
   "outputs": [
    {
     "data": {
      "text/plain": [
       "<Array [[1, 2, 3], [], [4, 5]] type='3 * var * int64'>"
      ]
     },
     "execution_count": 409,
     "metadata": {},
     "output_type": "execute_result"
    }
   ],
   "source": [
    "array_of_lists_of_records.x"
   ]
  },
  {
   "cell_type": "code",
   "execution_count": 410,
   "id": "0482fb99-2113-4175-b868-8619349322f1",
   "metadata": {},
   "outputs": [
    {
     "data": {
      "text/plain": [
       "<Array [[1.1, 2.2, 3.3], [], [4.4, 5.5]] type='3 * var * float64'>"
      ]
     },
     "execution_count": 410,
     "metadata": {},
     "output_type": "execute_result"
    }
   ],
   "source": [
    "array_of_lists_of_records.y"
   ]
  },
  {
   "cell_type": "code",
   "execution_count": 411,
   "id": "699e5a63-8593-46d4-81ac-0ef6f33a10fa",
   "metadata": {},
   "outputs": [
    {
     "data": {
      "text/plain": [
       "<Array [1, 2, 3] type='3 * int64'>"
      ]
     },
     "execution_count": 411,
     "metadata": {},
     "output_type": "execute_result"
    }
   ],
   "source": [
    "array_of_records_with_list.x"
   ]
  },
  {
   "cell_type": "code",
   "execution_count": 412,
   "id": "2c8fc88e-17ca-4173-acf9-f24d2ca868e9",
   "metadata": {},
   "outputs": [
    {
     "data": {
      "text/plain": [
       "<Array [[1], [1, 2], [1, 2, 3]] type='3 * var * int64'>"
      ]
     },
     "execution_count": 412,
     "metadata": {},
     "output_type": "execute_result"
    }
   ],
   "source": [
    "array_of_records_with_list.y"
   ]
  },
  {
   "cell_type": "markdown",
   "id": "0ad5b342-85c7-4f63-848a-4e013bc4e71a",
   "metadata": {},
   "source": [
    "Going in the opposite direction, we can [ak.zip](https://awkward-array.readthedocs.io/en/latest/_auto/ak.zip.html) these together:"
   ]
  },
  {
   "cell_type": "code",
   "execution_count": 415,
   "id": "4d9a6b28-37db-4b70-8e8f-ce8064732d76",
   "metadata": {},
   "outputs": [
    {
     "data": {
      "text/plain": [
       "<Array [[{a: 1.1, b: 1}], ... {a: 3.3, b: 3}]] type='3 * var * {\"a\": float64, \"b...'>"
      ]
     },
     "execution_count": 415,
     "metadata": {},
     "output_type": "execute_result"
    }
   ],
   "source": [
    "new_records = ak.zip({\"a\": array_of_records.y, \"b\": array_of_records_with_list.y})\n",
    "new_records"
   ]
  },
  {
   "cell_type": "code",
   "execution_count": 416,
   "id": "6c446bd0-25d1-4dbf-96f6-926708d31d2b",
   "metadata": {},
   "outputs": [
    {
     "data": {
      "text/plain": [
       "3 * var * {\"a\": float64, \"b\": int64}"
      ]
     },
     "execution_count": 416,
     "metadata": {},
     "output_type": "execute_result"
    }
   ],
   "source": [
    "new_records.type"
   ]
  },
  {
   "cell_type": "code",
   "execution_count": 417,
   "id": "d2fc944a-286c-40cc-a0b8-983006cc6c0a",
   "metadata": {},
   "outputs": [
    {
     "data": {
      "text/plain": [
       "[[{'a': 1.1, 'b': 1}],\n",
       " [{'a': 2.2, 'b': 1}, {'a': 2.2, 'b': 2}],\n",
       " [{'a': 3.3, 'b': 1}, {'a': 3.3, 'b': 2}, {'a': 3.3, 'b': 3}]]"
      ]
     },
     "execution_count": 417,
     "metadata": {},
     "output_type": "execute_result"
    }
   ],
   "source": [
    "new_records.tolist()"
   ]
  },
  {
   "cell_type": "markdown",
   "id": "364a1ce2-2029-4feb-9457-37720929b929",
   "metadata": {},
   "source": [
    "The only constraint is that any arrays list variable-length lists have the same list lengths as the other arrays.\n",
    "\n",
    "If they don't, they can't be \"zipped\" in all dimensions.\n",
    "\n",
    "However, you can limit how deeply it _attempts_ to zip them with `depth_limit`."
   ]
  },
  {
   "cell_type": "code",
   "execution_count": 421,
   "id": "be169ad2-aac8-4b30-8d05-b9d66dfda311",
   "metadata": {},
   "outputs": [
    {
     "data": {
      "text/plain": [
       "<Array [{a: 1, b: 1.1, c: [1, 2, ... 1, 2, 3]}] type='3 * {\"a\": int64, \"b\": floa...'>"
      ]
     },
     "execution_count": 421,
     "metadata": {},
     "output_type": "execute_result"
    }
   ],
   "source": [
    "everything = ak.zip(\n",
    "    {\n",
    "        \"a\": array_of_records.x,\n",
    "        \"b\": array_of_records.y,\n",
    "        \"c\": array_of_lists_of_records.x,\n",
    "        \"d\": array_of_lists_of_records.y,\n",
    "        \"e\": array_of_records_with_list.x,\n",
    "        \"f\": array_of_records_with_list.y,\n",
    "    }, depth_limit=1\n",
    ")\n",
    "everything"
   ]
  },
  {
   "cell_type": "code",
   "execution_count": 422,
   "id": "04cce45e-9380-4760-a207-9840ec4ef78f",
   "metadata": {},
   "outputs": [
    {
     "data": {
      "text/plain": [
       "3 * {\"a\": int64, \"b\": float64, \"c\": var * int64, \"d\": var * float64, \"e\": int64, \"f\": var * int64}"
      ]
     },
     "execution_count": 422,
     "metadata": {},
     "output_type": "execute_result"
    }
   ],
   "source": [
    "everything.type"
   ]
  },
  {
   "cell_type": "code",
   "execution_count": 423,
   "id": "9f7a4fa3-c24f-47fd-9786-f97fda2f79f7",
   "metadata": {},
   "outputs": [
    {
     "data": {
      "text/plain": [
       "[{'a': 1, 'b': 1.1, 'c': [1, 2, 3], 'd': [1.1, 2.2, 3.3], 'e': 1, 'f': [1]},\n",
       " {'a': 2, 'b': 2.2, 'c': [], 'd': [], 'e': 2, 'f': [1, 2]},\n",
       " {'a': 3, 'b': 3.3, 'c': [4, 5], 'd': [4.4, 5.5], 'e': 3, 'f': [1, 2, 3]}]"
      ]
     },
     "execution_count": 423,
     "metadata": {},
     "output_type": "execute_result"
    }
   ],
   "source": [
    "everything.tolist()"
   ]
  },
  {
   "cell_type": "markdown",
   "id": "4992faa0-6adb-4faf-9228-174e22911a09",
   "metadata": {},
   "source": [
    "### Combinatorics"
   ]
  },
  {
   "cell_type": "markdown",
   "id": "636c80f0-c430-44f1-b800-1dadc9c58991",
   "metadata": {},
   "source": [
    "With this much structure—variable-length lists and records—we can compute particle combinatorics in an array-oriented way.\n",
    "\n",
    "Suppose we have two arrays of lists with _different_ lengths in each list."
   ]
  },
  {
   "cell_type": "code",
   "execution_count": 424,
   "id": "d4fa8877-bb2d-48d5-b2ab-c7b97626ef8a",
   "metadata": {},
   "outputs": [],
   "source": [
    "numbers = ak.Array([[0, 1, 2], [], [3, 4], [5]])\n",
    "letters = ak.Array([[\"a\", \"b\"], [\"c\"], [\"d\"], [\"e\", \"f\"]])"
   ]
  },
  {
   "cell_type": "code",
   "execution_count": 425,
   "id": "f519daee-90d9-4d5d-b468-b087b2b34de9",
   "metadata": {},
   "outputs": [
    {
     "data": {
      "text/plain": [
       "(<Array [3, 0, 2, 1] type='4 * int64'>, <Array [2, 1, 1, 2] type='4 * int64'>)"
      ]
     },
     "execution_count": 425,
     "metadata": {},
     "output_type": "execute_result"
    }
   ],
   "source": [
    "ak.num(numbers), ak.num(letters)"
   ]
  },
  {
   "cell_type": "markdown",
   "id": "9fd0c799-88b9-48d4-a756-42a0d1fcd6d6",
   "metadata": {},
   "source": [
    "Now suppose that we're interested in all _pairs_ of letters and numbers, with one letter and one number in each pair.\n",
    "\n",
    "However, we want to do this per list: all pairs in `numbers[0]` and `letters[0]`, followed by all pairs in `numbers[1]` and `letters[1]`, etc.\n",
    "\n",
    "If the nested lists represent particles in events, what this means is that we do not want to mix data from one event with data from another event: the usual case in particle physics.\n",
    "\n",
    "Awkward Array has a function that does that: [ak.cartesian](https://awkward-array.readthedocs.io/en/latest/_auto/ak.cartesian.html).\n",
    "\n",
    "<img src=\"fig/cartoon-cartesian.svg\" width=\"300px\">"
   ]
  },
  {
   "cell_type": "code",
   "execution_count": 427,
   "id": "aedb1b8c-77b9-47e8-89d8-18e821a70d4a",
   "metadata": {},
   "outputs": [
    {
     "data": {
      "text/plain": [
       "<Array [[(0, 'a'), (0, 'b', ... ), (5, 'f')]] type='4 * var * (int64, string)'>"
      ]
     },
     "execution_count": 427,
     "metadata": {},
     "output_type": "execute_result"
    }
   ],
   "source": [
    "pairs = ak.cartesian((numbers, letters))\n",
    "pairs"
   ]
  },
  {
   "cell_type": "code",
   "execution_count": 428,
   "id": "82382642-8ee8-4f7a-b5d2-98243c6b7bec",
   "metadata": {},
   "outputs": [
    {
     "data": {
      "text/plain": [
       "4 * var * (int64, string)"
      ]
     },
     "execution_count": 428,
     "metadata": {},
     "output_type": "execute_result"
    }
   ],
   "source": [
    "pairs.type"
   ]
  },
  {
   "cell_type": "code",
   "execution_count": 429,
   "id": "a9e18177-bf48-4d16-8238-b9906198bef2",
   "metadata": {},
   "outputs": [
    {
     "data": {
      "text/plain": [
       "[[(0, 'a'), (0, 'b'), (1, 'a'), (1, 'b'), (2, 'a'), (2, 'b')],\n",
       " [],\n",
       " [(3, 'd'), (4, 'd')],\n",
       " [(5, 'e'), (5, 'f')]]"
      ]
     },
     "execution_count": 429,
     "metadata": {},
     "output_type": "execute_result"
    }
   ],
   "source": [
    "pairs.tolist()"
   ]
  },
  {
   "cell_type": "markdown",
   "id": "51f5531e-dae7-4548-8936-c2124830580a",
   "metadata": {},
   "source": [
    "Very often, we want to create these (per-event) Cartesian products so that we can use both halves in a formula.\n",
    "\n",
    "The left-sides and right-sides of these 2-tuples are the sort of thing that could have been constructed with [ak.zip](https://awkward-array.readthedocs.io/en/latest/_auto/ak.zip.html), so they can be deconstructed with [ak.unzip](https://awkward-array.readthedocs.io/en/latest/_auto/ak.unzip.html)."
   ]
  },
  {
   "cell_type": "code",
   "execution_count": 430,
   "id": "0297d61d-4445-4dc9-b055-a93b9069a334",
   "metadata": {},
   "outputs": [
    {
     "data": {
      "text/plain": [
       "(<Array [[0, 0, 1, 1, 2, 2], ... [3, 4], [5, 5]] type='4 * var * int64'>,\n",
       " <Array [['a', 'b', 'a', 'b', ... ['e', 'f']] type='4 * var * string'>)"
      ]
     },
     "execution_count": 430,
     "metadata": {},
     "output_type": "execute_result"
    }
   ],
   "source": [
    "lefts, rights = ak.unzip(pairs)\n",
    "lefts, rights"
   ]
  },
  {
   "cell_type": "markdown",
   "id": "fe65bb46-bfbb-4aeb-86a9-e8fbcdf089b5",
   "metadata": {},
   "source": [
    "Note that `lefts` and `rights` do not have the lengths of either `numbers` or `letters`, but they have the same lengths as each other because the came from the same array of 2-tuples."
   ]
  },
  {
   "cell_type": "code",
   "execution_count": 431,
   "id": "26afb853-244b-4559-aa6b-50bb6ddf3803",
   "metadata": {},
   "outputs": [
    {
     "data": {
      "text/plain": [
       "(<Array [6, 0, 2, 2] type='4 * int64'>, <Array [6, 0, 2, 2] type='4 * int64'>)"
      ]
     },
     "execution_count": 431,
     "metadata": {},
     "output_type": "execute_result"
    }
   ],
   "source": [
    "ak.num(lefts), ak.num(rights)"
   ]
  },
  {
   "cell_type": "markdown",
   "id": "271b8453-06eb-49e5-8681-fa2de190fba3",
   "metadata": {},
   "source": [
    "The Cartesian product is equivalent to this C++ `for` loop:\n",
    "\n",
    "```c++\n",
    "for (int i = 0; i < numbers.size(); i++) {\n",
    "  for (int j = 0; j < letters.size(); j++) {\n",
    "    // compute formula with numbers[i] and letters[j]\n",
    "  }\n",
    "}\n",
    "```\n",
    "\n",
    "[ak.cartesian](https://awkward-array.readthedocs.io/en/latest/_auto/ak.cartesian.html) is often used to search for particles that decay into two different types of daughters, such as $\\Lambda \\to p \\, \\pi^-$ where the protons $p$ are all in one array and the pions $\\pi^-$ are in another array, having been selected by particle ID.\n",
    "\n",
    "It can also be used for track-shower matching, in which tracks and showers are the two collections.\n",
    "\n",
    "Sometimes, however, you have a single collection and want to find all pairs within it without repetition, equivalent to this C++ `for` loop:\n",
    "\n",
    "```c++\n",
    "for (int i = 0; i < numbers.size(); i++) {\n",
    "  for (int j = i + 1; i < numbers.size(); j++) {\n",
    "    // compute formula with numbers[i] and numbers[j]\n",
    "  }\n",
    "}\n",
    "```\n",
    "\n",
    "For that, there's [ak.combinations](https://awkward-array.readthedocs.io/en/latest/_auto/ak.combinations.html).\n",
    "\n",
    "<img src=\"fig/cartoon-combinations.svg\" width=\"300px\">"
   ]
  },
  {
   "cell_type": "code",
   "execution_count": 432,
   "id": "3aa5d9e8-8530-411d-b9de-55c68ee9652f",
   "metadata": {},
   "outputs": [
    {
     "data": {
      "text/plain": [
       "<Array [[0, 1, 2], [], [3, 4], [5]] type='4 * var * int64'>"
      ]
     },
     "execution_count": 432,
     "metadata": {},
     "output_type": "execute_result"
    }
   ],
   "source": [
    "numbers"
   ]
  },
  {
   "cell_type": "code",
   "execution_count": 436,
   "id": "f5842634-cada-4ebf-b139-e670461d22e7",
   "metadata": {},
   "outputs": [
    {
     "data": {
      "text/plain": [
       "<Array [[(0, 1), (0, 2), (1, ... [(3, 4)], []] type='4 * var * (int64, int64)'>"
      ]
     },
     "execution_count": 436,
     "metadata": {},
     "output_type": "execute_result"
    }
   ],
   "source": [
    "pairs = ak.combinations(numbers, 2)\n",
    "pairs"
   ]
  },
  {
   "cell_type": "code",
   "execution_count": 437,
   "id": "c253c944-b945-4289-b78f-1006f05feea3",
   "metadata": {},
   "outputs": [
    {
     "data": {
      "text/plain": [
       "4 * var * (int64, int64)"
      ]
     },
     "execution_count": 437,
     "metadata": {},
     "output_type": "execute_result"
    }
   ],
   "source": [
    "pairs.type"
   ]
  },
  {
   "cell_type": "code",
   "execution_count": 438,
   "id": "53bba008-74ee-403d-bdcc-723314ca4022",
   "metadata": {},
   "outputs": [
    {
     "data": {
      "text/plain": [
       "[[(0, 1), (0, 2), (1, 2)], [], [(3, 4)], []]"
      ]
     },
     "execution_count": 438,
     "metadata": {},
     "output_type": "execute_result"
    }
   ],
   "source": [
    "pairs.tolist()"
   ]
  },
  {
   "cell_type": "code",
   "execution_count": 439,
   "id": "ccaa3a33-757c-4497-b8ba-b421519420a9",
   "metadata": {},
   "outputs": [
    {
     "data": {
      "text/plain": [
       "(<Array [[0, 0, 1], [], [3], []] type='4 * var * int64'>,\n",
       " <Array [[1, 2, 2], [], [4], []] type='4 * var * int64'>)"
      ]
     },
     "execution_count": 439,
     "metadata": {},
     "output_type": "execute_result"
    }
   ],
   "source": [
    "lefts, rights = ak.unzip(pairs)\n",
    "lefts, rights"
   ]
  },
  {
   "cell_type": "markdown",
   "id": "e013b84a-8de8-481d-a559-c0682ec8f403",
   "metadata": {
    "tags": []
   },
   "source": [
    "## 5. Vector, hist, Particle..."
   ]
  },
  {
   "cell_type": "markdown",
   "id": "c6bc7efa-911f-4e3b-9570-eee39dd8757f",
   "metadata": {},
   "source": [
    "<img src=\"fig/vector-logo.svg\" style=\"height: 60px; margin-bottom: 40px\"> <img src=\"fig/hist-logo.svg\" style=\"height: 200px\"> <img src=\"fig/particle-logo.svg\" style=\"height: 120px; margin-bottom: 30px\">"
   ]
  },
  {
   "cell_type": "markdown",
   "id": "7775fe3f-4bb6-4a92-97b5-dd6a666634b9",
   "metadata": {},
   "source": [
    "There are a lot more libraries, but these are the ones used in the exercises."
   ]
  },
  {
   "cell_type": "markdown",
   "id": "c5b6768c-294e-4337-b75c-f9556e260936",
   "metadata": {
    "tags": []
   },
   "source": [
    "### Vector"
   ]
  },
  {
   "cell_type": "markdown",
   "id": "51609107-3bda-4899-b27a-954db2319587",
   "metadata": {},
   "source": [
    "Vector performs 2D, 3D, and 4D (Lorentz) vector calculations on a variety of backends.\n",
    "\n",
    "One of these is Python itself: `vector.obj` makes a single vector as a Python object."
   ]
  },
  {
   "cell_type": "code",
   "execution_count": 183,
   "id": "691a3ddb-0b87-4413-8a76-bc02897d9768",
   "metadata": {},
   "outputs": [],
   "source": [
    "import vector"
   ]
  },
  {
   "cell_type": "code",
   "execution_count": 184,
   "id": "7c5eb0b1-7eb0-4de2-a000-c78d88ed1bd8",
   "metadata": {},
   "outputs": [
    {
     "data": {
      "text/plain": [
       "vector.obj(px=1.1, py=2.2, pz=3.3, E=4.4)"
      ]
     },
     "execution_count": 184,
     "metadata": {},
     "output_type": "execute_result"
    }
   ],
   "source": [
    "v = vector.obj(px=1.1, py=2.2, pz=3.3, E=4.4)\n",
    "v"
   ]
  },
  {
   "cell_type": "code",
   "execution_count": 185,
   "id": "f2b4c0b5-42d9-43cf-b080-097a85e01ff0",
   "metadata": {},
   "outputs": [
    {
     "data": {
      "text/plain": [
       "2.459674775249769"
      ]
     },
     "execution_count": 185,
     "metadata": {},
     "output_type": "execute_result"
    }
   ],
   "source": [
    "v.pt"
   ]
  },
  {
   "cell_type": "code",
   "execution_count": 187,
   "id": "b76812d4-0c5d-494c-8fba-0ac9ad8aaf82",
   "metadata": {},
   "outputs": [
    {
     "data": {
      "text/plain": [
       "vector.obj(px=1.1, py=2.2, pz=172.1218831274108, E=172.14648602665716)"
      ]
     },
     "execution_count": 187,
     "metadata": {},
     "output_type": "execute_result"
    }
   ],
   "source": [
    "v.boostZ(0.999)"
   ]
  },
  {
   "cell_type": "code",
   "execution_count": 189,
   "id": "2febb14c-7fdc-4deb-b441-c56ed078ee4a",
   "metadata": {},
   "outputs": [
    {
     "data": {
      "text/plain": [
       "vector.obj(pt=2.459674775249769, phi=1.1071487177940904, eta=1.1035868415601453)"
      ]
     },
     "execution_count": 189,
     "metadata": {},
     "output_type": "execute_result"
    }
   ],
   "source": [
    "v.to_rhophieta()"
   ]
  },
  {
   "cell_type": "markdown",
   "id": "89056cb9-c251-4eb2-8570-5eeddb17aeb0",
   "metadata": {},
   "source": [
    "But we're primarily interested in _arrays of vectors_ (for array-oriented programming).\n",
    "\n",
    "Vector can make relativity-aware subclasses of NumPy arrays. Any [structured array](https://numpy.org/doc/stable/user/basics.rec.html) with field names that can be recognized as coordinates can be cast as an array of vectors."
   ]
  },
  {
   "cell_type": "code",
   "execution_count": 204,
   "id": "6f98d6db-1335-4be4-b494-8c542f00dc1a",
   "metadata": {},
   "outputs": [
    {
     "data": {
      "text/plain": [
       "MomentumNumpy4D([[(10.67412644,  9.76663002,  8.9234751 ,  9.63401153)],\n",
       "                 [( 9.84068421, 10.99676147, 10.49427393,  9.42700866)],\n",
       "                 [(10.21528766, 10.74720493,  8.95984047, 11.18214105)],\n",
       "                 ...,\n",
       "                 [(10.91076476,  9.31583506,  9.08075217,  9.29017775)],\n",
       "                 [( 8.84055151,  9.64621044,  9.25287711,  9.48810161)],\n",
       "                 [(10.62514519, 11.9534479 ,  8.18602391, 10.96274462)]],\n",
       "                dtype=[('x', '<f8'), ('y', '<f8'), ('z', '<f8'), ('tau', '<f8')])"
      ]
     },
     "execution_count": 204,
     "metadata": {},
     "output_type": "execute_result"
    }
   ],
   "source": [
    "vec_numpy = (\n",
    "    np.random.normal(10, 1, (1000000, 4))                                 # a bunch of random numbers\n",
    "    .view([(\"px\", float), (\"py\", float), (\"pz\", float), (\"M\", float)])    # label the fields with coordinates\n",
    "    .view(vector.MomentumNumpy4D)                                         # cast as an array of vectors\n",
    ")\n",
    "vec_numpy"
   ]
  },
  {
   "cell_type": "markdown",
   "id": "5cdc5186-4964-494b-b731-1c8fd4323935",
   "metadata": {},
   "source": [
    "Now all of the geometry and Lorentz-vector methods apply elementwise to the whole array."
   ]
  },
  {
   "cell_type": "code",
   "execution_count": 205,
   "id": "6c021b18-9bb2-4704-a6b5-a7eab8c3f95c",
   "metadata": {},
   "outputs": [
    {
     "data": {
      "text/plain": [
       "array([[0.12703859],\n",
       "       [0.09420745],\n",
       "       [0.17498461],\n",
       "       ...,\n",
       "       [0.13458781],\n",
       "       [0.13691019],\n",
       "       [0.16743262]])"
      ]
     },
     "execution_count": 205,
     "metadata": {},
     "output_type": "execute_result"
    }
   ],
   "source": [
    "# compute deltaR between each vector and the one after it\n",
    "vec_numpy[1:].deltaR(vec_numpy[:-1])"
   ]
  },
  {
   "cell_type": "markdown",
   "id": "edf03b8e-0f29-471c-8a37-f078e36dc1fb",
   "metadata": {},
   "source": [
    "Vector canalso make relativity-aware Awkward Arrays.\n",
    "\n",
    "Any records with coordinate-named fields and a `\"Momentum4D\"` as a record label will have Lorentz-vector methods if `vector.register_awkward()` has been called."
   ]
  },
  {
   "cell_type": "code",
   "execution_count": 201,
   "id": "f0702394-646a-4b7d-8804-fcbd0e1a7899",
   "metadata": {},
   "outputs": [],
   "source": [
    "vector.register_awkward()"
   ]
  },
  {
   "cell_type": "code",
   "execution_count": 212,
   "id": "8dbf339a-5231-409c-865d-08907904edad",
   "metadata": {},
   "outputs": [],
   "source": [
    "# get momenta of tracks from the PicoDST file\n",
    "px, py, pz = picodst.arrays(filter_name=\"*mGMomentum[XYZ]\", entry_stop=100, how=tuple)"
   ]
  },
  {
   "cell_type": "code",
   "execution_count": 213,
   "id": "38b67249-9d3e-4dbf-9ae7-4081021aee76",
   "metadata": {},
   "outputs": [
    {
     "data": {
      "text/plain": [
       "<MomentumArray4D [[{px: -0.124, py: 0.0982, ... M: 0}]] type='100 * var * Moment...'>"
      ]
     },
     "execution_count": 213,
     "metadata": {},
     "output_type": "execute_result"
    }
   ],
   "source": [
    "vec_awkward = ak.zip({\"px\": px, \"py\": py, \"pz\": pz, \"M\": 0}, with_name=\"Momentum4D\")\n",
    "vec_awkward"
   ]
  },
  {
   "cell_type": "markdown",
   "id": "b946a11e-0fcd-4fc0-91b8-471a1960c70f",
   "metadata": {},
   "source": [
    "Now we can use Awkward Array's irregular slicing with Lorentz-vector methods."
   ]
  },
  {
   "cell_type": "code",
   "execution_count": 210,
   "id": "cbce5bdb-302e-4700-a2bc-3913c67121a6",
   "metadata": {},
   "outputs": [
    {
     "data": {
      "text/plain": [
       "<Array [[0.57, 1.98, 1.97, ... 0.544, 1.93]] type='100 * var * float32'>"
      ]
     },
     "execution_count": 210,
     "metadata": {},
     "output_type": "execute_result"
    }
   ],
   "source": [
    "# compute deltaR between each vector and the one after it WITHIN each event\n",
    "vec_awkward[:, 1:].deltaR(vec_awkward[:, :-1])"
   ]
  },
  {
   "cell_type": "markdown",
   "id": "41a174a7-3f62-4150-850e-a4df22f974b9",
   "metadata": {
    "tags": []
   },
   "source": [
    "### Hist"
   ]
  },
  {
   "cell_type": "markdown",
   "id": "b1f61b2f-ebb5-4a4c-8d4e-8c08a6ec90b8",
   "metadata": {},
   "source": [
    "The hist library fills N-dimensional histograms with [advanced slicing](https://uhi.readthedocs.io/en/latest/indexing.html#examples) and [plotting](https://hist.readthedocs.io/en/latest/user-guide/notebooks/Plots.html)."
   ]
  },
  {
   "cell_type": "code",
   "execution_count": 211,
   "id": "8cb8bd95-91be-440e-ac86-2ca09cb27164",
   "metadata": {},
   "outputs": [],
   "source": [
    "import hist"
   ]
  },
  {
   "cell_type": "markdown",
   "id": "4f8ae8cd-6094-40c1-b808-761709f948c4",
   "metadata": {},
   "source": [
    "Instead of predefined 1D, 2D, and 3D histogram classes, hist builds a histogram from a series of [axes of various types](https://hist.readthedocs.io/en/latest/user-guide/axes.html)."
   ]
  },
  {
   "cell_type": "code",
   "execution_count": 308,
   "id": "13a9e799-0b80-4d62-a4b4-211f10726dea",
   "metadata": {},
   "outputs": [],
   "source": [
    "vertexhist = hist.Hist(\n",
    "    hist.axis.Regular(300, -1, 1, label=\"x\"),\n",
    "    hist.axis.Regular(300, -1, 1, label=\"y\"),\n",
    "    hist.axis.Regular(20, -200, 200, label=\"z\"),\n",
    "    hist.axis.Variable([-1030000, -500000, 500000] + list(range(1000000, 1030000, 2000)), label=\"ranking\"),\n",
    ")"
   ]
  },
  {
   "cell_type": "markdown",
   "id": "ba055a75-298f-4417-ab19-08866418ccd5",
   "metadata": {},
   "source": [
    "The `fill` method accepts arrays. ([ak.flatten](https://awkward-array.readthedocs.io/en/latest/_auto/ak.flatten.html) reduces the nested lists into one-dimensional arrays.)"
   ]
  },
  {
   "cell_type": "code",
   "execution_count": 309,
   "id": "768305fd-2002-45dc-b1f9-418f5acb5f9d",
   "metadata": {},
   "outputs": [],
   "source": [
    "# get primary vertex positions from the PicoDST file\n",
    "vertex_data = picodst.arrays(filter_name=[\"*mPrimaryVertex[XYZ]\", \"*mRanking\"])"
   ]
  },
  {
   "cell_type": "code",
   "execution_count": 310,
   "id": "64418e5d-8d44-4d7b-b233-546ff12da0df",
   "metadata": {},
   "outputs": [
    {
     "data": {
      "text/html": [
       "<html>\n",
       "<div style=\"display:flex; align-items:center;\">\n",
       "<div style=\"width:290px;\">\n",
       "<svg xmlns=\"http://www.w3.org/2000/svg\" viewBox=\"-10 -10 220 220\">\n",
       "<rect x=\"0\" y=\"0\" width=\"160\" height=\"160\" style=\"fill:white;opacity:.5;stroke-width:2;stroke:currentColor;\"/>\n",
       "<rect x=\"20\" y=\"20\" width=\"160\" height=\"160\" style=\"fill:white;opacity:.5;stroke-width:2;stroke:currentColor;\"/>\n",
       "<rect x=\"40\" y=\"40\" width=\"160\" height=\"160\" style=\"fill:white;opacity:.5;stroke-width:2;stroke:currentColor;\"/>\n",
       "<text x=\"120.0\" y=\"120.0\" style=\"font-size: 26pt; font-family: verdana; font-style: bold; fill: black;\" text-anchor=\"middle\" alignment-baseline=\"middle\">\n",
       "4D\n",
       "</text>\n",
       "</svg>\n",
       "</div>\n",
       "<div style=\"flex=grow:1;\">\n",
       "Regular(300, -1, 1, label='x')<br/>\n",
       "Regular(300, -1, 1, label='y')<br/>\n",
       "Regular(20, -200, 200, label='z')<br/>\n",
       "Variable([-1.03e+06, -500000, 500000, 1e+06, 1.002e+06, 1.004e+06, 1.006e+06, 1.008e+06, 1.01e+06, 1.012e+06, 1.014e+06, 1.016e+06, 1.018e+06, 1.02e+06, 1.022e+06, 1.024e+06, 1.026e+06, 1.028e+06], label='ranking')<br/>\n",
       "<hr style=\"margin-top:.2em; margin-bottom:.2em;\"/>\n",
       "Double() Σ=7966.0 <em>(8004.0 with flow)</em>\n",
       "\n",
       "</div>\n",
       "</div>\n",
       "</html>"
      ],
      "text/plain": [
       "Hist(\n",
       "  Regular(300, -1, 1, label='x'),\n",
       "  Regular(300, -1, 1, label='y'),\n",
       "  Regular(20, -200, 200, label='z'),\n",
       "  Variable([-1.03e+06, -500000, 500000, 1e+06, 1.002e+06, 1.004e+06, 1.006e+06, 1.008e+06, 1.01e+06, 1.012e+06, 1.014e+06, 1.016e+06, 1.018e+06, 1.02e+06, 1.022e+06, 1.024e+06, 1.026e+06, 1.028e+06], label='ranking'),\n",
       "  storage=Double()) # Sum: 7966.0 (8004.0 with flow)"
      ]
     },
     "execution_count": 310,
     "metadata": {},
     "output_type": "execute_result"
    }
   ],
   "source": [
    "vertexhist.fill(\n",
    "    ak.flatten(vertex_data[\"Event.mPrimaryVertexX\"]),\n",
    "    ak.flatten(vertex_data[\"Event.mPrimaryVertexY\"]),\n",
    "    ak.flatten(vertex_data[\"Event.mPrimaryVertexZ\"]),\n",
    "    ak.flatten(vertex_data[\"Event.mRanking\"]),\n",
    ")"
   ]
  },
  {
   "cell_type": "markdown",
   "id": "18455e19-d1e0-47db-b66e-f5a83cabbb15",
   "metadata": {},
   "source": [
    "Now the binned data can be sliced in some dimensions and summed over in others."
   ]
  },
  {
   "cell_type": "code",
   "execution_count": 311,
   "id": "b7cd86d7-f6a3-4bcb-b93e-08ea55870054",
   "metadata": {},
   "outputs": [
    {
     "data": {
      "image/png": "[encoded data removed]",
      "text/plain": [
       "<Figure size 432x288 with 3 Axes>"
      ]
     },
     "metadata": {
      "needs_background": "light"
     },
     "output_type": "display_data"
    }
   ],
   "source": [
    "vertexhist[:, :, sum, sum].plot2d_full();"
   ]
  },
  {
   "cell_type": "markdown",
   "id": "affa1bb8-9fb9-445a-af8f-3fba6a8883cf",
   "metadata": {},
   "source": [
    "`bh.loc` computes the index position of coordinates from the data. You can use that to zoom in."
   ]
  },
  {
   "cell_type": "code",
   "execution_count": 312,
   "id": "4ff33b06-513e-46b5-a079-e5193b26cfb9",
   "metadata": {},
   "outputs": [],
   "source": [
    "import boost_histogram as bh"
   ]
  },
  {
   "cell_type": "code",
   "execution_count": 313,
   "id": "49f0b541-cb4d-449e-98ff-45f020ffdc86",
   "metadata": {},
   "outputs": [
    {
     "data": {
      "image/png": "[encoded data removed]",
      "text/plain": [
       "<Figure size 432x288 with 3 Axes>"
      ]
     },
     "metadata": {
      "needs_background": "light"
     },
     "output_type": "display_data"
    }
   ],
   "source": [
    "vertexhist[bh.loc(-0.25):bh.loc(0.25), bh.loc(-0.25):bh.loc(0.25), sum, sum].plot2d_full();"
   ]
  },
  {
   "cell_type": "code",
   "execution_count": 319,
   "id": "5b5bc88c-c9d9-4466-be8a-2343f2cc396c",
   "metadata": {},
   "outputs": [
    {
     "data": {
      "image/png": "[encoded data removed]",
      "text/plain": [
       "<Figure size 432x288 with 1 Axes>"
      ]
     },
     "metadata": {
      "needs_background": "light"
     },
     "output_type": "display_data"
    }
   ],
   "source": [
    "vertexhist[sum, sum, :, sum].plot();"
   ]
  },
  {
   "cell_type": "markdown",
   "id": "c98a3cec-c934-4ef2-8660-aae03127ecca",
   "metadata": {},
   "source": [
    "The `mRanking` quantity is irregularly binned because it has a lot of detail above 1000000, but featureless peaks at 0 and -1000000."
   ]
  },
  {
   "cell_type": "code",
   "execution_count": 320,
   "id": "6a5132a3-4ade-43ce-abf1-aa103ae6ddea",
   "metadata": {},
   "outputs": [
    {
     "data": {
      "image/png": "[encoded data removed]",
      "text/plain": [
       "<Figure size 432x288 with 1 Axes>"
      ]
     },
     "metadata": {
      "needs_background": "light"
     },
     "output_type": "display_data"
    }
   ],
   "source": [
    "vertexhist[sum, sum, sum, :].plot();"
   ]
  },
  {
   "cell_type": "code",
   "execution_count": 321,
   "id": "911c843b-2c48-41f0-b8e2-6a1d79a26770",
   "metadata": {},
   "outputs": [
    {
     "data": {
      "image/png": "[encoded data removed]",
      "text/plain": [
       "<Figure size 432x288 with 1 Axes>"
      ]
     },
     "metadata": {
      "needs_background": "light"
     },
     "output_type": "display_data"
    }
   ],
   "source": [
    "vertexhist[sum, sum, sum, bh.loc(1000000):].plot();"
   ]
  },
  {
   "cell_type": "markdown",
   "id": "fb6582b6-8b08-412f-aeec-cd80cbde5945",
   "metadata": {},
   "source": [
    "With a large enough (or cleverly binned) histogram, you can do an exploratory analysis in aggregated data.\n",
    "\n",
    "Here, we investigate the shape of the $x$-$y$ primary vertex projection for `mRanking` above and below 1000000.\n",
    "\n",
    "The feasibility of this analysis depends on available memory and the number of bins, but _not_ the number of events."
   ]
  },
  {
   "cell_type": "code",
   "execution_count": 317,
   "id": "3ace3e51-4f25-48f6-9cd3-c20129434052",
   "metadata": {},
   "outputs": [
    {
     "data": {
      "image/png": "[encoded data removed]",
      "text/plain": [
       "<Figure size 432x288 with 3 Axes>"
      ]
     },
     "metadata": {
      "needs_background": "light"
     },
     "output_type": "display_data"
    }
   ],
   "source": [
    "vertexhist[bh.loc(-0.25):bh.loc(0.25), bh.loc(-0.25):bh.loc(0.25), sum, bh.loc(1000000)::sum].plot2d_full();"
   ]
  },
  {
   "cell_type": "code",
   "execution_count": 318,
   "id": "d3fb3494-1a1c-4214-bd33-75459d51ac82",
   "metadata": {},
   "outputs": [
    {
     "data": {
      "image/png": "[encoded data removed]",
      "text/plain": [
       "<Figure size 432x288 with 3 Axes>"
      ]
     },
     "metadata": {
      "needs_background": "light"
     },
     "output_type": "display_data"
    }
   ],
   "source": [
    "vertexhist[bh.loc(-0.25):bh.loc(0.25), bh.loc(-0.25):bh.loc(0.25), sum, :bh.loc(1000000):sum].plot2d_full();"
   ]
  },
  {
   "cell_type": "markdown",
   "id": "ba4460de-ae14-4aaf-9be8-3ada520fce7e",
   "metadata": {
    "tags": []
   },
   "source": [
    "### Particle"
   ]
  },
  {
   "cell_type": "markdown",
   "id": "22eef730-c878-4ef2-8672-0b7225d57b0a",
   "metadata": {},
   "source": [
    "Particle is like a searchable Particle Data Group (PDG) booklet in Python."
   ]
  },
  {
   "cell_type": "code",
   "execution_count": 335,
   "id": "6f3d701b-75e3-4ff6-bbe2-a80e431ba115",
   "metadata": {},
   "outputs": [],
   "source": [
    "import particle"
   ]
  },
  {
   "cell_type": "code",
   "execution_count": 341,
   "id": "35fa046e-794e-40b5-a023-82e8fa8a47b9",
   "metadata": {},
   "outputs": [
    {
     "data": {
      "text/plain": [
       "[<Particle: name=\"p~\", pdgid=-2212, mass=938.272081 ± 0.000006 MeV>]"
      ]
     },
     "execution_count": 341,
     "metadata": {},
     "output_type": "execute_result"
    }
   ],
   "source": [
    "[particle.Particle.from_string(\"p~\")]"
   ]
  },
  {
   "cell_type": "code",
   "execution_count": 358,
   "id": "8919689e-8c36-425f-9ad5-a48a6c8a83a5",
   "metadata": {},
   "outputs": [
    {
     "data": {
      "text/latex": [
       "$\\bar{p}$"
      ],
      "text/plain": [
       "<Particle: name=\"p~\", pdgid=-2212, mass=938.272081 ± 0.000006 MeV>"
      ]
     },
     "execution_count": 358,
     "metadata": {},
     "output_type": "execute_result"
    }
   ],
   "source": [
    "particle.Particle.from_string(\"p~\")"
   ]
  },
  {
   "cell_type": "code",
   "execution_count": 352,
   "id": "33d58946-230b-4541-bfcd-fb8732a60181",
   "metadata": {},
   "outputs": [],
   "source": [
    "from hepunits import GeV"
   ]
  },
  {
   "cell_type": "code",
   "execution_count": 357,
   "id": "743519c4-a745-4682-afc9-69a87a407d03",
   "metadata": {},
   "outputs": [
    {
     "data": {
      "text/plain": [
       "(91.1876, 2.4951999999999996)"
      ]
     },
     "execution_count": 357,
     "metadata": {},
     "output_type": "execute_result"
    }
   ],
   "source": [
    "z_boson = particle.Particle.from_string(\"Z0\")\n",
    "z_boson.mass / GeV, z_boson.width / GeV"
   ]
  },
  {
   "cell_type": "code",
   "execution_count": 340,
   "id": "5c55a1e3-c71f-4752-83d0-d71f627f5721",
   "metadata": {},
   "outputs": [
    {
     "data": {
      "text/plain": [
       "[<Particle: name=\"pi0\", pdgid=111, mass=134.9768 ± 0.0005 MeV>]"
      ]
     },
     "execution_count": 340,
     "metadata": {},
     "output_type": "execute_result"
    }
   ],
   "source": [
    "[particle.Particle.from_pdgid(111)]"
   ]
  },
  {
   "cell_type": "code",
   "execution_count": 334,
   "id": "c3d6cd95-d00d-4262-b186-4412750ed287",
   "metadata": {},
   "outputs": [
    {
     "data": {
      "text/plain": [
       "[<Particle: name=\"D(s)+\", pdgid=431, mass=1968.34 ± 0.07 MeV>,\n",
       " <Particle: name=\"D(s)-\", pdgid=-431, mass=1968.34 ± 0.07 MeV>,\n",
       " <Particle: name=\"D(s)*+\", pdgid=433, mass=2112.2 ± 0.4 MeV>,\n",
       " <Particle: name=\"D(s)*-\", pdgid=-433, mass=2112.2 ± 0.4 MeV>,\n",
       " <Particle: name=\"D(s2)*(2573)+\", pdgid=435, mass=2569.1 ± 0.8 MeV>,\n",
       " <Particle: name=\"D(s2)*(2573)-\", pdgid=-435, mass=2569.1 ± 0.8 MeV>,\n",
       " <Particle: name=\"D(s0)*(2317)+\", pdgid=10431, mass=2317.8 ± 0.5 MeV>,\n",
       " <Particle: name=\"D(s0)*(2317)-\", pdgid=-10431, mass=2317.8 ± 0.5 MeV>,\n",
       " <Particle: name=\"D(s1)(2536)+\", pdgid=10433, mass=2535.11 ± 0.06 MeV>,\n",
       " <Particle: name=\"D(s1)(2536)-\", pdgid=-10433, mass=2535.11 ± 0.06 MeV>,\n",
       " <Particle: name=\"D(s1)(2460)+\", pdgid=20433, mass=2459.5 ± 0.6 MeV>,\n",
       " <Particle: name=\"D(s1)(2460)-\", pdgid=-20433, mass=2459.5 ± 0.6 MeV>]"
      ]
     },
     "execution_count": 334,
     "metadata": {},
     "output_type": "execute_result"
    }
   ],
   "source": [
    "particle.Particle.findall(lambda p: p.pdgid.is_meson and p.pdgid.has_strange and p.pdgid.has_charm)"
   ]
  },
  {
   "cell_type": "code",
   "execution_count": 344,
   "id": "83708c5f-1c11-48c8-a75c-59a91e940e6f",
   "metadata": {},
   "outputs": [],
   "source": [
    "from hepunits import mm"
   ]
  },
  {
   "cell_type": "code",
   "execution_count": 345,
   "id": "802cfb78-c53d-4ad2-b793-1a9d77fa09ef",
   "metadata": {},
   "outputs": [
    {
     "data": {
      "text/plain": [
       "[<Particle: name=\"K(L)0\", pdgid=130, mass=497.611 ± 0.013 MeV>,\n",
       " <Particle: name=\"pi+\", pdgid=211, mass=139.57039 ± 0.00018 MeV>,\n",
       " <Particle: name=\"pi-\", pdgid=-211, mass=139.57039 ± 0.00018 MeV>,\n",
       " <Particle: name=\"K(S)0\", pdgid=310, mass=497.611 ± 0.013 MeV>,\n",
       " <Particle: name=\"K+\", pdgid=321, mass=493.677 ± 0.016 MeV>,\n",
       " <Particle: name=\"K-\", pdgid=-321, mass=493.677 ± 0.016 MeV>]"
      ]
     },
     "execution_count": 345,
     "metadata": {},
     "output_type": "execute_result"
    }
   ],
   "source": [
    "particle.Particle.findall(lambda p: p.pdgid.is_meson and p.ctau > 1 * mm)"
   ]
  },
  {
   "cell_type": "markdown",
   "id": "b79dcc5b-77b2-4cfd-9334-2c5797f67504",
   "metadata": {
    "tags": []
   },
   "source": [
    "## Exercises: translating a C++ analysis into array-oriented Python"
   ]
  },
  {
   "cell_type": "markdown",
   "id": "9a18ee8b-47c1-4ebb-9f25-61311fff723e",
   "metadata": {
    "tags": []
   },
   "source": [
    "In this section, we will plot the mass of e⁺e⁻ pairs from the PicoDST file, using a C++ framework ([star-picodst-reference](star-picodst-reference)) as a guide.\n",
    "\n",
    "The solutions are hidden. Try to solve each exercise on your own (by filling in the \"`???`\") before comparing with the solutions we've provided."
   ]
  },
  {
   "cell_type": "markdown",
   "id": "f09b4df6-74b2-4cc7-ac29-04913ec531d2",
   "metadata": {
    "tags": []
   },
   "source": [
    "### C++ version of the analysis"
   ]
  },
  {
   "cell_type": "markdown",
   "id": "e4d096f4-76a4-43d3-ac32-ae24745924b7",
   "metadata": {},
   "source": [
    "The analysis we want to reproduce is the following:\n",
    "\n",
    "```c++\n",
    "// histogram to fill\n",
    "TH1F *hM = new TH1F(\"hM\", \"e+e- invariant mass (GeV/c)\", 120, 0, 120);\n",
    "\n",
    "// get a reader and initialize it\n",
    "const Char_t *inFile = \"pythia_ppZee_run17emb.picoDst.root\";\n",
    "StPicoDstReader* picoReader = new StPicoDstReader(inFile);\n",
    "picoReader->Init();\n",
    "\n",
    "Long64_t events2read = picoReader->chain()->GetEntries();\n",
    "\n",
    "// loop over events\n",
    "for (Long64_t iEvent = 0; iEvent < events2read; iEvent++) {\n",
    "  Bool_t readEvent = picoReader->readPicoEvent(iEvent);\n",
    "  StPicoDst *dst = picoReader->picoDst();\n",
    "\n",
    "  Int_t nTracks = dst->numberOfTracks();\n",
    "\n",
    "  // for collecting good tracks\n",
    "  std::vector<StPicoTrack*> goodTracks;\n",
    "\n",
    "  // loop over tracks\n",
    "  for (Int_t iTrk = 0; iTrk < nTracks; iTrk++) {\n",
    "    StPicoTrack *picoTrack = dst->track(iTrk);\n",
    "\n",
    "    // track quality cuts\n",
    "    if (!picoTrack->isPrimary()) continue;\n",
    "    if (picoTrack->nHitsFit() / picoTrack()->nHitsMax() < 0.2) continue;\n",
    "\n",
    "    // track -> associated electromagnetic calorimeter energy\n",
    "    if (picoTrack->isBemcTrack()) {\n",
    "      StPicoBEmcPidTraits *trait = dst->bemcPidTraits(\n",
    "          picoTrack->bemcPidTraitsIndex()\n",
    "      );\n",
    "\n",
    "      // matched energy cut\n",
    "      double pOverE = picoTrack->pMom().Mag() / trait->btowE();\n",
    "      if (pOverE < 0.1) continue;\n",
    "\n",
    "      // this is a good track\n",
    "      goodTracks.push_back(picoTrack);\n",
    "    }\n",
    "  }\n",
    "\n",
    "  // loop over good pairs with opposite-sign charge and fill the invariant mass plot\n",
    "  for (UInt_t i = 0; i < goodTracks.size(); i++) {\n",
    "    for (UInt_t j = i + 1; j < goodTracks.size(); j++) {\n",
    "      // make Lorentz vectors with electron mass\n",
    "      TLorentzVector one(goodTracks[i].pMom(), 0.0005109989461);\n",
    "      TLorentzVector two(goodTracks[j].pMom(), 0.0005109989461);\n",
    "\n",
    "      // opposite-sign charge cut\n",
    "      if (goodTracks[i].charge() != goodTracks[j].charge()) {\n",
    "        // fill the histogram\n",
    "        hM->Fill((one + two).M());\n",
    "      }\n",
    "    }\n",
    "  }\n",
    "}\n",
    "```"
   ]
  },
  {
   "cell_type": "markdown",
   "id": "7baac96c-1aa2-450a-93b4-a744d640e1fa",
   "metadata": {
    "tags": []
   },
   "source": [
    "### Reading the data"
   ]
  },
  {
   "cell_type": "markdown",
   "id": "2dae7233-4801-44c8-a0ae-c56bb490e7d0",
   "metadata": {},
   "source": [
    "As before, we start by reading the file."
   ]
  },
  {
   "cell_type": "code",
   "execution_count": 1,
   "id": "3b0f4f5c-69bb-43a5-9d5e-4fac3deeb669",
   "metadata": {},
   "outputs": [],
   "source": [
    "import uproot\n",
    "import awkward as ak\n",
    "import numpy as np"
   ]
  },
  {
   "cell_type": "code",
   "execution_count": 2,
   "id": "917d1057-26d7-4b6e-92a5-175d71640c1a",
   "metadata": {},
   "outputs": [
    {
     "data": {
      "text/plain": [
       "<TTree 'PicoDst' (18 branches) at 0x7fbbe81436d0>"
      ]
     },
     "execution_count": 2,
     "metadata": {},
     "output_type": "execute_result"
    }
   ],
   "source": [
    "picodst = uproot.open(\"https://pivarski-princeton.s3.amazonaws.com/pythia_ppZee_run17emb.picoDst.root:PicoDst\")\n",
    "picodst"
   ]
  },
  {
   "cell_type": "markdown",
   "id": "5af0868d-a006-4ea3-9808-80efc56cc454",
   "metadata": {},
   "source": [
    "By examining the C++ code, we see that we need to compute\n",
    "\n",
    "```c++\n",
    "StPicoTrack::isPrimary\n",
    "StPicoTrack::nHitsFit\n",
    "StPicoTrack::nHitsMax\n",
    "StPicoTrack::isBemcTrack\n",
    "StPicoTrack::bemcPidTraitsIndex\n",
    "StPicoTrack::pMom\n",
    "StPicoBEmcPidTraits::btowE\n",
    "```\n",
    "\n",
    "From [star-picodst-reference/StPicoTrack.h](star-picodst-reference/StPicoTrack.h) and [star-picodst-reference/StPicoBEmcPidTraits.h](star-picodst-reference/StPicoBEmcPidTraits.h), we learn that these are derived from the following TBranches:\n",
    "\n",
    "   * `mPMomentumX`\n",
    "   * `mPMomentumY`\n",
    "   * `mPMomentumZ`\n",
    "   * `mNHitsFit`\n",
    "   * `mNHitsMax`\n",
    "   * `mBEmcPidTraitsIndex`\n",
    "   * `mBtowE`\n",
    "\n",
    "**Exercise 1:** Extract these TBranches as arrays, using the same names as variable names.\n",
    "\n",
    "**Hint:** To avoid long download times while you experiment, set `entry_stop=10` in your calls to [TTree.arrays](https://uproot.readthedocs.io/en/latest/uproot.behaviors.TTree.TTree.html#arrays) or [TBranch.array](https://uproot.readthedocs.io/en/latest/uproot.behaviors.TBranch.TBranch.html#array). Just be sure to remove it to get all entries in the end.\n",
    "\n",
    "From the location of Binder's servers on the Internet, it takes about 1 minute to read. If it's taking 2 or more minutes, you're probably downloading more than you intended."
   ]
  },
  {
   "cell_type": "code",
   "execution_count": null,
   "id": "6c4ce5c4-4eae-4d38-997e-50ce2fde8fe2",
   "metadata": {},
   "outputs": [],
   "source": [
    "mPMomentumX = ???\n",
    "mPMomentumY = ???\n",
    "mPMomentumZ = ???\n",
    "mNHitsFit = ???\n",
    "mNHitsMax = ???\n",
    "mBEmcPidTraitsIndex = ???\n",
    "mBtowE = ???"
   ]
  },
  {
   "cell_type": "markdown",
   "id": "5a3c9ea5-68fb-4077-ac4b-b360713fb993",
   "metadata": {},
   "source": [
    "The types of these arrays should be"
   ]
  },
  {
   "cell_type": "code",
   "execution_count": 4,
   "id": "a6b68737-f93d-4860-8dfa-f29ef753efc6",
   "metadata": {},
   "outputs": [
    {
     "data": {
      "text/plain": [
       "(8004 * var * float32,\n",
       " 8004 * var * float32,\n",
       " 8004 * var * float32,\n",
       " 8004 * var * int8,\n",
       " 8004 * var * uint8,\n",
       " 8004 * var * int16,\n",
       " 8004 * var * float64)"
      ]
     },
     "execution_count": 4,
     "metadata": {},
     "output_type": "execute_result"
    }
   ],
   "source": [
    "(\n",
    "    mPMomentumX.type,\n",
    "    mPMomentumY.type,\n",
    "    mPMomentumZ.type,\n",
    "    mNHitsFit.type,\n",
    "    mNHitsMax.type,\n",
    "    mBEmcPidTraitsIndex.type,\n",
    "    mBtowE.type,\n",
    ")"
   ]
  },
  {
   "cell_type": "markdown",
   "id": "66818905-7947-4c6d-aed3-3e886a598edb",
   "metadata": {},
   "source": [
    "<details style=\"border: dashed 1px black; padding: 10px\">\n",
    "    <summary><b>Solutions</b> (no peeking!)</summary>\n",
    "\n",
    "<br>\n",
    "\n",
    "There are several ways to get these data; here are two.\n",
    "\n",
    "**(1)** You could navigate to each TBranch and ask for its `array`.\n",
    "\n",
    "```python\n",
    "mPMomentumX = picodst[\"Track.mPMomentumX\"].array()\n",
    "mPMomentumY = picodst[\"Track.mPMomentumY\"].array()\n",
    "mPMomentumZ = picodst[\"Track.mPMomentumZ\"].array()\n",
    "mNHitsFit = picodst[\"Track.mNHitsFit\"].array()\n",
    "mNHitsMax = picodst[\"Track.mNHitsMax\"].array()\n",
    "mBEmcPidTraitsIndex = picodst[\"Track.mBEmcPidTraitsIndex\"].array()\n",
    "mBtowE = picodst[\"EmcPidTraits.mBtowE\"].array() / 1000\n",
    "```\n",
    "<br>\n",
    "\n",
    "**(2)** You could ask the TTree for its `arrays`, with a filter to keep from reading everything over the network, then extract each field of the resulting record array. (There's a slight performance advantage to this method, since it only has to make 1 request across the network, rather than 7, _if_ you filter the TBranches to read. If you don't, _it will read all branches_, which will take much longer.)\n",
    "\n",
    "```python\n",
    "single_array = picodst.arrays(filter_name=[\n",
    "    \"Track.mPMomentum[XYZ]\",\n",
    "    \"Track.mNHits*\",\n",
    "    \"Track.mBEmcPidTraitsIndex\",\n",
    "    \"EmcPidTraits.mBtowE\",\n",
    "])\n",
    "mPMomentumX = single_array[\"Track.mPMomentumX\"]\n",
    "mPMomentumY = single_array[\"Track.mPMomentumY\"]\n",
    "mPMomentumZ = single_array[\"Track.mPMomentumZ\"]\n",
    "mNHitsFit = single_array[\"Track.mNHitsFit\"]\n",
    "mNHitsMax = single_array[\"Track.mNHitsMax\"]\n",
    "mBEmcPidTraitsIndex = single_array[\"Track.mBEmcPidTraitsIndex\"]\n",
    "mBtowE = single_array[\"EmcPidTraits.mBtowE\"] / 1000\n",
    "```\n",
    "<br>\n",
    "\n",
    "\n",
    "Either way, be sure to divide the `mBtowE` branch by 1000, as it is in the C++ code.\n",
    "</details>"
   ]
  },
  {
   "cell_type": "markdown",
   "id": "d4bc32e3-f813-4f35-91f8-5bae98919a2f",
   "metadata": {
    "tags": []
   },
   "source": [
    "### Making momentum objects with charges"
   ]
  },
  {
   "cell_type": "markdown",
   "id": "1ed827b9-c431-4e5d-b911-2809376492b9",
   "metadata": {},
   "source": [
    "The C++ code uses ROOT [TVector3](https://root.cern.ch/doc/master/classTVector3.html) and [TLorentzVector](https://root.cern.ch/doc/master/classTLorentzVector.html) objects for vector calculations. We'll use the (array-oriented) Vector library.\n",
    "\n",
    "The definitions of `pMom` and `charge` in [star-picodst-reference/StPicoTrack.h](star-picodst-reference/StPicoTrack.h) are\n",
    "\n",
    "```c++\n",
    "  TVector3 pMom() const            { return TVector3(mPMomentumX, mPMomentumY, mPMomentumZ); }\n",
    "  Short_t charge() const           { return (mNHitsFit > 0) ? 1 : -1; }\n",
    "```\n",
    "\n",
    "(Yes, the `charge` bit is hidden inside the `mNHitsFit` integer.)"
   ]
  },
  {
   "cell_type": "code",
   "execution_count": 5,
   "id": "5c360fce-f9c8-4bbd-b8cb-478ba19fe380",
   "metadata": {},
   "outputs": [],
   "source": [
    "import vector\n",
    "vector.register_awkward()"
   ]
  },
  {
   "cell_type": "code",
   "execution_count": 6,
   "id": "4fd2a510-945f-4b4f-b065-9f9de45f26ee",
   "metadata": {},
   "outputs": [
    {
     "data": {
      "text/plain": [
       "0.0005109989460999999"
      ]
     },
     "execution_count": 6,
     "metadata": {},
     "output_type": "execute_result"
    }
   ],
   "source": [
    "import particle, hepunits\n",
    "electron_mass = particle.Particle.find(\"e-\").mass / hepunits.GeV\n",
    "electron_mass"
   ]
  },
  {
   "cell_type": "markdown",
   "id": "f928973c-d9d4-4c69-b37b-4f7ca64d0210",
   "metadata": {},
   "source": [
    "**Exercise 2a:** First, make an array of `charge` as positive and negative `1` integers. You may use [ak.where](https://awkward-array.readthedocs.io/en/latest/_auto/ak.where.html) or clever arithmetic."
   ]
  },
  {
   "cell_type": "code",
   "execution_count": null,
   "id": "b069dcc5-40d4-4c13-8b60-0799506dac17",
   "metadata": {},
   "outputs": [],
   "source": [
    "charge = ???"
   ]
  },
  {
   "cell_type": "markdown",
   "id": "2685ced0-286d-4b94-8d53-f1e4da83dafc",
   "metadata": {},
   "source": [
    "The type should be:"
   ]
  },
  {
   "cell_type": "code",
   "execution_count": 8,
   "id": "5a55e834-912c-4ddb-a26b-9a38bc23a4ba",
   "metadata": {},
   "outputs": [
    {
     "data": {
      "text/plain": [
       "8004 * var * int64"
      ]
     },
     "execution_count": 8,
     "metadata": {},
     "output_type": "execute_result"
    }
   ],
   "source": [
    "charge.type"
   ]
  },
  {
   "cell_type": "markdown",
   "id": "835cb89c-8309-4ec2-b7f6-d6e13047762c",
   "metadata": {},
   "source": [
    "And the first and last values should be:"
   ]
  },
  {
   "cell_type": "code",
   "execution_count": 9,
   "id": "1fc0a723-d47f-4bee-b9e0-970656261ced",
   "metadata": {},
   "outputs": [
    {
     "data": {
      "text/plain": [
       "<Array [[1, 1, 1, 1, 1, ... 1, 1, -1, -1, 1]] type='8004 * var * int64'>"
      ]
     },
     "execution_count": 9,
     "metadata": {},
     "output_type": "execute_result"
    }
   ],
   "source": [
    "charge"
   ]
  },
  {
   "cell_type": "markdown",
   "id": "bfd83242-0c5c-4a79-82ee-c93fc1a28277",
   "metadata": {},
   "source": [
    "**Exercise 2b:** Next, use [ak.zip](https://awkward-array.readthedocs.io/en/latest/_auto/ak.zip.html) to combine `mPMomentumX`, `mPMomentumY`, `mPMomentumZ`, `electron_mass`, and `charge` into a single array of type\n",
    "\n",
    "```python\n",
    "8004 * var * {\"px\": float32, \"py\": float32, \"pz\": float32, \"M\": float64, \"charge\": int64}\n",
    "```\n",
    "\n",
    "It is very important that the type is lists of records (`var * {\"px\": float32, ...}`), not records of lists (`{\"px\": var * float32, ...}`)."
   ]
  },
  {
   "cell_type": "code",
   "execution_count": null,
   "id": "5bf0d96b-883e-4eee-8cc2-eadf8bc0316c",
   "metadata": {},
   "outputs": [],
   "source": [
    "record_array = ???"
   ]
  },
  {
   "cell_type": "markdown",
   "id": "578df68e-ca46-46da-a0a8-2304e8fae650",
   "metadata": {},
   "source": [
    "The second record in the first event should be:"
   ]
  },
  {
   "cell_type": "code",
   "execution_count": 11,
   "id": "cadf3f5c-7a24-4d5e-9da9-0aefb6c3f454",
   "metadata": {},
   "outputs": [
    {
     "data": {
      "text/plain": [
       "{'px': -0.14229480922222137,\n",
       " 'py': 0.3735402524471283,\n",
       " 'pz': 0.15136101841926575,\n",
       " 'M': 0.0005109989460999999,\n",
       " 'charge': 1}"
      ]
     },
     "execution_count": 11,
     "metadata": {},
     "output_type": "execute_result"
    }
   ],
   "source": [
    "record_array[0, 1].tolist()"
   ]
  },
  {
   "cell_type": "markdown",
   "id": "5cc05202-b554-4bbd-9065-91147624eaeb",
   "metadata": {},
   "source": [
    "**Exercise 2c:** Finally, search Awkward Array's [reference documentation](https://awkward-array.readthedocs.io/) for a way to add the `\"Momentum4D\"` name to these records to turn them into Lorentz vectors."
   ]
  },
  {
   "cell_type": "code",
   "execution_count": null,
   "id": "424b56b6-427b-4f15-a8c1-1fd6c233897b",
   "metadata": {},
   "outputs": [],
   "source": [
    "pMom = ???"
   ]
  },
  {
   "cell_type": "markdown",
   "id": "dabb5a5b-0173-4fa3-9bdc-be902ec3adbd",
   "metadata": {},
   "source": [
    "The type of `pMom` should be:"
   ]
  },
  {
   "cell_type": "code",
   "execution_count": 13,
   "id": "ff59c700-a632-427f-a8db-59a02fe90c06",
   "metadata": {},
   "outputs": [
    {
     "data": {
      "text/plain": [
       "8004 * var * Momentum4D[\"px\": float32, \"py\": float32, \"pz\": float32, \"M\": float64, \"charge\": int64]"
      ]
     },
     "execution_count": 13,
     "metadata": {},
     "output_type": "execute_result"
    }
   ],
   "source": [
    "pMom.type"
   ]
  },
  {
   "cell_type": "markdown",
   "id": "93721d8d-d508-4dc8-9c41-2181d523a1ad",
   "metadata": {},
   "source": [
    "Lorentz vector operations don't require the `\"charge\"`, but it will be convenient to keep that in the same package. The Vector library will ignore it."
   ]
  },
  {
   "cell_type": "markdown",
   "id": "a5041048-2da8-4722-9417-c05864f71809",
   "metadata": {},
   "source": [
    "<details style=\"border: dashed 1px black; padding: 10px\">\n",
    "    <summary><b>Solutions</b> (no peeking!)</summary>\n",
    "\n",
    "<br>\n",
    "\n",
    "The charge can be computed using:\n",
    "\n",
    "```python\n",
    "charge = ak.where(mNHitsFit > 0, 1, -1)\n",
    "```\n",
    "<br>\n",
    "\n",
    "or \"clever arithmetic\" (booleans in a numerical expression become `false → 0`, `true → 1`):\n",
    "\n",
    "```python\n",
    "charge = (mNHitsFit > 0) * 2 - 1\n",
    "```\n",
    "<br>\n",
    "\n",
    "Making the record array is a direct application of [ak.zip](https://awkward-array.readthedocs.io/en/latest/_auto/ak.zip.html):\n",
    "\n",
    "```python\n",
    "record_array = ak.zip(\n",
    "    {\"px\": mPMomentumX, \"py\": mPMomentumY, \"pz\": mPMomentumZ, \"M\": electron_mass, \"charge\": charge}\n",
    ")\n",
    "```\n",
    "<br>\n",
    "\n",
    "Combining the variable-length lists of `mPMomentumX`, `mPMomentumY`, `mPMomentumZ`, and `charge` is just what [ak.zip](https://awkward-array.readthedocs.io/en/latest/_auto/ak.zip.html) does (and if those lists had different lengths, it would raise an error). Only using `depth_limit=1` or the [ak.Array](https://awkward-array.readthedocs.io/en/latest/_auto/ak.Array.html) constructor would produce the wrong type.\n",
    "\n",
    "Also, the constant `electron_mass` does not need special handling. Constants and lower-dimension arrays are [broadcasted](https://awkward-array.readthedocs.io/en/latest/_auto/ak.broadcast_arrays.html) to the same shape as larger-dimension arrays when used in the same function. (This is similar to, but an extension of, NumPy's [concept of broadcasting](https://numpy.org/doc/stable/user/basics.broadcasting.html).)\n",
    "\n",
    "Finally, to add the `\"Momentum4D\"` name to all the records, you could use [ak.zip](https://awkward-array.readthedocs.io/en/latest/_auto/ak.zip.html) again, as it has a `with_name` argument:\n",
    "\n",
    "```python\n",
    "pMom = ak.zip(\n",
    "    {\"px\": mPMomentumX, \"py\": mPMomentumY, \"pz\": mPMomentumZ, \"M\": electron_mass, \"charge\": charge},\n",
    "    with_name=\"Momentum4D\",\n",
    ")\n",
    "```\n",
    "<br>\n",
    "\n",
    "Or pass the already-built `record_array` into [ak.with_name](https://awkward-array.readthedocs.io/en/latest/_auto/ak.with_name.html):\n",
    "\n",
    "```python\n",
    "pMom = ak.with_name(record_array, \"Momentum4D\")\n",
    "```\n",
    "<br>\n",
    "\n",
    "Or pass the already-built `record_array` into the [ak.Array](https://awkward-array.readthedocs.io/en/latest/_auto/ak.Array.html) constructor with a `with_name` argument:\n",
    "\n",
    "```python\n",
    "pMom = ak.Array(record_array, with_name=\"Momentum4D\")\n",
    "```\n",
    "</details>"
   ]
  },
  {
   "cell_type": "markdown",
   "id": "372efdc3-e02c-48bb-b654-8ccbc5b86bf2",
   "metadata": {
    "tags": []
   },
   "source": [
    "### Computing track cuts"
   ]
  },
  {
   "cell_type": "markdown",
   "id": "c341c7ec-0774-4e32-93f2-8da5148ec339",
   "metadata": {
    "tags": []
   },
   "source": [
    "In the C++, the following cuts are applied to the tracks:\n",
    "\n",
    "```c++\n",
    "if (!picoTrack->isPrimary()) continue;\n",
    "if (picoTrack->nHitsFit() / picoTrack()->nHitsMax() < 0.2) continue;\n",
    "if (picoTrack->isBemcTrack()) {\n",
    "  // ...\n",
    "}\n",
    "```\n",
    "\n",
    "Some of the cuts in C++ are applied by jumping to the next loop iteration with `continue` (a dangerous practice, in my opinion) while another is in a nested `if` statement. Note that the `continue` conditions describe the _opposite_ of a good track.\n",
    "\n",
    "The quantities used in the cuts are defined in [star-picodst-reference/StPicoTrack.h](star-picodst-reference/StPicoTrack.h):\n",
    "\n",
    "```c++\n",
    "  Bool_t isPrimary() const         { return ( pMom().Mag()>0 ); }\n",
    "  TVector3 pMom() const            { return TVector3(mPMomentumX, mPMomentumY, mPMomentumZ); }\n",
    "\n",
    "  Int_t   nHitsFit() const         { return (mNHitsFit > 0) ? (Int_t)mNHitsFit : (Int_t)(-1 * mNHitsFit); }\n",
    "  Int_t   nHitsMax() const         { return (Int_t)mNHitsMax; }\n",
    "\n",
    "  Bool_t isBemcTrack() const       { return (mBEmcPidTraitsIndex<0) ? false : true; }\n",
    "```\n",
    "\n",
    "**Exercise 3:** Convert these cuts into a [boolean array slice](https://awkward-array.readthedocs.io/en/latest/_auto/ak.Array.html#filtering)."
   ]
  },
  {
   "cell_type": "code",
   "execution_count": null,
   "id": "51e0d20c-0a04-4b5f-8896-41487cf6533a",
   "metadata": {},
   "outputs": [],
   "source": [
    "isPrimary = ???\n",
    "nHitsFit = ???\n",
    "nHitsMax = ???\n",
    "isBemcTrack = ???\n",
    "\n",
    "track_quality_cuts = ???"
   ]
  },
  {
   "cell_type": "markdown",
   "id": "3f8c6a55-a5d5-4827-9525-cb1f7c571489",
   "metadata": {},
   "source": [
    "The type of `track_quality_cuts` should be:"
   ]
  },
  {
   "cell_type": "code",
   "execution_count": 17,
   "id": "0ae97fec-bcb1-4a5b-ace4-c837c6fe8cfd",
   "metadata": {},
   "outputs": [
    {
     "data": {
      "text/plain": [
       "8004 * var * bool"
      ]
     },
     "execution_count": 17,
     "metadata": {},
     "output_type": "execute_result"
    }
   ],
   "source": [
    "track_quality_cuts.type"
   ]
  },
  {
   "cell_type": "markdown",
   "id": "0d069e56-7709-43b4-8db0-6fd24313e550",
   "metadata": {},
   "source": [
    "And the number of passing tracks in the first and last events should be:"
   ]
  },
  {
   "cell_type": "code",
   "execution_count": 18,
   "id": "1d4e86f4-83e3-450a-b4b1-ecafef0a4558",
   "metadata": {},
   "outputs": [
    {
     "data": {
      "text/plain": [
       "<Array [3, 2, 2, 1, 2, 1, ... 1, 1, 2, 1, 4, 4] type='8004 * int64'>"
      ]
     },
     "execution_count": 18,
     "metadata": {},
     "output_type": "execute_result"
    }
   ],
   "source": [
    "np.count_nonzero(track_quality_cuts, axis=1)"
   ]
  },
  {
   "cell_type": "markdown",
   "id": "74b85049-a428-4a51-b194-557259ef155b",
   "metadata": {},
   "source": [
    "<details style=\"border: dashed 1px black; padding: 10px\">\n",
    "    <summary><b>Solutions</b> (no peeking!)</summary>\n",
    "\n",
    "<br>\n",
    "\n",
    "There are several equivalent ways to compute `isPrimary`:\n",
    "\n",
    "```python\n",
    "isPrimary = pMom.mag > 0\n",
    "```\n",
    "<br>\n",
    "\n",
    "and\n",
    "\n",
    "\n",
    "```python\n",
    "isPrimary = (abs(mPMomentumX) > 0) & (abs(mPMomentumY) > 0) & (abs(mPMomentumZ) > 0)\n",
    "```\n",
    "<br>\n",
    "\n",
    "and\n",
    "\n",
    "```python\n",
    "isPrimary = mPMomentumX**2 + mPMomentumY**2 + mPMomentumZ**2 > 0   # or with np.sqrt\n",
    "```\n",
    "<br>\n",
    "\n",
    "The most straightforward way to compute `nHitsFit` is:\n",
    "\n",
    "```python\n",
    "nHitsFit = abs(mNHitsFit)\n",
    "```\n",
    "<br>\n",
    "\n",
    "but you could use [ak.where](https://awkward-array.readthedocs.io/en/latest/_auto/ak.where.html)/[np.where](https://numpy.org/doc/stable/reference/generated/numpy.where.html) to make it look more like the C++:\n",
    "\n",
    "```python\n",
    "nHitsFit = np.where(mNHitsFit > 0, mNHitsFit, -1 * mNHitsFit)\n",
    "```\n",
    "<br>\n",
    "\n",
    "`nHitsMax` is exactly equal to `mNHitsMax`, and `isBemcTrack` is:\n",
    "\n",
    "```python\n",
    "isBemcTrack = mBEmcPidTraitsIndex >= 0   # be sure to get the inequality right\n",
    "```\n",
    "<br>\n",
    "\n",
    "or\n",
    "\n",
    "```python\n",
    "isBemcTrack = np.where(mBEmcPidTraitsIndex < 0, False, True)\n",
    "```\n",
    "<br>\n",
    "\n",
    "to make it look more like the C++.\n",
    "\n",
    "Finally, `track_quality_cuts` is a logical-AND of three selections:\n",
    "\n",
    "```python\n",
    "track_quality_cuts = isPrimary & (nHitsFit / nHitsMax >= 0.2) & isBemcTrack\n",
    "```\n",
    "<br>\n",
    "\n",
    "Be sure to get the inequality right: `continue` _throws away_ bad tracks, but we want an expression that will _keep_ good tracks.\n",
    "</details>"
   ]
  },
  {
   "cell_type": "markdown",
   "id": "b817bc93-bc0e-47d6-be16-dff003cb85aa",
   "metadata": {
    "tags": []
   },
   "source": [
    "### Matching tracks to electromagnetic showers"
   ]
  },
  {
   "cell_type": "markdown",
   "id": "0930e1e6-d18a-4349-8491-3e83769a7128",
   "metadata": {},
   "source": [
    "The final track quality cut requires us to match the track with its corresponding shower. Tracks and showers have different multiplicities."
   ]
  },
  {
   "cell_type": "code",
   "execution_count": 19,
   "id": "f38560ce-dacd-420f-9868-5a312975a7d7",
   "metadata": {},
   "outputs": [
    {
     "data": {
      "text/plain": [
       "(<Array [2594, 2513, 2909, ... 2441, 2586, 2321] type='8004 * int64'>,\n",
       " <Array [7, 4, 4, 2, 4, 1, ... 2, 2, 7, 1, 8, 8] type='8004 * int64'>)"
      ]
     },
     "execution_count": 19,
     "metadata": {},
     "output_type": "execute_result"
    }
   ],
   "source": [
    "ak.num(mPMomentumX), ak.num(mBtowE)"
   ]
  },
  {
   "cell_type": "markdown",
   "id": "1ec3d7cc-6d7c-4193-a871-14e8c6f1c52f",
   "metadata": {},
   "source": [
    "The PicoDst file provides us with an index for each track that is the position of the corresponding shower in the showers array. It is `-1` when there is no corresponding shower."
   ]
  },
  {
   "cell_type": "code",
   "execution_count": 20,
   "id": "8db3bad2-a78d-4849-b381-d836632a6e52",
   "metadata": {},
   "outputs": [
    {
     "data": {
      "text/plain": [
       "<Array [[-1, -1, -1, -1, ... -1, -1, -1, -1]] type='8004 * var * int16'>"
      ]
     },
     "execution_count": 20,
     "metadata": {},
     "output_type": "execute_result"
    }
   ],
   "source": [
    "mBEmcPidTraitsIndex"
   ]
  },
  {
   "cell_type": "markdown",
   "id": "bc428e24-f098-43af-a1bb-3f2552d4845c",
   "metadata": {},
   "source": [
    "**Exercise 4:** Filter `mBEmcPidTraitsIndex` with `track_quality_cuts` and make an array of shower energy `mBtowE` for each quality track."
   ]
  },
  {
   "cell_type": "code",
   "execution_count": null,
   "id": "75829309-086d-45e3-8d6f-7bab39ecaade",
   "metadata": {},
   "outputs": [],
   "source": [
    "quality_mBtowE = ???"
   ]
  },
  {
   "cell_type": "markdown",
   "id": "781383c3-321f-4a76-b478-47be738693f8",
   "metadata": {},
   "source": [
    "The type of `quality_mBtowE` should be:"
   ]
  },
  {
   "cell_type": "code",
   "execution_count": 22,
   "id": "9c3e2df5-0b00-4604-a4ea-1110282305ae",
   "metadata": {},
   "outputs": [
    {
     "data": {
      "text/plain": [
       "8004 * var * float64"
      ]
     },
     "execution_count": 22,
     "metadata": {},
     "output_type": "execute_result"
    }
   ],
   "source": [
    "quality_mBtowE.type"
   ]
  },
  {
   "cell_type": "markdown",
   "id": "cd144142-5e40-4e4e-ba37-ecf49330e770",
   "metadata": {},
   "source": [
    "Its first and last values should be:"
   ]
  },
  {
   "cell_type": "code",
   "execution_count": 23,
   "id": "7f0f30a2-28ca-4f7f-a452-63b4d28a7635",
   "metadata": {},
   "outputs": [
    {
     "data": {
      "text/plain": [
       "<Array [[1.71, 32.8, 0], ... 0, 17.8, 0.36]] type='8004 * var * float64'>"
      ]
     },
     "execution_count": 23,
     "metadata": {},
     "output_type": "execute_result"
    }
   ],
   "source": [
    "quality_mBtowE"
   ]
  },
  {
   "cell_type": "markdown",
   "id": "7b3777ca-388b-4475-ab8b-520f3ec45aef",
   "metadata": {},
   "source": [
    "And it should have as many values in each event as there are \"`true`\" booleans in `track_quality_cuts`:"
   ]
  },
  {
   "cell_type": "code",
   "execution_count": 24,
   "id": "39648e20-725a-473c-b2bc-74aceff8beb2",
   "metadata": {},
   "outputs": [
    {
     "data": {
      "text/plain": [
       "<Array [3, 2, 2, 1, 2, 1, ... 1, 1, 2, 1, 4, 4] type='8004 * int64'>"
      ]
     },
     "execution_count": 24,
     "metadata": {},
     "output_type": "execute_result"
    }
   ],
   "source": [
    "ak.num(quality_mBtowE)"
   ]
  },
  {
   "cell_type": "code",
   "execution_count": 25,
   "id": "0960eb6e-79ff-432d-8464-c9fa16503fda",
   "metadata": {},
   "outputs": [
    {
     "data": {
      "text/plain": [
       "True"
      ]
     },
     "execution_count": 25,
     "metadata": {},
     "output_type": "execute_result"
    }
   ],
   "source": [
    "np.all(ak.num(quality_mBtowE) == np.count_nonzero(track_quality_cuts, axis=1))"
   ]
  },
  {
   "cell_type": "markdown",
   "id": "e0948da5-5243-4649-ab49-fd7af98238cb",
   "metadata": {},
   "source": [
    "<details style=\"border: dashed 1px black; padding: 10px\">\n",
    "    <summary><b>Solutions</b> (no peeking!)</summary>\n",
    "\n",
    "<br>\n",
    "\n",
    "The answer could be written in one line:\n",
    "\n",
    "```python\n",
    "quality_mBtowE = mBtowE[mBEmcPidTraitsIndex[track_quality_cuts]]\n",
    "```\n",
    "<br>\n",
    "\n",
    "The first part, `mBEmcPidTraitsIndex[track_quality_cuts]`, applies the track quality cuts to the `mBEmcPidTraitsIndex` so that there are no more `-1` values in it. The remaining array of lists of integers is exactly what is required to pick energy values from `mBtowE` in lists of the right lengths and orders.\n",
    "\n",
    "Naturally, you could write it in two lines (or as many as you find easy to read).\n",
    "\n",
    "If you know about [ak.mask](https://awkward-array.readthedocs.io/en/latest/_auto/ak.mask.html), you might have tried masking `mBEmcPidTraitsIndex` instead of filtering it:\n",
    "\n",
    "```python\n",
    "quality_mBEmcPidTraitsIndex = mBEmcPidTraitsIndex.mask[track_quality_cuts]\n",
    "quality_mBtowE = mBtowE[quality_mBEmcPidTraitsIndex]\n",
    "```\n",
    "<br>\n",
    "\n",
    "Instead of changing the lengths of the lists by dropping bad tracks, this would replace them with missing value placeholders (\"`None`\"). _This is not wrong,_ and it's a good alternative to the overall problem because it simplifies the process of filtering filtered data. (The placeholders keep the arrays the same lengths, so cuts can be applied in any order.)\n",
    "\n",
    "However, it changes how the next step would have to be handled, and you'd eventually have to use [ak.is_none](https://awkward-array.readthedocs.io/en/latest/_auto/ak.is_none.html) to remove the missing values. For the sake of this walkthrough, to keep everyone on the same page, let's not do that.\n",
    "</details>"
   ]
  },
  {
   "cell_type": "markdown",
   "id": "a7a37cc7-6cc3-42f5-a9a9-a8ea14d079da",
   "metadata": {
    "tags": []
   },
   "source": [
    "### Applying the energy cut and making track-pairs"
   ]
  },
  {
   "cell_type": "markdown",
   "id": "f576bdf1-14ef-462c-ad88-70f77f1e983c",
   "metadata": {},
   "source": [
    "The last quality cut requires total track momentum divided by shower energy to be at least 0.1.\n",
    "\n",
    "We can get the total track momentum from `pMom.mag` (3D magnitude of 3D or 4D vectors), but apply the quality cuts to it so that it has the same length as `quality_mBtowE` (which already has quality cuts applied)."
   ]
  },
  {
   "cell_type": "code",
   "execution_count": 26,
   "id": "f3e6452f-fd1b-4679-bf29-8eb46b27175a",
   "metadata": {},
   "outputs": [
    {
     "data": {
      "text/plain": [
       "<Array [[0, 0.427, 0, 0, 0, ... 0, 0, 0, 0, 0]] type='8004 * var * float32'>"
      ]
     },
     "execution_count": 26,
     "metadata": {},
     "output_type": "execute_result"
    }
   ],
   "source": [
    "pMom.mag"
   ]
  },
  {
   "cell_type": "code",
   "execution_count": 27,
   "id": "4ade5947-d467-41b9-ba56-68f3a5dc7eef",
   "metadata": {},
   "outputs": [
    {
     "data": {
      "text/plain": [
       "<Array [[1.07, 24.4, 2.81, ... 18.6, 1.88]] type='8004 * var * float32'>"
      ]
     },
     "execution_count": 27,
     "metadata": {},
     "output_type": "execute_result"
    }
   ],
   "source": [
    "quality_total_momentum = pMom[track_quality_cuts].mag\n",
    "quality_total_momentum"
   ]
  },
  {
   "cell_type": "code",
   "execution_count": 28,
   "id": "1f3f951f-368f-45b4-b790-dd656cef7275",
   "metadata": {},
   "outputs": [
    {
     "name": "stderr",
     "output_type": "stream",
     "text": [
      "/home/jpivarski/miniconda3/lib/python3.8/site-packages/awkward/_connect/_numpy.py:206: RuntimeWarning: divide by zero encountered in true_divide\n",
      "  result = getattr(ufunc, method)(\n"
     ]
    },
    {
     "data": {
      "text/plain": [
       "<Array [[0.626, 0.745, inf, ... 1.04, 5.23]] type='8004 * var * float64'>"
      ]
     },
     "execution_count": 28,
     "metadata": {},
     "output_type": "execute_result"
    }
   ],
   "source": [
    "quality_pOverE = quality_total_momentum / quality_mBtowE\n",
    "quality_pOverE"
   ]
  },
  {
   "cell_type": "markdown",
   "id": "16c78726-7523-42cf-8ddc-d60b65d5621e",
   "metadata": {},
   "source": [
    "(You may see a warning when calculating the above; some values of the denominator are zero. It's possible to selectively suppress such messages with NumPy's [np.errstate](https://numpy.org/doc/stable/reference/generated/numpy.errstate.html).)"
   ]
  },
  {
   "cell_type": "code",
   "execution_count": 29,
   "id": "58f13fac-bc20-4cd7-8737-d03138c77d53",
   "metadata": {},
   "outputs": [],
   "source": [
    "quality_pOverE_cut = (quality_pOverE >= 0.1)"
   ]
  },
  {
   "cell_type": "code",
   "execution_count": 30,
   "id": "5cdf9894-c4ce-45ff-bff5-e138e0ba63b5",
   "metadata": {},
   "outputs": [
    {
     "data": {
      "text/plain": [
       "<Array [3, 2, 2, 1, 2, 1, ... 1, 1, 2, 1, 3, 4] type='8004 * int64'>"
      ]
     },
     "execution_count": 30,
     "metadata": {},
     "output_type": "execute_result"
    }
   ],
   "source": [
    "np.count_nonzero(quality_pOverE_cut, axis=1)"
   ]
  },
  {
   "cell_type": "markdown",
   "id": "241ce261-c7a3-4e84-aaf5-1710a210aafb",
   "metadata": {},
   "source": [
    "An array with all cuts applied, the equivalent of `goodTracks` in the C++, is:"
   ]
  },
  {
   "cell_type": "code",
   "execution_count": 31,
   "id": "7bdfe17c-403f-4593-a5fd-fac1ce9cb6da",
   "metadata": {},
   "outputs": [
    {
     "data": {
      "text/plain": [
       "<MomentumArray4D [[{px: 0.000914, ... charge: -1}]] type='8004 * var * Momentum4...'>"
      ]
     },
     "execution_count": 31,
     "metadata": {},
     "output_type": "execute_result"
    }
   ],
   "source": [
    "goodTracks = pMom[track_quality_cuts][quality_pOverE_cut]\n",
    "goodTracks"
   ]
  },
  {
   "cell_type": "markdown",
   "id": "e8dca9f1-47b1-4e38-8aab-6dc7a09aa39b",
   "metadata": {},
   "source": [
    "(As mentioned in one of the solutions, above, [ak.mask](https://awkward-array.readthedocs.io/en/latest/_auto/ak.mask.html) would allow `track_quality_cuts` and `quality_pOverE_cut` to be applied in either order, at the expense of having to remove the placeholder \"`None`\" values with [ak.is_none](https://awkward-array.readthedocs.io/en/latest/_auto/ak.is_none.html). Extra credit if you can rework all of the above to use this technique.)"
   ]
  },
  {
   "cell_type": "markdown",
   "id": "b2151ed0-7932-4624-9a5a-2dfd6f50dfc1",
   "metadata": {},
   "source": [
    "**Exercise 5a:** Use [ak.combinations](https://awkward-array.readthedocs.io/en/latest/_auto/ak.combinations.html) to make all pairs of good tracks, per event, the equivalent of this code:\n",
    "\n",
    "```c++\n",
    "for (UInt_t i = 0; i < goodTracks.size(); i++) {\n",
    "  for (UInt_t j = i + 1; j < goodTracks.size(); j++) {\n",
    "    // make Lorentz vectors with electron mass\n",
    "    TLorentzVector one(goodTracks[i].pMom(), 0.0005109989461);\n",
    "    TLorentzVector two(goodTracks[j].pMom(), 0.0005109989461);\n",
    "```"
   ]
  },
  {
   "cell_type": "code",
   "execution_count": null,
   "id": "72aef766-bede-4c0e-bbbe-b20c9622853f",
   "metadata": {},
   "outputs": [],
   "source": [
    "pairs = ???"
   ]
  },
  {
   "cell_type": "markdown",
   "id": "7a2386a7-50f9-45d4-b418-83c215c700fa",
   "metadata": {},
   "source": [
    "The type of `pairs` should be lists of 2-tuples of Momentum4D:"
   ]
  },
  {
   "cell_type": "code",
   "execution_count": 33,
   "id": "27dd380c-9329-4f0f-ba11-79cd77ce919e",
   "metadata": {},
   "outputs": [
    {
     "data": {
      "text/plain": [
       "8004 * var * (Momentum4D[\"px\": float32, \"py\": float32, \"pz\": float32, \"M\": float64, \"charge\": int64], Momentum4D[\"px\": float32, \"py\": float32, \"pz\": float32, \"M\": float64, \"charge\": int64])"
      ]
     },
     "execution_count": 33,
     "metadata": {},
     "output_type": "execute_result"
    }
   ],
   "source": [
    "pairs.type"
   ]
  },
  {
   "cell_type": "markdown",
   "id": "f6c1d806-7766-47d7-88b2-c29c67ea33d0",
   "metadata": {},
   "source": [
    "And the number of such pairs in the first and last events should be:"
   ]
  },
  {
   "cell_type": "code",
   "execution_count": 34,
   "id": "b4069776-6196-4354-9bd4-33ae84ec284a",
   "metadata": {},
   "outputs": [
    {
     "data": {
      "text/plain": [
       "<Array [3, 1, 1, 0, 1, 0, ... 0, 0, 1, 0, 3, 6] type='8004 * int64'>"
      ]
     },
     "execution_count": 34,
     "metadata": {},
     "output_type": "execute_result"
    }
   ],
   "source": [
    "ak.num(pairs)"
   ]
  },
  {
   "cell_type": "markdown",
   "id": "bf39fc86-051a-4aec-92c3-59c98122dbbf",
   "metadata": {},
   "source": [
    "Note that this is not the same as the number of good tracks:"
   ]
  },
  {
   "cell_type": "code",
   "execution_count": 35,
   "id": "d15f098a-42e2-4d55-aa74-ecbc168d27b7",
   "metadata": {},
   "outputs": [
    {
     "data": {
      "text/plain": [
       "<Array [3, 2, 2, 1, 2, 1, ... 1, 1, 2, 1, 3, 4] type='8004 * int64'>"
      ]
     },
     "execution_count": 35,
     "metadata": {},
     "output_type": "execute_result"
    }
   ],
   "source": [
    "ak.num(goodTracks)"
   ]
  },
  {
   "cell_type": "markdown",
   "id": "b18af8e7-4fef-4310-85a5-230bad0f9e0c",
   "metadata": {},
   "source": [
    "In particular, 3 good tracks → 3 pairs, 2 good tracks → 1 pair, and 4 good tracks → 6 pairs ($n$ choose $2$ = $n(n - 1)/2$ for $n$ good tracks)."
   ]
  },
  {
   "cell_type": "markdown",
   "id": "f9bb3caf-d1f4-457e-9b2c-f89da7e9b52d",
   "metadata": {},
   "source": [
    "**Exercise 5b:** Search Awkward Array's [reference documentation](https://awkward-array.readthedocs.io/) for a way to get an array named `one` with the first of each pair and an array named `two` with the second of each pair, as two arrays with equal-length lists."
   ]
  },
  {
   "cell_type": "code",
   "execution_count": null,
   "id": "cbbc9929-807e-45f5-b4db-665434900e99",
   "metadata": {},
   "outputs": [],
   "source": [
    "one, two = ???"
   ]
  },
  {
   "cell_type": "markdown",
   "id": "61c0ed20-fd48-4d50-85ec-fe4f305b1ff2",
   "metadata": {},
   "source": [
    "The types of `one` and `two` should be:"
   ]
  },
  {
   "cell_type": "code",
   "execution_count": 37,
   "id": "028e1173-9d8d-4032-bb93-e36532bce854",
   "metadata": {},
   "outputs": [
    {
     "data": {
      "text/plain": [
       "(8004 * var * Momentum4D[\"px\": float32, \"py\": float32, \"pz\": float32, \"M\": float64, \"charge\": int64],\n",
       " 8004 * var * Momentum4D[\"px\": float32, \"py\": float32, \"pz\": float32, \"M\": float64, \"charge\": int64])"
      ]
     },
     "execution_count": 37,
     "metadata": {},
     "output_type": "execute_result"
    }
   ],
   "source": [
    "one.type, two.type"
   ]
  },
  {
   "cell_type": "markdown",
   "id": "ab6aacc2-560a-4f5b-ba5c-71458a2b8216",
   "metadata": {},
   "source": [
    "And the lengths of their lists should be the same as `ak.num(goodTracks)` (above)."
   ]
  },
  {
   "cell_type": "code",
   "execution_count": 38,
   "id": "aef99893-c510-42ce-b352-328d8a42c54e",
   "metadata": {},
   "outputs": [
    {
     "data": {
      "text/plain": [
       "(<Array [3, 1, 1, 0, 1, 0, ... 0, 0, 1, 0, 3, 6] type='8004 * int64'>,\n",
       " <Array [3, 1, 1, 0, 1, 0, ... 0, 0, 1, 0, 3, 6] type='8004 * int64'>)"
      ]
     },
     "execution_count": 38,
     "metadata": {},
     "output_type": "execute_result"
    }
   ],
   "source": [
    "ak.num(one), ak.num(two)"
   ]
  },
  {
   "cell_type": "markdown",
   "id": "cf03eb84-2271-445e-806a-23d9fc166f97",
   "metadata": {},
   "source": [
    "**Hint:** Remember how we _combined_ arrays of lists of the same lengths into `record_array`? This is the opposite of that.\n",
    "\n",
    "<details style=\"border: dashed 1px black; padding: 10px\">\n",
    "    <summary><b>Solutions</b> (no peeking!)</summary>\n",
    "\n",
    "<br>\n",
    "\n",
    "The first step is a direct application of the [ak.combinations](https://awkward-array.readthedocs.io/en/latest/_auto/ak.combinations.html) function:\n",
    "\n",
    "```python\n",
    "pairs = ak.combinations(goodTracks, 2)\n",
    "```\n",
    "<br>\n",
    "\n",
    "The default `axis` is `axis=1`, which means to find all combinations in each entry. (Not all combinations of entries, which would be `axis=0`!)\n",
    "\n",
    "The second step could be a direct application of [ak.unzip](https://awkward-array.readthedocs.io/en/latest/_auto/ak.unzip.html):\n",
    "\n",
    "```python\n",
    "one, two = ak.unzip(pairs)\n",
    "```\n",
    "<br>\n",
    "\n",
    "But tuples, like the 2-tuples in these `pairs`, are just records with unnamed fields. We can extract record fields with string-valued slices, and tuples can be indexed by position, so the slices that would extract the first of all tuple fields and the second of all tuple fields is `\"0\"` (a string!) and `\"1\"` (a string!).\n",
    "\n",
    "```python\n",
    "one, two = pairs[\"0\"], pairs[\"1\"]\n",
    "```\n",
    "<br>\n",
    "\n",
    "That's prone to misunderstanding: the numbers really must be inside strings. Perhaps a safer way to do it is:\n",
    "\n",
    "```python\n",
    "one, two = pairs.slot0, pairs.slot1\n",
    "```\n",
    "<br>\n",
    "\n",
    "which works up to `slot9`. Whereas these methods extract one tuple-field at a time, [ak.unzip](https://awkward-array.readthedocs.io/en/latest/_auto/ak.unzip.html) extracts all fields (of any tuple _or_ record).\n",
    "</details>"
   ]
  },
  {
   "cell_type": "markdown",
   "id": "cabbfdd2-c7b0-4d7d-ac98-96e33a005bdd",
   "metadata": {
    "tags": []
   },
   "source": [
    "### Selecting opposite-sign charges among those pairs"
   ]
  },
  {
   "cell_type": "markdown",
   "id": "15072f25-a8d1-41a4-af88-e22e3e8d4bfb",
   "metadata": {},
   "source": [
    "The opposite-sign charge cut is not a track quality cut, since it depends on a relationship between two tracks.\n",
    "\n",
    "Now we have arrays `one` and `two` representing the left and right halves of those pairs, and we can define and apply the cut."
   ]
  },
  {
   "cell_type": "markdown",
   "id": "8c70c59d-107f-4943-b57a-f0c09ca64782",
   "metadata": {},
   "source": [
    "**Exercise 6a:** Make an array of booleans that are `true` for opposite-sign charges and `false` for same-sign charges."
   ]
  },
  {
   "cell_type": "code",
   "execution_count": null,
   "id": "5d45763f-c93c-4bc7-8db3-ec171a6be79d",
   "metadata": {},
   "outputs": [],
   "source": [
    "opposite_charge_cut = ???"
   ]
  },
  {
   "cell_type": "markdown",
   "id": "f3b0b97c-9e3c-468b-9d4c-b6254efee039",
   "metadata": {},
   "source": [
    "The type should be:"
   ]
  },
  {
   "cell_type": "code",
   "execution_count": 40,
   "id": "f37fc4c4-8ec5-4193-862f-538b82a5daeb",
   "metadata": {},
   "outputs": [
    {
     "data": {
      "text/plain": [
       "8004 * var * bool"
      ]
     },
     "execution_count": 40,
     "metadata": {},
     "output_type": "execute_result"
    }
   ],
   "source": [
    "opposite_charge_cut.type"
   ]
  },
  {
   "cell_type": "markdown",
   "id": "18345650-a877-4579-a526-70b85b626c1a",
   "metadata": {},
   "source": [
    "And the number of `true` values in the first and last events should be:"
   ]
  },
  {
   "cell_type": "code",
   "execution_count": 41,
   "id": "2e8d42e8-41c5-42bd-8b33-6d585eeba356",
   "metadata": {},
   "outputs": [
    {
     "data": {
      "text/plain": [
       "<Array [2, 1, 0, 0, 1, 0, ... 0, 0, 1, 0, 2, 3] type='8004 * int64'>"
      ]
     },
     "execution_count": 41,
     "metadata": {},
     "output_type": "execute_result"
    }
   ],
   "source": [
    "ak.count_nonzero(opposite_charge_cut, axis=1)"
   ]
  },
  {
   "cell_type": "markdown",
   "id": "e2678db0-2c74-4712-a32c-0c2b9371ba4c",
   "metadata": {},
   "source": [
    "**Exercise 6b:** Apply that cut to `one` and `two`."
   ]
  },
  {
   "cell_type": "code",
   "execution_count": null,
   "id": "a9886c95-85e4-49b3-9d57-8e26aa98f83f",
   "metadata": {},
   "outputs": [],
   "source": [
    "quality_one = ???\n",
    "quality_two = ???"
   ]
  },
  {
   "cell_type": "markdown",
   "id": "cc8b6372-2ee1-4e7d-9cb0-6f34292dc831",
   "metadata": {},
   "source": [
    "The types should be remain:"
   ]
  },
  {
   "cell_type": "code",
   "execution_count": 43,
   "id": "1356a066-1796-4d49-8d22-603c6b9b7fb7",
   "metadata": {},
   "outputs": [
    {
     "data": {
      "text/plain": [
       "(8004 * var * Momentum4D[\"px\": float32, \"py\": float32, \"pz\": float32, \"M\": float64, \"charge\": int64],\n",
       " 8004 * var * Momentum4D[\"px\": float32, \"py\": float32, \"pz\": float32, \"M\": float64, \"charge\": int64])"
      ]
     },
     "execution_count": 43,
     "metadata": {},
     "output_type": "execute_result"
    }
   ],
   "source": [
    "quality_one.type, quality_two.type"
   ]
  },
  {
   "cell_type": "markdown",
   "id": "4d118f99-2728-44a6-a7ab-88916825c569",
   "metadata": {},
   "source": [
    "And the lengths of the lists should become:"
   ]
  },
  {
   "cell_type": "code",
   "execution_count": 44,
   "id": "8476b1d1-4ea5-422d-99ab-6f68dce490dc",
   "metadata": {},
   "outputs": [
    {
     "data": {
      "text/plain": [
       "(<Array [2, 1, 0, 0, 1, 0, ... 0, 0, 1, 0, 2, 3] type='8004 * int64'>,\n",
       " <Array [2, 1, 0, 0, 1, 0, ... 0, 0, 1, 0, 2, 3] type='8004 * int64'>)"
      ]
     },
     "execution_count": 44,
     "metadata": {},
     "output_type": "execute_result"
    }
   ],
   "source": [
    "ak.num(quality_one), ak.num(quality_two)"
   ]
  },
  {
   "cell_type": "markdown",
   "id": "1b00faa2-0d65-4019-aa87-13814f26a8c3",
   "metadata": {},
   "source": [
    "<details style=\"border: dashed 1px black; padding: 10px\">\n",
    "    <summary><b>Solutions</b> (no peeking!)</summary>\n",
    "\n",
    "<br>\n",
    "\n",
    "I've seen three different ways people calculate opposite-sign charges. I think this is the simplest:\n",
    "\n",
    "```python\n",
    "opposite_charge_cut = one.charge != two.charge\n",
    "```\n",
    "<br>\n",
    "\n",
    "This one is also intuitive, since the Z boson that decays to two electrons has net zero charge:\n",
    "\n",
    "```python\n",
    "opposite_charge_cut = one.charge + two.charge == 0\n",
    "```\n",
    "<br>\n",
    "\n",
    "This one is odd, but I see it quite a lot:\n",
    "\n",
    "```python\n",
    "opposite_charge_cut = one.charge * two.charge == -1\n",
    "```\n",
    "<br>\n",
    "\n",
    "As for applying the cut, the pattern should be getting familiar:\n",
    "\n",
    "\n",
    "```python\n",
    "quality_one = one[opposite_charge_cut]\n",
    "quality_two = two[opposite_charge_cut]\n",
    "```\n",
    "</details>"
   ]
  },
  {
   "cell_type": "markdown",
   "id": "17a3a2c1-e3d8-4869-adfd-856f191ef43f",
   "metadata": {
    "tags": []
   },
   "source": [
    "### Computing invariant mass of the track pairs"
   ]
  },
  {
   "cell_type": "markdown",
   "id": "2624b1c3-3bad-46a3-a349-04e4b43530ca",
   "metadata": {},
   "source": [
    "Up to this point, the only Lorentz vector method that we used was `mag`. Now we want to add the left and right halves of each pair and compute their invariant mass.\n",
    "\n",
    "**Exercise 7:** Check the [Vector documentation](https://vector.readthedocs.io/en/latest/usage/intro.html) and figure out how to do that."
   ]
  },
  {
   "cell_type": "code",
   "execution_count": null,
   "id": "d8127ecc-298d-4627-aab8-0674ea765392",
   "metadata": {},
   "outputs": [],
   "source": [
    "invariant_mass = ???"
   ]
  },
  {
   "cell_type": "markdown",
   "id": "de1d5387-8dc4-4852-b7c1-0cec9b1512dc",
   "metadata": {},
   "source": [
    "The type should be:"
   ]
  },
  {
   "cell_type": "code",
   "execution_count": 46,
   "id": "38054856-c5e8-447c-abc9-a164db114fa5",
   "metadata": {},
   "outputs": [
    {
     "data": {
      "text/plain": [
       "8004 * var * float64"
      ]
     },
     "execution_count": 46,
     "metadata": {},
     "output_type": "execute_result"
    }
   ],
   "source": [
    "invariant_mass.type"
   ]
  },
  {
   "cell_type": "markdown",
   "id": "2b4c6ad8-a54b-4037-93b3-65ef007e4fe1",
   "metadata": {},
   "source": [
    "The first and last values should be:"
   ]
  },
  {
   "cell_type": "code",
   "execution_count": 47,
   "id": "6861cca6-701c-4f29-947b-03527d13ff1b",
   "metadata": {},
   "outputs": [
    {
     "data": {
      "text/plain": [
       "<Array [[6.51, 16.2], ... [2.49, 8.24, 3.5]] type='8004 * var * float64'>"
      ]
     },
     "execution_count": 47,
     "metadata": {},
     "output_type": "execute_result"
    }
   ],
   "source": [
    "invariant_mass"
   ]
  },
  {
   "cell_type": "markdown",
   "id": "5c1bb516-a195-46d2-8013-0e7e9ae1e50f",
   "metadata": {},
   "source": [
    "And the lengths of each list in the first and last events should be:"
   ]
  },
  {
   "cell_type": "code",
   "execution_count": 48,
   "id": "1d725c23-9c87-4fd4-8984-59ccb6bc01bb",
   "metadata": {},
   "outputs": [
    {
     "data": {
      "text/plain": [
       "<Array [2, 1, 0, 0, 1, 0, ... 0, 0, 1, 0, 2, 3] type='8004 * int64'>"
      ]
     },
     "execution_count": 48,
     "metadata": {},
     "output_type": "execute_result"
    }
   ],
   "source": [
    "ak.num(invariant_mass)"
   ]
  },
  {
   "cell_type": "markdown",
   "id": "aa210626-1e03-4619-a60e-2781db5a7146",
   "metadata": {},
   "source": [
    "<details style=\"border: dashed 1px black; padding: 10px\">\n",
    "    <summary><b>Solutions</b> (no peeking!)</summary>\n",
    "\n",
    "<br>\n",
    "\n",
    "It could look (almost) exactly like the C++:\n",
    "\n",
    "```python\n",
    "invariant_mass = (quality_one + quality_two).M\n",
    "```\n",
    "<br>\n",
    "\n",
    "But I prefer:\n",
    "\n",
    "```python\n",
    "invariant_mass = (quality_one + quality_two).mass\n",
    "```\n",
    "<br>\n",
    "\n",
    "The Vector library has only one way to \"spell\" this quantity for purely geometric vectors, \"`tau`\" (for proper time), but when vectors are labeled as \"Momentum\", they get synonyms: \"`mass`\", \"`M`\", \"`m`\".\n",
    "\n",
    "It's worth noting that `(quality_one + quality_two)` is a new array of vectors, and therefore the fields Vector doesn't recognize are lost. The type of `(quality_one + quality_two)` is:\n",
    "\n",
    "```\n",
    "8004 * var * Momentum4D[\"x\": float32, \"y\": float32, \"z\": float32, \"tau\": float64]\n",
    "```\n",
    "<br>\n",
    "\n",
    "with no `\"charge\"`. Vector does not add the charges because adding would not be the correct thing to do with any unrecognized field. (You might have named it `\"q\"` or `\"Q\"`.) Of course, you can add it yourself:\n",
    "\n",
    "\n",
    "```python\n",
    "quality_one.charge + quality_two.charge\n",
    "```\n",
    "<br>\n",
    "\n",
    "and insert it into a new object. This works, for instance:\n",
    "\n",
    "```python\n",
    "z_bosons = (quality_one + quality_two)\n",
    "z_bosons[\"charge\"] = quality_one.charge + quality_two.charge\n",
    "```\n",
    "<br>\n",
    "\n",
    "and `z_bosons` has type\n",
    "\n",
    "```\n",
    "8004 * var * Momentum4D[\"x\": float32, \"y\": float32, \"z\": float32, \"tau\": float64, \"charge\": int64]\n",
    "```\n",
    "</details>"
   ]
  },
  {
   "cell_type": "markdown",
   "id": "7ee92350-f2b9-4d02-95d9-bdff11f809ba",
   "metadata": {
    "tags": []
   },
   "source": [
    "### Plotting the invariant mass"
   ]
  },
  {
   "cell_type": "markdown",
   "id": "c0803a5d-d7ef-4db8-9e55-bc2c20d9ffba",
   "metadata": {},
   "source": [
    "Constructing a histogram, which was the first step in C++:\n",
    "\n",
    "```c++\n",
    "TH1F *hM = new TH1F(\"hM\", \"e+e- invariant mass (GeV/c)\", 120, 0, 120);\n",
    "```\n",
    "\n",
    "is the last step here."
   ]
  },
  {
   "cell_type": "code",
   "execution_count": 49,
   "id": "3400ad64-ac32-437a-8603-f147230ebcc5",
   "metadata": {},
   "outputs": [],
   "source": [
    "import hist"
   ]
  },
  {
   "cell_type": "markdown",
   "id": "f0a7947f-299e-4c44-bb0b-43b32679c4ae",
   "metadata": {},
   "source": [
    "**Exercise 8:** Check the [hist documentation](https://hist.readthedocs.io/en/latest/user-guide/quickstart.html) and define a one-dimensional histogram with 120 regularly-spaced bins from 0 to 120 GeV. Then fill it with the `invariant_mass` data.\n",
    "\n",
    "**Hint:** The `invariant_mass` array contains _lists_ of numbers, but histograms present a distribution of _numbers_. Search Awkward Array's [reference documentation](https://awkward-array.readthedocs.io/) for a way to flatten these lists into a one-dimensional array, and experiment with that step _before_ attempting to fill the histogram. (The error messages will be easier to understand.)"
   ]
  },
  {
   "cell_type": "code",
   "execution_count": null,
   "id": "89d51f6b-8bf4-4bd3-b3e9-78610a4f9001",
   "metadata": {},
   "outputs": [],
   "source": [
    "flat_invariant_mass = ???\n",
    "hM = ???\n",
    "hM.fill(???)"
   ]
  },
  {
   "cell_type": "markdown",
   "id": "db995cc3-e4a9-439f-a01d-e3b25e5833b4",
   "metadata": {},
   "source": [
    "The flattened invariant mass should look like this:"
   ]
  },
  {
   "cell_type": "code",
   "execution_count": 51,
   "id": "25b5ecf0-0469-4772-a91d-0984062ad78c",
   "metadata": {},
   "outputs": [
    {
     "data": {
      "text/plain": [
       "<Array [6.51, 16.2, 108, ... 2.49, 8.24, 3.5] type='5021 * float64'>"
      ]
     },
     "execution_count": 51,
     "metadata": {},
     "output_type": "execute_result"
    }
   ],
   "source": [
    "flat_invariant_mass"
   ]
  },
  {
   "cell_type": "markdown",
   "id": "a285ba5c-3a26-406a-9153-2ae3a1fa3045",
   "metadata": {},
   "source": [
    "Note that the type does not have any \"`var`\" in it."
   ]
  },
  {
   "cell_type": "markdown",
   "id": "a0de0a7e-8af9-464a-8bc0-627cbc395343",
   "metadata": {},
   "source": [
    "Whenever a `hist.Hist` is the return value of an expression in Jupyter (such as after the `fill`), you'll see a mini-plot to aid in interactive analysis. But professional-quality plots are made through Matplotlib:"
   ]
  },
  {
   "cell_type": "code",
   "execution_count": 52,
   "id": "b78a964c-4ec8-43af-b65d-d9f0ccbe1081",
   "metadata": {},
   "outputs": [
    {
     "data": {
      "image/png": "[encoded data removed]",
      "text/plain": [
       "<Figure size 432x288 with 1 Axes>"
      ]
     },
     "metadata": {
      "needs_background": "light"
     },
     "output_type": "display_data"
    }
   ],
   "source": [
    "hM.plot();"
   ]
  },
  {
   "cell_type": "markdown",
   "id": "3c43605a-ea2f-44ef-90c3-ccc5bcefd995",
   "metadata": {},
   "source": [
    "By importing Matplotlib, we can configure the plot, mix it with other plots, tweak how it looks, etc."
   ]
  },
  {
   "cell_type": "code",
   "execution_count": 53,
   "id": "5047034f-a9ea-457c-a153-c214ae23e564",
   "metadata": {},
   "outputs": [],
   "source": [
    "import matplotlib.pyplot as plt"
   ]
  },
  {
   "cell_type": "code",
   "execution_count": 54,
   "id": "86dbdf9c-c41b-4d80-98bb-31ff1cd82271",
   "metadata": {},
   "outputs": [
    {
     "data": {
      "image/png": "[encoded data removed]",
      "text/plain": [
       "<Figure size 432x288 with 1 Axes>"
      ]
     },
     "metadata": {
      "needs_background": "light"
     },
     "output_type": "display_data"
    }
   ],
   "source": [
    "hM.plot()\n",
    "plt.yscale(\"log\")"
   ]
  },
  {
   "cell_type": "markdown",
   "id": "b7b8412f-9483-4a68-ab24-3ff8b6d2da2b",
   "metadata": {},
   "source": [
    "**Physics note:** The broad peak at 85 GeV _is_ the Z boson (in this Monte Carlo sample). It's offset from the 91 GeV Z mass and has a width of 14 GeV due to tracking resolution for these high-momentum tracks (roughly 40 GeV per track)."
   ]
  },
  {
   "cell_type": "markdown",
   "id": "c91835e3-5085-4e3a-b353-c443910996f6",
   "metadata": {},
   "source": [
    "<details style=\"border: dashed 1px black; padding: 10px\">\n",
    "    <summary><b>Solutions</b> (no peeking!)</summary>\n",
    "\n",
    "<br>\n",
    "\n",
    "The `invariant_mass` array can be flattened with [ak.flatten](https://awkward-array.readthedocs.io/en/latest/_auto/ak.flatten.html) or [ak.ravel](https://awkward-array.readthedocs.io/en/latest/_auto/ak.ravel.html)/[np.ravel](https://numpy.org/doc/stable/reference/generated/numpy.ravel.html). The [ak.flatten](https://awkward-array.readthedocs.io/en/latest/_auto/ak.flatten.html) function only flattens one dimension (by default, `axis=1`), which is all we need in this case. \"Ravel\" is NumPy's spelling for \"flatten all dimensions.\"\n",
    "\n",
    "```python\n",
    "flat_invariant_mass = ak.flatten(invariant_mass)\n",
    "```\n",
    "<br>\n",
    "\n",
    "or\n",
    "\n",
    "```python\n",
    "flat_invariant_mass = np.ravel(invariant_mass)\n",
    "```\n",
    "<br>\n",
    "\n",
    "The reason you have to do this manually is because it's an information-losing operation: [there are many ways](https://awkward-array.org/how-to-restructure-flatten.html) to get a dimensionless set of values from nested data, and in some circumstances, you might have wanted one of the other ones. For instance, maybe you want to ensure that you only plot one Z candidate per event, and you have some criteria for selecting the \"best\" one. This is where you would put that alternative.\n",
    "\n",
    "As for constructing the histogram and filling it:\n",
    "\n",
    "```python\n",
    "hM = hist.Hist(hist.axis.Regular(120, 0, 120, label=\"e+e- invariant mass (GeV/c)\"))\n",
    "hM.fill(flat_invariant_mass)\n",
    "```\n",
    "<br>\n",
    "\n",
    "Be sure to use hist's array-oriented `fill` method. Iterating over the values in the array (or even the lists withing an array of lists) would be hundreds of times slower than filling it in one call.\n",
    "\n",
    "Calling `fill` multiple times to accumulate batches, however, is fine: the important thing is to give it a large array with each call, so that most of its time can be spent in its compiled histogram-fill loop, not in Python loops.</details>"
   ]
  },
  {
   "cell_type": "markdown",
   "id": "2988be54-f181-4db8-bd25-5dfb3c09db58",
   "metadata": {
    "tags": []
   },
   "source": [
    "### Retrospective\n",
    "\n",
    "(Spoilers; keep hidden until you're done.)"
   ]
  },
  {
   "cell_type": "markdown",
   "id": "36d2f009-cfa0-41e3-b507-21282d53c12d",
   "metadata": {},
   "source": [
    "This might have seemed like a lot of steps to produce a simple invariant mass plot, but the intention of the exercises above was to walk you through it slowly.\n",
    "\n",
    "A speedrun would look more like this:"
   ]
  },
  {
   "cell_type": "code",
   "execution_count": 1,
   "id": "b368a5d5-7e1e-47d4-adfa-f53ac9971fc6",
   "metadata": {},
   "outputs": [],
   "source": [
    "import awkward as ak\n",
    "import numpy as np\n",
    "import matplotlib.pyplot as plt\n",
    "import uproot\n",
    "import particle\n",
    "import hepunits\n",
    "import hist\n",
    "import vector\n",
    "vector.register_awkward()"
   ]
  },
  {
   "cell_type": "code",
   "execution_count": 2,
   "id": "2de338cb-61c0-45b0-a46c-605bde412716",
   "metadata": {},
   "outputs": [],
   "source": [
    "picodst = uproot.open(\"https://pivarski-princeton.s3.amazonaws.com/pythia_ppZee_run17emb.picoDst.root:PicoDst\")"
   ]
  },
  {
   "cell_type": "code",
   "execution_count": 3,
   "id": "455cc112-ab99-41bc-9c35-bf9a1da7088c",
   "metadata": {},
   "outputs": [],
   "source": [
    "# make an array of track momentum vectors\n",
    "pMom = ak.zip(dict(zip([\"px\", \"py\", \"pz\"], picodst.arrays(filter_name=\"Track.mPMomentum[XYZ]\", how=tuple))), with_name=\"Momentum4D\")\n",
    "pMom[\"M\"] = particle.Particle.find(\"e-\").mass / hepunits.GeV"
   ]
  },
  {
   "cell_type": "code",
   "execution_count": 4,
   "id": "1538b4c3-6207-44bd-9013-2beda1972320",
   "metadata": {},
   "outputs": [],
   "source": [
    "# get all the other arrays we need\n",
    "mNHitsFit, mNHitsMax, mBEmcPidTraitsIndex, mBtowE = \\\n",
    "    picodst.arrays(filter_name=[\"Track.mNHitsFit\", \"Track.mNHitsMax\", \"Track.mBEmcPidTraitsIndex\", \"EmcPidTraits.mBtowE\"], how=tuple)\n",
    "mBtowE = mBtowE / 1000"
   ]
  },
  {
   "cell_type": "code",
   "execution_count": 5,
   "id": "fcf344b4-4637-49a2-afd9-194a6864327f",
   "metadata": {},
   "outputs": [],
   "source": [
    "# add charge to the momentum vector\n",
    "pMom[\"charge\"] = (mNHitsFit > 0) * 2 - 1"
   ]
  },
  {
   "cell_type": "code",
   "execution_count": 6,
   "id": "77c688a9-147d-4683-9af4-17a03806b2b6",
   "metadata": {},
   "outputs": [],
   "source": [
    "# compute track quality cuts\n",
    "isPrimary = pMom.mag > 0\n",
    "isBemcTrack = mBEmcPidTraitsIndex >= 0\n",
    "track_quality_cuts = isPrimary & (abs(mNHitsFit) / mNHitsMax >= 0.2) & isBemcTrack"
   ]
  },
  {
   "cell_type": "code",
   "execution_count": 7,
   "id": "de0cc1d4-26f8-40eb-84b6-4e0fa5013bf1",
   "metadata": {},
   "outputs": [],
   "source": [
    "# find shower energies for quality tracks\n",
    "quality_mBtowE = mBtowE[mBEmcPidTraitsIndex[track_quality_cuts]]"
   ]
  },
  {
   "cell_type": "code",
   "execution_count": 8,
   "id": "f5e44ad6-9ff2-45ad-8e60-38f60026ca35",
   "metadata": {},
   "outputs": [],
   "source": [
    "# compute the momentum-over-energy cut (some denominators are zero)\n",
    "with np.errstate(divide=\"ignore\"):\n",
    "    quality_pOverE_cut = (pMom[track_quality_cuts].mag / quality_mBtowE >= 0.1)"
   ]
  },
  {
   "cell_type": "code",
   "execution_count": 9,
   "id": "bee5c4a1-db36-4996-a392-e6fd8f373d55",
   "metadata": {},
   "outputs": [],
   "source": [
    "# apply all track quality cuts, including momentum-over-energy\n",
    "goodTracks = pMom[track_quality_cuts][quality_pOverE_cut]"
   ]
  },
  {
   "cell_type": "code",
   "execution_count": 10,
   "id": "9ebb0a41-67b2-4d03-a63a-32254e8cca56",
   "metadata": {},
   "outputs": [],
   "source": [
    "# form pairs of quality cuts and apply an opposite-sign charge constraint\n",
    "pairs = ak.combinations(goodTracks, 2)\n",
    "one, two = ak.unzip(pairs)\n",
    "quality_one, quality_two = ak.unzip(pairs[one.charge != two.charge])"
   ]
  },
  {
   "cell_type": "code",
   "execution_count": 11,
   "id": "e6dffec2-7204-4c9b-a726-c5a096651f15",
   "metadata": {},
   "outputs": [
    {
     "data": {
      "image/png": "[encoded data removed]",
      "text/plain": [
       "<Figure size 432x288 with 1 Axes>"
      ]
     },
     "metadata": {
      "needs_background": "light"
     },
     "output_type": "display_data"
    }
   ],
   "source": [
    "# make the plot\n",
    "hM = hist.Hist(hist.axis.Regular(120, 0, 120, label=\"e+e- invariant mass (GeV/c)\"))\n",
    "hM.fill(ak.flatten((quality_one + quality_two).mass))\n",
    "hM.plot()\n",
    "plt.yscale(\"log\")"
   ]
  },
  {
   "cell_type": "markdown",
   "id": "05b99c74-1fa1-4226-a119-cf106413a7d0",
   "metadata": {
    "tags": []
   },
   "source": [
    "**Final words about array-oriented data analysis**\n",
    "\n",
    "The key thing about this interface is the _order_ in which you do things.\n",
    "\n",
    "   1. Scan through the TBranch names to see what you can play with.\n",
    "   2. Get some promising-looking arrays. If the dataset is big or remote, use `entry_stop=small_number` to fetch only as much as you need to investigate.\n",
    "   3. Compute _one quantity_ on the _entire array(s)_. Then look at a few of its values or plot it.\n",
    "   4. Decide whether that was what you wanted to compute or cut. If not, go back to 2.\n",
    "   5. When you've built up a final result (on a small dataset), clean up the notebook or copy it to a non-notebook script.\n",
    "   6. Put the computation code in an [uproot.iterate](https://uproot.readthedocs.io/en/latest/uproot.behaviors.TBranch.iterate.html) loop or a parallel process that writes and adds up histograms.\n",
    "   7. Parallelize, collect the histograms, beautify them, publish.\n",
    "\n",
    "Most importantly, each computation _step_ applies to _entire_ (possibly small) datasets, so you can look at/plot what you've computed before you decide what to compute next.\n",
    "\n",
    "Imperative code forces you to put all steps into a loop; you have to run the whole loop to see any of the results. You can still do iterative data analysis, but the turn-around time to identify and fix mistakes is longer.\n",
    "\n",
    "**I'm not just the president; I'm also a client**\n",
    "\n",
    "I experienced this first-hand (again) while preparing this tutorial. There were some things I didn't understand about STAR's detectors and I didn't believe the final result (I thought the Z peak was fake; sculped by cuts), so I furiously plotted everything versus everything in this TTree until I came to understand that the Z peak was correct after all. (Dmitry Kalinkin helped: thanks!)\n",
    "\n",
    "Offline, I have a ridiculously messy `Untitled.ipynb` with all those plots, mostly in the form\n",
    "\n",
    "```python\n",
    "plt.hist(ak.flatten(some_quantity), bins=100);  # maybe add range=(low, high)\n",
    "plt.yscale(\"log\")\n",
    "```\n",
    "\n",
    "for brevity. Only when _I_ felt _I_ understood what was going on could I clean up all of that mess into something coherent, which is the exercises above."
   ]
  }
 ],
 "metadata": {
  "kernelspec": {
   "display_name": "Python 3 (ipykernel)",
   "language": "python",
   "name": "python3"
  },
  "language_info": {
   "codemirror_mode": {
    "name": "ipython",
    "version": 3
   },
   "file_extension": ".py",
   "mimetype": "text/x-python",
   "name": "python",
   "nbconvert_exporter": "python",
   "pygments_lexer": "ipython3",
   "version": "3.8.10"
  }
 },
 "nbformat": 4,
 "nbformat_minor": 5
}
