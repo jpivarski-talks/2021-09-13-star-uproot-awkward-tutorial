{
 "cells": [
  {
   "cell_type": "markdown",
   "id": "88a6d7a8-4ba0-44aa-b9cc-bde6ca17eb71",
   "metadata": {},
   "source": [
    "# Scientific Python tutorial for the STAR collaboration\n",
    "\n",
    "This notebook shows you how to do physics analysis in Python using a STAR PicoDST file. I presented it on Zoom on September 13, 2021.\n",
    "\n",
    "You can read it in GitHub ([jpivarski-talks/2021-09-13-star-uproot-awkward-tutorial](https://github.com/jpivarski-talks/2021-09-13-star-uproot-awkward-tutorial)) or run it [interactively on Binder](FIXME).\n",
    "\n",
    "I recommend the latter, as that would let you see the outputs of the code cells and make modifications to explore \"what if?\" scenarios. Binder loads all dependencies on its server; you don't have to install anything.\n",
    "\n",
    "If you want to run it on your own computer, see the `requirements.txt` file for Python packages to install. The requirements specifies exact versions that are known to work with this notebook, but if you plan to use these libraries for other work, you'll probably want the latest versions of each."
   ]
  },
  {
   "cell_type": "markdown",
   "id": "1a438bfd-a767-4d0b-bbc9-1175b4d34e43",
   "metadata": {
    "tags": []
   },
   "source": [
    "## 1. Python: interactively building up an analysis"
   ]
  },
  {
   "cell_type": "markdown",
   "id": "2764f556-cbaf-4629-ac50-0eb78b58ea99",
   "metadata": {},
   "source": [
    "## 2. NumPy: thinking one array at a time"
   ]
  },
  {
   "cell_type": "markdown",
   "id": "ee248524-5bd4-4f9b-8303-68575b5e1e67",
   "metadata": {},
   "source": [
    "## 3. Uproot: array-oriented ROOT I/O"
   ]
  },
  {
   "cell_type": "markdown",
   "id": "4f5afbe6-52bf-4c65-b604-7106fc87dd1e",
   "metadata": {},
   "source": [
    "## 4. Awkward Array: complex data in arrays"
   ]
  },
  {
   "cell_type": "markdown",
   "id": "e013b84a-8de8-481d-a559-c0682ec8f403",
   "metadata": {},
   "source": [
    "## 5. Vector, hist, fastjet: the array-oriented ecosystem"
   ]
  },
  {
   "cell_type": "markdown",
   "id": "4d7bc919-93cd-4f03-94ac-ed821d1faf37",
   "metadata": {},
   "source": [
    "## 6. Z peak: translating a C++ analysis into array-oriented Python"
   ]
  }
 ],
 "metadata": {
  "kernelspec": {
   "display_name": "Python 3 (ipykernel)",
   "language": "python",
   "name": "python3"
  },
  "language_info": {
   "codemirror_mode": {
    "name": "ipython",
    "version": 3
   },
   "file_extension": ".py",
   "mimetype": "text/x-python",
   "name": "python",
   "nbconvert_exporter": "python",
   "pygments_lexer": "ipython3",
   "version": "3.8.10"
  }
 },
 "nbformat": 4,
 "nbformat_minor": 5
}
