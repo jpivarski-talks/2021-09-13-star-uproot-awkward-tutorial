{
 "cells": [
  {
   "cell_type": "markdown",
   "id": "8fb1d877-4e75-47c7-8272-8950a6424e4c",
   "metadata": {
    "tags": []
   },
   "source": [
    "<img src=\"fig/scikit-hep-logo.svg\" height=\"200px\" style=\"margin-left: auto; margin-bottom: -75px\">\n",
    "\n",
    "# Scikit-HEP tutorial for the STAR collaboration"
   ]
  },
  {
   "cell_type": "markdown",
   "id": "362a427c-196f-47dd-a090-fe73455bda89",
   "metadata": {},
   "source": [
    "This notebook shows you how to do physics analysis in Python using Scikit-HEP tools: Uproot, Awkward Array, Vector, hist, etc., and it uses a STAR PicoDST file as an example. I presented this tutorial on Zoom on September 13, 2021 (see [STAR collaboration website](https://drupal.star.bnl.gov/STAR/meetings/star-collaboration-meeting-september-2021/juniors-day), if you have access). You can also find it on GitHub at [jpivarski-talks/2021-09-13-star-uproot-awkward-tutorial](https://github.com/jpivarski-talks/2021-09-13-star-uproot-awkward-tutorial).\n",
    "\n",
    "You can [run this notebook on Binder](https://mybinder.org/v2/gh/jpivarski-talks/2021-09-13-star-uproot-awkward-tutorial/HEAD?urlpath=lab/tree/tutorial.ipynb), which loads all of the package dependencies on Binder's servers; you don't have to install anything on your computer. But if you would like to run it on your computer, see the [requirements.txt](https://github.com/jpivarski-talks/2021-09-13-star-uproot-awkward-tutorial/blob/main/requirements.txt) file. This specifies exact versions of dependencies that are known to work for this notebook, though if you plan to use these packages later on, you'll want the latest versions of each.\n",
    "\n",
    "The first 5 sections are introductory, and the last contains exercises. In the live tutorial, we spent one hour on the introductory material and one hour in small groups, working on the exercises."
   ]
  },
  {
   "cell_type": "markdown",
   "id": "1a438bfd-a767-4d0b-bbc9-1175b4d34e43",
   "metadata": {
    "jp-MarkdownHeadingCollapsed": true,
    "tags": []
   },
   "source": [
    "## 1. Python: interactively building up an analysis"
   ]
  },
  {
   "cell_type": "markdown",
   "id": "766cbb10-8f7e-46f8-940d-2f1c8f619150",
   "metadata": {},
   "source": [
    "<img src=\"fig/python-logo.svg\" height=\"100px\">"
   ]
  },
  {
   "cell_type": "markdown",
   "id": "74047f21-c923-4ddf-a4c1-0359b7f2fc3d",
   "metadata": {
    "jp-MarkdownHeadingCollapsed": true,
    "tags": []
   },
   "source": [
    "### Introduction: why Python?"
   ]
  },
  {
   "cell_type": "markdown",
   "id": "0cdc875d-f10c-471e-8611-0cd3beb64f19",
   "metadata": {},
   "source": [
    "**It's where the party's at.**\n",
    "\n",
    "I mean it: the best argument for Python is that there's a huge community of _people_ who can help you and _people_ developing infrastructure.\n",
    "\n",
    "You probably learned Python in a university course, and you'll probably use it a lot in your career.\n",
    "\n",
    "<br><br><br>"
   ]
  },
  {
   "cell_type": "markdown",
   "id": "d3663c3f-58d5-47cd-86b0-4f4de7a05cbd",
   "metadata": {},
   "source": [
    "**Python is especially popular for data analysis:**\n",
    "\n",
    "<img src=\"fig/analytics-by-language.svg\" width=\"800px\">\n",
    "\n",
    "See also Jake VanderPlas's [_Unexpected Effectiveness of Python in Science_](https://speakerdeck.com/jakevdp/the-unexpected-effectiveness-of-python-in-science) talk (2017).\n",
    "\n",
    "<br><br><br>"
   ]
  },
  {
   "cell_type": "markdown",
   "id": "842d8acc-1029-4ebe-89ba-72b6d150aca7",
   "metadata": {},
   "source": [
    "**Python is one of a large class of languages in which \"debugging mode is always on.\"**\n",
    "\n",
    "   * Except for bugs in external libraries (and very rare bugs in the language itself), you can't cause a segmentation fault or memory leak.\n",
    "   * Errors produce a stack trace _with line numbers_.\n",
    "   * You can print any object.\n",
    "   * Interactive debuggers are superfluous; the language itself is interactive (raise an exception at a break point that exports variables).\n",
    "   * Although long-running programs are slow, it _starts up_ quickly, minimizing the debug cycle.\n",
    "\n",
    "C++ is not one of these languages.\n",
    "\n",
    "<br><br><br>"
   ]
  },
  {
   "cell_type": "markdown",
   "id": "6c73864e-c0f2-40f9-8e6f-15c844a55818",
   "metadata": {},
   "source": [
    "**\"Always debugging\" has a cost: performance.**\n",
    "\n",
    "Most of Python's design choices prevent fast computation:\n",
    "\n",
    "   * runtime type checking\n",
    "   * garbage collection\n",
    "   * boxing numbers as objects\n",
    "   * no value types or move semantics at all (all Python references are \"pointer chasing\")\n",
    "   * virtual machine indirection\n",
    "   * Global Interpreter Lock (GIL) prevents threads from running in parallel\n",
    "\n",
    "_(Maybe not a necessary cost: [Julia](https://julialang.org/) might be exempt, but Julia is not popular—yet.)_\n",
    "\n",
    "<br><br><br>"
   ]
  },
  {
   "cell_type": "markdown",
   "id": "e2af7e9c-e68c-4a30-9a08-e7eb7d32fa3b",
   "metadata": {},
   "source": [
    "**And yet, scientists with big datasets have made Python their home.**\n",
    "\n",
    "This was only possible because an ecosystem grew around _arrays_ and _array-oriented programming._\n",
    "\n",
    "<img src=\"fig/harris-array-programming-nature.png\" width=\"800px\">\n",
    "\n",
    "From Harris, C.R., Millman, K.J., van der Walt, S.J. _et al._ Array programming with NumPy. _Nature_ **585,** 357–362 (2020).\n",
    "<br>\n",
    "https://doi.org/10.1038/s41586-020-2649-2\n",
    "\n",
    "<br><br><br>"
   ]
  },
  {
   "cell_type": "markdown",
   "id": "49582256-32c4-4e13-8acd-d8075eed93be",
   "metadata": {},
   "source": [
    "**Array-oriented programming is also the paradigm of GPU programming.**\n",
    "\n",
    "The slowness of Python might have pushed us toward it, but dividing your work into\n",
    "\n",
    "  * complex bookkeeping that doesn't need to be fast and\n",
    "  * a mathematical formula to compute on billions of data points\n",
    "\n",
    "is also the right way to massively parallelize.\n",
    "\n",
    "<br><br><br>"
   ]
  },
  {
   "cell_type": "markdown",
   "id": "3d14d8c9-d35a-4db2-bdce-736859a4b664",
   "metadata": {
    "jp-MarkdownHeadingCollapsed": true,
    "tags": []
   },
   "source": [
    "### What is Scikit-HEP?"
   ]
  },
  {
   "cell_type": "markdown",
   "id": "ca97cc07-cf2d-46d8-ac1f-d6aa8bdd2b0b",
   "metadata": {},
   "source": [
    "[Scikit-HEP](https://scikit-hep.org/) is a collection of Python packages for array-oriented data analysis in particle physics.\n",
    "\n",
    "(I know, \"High Energy\" does not describe all of Particle Physics, but Scikit-PP was a worse name.)\n",
    "\n",
    "The goal of this umbrella organization is to make sure that these packages\n",
    "\n",
    "  * work well together\n",
    "  * work well with the Python ecosystem (NumPy, Pandas, Matplotlib, ...) and the traditional HEP ecosystem (ROOT, formats, generators, ...)\n",
    "  * are packaged well and designed well, to minimize physicist frustration!\n",
    "\n",
    "I'm the author of Uproot and Awkward Array, so I'll have the most to say about these.\n",
    "\n",
    "But the context is that they works with a suite of other libraries.\n",
    "\n",
    "<br><br><br>"
   ]
  },
  {
   "cell_type": "markdown",
   "id": "6129a483-8eac-4b20-b7e4-a23b74ff7ef4",
   "metadata": {
    "jp-MarkdownHeadingCollapsed": true,
    "tags": []
   },
   "source": [
    "### Python language features that we'll be using"
   ]
  },
  {
   "cell_type": "markdown",
   "id": "bb90653d-5d58-4f95-844b-8788106b84be",
   "metadata": {},
   "source": [
    "We don't have time for an intro course, but many exist.\n",
    "\n",
    "<br><br><br>"
   ]
  },
  {
   "cell_type": "markdown",
   "id": "bed44019-1062-4046-9a21-951ad58422cd",
   "metadata": {},
   "source": [
    "The basic control structures:"
   ]
  },
  {
   "cell_type": "code",
   "execution_count": 1,
   "id": "07dab2f6-01db-494e-b9fe-d2eeb276bb74",
   "metadata": {},
   "outputs": [],
   "source": [
    "x = 5"
   ]
  },
  {
   "cell_type": "code",
   "execution_count": 2,
   "id": "6f6def36-a4e9-4893-9a45-f4afd7b2da3b",
   "metadata": {},
   "outputs": [
    {
     "name": "stdout",
     "output_type": "stream",
     "text": [
      "big\n"
     ]
    }
   ],
   "source": [
    "if x < 5:\n",
    "    print(\"small\")\n",
    "else:\n",
    "    print(\"big\")"
   ]
  },
  {
   "cell_type": "code",
   "execution_count": 3,
   "id": "44222b5d-a36d-4812-b15a-885cd64d8ca1",
   "metadata": {},
   "outputs": [
    {
     "name": "stdout",
     "output_type": "stream",
     "text": [
      "0\n",
      "1\n",
      "2\n",
      "3\n",
      "4\n"
     ]
    }
   ],
   "source": [
    "for i in range(x):\n",
    "    print(i)"
   ]
  },
  {
   "cell_type": "markdown",
   "id": "cf2c8a91-3579-4002-94c4-7dadad7deb52",
   "metadata": {},
   "source": [
    "are less relevant for this tutorial because these are what we avoid when working with large arrays.\n",
    "\n",
    "<br><br><br>"
   ]
  },
  {
   "cell_type": "markdown",
   "id": "50c5a6c5-1a0e-4859-bb74-dafeef912ad2",
   "metadata": {},
   "source": [
    "We will be focusing on operations like\n",
    "\n",
    "```python\n",
    "import compiled_library\n",
    "\n",
    "compiled_library.do_computationally_expensive_thing(big_array)\n",
    "```\n",
    "\n",
    "because array-oriented Python is about separating small scale, complex bookkeeping (with `if` and `for`) from large-scale processing in compiled libraries.\n",
    "\n",
    "<br><br><br>"
   ]
  },
  {
   "cell_type": "markdown",
   "id": "3c775766-099a-4752-9310-c90a88acdcbc",
   "metadata": {},
   "source": [
    "The trick is for the Python-side code to be expressive enough and the compiled code to be general enough that you don't need a new `compiled_library` for every little thing.\n",
    "\n",
    "<br><br><br>"
   ]
  },
  {
   "cell_type": "markdown",
   "id": "fa60ea83-8007-4464-81e3-b966f50925e9",
   "metadata": {},
   "source": [
    "Much of this expressivity grew up around Python's syntax for slicing lists:"
   ]
  },
  {
   "cell_type": "code",
   "execution_count": 4,
   "id": "3e80c441-e8e9-49d7-9237-e5c72a422970",
   "metadata": {},
   "outputs": [],
   "source": [
    "some_list = [0.0, 1.1, 2.2, 3.3, 4.4, 5.5, 6.6, 7.7, 8.8, 9.9]"
   ]
  },
  {
   "cell_type": "markdown",
   "id": "4226c3eb-8136-4565-9b85-908f6d0d23df",
   "metadata": {},
   "source": [
    "Single-element access is like C (counting starts at zero):"
   ]
  },
  {
   "cell_type": "code",
   "execution_count": 5,
   "id": "ae8f23b6-d2e4-4f64-8ca5-ac9914fc4ca9",
   "metadata": {},
   "outputs": [
    {
     "data": {
      "text/plain": [
       "0.0"
      ]
     },
     "execution_count": 5,
     "metadata": {},
     "output_type": "execute_result"
    }
   ],
   "source": [
    "some_list[0]"
   ]
  },
  {
   "cell_type": "code",
   "execution_count": 7,
   "id": "66a18e7d-369c-41bd-b5db-dacca303d995",
   "metadata": {},
   "outputs": [
    {
     "data": {
      "text/plain": [
       "4.4"
      ]
     },
     "execution_count": 7,
     "metadata": {},
     "output_type": "execute_result"
    }
   ],
   "source": [
    "some_list[4]"
   ]
  },
  {
   "cell_type": "markdown",
   "id": "54114f0d-2517-469f-a8e3-5e5aaf995d0b",
   "metadata": {},
   "source": [
    "Except when the index is negative; then it counts from the end of the list."
   ]
  },
  {
   "cell_type": "code",
   "execution_count": 8,
   "id": "138444d4-ef1a-4478-9338-6d696fbf5c4b",
   "metadata": {},
   "outputs": [
    {
     "data": {
      "text/plain": [
       "9.9"
      ]
     },
     "execution_count": 8,
     "metadata": {},
     "output_type": "execute_result"
    }
   ],
   "source": [
    "some_list[-1]"
   ]
  },
  {
   "cell_type": "code",
   "execution_count": 9,
   "id": "dc0dbc2b-b751-4fee-ba0a-1fd687df1624",
   "metadata": {},
   "outputs": [
    {
     "data": {
      "text/plain": [
       "8.8"
      ]
     },
     "execution_count": 9,
     "metadata": {},
     "output_type": "execute_result"
    }
   ],
   "source": [
    "some_list[-2]"
   ]
  },
  {
   "cell_type": "markdown",
   "id": "7a51cab6-518c-450d-8514-ba92ba338150",
   "metadata": {},
   "source": [
    "Running off the end of a list is an exception, not a segmentation fault or data corruption."
   ]
  },
  {
   "cell_type": "code",
   "execution_count": 10,
   "id": "079c02ef-3b95-4b53-8b7a-2d587bc42fd6",
   "metadata": {},
   "outputs": [
    {
     "ename": "IndexError",
     "evalue": "list index out of range",
     "output_type": "error",
     "traceback": [
      "\u001b[0;31m---------------------------------------------------------------------------\u001b[0m",
      "\u001b[0;31mIndexError\u001b[0m                                Traceback (most recent call last)",
      "\u001b[0;32m/tmp/ipykernel_13488/2506423034.py\u001b[0m in \u001b[0;36m<module>\u001b[0;34m\u001b[0m\n\u001b[0;32m----> 1\u001b[0;31m \u001b[0msome_list\u001b[0m\u001b[0;34m[\u001b[0m\u001b[0;36m10\u001b[0m\u001b[0;34m]\u001b[0m\u001b[0;34m\u001b[0m\u001b[0;34m\u001b[0m\u001b[0m\n\u001b[0m",
      "\u001b[0;31mIndexError\u001b[0m: list index out of range"
     ]
    }
   ],
   "source": [
    "some_list[10]"
   ]
  },
  {
   "cell_type": "code",
   "execution_count": 11,
   "id": "467469ac-41a4-4b01-9a6a-3073c508f846",
   "metadata": {},
   "outputs": [
    {
     "ename": "IndexError",
     "evalue": "list index out of range",
     "output_type": "error",
     "traceback": [
      "\u001b[0;31m---------------------------------------------------------------------------\u001b[0m",
      "\u001b[0;31mIndexError\u001b[0m                                Traceback (most recent call last)",
      "\u001b[0;32m/tmp/ipykernel_13488/3634137262.py\u001b[0m in \u001b[0;36m<module>\u001b[0;34m\u001b[0m\n\u001b[0;32m----> 1\u001b[0;31m \u001b[0msome_list\u001b[0m\u001b[0;34m[\u001b[0m\u001b[0;34m-\u001b[0m\u001b[0;36m11\u001b[0m\u001b[0;34m]\u001b[0m\u001b[0;34m\u001b[0m\u001b[0;34m\u001b[0m\u001b[0m\n\u001b[0m",
      "\u001b[0;31mIndexError\u001b[0m: list index out of range"
     ]
    }
   ],
   "source": [
    "some_list[-11]"
   ]
  },
  {
   "cell_type": "markdown",
   "id": "9e1d665d-9ec1-4453-b5a1-9410e5a3eed4",
   "metadata": {},
   "source": [
    "With a colon (`:`), you can also select ranges. The _start_ of each range is included; the _stop_ is excluded."
   ]
  },
  {
   "cell_type": "code",
   "execution_count": 12,
   "id": "f4c64b69-142c-4b82-909a-38bee0e60539",
   "metadata": {},
   "outputs": [
    {
     "data": {
      "text/plain": [
       "[2.2, 3.3, 4.4, 5.5, 6.6]"
      ]
     },
     "execution_count": 12,
     "metadata": {},
     "output_type": "execute_result"
    }
   ],
   "source": [
    "some_list[2:7]"
   ]
  },
  {
   "cell_type": "code",
   "execution_count": 15,
   "id": "53929c47-d5ce-40db-88cc-1741bbc7f1c7",
   "metadata": {},
   "outputs": [
    {
     "data": {
      "text/plain": [
       "[4.4, 5.5, 6.6, 7.7, 8.8, 9.9]"
      ]
     },
     "execution_count": 15,
     "metadata": {},
     "output_type": "execute_result"
    }
   ],
   "source": [
    "some_list[-6:]"
   ]
  },
  {
   "cell_type": "markdown",
   "id": "25f619c0-890b-4a7a-b01e-f02784ba0adc",
   "metadata": {},
   "source": [
    "Out-of-bounds ranges don't cause exceptions; they get clipped."
   ]
  },
  {
   "cell_type": "code",
   "execution_count": 16,
   "id": "ab2dc7c4-b1de-42f4-a6fd-ecd09612c026",
   "metadata": {},
   "outputs": [
    {
     "data": {
      "text/plain": [
       "[8.8, 9.9]"
      ]
     },
     "execution_count": 16,
     "metadata": {},
     "output_type": "execute_result"
    }
   ],
   "source": [
    "some_list[8:100]"
   ]
  },
  {
   "cell_type": "code",
   "execution_count": 19,
   "id": "b9bbe95b-f08d-4bf5-97cd-bd7f7447e39b",
   "metadata": {},
   "outputs": [
    {
     "data": {
      "text/plain": [
       "[]"
      ]
     },
     "execution_count": 19,
     "metadata": {},
     "output_type": "execute_result"
    }
   ],
   "source": [
    "some_list[-1000:-500]"
   ]
  },
  {
   "cell_type": "markdown",
   "id": "70056dcf-dd7d-48f2-ba8c-cd45818b1828",
   "metadata": {},
   "source": [
    "Slices have a third argument for how many elements to skip between each step."
   ]
  },
  {
   "cell_type": "code",
   "execution_count": 23,
   "id": "666cc9b5-162e-49b8-bec7-c0d13a4dc28b",
   "metadata": {},
   "outputs": [
    {
     "data": {
      "text/plain": [
       "[1.1, 3.3, 5.5, 7.7, 9.9]"
      ]
     },
     "execution_count": 23,
     "metadata": {},
     "output_type": "execute_result"
    }
   ],
   "source": [
    "some_list[1:10:2]"
   ]
  },
  {
   "cell_type": "code",
   "execution_count": 22,
   "id": "171c6bb4-e9c3-43ca-8b2f-cb31e8a1c49d",
   "metadata": {},
   "outputs": [
    {
     "data": {
      "text/plain": [
       "[0.0, 2.2, 4.4, 6.6, 8.8]"
      ]
     },
     "execution_count": 22,
     "metadata": {},
     "output_type": "execute_result"
    }
   ],
   "source": [
    "some_list[::2]"
   ]
  },
  {
   "cell_type": "markdown",
   "id": "164f5ae4-7328-4398-ae1f-66b5ee104a95",
   "metadata": {},
   "source": [
    "This _step_ is not as useful as the _start_ and _stop_, but you can always reverse a list:"
   ]
  },
  {
   "cell_type": "code",
   "execution_count": 24,
   "id": "19a91ed2-665a-4499-a9a0-e51b99fb86ec",
   "metadata": {},
   "outputs": [
    {
     "data": {
      "text/plain": [
       "[9.9, 8.8, 7.7, 6.6, 5.5, 4.4, 3.3, 2.2, 1.1, 0.0]"
      ]
     },
     "execution_count": 24,
     "metadata": {},
     "output_type": "execute_result"
    }
   ],
   "source": [
    "some_list[::-1]"
   ]
  },
  {
   "cell_type": "markdown",
   "id": "ba39c9dc-c4f3-492a-970e-bbbb5f3ac8a9",
   "metadata": {},
   "source": [
    "The _start_, _stop_, and _step_ are exactly the arguments of `range`:"
   ]
  },
  {
   "cell_type": "code",
   "execution_count": 32,
   "id": "88177f3b-27c9-4297-8737-79db0c2f37ac",
   "metadata": {},
   "outputs": [
    {
     "name": "stdout",
     "output_type": "stream",
     "text": [
      "1\n",
      "4\n",
      "7\n"
     ]
    }
   ],
   "source": [
    "for i in range(1, 9, 3):\n",
    "    print(i)"
   ]
  },
  {
   "cell_type": "code",
   "execution_count": 31,
   "id": "7e2463c6-110c-4e9b-9f24-c9f9fd84d509",
   "metadata": {},
   "outputs": [
    {
     "data": {
      "text/plain": [
       "[1.1, 4.4, 7.7]"
      ]
     },
     "execution_count": 31,
     "metadata": {},
     "output_type": "execute_result"
    }
   ],
   "source": [
    "some_list[1:9:3]"
   ]
  },
  {
   "cell_type": "markdown",
   "id": "fdc6196c-9c45-4d12-8bc1-8738721f0024",
   "metadata": {},
   "source": [
    "<br><br><br>\n",
    "\n",
    "In Python, \"dicts\" (mappings, like `std::map`) are just as important as lists (like `std::vector`).\n",
    "\n",
    "They use the square-bracket syntax in a different way:"
   ]
  },
  {
   "cell_type": "code",
   "execution_count": 33,
   "id": "3b1676c8-a86a-4756-afdb-52b459f3a77b",
   "metadata": {},
   "outputs": [],
   "source": [
    "some_dict = {\"one\": 1, \"two\": 2, \"three\": 3, \"four\": 4, \"five\": 5}"
   ]
  },
  {
   "cell_type": "code",
   "execution_count": 34,
   "id": "6f493fbe-7773-4f4a-99ca-d0e252d40203",
   "metadata": {},
   "outputs": [
    {
     "data": {
      "text/plain": [
       "2"
      ]
     },
     "execution_count": 34,
     "metadata": {},
     "output_type": "execute_result"
    }
   ],
   "source": [
    "some_dict[\"two\"]"
   ]
  },
  {
   "cell_type": "code",
   "execution_count": 35,
   "id": "42588edd-e594-4e88-b362-dd843152ab34",
   "metadata": {},
   "outputs": [
    {
     "ename": "KeyError",
     "evalue": "'not in dict'",
     "output_type": "error",
     "traceback": [
      "\u001b[0;31m---------------------------------------------------------------------------\u001b[0m",
      "\u001b[0;31mKeyError\u001b[0m                                  Traceback (most recent call last)",
      "\u001b[0;32m/tmp/ipykernel_13488/3562471464.py\u001b[0m in \u001b[0;36m<module>\u001b[0;34m\u001b[0m\n\u001b[0;32m----> 1\u001b[0;31m \u001b[0msome_dict\u001b[0m\u001b[0;34m[\u001b[0m\u001b[0;34m\"not in dict\"\u001b[0m\u001b[0;34m]\u001b[0m\u001b[0;34m\u001b[0m\u001b[0;34m\u001b[0m\u001b[0m\n\u001b[0m",
      "\u001b[0;31mKeyError\u001b[0m: 'not in dict'"
     ]
    }
   ],
   "source": [
    "some_dict[\"not in dict\"]"
   ]
  },
  {
   "cell_type": "markdown",
   "id": "dea65558-9ab1-44cb-a65e-4ec7a3f706fa",
   "metadata": {},
   "source": [
    "<br><br><br>\n",
    "\n",
    "Apart from function calls, arithmetic, variables and assignment—which are the same in all mainstream languages—slicing is the only language feature we need for NumPy.\n",
    "\n",
    "<br><br><br>"
   ]
  },
  {
   "cell_type": "markdown",
   "id": "2764f556-cbaf-4629-ac50-0eb78b58ea99",
   "metadata": {
    "tags": []
   },
   "source": [
    "## 2. NumPy: thinking one array at a time"
   ]
  },
  {
   "cell_type": "markdown",
   "id": "24efcdd9-8c7d-40a2-b782-d5aafc089d36",
   "metadata": {},
   "source": [
    "<img src=\"fig/numpy-logo.svg\" height=\"100px\">"
   ]
  },
  {
   "cell_type": "markdown",
   "id": "cb0b5dd5-8946-43dd-9549-80e528ec8e51",
   "metadata": {
    "jp-MarkdownHeadingCollapsed": true,
    "tags": []
   },
   "source": [
    "### Introduction"
   ]
  },
  {
   "cell_type": "markdown",
   "id": "d420f8bf-0ecd-4223-919d-2a9c8e03ab4b",
   "metadata": {},
   "source": [
    "NumPy is a Python library consisting of one major data type, `np.ndarray`, and a suite of functions to manipulate objects of that type.\n",
    "\n",
    "<br><br><br>\n",
    "\n",
    "<img src=\"fig/Numpy_Python_Cheat_Sheet.svg\" width=\"100%\">\n",
    "\n",
    "<br><br><br>"
   ]
  },
  {
   "cell_type": "markdown",
   "id": "07c56ce3-712d-4097-80b1-57467973fbef",
   "metadata": {},
   "source": [
    "This is \"array-oriented.\" In each step, you decide what to do to _all values in a large dataset_.\n",
    "\n",
    "There is a tradition of languages built around this paradigm. Most of them have been for interactive data processing. NumPy is unusual in that it's a library.\n",
    "\n",
    "<img src=\"fig/apl-timeline.svg\" width=\"800px\">\n",
    "\n",
    "<br><br><br>"
   ]
  },
  {
   "cell_type": "markdown",
   "id": "e6247ea3-9652-452c-931e-6b14a4e051de",
   "metadata": {},
   "source": [
    "### Slicing in NumPy"
   ]
  },
  {
   "cell_type": "markdown",
   "id": "e2bbfea2-0e08-4b9d-b23a-476e1b0cab22",
   "metadata": {},
   "source": [
    "NumPy has the same slicing syntax for arrays as Python has for lists."
   ]
  },
  {
   "cell_type": "code",
   "execution_count": 36,
   "id": "16f0f734-78cc-4b42-8418-c686688a70b6",
   "metadata": {},
   "outputs": [],
   "source": [
    "import numpy as np"
   ]
  },
  {
   "cell_type": "code",
   "execution_count": 37,
   "id": "aa1dfd4d-8050-4fa2-bb78-2e4e4e93f361",
   "metadata": {},
   "outputs": [],
   "source": [
    "some_array = np.array([0.0, 1.1, 2.2, 3.3, 4.4, 5.5, 6.6, 7.7, 8.8, 9.9])"
   ]
  },
  {
   "cell_type": "code",
   "execution_count": 38,
   "id": "d9be84b8-231f-4861-bd3d-27e0732f795b",
   "metadata": {},
   "outputs": [
    {
     "data": {
      "text/plain": [
       "3.3"
      ]
     },
     "execution_count": 38,
     "metadata": {},
     "output_type": "execute_result"
    }
   ],
   "source": [
    "some_array[3]"
   ]
  },
  {
   "cell_type": "code",
   "execution_count": 39,
   "id": "1910f858-d90a-48fb-9294-855510414c6a",
   "metadata": {},
   "outputs": [
    {
     "data": {
      "text/plain": [
       "8.8"
      ]
     },
     "execution_count": 39,
     "metadata": {},
     "output_type": "execute_result"
    }
   ],
   "source": [
    "some_array[-2]"
   ]
  },
  {
   "cell_type": "code",
   "execution_count": 41,
   "id": "fb5270eb-4c3b-49a2-b9cf-a48ebdf84dd5",
   "metadata": {},
   "outputs": [
    {
     "data": {
      "text/plain": [
       "array([7.7, 6.6, 5.5, 4.4, 3.3, 2.2, 1.1, 0. ])"
      ]
     },
     "execution_count": 41,
     "metadata": {},
     "output_type": "execute_result"
    }
   ],
   "source": [
    "some_array[-3::-1]"
   ]
  },
  {
   "cell_type": "markdown",
   "id": "e2d84b58-4391-4348-8957-dd4ac0c99156",
   "metadata": {},
   "source": [
    "But NumPy slices can operate on multiple dimensions."
   ]
  },
  {
   "cell_type": "code",
   "execution_count": 42,
   "id": "a8c807d2-2c4c-4565-9321-f1023fc3ea2e",
   "metadata": {},
   "outputs": [
    {
     "data": {
      "text/plain": [
       "array([[[ 0,  1,  2,  3,  4],\n",
       "        [ 5,  6,  7,  8,  9],\n",
       "        [10, 11, 12, 13, 14]],\n",
       "\n",
       "       [[15, 16, 17, 18, 19],\n",
       "        [20, 21, 22, 23, 24],\n",
       "        [25, 26, 27, 28, 29]]])"
      ]
     },
     "execution_count": 42,
     "metadata": {},
     "output_type": "execute_result"
    }
   ],
   "source": [
    "array3d = np.arange(2*3*5).reshape(2, 3, 5)\n",
    "array3d"
   ]
  },
  {
   "cell_type": "code",
   "execution_count": 44,
   "id": "2ea5cf41-6ec3-458f-9015-3c40e9b1a365",
   "metadata": {},
   "outputs": [
    {
     "data": {
      "text/plain": [
       "array([[[21, 22, 23, 24],\n",
       "        [26, 27, 28, 29]]])"
      ]
     },
     "execution_count": 44,
     "metadata": {},
     "output_type": "execute_result"
    }
   ],
   "source": [
    "array3d[1:, 1:, 1:]"
   ]
  },
  {
   "cell_type": "markdown",
   "id": "1473f7a7-1b6c-4629-9046-04fd398021ca",
   "metadata": {},
   "source": [
    "Python lists _do not_ do this."
   ]
  },
  {
   "cell_type": "code",
   "execution_count": 45,
   "id": "15d50b03-08c8-43ad-a723-aa119c6756ff",
   "metadata": {},
   "outputs": [
    {
     "data": {
      "text/plain": [
       "[[[0, 1, 2, 3, 4], [5, 6, 7, 8, 9], [10, 11, 12, 13, 14]],\n",
       " [[15, 16, 17, 18, 19], [20, 21, 22, 23, 24], [25, 26, 27, 28, 29]]]"
      ]
     },
     "execution_count": 45,
     "metadata": {},
     "output_type": "execute_result"
    }
   ],
   "source": [
    "list3d = array3d.tolist()\n",
    "list3d"
   ]
  },
  {
   "cell_type": "code",
   "execution_count": 46,
   "id": "9c539407-6402-419a-802d-4b3d71df9b05",
   "metadata": {},
   "outputs": [
    {
     "ename": "TypeError",
     "evalue": "list indices must be integers or slices, not tuple",
     "output_type": "error",
     "traceback": [
      "\u001b[0;31m---------------------------------------------------------------------------\u001b[0m",
      "\u001b[0;31mTypeError\u001b[0m                                 Traceback (most recent call last)",
      "\u001b[0;32m/tmp/ipykernel_13488/240775027.py\u001b[0m in \u001b[0;36m<module>\u001b[0;34m\u001b[0m\n\u001b[0;32m----> 1\u001b[0;31m \u001b[0mlist3d\u001b[0m\u001b[0;34m[\u001b[0m\u001b[0;36m1\u001b[0m\u001b[0;34m:\u001b[0m\u001b[0;34m,\u001b[0m \u001b[0;36m1\u001b[0m\u001b[0;34m:\u001b[0m\u001b[0;34m,\u001b[0m \u001b[0;36m1\u001b[0m\u001b[0;34m:\u001b[0m\u001b[0;34m]\u001b[0m\u001b[0;34m\u001b[0m\u001b[0;34m\u001b[0m\u001b[0m\n\u001b[0m",
      "\u001b[0;31mTypeError\u001b[0m: list indices must be integers or slices, not tuple"
     ]
    }
   ],
   "source": [
    "list3d[1:, 1:, 1:]"
   ]
  },
  {
   "cell_type": "markdown",
   "id": "ecba67c4-07ac-4774-ac2b-436f7981e806",
   "metadata": {},
   "source": [
    "NumPy slices can have mixed types:"
   ]
  },
  {
   "cell_type": "code",
   "execution_count": 48,
   "id": "848222c9-6060-4a65-9073-5ba195f15e86",
   "metadata": {},
   "outputs": [
    {
     "data": {
      "text/plain": [
       "array([14, 29])"
      ]
     },
     "execution_count": 48,
     "metadata": {},
     "output_type": "execute_result"
    }
   ],
   "source": [
    "array3d[:, -1, -1]"
   ]
  },
  {
   "cell_type": "markdown",
   "id": "d24aa6ba-2512-45b1-8c31-da0541d2d03c",
   "metadata": {},
   "source": [
    "<img src=\"fig/numpy-slicing.png\" width=\"400px\">"
   ]
  },
  {
   "cell_type": "markdown",
   "id": "23898a47-84c2-4ebe-b200-f1d49384621a",
   "metadata": {},
   "source": [
    "Most importantly, NumPy slices can also be arrays."
   ]
  },
  {
   "cell_type": "code",
   "execution_count": 52,
   "id": "394cdb47-7cb5-4231-ab02-e2d3fcad2522",
   "metadata": {},
   "outputs": [
    {
     "data": {
      "text/plain": [
       "array([0. , 1.1, 2.2, 3.3, 4.4, 6.6, 8.8])"
      ]
     },
     "execution_count": 52,
     "metadata": {},
     "output_type": "execute_result"
    }
   ],
   "source": [
    "some_array    = np.array([ 0.0,  1.1,  2.2,  3.3,  4.4,   5.5,  6.6,   7.7,  8.8,   9.9])\n",
    "boolean_slice = np.array([True, True, True, True, True, False, True, False, True, False])\n",
    "\n",
    "some_array[boolean_slice]"
   ]
  },
  {
   "cell_type": "code",
   "execution_count": 53,
   "id": "9968ebd4-1cb1-4dc9-9a6f-b35f775f3493",
   "metadata": {},
   "outputs": [
    {
     "data": {
      "text/plain": [
       "array([4.4, 2.2, 2.2, 0. , 9.9, 8.8, 3.3])"
      ]
     },
     "execution_count": 53,
     "metadata": {},
     "output_type": "execute_result"
    }
   ],
   "source": [
    "integer_slice = np.array([4, 2, 2, 0, 9, 8, 3])\n",
    "\n",
    "some_array[integer_slice]"
   ]
  },
  {
   "cell_type": "code",
   "execution_count": 65,
   "id": "abfebae2-5394-45ec-b639-9879ef1d0a31",
   "metadata": {},
   "outputs": [
    {
     "data": {
      "text/plain": [
       "array([9.9, 5.5, 1.1, 3.3, 0. , 2.2, 6.6, 7.7, 4.4, 8.8])"
      ]
     },
     "execution_count": 65,
     "metadata": {},
     "output_type": "execute_result"
    }
   ],
   "source": [
    "some_array[np.random.permutation(10)]"
   ]
  },
  {
   "cell_type": "markdown",
   "id": "5756bacf-09f3-42ca-80d2-69d7266e9da7",
   "metadata": {},
   "source": [
    "#### **Application:** A boolean-array slice is what we like to call a cut!"
   ]
  },
  {
   "cell_type": "code",
   "execution_count": 66,
   "id": "81069f8a-b4a4-4625-9760-8b88c8c47b38",
   "metadata": {},
   "outputs": [
    {
     "data": {
      "text/plain": [
       "array([[ 1.38225178e+00, -8.96696963e-01],\n",
       "       [-1.13256196e+00,  1.65434620e-03],\n",
       "       [ 3.63877921e-01, -1.94022450e-01],\n",
       "       ...,\n",
       "       [-3.46762068e-01, -1.68737659e+00],\n",
       "       [-5.64829894e-01,  1.79751388e+00],\n",
       "       [-1.07250847e+00, -3.12263700e+00]])"
      ]
     },
     "execution_count": 66,
     "metadata": {},
     "output_type": "execute_result"
    }
   ],
   "source": [
    "primary_vertexes = np.random.normal(0, 1, (1000000, 2))\n",
    "primary_vertexes"
   ]
  },
  {
   "cell_type": "code",
   "execution_count": 72,
   "id": "6b715349-2093-430a-9331-3638d32db74b",
   "metadata": {},
   "outputs": [
    {
     "data": {
      "text/plain": [
       "1000000"
      ]
     },
     "execution_count": 72,
     "metadata": {},
     "output_type": "execute_result"
    }
   ],
   "source": [
    "len(primary_vertexes)"
   ]
  },
  {
   "cell_type": "code",
   "execution_count": 70,
   "id": "f9eda615-f4b8-4d23-bd84-62f14b3958aa",
   "metadata": {},
   "outputs": [
    {
     "data": {
      "text/plain": [
       "array([ True,  True,  True, ...,  True, False,  True])"
      ]
     },
     "execution_count": 70,
     "metadata": {},
     "output_type": "execute_result"
    }
   ],
   "source": [
    "trigger_decision = np.random.randint(0, 2, 1000000, dtype=np.bool_)\n",
    "trigger_decision"
   ]
  },
  {
   "cell_type": "code",
   "execution_count": 71,
   "id": "ef4f5ebe-f6ad-426f-9ddf-d9ca046dbb73",
   "metadata": {},
   "outputs": [
    {
     "data": {
      "text/plain": [
       "array([[ 1.38225178e+00, -8.96696963e-01],\n",
       "       [-1.13256196e+00,  1.65434620e-03],\n",
       "       [ 3.63877921e-01, -1.94022450e-01],\n",
       "       ...,\n",
       "       [-1.03864615e+00, -1.12404639e+00],\n",
       "       [-3.46762068e-01, -1.68737659e+00],\n",
       "       [-1.07250847e+00, -3.12263700e+00]])"
      ]
     },
     "execution_count": 71,
     "metadata": {},
     "output_type": "execute_result"
    }
   ],
   "source": [
    "primary_vertexes[trigger_decision]"
   ]
  },
  {
   "cell_type": "code",
   "execution_count": 73,
   "id": "84a4cff5-3e62-4d28-81c5-e3e1eeec5156",
   "metadata": {},
   "outputs": [
    {
     "data": {
      "text/plain": [
       "500027"
      ]
     },
     "execution_count": 73,
     "metadata": {},
     "output_type": "execute_result"
    }
   ],
   "source": [
    "len(primary_vertexes[trigger_decision])"
   ]
  },
  {
   "cell_type": "markdown",
   "id": "e2afedf8-5410-48ef-ae64-2feec2a90e26",
   "metadata": {},
   "source": [
    "#### **Observation:** An integer-array slice is more general than a boolean-array slice."
   ]
  },
  {
   "cell_type": "code",
   "execution_count": 74,
   "id": "f199f084-7029-4fc4-a8d0-9ce654c5d5d4",
   "metadata": {},
   "outputs": [
    {
     "data": {
      "text/plain": [
       "array([     0,      1,      2, ..., 999996, 999997, 999999])"
      ]
     },
     "execution_count": 74,
     "metadata": {},
     "output_type": "execute_result"
    }
   ],
   "source": [
    "indexes_that_pass_trigger = np.nonzero(trigger_decision)[0]\n",
    "indexes_that_pass_trigger"
   ]
  },
  {
   "cell_type": "code",
   "execution_count": 75,
   "id": "31f84554-cb47-4f6d-b8a6-02e5ca4b9ee6",
   "metadata": {},
   "outputs": [
    {
     "data": {
      "text/plain": [
       "array([[ 1.38225178e+00, -8.96696963e-01],\n",
       "       [-1.13256196e+00,  1.65434620e-03],\n",
       "       [ 3.63877921e-01, -1.94022450e-01],\n",
       "       ...,\n",
       "       [-1.03864615e+00, -1.12404639e+00],\n",
       "       [-3.46762068e-01, -1.68737659e+00],\n",
       "       [-1.07250847e+00, -3.12263700e+00]])"
      ]
     },
     "execution_count": 75,
     "metadata": {},
     "output_type": "execute_result"
    }
   ],
   "source": [
    "primary_vertexes[indexes_that_pass_trigger]"
   ]
  },
  {
   "cell_type": "code",
   "execution_count": 76,
   "id": "0897a7d7-057c-47a6-8451-471f2216e42a",
   "metadata": {},
   "outputs": [
    {
     "data": {
      "text/plain": [
       "500027"
      ]
     },
     "execution_count": 76,
     "metadata": {},
     "output_type": "execute_result"
    }
   ],
   "source": [
    "len(primary_vertexes[indexes_that_pass_trigger])"
   ]
  },
  {
   "cell_type": "markdown",
   "id": "7dc0314b-062f-4626-9085-7a7a2dcc0cd9",
   "metadata": {},
   "source": [
    "But integer array slicing is as general as **function composition**.\n",
    "\n",
    "Think of an array as a function from `[0, n)` to numbers."
   ]
  },
  {
   "cell_type": "code",
   "execution_count": 81,
   "id": "4c0486e7-cf8f-4fc1-9380-4d6ef7f4d8a4",
   "metadata": {},
   "outputs": [
    {
     "data": {
      "text/plain": [
       "4.4"
      ]
     },
     "execution_count": 81,
     "metadata": {},
     "output_type": "execute_result"
    }
   ],
   "source": [
    "def f(i):\n",
    "    if i < 10:\n",
    "        return i * 1.1\n",
    "    else:\n",
    "        raise IndexError(i)\n",
    "\n",
    "f(4)"
   ]
  },
  {
   "cell_type": "code",
   "execution_count": 82,
   "id": "8f01f58b-5f95-4c65-a115-0fb4e4d65cb2",
   "metadata": {},
   "outputs": [
    {
     "data": {
      "text/plain": [
       "4.4"
      ]
     },
     "execution_count": 82,
     "metadata": {},
     "output_type": "execute_result"
    }
   ],
   "source": [
    "F = np.arange(10) * 1.1\n",
    "\n",
    "F[4]"
   ]
  },
  {
   "cell_type": "code",
   "execution_count": 88,
   "id": "a34c184f-4edd-402c-904d-eb051abd6c37",
   "metadata": {},
   "outputs": [
    {
     "data": {
      "text/plain": [
       "4"
      ]
     },
     "execution_count": 88,
     "metadata": {},
     "output_type": "execute_result"
    }
   ],
   "source": [
    "def g(j):\n",
    "    if j == 0:\n",
    "        return 2\n",
    "    elif j == 1:\n",
    "        return 4\n",
    "    elif j == 2:\n",
    "        return 8\n",
    "    elif j == 3:\n",
    "        return 2\n",
    "    else:\n",
    "        raise IndexError(j)\n",
    "\n",
    "g(1)"
   ]
  },
  {
   "cell_type": "code",
   "execution_count": 89,
   "id": "b9d864eb-f714-497f-bf18-4a615581147f",
   "metadata": {},
   "outputs": [
    {
     "data": {
      "text/plain": [
       "4"
      ]
     },
     "execution_count": 89,
     "metadata": {},
     "output_type": "execute_result"
    }
   ],
   "source": [
    "G = np.array([2, 4, 8, 2])\n",
    "\n",
    "G[1]"
   ]
  },
  {
   "cell_type": "markdown",
   "id": "dbc88078-c9bc-4cf7-b624-f5b5ba5ade53",
   "metadata": {},
   "source": [
    "Calling a function with another function's output:"
   ]
  },
  {
   "cell_type": "code",
   "execution_count": 90,
   "id": "0d4c6952-2052-4ae4-beb4-7bdde6940d4c",
   "metadata": {},
   "outputs": [
    {
     "data": {
      "text/plain": [
       "4.4"
      ]
     },
     "execution_count": 90,
     "metadata": {},
     "output_type": "execute_result"
    }
   ],
   "source": [
    "f(g(1))"
   ]
  },
  {
   "cell_type": "markdown",
   "id": "ed43bca9-8a3a-4efb-bf5a-f820729dbfd7",
   "metadata": {},
   "source": [
    "Getting an array element with another array's output:"
   ]
  },
  {
   "cell_type": "code",
   "execution_count": 91,
   "id": "65105244-715e-492d-823c-b73dc650cdeb",
   "metadata": {},
   "outputs": [
    {
     "data": {
      "text/plain": [
       "4.4"
      ]
     },
     "execution_count": 91,
     "metadata": {},
     "output_type": "execute_result"
    }
   ],
   "source": [
    "F[G[1]]"
   ]
  },
  {
   "cell_type": "markdown",
   "id": "17f8013a-7ff8-4378-bc2f-43e69bb8bc2a",
   "metadata": {},
   "source": [
    "A function representing \"f composed with g\":"
   ]
  },
  {
   "cell_type": "code",
   "execution_count": 92,
   "id": "01230968-e3dc-45b3-aede-2b0105bf9d7c",
   "metadata": {},
   "outputs": [
    {
     "data": {
      "text/plain": [
       "4.4"
      ]
     },
     "execution_count": 92,
     "metadata": {},
     "output_type": "execute_result"
    }
   ],
   "source": [
    "def h(j):\n",
    "    return f(g(j))\n",
    "\n",
    "h(1)"
   ]
  },
  {
   "cell_type": "markdown",
   "id": "46ec47d9-3a56-4b69-aed8-fda893d0ca3f",
   "metadata": {},
   "source": [
    "An array representing \"F composed with G\":"
   ]
  },
  {
   "cell_type": "code",
   "execution_count": 93,
   "id": "9de0614b-7448-4302-bc9a-69f72aa99e7e",
   "metadata": {},
   "outputs": [
    {
     "data": {
      "text/plain": [
       "4.4"
      ]
     },
     "execution_count": 93,
     "metadata": {},
     "output_type": "execute_result"
    }
   ],
   "source": [
    "H = F[G]\n",
    "\n",
    "H[1]"
   ]
  },
  {
   "cell_type": "markdown",
   "id": "a3fd9fe3-88be-4190-9bc8-a4209d3c452a",
   "metadata": {},
   "source": [
    "The whole domain of function `h`:"
   ]
  },
  {
   "cell_type": "code",
   "execution_count": 94,
   "id": "1510c1de-479c-4ace-8f6f-11963ad4a22a",
   "metadata": {},
   "outputs": [
    {
     "name": "stdout",
     "output_type": "stream",
     "text": [
      "2.2\n",
      "4.4\n",
      "8.8\n",
      "2.2\n"
     ]
    }
   ],
   "source": [
    "for j in range(4):\n",
    "    print(h(j))"
   ]
  },
  {
   "cell_type": "markdown",
   "id": "29e189ff-9d7a-4928-90f7-02ad131cab4f",
   "metadata": {},
   "source": [
    "The whole array `H`:"
   ]
  },
  {
   "cell_type": "code",
   "execution_count": 95,
   "id": "1311baf5-0fcf-4436-8331-fbc55beaae59",
   "metadata": {},
   "outputs": [
    {
     "data": {
      "text/plain": [
       "array([2.2, 4.4, 8.8, 2.2])"
      ]
     },
     "execution_count": 95,
     "metadata": {},
     "output_type": "execute_result"
    }
   ],
   "source": [
    "H"
   ]
  },
  {
   "cell_type": "markdown",
   "id": "0abbf2dc-5655-4cbc-b005-68dc74bcacb5",
   "metadata": {},
   "source": [
    "The point of this mathematical interlude is to say that "
   ]
  },
  {
   "cell_type": "code",
   "execution_count": null,
   "id": "4f09f67e-4981-48bd-90f1-ae7687c2581e",
   "metadata": {},
   "outputs": [],
   "source": []
  },
  {
   "cell_type": "code",
   "execution_count": null,
   "id": "ca3448f2-ac99-44d8-8d96-48193fdc1b33",
   "metadata": {},
   "outputs": [],
   "source": []
  },
  {
   "cell_type": "markdown",
   "id": "ee248524-5bd4-4f9b-8303-68575b5e1e67",
   "metadata": {},
   "source": [
    "## 3. Uproot: array-oriented ROOT I/O"
   ]
  },
  {
   "cell_type": "markdown",
   "id": "4f5afbe6-52bf-4c65-b604-7106fc87dd1e",
   "metadata": {},
   "source": [
    "## 4. Awkward Array: complex data in arrays"
   ]
  },
  {
   "cell_type": "markdown",
   "id": "e013b84a-8de8-481d-a559-c0682ec8f403",
   "metadata": {},
   "source": [
    "## 5. Vector, hist, fastjet: the array-oriented ecosystem"
   ]
  },
  {
   "cell_type": "markdown",
   "id": "b79dcc5b-77b2-4cfd-9334-2c5797f67504",
   "metadata": {
    "jp-MarkdownHeadingCollapsed": true,
    "tags": []
   },
   "source": [
    "## Exercises: translating a C++ analysis into array-oriented Python"
   ]
  },
  {
   "cell_type": "markdown",
   "id": "9a18ee8b-47c1-4ebb-9f25-61311fff723e",
   "metadata": {
    "tags": []
   },
   "source": [
    "In this section, we will plot the mass of e⁺e⁻ pairs from the PicoDST file, using a C++ framework ([star-picodst-reference](star-picodst-reference)) as a guide.\n",
    "\n",
    "The solutions are hidden. Try to solve each exercise on your own (by filling in the \"`???`\") before comparing with the solutions we've provided."
   ]
  },
  {
   "cell_type": "markdown",
   "id": "f09b4df6-74b2-4cc7-ac29-04913ec531d2",
   "metadata": {
    "jp-MarkdownHeadingCollapsed": true,
    "tags": []
   },
   "source": [
    "### C++ version of the analysis"
   ]
  },
  {
   "cell_type": "markdown",
   "id": "e4d096f4-76a4-43d3-ac32-ae24745924b7",
   "metadata": {},
   "source": [
    "The analysis we want to reproduce is the following:\n",
    "\n",
    "```c++\n",
    "// histogram to fill\n",
    "TH1F *hM = new TH1F(\"hM\", \"e+e- invariant mass (GeV/c)\", 120, 0, 120);\n",
    "\n",
    "// get a reader and initialize it\n",
    "const Char_t *inFile = \"pythia_ppZee_run17emb.picoDst.root\";\n",
    "StPicoDstReader* picoReader = new StPicoDstReader(inFile);\n",
    "picoReader->Init();\n",
    "\n",
    "Long64_t events2read = picoReader->chain()->GetEntries();\n",
    "\n",
    "// loop over events\n",
    "for (Long64_t iEvent = 0; iEvent < events2read; iEvent++) {\n",
    "  Bool_t readEvent = picoReader->readPicoEvent(iEvent);\n",
    "  StPicoDst *dst = picoReader->picoDst();\n",
    "\n",
    "  Int_t nTracks = dst->numberOfTracks();\n",
    "\n",
    "  // for collecting good tracks\n",
    "  std::vector<StPicoTrack*> goodTracks;\n",
    "\n",
    "  // loop over tracks\n",
    "  for (Int_t iTrk = 0; iTrk < nTracks; iTrk++) {\n",
    "    StPicoTrack *picoTrack = dst->track(iTrk);\n",
    "\n",
    "    // track quality cuts\n",
    "    if (!picoTrack->isPrimary()) continue;\n",
    "    if (picoTrack->nHitsFit() / picoTrack()->nHitsMax() < 0.2) continue;\n",
    "\n",
    "    // track -> associated electromagnetic calorimeter energy\n",
    "    if (picoTrack->isBemcTrack()) {\n",
    "      StPicoBEmcPidTraits *trait = dst->bemcPidTraits(\n",
    "          picoTrack->bemcPidTraitsIndex()\n",
    "      );\n",
    "\n",
    "      // matched energy cut\n",
    "      double pOverE = picoTrack->pMom().Mag() / trait->btowE();\n",
    "      if (pOverE < 0.1) continue;\n",
    "\n",
    "      // this is a good track\n",
    "      goodTracks.push_back(picoTrack);\n",
    "    }\n",
    "  }\n",
    "\n",
    "  // loop over good pairs with opposite-sign charge and fill the invariant mass plot\n",
    "  for (UInt_t i = 0; i < goodTracks.size(); i++) {\n",
    "    for (UInt_t j = i + 1; j < goodTracks.size(); j++) {\n",
    "      // make Lorentz vectors with electron mass\n",
    "      TLorentzVector one(goodTracks[i].pMom(), 0.0005109989461);\n",
    "      TLorentzVector two(goodTracks[j].pMom(), 0.0005109989461);\n",
    "\n",
    "      // opposite-sign charge cut\n",
    "      if (goodTracks[i].charge() != goodTracks[j].charge()) {\n",
    "        // fill the histogram\n",
    "        hM->Fill((one + two).M());\n",
    "      }\n",
    "    }\n",
    "  }\n",
    "}\n",
    "```"
   ]
  },
  {
   "cell_type": "markdown",
   "id": "7baac96c-1aa2-450a-93b4-a744d640e1fa",
   "metadata": {
    "jp-MarkdownHeadingCollapsed": true,
    "tags": []
   },
   "source": [
    "### Reading the data"
   ]
  },
  {
   "cell_type": "markdown",
   "id": "2dae7233-4801-44c8-a0ae-c56bb490e7d0",
   "metadata": {},
   "source": [
    "As before, we start by reading the file."
   ]
  },
  {
   "cell_type": "code",
   "execution_count": 1,
   "id": "3b0f4f5c-69bb-43a5-9d5e-4fac3deeb669",
   "metadata": {},
   "outputs": [],
   "source": [
    "import uproot\n",
    "import awkward as ak\n",
    "import numpy as np"
   ]
  },
  {
   "cell_type": "code",
   "execution_count": 2,
   "id": "917d1057-26d7-4b6e-92a5-175d71640c1a",
   "metadata": {},
   "outputs": [
    {
     "data": {
      "text/plain": [
       "<TTree 'PicoDst' (18 branches) at 0x7fbbe81436d0>"
      ]
     },
     "execution_count": 2,
     "metadata": {},
     "output_type": "execute_result"
    }
   ],
   "source": [
    "picodst = uproot.open(\"https://pivarski-princeton.s3.amazonaws.com/pythia_ppZee_run17emb.picoDst.root:PicoDst\")\n",
    "picodst"
   ]
  },
  {
   "cell_type": "markdown",
   "id": "5af0868d-a006-4ea3-9808-80efc56cc454",
   "metadata": {},
   "source": [
    "By examining the C++ code, we see that we need to compute\n",
    "\n",
    "```c++\n",
    "StPicoTrack::isPrimary\n",
    "StPicoTrack::nHitsFit\n",
    "StPicoTrack::nHitsMax\n",
    "StPicoTrack::isBemcTrack\n",
    "StPicoTrack::bemcPidTraitsIndex\n",
    "StPicoTrack::pMom\n",
    "StPicoBEmcPidTraits::btowE\n",
    "```\n",
    "\n",
    "From [star-picodst-reference/StPicoTrack.h](star-picodst-reference/StPicoTrack.h) and [star-picodst-reference/StPicoBEmcPidTraits.h](star-picodst-reference/StPicoBEmcPidTraits.h), we learn that these are derived from the following TBranches:\n",
    "\n",
    "   * `mPMomentumX`\n",
    "   * `mPMomentumY`\n",
    "   * `mPMomentumZ`\n",
    "   * `mNHitsFit`\n",
    "   * `mNHitsMax`\n",
    "   * `mBEmcPidTraitsIndex`\n",
    "   * `mBtowE`\n",
    "\n",
    "**Exercise 1:** Extract these TBranches as arrays, using the same names as variable names.\n",
    "\n",
    "**Hint:** To avoid long download times while you experiment, set `entry_stop=10` in your calls to [TTree.arrays](https://uproot.readthedocs.io/en/latest/uproot.behaviors.TTree.TTree.html#arrays) or [TBranch.array](https://uproot.readthedocs.io/en/latest/uproot.behaviors.TBranch.TBranch.html#array). Just be sure to remove it to get all entries in the end.\n",
    "\n",
    "From the location of Binder's servers on the Internet, it takes about 1 minute to read. If it's taking 2 or more minutes, you're probably downloading more than you intended."
   ]
  },
  {
   "cell_type": "code",
   "execution_count": null,
   "id": "6c4ce5c4-4eae-4d38-997e-50ce2fde8fe2",
   "metadata": {},
   "outputs": [],
   "source": [
    "mPMomentumX = ???\n",
    "mPMomentumY = ???\n",
    "mPMomentumZ = ???\n",
    "mNHitsFit = ???\n",
    "mNHitsMax = ???\n",
    "mBEmcPidTraitsIndex = ???\n",
    "mBtowE = ???"
   ]
  },
  {
   "cell_type": "markdown",
   "id": "5a3c9ea5-68fb-4077-ac4b-b360713fb993",
   "metadata": {},
   "source": [
    "The types of these arrays should be"
   ]
  },
  {
   "cell_type": "code",
   "execution_count": 4,
   "id": "a6b68737-f93d-4860-8dfa-f29ef753efc6",
   "metadata": {},
   "outputs": [
    {
     "data": {
      "text/plain": [
       "(8004 * var * float32,\n",
       " 8004 * var * float32,\n",
       " 8004 * var * float32,\n",
       " 8004 * var * int8,\n",
       " 8004 * var * uint8,\n",
       " 8004 * var * int16,\n",
       " 8004 * var * float64)"
      ]
     },
     "execution_count": 4,
     "metadata": {},
     "output_type": "execute_result"
    }
   ],
   "source": [
    "(\n",
    "    mPMomentumX.type,\n",
    "    mPMomentumY.type,\n",
    "    mPMomentumZ.type,\n",
    "    mNHitsFit.type,\n",
    "    mNHitsMax.type,\n",
    "    mBEmcPidTraitsIndex.type,\n",
    "    mBtowE.type,\n",
    ")"
   ]
  },
  {
   "cell_type": "markdown",
   "id": "66818905-7947-4c6d-aed3-3e886a598edb",
   "metadata": {},
   "source": [
    "<details style=\"border: dashed 1px black; padding: 10px\">\n",
    "    <summary><b>Solutions</b> (no peeking!)</summary>\n",
    "\n",
    "<br>\n",
    "\n",
    "There are several ways to get these data; here are two.\n",
    "\n",
    "**(1)** You could navigate to each TBranch and ask for its `array`.\n",
    "\n",
    "```python\n",
    "mPMomentumX = picodst[\"Track.mPMomentumX\"].array()\n",
    "mPMomentumY = picodst[\"Track.mPMomentumY\"].array()\n",
    "mPMomentumZ = picodst[\"Track.mPMomentumZ\"].array()\n",
    "mNHitsFit = picodst[\"Track.mNHitsFit\"].array()\n",
    "mNHitsMax = picodst[\"Track.mNHitsMax\"].array()\n",
    "mBEmcPidTraitsIndex = picodst[\"Track.mBEmcPidTraitsIndex\"].array()\n",
    "mBtowE = picodst[\"EmcPidTraits.mBtowE\"].array() / 1000\n",
    "```\n",
    "<br>\n",
    "\n",
    "**(2)** You could ask the TTree for its `arrays`, with a filter to keep from reading everything over the network, then extract each field of the resulting record array. (There's a slight performance advantage to this method, since it only has to make 1 request across the network, rather than 7, _if_ you filter the TBranches to read. If you don't, _it will read all branches_, which will take much longer.)\n",
    "\n",
    "```python\n",
    "single_array = picodst.arrays(filter_name=[\n",
    "    \"Track.mPMomentum[XYZ]\",\n",
    "    \"Track.mNHits*\",\n",
    "    \"Track.mBEmcPidTraitsIndex\",\n",
    "    \"EmcPidTraits.mBtowE\",\n",
    "])\n",
    "mPMomentumX = single_array[\"Track.mPMomentumX\"]\n",
    "mPMomentumY = single_array[\"Track.mPMomentumY\"]\n",
    "mPMomentumZ = single_array[\"Track.mPMomentumZ\"]\n",
    "mNHitsFit = single_array[\"Track.mNHitsFit\"]\n",
    "mNHitsMax = single_array[\"Track.mNHitsMax\"]\n",
    "mBEmcPidTraitsIndex = single_array[\"Track.mBEmcPidTraitsIndex\"]\n",
    "mBtowE = single_array[\"EmcPidTraits.mBtowE\"] / 1000\n",
    "```\n",
    "<br>\n",
    "\n",
    "\n",
    "Either way, be sure to divide the `mBtowE` branch by 1000, as it is in the C++ code.\n",
    "</details>"
   ]
  },
  {
   "cell_type": "markdown",
   "id": "d4bc32e3-f813-4f35-91f8-5bae98919a2f",
   "metadata": {
    "jp-MarkdownHeadingCollapsed": true,
    "tags": []
   },
   "source": [
    "### Making momentum objects with charges"
   ]
  },
  {
   "cell_type": "markdown",
   "id": "1ed827b9-c431-4e5d-b911-2809376492b9",
   "metadata": {},
   "source": [
    "The C++ code uses ROOT [TVector3](https://root.cern.ch/doc/master/classTVector3.html) and [TLorentzVector](https://root.cern.ch/doc/master/classTLorentzVector.html) objects for vector calculations. We'll use the (array-oriented) Vector library.\n",
    "\n",
    "The definitions of `pMom` and `charge` in [star-picodst-reference/StPicoTrack.h](star-picodst-reference/StPicoTrack.h) are\n",
    "\n",
    "```c++\n",
    "  TVector3 pMom() const            { return TVector3(mPMomentumX, mPMomentumY, mPMomentumZ); }\n",
    "  Short_t charge() const           { return (mNHitsFit > 0) ? 1 : -1; }\n",
    "```\n",
    "\n",
    "(Yes, the `charge` bit is hidden inside the `mNHitsFit` integer.)"
   ]
  },
  {
   "cell_type": "code",
   "execution_count": 5,
   "id": "5c360fce-f9c8-4bbd-b8cb-478ba19fe380",
   "metadata": {},
   "outputs": [],
   "source": [
    "import vector\n",
    "vector.register_awkward()"
   ]
  },
  {
   "cell_type": "code",
   "execution_count": 6,
   "id": "4fd2a510-945f-4b4f-b065-9f9de45f26ee",
   "metadata": {},
   "outputs": [
    {
     "data": {
      "text/plain": [
       "0.0005109989460999999"
      ]
     },
     "execution_count": 6,
     "metadata": {},
     "output_type": "execute_result"
    }
   ],
   "source": [
    "import particle, hepunits\n",
    "electron_mass = particle.Particle.find(\"e-\").mass / hepunits.GeV\n",
    "electron_mass"
   ]
  },
  {
   "cell_type": "markdown",
   "id": "f928973c-d9d4-4c69-b37b-4f7ca64d0210",
   "metadata": {},
   "source": [
    "**Exercise 2a:** First, make an array of `charge` as positive and negative `1` integers. You may use [ak.where](https://awkward-array.readthedocs.io/en/latest/_auto/ak.where.html) or clever arithmetic."
   ]
  },
  {
   "cell_type": "code",
   "execution_count": null,
   "id": "b069dcc5-40d4-4c13-8b60-0799506dac17",
   "metadata": {},
   "outputs": [],
   "source": [
    "charge = ???"
   ]
  },
  {
   "cell_type": "markdown",
   "id": "2685ced0-286d-4b94-8d53-f1e4da83dafc",
   "metadata": {},
   "source": [
    "The type should be:"
   ]
  },
  {
   "cell_type": "code",
   "execution_count": 8,
   "id": "5a55e834-912c-4ddb-a26b-9a38bc23a4ba",
   "metadata": {},
   "outputs": [
    {
     "data": {
      "text/plain": [
       "8004 * var * int64"
      ]
     },
     "execution_count": 8,
     "metadata": {},
     "output_type": "execute_result"
    }
   ],
   "source": [
    "charge.type"
   ]
  },
  {
   "cell_type": "markdown",
   "id": "835cb89c-8309-4ec2-b7f6-d6e13047762c",
   "metadata": {},
   "source": [
    "And the first and last values should be:"
   ]
  },
  {
   "cell_type": "code",
   "execution_count": 9,
   "id": "1fc0a723-d47f-4bee-b9e0-970656261ced",
   "metadata": {},
   "outputs": [
    {
     "data": {
      "text/plain": [
       "<Array [[1, 1, 1, 1, 1, ... 1, 1, -1, -1, 1]] type='8004 * var * int64'>"
      ]
     },
     "execution_count": 9,
     "metadata": {},
     "output_type": "execute_result"
    }
   ],
   "source": [
    "charge"
   ]
  },
  {
   "cell_type": "markdown",
   "id": "bfd83242-0c5c-4a79-82ee-c93fc1a28277",
   "metadata": {},
   "source": [
    "**Exercise 2b:** Next, use [ak.zip](https://awkward-array.readthedocs.io/en/latest/_auto/ak.zip.html) to combine `mPMomentumX`, `mPMomentumY`, `mPMomentumZ`, `electron_mass`, and `charge` into a single array of type\n",
    "\n",
    "```python\n",
    "8004 * var * {\"px\": float32, \"py\": float32, \"pz\": float32, \"M\": float64, \"charge\": int64}\n",
    "```\n",
    "\n",
    "It is very important that the type is lists of records (`var * {\"px\": float32, ...}`), not records of lists (`{\"px\": var * float32, ...}`)."
   ]
  },
  {
   "cell_type": "code",
   "execution_count": null,
   "id": "5bf0d96b-883e-4eee-8cc2-eadf8bc0316c",
   "metadata": {},
   "outputs": [],
   "source": [
    "record_array = ???"
   ]
  },
  {
   "cell_type": "markdown",
   "id": "578df68e-ca46-46da-a0a8-2304e8fae650",
   "metadata": {},
   "source": [
    "The second record in the first event should be:"
   ]
  },
  {
   "cell_type": "code",
   "execution_count": 11,
   "id": "cadf3f5c-7a24-4d5e-9da9-0aefb6c3f454",
   "metadata": {},
   "outputs": [
    {
     "data": {
      "text/plain": [
       "{'px': -0.14229480922222137,\n",
       " 'py': 0.3735402524471283,\n",
       " 'pz': 0.15136101841926575,\n",
       " 'M': 0.0005109989460999999,\n",
       " 'charge': 1}"
      ]
     },
     "execution_count": 11,
     "metadata": {},
     "output_type": "execute_result"
    }
   ],
   "source": [
    "record_array[0, 1].tolist()"
   ]
  },
  {
   "cell_type": "markdown",
   "id": "5cc05202-b554-4bbd-9065-91147624eaeb",
   "metadata": {},
   "source": [
    "**Exercise 2c:** Finally, search Awkward Array's [reference documentation](https://awkward-array.readthedocs.io/) for a way to add the `\"Momentum4D\"` name to these records to turn them into Lorentz vectors."
   ]
  },
  {
   "cell_type": "code",
   "execution_count": null,
   "id": "424b56b6-427b-4f15-a8c1-1fd6c233897b",
   "metadata": {},
   "outputs": [],
   "source": [
    "pMom = ???"
   ]
  },
  {
   "cell_type": "markdown",
   "id": "dabb5a5b-0173-4fa3-9bdc-be902ec3adbd",
   "metadata": {},
   "source": [
    "The type of `pMom` should be:"
   ]
  },
  {
   "cell_type": "code",
   "execution_count": 13,
   "id": "ff59c700-a632-427f-a8db-59a02fe90c06",
   "metadata": {},
   "outputs": [
    {
     "data": {
      "text/plain": [
       "8004 * var * Momentum4D[\"px\": float32, \"py\": float32, \"pz\": float32, \"M\": float64, \"charge\": int64]"
      ]
     },
     "execution_count": 13,
     "metadata": {},
     "output_type": "execute_result"
    }
   ],
   "source": [
    "pMom.type"
   ]
  },
  {
   "cell_type": "markdown",
   "id": "93721d8d-d508-4dc8-9c41-2181d523a1ad",
   "metadata": {},
   "source": [
    "Lorentz vector operations don't require the `\"charge\"`, but it will be convenient to keep that in the same package. The Vector library will ignore it."
   ]
  },
  {
   "cell_type": "markdown",
   "id": "a5041048-2da8-4722-9417-c05864f71809",
   "metadata": {},
   "source": [
    "<details style=\"border: dashed 1px black; padding: 10px\">\n",
    "    <summary><b>Solutions</b> (no peeking!)</summary>\n",
    "\n",
    "<br>\n",
    "\n",
    "The charge can be computed using:\n",
    "\n",
    "```python\n",
    "charge = ak.where(mNHitsFit > 0, 1, -1)\n",
    "```\n",
    "<br>\n",
    "\n",
    "or \"clever arithmetic\" (booleans in a numerical expression become `false → 0`, `true → 1`):\n",
    "\n",
    "```python\n",
    "charge = (mNHitsFit > 0) * 2 - 1\n",
    "```\n",
    "<br>\n",
    "\n",
    "Making the record array is a direct application of [ak.zip](https://awkward-array.readthedocs.io/en/latest/_auto/ak.zip.html):\n",
    "\n",
    "```python\n",
    "record_array = ak.zip(\n",
    "    {\"px\": mPMomentumX, \"py\": mPMomentumY, \"pz\": mPMomentumZ, \"M\": electron_mass, \"charge\": charge}\n",
    ")\n",
    "```\n",
    "<br>\n",
    "\n",
    "Combining the variable-length lists of `mPMomentumX`, `mPMomentumY`, `mPMomentumZ`, and `charge` is just what [ak.zip](https://awkward-array.readthedocs.io/en/latest/_auto/ak.zip.html) does (and if those lists had different lengths, it would raise an error). Only using `depth_limit=1` or the [ak.Array](https://awkward-array.readthedocs.io/en/latest/_auto/ak.Array.html) constructor would produce the wrong type.\n",
    "\n",
    "Also, the constant `electron_mass` does not need special handling. Constants and lower-dimension arrays are [broadcasted](https://awkward-array.readthedocs.io/en/latest/_auto/ak.broadcast_arrays.html) to the same shape as larger-dimension arrays when used in the same function. (This is similar to, but an extension of, NumPy's [concept of broadcasting](https://numpy.org/doc/stable/user/basics.broadcasting.html).)\n",
    "\n",
    "Finally, to add the `\"Momentum4D\"` name to all the records, you could use [ak.zip](https://awkward-array.readthedocs.io/en/latest/_auto/ak.zip.html) again, as it has a `with_name` argument:\n",
    "\n",
    "```python\n",
    "pMom = ak.zip(\n",
    "    {\"px\": mPMomentumX, \"py\": mPMomentumY, \"pz\": mPMomentumZ, \"M\": electron_mass, \"charge\": charge},\n",
    "    with_name=\"Momentum4D\",\n",
    ")\n",
    "```\n",
    "<br>\n",
    "\n",
    "Or pass the already-built `record_array` into [ak.with_name](https://awkward-array.readthedocs.io/en/latest/_auto/ak.with_name.html):\n",
    "\n",
    "```python\n",
    "pMom = ak.with_name(record_array, \"Momentum4D\")\n",
    "```\n",
    "<br>\n",
    "\n",
    "Or pass the already-built `record_array` into the [ak.Array](https://awkward-array.readthedocs.io/en/latest/_auto/ak.Array.html) constructor with a `with_name` argument:\n",
    "\n",
    "```python\n",
    "pMom = ak.Array(record_array, with_name=\"Momentum4D\")\n",
    "```\n",
    "</details>"
   ]
  },
  {
   "cell_type": "markdown",
   "id": "372efdc3-e02c-48bb-b654-8ccbc5b86bf2",
   "metadata": {
    "jp-MarkdownHeadingCollapsed": true,
    "tags": []
   },
   "source": [
    "### Computing track cuts"
   ]
  },
  {
   "cell_type": "markdown",
   "id": "c341c7ec-0774-4e32-93f2-8da5148ec339",
   "metadata": {
    "tags": []
   },
   "source": [
    "In the C++, the following cuts are applied to the tracks:\n",
    "\n",
    "```c++\n",
    "if (!picoTrack->isPrimary()) continue;\n",
    "if (picoTrack->nHitsFit() / picoTrack()->nHitsMax() < 0.2) continue;\n",
    "if (picoTrack->isBemcTrack()) {\n",
    "  // ...\n",
    "}\n",
    "```\n",
    "\n",
    "Some of the cuts in C++ are applied by jumping to the next loop iteration with `continue` (a dangerous practice, in my opinion) while another is in a nested `if` statement. Note that the `continue` conditions describe the _opposite_ of a good track.\n",
    "\n",
    "The quantities used in the cuts are defined in [star-picodst-reference/StPicoTrack.h](star-picodst-reference/StPicoTrack.h):\n",
    "\n",
    "```c++\n",
    "  Bool_t isPrimary() const         { return ( pMom().Mag()>0 ); }\n",
    "  TVector3 pMom() const            { return TVector3(mPMomentumX, mPMomentumY, mPMomentumZ); }\n",
    "\n",
    "  Int_t   nHitsFit() const         { return (mNHitsFit > 0) ? (Int_t)mNHitsFit : (Int_t)(-1 * mNHitsFit); }\n",
    "  Int_t   nHitsMax() const         { return (Int_t)mNHitsMax; }\n",
    "\n",
    "  Bool_t isBemcTrack() const       { return (mBEmcPidTraitsIndex<0) ? false : true; }\n",
    "```\n",
    "\n",
    "**Exercise 3:** Convert these cuts into a [boolean array slice](https://awkward-array.readthedocs.io/en/latest/_auto/ak.Array.html#filtering)."
   ]
  },
  {
   "cell_type": "code",
   "execution_count": null,
   "id": "51e0d20c-0a04-4b5f-8896-41487cf6533a",
   "metadata": {},
   "outputs": [],
   "source": [
    "isPrimary = ???\n",
    "nHitsFit = ???\n",
    "nHitsMax = ???\n",
    "isBemcTrack = ???\n",
    "\n",
    "track_quality_cuts = ???"
   ]
  },
  {
   "cell_type": "markdown",
   "id": "3f8c6a55-a5d5-4827-9525-cb1f7c571489",
   "metadata": {},
   "source": [
    "The type of `track_quality_cuts` should be:"
   ]
  },
  {
   "cell_type": "code",
   "execution_count": 17,
   "id": "0ae97fec-bcb1-4a5b-ace4-c837c6fe8cfd",
   "metadata": {},
   "outputs": [
    {
     "data": {
      "text/plain": [
       "8004 * var * bool"
      ]
     },
     "execution_count": 17,
     "metadata": {},
     "output_type": "execute_result"
    }
   ],
   "source": [
    "track_quality_cuts.type"
   ]
  },
  {
   "cell_type": "markdown",
   "id": "0d069e56-7709-43b4-8db0-6fd24313e550",
   "metadata": {},
   "source": [
    "And the number of passing tracks in the first and last events should be:"
   ]
  },
  {
   "cell_type": "code",
   "execution_count": 18,
   "id": "1d4e86f4-83e3-450a-b4b1-ecafef0a4558",
   "metadata": {},
   "outputs": [
    {
     "data": {
      "text/plain": [
       "<Array [3, 2, 2, 1, 2, 1, ... 1, 1, 2, 1, 4, 4] type='8004 * int64'>"
      ]
     },
     "execution_count": 18,
     "metadata": {},
     "output_type": "execute_result"
    }
   ],
   "source": [
    "np.count_nonzero(track_quality_cuts, axis=1)"
   ]
  },
  {
   "cell_type": "markdown",
   "id": "74b85049-a428-4a51-b194-557259ef155b",
   "metadata": {},
   "source": [
    "<details style=\"border: dashed 1px black; padding: 10px\">\n",
    "    <summary><b>Solutions</b> (no peeking!)</summary>\n",
    "\n",
    "<br>\n",
    "\n",
    "There are several equivalent ways to compute `isPrimary`:\n",
    "\n",
    "```python\n",
    "isPrimary = pMom.mag > 0\n",
    "```\n",
    "<br>\n",
    "\n",
    "and\n",
    "\n",
    "\n",
    "```python\n",
    "isPrimary = (abs(mPMomentumX) > 0) & (abs(mPMomentumY) > 0) & (abs(mPMomentumZ) > 0)\n",
    "```\n",
    "<br>\n",
    "\n",
    "and\n",
    "\n",
    "```python\n",
    "isPrimary = mPMomentumX**2 + mPMomentumY**2 + mPMomentumZ**2 > 0   # or with np.sqrt\n",
    "```\n",
    "<br>\n",
    "\n",
    "The most straightforward way to compute `nHitsFit` is:\n",
    "\n",
    "```python\n",
    "nHitsFit = abs(mNHitsFit)\n",
    "```\n",
    "<br>\n",
    "\n",
    "but you could use [ak.where](https://awkward-array.readthedocs.io/en/latest/_auto/ak.where.html)/[np.where](https://numpy.org/doc/stable/reference/generated/numpy.where.html) to make it look more like the C++:\n",
    "\n",
    "```python\n",
    "nHitsFit = np.where(mNHitsFit > 0, mNHitsFit, -1 * mNHitsFit)\n",
    "```\n",
    "<br>\n",
    "\n",
    "`nHitsMax` is exactly equal to `mNHitsMax`, and `isBemcTrack` is:\n",
    "\n",
    "```python\n",
    "isBemcTrack = mBEmcPidTraitsIndex >= 0   # be sure to get the inequality right\n",
    "```\n",
    "<br>\n",
    "\n",
    "or\n",
    "\n",
    "```python\n",
    "isBemcTrack = np.where(mBEmcPidTraitsIndex < 0, False, True)\n",
    "```\n",
    "<br>\n",
    "\n",
    "to make it look more like the C++.\n",
    "\n",
    "Finally, `track_quality_cuts` is a logical-AND of three selections:\n",
    "\n",
    "```python\n",
    "track_quality_cuts = isPrimary & (nHitsFit / nHitsMax >= 0.2) & isBemcTrack\n",
    "```\n",
    "<br>\n",
    "\n",
    "Be sure to get the inequality right: `continue` _throws away_ bad tracks, but we want an expression that will _keep_ good tracks.\n",
    "</details>"
   ]
  },
  {
   "cell_type": "markdown",
   "id": "b817bc93-bc0e-47d6-be16-dff003cb85aa",
   "metadata": {
    "jp-MarkdownHeadingCollapsed": true,
    "tags": []
   },
   "source": [
    "### Matching tracks to electromagnetic showers"
   ]
  },
  {
   "cell_type": "markdown",
   "id": "0930e1e6-d18a-4349-8491-3e83769a7128",
   "metadata": {},
   "source": [
    "The final track quality cut requires us to match the track with its corresponding shower. Tracks and showers have different multiplicities."
   ]
  },
  {
   "cell_type": "code",
   "execution_count": 19,
   "id": "f38560ce-dacd-420f-9868-5a312975a7d7",
   "metadata": {},
   "outputs": [
    {
     "data": {
      "text/plain": [
       "(<Array [2594, 2513, 2909, ... 2441, 2586, 2321] type='8004 * int64'>,\n",
       " <Array [7, 4, 4, 2, 4, 1, ... 2, 2, 7, 1, 8, 8] type='8004 * int64'>)"
      ]
     },
     "execution_count": 19,
     "metadata": {},
     "output_type": "execute_result"
    }
   ],
   "source": [
    "ak.num(mPMomentumX), ak.num(mBtowE)"
   ]
  },
  {
   "cell_type": "markdown",
   "id": "1ec3d7cc-6d7c-4193-a871-14e8c6f1c52f",
   "metadata": {},
   "source": [
    "The PicoDst file provides us with an index for each track that is the position of the corresponding shower in the showers array. It is `-1` when there is no corresponding shower."
   ]
  },
  {
   "cell_type": "code",
   "execution_count": 20,
   "id": "8db3bad2-a78d-4849-b381-d836632a6e52",
   "metadata": {},
   "outputs": [
    {
     "data": {
      "text/plain": [
       "<Array [[-1, -1, -1, -1, ... -1, -1, -1, -1]] type='8004 * var * int16'>"
      ]
     },
     "execution_count": 20,
     "metadata": {},
     "output_type": "execute_result"
    }
   ],
   "source": [
    "mBEmcPidTraitsIndex"
   ]
  },
  {
   "cell_type": "markdown",
   "id": "bc428e24-f098-43af-a1bb-3f2552d4845c",
   "metadata": {},
   "source": [
    "**Exercise 4:** Filter `mBEmcPidTraitsIndex` with `track_quality_cuts` and make an array of shower energy `mBtowE` for each quality track."
   ]
  },
  {
   "cell_type": "code",
   "execution_count": null,
   "id": "75829309-086d-45e3-8d6f-7bab39ecaade",
   "metadata": {},
   "outputs": [],
   "source": [
    "quality_mBtowE = ???"
   ]
  },
  {
   "cell_type": "markdown",
   "id": "781383c3-321f-4a76-b478-47be738693f8",
   "metadata": {},
   "source": [
    "The type of `quality_mBtowE` should be:"
   ]
  },
  {
   "cell_type": "code",
   "execution_count": 22,
   "id": "9c3e2df5-0b00-4604-a4ea-1110282305ae",
   "metadata": {},
   "outputs": [
    {
     "data": {
      "text/plain": [
       "8004 * var * float64"
      ]
     },
     "execution_count": 22,
     "metadata": {},
     "output_type": "execute_result"
    }
   ],
   "source": [
    "quality_mBtowE.type"
   ]
  },
  {
   "cell_type": "markdown",
   "id": "cd144142-5e40-4e4e-ba37-ecf49330e770",
   "metadata": {},
   "source": [
    "Its first and last values should be:"
   ]
  },
  {
   "cell_type": "code",
   "execution_count": 23,
   "id": "7f0f30a2-28ca-4f7f-a452-63b4d28a7635",
   "metadata": {},
   "outputs": [
    {
     "data": {
      "text/plain": [
       "<Array [[1.71, 32.8, 0], ... 0, 17.8, 0.36]] type='8004 * var * float64'>"
      ]
     },
     "execution_count": 23,
     "metadata": {},
     "output_type": "execute_result"
    }
   ],
   "source": [
    "quality_mBtowE"
   ]
  },
  {
   "cell_type": "markdown",
   "id": "7b3777ca-388b-4475-ab8b-520f3ec45aef",
   "metadata": {},
   "source": [
    "And it should have as many values in each event as there are \"`true`\" booleans in `track_quality_cuts`:"
   ]
  },
  {
   "cell_type": "code",
   "execution_count": 24,
   "id": "39648e20-725a-473c-b2bc-74aceff8beb2",
   "metadata": {},
   "outputs": [
    {
     "data": {
      "text/plain": [
       "<Array [3, 2, 2, 1, 2, 1, ... 1, 1, 2, 1, 4, 4] type='8004 * int64'>"
      ]
     },
     "execution_count": 24,
     "metadata": {},
     "output_type": "execute_result"
    }
   ],
   "source": [
    "ak.num(quality_mBtowE)"
   ]
  },
  {
   "cell_type": "code",
   "execution_count": 25,
   "id": "0960eb6e-79ff-432d-8464-c9fa16503fda",
   "metadata": {},
   "outputs": [
    {
     "data": {
      "text/plain": [
       "True"
      ]
     },
     "execution_count": 25,
     "metadata": {},
     "output_type": "execute_result"
    }
   ],
   "source": [
    "np.all(ak.num(quality_mBtowE) == np.count_nonzero(track_quality_cuts, axis=1))"
   ]
  },
  {
   "cell_type": "markdown",
   "id": "e0948da5-5243-4649-ab49-fd7af98238cb",
   "metadata": {},
   "source": [
    "<details style=\"border: dashed 1px black; padding: 10px\">\n",
    "    <summary><b>Solutions</b> (no peeking!)</summary>\n",
    "\n",
    "<br>\n",
    "\n",
    "The answer could be written in one line:\n",
    "\n",
    "```python\n",
    "quality_mBtowE = mBtowE[mBEmcPidTraitsIndex[track_quality_cuts]]\n",
    "```\n",
    "<br>\n",
    "\n",
    "The first part, `mBEmcPidTraitsIndex[track_quality_cuts]`, applies the track quality cuts to the `mBEmcPidTraitsIndex` so that there are no more `-1` values in it. The remaining array of lists of integers is exactly what is required to pick energy values from `mBtowE` in lists of the right lengths and orders.\n",
    "\n",
    "Naturally, you could write it in two lines (or as many as you find easy to read).\n",
    "\n",
    "If you know about [ak.mask](https://awkward-array.readthedocs.io/en/latest/_auto/ak.mask.html), you might have tried masking `mBEmcPidTraitsIndex` instead of filtering it:\n",
    "\n",
    "```python\n",
    "quality_mBEmcPidTraitsIndex = mBEmcPidTraitsIndex.mask[track_quality_cuts]\n",
    "quality_mBtowE = mBtowE[quality_mBEmcPidTraitsIndex]\n",
    "```\n",
    "<br>\n",
    "\n",
    "Instead of changing the lengths of the lists by dropping bad tracks, this would replace them with missing value placeholders (\"`None`\"). _This is not wrong,_ and it's a good alternative to the overall problem because it simplifies the process of filtering filtered data. (The placeholders keep the arrays the same lengths, so cuts can be applied in any order.)\n",
    "\n",
    "However, it changes how the next step would have to be handled, and you'd eventually have to use [ak.is_none](https://awkward-array.readthedocs.io/en/latest/_auto/ak.is_none.html) to remove the missing values. For the sake of this walkthrough, to keep everyone on the same page, let's not do that.\n",
    "</details>"
   ]
  },
  {
   "cell_type": "markdown",
   "id": "a7a37cc7-6cc3-42f5-a9a9-a8ea14d079da",
   "metadata": {
    "jp-MarkdownHeadingCollapsed": true,
    "tags": []
   },
   "source": [
    "### Applying the energy cut and making track-pairs"
   ]
  },
  {
   "cell_type": "markdown",
   "id": "f576bdf1-14ef-462c-ad88-70f77f1e983c",
   "metadata": {},
   "source": [
    "The last quality cut requires total track momentum divided by shower energy to be at least 0.1.\n",
    "\n",
    "We can get the total track momentum from `pMom.mag` (3D magnitude of 3D or 4D vectors), but apply the quality cuts to it so that it has the same length as `quality_mBtowE` (which already has quality cuts applied)."
   ]
  },
  {
   "cell_type": "code",
   "execution_count": 26,
   "id": "f3e6452f-fd1b-4679-bf29-8eb46b27175a",
   "metadata": {},
   "outputs": [
    {
     "data": {
      "text/plain": [
       "<Array [[0, 0.427, 0, 0, 0, ... 0, 0, 0, 0, 0]] type='8004 * var * float32'>"
      ]
     },
     "execution_count": 26,
     "metadata": {},
     "output_type": "execute_result"
    }
   ],
   "source": [
    "pMom.mag"
   ]
  },
  {
   "cell_type": "code",
   "execution_count": 27,
   "id": "4ade5947-d467-41b9-ba56-68f3a5dc7eef",
   "metadata": {},
   "outputs": [
    {
     "data": {
      "text/plain": [
       "<Array [[1.07, 24.4, 2.81, ... 18.6, 1.88]] type='8004 * var * float32'>"
      ]
     },
     "execution_count": 27,
     "metadata": {},
     "output_type": "execute_result"
    }
   ],
   "source": [
    "quality_total_momentum = pMom[track_quality_cuts].mag\n",
    "quality_total_momentum"
   ]
  },
  {
   "cell_type": "code",
   "execution_count": 28,
   "id": "1f3f951f-368f-45b4-b790-dd656cef7275",
   "metadata": {},
   "outputs": [
    {
     "name": "stderr",
     "output_type": "stream",
     "text": [
      "/home/jpivarski/miniconda3/lib/python3.8/site-packages/awkward/_connect/_numpy.py:206: RuntimeWarning: divide by zero encountered in true_divide\n",
      "  result = getattr(ufunc, method)(\n"
     ]
    },
    {
     "data": {
      "text/plain": [
       "<Array [[0.626, 0.745, inf, ... 1.04, 5.23]] type='8004 * var * float64'>"
      ]
     },
     "execution_count": 28,
     "metadata": {},
     "output_type": "execute_result"
    }
   ],
   "source": [
    "quality_pOverE = quality_total_momentum / quality_mBtowE\n",
    "quality_pOverE"
   ]
  },
  {
   "cell_type": "markdown",
   "id": "16c78726-7523-42cf-8ddc-d60b65d5621e",
   "metadata": {},
   "source": [
    "(You may see a warning when calculating the above; some values of the denominator are zero. It's possible to selectively suppress such messages with NumPy's [np.errstate](https://numpy.org/doc/stable/reference/generated/numpy.errstate.html).)"
   ]
  },
  {
   "cell_type": "code",
   "execution_count": 29,
   "id": "58f13fac-bc20-4cd7-8737-d03138c77d53",
   "metadata": {},
   "outputs": [],
   "source": [
    "quality_pOverE_cut = (quality_pOverE >= 0.1)"
   ]
  },
  {
   "cell_type": "code",
   "execution_count": 30,
   "id": "5cdf9894-c4ce-45ff-bff5-e138e0ba63b5",
   "metadata": {},
   "outputs": [
    {
     "data": {
      "text/plain": [
       "<Array [3, 2, 2, 1, 2, 1, ... 1, 1, 2, 1, 3, 4] type='8004 * int64'>"
      ]
     },
     "execution_count": 30,
     "metadata": {},
     "output_type": "execute_result"
    }
   ],
   "source": [
    "np.count_nonzero(quality_pOverE_cut, axis=1)"
   ]
  },
  {
   "cell_type": "markdown",
   "id": "241ce261-c7a3-4e84-aaf5-1710a210aafb",
   "metadata": {},
   "source": [
    "An array with all cuts applied, the equivalent of `goodTracks` in the C++, is:"
   ]
  },
  {
   "cell_type": "code",
   "execution_count": 31,
   "id": "7bdfe17c-403f-4593-a5fd-fac1ce9cb6da",
   "metadata": {},
   "outputs": [
    {
     "data": {
      "text/plain": [
       "<MomentumArray4D [[{px: 0.000914, ... charge: -1}]] type='8004 * var * Momentum4...'>"
      ]
     },
     "execution_count": 31,
     "metadata": {},
     "output_type": "execute_result"
    }
   ],
   "source": [
    "goodTracks = pMom[track_quality_cuts][quality_pOverE_cut]\n",
    "goodTracks"
   ]
  },
  {
   "cell_type": "markdown",
   "id": "e8dca9f1-47b1-4e38-8aab-6dc7a09aa39b",
   "metadata": {},
   "source": [
    "(As mentioned in one of the solutions, above, [ak.mask](https://awkward-array.readthedocs.io/en/latest/_auto/ak.mask.html) would allow `track_quality_cuts` and `quality_pOverE_cut` to be applied in either order, at the expense of having to remove the placeholder \"`None`\" values with [ak.is_none](https://awkward-array.readthedocs.io/en/latest/_auto/ak.is_none.html). Extra credit if you can rework all of the above to use this technique.)"
   ]
  },
  {
   "cell_type": "markdown",
   "id": "b2151ed0-7932-4624-9a5a-2dfd6f50dfc1",
   "metadata": {},
   "source": [
    "**Exercise 5a:** Use [ak.combinations](https://awkward-array.readthedocs.io/en/latest/_auto/ak.combinations.html) to make all pairs of good tracks, per event, the equivalent of this code:\n",
    "\n",
    "```c++\n",
    "for (UInt_t i = 0; i < goodTracks.size(); i++) {\n",
    "  for (UInt_t j = i + 1; j < goodTracks.size(); j++) {\n",
    "    // make Lorentz vectors with electron mass\n",
    "    TLorentzVector one(goodTracks[i].pMom(), 0.0005109989461);\n",
    "    TLorentzVector two(goodTracks[j].pMom(), 0.0005109989461);\n",
    "```"
   ]
  },
  {
   "cell_type": "code",
   "execution_count": null,
   "id": "72aef766-bede-4c0e-bbbe-b20c9622853f",
   "metadata": {},
   "outputs": [],
   "source": [
    "pairs = ???"
   ]
  },
  {
   "cell_type": "markdown",
   "id": "7a2386a7-50f9-45d4-b418-83c215c700fa",
   "metadata": {},
   "source": [
    "The type of `pairs` should be lists of 2-tuples of Momentum4D:"
   ]
  },
  {
   "cell_type": "code",
   "execution_count": 33,
   "id": "27dd380c-9329-4f0f-ba11-79cd77ce919e",
   "metadata": {},
   "outputs": [
    {
     "data": {
      "text/plain": [
       "8004 * var * (Momentum4D[\"px\": float32, \"py\": float32, \"pz\": float32, \"M\": float64, \"charge\": int64], Momentum4D[\"px\": float32, \"py\": float32, \"pz\": float32, \"M\": float64, \"charge\": int64])"
      ]
     },
     "execution_count": 33,
     "metadata": {},
     "output_type": "execute_result"
    }
   ],
   "source": [
    "pairs.type"
   ]
  },
  {
   "cell_type": "markdown",
   "id": "f6c1d806-7766-47d7-88b2-c29c67ea33d0",
   "metadata": {},
   "source": [
    "And the number of such pairs in the first and last events should be:"
   ]
  },
  {
   "cell_type": "code",
   "execution_count": 34,
   "id": "b4069776-6196-4354-9bd4-33ae84ec284a",
   "metadata": {},
   "outputs": [
    {
     "data": {
      "text/plain": [
       "<Array [3, 1, 1, 0, 1, 0, ... 0, 0, 1, 0, 3, 6] type='8004 * int64'>"
      ]
     },
     "execution_count": 34,
     "metadata": {},
     "output_type": "execute_result"
    }
   ],
   "source": [
    "ak.num(pairs)"
   ]
  },
  {
   "cell_type": "markdown",
   "id": "bf39fc86-051a-4aec-92c3-59c98122dbbf",
   "metadata": {},
   "source": [
    "Note that this is not the same as the number of good tracks:"
   ]
  },
  {
   "cell_type": "code",
   "execution_count": 35,
   "id": "d15f098a-42e2-4d55-aa74-ecbc168d27b7",
   "metadata": {},
   "outputs": [
    {
     "data": {
      "text/plain": [
       "<Array [3, 2, 2, 1, 2, 1, ... 1, 1, 2, 1, 3, 4] type='8004 * int64'>"
      ]
     },
     "execution_count": 35,
     "metadata": {},
     "output_type": "execute_result"
    }
   ],
   "source": [
    "ak.num(goodTracks)"
   ]
  },
  {
   "cell_type": "markdown",
   "id": "b18af8e7-4fef-4310-85a5-230bad0f9e0c",
   "metadata": {},
   "source": [
    "In particular, 3 good tracks → 3 pairs, 2 good tracks → 1 pair, and 4 good tracks → 6 pairs ($n$ choose $2$ = $n(n - 1)/2$ for $n$ good tracks)."
   ]
  },
  {
   "cell_type": "markdown",
   "id": "f9bb3caf-d1f4-457e-9b2c-f89da7e9b52d",
   "metadata": {},
   "source": [
    "**Exercise 5b:** Search Awkward Array's [reference documentation](https://awkward-array.readthedocs.io/) for a way to get an array named `one` with the first of each pair and an array named `two` with the second of each pair, as two arrays with equal-length lists."
   ]
  },
  {
   "cell_type": "code",
   "execution_count": null,
   "id": "cbbc9929-807e-45f5-b4db-665434900e99",
   "metadata": {},
   "outputs": [],
   "source": [
    "one, two = ???"
   ]
  },
  {
   "cell_type": "markdown",
   "id": "61c0ed20-fd48-4d50-85ec-fe4f305b1ff2",
   "metadata": {},
   "source": [
    "The types of `one` and `two` should be:"
   ]
  },
  {
   "cell_type": "code",
   "execution_count": 37,
   "id": "028e1173-9d8d-4032-bb93-e36532bce854",
   "metadata": {},
   "outputs": [
    {
     "data": {
      "text/plain": [
       "(8004 * var * Momentum4D[\"px\": float32, \"py\": float32, \"pz\": float32, \"M\": float64, \"charge\": int64],\n",
       " 8004 * var * Momentum4D[\"px\": float32, \"py\": float32, \"pz\": float32, \"M\": float64, \"charge\": int64])"
      ]
     },
     "execution_count": 37,
     "metadata": {},
     "output_type": "execute_result"
    }
   ],
   "source": [
    "one.type, two.type"
   ]
  },
  {
   "cell_type": "markdown",
   "id": "ab6aacc2-560a-4f5b-ba5c-71458a2b8216",
   "metadata": {},
   "source": [
    "And the lengths of their lists should be the same as `ak.num(goodTracks)` (above)."
   ]
  },
  {
   "cell_type": "code",
   "execution_count": 38,
   "id": "aef99893-c510-42ce-b352-328d8a42c54e",
   "metadata": {},
   "outputs": [
    {
     "data": {
      "text/plain": [
       "(<Array [3, 1, 1, 0, 1, 0, ... 0, 0, 1, 0, 3, 6] type='8004 * int64'>,\n",
       " <Array [3, 1, 1, 0, 1, 0, ... 0, 0, 1, 0, 3, 6] type='8004 * int64'>)"
      ]
     },
     "execution_count": 38,
     "metadata": {},
     "output_type": "execute_result"
    }
   ],
   "source": [
    "ak.num(one), ak.num(two)"
   ]
  },
  {
   "cell_type": "markdown",
   "id": "cf03eb84-2271-445e-806a-23d9fc166f97",
   "metadata": {},
   "source": [
    "**Hint:** Remember how we _combined_ arrays of lists of the same lengths into `record_array`? This is the opposite of that.\n",
    "\n",
    "<details style=\"border: dashed 1px black; padding: 10px\">\n",
    "    <summary><b>Solutions</b> (no peeking!)</summary>\n",
    "\n",
    "<br>\n",
    "\n",
    "The first step is a direct application of the [ak.combinations](https://awkward-array.readthedocs.io/en/latest/_auto/ak.combinations.html) function:\n",
    "\n",
    "```python\n",
    "pairs = ak.combinations(goodTracks, 2)\n",
    "```\n",
    "<br>\n",
    "\n",
    "The default `axis` is `axis=1`, which means to find all combinations in each entry. (Not all combinations of entries, which would be `axis=0`!)\n",
    "\n",
    "The second step could be a direct application of [ak.unzip](https://awkward-array.readthedocs.io/en/latest/_auto/ak.unzip.html):\n",
    "\n",
    "```python\n",
    "one, two = ak.unzip(pairs)\n",
    "```\n",
    "<br>\n",
    "\n",
    "But tuples, like the 2-tuples in these `pairs`, are just records with unnamed fields. We can extract record fields with string-valued slices, and tuples can be indexed by position, so the slices that would extract the first of all tuple fields and the second of all tuple fields is `\"0\"` (a string!) and `\"1\"` (a string!).\n",
    "\n",
    "```python\n",
    "one, two = pairs[\"0\"], pairs[\"1\"]\n",
    "```\n",
    "<br>\n",
    "\n",
    "That's prone to misunderstanding: the numbers really must be inside strings. Perhaps a safer way to do it is:\n",
    "\n",
    "```python\n",
    "one, two = pairs.slot0, pairs.slot1\n",
    "```\n",
    "<br>\n",
    "\n",
    "which works up to `slot9`. Whereas these methods extract one tuple-field at a time, [ak.unzip](https://awkward-array.readthedocs.io/en/latest/_auto/ak.unzip.html) extracts all fields (of any tuple _or_ record).\n",
    "</details>"
   ]
  },
  {
   "cell_type": "markdown",
   "id": "cabbfdd2-c7b0-4d7d-ac98-96e33a005bdd",
   "metadata": {
    "jp-MarkdownHeadingCollapsed": true,
    "tags": []
   },
   "source": [
    "### Selecting opposite-sign charges among those pairs"
   ]
  },
  {
   "cell_type": "markdown",
   "id": "15072f25-a8d1-41a4-af88-e22e3e8d4bfb",
   "metadata": {},
   "source": [
    "The opposite-sign charge cut is not a track quality cut, since it depends on a relationship between two tracks.\n",
    "\n",
    "Now we have arrays `one` and `two` representing the left and right halves of those pairs, and we can define and apply the cut."
   ]
  },
  {
   "cell_type": "markdown",
   "id": "8c70c59d-107f-4943-b57a-f0c09ca64782",
   "metadata": {},
   "source": [
    "**Exercise 6a:** Make an array of booleans that are `true` for opposite-sign charges and `false` for same-sign charges."
   ]
  },
  {
   "cell_type": "code",
   "execution_count": null,
   "id": "5d45763f-c93c-4bc7-8db3-ec171a6be79d",
   "metadata": {},
   "outputs": [],
   "source": [
    "opposite_charge_cut = ???"
   ]
  },
  {
   "cell_type": "markdown",
   "id": "f3b0b97c-9e3c-468b-9d4c-b6254efee039",
   "metadata": {},
   "source": [
    "The type should be:"
   ]
  },
  {
   "cell_type": "code",
   "execution_count": 40,
   "id": "f37fc4c4-8ec5-4193-862f-538b82a5daeb",
   "metadata": {},
   "outputs": [
    {
     "data": {
      "text/plain": [
       "8004 * var * bool"
      ]
     },
     "execution_count": 40,
     "metadata": {},
     "output_type": "execute_result"
    }
   ],
   "source": [
    "opposite_charge_cut.type"
   ]
  },
  {
   "cell_type": "markdown",
   "id": "18345650-a877-4579-a526-70b85b626c1a",
   "metadata": {},
   "source": [
    "And the number of `true` values in the first and last events should be:"
   ]
  },
  {
   "cell_type": "code",
   "execution_count": 41,
   "id": "2e8d42e8-41c5-42bd-8b33-6d585eeba356",
   "metadata": {},
   "outputs": [
    {
     "data": {
      "text/plain": [
       "<Array [2, 1, 0, 0, 1, 0, ... 0, 0, 1, 0, 2, 3] type='8004 * int64'>"
      ]
     },
     "execution_count": 41,
     "metadata": {},
     "output_type": "execute_result"
    }
   ],
   "source": [
    "ak.count_nonzero(opposite_charge_cut, axis=1)"
   ]
  },
  {
   "cell_type": "markdown",
   "id": "e2678db0-2c74-4712-a32c-0c2b9371ba4c",
   "metadata": {},
   "source": [
    "**Exercise 6b:** Apply that cut to `one` and `two`."
   ]
  },
  {
   "cell_type": "code",
   "execution_count": null,
   "id": "a9886c95-85e4-49b3-9d57-8e26aa98f83f",
   "metadata": {},
   "outputs": [],
   "source": [
    "quality_one = ???\n",
    "quality_two = ???"
   ]
  },
  {
   "cell_type": "markdown",
   "id": "cc8b6372-2ee1-4e7d-9cb0-6f34292dc831",
   "metadata": {},
   "source": [
    "The types should be remain:"
   ]
  },
  {
   "cell_type": "code",
   "execution_count": 43,
   "id": "1356a066-1796-4d49-8d22-603c6b9b7fb7",
   "metadata": {},
   "outputs": [
    {
     "data": {
      "text/plain": [
       "(8004 * var * Momentum4D[\"px\": float32, \"py\": float32, \"pz\": float32, \"M\": float64, \"charge\": int64],\n",
       " 8004 * var * Momentum4D[\"px\": float32, \"py\": float32, \"pz\": float32, \"M\": float64, \"charge\": int64])"
      ]
     },
     "execution_count": 43,
     "metadata": {},
     "output_type": "execute_result"
    }
   ],
   "source": [
    "quality_one.type, quality_two.type"
   ]
  },
  {
   "cell_type": "markdown",
   "id": "4d118f99-2728-44a6-a7ab-88916825c569",
   "metadata": {},
   "source": [
    "And the lengths of the lists should become:"
   ]
  },
  {
   "cell_type": "code",
   "execution_count": 44,
   "id": "8476b1d1-4ea5-422d-99ab-6f68dce490dc",
   "metadata": {},
   "outputs": [
    {
     "data": {
      "text/plain": [
       "(<Array [2, 1, 0, 0, 1, 0, ... 0, 0, 1, 0, 2, 3] type='8004 * int64'>,\n",
       " <Array [2, 1, 0, 0, 1, 0, ... 0, 0, 1, 0, 2, 3] type='8004 * int64'>)"
      ]
     },
     "execution_count": 44,
     "metadata": {},
     "output_type": "execute_result"
    }
   ],
   "source": [
    "ak.num(quality_one), ak.num(quality_two)"
   ]
  },
  {
   "cell_type": "markdown",
   "id": "1b00faa2-0d65-4019-aa87-13814f26a8c3",
   "metadata": {},
   "source": [
    "<details style=\"border: dashed 1px black; padding: 10px\">\n",
    "    <summary><b>Solutions</b> (no peeking!)</summary>\n",
    "\n",
    "<br>\n",
    "\n",
    "I've seen three different ways people calculate opposite-sign charges. I think this is the simplest:\n",
    "\n",
    "```python\n",
    "opposite_charge_cut = one.charge != two.charge\n",
    "```\n",
    "<br>\n",
    "\n",
    "This one is also intuitive, since the Z boson that decays to two electrons has net zero charge:\n",
    "\n",
    "```python\n",
    "opposite_charge_cut = one.charge + two.charge == 0\n",
    "```\n",
    "<br>\n",
    "\n",
    "This one is odd, but I see it quite a lot:\n",
    "\n",
    "```python\n",
    "opposite_charge_cut = one.charge * two.charge == -1\n",
    "```\n",
    "<br>\n",
    "\n",
    "As for applying the cut, the pattern should be getting familiar:\n",
    "\n",
    "\n",
    "```python\n",
    "quality_one = one[opposite_charge_cut]\n",
    "quality_two = two[opposite_charge_cut]\n",
    "```\n",
    "</details>"
   ]
  },
  {
   "cell_type": "markdown",
   "id": "17a3a2c1-e3d8-4869-adfd-856f191ef43f",
   "metadata": {
    "jp-MarkdownHeadingCollapsed": true,
    "tags": []
   },
   "source": [
    "### Computing invariant mass of the track pairs"
   ]
  },
  {
   "cell_type": "markdown",
   "id": "2624b1c3-3bad-46a3-a349-04e4b43530ca",
   "metadata": {},
   "source": [
    "Up to this point, the only Lorentz vector method that we used was `mag`. Now we want to add the left and right halves of each pair and compute their invariant mass.\n",
    "\n",
    "**Exercise 7:** Check the [Vector documentation](https://vector.readthedocs.io/en/latest/usage/intro.html) and figure out how to do that."
   ]
  },
  {
   "cell_type": "code",
   "execution_count": null,
   "id": "d8127ecc-298d-4627-aab8-0674ea765392",
   "metadata": {},
   "outputs": [],
   "source": [
    "invariant_mass = ???"
   ]
  },
  {
   "cell_type": "markdown",
   "id": "de1d5387-8dc4-4852-b7c1-0cec9b1512dc",
   "metadata": {},
   "source": [
    "The type should be:"
   ]
  },
  {
   "cell_type": "code",
   "execution_count": 46,
   "id": "38054856-c5e8-447c-abc9-a164db114fa5",
   "metadata": {},
   "outputs": [
    {
     "data": {
      "text/plain": [
       "8004 * var * float64"
      ]
     },
     "execution_count": 46,
     "metadata": {},
     "output_type": "execute_result"
    }
   ],
   "source": [
    "invariant_mass.type"
   ]
  },
  {
   "cell_type": "markdown",
   "id": "2b4c6ad8-a54b-4037-93b3-65ef007e4fe1",
   "metadata": {},
   "source": [
    "The first and last values should be:"
   ]
  },
  {
   "cell_type": "code",
   "execution_count": 47,
   "id": "6861cca6-701c-4f29-947b-03527d13ff1b",
   "metadata": {},
   "outputs": [
    {
     "data": {
      "text/plain": [
       "<Array [[6.51, 16.2], ... [2.49, 8.24, 3.5]] type='8004 * var * float64'>"
      ]
     },
     "execution_count": 47,
     "metadata": {},
     "output_type": "execute_result"
    }
   ],
   "source": [
    "invariant_mass"
   ]
  },
  {
   "cell_type": "markdown",
   "id": "5c1bb516-a195-46d2-8013-0e7e9ae1e50f",
   "metadata": {},
   "source": [
    "And the lengths of each list in the first and last events should be:"
   ]
  },
  {
   "cell_type": "code",
   "execution_count": 48,
   "id": "1d725c23-9c87-4fd4-8984-59ccb6bc01bb",
   "metadata": {},
   "outputs": [
    {
     "data": {
      "text/plain": [
       "<Array [2, 1, 0, 0, 1, 0, ... 0, 0, 1, 0, 2, 3] type='8004 * int64'>"
      ]
     },
     "execution_count": 48,
     "metadata": {},
     "output_type": "execute_result"
    }
   ],
   "source": [
    "ak.num(invariant_mass)"
   ]
  },
  {
   "cell_type": "markdown",
   "id": "aa210626-1e03-4619-a60e-2781db5a7146",
   "metadata": {},
   "source": [
    "<details style=\"border: dashed 1px black; padding: 10px\">\n",
    "    <summary><b>Solutions</b> (no peeking!)</summary>\n",
    "\n",
    "<br>\n",
    "\n",
    "It could look (almost) exactly like the C++:\n",
    "\n",
    "```python\n",
    "invariant_mass = (quality_one + quality_two).M\n",
    "```\n",
    "<br>\n",
    "\n",
    "But I prefer:\n",
    "\n",
    "```python\n",
    "invariant_mass = (quality_one + quality_two).mass\n",
    "```\n",
    "<br>\n",
    "\n",
    "The Vector library has only one way to \"spell\" this quantity for purely geometric vectors, \"`tau`\" (for proper time), but when vectors are labeled as \"Momentum\", they get synonyms: \"`mass`\", \"`M`\", \"`m`\".\n",
    "\n",
    "It's worth noting that `(quality_one + quality_two)` is a new array of vectors, and therefore the fields Vector doesn't recognize are lost. The type of `(quality_one + quality_two)` is:\n",
    "\n",
    "```\n",
    "8004 * var * Momentum4D[\"x\": float32, \"y\": float32, \"z\": float32, \"tau\": float64]\n",
    "```\n",
    "<br>\n",
    "\n",
    "with no `\"charge\"`. Vector does not add the charges because adding would not be the correct thing to do with any unrecognized field. (You might have named it `\"q\"` or `\"Q\"`.) Of course, you can add it yourself:\n",
    "\n",
    "\n",
    "```python\n",
    "quality_one.charge + quality_two.charge\n",
    "```\n",
    "<br>\n",
    "\n",
    "and insert it into a new object. This works, for instance:\n",
    "\n",
    "```python\n",
    "z_bosons = (quality_one + quality_two)\n",
    "z_bosons[\"charge\"] = quality_one.charge + quality_two.charge\n",
    "```\n",
    "<br>\n",
    "\n",
    "and `z_bosons` has type\n",
    "\n",
    "```\n",
    "8004 * var * Momentum4D[\"x\": float32, \"y\": float32, \"z\": float32, \"tau\": float64, \"charge\": int64]\n",
    "```\n",
    "</details>"
   ]
  },
  {
   "cell_type": "markdown",
   "id": "7ee92350-f2b9-4d02-95d9-bdff11f809ba",
   "metadata": {
    "jp-MarkdownHeadingCollapsed": true,
    "tags": []
   },
   "source": [
    "### Plotting the invariant mass"
   ]
  },
  {
   "cell_type": "markdown",
   "id": "c0803a5d-d7ef-4db8-9e55-bc2c20d9ffba",
   "metadata": {},
   "source": [
    "Constructing a histogram, which was the first step in C++:\n",
    "\n",
    "```c++\n",
    "TH1F *hM = new TH1F(\"hM\", \"e+e- invariant mass (GeV/c)\", 120, 0, 120);\n",
    "```\n",
    "\n",
    "is the last step here."
   ]
  },
  {
   "cell_type": "code",
   "execution_count": 49,
   "id": "3400ad64-ac32-437a-8603-f147230ebcc5",
   "metadata": {},
   "outputs": [],
   "source": [
    "import hist"
   ]
  },
  {
   "cell_type": "markdown",
   "id": "f0a7947f-299e-4c44-bb0b-43b32679c4ae",
   "metadata": {},
   "source": [
    "**Exercise 8:** Check the [hist documentation](https://hist.readthedocs.io/en/latest/user-guide/quickstart.html) and define a one-dimensional histogram with 120 regularly-spaced bins from 0 to 120 GeV. Then fill it with the `invariant_mass` data.\n",
    "\n",
    "**Hint:** The `invariant_mass` array contains _lists_ of numbers, but histograms present a distribution of _numbers_. Search Awkward Array's [reference documentation](https://awkward-array.readthedocs.io/) for a way to flatten these lists into a one-dimensional array, and experiment with that step _before_ attempting to fill the histogram. (The error messages will be easier to understand.)"
   ]
  },
  {
   "cell_type": "code",
   "execution_count": null,
   "id": "89d51f6b-8bf4-4bd3-b3e9-78610a4f9001",
   "metadata": {},
   "outputs": [],
   "source": [
    "flat_invariant_mass = ???\n",
    "hM = ???\n",
    "hM.fill(???)"
   ]
  },
  {
   "cell_type": "markdown",
   "id": "db995cc3-e4a9-439f-a01d-e3b25e5833b4",
   "metadata": {},
   "source": [
    "The flattened invariant mass should look like this:"
   ]
  },
  {
   "cell_type": "code",
   "execution_count": 51,
   "id": "25b5ecf0-0469-4772-a91d-0984062ad78c",
   "metadata": {},
   "outputs": [
    {
     "data": {
      "text/plain": [
       "<Array [6.51, 16.2, 108, ... 2.49, 8.24, 3.5] type='5021 * float64'>"
      ]
     },
     "execution_count": 51,
     "metadata": {},
     "output_type": "execute_result"
    }
   ],
   "source": [
    "flat_invariant_mass"
   ]
  },
  {
   "cell_type": "markdown",
   "id": "a285ba5c-3a26-406a-9153-2ae3a1fa3045",
   "metadata": {},
   "source": [
    "Note that the type does not have any \"`var`\" in it."
   ]
  },
  {
   "cell_type": "markdown",
   "id": "a0de0a7e-8af9-464a-8bc0-627cbc395343",
   "metadata": {},
   "source": [
    "Whenever a `hist.Hist` is the return value of an expression in Jupyter (such as after the `fill`), you'll see a mini-plot to aid in interactive analysis. But professional-quality plots are made through Matplotlib:"
   ]
  },
  {
   "cell_type": "code",
   "execution_count": 52,
   "id": "b78a964c-4ec8-43af-b65d-d9f0ccbe1081",
   "metadata": {},
   "outputs": [
    {
     "data": {
      "image/png": "[encoded data removed]",
      "text/plain": [
       "<Figure size 432x288 with 1 Axes>"
      ]
     },
     "metadata": {
      "needs_background": "light"
     },
     "output_type": "display_data"
    }
   ],
   "source": [
    "hM.plot();"
   ]
  },
  {
   "cell_type": "markdown",
   "id": "3c43605a-ea2f-44ef-90c3-ccc5bcefd995",
   "metadata": {},
   "source": [
    "By importing Matplotlib, we can configure the plot, mix it with other plots, tweak how it looks, etc."
   ]
  },
  {
   "cell_type": "code",
   "execution_count": 53,
   "id": "5047034f-a9ea-457c-a153-c214ae23e564",
   "metadata": {},
   "outputs": [],
   "source": [
    "import matplotlib.pyplot as plt"
   ]
  },
  {
   "cell_type": "code",
   "execution_count": 54,
   "id": "86dbdf9c-c41b-4d80-98bb-31ff1cd82271",
   "metadata": {},
   "outputs": [
    {
     "data": {
      "image/png": "[encoded data removed]",
      "text/plain": [
       "<Figure size 432x288 with 1 Axes>"
      ]
     },
     "metadata": {
      "needs_background": "light"
     },
     "output_type": "display_data"
    }
   ],
   "source": [
    "hM.plot()\n",
    "plt.yscale(\"log\")"
   ]
  },
  {
   "cell_type": "markdown",
   "id": "b7b8412f-9483-4a68-ab24-3ff8b6d2da2b",
   "metadata": {},
   "source": [
    "**Physics note:** The broad peak at 85 GeV _is_ the Z boson (in this Monte Carlo sample). It's offset from the 91 GeV Z mass and has a width of 14 GeV due to tracking resolution for these high-momentum tracks (roughly 40 GeV per track)."
   ]
  },
  {
   "cell_type": "markdown",
   "id": "c91835e3-5085-4e3a-b353-c443910996f6",
   "metadata": {},
   "source": [
    "<details style=\"border: dashed 1px black; padding: 10px\">\n",
    "    <summary><b>Solutions</b> (no peeking!)</summary>\n",
    "\n",
    "<br>\n",
    "\n",
    "The `invariant_mass` array can be flattened with [ak.flatten](https://awkward-array.readthedocs.io/en/latest/_auto/ak.flatten.html) or [ak.ravel](https://awkward-array.readthedocs.io/en/latest/_auto/ak.ravel.html)/[np.ravel](https://numpy.org/doc/stable/reference/generated/numpy.ravel.html). The [ak.flatten](https://awkward-array.readthedocs.io/en/latest/_auto/ak.flatten.html) function only flattens one dimension (by default, `axis=1`), which is all we need in this case. \"Ravel\" is NumPy's spelling for \"flatten all dimensions.\"\n",
    "\n",
    "```python\n",
    "flat_invariant_mass = ak.flatten(invariant_mass)\n",
    "```\n",
    "<br>\n",
    "\n",
    "or\n",
    "\n",
    "```python\n",
    "flat_invariant_mass = np.ravel(invariant_mass)\n",
    "```\n",
    "<br>\n",
    "\n",
    "The reason you have to do this manually is because it's an information-losing operation: [there are many ways](https://awkward-array.org/how-to-restructure-flatten.html) to get a dimensionless set of values from nested data, and in some circumstances, you might have wanted one of the other ones. For instance, maybe you want to ensure that you only plot one Z candidate per event, and you have some criteria for selecting the \"best\" one. This is where you would put that alternative.\n",
    "\n",
    "As for constructing the histogram and filling it:\n",
    "\n",
    "```python\n",
    "hM = hist.Hist(hist.axis.Regular(120, 0, 120, label=\"e+e- invariant mass (GeV/c)\"))\n",
    "hM.fill(flat_invariant_mass)\n",
    "```\n",
    "<br>\n",
    "\n",
    "Be sure to use hist's array-oriented `fill` method. Iterating over the values in the array (or even the lists withing an array of lists) would be hundreds of times slower than filling it in one call.\n",
    "\n",
    "Calling `fill` multiple times to accumulate batches, however, is fine: the important thing is to give it a large array with each call, so that most of its time can be spent in its compiled histogram-fill loop, not in Python loops.</details>"
   ]
  },
  {
   "cell_type": "markdown",
   "id": "2988be54-f181-4db8-bd25-5dfb3c09db58",
   "metadata": {
    "jp-MarkdownHeadingCollapsed": true,
    "tags": []
   },
   "source": [
    "### Retrospective\n",
    "\n",
    "(Spoilers; keep hidden until you're done.)"
   ]
  },
  {
   "cell_type": "markdown",
   "id": "36d2f009-cfa0-41e3-b507-21282d53c12d",
   "metadata": {},
   "source": [
    "This might have seemed like a lot of steps to produce a simple invariant mass plot, but the intention of the exercises above was to walk you through it slowly.\n",
    "\n",
    "A speedrun would look more like this:"
   ]
  },
  {
   "cell_type": "code",
   "execution_count": 1,
   "id": "b368a5d5-7e1e-47d4-adfa-f53ac9971fc6",
   "metadata": {},
   "outputs": [],
   "source": [
    "import awkward as ak\n",
    "import numpy as np\n",
    "import matplotlib.pyplot as plt\n",
    "import uproot\n",
    "import particle\n",
    "import hepunits\n",
    "import hist\n",
    "import vector\n",
    "vector.register_awkward()"
   ]
  },
  {
   "cell_type": "code",
   "execution_count": 2,
   "id": "2de338cb-61c0-45b0-a46c-605bde412716",
   "metadata": {},
   "outputs": [],
   "source": [
    "picodst = uproot.open(\"https://pivarski-princeton.s3.amazonaws.com/pythia_ppZee_run17emb.picoDst.root:PicoDst\")"
   ]
  },
  {
   "cell_type": "code",
   "execution_count": 3,
   "id": "455cc112-ab99-41bc-9c35-bf9a1da7088c",
   "metadata": {},
   "outputs": [],
   "source": [
    "# make an array of track momentum vectors\n",
    "pMom = ak.zip(dict(zip([\"px\", \"py\", \"pz\"], picodst.arrays(filter_name=\"Track.mPMomentum[XYZ]\", how=tuple))), with_name=\"Momentum4D\")\n",
    "pMom[\"M\"] = particle.Particle.find(\"e-\").mass / hepunits.GeV"
   ]
  },
  {
   "cell_type": "code",
   "execution_count": 4,
   "id": "1538b4c3-6207-44bd-9013-2beda1972320",
   "metadata": {},
   "outputs": [],
   "source": [
    "# get all the other arrays we need\n",
    "mNHitsFit, mNHitsMax, mBEmcPidTraitsIndex, mBtowE = \\\n",
    "    picodst.arrays(filter_name=[\"Track.mNHitsFit\", \"Track.mNHitsMax\", \"Track.mBEmcPidTraitsIndex\", \"EmcPidTraits.mBtowE\"], how=tuple)\n",
    "mBtowE = mBtowE / 1000"
   ]
  },
  {
   "cell_type": "code",
   "execution_count": 5,
   "id": "fcf344b4-4637-49a2-afd9-194a6864327f",
   "metadata": {},
   "outputs": [],
   "source": [
    "# add charge to the momentum vector\n",
    "pMom[\"charge\"] = (mNHitsFit > 0) * 2 - 1"
   ]
  },
  {
   "cell_type": "code",
   "execution_count": 6,
   "id": "77c688a9-147d-4683-9af4-17a03806b2b6",
   "metadata": {},
   "outputs": [],
   "source": [
    "# compute track quality cuts\n",
    "isPrimary = pMom.mag > 0\n",
    "isBemcTrack = mBEmcPidTraitsIndex >= 0\n",
    "track_quality_cuts = isPrimary & (abs(mNHitsFit) / mNHitsMax >= 0.2) & isBemcTrack"
   ]
  },
  {
   "cell_type": "code",
   "execution_count": 7,
   "id": "de0cc1d4-26f8-40eb-84b6-4e0fa5013bf1",
   "metadata": {},
   "outputs": [],
   "source": [
    "# find shower energies for quality tracks\n",
    "quality_mBtowE = mBtowE[mBEmcPidTraitsIndex[track_quality_cuts]]"
   ]
  },
  {
   "cell_type": "code",
   "execution_count": 8,
   "id": "f5e44ad6-9ff2-45ad-8e60-38f60026ca35",
   "metadata": {},
   "outputs": [],
   "source": [
    "# compute the momentum-over-energy cut (some denominators are zero)\n",
    "with np.errstate(divide=\"ignore\"):\n",
    "    quality_pOverE_cut = (pMom[track_quality_cuts].mag / quality_mBtowE >= 0.1)"
   ]
  },
  {
   "cell_type": "code",
   "execution_count": 9,
   "id": "bee5c4a1-db36-4996-a392-e6fd8f373d55",
   "metadata": {},
   "outputs": [],
   "source": [
    "# apply all track quality cuts, including momentum-over-energy\n",
    "goodTracks = pMom[track_quality_cuts][quality_pOverE_cut]"
   ]
  },
  {
   "cell_type": "code",
   "execution_count": 10,
   "id": "9ebb0a41-67b2-4d03-a63a-32254e8cca56",
   "metadata": {},
   "outputs": [],
   "source": [
    "# form pairs of quality cuts and apply an opposite-sign charge constraint\n",
    "pairs = ak.combinations(goodTracks, 2)\n",
    "one, two = ak.unzip(pairs)\n",
    "quality_one, quality_two = ak.unzip(pairs[one.charge != two.charge])"
   ]
  },
  {
   "cell_type": "code",
   "execution_count": 11,
   "id": "e6dffec2-7204-4c9b-a726-c5a096651f15",
   "metadata": {},
   "outputs": [
    {
     "data": {
      "image/png": "[encoded data removed]",
      "text/plain": [
       "<Figure size 432x288 with 1 Axes>"
      ]
     },
     "metadata": {
      "needs_background": "light"
     },
     "output_type": "display_data"
    }
   ],
   "source": [
    "# make the plot\n",
    "hM = hist.Hist(hist.axis.Regular(120, 0, 120, label=\"e+e- invariant mass (GeV/c)\"))\n",
    "hM.fill(ak.flatten((quality_one + quality_two).mass))\n",
    "hM.plot()\n",
    "plt.yscale(\"log\")"
   ]
  },
  {
   "cell_type": "markdown",
   "id": "05b99c74-1fa1-4226-a119-cf106413a7d0",
   "metadata": {
    "tags": []
   },
   "source": [
    "**Final words about array-oriented data analysis**\n",
    "\n",
    "The key thing about this interface is the _order_ in which you do things.\n",
    "\n",
    "   1. Scan through the TBranch names to see what you can play with.\n",
    "   2. Get some promising-looking arrays. If the dataset is big or remote, use `entry_stop=small_number` to fetch only as much as you need to investigate.\n",
    "   3. Compute _one quantity_ on the _entire array(s)_. Then look at a few of its values or plot it.\n",
    "   4. Decide whether that was what you wanted to compute or cut. If not, go back to 2.\n",
    "   5. When you've built up a final result (on a small dataset), clean up the notebook or copy it to a non-notebook script.\n",
    "   6. Put the computation code in an [uproot.iterate](https://uproot.readthedocs.io/en/latest/uproot.behaviors.TBranch.iterate.html) loop or a parallel process that writes and adds up histograms.\n",
    "   7. Parallelize, collect the histograms, beautify them, publish.\n",
    "\n",
    "Most importantly, each computation _step_ applies to _entire_ (possibly small) datasets, so you can look at/plot what you've computed before you decide what to compute next.\n",
    "\n",
    "Imperative code forces you to put all steps into a loop; you have to run the whole loop to see any of the results. You can still do iterative data analysis, but the turn-around time to identify and fix mistakes is longer.\n",
    "\n",
    "**I'm not just the president; I'm also a client**\n",
    "\n",
    "I experienced this first-hand (again) while preparing this tutorial. There were some things I didn't understand about STAR's detectors and I didn't believe the final result (I thought the Z peak was fake; sculped by cuts), so I furiously plotted everything versus everything in this TTree until I came to understand that the Z peak was correct after all. (Dmitry Kalinkin helped: thanks!)\n",
    "\n",
    "Offline, I have a ridiculously messy `Untitled.ipynb` with all those plots, mostly in the form\n",
    "\n",
    "```python\n",
    "plt.hist(ak.flatten(some_quantity), bins=100);  # maybe add range=(low, high)\n",
    "plt.yscale(\"log\")\n",
    "```\n",
    "\n",
    "for brevity. Only when _I_ felt _I_ understood what was going on could I clean up all of that mess into something coherent, which is the exercises above."
   ]
  }
 ],
 "metadata": {
  "kernelspec": {
   "display_name": "Python 3 (ipykernel)",
   "language": "python",
   "name": "python3"
  },
  "language_info": {
   "codemirror_mode": {
    "name": "ipython",
    "version": 3
   },
   "file_extension": ".py",
   "mimetype": "text/x-python",
   "name": "python",
   "nbconvert_exporter": "python",
   "pygments_lexer": "ipython3",
   "version": "3.8.10"
  }
 },
 "nbformat": 4,
 "nbformat_minor": 5
}
