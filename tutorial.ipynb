{
 "cells": [
  {
   "cell_type": "markdown",
   "id": "88a6d7a8-4ba0-44aa-b9cc-bde6ca17eb71",
   "metadata": {},
   "source": [
    "# Scientific Python tutorial for the STAR collaboration\n",
    "\n",
    "This notebook shows you how to do physics analysis in Python using a STAR PicoDST file. I presented it on Zoom on September 13, 2021, but you can find it offline at [jpivarski-talks/2021-09-13-star-uproot-awkward-tutorial](https://github.com/jpivarski-talks/2021-09-13-star-uproot-awkward-tutorial).\n",
    "\n",
    "You can run this notebook on Binder (see link above), which loads all of the library dependencies onto its server; you don't have to install anything. But if you would like to run it on your computer, see the `requirements.txt` file. This specifies exact versions of dependencies that are known to work for this notebook, though if you plan to use these libraries later on, you'll want the latest versions of each.\n",
    "\n",
    "The first 5 sections are introductory, and the last contains exercises. In the live tutorial, we spent one hour on the introductory material and one hour in small groups, working on the exercises."
   ]
  },
  {
   "cell_type": "markdown",
   "id": "1a438bfd-a767-4d0b-bbc9-1175b4d34e43",
   "metadata": {
    "tags": []
   },
   "source": [
    "## 1. Python: interactively building up an analysis"
   ]
  },
  {
   "cell_type": "markdown",
   "id": "2764f556-cbaf-4629-ac50-0eb78b58ea99",
   "metadata": {},
   "source": [
    "## 2. NumPy: thinking one array at a time"
   ]
  },
  {
   "cell_type": "markdown",
   "id": "ee248524-5bd4-4f9b-8303-68575b5e1e67",
   "metadata": {},
   "source": [
    "## 3. Uproot: array-oriented ROOT I/O"
   ]
  },
  {
   "cell_type": "markdown",
   "id": "4f5afbe6-52bf-4c65-b604-7106fc87dd1e",
   "metadata": {},
   "source": [
    "## 4. Awkward Array: complex data in arrays"
   ]
  },
  {
   "cell_type": "markdown",
   "id": "e013b84a-8de8-481d-a559-c0682ec8f403",
   "metadata": {},
   "source": [
    "## 5. Vector, hist, fastjet: the array-oriented ecosystem"
   ]
  },
  {
   "cell_type": "markdown",
   "id": "b79dcc5b-77b2-4cfd-9334-2c5797f67504",
   "metadata": {
    "tags": []
   },
   "source": [
    "## Exercises: translating a C++ analysis into array-oriented Python"
   ]
  },
  {
   "cell_type": "markdown",
   "id": "9a18ee8b-47c1-4ebb-9f25-61311fff723e",
   "metadata": {
    "tags": []
   },
   "source": [
    "In this section, we will plot the mass of e⁺e⁻ pairs from the PicoDST file, using C++ examples as a guide.\n",
    "\n",
    "The solutions are hidden. Try to solve each exercise on your own (by filling in the \"`???`\"), then compare with the solutions we've provided."
   ]
  },
  {
   "cell_type": "markdown",
   "id": "f09b4df6-74b2-4cc7-ac29-04913ec531d2",
   "metadata": {},
   "source": [
    "### C++ version of the analysis"
   ]
  },
  {
   "cell_type": "markdown",
   "id": "e4d096f4-76a4-43d3-ac32-ae24745924b7",
   "metadata": {},
   "source": [
    "TH1F *hM = new TH1F(\"hM\", \"e+e- invariant mass (GeV/c)\", 200, 0., 100.);The analysis we want to reproduce is the following:\n",
    "\n",
    "```c++\n",
    "// histogram to fill\n",
    "TH1F *hM = new TH1F(\"hM\", \"e+e- invariant mass (GeV/c)\", 120, 0, 120);\n",
    "\n",
    "// get a reader and initialize it\n",
    "const Char_t *inFile = \"pythia_ppZee_run17emb.picoDst.root\";\n",
    "StPicoDstReader* picoReader = new StPicoDstReader(inFile);\n",
    "picoReader->Init();\n",
    "\n",
    "Long64_t events2read = picoReader->chain()->GetEntries();\n",
    "\n",
    "// loop over events\n",
    "for (Long64_t iEvent = 0; iEvent < events2read; iEvent++) {\n",
    "  Bool_t readEvent = picoReader->readPicoEvent(iEvent);\n",
    "  StPicoDst *dst = picoReader->picoDst();\n",
    "\n",
    "  Int_t nTracks = dst->numberOfTracks();\n",
    "\n",
    "  // for collecting good tracks\n",
    "  std::vector<StPicoTrack*> goodTracks;\n",
    "\n",
    "  // loop over tracks\n",
    "  for (Int_t iTrk = 0; iTrk < nTracks; iTrk++) {\n",
    "    StPicoTrack *picoTrack = dst->track(iTrk);\n",
    "\n",
    "    // track quality cuts\n",
    "    if (!picoTrack->isPrimary()) continue;\n",
    "    if (picoTrack->nHitsFit() / picoTrack()->nHitsMax() < 0.2) continue;\n",
    "\n",
    "    // track -> associated electromagnetic calorimeter energy\n",
    "    if (picoTrack->isBemcTrack()) {\n",
    "      StPicoBEmcPidTraits *trait = dst->bemcPidTraits(\n",
    "          picoTrack->bemcPidTraitsIndex()\n",
    "      );\n",
    "\n",
    "      // matched energy cut\n",
    "      double pOverE = picoTrack->pMom().Mag() / trait->btowE();\n",
    "      if (pOverE < 0.1) continue;\n",
    "\n",
    "      // this is a good track\n",
    "      goodTracks.push_back(picoTrack);\n",
    "    }\n",
    "  }\n",
    "\n",
    "  // loop over good pairs with opposite-sign charge and fill the invariant mass plot\n",
    "  for (UInt_t i = 0; i < goodTracks.size(); i++) {\n",
    "    for (UInt_t j = i + 1; j < goodTracks.size(); j++) {\n",
    "      // make Lorentz vectors with electron mass\n",
    "      TLorentzVector one(goodTracks[i].pMom(), 0.0005109989461);\n",
    "      TLorentzVector two(goodTracks[j].pMom(), 0.0005109989461);\n",
    "\n",
    "      // opposite-sign charge cut\n",
    "      if (goodTracks[i].charge() != goodTracks[j].charge()) {\n",
    "        // fill the histogram\n",
    "        hM->Fill((one + two).M());\n",
    "      }\n",
    "    }\n",
    "  }\n",
    "}\n",
    "```"
   ]
  },
  {
   "cell_type": "markdown",
   "id": "7baac96c-1aa2-450a-93b4-a744d640e1fa",
   "metadata": {
    "jp-MarkdownHeadingCollapsed": true,
    "tags": []
   },
   "source": [
    "### Reading the data"
   ]
  },
  {
   "cell_type": "markdown",
   "id": "2dae7233-4801-44c8-a0ae-c56bb490e7d0",
   "metadata": {},
   "source": [
    "As before, we start by reading the file."
   ]
  },
  {
   "cell_type": "code",
   "execution_count": 6,
   "id": "3b0f4f5c-69bb-43a5-9d5e-4fac3deeb669",
   "metadata": {},
   "outputs": [],
   "source": [
    "import uproot\n",
    "import awkward as ak\n",
    "import numpy as np"
   ]
  },
  {
   "cell_type": "code",
   "execution_count": 7,
   "id": "917d1057-26d7-4b6e-92a5-175d71640c1a",
   "metadata": {},
   "outputs": [
    {
     "data": {
      "text/plain": [
       "<TTree 'PicoDst' (18 branches) at 0x7f2b94139850>"
      ]
     },
     "execution_count": 7,
     "metadata": {},
     "output_type": "execute_result"
    }
   ],
   "source": [
    "picodst = uproot.open(\"https://pivarski-princeton.s3.amazonaws.com/pythia_ppZee_run17emb.picoDst.root:PicoDst\")\n",
    "picodst"
   ]
  },
  {
   "cell_type": "markdown",
   "id": "5af0868d-a006-4ea3-9808-80efc56cc454",
   "metadata": {},
   "source": [
    "By examining the C++ code, we see that we need to compute\n",
    "\n",
    "```c++\n",
    "StPicoTrack::isPrimary\n",
    "StPicoTrack::nHitsFit\n",
    "StPicoTrack::nHitsMax\n",
    "StPicoTrack::isBemcTrack\n",
    "StPicoTrack::bemcPidTraitsIndex\n",
    "StPicoTrack::pMom\n",
    "StPicoBEmcPidTraits::btowE\n",
    "```\n",
    "\n",
    "From [star-picodst-reference/StPicoTrack.h](star-picodst-reference/StPicoTrack.h) and [star-picodst-reference/StPicoBEmcPidTraits.h](star-picodst-reference/StPicoBEmcPidTraits.h), we learn that these are computed from the following TBranches:\n",
    "\n",
    "   * `mPMomentumX`\n",
    "   * `mPMomentumY`\n",
    "   * `mPMomentumZ`\n",
    "   * `mNHitsFit`\n",
    "   * `mNHitsMax`\n",
    "   * `mBEmcPidTraitsIndex`\n",
    "   * `mBtowE`\n",
    "\n",
    "**Exercise 1:** Extract these TBranches as arrays, using the same names.\n",
    "\n",
    "**Hint:** To avoid long download times while you experiment, set `entry_stop=10` in your calls to [TTree.arrays](https://uproot.readthedocs.io/en/latest/uproot.behaviors.TTree.TTree.html#arrays) or [TBranch.array](https://uproot.readthedocs.io/en/latest/uproot.behaviors.TBranch.TBranch.html#array). Just be sure to remove it to get all entries in the end.\n",
    "\n",
    "From where I am on the Internet, it took about 30 seconds to read. If it's taking over a minute, you're probably downloading more than you intended."
   ]
  },
  {
   "cell_type": "code",
   "execution_count": null,
   "id": "6c4ce5c4-4eae-4d38-997e-50ce2fde8fe2",
   "metadata": {},
   "outputs": [],
   "source": [
    "mPMomentumX = ???\n",
    "mPMomentumY = ???\n",
    "mPMomentumZ = ???\n",
    "mNHitsFit = ???\n",
    "mNHitsMax = ???\n",
    "mBEmcPidTraitsIndex = ???\n",
    "mBtowE = ???"
   ]
  },
  {
   "cell_type": "markdown",
   "id": "5a3c9ea5-68fb-4077-ac4b-b360713fb993",
   "metadata": {},
   "source": [
    "The types of these arrays should be"
   ]
  },
  {
   "cell_type": "code",
   "execution_count": 12,
   "id": "a6b68737-f93d-4860-8dfa-f29ef753efc6",
   "metadata": {},
   "outputs": [
    {
     "data": {
      "text/plain": [
       "(8004 * var * float32,\n",
       " 8004 * var * float32,\n",
       " 8004 * var * float32,\n",
       " 8004 * var * int8,\n",
       " 8004 * var * uint8,\n",
       " 8004 * var * int16,\n",
       " 8004 * var * float64)"
      ]
     },
     "execution_count": 12,
     "metadata": {},
     "output_type": "execute_result"
    }
   ],
   "source": [
    "(\n",
    "    mPMomentumX.type,\n",
    "    mPMomentumY.type,\n",
    "    mPMomentumZ.type,\n",
    "    mNHitsFit.type,\n",
    "    mNHitsMax.type,\n",
    "    mBEmcPidTraitsIndex.type,\n",
    "    mBtowE.type,\n",
    ")"
   ]
  },
  {
   "cell_type": "markdown",
   "id": "66818905-7947-4c6d-aed3-3e886a598edb",
   "metadata": {},
   "source": [
    "<details style=\"border: dashed 1px black; padding: 10px\">\n",
    "    <summary><b>Solutions</b> (no peeking!)</summary>\n",
    "\n",
    "<br>\n",
    "\n",
    "There are several ways to get these data; here are two.\n",
    "\n",
    "**(1)** You could navigate to each TBranch and ask for its `array`.\n",
    "\n",
    "```python\n",
    "mPMomentumX = picodst[\"Track.mPMomentumX\"].array()\n",
    "mPMomentumY = picodst[\"Track.mPMomentumY\"].array()\n",
    "mPMomentumZ = picodst[\"Track.mPMomentumZ\"].array()\n",
    "mNHitsFit = picodst[\"Track.mNHitsFit\"].array()\n",
    "mNHitsMax = picodst[\"Track.mNHitsMax\"].array()\n",
    "mBEmcPidTraitsIndex = picodst[\"Track.mBEmcPidTraitsIndex\"].array()\n",
    "mBtowE = picodst[\"EmcPidTraits.mBtowE\"].array() / 1000\n",
    "```\n",
    "<br>\n",
    "\n",
    "**(2)** You could ask the TTree for its `arrays`, with a filter to keep from reading everything over the network, then extract each field of the resulting record array. (There's a slight performance advantage to this method, since it only has to make 1 request across the network, rather than 7, _if_ you filter the TBranches to read. If you don't, _it will read all branches_, which will take much longer.)\n",
    "\n",
    "```python\n",
    "single_array = picodst.arrays(filter_name=[\n",
    "    \"Track.mPMomentum[XYZ]\",\n",
    "    \"Track.mNHits*\",\n",
    "    \"Track.mBEmcPidTraitsIndex\",\n",
    "    \"EmcPidTraits.mBtowE\",\n",
    "])\n",
    "mPMomentumX = single_array[\"Track.mPMomentumX\"]\n",
    "mPMomentumY = single_array[\"Track.mPMomentumY\"]\n",
    "mPMomentumZ = single_array[\"Track.mPMomentumZ\"]\n",
    "mNHitsFit = single_array[\"Track.mNHitsFit\"]\n",
    "mNHitsMax = single_array[\"Track.mNHitsMax\"]\n",
    "mBEmcPidTraitsIndex = single_array[\"Track.mBEmcPidTraitsIndex\"]\n",
    "mBtowE = single_array[\"EmcPidTraits.mBtowE\"] / 1000\n",
    "```\n",
    "<br>\n",
    "\n",
    "\n",
    "Either way, be sure to divide the `mBtowE` branch by 1000, as it is in the C++ code.\n",
    "</details>"
   ]
  },
  {
   "cell_type": "markdown",
   "id": "d4bc32e3-f813-4f35-91f8-5bae98919a2f",
   "metadata": {
    "tags": []
   },
   "source": [
    "### Making momentum objects with charges"
   ]
  },
  {
   "cell_type": "markdown",
   "id": "1ed827b9-c431-4e5d-b911-2809376492b9",
   "metadata": {},
   "source": [
    "The C++ code uses ROOT [TVector3](https://root.cern.ch/doc/master/classTVector3.html) and [TLorentzVector](https://root.cern.ch/doc/master/classTLorentzVector.html) objects for vector calculations. We'll use the (array-oriented) Vector library.\n",
    "\n",
    "The definitions of `pMom` and `charge` are\n",
    "\n",
    "```c++\n",
    "  TVector3 pMom() const            { return TVector3(mPMomentumX, mPMomentumY, mPMomentumZ); }\n",
    "  Short_t charge() const           { return (mNHitsFit > 0) ? 1 : -1; }\n",
    "```\n",
    "mPMomentumX, mPMomentumY, mPMomentumZ\n",
    "(Yes, the `charge` bit is hidden inside the `mNHitsFit` integer.)"
   ]
  },
  {
   "cell_type": "code",
   "execution_count": 48,
   "id": "5c360fce-f9c8-4bbd-b8cb-478ba19fe380",
   "metadata": {},
   "outputs": [],
   "source": [
    "import vector\n",
    "vector.register_awkward()"
   ]
  },
  {
   "cell_type": "code",
   "execution_count": 50,
   "id": "4fd2a510-945f-4b4f-b065-9f9de45f26ee",
   "metadata": {},
   "outputs": [
    {
     "data": {
      "text/plain": [
       "0.0005109989460999999"
      ]
     },
     "execution_count": 50,
     "metadata": {},
     "output_type": "execute_result"
    }
   ],
   "source": [
    "import particle, hepunits\n",
    "electron_mass = particle.Particle.find(\"e-\").mass / hepunits.GeV\n",
    "electron_mass"
   ]
  },
  {
   "cell_type": "markdown",
   "id": "f928973c-d9d4-4c69-b37b-4f7ca64d0210",
   "metadata": {},
   "source": [
    "**Exercise 2a:** First, make an array of `charge` as positive and negative `1` integers. You may use [ak.where](https://awkward-array.readthedocs.io/en/latest/_auto/ak.where.html) or clever arithmetic."
   ]
  },
  {
   "cell_type": "code",
   "execution_count": null,
   "id": "b069dcc5-40d4-4c13-8b60-0799506dac17",
   "metadata": {},
   "outputs": [],
   "source": [
    "charge = ???"
   ]
  },
  {
   "cell_type": "markdown",
   "id": "2685ced0-286d-4b94-8d53-f1e4da83dafc",
   "metadata": {},
   "source": [
    "The type should be:"
   ]
  },
  {
   "cell_type": "code",
   "execution_count": 53,
   "id": "5a55e834-912c-4ddb-a26b-9a38bc23a4ba",
   "metadata": {},
   "outputs": [
    {
     "data": {
      "text/plain": [
       "8004 * var * int64"
      ]
     },
     "execution_count": 53,
     "metadata": {},
     "output_type": "execute_result"
    }
   ],
   "source": [
    "charge.type"
   ]
  },
  {
   "cell_type": "markdown",
   "id": "835cb89c-8309-4ec2-b7f6-d6e13047762c",
   "metadata": {},
   "source": [
    "And the first and last values should be:"
   ]
  },
  {
   "cell_type": "code",
   "execution_count": 54,
   "id": "1fc0a723-d47f-4bee-b9e0-970656261ced",
   "metadata": {},
   "outputs": [
    {
     "data": {
      "text/plain": [
       "<Array [[1, 1, 1, 1, 1, ... 1, 1, -1, -1, 1]] type='8004 * var * int64'>"
      ]
     },
     "execution_count": 54,
     "metadata": {},
     "output_type": "execute_result"
    }
   ],
   "source": [
    "charge"
   ]
  },
  {
   "cell_type": "markdown",
   "id": "bfd83242-0c5c-4a79-82ee-c93fc1a28277",
   "metadata": {},
   "source": [
    "**Exercise 2b:** Next, use [ak.zip](https://awkward-array.readthedocs.io/en/latest/_auto/ak.zip.html) to combine `mPMomentumX`, `mPMomentumY`, `mPMomentumZ`, `electron_mass`, and `charge` into a single array of type\n",
    "\n",
    "```python\n",
    "8004 * var * {\"px\": float32, \"py\": float32, \"pz\": float32, \"M\": float64, \"charge\": int64}\n",
    "```\n",
    "\n",
    "It is very important that the type is lists of records (`var * {\"px\": float32, ...}`), not records of lists (`{\"px\": var * float32, ...}`)."
   ]
  },
  {
   "cell_type": "code",
   "execution_count": null,
   "id": "5bf0d96b-883e-4eee-8cc2-eadf8bc0316c",
   "metadata": {},
   "outputs": [],
   "source": [
    "record_array = ???"
   ]
  },
  {
   "cell_type": "markdown",
   "id": "578df68e-ca46-46da-a0a8-2304e8fae650",
   "metadata": {},
   "source": [
    "The second record in the first event should be:"
   ]
  },
  {
   "cell_type": "code",
   "execution_count": 63,
   "id": "cadf3f5c-7a24-4d5e-9da9-0aefb6c3f454",
   "metadata": {},
   "outputs": [
    {
     "data": {
      "text/plain": [
       "{'px': -0.14229480922222137,\n",
       " 'py': 0.3735402524471283,\n",
       " 'pz': 0.15136101841926575,\n",
       " 'M': 0.0005109989460999999,\n",
       " 'charge': 1}"
      ]
     },
     "execution_count": 63,
     "metadata": {},
     "output_type": "execute_result"
    }
   ],
   "source": [
    "record_array[0, 1].tolist()"
   ]
  },
  {
   "cell_type": "markdown",
   "id": "5cc05202-b554-4bbd-9065-91147624eaeb",
   "metadata": {},
   "source": [
    "**Exercise 2c:** Finally, search Awkward Array's [reference documentation](https://awkward-array.readthedocs.io/) for a way to add the `\"Momentum4D\"` name to these records to turn them into Lorentz vectors."
   ]
  },
  {
   "cell_type": "code",
   "execution_count": null,
   "id": "424b56b6-427b-4f15-a8c1-1fd6c233897b",
   "metadata": {},
   "outputs": [],
   "source": [
    "pMom = ???"
   ]
  },
  {
   "cell_type": "markdown",
   "id": "dabb5a5b-0173-4fa3-9bdc-be902ec3adbd",
   "metadata": {},
   "source": [
    "The type of `pMom` should be:"
   ]
  },
  {
   "cell_type": "code",
   "execution_count": 65,
   "id": "ff59c700-a632-427f-a8db-59a02fe90c06",
   "metadata": {},
   "outputs": [
    {
     "data": {
      "text/plain": [
       "8004 * var * Momentum4D[\"px\": float32, \"py\": float32, \"pz\": float32, \"M\": float64, \"charge\": int64]"
      ]
     },
     "execution_count": 65,
     "metadata": {},
     "output_type": "execute_result"
    }
   ],
   "source": [
    "pMom.type"
   ]
  },
  {
   "cell_type": "markdown",
   "id": "93721d8d-d508-4dc8-9c41-2181d523a1ad",
   "metadata": {},
   "source": [
    "Lorentz vector operations don't require the `\"charge\"`, but it will be convenient to keep that in the same package. The Vector library will ignore it."
   ]
  },
  {
   "cell_type": "markdown",
   "id": "a5041048-2da8-4722-9417-c05864f71809",
   "metadata": {},
   "source": [
    "<details style=\"border: dashed 1px black; padding: 10px\">\n",
    "    <summary><b>Solutions</b> (no peeking!)</summary>\n",
    "\n",
    "<br>\n",
    "\n",
    "The charge can be computed using:\n",
    "\n",
    "```python\n",
    "charge = ak.where(mNHitsFit > 0, 1, -1)\n",
    "```\n",
    "<br>\n",
    "\n",
    "or \"clever arithmetic\" (booleans in a numerical expression become `false → 0`, `true → 1`):\n",
    "\n",
    "```python\n",
    "charge = (mNHitsFit > 0) * 2 - 1\n",
    "```\n",
    "<br>\n",
    "\n",
    "Making the record array is a direct application of [ak.zip](https://awkward-array.readthedocs.io/en/latest/_auto/ak.zip.html):\n",
    "\n",
    "```python\n",
    "record_array = ak.zip(\n",
    "    {\"px\": mPMomentumX, \"py\": mPMomentumY, \"pz\": mPMomentumZ, \"M\": electron_mass, \"charge\": charge}\n",
    ")\n",
    "```\n",
    "<br>\n",
    "\n",
    "Combining the variable-length lists of `mPMomentumX`, `mPMomentumY`, `mPMomentumZ`, and `charge` is just what [ak.zip](https://awkward-array.readthedocs.io/en/latest/_auto/ak.zip.html) does (and if those lists had different lengths, it would raise an error). Only using `depth_limit=1` or the [ak.Array](https://awkward-array.readthedocs.io/en/latest/_auto/ak.Array.html) constructor would produce the wrong type.\n",
    "\n",
    "Also, the constant `electron_mass` does not need special handling. Constants and lower-dimension arrays are [broadcasted](https://awkward-array.readthedocs.io/en/latest/_auto/ak.broadcast_arrays.html) to the same shape as larger-dimension arrays when used in the same function. (This is similar to, but an extension of, NumPy's [concept of broadcasting](https://numpy.org/doc/stable/user/basics.broadcasting.html).)\n",
    "\n",
    "Finally, to add the `\"Momentum4D\"` name to all the records, you could use [ak.zip](https://awkward-array.readthedocs.io/en/latest/_auto/ak.zip.html) again, as it has a `with_name` argument:\n",
    "\n",
    "```python\n",
    "pMom = ak.zip(\n",
    "    {\"px\": mPMomentumX, \"py\": mPMomentumY, \"pz\": mPMomentumZ, \"M\": electron_mass, \"charge\": charge},\n",
    "    with_name=\"Momentum4D\",\n",
    ")\n",
    "```\n",
    "<br>\n",
    "\n",
    "Or pass the already-built `record_array` into [ak.with_name](https://awkward-array.readthedocs.io/en/latest/_auto/ak.with_name.html):\n",
    "\n",
    "```python\n",
    "pMom = ak.with_name(record_array, \"Momentum4D\")\n",
    "```\n",
    "<br>\n",
    "\n",
    "Or pass the already-built `record_array` into the [ak.Array](https://awkward-array.readthedocs.io/en/latest/_auto/ak.Array.html) constructor with a `with_name` argument:\n",
    "\n",
    "```python\n",
    "pMom = ak.Array(record_array, with_name=\"Momentum4D\")\n",
    "```\n",
    "</details>"
   ]
  },
  {
   "cell_type": "markdown",
   "id": "372efdc3-e02c-48bb-b654-8ccbc5b86bf2",
   "metadata": {
    "jp-MarkdownHeadingCollapsed": true,
    "tags": []
   },
   "source": [
    "### Computing track cuts"
   ]
  },
  {
   "cell_type": "markdown",
   "id": "c341c7ec-0774-4e32-93f2-8da5148ec339",
   "metadata": {
    "tags": []
   },
   "source": [
    "In the C++, the following cuts are applied to the tracks:\n",
    "\n",
    "```c++\n",
    "if (!picoTrack->isPrimary()) continue;\n",
    "if (picoTrack->nHitsFit() / picoTrack()->nHitsMax() < 0.2) continue;\n",
    "if (picoTrack->isBemcTrack()) {\n",
    "  // ...\n",
    "}\n",
    "```\n",
    "\n",
    "Some of the cuts in C++ are applied by jumping to the next loop iteration with `continue` (a dangerous practice, in my opinion) while another is in a nested `if` statement. Note that the `continue` conditions describe the _opposite_ of a good track.\n",
    "\n",
    "The quantities used in the cuts are defined in [star-picodst-reference/StPicoTrack.h](star-picodst-reference/StPicoTrack.h):\n",
    "\n",
    "```c++\n",
    "  Bool_t isPrimary() const         { return ( pMom().Mag()>0 ); }\n",
    "  TVector3 pMom() const            { return TVector3(mPMomentumX, mPMomentumY, mPMomentumZ); }\n",
    "\n",
    "  Int_t   nHitsFit() const         { return (mNHitsFit > 0) ? (Int_t)mNHitsFit : (Int_t)(-1 * mNHitsFit); }\n",
    "  Int_t   nHitsMax() const         { return (Int_t)mNHitsMax; }\n",
    "\n",
    "  Bool_t isBemcTrack() const       { return (mBEmcPidTraitsIndex<0) ? false : true; }\n",
    "```\n",
    "\n",
    "**Exercise 3:** Convert these cuts into a [boolean array slice](https://awkward-array.readthedocs.io/en/latest/_auto/ak.Array.html#filtering)."
   ]
  },
  {
   "cell_type": "code",
   "execution_count": null,
   "id": "51e0d20c-0a04-4b5f-8896-41487cf6533a",
   "metadata": {},
   "outputs": [],
   "source": [
    "isPrimary = ???\n",
    "nHitsFit = ???\n",
    "nHitsMax = ???\n",
    "isBemcTrack = ???\n",
    "\n",
    "track_quality_cuts = ???"
   ]
  },
  {
   "cell_type": "markdown",
   "id": "3f8c6a55-a5d5-4827-9525-cb1f7c571489",
   "metadata": {},
   "source": [
    "The type of `track_quality_cuts` should be:"
   ]
  },
  {
   "cell_type": "code",
   "execution_count": 15,
   "id": "0ae97fec-bcb1-4a5b-ace4-c837c6fe8cfd",
   "metadata": {},
   "outputs": [
    {
     "data": {
      "text/plain": [
       "8004 * var * bool"
      ]
     },
     "execution_count": 15,
     "metadata": {},
     "output_type": "execute_result"
    }
   ],
   "source": [
    "track_quality_cuts.type"
   ]
  },
  {
   "cell_type": "markdown",
   "id": "0d069e56-7709-43b4-8db0-6fd24313e550",
   "metadata": {},
   "source": [
    "And the number of passing tracks in the first and last events should be:"
   ]
  },
  {
   "cell_type": "code",
   "execution_count": 16,
   "id": "1d4e86f4-83e3-450a-b4b1-ecafef0a4558",
   "metadata": {},
   "outputs": [
    {
     "data": {
      "text/plain": [
       "<Array [3, 2, 2, 1, 2, 1, ... 1, 1, 2, 1, 4, 4] type='8004 * int64'>"
      ]
     },
     "execution_count": 16,
     "metadata": {},
     "output_type": "execute_result"
    }
   ],
   "source": [
    "np.count_nonzero(track_quality_cuts, axis=1)"
   ]
  },
  {
   "cell_type": "markdown",
   "id": "74b85049-a428-4a51-b194-557259ef155b",
   "metadata": {},
   "source": [
    "<details style=\"border: dashed 1px black; padding: 10px\">\n",
    "    <summary><b>Solutions</b> (no peeking!)</summary>\n",
    "\n",
    "<br>\n",
    "\n",
    "There are several equivalent ways to compute `isPrimary`:\n",
    "\n",
    "```python\n",
    "isPrimary = (abs(mPMomentumX) > 0) & (abs(mPMomentumY) > 0) & (abs(mPMomentumZ) > 0)\n",
    "```\n",
    "<br>\n",
    "\n",
    "and\n",
    "\n",
    "```python\n",
    "isPrimary = mPMomentumX**2 + mPMomentumY**2 + mPMomentumZ**2 > 0   # or with np.sqrt\n",
    "```\n",
    "<br>\n",
    "\n",
    "The most straightforward way to compute `nHitsFit` is:\n",
    "\n",
    "```python\n",
    "nHitsFit = abs(mNHitsFit)\n",
    "```\n",
    "<br>\n",
    "\n",
    "but you could use [ak.where](https://awkward-array.readthedocs.io/en/latest/_auto/ak.where.html)/[np.where](https://numpy.org/doc/stable/reference/generated/numpy.where.html) to make it look more like the C++:\n",
    "\n",
    "```python\n",
    "nHitsFit = np.where(mNHitsFit > 0, mNHitsFit, -1 * mNHitsFit)\n",
    "```\n",
    "<br>\n",
    "\n",
    "`nHitsMax` is exactly equal to `mNHitsMax`, and `isBemcTrack` is:\n",
    "\n",
    "```python\n",
    "isBemcTrack = mBEmcPidTraitsIndex >= 0   # be sure to get the inequality right\n",
    "```\n",
    "<br>\n",
    "\n",
    "or\n",
    "\n",
    "```python\n",
    "isBemcTrack = np.where(mBEmcPidTraitsIndex < 0, False, True)\n",
    "```\n",
    "<br>\n",
    "\n",
    "to make it look more like the C++.\n",
    "\n",
    "Finally, `track_quality_cuts` is a logical-AND of three selections:\n",
    "\n",
    "```python\n",
    "track_quality_cuts = isPrimary & (nHitsFit / nHitsMax >= 0.2) & isBemcTrack\n",
    "```\n",
    "<br>\n",
    "\n",
    "Be sure to get the inequality right: `continue` _throws away_ bad tracks, but we want an expression that will _keep_ good tracks.\n",
    "</details>"
   ]
  },
  {
   "cell_type": "markdown",
   "id": "b817bc93-bc0e-47d6-be16-dff003cb85aa",
   "metadata": {
    "jp-MarkdownHeadingCollapsed": true,
    "tags": []
   },
   "source": [
    "### Matching tracks to electromagnetic showers"
   ]
  },
  {
   "cell_type": "markdown",
   "id": "0930e1e6-d18a-4349-8491-3e83769a7128",
   "metadata": {},
   "source": [
    "The final track quality cut requires us to match the track with its corresponding shower. Tracks and showers have different multiplicities."
   ]
  },
  {
   "cell_type": "code",
   "execution_count": 31,
   "id": "f38560ce-dacd-420f-9868-5a312975a7d7",
   "metadata": {},
   "outputs": [
    {
     "data": {
      "text/plain": [
       "(<Array [2594, 2513, 2909, ... 2441, 2586, 2321] type='8004 * int64'>,\n",
       " <Array [7, 4, 4, 2, 4, 1, ... 2, 2, 7, 1, 8, 8] type='8004 * int64'>)"
      ]
     },
     "execution_count": 31,
     "metadata": {},
     "output_type": "execute_result"
    }
   ],
   "source": [
    "ak.num(mPMomentumX), ak.num(mBtowE)"
   ]
  },
  {
   "cell_type": "markdown",
   "id": "1ec3d7cc-6d7c-4193-a871-14e8c6f1c52f",
   "metadata": {},
   "source": [
    "The PicoDst file provides us with an index for each track that is the position of the corresponding shower in the showers array. It is `-1` when there is no corresponding shower."
   ]
  },
  {
   "cell_type": "code",
   "execution_count": 32,
   "id": "8db3bad2-a78d-4849-b381-d836632a6e52",
   "metadata": {},
   "outputs": [
    {
     "data": {
      "text/plain": [
       "<Array [[-1, -1, -1, -1, ... -1, -1, -1, -1]] type='8004 * var * int16'>"
      ]
     },
     "execution_count": 32,
     "metadata": {},
     "output_type": "execute_result"
    }
   ],
   "source": [
    "mBEmcPidTraitsIndex"
   ]
  },
  {
   "cell_type": "markdown",
   "id": "bc428e24-f098-43af-a1bb-3f2552d4845c",
   "metadata": {},
   "source": [
    "**Exercise 4:** Filter `mBEmcPidTraitsIndex` with `track_quality_cuts` and make an array of shower energy `mBtowE` for each quality track."
   ]
  },
  {
   "cell_type": "code",
   "execution_count": null,
   "id": "75829309-086d-45e3-8d6f-7bab39ecaade",
   "metadata": {},
   "outputs": [],
   "source": [
    "quality_mBtowE = ???"
   ]
  },
  {
   "cell_type": "markdown",
   "id": "781383c3-321f-4a76-b478-47be738693f8",
   "metadata": {},
   "source": [
    "The type of `quality_mBtowE` should be:"
   ]
  },
  {
   "cell_type": "code",
   "execution_count": 34,
   "id": "9c3e2df5-0b00-4604-a4ea-1110282305ae",
   "metadata": {},
   "outputs": [
    {
     "data": {
      "text/plain": [
       "8004 * var * float64"
      ]
     },
     "execution_count": 34,
     "metadata": {},
     "output_type": "execute_result"
    }
   ],
   "source": [
    "quality_mBtowE.type"
   ]
  },
  {
   "cell_type": "markdown",
   "id": "cd144142-5e40-4e4e-ba37-ecf49330e770",
   "metadata": {},
   "source": [
    "Its first and last values should be:"
   ]
  },
  {
   "cell_type": "code",
   "execution_count": 35,
   "id": "7f0f30a2-28ca-4f7f-a452-63b4d28a7635",
   "metadata": {},
   "outputs": [
    {
     "data": {
      "text/plain": [
       "<Array [[1.71, 32.8, 0], ... 0, 17.8, 0.36]] type='8004 * var * float64'>"
      ]
     },
     "execution_count": 35,
     "metadata": {},
     "output_type": "execute_result"
    }
   ],
   "source": [
    "quality_mBtowE"
   ]
  },
  {
   "cell_type": "markdown",
   "id": "7b3777ca-388b-4475-ab8b-520f3ec45aef",
   "metadata": {},
   "source": [
    "And it should have as many values in each event as there are \"`true`\" booleans in `track_quality_cuts`:"
   ]
  },
  {
   "cell_type": "code",
   "execution_count": 46,
   "id": "39648e20-725a-473c-b2bc-74aceff8beb2",
   "metadata": {},
   "outputs": [
    {
     "data": {
      "text/plain": [
       "<Array [3, 2, 2, 1, 2, 1, ... 1, 1, 2, 1, 4, 4] type='8004 * int64'>"
      ]
     },
     "execution_count": 46,
     "metadata": {},
     "output_type": "execute_result"
    }
   ],
   "source": [
    "ak.num(quality_mBtowE)"
   ]
  },
  {
   "cell_type": "code",
   "execution_count": 47,
   "id": "0960eb6e-79ff-432d-8464-c9fa16503fda",
   "metadata": {},
   "outputs": [
    {
     "data": {
      "text/plain": [
       "True"
      ]
     },
     "execution_count": 47,
     "metadata": {},
     "output_type": "execute_result"
    }
   ],
   "source": [
    "np.all(ak.num(quality_mBtowE) == np.count_nonzero(track_quality_cuts, axis=1))"
   ]
  },
  {
   "cell_type": "markdown",
   "id": "e0948da5-5243-4649-ab49-fd7af98238cb",
   "metadata": {},
   "source": [
    "<details style=\"border: dashed 1px black; padding: 10px\">\n",
    "    <summary><b>Solutions</b> (no peeking!)</summary>\n",
    "\n",
    "<br>\n",
    "\n",
    "The answer could be written in one line:\n",
    "\n",
    "```python\n",
    "quality_mBtowE = mBtowE[mBEmcPidTraitsIndex[track_quality_cuts]]\n",
    "```\n",
    "<br>\n",
    "\n",
    "The first part, `mBEmcPidTraitsIndex[track_quality_cuts]`, applies the track quality cuts to the `mBEmcPidTraitsIndex` so that there are no more `-1` values in it. The remaining array of lists of integers is exactly what is required to pick energy values from `mBtowE` in lists of the right lengths and orders.\n",
    "\n",
    "Naturally, you could write it in two lines (or as many as you find easy to read).\n",
    "\n",
    "If you know about [ak.mask](https://awkward-array.readthedocs.io/en/latest/_auto/ak.mask.html), you might have tried masking `mBEmcPidTraitsIndex` instead of filtering it:\n",
    "\n",
    "```python\n",
    "quality_mBEmcPidTraitsIndex = mBEmcPidTraitsIndex.mask[track_quality_cuts]\n",
    "quality_mBtowE = mBtowE[quality_mBEmcPidTraitsIndex]\n",
    "```\n",
    "<br>\n",
    "\n",
    "Instead of changing the lengths of the lists by dropping bad tracks, this would replace them with missing value placeholders (\"`None`\"). _This is not wrong,_ and it's a good alternative to the overall problem because it simplifies the process of filtering filtered data. (The placeholders keep the arrays the same lengths, so cuts can be applied in any order.)\n",
    "\n",
    "However, it changes how the next step would have to be handled, and you'd eventually have to use [ak.is_none](https://awkward-array.readthedocs.io/en/latest/_auto/ak.is_none.html) to remove the missing values. For the sake of this walkthrough, to keep everyone on the same page, let's not do that.\n",
    "</details>"
   ]
  },
  {
   "cell_type": "markdown",
   "id": "a7a37cc7-6cc3-42f5-a9a9-a8ea14d079da",
   "metadata": {
    "jp-MarkdownHeadingCollapsed": true,
    "tags": []
   },
   "source": [
    "### Applying the energy cut and making track-pairs"
   ]
  },
  {
   "cell_type": "markdown",
   "id": "f576bdf1-14ef-462c-ad88-70f77f1e983c",
   "metadata": {},
   "source": [
    "The last quality cut requires total track momentum divided by shower energy to be at least 0.1.\n",
    "\n",
    "We can get the total track momentum from `pMom.mag` (3D magnitude of 3D or 4D vectors), but apply the quality cuts to it so that it has the same length as `quality_mBtowE` (which already has quality cuts applied)."
   ]
  },
  {
   "cell_type": "code",
   "execution_count": 80,
   "id": "f3e6452f-fd1b-4679-bf29-8eb46b27175a",
   "metadata": {},
   "outputs": [
    {
     "data": {
      "text/plain": [
       "<Array [[0, 0.427, 0, 0, 0, ... 0, 0, 0, 0, 0]] type='8004 * var * float32'>"
      ]
     },
     "execution_count": 80,
     "metadata": {},
     "output_type": "execute_result"
    }
   ],
   "source": [
    "pMom.mag"
   ]
  },
  {
   "cell_type": "code",
   "execution_count": 79,
   "id": "4ade5947-d467-41b9-ba56-68f3a5dc7eef",
   "metadata": {},
   "outputs": [
    {
     "data": {
      "text/plain": [
       "<Array [[1.07, 24.4, 2.81, ... 18.6, 1.88]] type='8004 * var * float32'>"
      ]
     },
     "execution_count": 79,
     "metadata": {},
     "output_type": "execute_result"
    }
   ],
   "source": [
    "quality_total_momentum = pMom[track_quality_cuts].mag\n",
    "quality_total_momentum"
   ]
  },
  {
   "cell_type": "code",
   "execution_count": 84,
   "id": "1f3f951f-368f-45b4-b790-dd656cef7275",
   "metadata": {},
   "outputs": [
    {
     "data": {
      "text/plain": [
       "<Array [[0.626, 0.745, inf, ... 1.04, 5.23]] type='8004 * var * float64'>"
      ]
     },
     "execution_count": 84,
     "metadata": {},
     "output_type": "execute_result"
    }
   ],
   "source": [
    "quality_pOverE = quality_total_momentum / quality_mBtowE\n",
    "quality_pOverE"
   ]
  },
  {
   "cell_type": "markdown",
   "id": "16c78726-7523-42cf-8ddc-d60b65d5621e",
   "metadata": {},
   "source": [
    "(You may see a warning when calculating the above; some values of the denominator are zero. It's possible to selectively suppress such messages with NumPy's [np.errstate](https://numpy.org/doc/stable/reference/generated/numpy.errstate.html).)"
   ]
  },
  {
   "cell_type": "code",
   "execution_count": 85,
   "id": "58f13fac-bc20-4cd7-8737-d03138c77d53",
   "metadata": {},
   "outputs": [],
   "source": [
    "quality_pOverE_cut = (quality_pOverE >= 0.1)"
   ]
  },
  {
   "cell_type": "code",
   "execution_count": 86,
   "id": "5cdf9894-c4ce-45ff-bff5-e138e0ba63b5",
   "metadata": {},
   "outputs": [
    {
     "data": {
      "text/plain": [
       "<Array [3, 2, 2, 1, 2, 1, ... 1, 1, 2, 1, 3, 4] type='8004 * int64'>"
      ]
     },
     "execution_count": 86,
     "metadata": {},
     "output_type": "execute_result"
    }
   ],
   "source": [
    "np.count_nonzero(quality_pOverE_cut, axis=1)"
   ]
  },
  {
   "cell_type": "markdown",
   "id": "241ce261-c7a3-4e84-aaf5-1710a210aafb",
   "metadata": {},
   "source": [
    "An array with all cuts applied, the equivalent of `goodTracks` in the C++, is:"
   ]
  },
  {
   "cell_type": "code",
   "execution_count": 87,
   "id": "7bdfe17c-403f-4593-a5fd-fac1ce9cb6da",
   "metadata": {},
   "outputs": [
    {
     "data": {
      "text/plain": [
       "<MomentumArray4D [[{px: 0.000914, ... charge: -1}]] type='8004 * var * Momentum4...'>"
      ]
     },
     "execution_count": 87,
     "metadata": {},
     "output_type": "execute_result"
    }
   ],
   "source": [
    "goodTracks = pMom[track_quality_cuts][quality_pOverE_cut]\n",
    "goodTracks"
   ]
  },
  {
   "cell_type": "markdown",
   "id": "e8dca9f1-47b1-4e38-8aab-6dc7a09aa39b",
   "metadata": {},
   "source": [
    "(As mentioned in one of the solutions, above, [ak.mask](https://awkward-array.readthedocs.io/en/latest/_auto/ak.mask.html) would allow `track_quality_cuts` and `quality_pOverE_cut` to be applied in either order, at the expense of having to remove the placeholder \"`None`\" values with [ak.is_none](https://awkward-array.readthedocs.io/en/latest/_auto/ak.is_none.html). Extra credit if you can rework all of the above to use this technique.)"
   ]
  },
  {
   "cell_type": "markdown",
   "id": "b2151ed0-7932-4624-9a5a-2dfd6f50dfc1",
   "metadata": {},
   "source": [
    "**Exercise 5a:** Use [ak.combinations](https://awkward-array.readthedocs.io/en/latest/_auto/ak.combinations.html) to make all pairs of good tracks, per event, the equivalent of this code:\n",
    "\n",
    "```c++\n",
    "for (UInt_t i = 0; i < goodTracks.size(); i++) {\n",
    "  for (UInt_t j = i + 1; j < goodTracks.size(); j++) {\n",
    "    // make Lorentz vectors with electron mass\n",
    "    TLorentzVector one(goodTracks[i].pMom(), 0.0005109989461);\n",
    "    TLorentzVector two(goodTracks[j].pMom(), 0.0005109989461);\n",
    "```"
   ]
  },
  {
   "cell_type": "code",
   "execution_count": null,
   "id": "72aef766-bede-4c0e-bbbe-b20c9622853f",
   "metadata": {},
   "outputs": [],
   "source": [
    "pairs = ???"
   ]
  },
  {
   "cell_type": "markdown",
   "id": "7a2386a7-50f9-45d4-b418-83c215c700fa",
   "metadata": {},
   "source": [
    "The type of `pairs` should be lists of 2-tuples of Momentum4D:"
   ]
  },
  {
   "cell_type": "code",
   "execution_count": 92,
   "id": "27dd380c-9329-4f0f-ba11-79cd77ce919e",
   "metadata": {},
   "outputs": [
    {
     "data": {
      "text/plain": [
       "8004 * var * (Momentum4D[\"px\": float32, \"py\": float32, \"pz\": float32, \"M\": float64, \"charge\": int64], Momentum4D[\"px\": float32, \"py\": float32, \"pz\": float32, \"M\": float64, \"charge\": int64])"
      ]
     },
     "execution_count": 92,
     "metadata": {},
     "output_type": "execute_result"
    }
   ],
   "source": [
    "pairs.type"
   ]
  },
  {
   "cell_type": "markdown",
   "id": "f6c1d806-7766-47d7-88b2-c29c67ea33d0",
   "metadata": {},
   "source": [
    "And the number of such pairs in the first and last events should be:"
   ]
  },
  {
   "cell_type": "code",
   "execution_count": 93,
   "id": "b4069776-6196-4354-9bd4-33ae84ec284a",
   "metadata": {},
   "outputs": [
    {
     "data": {
      "text/plain": [
       "<Array [3, 1, 1, 0, 1, 0, ... 0, 0, 1, 0, 3, 6] type='8004 * int64'>"
      ]
     },
     "execution_count": 93,
     "metadata": {},
     "output_type": "execute_result"
    }
   ],
   "source": [
    "ak.num(pairs)"
   ]
  },
  {
   "cell_type": "markdown",
   "id": "bf39fc86-051a-4aec-92c3-59c98122dbbf",
   "metadata": {},
   "source": [
    "Note that this is not the same as the number of good tracks:"
   ]
  },
  {
   "cell_type": "code",
   "execution_count": 97,
   "id": "d15f098a-42e2-4d55-aa74-ecbc168d27b7",
   "metadata": {},
   "outputs": [
    {
     "data": {
      "text/plain": [
       "<Array [3, 2, 2, 1, 2, 1, ... 1, 1, 2, 1, 3, 4] type='8004 * int64'>"
      ]
     },
     "execution_count": 97,
     "metadata": {},
     "output_type": "execute_result"
    }
   ],
   "source": [
    "ak.num(goodTracks)"
   ]
  },
  {
   "cell_type": "markdown",
   "id": "b18af8e7-4fef-4310-85a5-230bad0f9e0c",
   "metadata": {},
   "source": [
    "In particular, 3 good tracks → 3 pairs, 2 good tracks → 1 pair, and 4 good tracks → 6 pairs ($n$ choose $2$ = $n(n - 1)/2$ for $n$ good tracks)."
   ]
  },
  {
   "cell_type": "markdown",
   "id": "f9bb3caf-d1f4-457e-9b2c-f89da7e9b52d",
   "metadata": {},
   "source": [
    "**Exercise 5b:** Search Awkward Array's [reference documentation](https://awkward-array.readthedocs.io/) for a way to get an array named `one` with the first of each pair and an array named `two` with the second of each pair, as two arrays with equal-length lists."
   ]
  },
  {
   "cell_type": "code",
   "execution_count": null,
   "id": "cbbc9929-807e-45f5-b4db-665434900e99",
   "metadata": {},
   "outputs": [],
   "source": [
    "one, two = ???"
   ]
  },
  {
   "cell_type": "markdown",
   "id": "61c0ed20-fd48-4d50-85ec-fe4f305b1ff2",
   "metadata": {},
   "source": [
    "The types of `one` and `two` should be:"
   ]
  },
  {
   "cell_type": "code",
   "execution_count": 102,
   "id": "028e1173-9d8d-4032-bb93-e36532bce854",
   "metadata": {},
   "outputs": [
    {
     "data": {
      "text/plain": [
       "(8004 * var * Momentum4D[\"px\": float32, \"py\": float32, \"pz\": float32, \"M\": float64, \"charge\": int64],\n",
       " 8004 * var * Momentum4D[\"px\": float32, \"py\": float32, \"pz\": float32, \"M\": float64, \"charge\": int64])"
      ]
     },
     "execution_count": 102,
     "metadata": {},
     "output_type": "execute_result"
    }
   ],
   "source": [
    "one.type, two.type"
   ]
  },
  {
   "cell_type": "markdown",
   "id": "ab6aacc2-560a-4f5b-ba5c-71458a2b8216",
   "metadata": {},
   "source": [
    "And the lengths of their lists should be the same as `ak.num(goodTracks)` (above)."
   ]
  },
  {
   "cell_type": "code",
   "execution_count": 103,
   "id": "aef99893-c510-42ce-b352-328d8a42c54e",
   "metadata": {},
   "outputs": [
    {
     "data": {
      "text/plain": [
       "(<Array [3, 1, 1, 0, 1, 0, ... 0, 0, 1, 0, 3, 6] type='8004 * int64'>,\n",
       " <Array [3, 1, 1, 0, 1, 0, ... 0, 0, 1, 0, 3, 6] type='8004 * int64'>)"
      ]
     },
     "execution_count": 103,
     "metadata": {},
     "output_type": "execute_result"
    }
   ],
   "source": [
    "ak.num(one), ak.num(two)"
   ]
  },
  {
   "cell_type": "markdown",
   "id": "cf03eb84-2271-445e-806a-23d9fc166f97",
   "metadata": {},
   "source": [
    "**Hint:** Remember how we _combined_ arrays of lists of the same lengths into `record_array`? This is the opposite of that.\n",
    "\n",
    "<details style=\"border: dashed 1px black; padding: 10px\">\n",
    "    <summary><b>Solutions</b> (no peeking!)</summary>\n",
    "\n",
    "<br>\n",
    "\n",
    "The first step is a direct application of the [ak.combinations](https://awkward-array.readthedocs.io/en/latest/_auto/ak.combinations.html) function:\n",
    "\n",
    "```python\n",
    "pairs = ak.combinations(goodTracks, 2)\n",
    "```\n",
    "<br>\n",
    "\n",
    "The default `axis` is `axis=1`, which means to find all combinations in each entry. (Not all combinations of entries, which would be `axis=0`!)\n",
    "\n",
    "The second step could be a direct application of [ak.unzip](https://awkward-array.readthedocs.io/en/latest/_auto/ak.unzip.html):\n",
    "\n",
    "```python\n",
    "one, two = ak.unzip(pairs)\n",
    "```\n",
    "<br>\n",
    "\n",
    "But tuples, like the 2-tuples in these `pairs`, are just records with unnamed fields. We can extract record fields with string-valued slices, and tuples can be indexed by position, so the slices that would extract the first of all tuple fields and the second of all tuple fields is `\"0\"` (a string!) and `\"1\"` (a string!).\n",
    "\n",
    "```python\n",
    "one, two = pairs[\"0\"], pairs[\"1\"]\n",
    "```\n",
    "<br>\n",
    "\n",
    "That's prone to misunderstanding: the numbers really must be inside strings. Perhaps a safer way to do it is:\n",
    "\n",
    "```python\n",
    "one, two = pairs.slot0, pairs.slot1\n",
    "```\n",
    "<br>\n",
    "\n",
    "which works up to `slot9`. Whereas these methods extract one tuple-field at a time, [ak.unzip](https://awkward-array.readthedocs.io/en/latest/_auto/ak.unzip.html) extracts all fields (of any tuple _or_ record).\n",
    "</details>"
   ]
  },
  {
   "cell_type": "markdown",
   "id": "cabbfdd2-c7b0-4d7d-ac98-96e33a005bdd",
   "metadata": {
    "jp-MarkdownHeadingCollapsed": true,
    "tags": []
   },
   "source": [
    "### Selecting opposite-sign charges among those pairs"
   ]
  },
  {
   "cell_type": "markdown",
   "id": "15072f25-a8d1-41a4-af88-e22e3e8d4bfb",
   "metadata": {},
   "source": [
    "The opposite-sign charge cut is not a track quality cut, since it depends on a relationship between two tracks.\n",
    "\n",
    "Now we have arrays `one` and `two` representing the left and right halves of those pairs, and we can define and apply the cut."
   ]
  },
  {
   "cell_type": "markdown",
   "id": "8c70c59d-107f-4943-b57a-f0c09ca64782",
   "metadata": {},
   "source": [
    "**Exercise 6a:** Make an array of booleans that are `true` for opposite-sign charges and `false` for same-sign charges."
   ]
  },
  {
   "cell_type": "code",
   "execution_count": null,
   "id": "5d45763f-c93c-4bc7-8db3-ec171a6be79d",
   "metadata": {},
   "outputs": [],
   "source": [
    "opposite_charge_cut = ???"
   ]
  },
  {
   "cell_type": "markdown",
   "id": "f3b0b97c-9e3c-468b-9d4c-b6254efee039",
   "metadata": {},
   "source": [
    "The type should be:"
   ]
  },
  {
   "cell_type": "code",
   "execution_count": 105,
   "id": "f37fc4c4-8ec5-4193-862f-538b82a5daeb",
   "metadata": {},
   "outputs": [
    {
     "data": {
      "text/plain": [
       "8004 * var * bool"
      ]
     },
     "execution_count": 105,
     "metadata": {},
     "output_type": "execute_result"
    }
   ],
   "source": [
    "opposite_charge_cut.type"
   ]
  },
  {
   "cell_type": "markdown",
   "id": "18345650-a877-4579-a526-70b85b626c1a",
   "metadata": {},
   "source": [
    "And the number of `true` values in the first and last events should be:"
   ]
  },
  {
   "cell_type": "code",
   "execution_count": 115,
   "id": "2e8d42e8-41c5-42bd-8b33-6d585eeba356",
   "metadata": {},
   "outputs": [
    {
     "data": {
      "text/plain": [
       "<Array [2, 1, 0, 0, 1, 0, ... 0, 0, 1, 0, 2, 3] type='8004 * int64'>"
      ]
     },
     "execution_count": 115,
     "metadata": {},
     "output_type": "execute_result"
    }
   ],
   "source": [
    "ak.count_nonzero(opposite_charge_cut, axis=1)"
   ]
  },
  {
   "cell_type": "markdown",
   "id": "e2678db0-2c74-4712-a32c-0c2b9371ba4c",
   "metadata": {},
   "source": [
    "**Exercise 6b:** Apply that cut to `one` and `two`."
   ]
  },
  {
   "cell_type": "code",
   "execution_count": null,
   "id": "a9886c95-85e4-49b3-9d57-8e26aa98f83f",
   "metadata": {},
   "outputs": [],
   "source": [
    "quality_one = ???\n",
    "quality_two = ???"
   ]
  },
  {
   "cell_type": "markdown",
   "id": "cc8b6372-2ee1-4e7d-9cb0-6f34292dc831",
   "metadata": {},
   "source": [
    "The types should be remain:"
   ]
  },
  {
   "cell_type": "code",
   "execution_count": 110,
   "id": "1356a066-1796-4d49-8d22-603c6b9b7fb7",
   "metadata": {},
   "outputs": [
    {
     "data": {
      "text/plain": [
       "(8004 * var * Momentum4D[\"px\": float32, \"py\": float32, \"pz\": float32, \"M\": float64, \"charge\": int64],\n",
       " 8004 * var * Momentum4D[\"px\": float32, \"py\": float32, \"pz\": float32, \"M\": float64, \"charge\": int64])"
      ]
     },
     "execution_count": 110,
     "metadata": {},
     "output_type": "execute_result"
    }
   ],
   "source": [
    "quality_one.type, quality_two.type"
   ]
  },
  {
   "cell_type": "markdown",
   "id": "4d118f99-2728-44a6-a7ab-88916825c569",
   "metadata": {},
   "source": [
    "And the lengths of the lists should become:"
   ]
  },
  {
   "cell_type": "code",
   "execution_count": 111,
   "id": "8476b1d1-4ea5-422d-99ab-6f68dce490dc",
   "metadata": {},
   "outputs": [
    {
     "data": {
      "text/plain": [
       "(<Array [2, 1, 0, 0, 1, 0, ... 0, 0, 1, 0, 2, 3] type='8004 * int64'>,\n",
       " <Array [2, 1, 0, 0, 1, 0, ... 0, 0, 1, 0, 2, 3] type='8004 * int64'>)"
      ]
     },
     "execution_count": 111,
     "metadata": {},
     "output_type": "execute_result"
    }
   ],
   "source": [
    "ak.num(quality_one), ak.num(quality_two)"
   ]
  },
  {
   "cell_type": "markdown",
   "id": "1b00faa2-0d65-4019-aa87-13814f26a8c3",
   "metadata": {},
   "source": [
    "<details style=\"border: dashed 1px black; padding: 10px\">\n",
    "    <summary><b>Solutions</b> (no peeking!)</summary>\n",
    "\n",
    "<br>\n",
    "\n",
    "I've seen three different ways people calculate opposite-sign charges. I think this is the simplest:\n",
    "\n",
    "```python\n",
    "opposite_charge_cut = one.charge != two.charge\n",
    "```\n",
    "<br>\n",
    "\n",
    "This one is also intuitive, since the Z boson that decays to two electrons has net zero charge:\n",
    "\n",
    "```python\n",
    "opposite_charge_cut = one.charge + two.charge == 0\n",
    "```\n",
    "<br>\n",
    "\n",
    "This one is odd, but I see it quite a lot:\n",
    "\n",
    "```python\n",
    "opposite_charge_cut = one.charge * two.charge == -1\n",
    "```\n",
    "<br>\n",
    "\n",
    "As for applying the cut, the pattern should be getting familiar:\n",
    "\n",
    "\n",
    "```python\n",
    "quality_one = one[opposite_charge_cut]\n",
    "quality_two = two[opposite_charge_cut]\n",
    "```\n",
    "</details>"
   ]
  },
  {
   "cell_type": "markdown",
   "id": "17a3a2c1-e3d8-4869-adfd-856f191ef43f",
   "metadata": {
    "jp-MarkdownHeadingCollapsed": true,
    "tags": []
   },
   "source": [
    "### Computing invariant mass of the track pairs"
   ]
  },
  {
   "cell_type": "markdown",
   "id": "2624b1c3-3bad-46a3-a349-04e4b43530ca",
   "metadata": {},
   "source": [
    "Up to this point, the only Lorentz vector method that we used was `mag`. Now we want to add the left and right halves of each pair and compute their invariant mass.\n",
    "\n",
    "**Exercise 7:** Check the [Vector documentation](https://vector.readthedocs.io/en/latest/usage/intro.html) and figure out how to do that."
   ]
  },
  {
   "cell_type": "code",
   "execution_count": null,
   "id": "d8127ecc-298d-4627-aab8-0674ea765392",
   "metadata": {},
   "outputs": [],
   "source": [
    "invariant_mass = ???"
   ]
  },
  {
   "cell_type": "markdown",
   "id": "de1d5387-8dc4-4852-b7c1-0cec9b1512dc",
   "metadata": {},
   "source": [
    "The type should be:"
   ]
  },
  {
   "cell_type": "code",
   "execution_count": 127,
   "id": "38054856-c5e8-447c-abc9-a164db114fa5",
   "metadata": {},
   "outputs": [
    {
     "data": {
      "text/plain": [
       "8004 * var * float64"
      ]
     },
     "execution_count": 127,
     "metadata": {},
     "output_type": "execute_result"
    }
   ],
   "source": [
    "invariant_mass.type"
   ]
  },
  {
   "cell_type": "markdown",
   "id": "2b4c6ad8-a54b-4037-93b3-65ef007e4fe1",
   "metadata": {},
   "source": [
    "The first and last values should be:"
   ]
  },
  {
   "cell_type": "code",
   "execution_count": 128,
   "id": "6861cca6-701c-4f29-947b-03527d13ff1b",
   "metadata": {},
   "outputs": [
    {
     "data": {
      "text/plain": [
       "<Array [[6.51, 16.2], ... [2.49, 8.24, 3.5]] type='8004 * var * float64'>"
      ]
     },
     "execution_count": 128,
     "metadata": {},
     "output_type": "execute_result"
    }
   ],
   "source": [
    "invariant_mass"
   ]
  },
  {
   "cell_type": "markdown",
   "id": "5c1bb516-a195-46d2-8013-0e7e9ae1e50f",
   "metadata": {},
   "source": [
    "And the lengths of each list in the first and last events should be:"
   ]
  },
  {
   "cell_type": "code",
   "execution_count": 129,
   "id": "1d725c23-9c87-4fd4-8984-59ccb6bc01bb",
   "metadata": {},
   "outputs": [
    {
     "data": {
      "text/plain": [
       "<Array [2, 1, 0, 0, 1, 0, ... 0, 0, 1, 0, 2, 3] type='8004 * int64'>"
      ]
     },
     "execution_count": 129,
     "metadata": {},
     "output_type": "execute_result"
    }
   ],
   "source": [
    "ak.num(invariant_mass)"
   ]
  },
  {
   "cell_type": "markdown",
   "id": "aa210626-1e03-4619-a60e-2781db5a7146",
   "metadata": {},
   "source": [
    "<details style=\"border: dashed 1px black; padding: 10px\">\n",
    "    <summary><b>Solutions</b> (no peeking!)</summary>\n",
    "\n",
    "<br>\n",
    "\n",
    "It could look (almost) exactly like the C++:\n",
    "\n",
    "```python\n",
    "invariant_mass = (quality_one + quality_two).M\n",
    "```\n",
    "<br>\n",
    "\n",
    "But I prefer:\n",
    "\n",
    "```python\n",
    "invariant_mass = (quality_one + quality_two).mass\n",
    "```\n",
    "<br>\n",
    "\n",
    "The Vector library has only one way to \"spell\" this quantity for purely geometric vectors, \"`tau`\" (for proper time), but when vectors are labeled as \"Momentum\", they get synonyms: \"`mass`\", \"`M`\", \"`m`\".\n",
    "\n",
    "It's worth noting that `(quality_one + quality_two)` is a new array of vectors, and therefore the fields Vector doesn't recognize are lost. The type of `(quality_one + quality_two)` is:\n",
    "\n",
    "```\n",
    "8004 * var * Momentum4D[\"x\": float32, \"y\": float32, \"z\": float32, \"tau\": float64]\n",
    "```\n",
    "<br>\n",
    "\n",
    "with no `\"charge\"`. Vector does not add the charges because adding would not be the correct thing to do with any unrecognized field. (You might have named it `\"q\"` or `\"Q\"`.) Of course, you can add it yourself:\n",
    "\n",
    "\n",
    "```python\n",
    "quality_one.charge + quality_two.charge\n",
    "```\n",
    "<br>\n",
    "\n",
    "and insert it into a new object. This works, for instance:\n",
    "\n",
    "```python\n",
    "z_bosons = (quality_one + quality_two)\n",
    "z_bosons[\"charge\"] = quality_one.charge + quality_two.charge\n",
    "```\n",
    "<br>\n",
    "\n",
    "and `z_bosons` has type\n",
    "\n",
    "```\n",
    "8004 * var * Momentum4D[\"x\": float32, \"y\": float32, \"z\": float32, \"tau\": float64, \"charge\": int64]\n",
    "```\n",
    "</details>"
   ]
  },
  {
   "cell_type": "markdown",
   "id": "7ee92350-f2b9-4d02-95d9-bdff11f809ba",
   "metadata": {},
   "source": [
    "### Plotting the invariant mass"
   ]
  },
  {
   "cell_type": "markdown",
   "id": "c0803a5d-d7ef-4db8-9e55-bc2c20d9ffba",
   "metadata": {},
   "source": [
    "Constructing a histogram, which was the first step in C++:\n",
    "\n",
    "```c++\n",
    "TH1F *hM = new TH1F(\"hM\", \"e+e- invariant mass (GeV/c)\", 120, 0, 120);\n",
    "```\n",
    "\n",
    "is the last step here."
   ]
  },
  {
   "cell_type": "code",
   "execution_count": 136,
   "id": "3400ad64-ac32-437a-8603-f147230ebcc5",
   "metadata": {},
   "outputs": [],
   "source": [
    "import hist"
   ]
  },
  {
   "cell_type": "markdown",
   "id": "f0a7947f-299e-4c44-bb0b-43b32679c4ae",
   "metadata": {},
   "source": [
    "**Exercise 8:** Check the [hist documentation](https://hist.readthedocs.io/en/latest/user-guide/quickstart.html) and define a one-dimensional histogram with 120 regularly-spaced bins from 0 to 120 GeV. Then fill it with the `invariant_mass` data.\n",
    "\n",
    "**Hint:** The `invariant_mass` array contains _lists_ of numbers, but histograms present a distribution of _numbers_. Search Awkward Array's [reference documentation](https://awkward-array.readthedocs.io/) for a way to flatten these lists into a one-dimensional array, and experiment with that step _before_ attempting to fill the histogram. (The error messages will be easier to understand.)"
   ]
  },
  {
   "cell_type": "code",
   "execution_count": null,
   "id": "89d51f6b-8bf4-4bd3-b3e9-78610a4f9001",
   "metadata": {},
   "outputs": [],
   "source": [
    "flat_invariant_mass = ???\n",
    "hM = ???\n",
    "hM.fill(???)"
   ]
  },
  {
   "cell_type": "markdown",
   "id": "db995cc3-e4a9-439f-a01d-e3b25e5833b4",
   "metadata": {},
   "source": [
    "The flattened invariant mass should look like this:"
   ]
  },
  {
   "cell_type": "code",
   "execution_count": 149,
   "id": "25b5ecf0-0469-4772-a91d-0984062ad78c",
   "metadata": {},
   "outputs": [
    {
     "data": {
      "text/plain": [
       "<Array [6.51, 16.2, 108, ... 2.49, 8.24, 3.5] type='5021 * float64'>"
      ]
     },
     "execution_count": 149,
     "metadata": {},
     "output_type": "execute_result"
    }
   ],
   "source": [
    "flat_invariant_mass"
   ]
  },
  {
   "cell_type": "markdown",
   "id": "a285ba5c-3a26-406a-9153-2ae3a1fa3045",
   "metadata": {},
   "source": [
    "Note that the type does not have any \"`var`\" in it."
   ]
  },
  {
   "cell_type": "markdown",
   "id": "a0de0a7e-8af9-464a-8bc0-627cbc395343",
   "metadata": {},
   "source": [
    "Whenever a `hist.Hist` is the return value of an expression in Jupyter (such as after the `fill`), you'll see a mini-plot to aid in interactive analysis. But professional-quality plots are made through Matplotlib:"
   ]
  },
  {
   "cell_type": "code",
   "execution_count": 143,
   "id": "b78a964c-4ec8-43af-b65d-d9f0ccbe1081",
   "metadata": {},
   "outputs": [
    {
     "data": {
      "image/png": "[encoded data removed]",
      "text/plain": [
       "<Figure size 432x288 with 1 Axes>"
      ]
     },
     "metadata": {
      "needs_background": "light"
     },
     "output_type": "display_data"
    }
   ],
   "source": [
    "hM.plot();"
   ]
  },
  {
   "cell_type": "markdown",
   "id": "3c43605a-ea2f-44ef-90c3-ccc5bcefd995",
   "metadata": {},
   "source": [
    "By importing Matplotlib, we can configure the plot, mix it with other plots, tweak how it looks, etc."
   ]
  },
  {
   "cell_type": "code",
   "execution_count": 144,
   "id": "5047034f-a9ea-457c-a153-c214ae23e564",
   "metadata": {},
   "outputs": [],
   "source": [
    "import matplotlib.pyplot as plt"
   ]
  },
  {
   "cell_type": "code",
   "execution_count": 145,
   "id": "86dbdf9c-c41b-4d80-98bb-31ff1cd82271",
   "metadata": {},
   "outputs": [
    {
     "data": {
      "image/png": "[encoded data removed]",
      "text/plain": [
       "<Figure size 432x288 with 1 Axes>"
      ]
     },
     "metadata": {
      "needs_background": "light"
     },
     "output_type": "display_data"
    }
   ],
   "source": [
    "hM.plot()\n",
    "plt.yscale(\"log\")"
   ]
  },
  {
   "cell_type": "markdown",
   "id": "b7b8412f-9483-4a68-ab24-3ff8b6d2da2b",
   "metadata": {},
   "source": [
    "**Physics note:** The broad peak at 85 GeV _is_ the Z boson (in this Monte Carlo sample). It's offset from the 91 GeV Z mass and has a width of 14 GeV due to tracking resolution for these high-momentum tracks (roughly 40 GeV per track)."
   ]
  },
  {
   "cell_type": "markdown",
   "id": "c91835e3-5085-4e3a-b353-c443910996f6",
   "metadata": {},
   "source": [
    "<details style=\"border: dashed 1px black; padding: 10px\">\n",
    "    <summary><b>Solutions</b> (no peeking!)</summary>\n",
    "\n",
    "<br>\n",
    "\n",
    "The `invariant_mass` array can be flattened with [ak.flatten](https://awkward-array.readthedocs.io/en/latest/_auto/ak.flatten.html) or [ak.ravel](https://awkward-array.readthedocs.io/en/latest/_auto/ak.ravel.html)/[np.ravel](https://numpy.org/doc/stable/reference/generated/numpy.ravel.html). The [ak.flatten](https://awkward-array.readthedocs.io/en/latest/_auto/ak.flatten.html) function only flattens one dimension (by default, `axis=1`), which is all we need in this case. \"Ravel\" is NumPy's spelling for \"flatten all dimensions.\"\n",
    "\n",
    "```python\n",
    "flat_invariant_mass = ak.flatten(invariant_mass)\n",
    "```\n",
    "<br>\n",
    "\n",
    "or\n",
    "\n",
    "```python\n",
    "flat_invariant_mass = np.ravel(invariant_mass)\n",
    "```\n",
    "<br>\n",
    "\n",
    "The reason you have to do this manually is because it's an information-losing operation: [there are many ways](https://awkward-array.org/how-to-restructure-flatten.html) to get a dimensionless set of values from nested data, and in some circumstances, you might have wanted one of the other ones. For instance, maybe you want to ensure that you only plot one Z candidate per event, and you have some criteria for selecting the \"best\" one. This is where you would put that alternative.\n",
    "\n",
    "As for constructing the histogram and filling it:\n",
    "\n",
    "```python\n",
    "hM = hist.Hist(hist.axis.Regular(120, 0, 120, label=\"e+e- invariant mass (GeV/c)\"))\n",
    "hM.fill(flat_invariant_mass)\n",
    "```\n",
    "<br>\n",
    "\n",
    "Be sure to use hist's array-oriented `fill` method. Iterating over the values in the array (or even the lists withing an array of lists) would be hundreds of times slower than filling it in one call.\n",
    "\n",
    "Calling `fill` multiple times to accumulate batches, however, is fine: the important thing is to give it a large array with each call, so that most of its time can be spent in its compiled histogram-fill loop, not in Python loops.</details>"
   ]
  },
  {
   "cell_type": "code",
   "execution_count": null,
   "id": "0631c408-8c7f-44a9-8837-1ed2c1cd55b7",
   "metadata": {},
   "outputs": [],
   "source": []
  },
  {
   "cell_type": "code",
   "execution_count": null,
   "id": "8940fc1f-651d-4f2e-bb81-7acb6fdcac1e",
   "metadata": {},
   "outputs": [],
   "source": []
  },
  {
   "cell_type": "code",
   "execution_count": null,
   "id": "b9321e8b-44c4-4bc9-93ce-d95dd7cef431",
   "metadata": {},
   "outputs": [],
   "source": []
  },
  {
   "cell_type": "code",
   "execution_count": 147,
   "id": "3b857234-0851-4a5e-84fb-51275f1c04e2",
   "metadata": {},
   "outputs": [
    {
     "data": {
      "text/plain": [
       "5021 * float64"
      ]
     },
     "execution_count": 147,
     "metadata": {},
     "output_type": "execute_result"
    }
   ],
   "source": [
    "flat_invariant_mass.type"
   ]
  },
  {
   "cell_type": "code",
   "execution_count": 148,
   "id": "caa63a17-82ae-4a59-abf9-e3a232714653",
   "metadata": {},
   "outputs": [
    {
     "data": {
      "text/plain": [
       "<Array [6.51, 16.2, 108, ... 2.49, 8.24, 3.5] type='5021 * float64'>"
      ]
     },
     "execution_count": 148,
     "metadata": {},
     "output_type": "execute_result"
    }
   ],
   "source": [
    "flat_invariant_mass"
   ]
  },
  {
   "cell_type": "code",
   "execution_count": 151,
   "id": "827a5659-9bb0-4e28-8489-79a0de0d5bfb",
   "metadata": {},
   "outputs": [
    {
     "data": {
      "text/html": [
       "<html>\n",
       "<div style=\"display:flex; align-items:center;\">\n",
       "<div style=\"width:290px;\">\n",
       "<svg xmlns=\"http://www.w3.org/2000/svg\" viewBox=\"-10 -105 270 120\">\n",
       "<line x1=\"-5\" y1=\"0\" x2=\"255\" y2=\"0\" style=\"fill:none;stroke-width:2;stroke:currentColor\"/>\n",
       "<text text-anchor=\"middle\" x=\"0\" y=\"15\" style=\"fill:currentColor;\">\n",
       "0\n",
       "</text>\n",
       "<text text-anchor=\"middle\" x=\"250\" y=\"15\" style=\"fill:currentColor;\">\n",
       "120\n",
       "</text>\n",
       "<text text-anchor=\"middle\" x=\"125.0\" y=\"15\" style=\"fill:currentColor;\">\n",
       "e+e- invariant mass (GeV/c)\n",
       "</text>\n",
       "<polyline points=\"  0,0   0,-100 2.08333,-100 2.08333,-63.4 4.16667,-63.4 4.16667,-41.1 6.25,-41.1 6.25,-29.9 8.33333,-29.9 8.33333,-28.1 10.4167,-28.1 10.4167,-26.5 12.5,-26.5 12.5,-25 14.5833,-25 14.5833,-22.3 16.6667,-22.3 16.6667,-25.7 18.75,-25.7 18.75,-21.8 20.8333,-21.8 20.8333,-26.5 22.9167,-26.5 22.9167,-22.3  25,-22.3  25,-22 27.0833,-22 27.0833,-13.5 29.1667,-13.5 29.1667,-15.6 31.25,-15.6 31.25,-12.1 33.3333,-12.1 33.3333,-12.7 35.4167,-12.7 35.4167,-9.14 37.5,-9.14 37.5,-9.14 39.5833,-9.14 39.5833,-8.79 41.6667,-8.79 41.6667,-7.91 43.75,-7.91 43.75,-5.27 45.8333,-5.27 45.8333,-5.8 47.9167,-5.8 47.9167,-5.27  50,-5.27  50,-5.45 52.0833,-5.45 52.0833,-2.99 54.1667,-2.99 54.1667,-1.93 56.25,-1.93 56.25,-2.99 58.3333,-2.99 58.3333,-2.64 60.4167,-2.64 60.4167,-0.703 62.5,-0.703 62.5,-2.64 64.5833,-2.64 64.5833,-2.46 66.6667,-2.46 66.6667,-1.58 68.75,-1.58 68.75,-1.58 70.8333,-1.58 70.8333,-1.41 72.9167,-1.41 72.9167,-1.41  75,-1.41  75,-1.23 77.0833,-1.23 77.0833,-1.05 79.1667,-1.05 79.1667,-1.76 81.25,-1.76 81.25,-1.41 83.3333,-1.41 83.3333,-1.76 85.4167,-1.76 85.4167,-2.11 87.5,-2.11 87.5,-0.879 89.5833,-0.879 89.5833,-1.93 91.6667,-1.93 91.6667,-1.58 93.75,-1.58 93.75,-2.28 95.8333,-2.28 95.8333,-1.05 97.9167,-1.05 97.9167,-0.879 100,-0.879 100,-1.41 102.083,-1.41 102.083,-0.879 104.167,-0.879 104.167,-1.05 106.25,-1.05 106.25,-1.05 108.333,-1.05 108.333,-0.527 110.417,-0.527 110.417,-1.58 112.5,-1.58 112.5,-0.703 114.583,-0.703 114.583,-2.28 116.667,-2.28 116.667,-1.23 118.75,-1.23 118.75,-1.76 120.833,-1.76 120.833,-0.879 122.917,-0.879 122.917,-1.58 125,-1.58 125,-2.28 127.083,-2.28 127.083,-1.23 129.167,-1.23 129.167,-1.76 131.25,-1.76 131.25,-1.76 133.333,-1.76 133.333,-2.11 135.417,-2.11 135.417,-2.64 137.5,-2.64 137.5,-1.05 139.583,-1.05 139.583,-2.46 141.667,-2.46 141.667,-1.76 143.75,-1.76 143.75,-3.16 145.833,-3.16 145.833,-3.87 147.917,-3.87 147.917,-3.16 150,-3.16 150,-3.69 152.083,-3.69 152.083,-2.28 154.167,-2.28 154.167,-6.33 156.25,-6.33 156.25,-3.51 158.333,-3.51 158.333,-5.98 160.417,-5.98 160.417,-3.51 162.5,-3.51 162.5,-5.8 164.583,-5.8 164.583,-6.33 166.667,-6.33 166.667,-9.14 168.75,-9.14 168.75,-5.62 170.833,-5.62 170.833,-7.73 172.917,-7.73 172.917,-6.85 175,-6.85 175,-7.91 177.083,-7.91 177.083,-9.67 179.167,-9.67 179.167,-8.96 181.25,-8.96 181.25,-6.5 183.333,-6.5 183.333,-8.96 185.417,-8.96 185.417,-10.9 187.5,-10.9 187.5,-6.85 189.583,-6.85 189.583,-8.79 191.667,-8.79 191.667,-10.2 193.75,-10.2 193.75,-7.73 195.833,-7.73 195.833,-3.51 197.917,-3.51 197.917,-4.92 200,-4.92 200,-4.92 202.083,-4.92 202.083,-5.8 204.167,-5.8 204.167,-5.62 206.25,-5.62 206.25,-4.04 208.333,-4.04 208.333,-3.69 210.417,-3.69 210.417,-3.69 212.5,-3.69 212.5,-2.81 214.583,-2.81 214.583,-5.1 216.667,-5.1 216.667,-2.64 218.75,-2.64 218.75,-1.76 220.833,-1.76 220.833,-1.58 222.917,-1.58 222.917,-1.93 225,-1.93 225,-2.28 227.083,-2.28 227.083,-2.28 229.167,-2.28 229.167,-2.28 231.25,-2.28 231.25,-1.23 233.333,-1.23 233.333,-1.58 235.417,-1.58 235.417,-1.41 237.5,-1.41 237.5,-1.93 239.583,-1.93 239.583,-0.879 241.667,-0.879 241.667,-1.58 243.75,-1.58 243.75,-1.23 245.833,-1.23 245.833,-1.58 247.917,-1.58 247.917,-0.703 250,-0.703 250,0\" style=\"fill:none; stroke:currentColor;\"/>\n",
       "</svg>\n",
       "</div>\n",
       "<div style=\"flex=grow:1;\">\n",
       "Regular(120, 0, 120, label='e+e- invariant mass (GeV/c)')<br/>\n",
       "<hr style=\"margin-top:.2em; margin-bottom:.2em;\"/>\n",
       "Double() Σ=4962.0 <em>(5021.0 with flow)</em>\n",
       "\n",
       "</div>\n",
       "</div>\n",
       "</html>"
      ],
      "text/plain": [
       "Hist(Regular(120, 0, 120, label='e+e- invariant mass (GeV/c)'), storage=Double()) # Sum: 4962.0 (5021.0 with flow)"
      ]
     },
     "execution_count": 151,
     "metadata": {},
     "output_type": "execute_result"
    }
   ],
   "source": [
    "flat_invariant_mass = np.ravel(invariant_mass)\n",
    "\n",
    "hM = hist.Hist(hist.axis.Regular(120, 0, 120, label=\"e+e- invariant mass (GeV/c)\"))\n",
    "hM.fill(flat_invariant_mass)"
   ]
  },
  {
   "cell_type": "code",
   "execution_count": null,
   "id": "33636e39-1d51-48b2-b0bf-82efb4af3b1c",
   "metadata": {},
   "outputs": [],
   "source": []
  },
  {
   "cell_type": "code",
   "execution_count": null,
   "id": "937baa12-e251-43ef-976f-3ae35935920c",
   "metadata": {},
   "outputs": [],
   "source": []
  },
  {
   "cell_type": "code",
   "execution_count": 94,
   "id": "5b033dc1-b4bd-4b71-9a34-827ce2b74aec",
   "metadata": {},
   "outputs": [],
   "source": []
  },
  {
   "cell_type": "code",
   "execution_count": null,
   "id": "29ff0717-c2a5-4b68-a1f3-ecc026a6bfba",
   "metadata": {},
   "outputs": [],
   "source": []
  },
  {
   "cell_type": "markdown",
   "id": "91bffc54-bf67-49c8-a2d4-e2c20ac2906d",
   "metadata": {},
   "source": [
    "```c++\n",
    "  Bool_t isPrimary() const         { return ( pMom().Mag()>0 ); }\n",
    "  Int_t   nHitsFit() const         { return (mNHitsFit > 0) ? (Int_t)mNHitsFit : (Int_t)(-1 * mNHitsFit); }\n",
    "  Int_t   nHitsMax() const         { return (Int_t)mNHitsMax; }\n",
    "  Bool_t isBemcTrack() const       { return (mBEmcPidTraitsIndex<0) ? false : true; }\n",
    "  Int_t bemcPidTraitsIndex() const { return mBEmcPidTraitsIndex; }\n",
    "  TVector3 pMom() const            { return TVector3(mPMomentumX, mPMomentumY, mPMomentumZ); }\n",
    "  Float_t btowE() const            { return (Float_t)mBtowE / 1000.; }\n",
    "  Short_t charge() const           { return (mNHitsFit > 0) ? 1 : -1; }\n",
    "```"
   ]
  },
  {
   "cell_type": "code",
   "execution_count": null,
   "id": "dd5fdd74-e8cb-41e7-b90d-f14a3d3572af",
   "metadata": {},
   "outputs": [],
   "source": []
  },
  {
   "cell_type": "markdown",
   "id": "8224ed6d-59d4-4836-9b50-41804a800dfd",
   "metadata": {
    "tags": []
   },
   "source": [
    "In [star-picodst-W-reference-for-jim/macros/PicoDstAnalyzer.C](star-picodst-W-reference-for-jim/macros/PicoDstAnalyzer.C), the chain of commands that leads to getting a track is:\n",
    "\n",
    "```c++\n",
    "// get a reader and initialize it\n",
    "const Char_t *inFile = \"pythia_ppZee_run17emb.picoDst.root:PicoDst\";\n",
    "StPicoDstReader* picoReader = new StPicoDstReader(inFile);\n",
    "picoReader->Init();\n",
    "\n",
    "// in the loop over events (iEvent), load an event\n",
    "Bool_t readEvent = picoReader->readPicoEvent(iEvent);\n",
    "StPicoDst *dst = picoReader->picoDst();\n",
    "\n",
    "// in the loop over tracks (iTrk), load a track\n",
    "StPicoTrack *picoTrack = dst->track(iTrk);\n",
    "```\n",
    "\n",
    "The most relevant quantity for calculating invariant mass is the track's momentum:\n",
    "\n",
    "```c++\n",
    "picoTrack->pMom()\n",
    "```\n",
    "\n",
    "As a first step, we need to get track momenta. The [star-picodst-W-reference-for-jim/StPicoTrack.h](star-picodst-W-reference-for-jim/StPicoTrack.h) defines `pMom` as\n",
    "\n",
    "```c++\n",
    "TVector3 pMom() const           { return TVector3(mPMomentumX, mPMomentumY, mPMomentumZ); }\n",
    "```\n",
    "\n",
    "**Exercise 1:** Search through `picodst` and find _the full names_ of these branches. Then read all three into _arrays_ named `px`, `py`, and `pz`.\n",
    "\n",
    "For reference, here is the [uproot.TTree](https://uproot.readthedocs.io/en/latest/uproot.behaviors.TTree.TTree.html) documentation.\n",
    "\n",
    "Depending on your network connection, those arrays could take 30 seconds to load. Be sure you have an expression that works on a small subsample before starting the big download."
   ]
  },
  {
   "cell_type": "code",
   "execution_count": null,
   "id": "d4fc90c7-921a-4e26-b924-b0a5c87ed1c1",
   "metadata": {},
   "outputs": [],
   "source": [
    "picodst. ???"
   ]
  },
  {
   "cell_type": "markdown",
   "id": "3d22cde5-329a-4b6b-b56a-32ff63536b27",
   "metadata": {
    "tags": []
   },
   "source": [
    "<details>\n",
    "    <summary><b>Answer</b> (no peeking!)</summary>\n",
    "\n",
    "Search around with `picodst.keys`, gradually narrowing its output with wildcards or regular expressions like either of the following:\n",
    "\n",
    "```python\n",
    "picodst.keys(filter_name=\"*mPMomentum[XYZ]\")\n",
    "\n",
    "picodst.keys(filter_name=\"/.*mPMomentum[XYZ]/\")\n",
    "```\n",
    "</details>"
   ]
  },
  {
   "cell_type": "code",
   "execution_count": null,
   "id": "ca0a6924-c6ee-41cd-a2aa-7d8a3549c241",
   "metadata": {},
   "outputs": [],
   "source": [
    "px, py, pz = ???"
   ]
  },
  {
   "cell_type": "markdown",
   "id": "b69783fb-af9b-4538-ace6-f96522498396",
   "metadata": {},
   "source": [
    "<details>\n",
    "    <summary><b>Hint for postponing the big download</b> (okay, maybe peek)</summary>\n",
    "\n",
    "Remember that all of the array-fetching functions (`TTree.arrays`, `TBranch.array`, etc.) take `entry_start` and `entry_stop` as arguments.\n",
    "\n",
    "You can quickly limit the number of baskets read by setting `entry_stop` to some small number, like 1000.\n",
    "\n",
    "```python\n",
    "picodst.arrays(\"Event.mEventId\", entry_stop=1000)\n",
    "```\n",
    "<br>\n",
    "\n",
    "When you've got something you like, you can then remove the `entry_stop=1000` to let it go through the whole file.\n",
    "</details>"
   ]
  },
  {
   "cell_type": "markdown",
   "id": "87f9e631-f31f-4307-bb11-4a7c652572b6",
   "metadata": {},
   "source": [
    "<details>\n",
    "    <summary><b>Answer</b> (no peeking!)</summary>\n",
    "\n",
    "There are several different ways to read the arrays, but the most straightforward are `TTree.arrays` and `TBranch.array`.\n",
    "\n",
    "`TTree.arrays` can use the same `filter_name` that you identified with `TTree.keys`. But just calling it as-is returns a single array.\n",
    "\n",
    "```python\n",
    "single_array = picodst.arrays(filter_name=\"*mPMomentum[XYZ]\")\n",
    "```\n",
    "<br>\n",
    "\n",
    "**Solution 1:** You could, then, look at the `single_array.fields` ([ak.fields](https://awkward-array.readthedocs.io/en/latest/_auto/ak.fields.html)) to see what their names are and just pull them out.\n",
    "\n",
    "```python\n",
    "px = single_array[\"Track.mPMomentumX\"]\n",
    "py = single_array[\"Track.mPMomentumY\"]\n",
    "pz = single_array[\"Track.mPMomentumZ\"]\n",
    "```\n",
    "<br>\n",
    "\n",
    "**Solution 2:** Or you could pull them all out at once (without needing to know their names) with [ak.unzip](https://awkward-array.readthedocs.io/en/latest/_auto/ak.unzip.html).\n",
    "\n",
    "```python\n",
    "px, py, pz = ak.unzip(single_array)\n",
    "```\n",
    "<br>\n",
    "\n",
    "**Solution 3:** Or, if you noticed the `how` parameter of `TTree.arrays`, you'd see that this gives you the desired form directly.\n",
    "\n",
    "```python\n",
    "px, py, pz = picodst.arrays(filter_name=\"*mPMomentum[XYZ]\", how=tuple)\n",
    "```\n",
    "<br>\n",
    "\n",
    "**Solution 4:** As one final alternative, you could get each branch object and use `TBranch.array` on each one individually. (For network traffic, this is three request-and-responses rather than one, so it's less efficient, but leave that for later performance tuning.)\n",
    "\n",
    "```python\n",
    "px = picodst[\"Track/Track.mPMomentumX\"].array()\n",
    "py = picodst[\"Track/Track.mPMomentumY\"].array()\n",
    "pz = picodst[\"Track/Track.mPMomentumZ\"].array()\n",
    "```\n",
    "</details>"
   ]
  },
  {
   "cell_type": "markdown",
   "id": "6f9c46b7-37a1-4a48-baba-e90cf3c52b29",
   "metadata": {
    "tags": []
   },
   "source": [
    "### Making an array of Lorentz vectors"
   ]
  },
  {
   "cell_type": "markdown",
   "id": "62b204bc-bfa5-4967-ae51-ec7118459c4f",
   "metadata": {},
   "source": [
    "Rather than calculating invariant mass from first principles, let's cast these as a `\"Momentum4D\"` with the Vector library."
   ]
  },
  {
   "cell_type": "code",
   "execution_count": null,
   "id": "0ac13c62-7520-4269-b5c6-79ca76cd0fdb",
   "metadata": {},
   "outputs": [],
   "source": [
    "import vector\n",
    "vector.register_awkward()"
   ]
  },
  {
   "cell_type": "markdown",
   "id": "74553e16-bad5-4a52-9f20-8703bf5f2788",
   "metadata": {},
   "source": [
    "**Exercise 2:** Combine the `px`, `py`, `pz`, and `M = 0.000511` (a constant) into an array of type\n",
    "\n",
    "```\n",
    "8004 * var * {\"px\": float32, \"py\": float32, \"pz\": float32, \"M\": float64}\n",
    "```\n",
    "\n",
    "It is _essential_ that the \"`var`\" is outside the record structure—that it is an array of lists of `px-py-pz-M` records, not an array of records of `px-py-pz-M` lists, such as\n",
    "\n",
    "```\n",
    "8004 * {\"px\": var * float32, \"py\": var * float32, \"pz\": var * float32, \"M\": float64}\n",
    "```\n",
    "\n",
    "_When that works,_ also add the name `\"Momentum4D\"` to those records, so that they become Lorentz vectors. The type should then look like\n",
    "\n",
    "```\n",
    "8004 * var * Momentum4D[\"px\": float32, \"py\": float32, \"pz\": float32, \"M\": float64]\n",
    "```\n",
    "\n",
    "Both of these should compute instantaneously. If it's taking a long time, something's wrong.\n",
    "\n",
    "**Hint:** The [ak.zip](https://awkward-array.readthedocs.io/en/latest/_auto/ak.zip.html) function is relevant. You might also use [ak.Array](https://awkward-array.readthedocs.io/en/latest/_auto/ak.Array.html) and/or [ak.with_name](https://awkward-array.readthedocs.io/en/latest/_auto/ak.with_name.html), and [ak.type](https://awkward-array.readthedocs.io/en/latest/_auto/ak.type.html) or just `.type` to look at the type."
   ]
  },
  {
   "cell_type": "code",
   "execution_count": null,
   "id": "70a15532-f20f-4e6d-8acc-738d569e9f08",
   "metadata": {},
   "outputs": [],
   "source": [
    "pMom = ???"
   ]
  },
  {
   "cell_type": "markdown",
   "id": "35f5efe3-17f4-4606-8ec6-3eaed0f39aec",
   "metadata": {},
   "source": [
    "<details>\n",
    "    <summary><b>Answer</b> (no peeking!)</summary>\n",
    "\n",
    "This is just what the `ak.zip` function does, when given a dict of field names to arrays. Don't set the `depth_limit`, as that would prevent their merger into an array of lists of records. The `\"M\"` field does not need to be an array—`ak.zip` will \"broadcast\" a constant into the same shape as the other fields.\n",
    "\n",
    "```python\n",
    "ak.zip({\"px\": px, \"py\": py, \"pz\": pz, \"M\": 0.000511})\n",
    "```\n",
    "<br>\n",
    "\n",
    "To add the `\"Momentum4D\"` name to these fields, you could use `ak.with_name` explicitly:\n",
    "\n",
    "```python\n",
    "ak.with_name(ak.zip({\"px\": px, \"py\": py, \"pz\": pz, \"M\": 0.000511}), \"Momentum4D\")\n",
    "```\n",
    "<br>\n",
    "\n",
    "or just add it as an argument in the original `ak.zip`:\n",
    "\n",
    "```python\n",
    "ak.zip({\"px\": px, \"py\": py, \"pz\": pz, \"M\": 0.000511}, with_name=\"Momentum4D\")\n",
    "```\n",
    "<br>\n",
    "\n",
    "The `ak.Array` constructor also has a `with_name` argument, so you could have used that, too.\n",
    "</details>"
   ]
  },
  {
   "cell_type": "markdown",
   "id": "df422789-45fd-44ab-96f1-dc98eef9a4e2",
   "metadata": {},
   "source": [
    "### Aside: if you're averse to physical constants in your code\n",
    "\n",
    "There are libraries for that. Particle is a \"Pythonic PDG\" and hepunits has unit conversions in the same units as Particle."
   ]
  },
  {
   "cell_type": "code",
   "execution_count": null,
   "id": "38348016-3393-4fa0-879f-9ed3928679a0",
   "metadata": {},
   "outputs": [],
   "source": [
    "import particle, hepunits\n",
    "\n",
    "particle.Particle.find(\"e-\").mass / hepunits.GeV"
   ]
  },
  {
   "cell_type": "markdown",
   "id": "10625ba1-1526-4180-b381-7eea122531f9",
   "metadata": {},
   "source": [
    "Constant fields can be added to a list of records through assignment."
   ]
  },
  {
   "cell_type": "code",
   "execution_count": null,
   "id": "2c742d76-c424-4700-9dec-2274f7896412",
   "metadata": {},
   "outputs": [],
   "source": [
    "pMom[\"M\"] = particle.Particle.find(\"e-\").mass / hepunits.GeV"
   ]
  },
  {
   "cell_type": "markdown",
   "id": "8acae146-0f51-4ca7-8ad9-13606b9cd4a0",
   "metadata": {},
   "source": [
    "Now it's more precise."
   ]
  },
  {
   "cell_type": "code",
   "execution_count": null,
   "id": "ec0cec6c-3881-43ef-b875-75784aa8a8f7",
   "metadata": {},
   "outputs": [],
   "source": [
    "pMom[0, 0, \"M\"]"
   ]
  },
  {
   "cell_type": "markdown",
   "id": "75cbfea2-1da3-45f2-889a-acfb42e6581d",
   "metadata": {},
   "source": [
    "### How many tracks are there per event? How many pairwise combinations?\n",
    "\n",
    "The [ak.num](https://awkward-array.readthedocs.io/en/latest/_auto/ak.num.html) function returns the number of items in a `var` dimension, and NumPy's [np.mean](https://numpy.org/doc/stable/reference/generated/numpy.mean.html) computes an average."
   ]
  },
  {
   "cell_type": "code",
   "execution_count": null,
   "id": "92d4c03f-a7d2-4331-b537-1095a82be94c",
   "metadata": {},
   "outputs": [],
   "source": [
    "ak.num(pMom)"
   ]
  },
  {
   "cell_type": "code",
   "execution_count": null,
   "id": "02a30db3-c76e-4200-878f-ca7748c85234",
   "metadata": {},
   "outputs": [],
   "source": [
    "np.mean(ak.num(pMom))"
   ]
  },
  {
   "cell_type": "markdown",
   "id": "6c3872f2-47af-42ce-b8a6-bd54318c13f5",
   "metadata": {},
   "source": [
    "**Exercise 3:** If we were to compute [ak.combinations](https://awkward-array.readthedocs.io/en/latest/_auto/ak.combinations.html) on these tracks (don't try it!), how many combinations would there be, on average?\n",
    "\n",
    "Remember, for a list with $N$ items, `ak.combinations(dataset, 2)` produces \"$N$ choose $2$\" pairs, which is $\\frac{N (N - 1)}{2}$."
   ]
  },
  {
   "cell_type": "markdown",
   "id": "949999c3-db7f-4f9b-82b3-f53e63f8fca7",
   "metadata": {},
   "source": [
    "<details>\n",
    "    <summary><b>Answer</b> (no peeking!)</summary>\n",
    "\n",
    "If $N$ were a single scalar, we would just compute the formula\n",
    "\n",
    "```python\n",
    "N = 10\n",
    "(N * (N - 1)) / 2\n",
    "```\n",
    "<br>\n",
    "\n",
    "In array-oriented computing, we can do the same thing with an array of values.\n",
    "\n",
    "```python\n",
    "tracks_in_each_event = ak.num(pMom)\n",
    "pairs_in_each_event = (tracks_in_each_event * (tracks_in_each_event - 1)) / 2\n",
    "np.mean(pairs_in_each_event)\n",
    "```\n",
    "<br>\n",
    "\n",
    "which is 3.5 million pairs _in each event._\n",
    "</details>"
   ]
  },
  {
   "cell_type": "markdown",
   "id": "f17fa9bb-5a59-4272-91c0-5e5439d5125e",
   "metadata": {},
   "source": [
    "### Selecting electrons\n",
    "\n",
    "Although we've created Lorentz vector objects of mass 0.000511 GeV, there's no guarantee that these tracks are electrons. In fact, many of them are not.\n",
    "\n",
    "A good discriminating property of electrons is that they deposit most of their energy in an electromagnetic calorimeter. If the $p_T$ measured via track curvature is approximately equal to the energy of a matched calorimeter tower, then there's a better chance they're electrons.\n",
    "\n",
    "In the C++ code ([star-picodst-W-reference-for-jim/macros/PicoDstAnalyzer.C](star-picodst-W-reference-for-jim/macros/PicoDstAnalyzer.C)), tracks are identified as having an electromagnetic shower match with\n",
    "\n",
    "```c++\n",
    "picoTrack->isBemcTrack()\n",
    "```\n",
    "\n",
    "and the matching shower is returned via\n",
    "\n",
    "```c++\n",
    "StPicoBEmcPidTraits *trait = dst->bemcPidTraits( picoTrack->bemcPidTraitsIndex() );\n",
    "```\n",
    "\n",
    "The The [star-picodst-W-reference-for-jim/StPicoTrack.h](star-picodst-W-reference-for-jim/StPicoTrack.h) defines these as\n",
    "\n",
    "```c++\n",
    "Bool_t isBemcTrack() const             { return (mBEmcPidTraitsIndex<0) ? false : true; }\n",
    "\n",
    "Int_t bemcPidTraitsIndex() const       { return mBEmcPidTraitsIndex; }\n",
    "\n",
    "static StPicoBEmcPidTraits* bemcPidTraits(Int_t i) { return (StPicoBEmcPidTraits*)picoArrays[StPicoArrays::BEmcPidTraits]->UncheckedAt(i); }\n",
    "```\n",
    "\n",
    "which we can find as branches in the TTree.\n",
    "\n",
    "According to [star-picodst-W-reference-for-jim/StPicoBEmcPidTraits.h](star-picodst-W-reference-for-jim/StPicoBEmcPidTraits.h), the calorimeter energy is in MeV, so we have to divide it by 1000 to get GeV, like the tracks.\n",
    "\n",
    "```c++\n",
    "Float_t btowE() const          { return (Float_t)mBtowE / 1000.; }\n",
    "```"
   ]
  },
  {
   "cell_type": "code",
   "execution_count": null,
   "id": "80d5492a-61b0-444e-acf8-d2900ef2e3c8",
   "metadata": {},
   "outputs": [],
   "source": [
    "emc_index = picodst[\"Track.mBEmcPidTraitsIndex\"].array()\n",
    "emc_energy = picodst[\"EmcPidTraits.mBtowE\"].array() / 1000"
   ]
  },
  {
   "cell_type": "code",
   "execution_count": null,
   "id": "2d2d2f5c-f419-4ba5-8445-f6b52041eab6",
   "metadata": {},
   "outputs": [],
   "source": [
    "emc_index"
   ]
  },
  {
   "cell_type": "code",
   "execution_count": null,
   "id": "8794dc7b-2104-4ab7-a14e-be6f464711e9",
   "metadata": {},
   "outputs": [],
   "source": [
    "emc_energy"
   ]
  },
  {
   "cell_type": "markdown",
   "id": "7f8addc0-1ecc-4eec-958f-dd150a84e687",
   "metadata": {},
   "source": [
    "**Exercise 4:** Make an array with the same shape as `pMom` containing _true_ if the corresponding track has an electromagnetic calorimeter match and _false_ if it does not.\n",
    "\n",
    "It should have type ([ak.type](https://awkward-array.readthedocs.io/en/latest/_auto/ak.type.html))\n",
    "\n",
    "```\n",
    "8004 * var * bool\n",
    "```"
   ]
  },
  {
   "cell_type": "code",
   "execution_count": null,
   "id": "54654d9b-010a-429f-a555-a5a5d44f2d58",
   "metadata": {},
   "outputs": [],
   "source": [
    "isBemcTrack = ???"
   ]
  },
  {
   "cell_type": "markdown",
   "id": "250d11c5-52ed-414a-a65b-dede62770536",
   "metadata": {},
   "source": [
    "It should then be possible to compute"
   ]
  },
  {
   "cell_type": "code",
   "execution_count": null,
   "id": "c87f07aa-2507-4f78-b60c-aca524a8f202",
   "metadata": {},
   "outputs": [],
   "source": [
    "pMom_isemc = pMom[isBemcTrack]\n",
    "emc_index_isemc = emc_index[isBemcTrack]"
   ]
  },
  {
   "cell_type": "markdown",
   "id": "f369a08a-be7a-4633-84ae-5e4e4d1c0010",
   "metadata": {},
   "source": [
    "and the average numbers of _selected_ tracks is much fewer."
   ]
  },
  {
   "cell_type": "code",
   "execution_count": null,
   "id": "6d72eb6d-b420-492b-934a-1462264fc091",
   "metadata": {},
   "outputs": [],
   "source": [
    "np.mean(ak.num(pMom_isemc))"
   ]
  },
  {
   "cell_type": "code",
   "execution_count": null,
   "id": "d4592dfe-edb0-47e2-9365-fdbe489e50c4",
   "metadata": {},
   "outputs": [],
   "source": [
    "np.mean(ak.num(emc_index_isemc))"
   ]
  },
  {
   "cell_type": "markdown",
   "id": "43daca7b-55ea-4e48-8082-8772ef701b1f",
   "metadata": {},
   "source": [
    "<details>\n",
    "    <summary><b>Answer</b> (no peeking!)</summary>\n",
    "\n",
    "Comparison operators, `<` and `>`, apply array-at-a-time, like anything else.\n",
    "\n",
    "```python\n",
    "isBemcTrack = (emc_index >= 0)\n",
    "```\n",
    "<br>\n",
    "\n",
    "Be sure to get the direction of the comparison right: in the C++ code, `mBEmcPidTraitsIndex<0` means `isBemcTrack` is _false_.\n",
    "</details>"
   ]
  },
  {
   "cell_type": "markdown",
   "id": "be7460a7-d859-4aeb-bf8b-250da34dc37d",
   "metadata": {},
   "source": [
    "### Connecting tracks to showers\n",
    "\n",
    "The `emc_index` (in particular, `emc_index_isemc` with the cut) determines _which item_ of `emc_energy` to associated with _each track_ in _each event_.\n",
    "\n",
    "It's an array of lists of integers (usually in order, but that isn't guaranteed)."
   ]
  },
  {
   "cell_type": "code",
   "execution_count": null,
   "id": "6ff594af-6493-470e-964a-ef75243b0bd3",
   "metadata": {},
   "outputs": [],
   "source": [
    "emc_index_isemc"
   ]
  },
  {
   "cell_type": "code",
   "execution_count": null,
   "id": "a5bd9a08-7b45-4cb1-b7ee-e4dfac436cff",
   "metadata": {},
   "outputs": [],
   "source": [
    "emc_index_isemc[0]"
   ]
  },
  {
   "cell_type": "code",
   "execution_count": null,
   "id": "22bf9897-72d7-493f-bfe6-7d69268cc21a",
   "metadata": {},
   "outputs": [],
   "source": [
    "emc_index_isemc[1]"
   ]
  },
  {
   "cell_type": "code",
   "execution_count": null,
   "id": "11634d95-83bb-440e-83a9-9276d5ed66a0",
   "metadata": {},
   "outputs": [],
   "source": [
    "emc_index_isemc[2]"
   ]
  },
  {
   "cell_type": "markdown",
   "id": "ac995e4e-4df6-4334-b9e4-050b0a61fd1d",
   "metadata": {},
   "source": [
    "What is guaranteed is that all the integers are non-negative and less than the length of the `emc_energy` list _for that event_."
   ]
  },
  {
   "cell_type": "code",
   "execution_count": null,
   "id": "bd889018-4626-453c-a188-1dfcfab9fac4",
   "metadata": {},
   "outputs": [],
   "source": [
    "np.all(emc_index_isemc >= 0)"
   ]
  },
  {
   "cell_type": "code",
   "execution_count": null,
   "id": "588ebce6-e4d8-41c7-8d2f-110441fc2e92",
   "metadata": {},
   "outputs": [],
   "source": [
    "np.max(emc_index_isemc, axis=1)"
   ]
  },
  {
   "cell_type": "code",
   "execution_count": null,
   "id": "201fcfe0-7181-450c-86fb-f9e7a46d2444",
   "metadata": {},
   "outputs": [],
   "source": [
    "ak.num(emc_energy, axis=1)"
   ]
  },
  {
   "cell_type": "code",
   "execution_count": null,
   "id": "72a43899-9473-4125-ab1c-1037d4f1ac61",
   "metadata": {},
   "outputs": [],
   "source": [
    "np.all(np.max(emc_index_isemc, axis=1) < ak.num(emc_energy, axis=1))"
   ]
  },
  {
   "cell_type": "markdown",
   "id": "eb741b32-3bfa-427d-8900-6fa5bc1aa7d3",
   "metadata": {},
   "source": [
    "**Exercise 5:** Make an array of calorimeter energy for each track. Remember the [slicing rules](https://awkward-array.readthedocs.io/en/latest/_auto/ak.Array.html#ak-array-getitem)."
   ]
  },
  {
   "cell_type": "code",
   "execution_count": null,
   "id": "41d37626-64b9-4b5f-978b-ebba790a560e",
   "metadata": {},
   "outputs": [],
   "source": [
    "track_emc_energy = ???"
   ]
  },
  {
   "cell_type": "markdown",
   "id": "bfa62a75-3193-46a6-981f-21d6c081d242",
   "metadata": {},
   "source": [
    "It must have the same list lengths as `pMom_isemc` (and `emc_index_isemc`, which themselves have the same lengths)."
   ]
  },
  {
   "cell_type": "code",
   "execution_count": null,
   "id": "cd199caf-8162-458c-9a87-190616d9b27d",
   "metadata": {},
   "outputs": [],
   "source": [
    "ak.num(pMom_isemc), ak.num(emc_index_isemc), ak.num(track_emc_energy)"
   ]
  },
  {
   "cell_type": "code",
   "execution_count": null,
   "id": "b3f47bd5-8b41-4839-ac76-e93fba9b7c90",
   "metadata": {},
   "outputs": [],
   "source": [
    "np.all(ak.num(pMom_isemc) == ak.num(track_emc_energy))"
   ]
  },
  {
   "cell_type": "markdown",
   "id": "2ad56b5a-b9b6-4f46-9e30-420554ccb256",
   "metadata": {},
   "source": [
    "<details>\n",
    "    <summary><b>Answer</b> (no peeking!)</summary>\n",
    "\n",
    "This is what slicing by an array of integers does.\n",
    "\n",
    "```python\n",
    "track_emc_energy = emc_energy[emc_index_isemc]\n",
    "```\n",
    "<br>\n",
    "\n",
    "It's important to get the order right, to not write `emc_index_isemc[emc_energy]`, and it's also important to use the already filtered `emc_index_isemc`, not the original `emc_index`, which has `-1` values in it. An index of `-1` is taken to be the last item of each list, and that would even be an error if any list is empty.\n",
    "\n",
    "The way to think about the order is that the values—floating point numbers, with units of energy—are in `emc_energy` and the output, so `emc_energy` is the array that gets sliced, not the array that does the slicing.\n",
    "\n",
    "The array that does the slicing _must_ be integers, and the output lists will have the lengths of the lists of _integers_, the array that does the slicing.\n",
    "</details>"
   ]
  },
  {
   "cell_type": "markdown",
   "id": "472f73bb-44b9-46bf-bc98-5c46aa98af75",
   "metadata": {},
   "source": [
    "### Plotting track $p_T$ and calorimeter $E$\n",
    "\n",
    "Now that `pMom_isemc` and `track_emc_energy` are aligned with the same shape, they can be compared.\n",
    "\n",
    "Let's start by histogramming each quantity independently, to get a sense of how far each distribution spreads.\n",
    "\n",
    "Since `pMom_isemc` is an array of lists of Lorentz vectors, we can get all of their $p_T$ values by typing `.pt`."
   ]
  },
  {
   "cell_type": "code",
   "execution_count": null,
   "id": "60d9f6e5-a674-4cfa-a0ed-7a8be74aaea7",
   "metadata": {},
   "outputs": [],
   "source": [
    "pMom_isemc.pt"
   ]
  },
  {
   "cell_type": "markdown",
   "id": "52d8f5d2-6262-4a3a-9d11-671709a39642",
   "metadata": {},
   "source": [
    "Similarly, `track_emc_energy` is an array of lists of numbers."
   ]
  },
  {
   "cell_type": "code",
   "execution_count": null,
   "id": "d7b1548b-1c3f-4b05-96c9-d25347affba5",
   "metadata": {},
   "outputs": [],
   "source": [
    "track_emc_energy"
   ]
  },
  {
   "cell_type": "markdown",
   "id": "74056b58-13c2-4eaa-a647-9835b99a79be",
   "metadata": {},
   "source": [
    "\"Lists of numbers\" have more information than can be histogrammed. To get something we can histogram, we need to make flat lists. [ak.flatten](https://awkward-array.readthedocs.io/en/latest/_auto/ak.flatten.html) can help with that."
   ]
  },
  {
   "cell_type": "code",
   "execution_count": null,
   "id": "2da09c13-8c12-4618-b136-19e7e385e48e",
   "metadata": {},
   "outputs": [],
   "source": [
    "ak.flatten(pMom_isemc.pt)"
   ]
  },
  {
   "cell_type": "markdown",
   "id": "cdf2bdc4-7ea9-4038-a3b3-fd189c450c55",
   "metadata": {},
   "source": [
    "Now for a histogram. Adjust `bins=(number of bins)` and `range=(low, high)` to narrow in on the shape of the distribution. See the documentation for [plt.hist](https://matplotlib.org/stable/api/_as_gen/matplotlib.pyplot.hist.html)."
   ]
  },
  {
   "cell_type": "code",
   "execution_count": null,
   "id": "3af4dc4e-3005-4581-9812-6124ba4552d6",
   "metadata": {},
   "outputs": [],
   "source": [
    "import matplotlib.pyplot as plt"
   ]
  },
  {
   "cell_type": "code",
   "execution_count": null,
   "id": "4b863d0f-8daa-4aae-a144-5b847df785a7",
   "metadata": {},
   "outputs": [],
   "source": [
    "plt.hist(ak.flatten(pMom_isemc.pt))\n",
    "plt.yscale(\"log\")"
   ]
  },
  {
   "cell_type": "code",
   "execution_count": null,
   "id": "dff35173-c04b-4ba6-8ef2-c3d0d8073425",
   "metadata": {},
   "outputs": [],
   "source": [
    "plt.hist(ak.flatten(track_emc_energy))\n",
    "plt.yscale(\"log\")"
   ]
  },
  {
   "cell_type": "markdown",
   "id": "3fbd943a-7c52-48d0-b246-0e5a6c6ff3e5",
   "metadata": {},
   "source": [
    "**Exercise 6:** The above plots throw out the list information, but it can be useful. How would you change the expression above to plot maximum calorimeter energy per event? What about the mean energy per event?\n",
    "\n",
    "How do the shapes differ? (Make two Jupyter cells to compare them.)\n",
    "\n",
    "See the NumPy [np.max](https://numpy.org/doc/stable/reference/generated/numpy.amax.html) and [np.mean](https://numpy.org/doc/stable/reference/generated/numpy.mean.html) documentation, and check for arguments that might help."
   ]
  },
  {
   "cell_type": "markdown",
   "id": "09aec5ba-7cc8-4812-8cc9-5276c22ec4dd",
   "metadata": {},
   "source": [
    "<details>\n",
    "    <summary><b>Answer</b> (no peeking!)</summary>\n",
    "\n",
    "Replace `ak.flatten` with `np.max` (`np.amax`) and `np.mean`, but it becomes necessary to supply the `axis=1` argument.\n",
    "\n",
    "```python\n",
    "plt.hist(np.max(track_emc_energy, axis=1))\n",
    "plt.yscale(\"log\")\n",
    "```\n",
    "<br>\n",
    "\n",
    "The default `axis` for `ak.flatten` is already `axis=1`, but the default for `np.max` and `np.mean` is `axis=None`.\n",
    "\n",
    "For all of these functions (and other reducers like `np.max` and `np.mean`, such as count, count_nonzero, sum, argmax, any, all...), `axis=1` eliminates the second dimension, but `axis=None` eliminates all dimensions. For flattening, `axis=None` returns a one-dimensional array, but for reducers, `axis=None` returns a scalar, which can't be plotted.\n",
    "\n",
    "</details>"
   ]
  },
  {
   "cell_type": "markdown",
   "id": "ded3f9f0-9080-4ebc-b77a-201dbb99c0fb",
   "metadata": {
    "tags": []
   },
   "source": [
    "### Plotting the relationship between track $p_T$ and calorimeter $E$\n",
    "\n",
    "Although [plt.hist](https://matplotlib.org/stable/api/_as_gen/matplotlib.pyplot.hist.html) (and [plt.hist2d](https://matplotlib.org/stable/api/_as_gen/matplotlib.pyplot.hist2d.html)) can make a quick plot, you'll eventually want histogram _objects_ that are created with a specified binning and then filled (e.g. to fill iteratively or in parallel).\n",
    "\n",
    "This is what the hist library provides, and it also has some [good 2D plotting routines](https://boost-histogram.readthedocs.io/en/latest/usage/numpy.html)."
   ]
  },
  {
   "cell_type": "code",
   "execution_count": null,
   "id": "a502822e-36a5-460d-bdc0-1703bbd2aa72",
   "metadata": {},
   "outputs": [],
   "source": [
    "import hist"
   ]
  },
  {
   "cell_type": "code",
   "execution_count": null,
   "id": "6bdf7451-4e64-498b-88bc-c54fec42f9cc",
   "metadata": {},
   "outputs": [],
   "source": [
    "energy_vs_pt = hist.Hist(\n",
    "    hist.axis.Regular(25, 5, 30, label=\"track pT\"),\n",
    "    hist.axis.Regular(25, 5, 30, label=\"calorimeter energy\"),\n",
    ")"
   ]
  },
  {
   "cell_type": "code",
   "execution_count": null,
   "id": "e24fbd94-e62c-4949-8803-3e35731c4eab",
   "metadata": {},
   "outputs": [],
   "source": [
    "energy_vs_pt.fill(ak.flatten(pMom_isemc.pt), ak.flatten(track_emc_energy))"
   ]
  },
  {
   "cell_type": "code",
   "execution_count": null,
   "id": "04e4dbe1-90a7-492b-b9d9-2508a3e21940",
   "metadata": {},
   "outputs": [],
   "source": [
    "energy_vs_pt.plot2d_full();"
   ]
  },
  {
   "cell_type": "markdown",
   "id": "5da8f1ba-47e7-4c6f-a9cc-f4c4a6cb0d38",
   "metadata": {},
   "source": [
    "**Exercise 7:** Fill this histogram. Why do you see warning messages?"
   ]
  },
  {
   "cell_type": "code",
   "execution_count": null,
   "id": "cc6f1322-8ca1-4c78-b8eb-86aee6157025",
   "metadata": {},
   "outputs": [],
   "source": [
    "ratio_vs_pt = hist.Hist(\n",
    "    hist.axis.Regular(25, 5, 30, label=\"track pT\"),\n",
    "    hist.axis.Regular(20, 0, 2, label=\"track pT / calorimeter energy\"),\n",
    ")"
   ]
  },
  {
   "cell_type": "code",
   "execution_count": null,
   "id": "3c6229a7-e263-401e-8b29-9290f4ebc09d",
   "metadata": {},
   "outputs": [],
   "source": [
    "pt_over_energy_ratio = ???"
   ]
  },
  {
   "cell_type": "code",
   "execution_count": null,
   "id": "4629d9e2-9ffd-4f35-94fa-e99da462e9d5",
   "metadata": {},
   "outputs": [],
   "source": [
    "ratio_vs_pt.fill(ak.flatten(pMom_isemc.pt), ak.flatten(pt_over_energy_ratio))"
   ]
  },
  {
   "cell_type": "markdown",
   "id": "7c4b5e37-fd35-4f60-a446-3baac2a61ad8",
   "metadata": {},
   "source": [
    "Also, plot this ratio in one dimension:"
   ]
  },
  {
   "cell_type": "code",
   "execution_count": null,
   "id": "19845180-6efc-4098-a726-3a413bf5b0d9",
   "metadata": {},
   "outputs": [],
   "source": [
    "pt_over_energy_ratio_plot = hist.Hist(hist.axis.Regular(40, 0, 4)).fill(ak.flatten(pt_over_energy_ratio))\n",
    "pt_over_energy_ratio_plot[1:]"
   ]
  },
  {
   "cell_type": "code",
   "execution_count": null,
   "id": "c3fff670-c1f0-4ce8-bde1-972213395128",
   "metadata": {},
   "outputs": [],
   "source": [
    "pt_over_energy_ratio_plot.plot()\n",
    "plt.yscale(\"log\")"
   ]
  },
  {
   "cell_type": "markdown",
   "id": "cacb926d-4b1a-45fc-845a-f4a280c71cc4",
   "metadata": {},
   "source": [
    "<details>\n",
    "    <summary><b>Answer</b> (no peeking!)</summary>\n",
    "\n",
    "Divide the two quantities elementwise:\n",
    "\n",
    "```python\n",
    "pt_over_energy_ratio = pMom_isemc.pt / track_emc_energy\n",
    "```\n",
    "<br>\n",
    "\n",
    "NumPy raises warnings about division by zero and zero-divided-by-zero (separately). That's sometimes a mistake, though in this case, we _know_ that some of the $p_T$ and $E$ values are zero. These warnings can be selectively ignored with [np.errstate](https://numpy.org/doc/stable/reference/generated/numpy.errstate.html).\n",
    "\n",
    "Although division by zero would raise an exception in Python (stopping a script), they result in \"not a number\" in arrays. You can see them if you look at `pt_over_energy_ratio`.\n",
    "\n",
    "```\n",
    "<Array [[nan, nan, 0.471, ... nan, 4.32, nan]] type='8004 * var * float64'>\n",
    "```\n",
    "</details>"
   ]
  },
  {
   "cell_type": "markdown",
   "id": "4b97bc3c-c1d0-4e3c-9624-7049be94d435",
   "metadata": {
    "tags": []
   },
   "source": [
    "### Selecting electrons with $p_T/E$\n",
    "\n",
    "Electrons deposit nearly all of their energy in the calorimeter, so $p_T/E$ is nearly 1. (Why $p_T/E$ and not track energy $/$ calorimeter energy? I personally don't know this bit of STAR detector physics.)\n",
    "\n",
    "Looking at the one-dimensional ratio plot, what would be a good cut around the peak at 1?\n",
    "\n",
    "**Exercise 8:** Suppose we take the cut to be 2/3 through 4/3. How do you make an array of "
   ]
  },
  {
   "cell_type": "code",
   "execution_count": null,
   "id": "25570c95-8d88-4402-9209-f3d0ef8b3643",
   "metadata": {},
   "outputs": [],
   "source": [
    "pMom_electrons = ???"
   ]
  },
  {
   "cell_type": "code",
   "execution_count": null,
   "id": "74f7fd12-1039-4156-83f4-13895a14df7f",
   "metadata": {},
   "outputs": [],
   "source": [
    "pMom_electrons = pMom_isemc[(2/3 < pt_over_energy_ratio) & (pt_over_energy_ratio < 4/3)]"
   ]
  },
  {
   "cell_type": "code",
   "execution_count": null,
   "id": "9d10e3c8-d009-4183-86bc-f39a6f251dc5",
   "metadata": {},
   "outputs": [],
   "source": [
    "pMom_electrons"
   ]
  },
  {
   "cell_type": "code",
   "execution_count": null,
   "id": "186b16e0-5261-437e-8564-154eebe7f404",
   "metadata": {},
   "outputs": [],
   "source": [
    "hist.Hist(hist.axis.Regular(90, 0, 45)).fill(ak.flatten(pMom_electrons.pt)).plot();"
   ]
  },
  {
   "cell_type": "code",
   "execution_count": null,
   "id": "3d647092-445a-49ab-bf6b-9f50c27bf7c8",
   "metadata": {},
   "outputs": [],
   "source": [
    "30 * 4/3"
   ]
  },
  {
   "cell_type": "code",
   "execution_count": null,
   "id": "35d3d250-dff9-4c2d-a577-382c710dc6ae",
   "metadata": {},
   "outputs": [],
   "source": []
  }
 ],
 "metadata": {
  "kernelspec": {
   "display_name": "Python 3 (ipykernel)",
   "language": "python",
   "name": "python3"
  },
  "language_info": {
   "codemirror_mode": {
    "name": "ipython",
    "version": 3
   },
   "file_extension": ".py",
   "mimetype": "text/x-python",
   "name": "python",
   "nbconvert_exporter": "python",
   "pygments_lexer": "ipython3",
   "version": "3.8.10"
  }
 },
 "nbformat": 4,
 "nbformat_minor": 5
}
