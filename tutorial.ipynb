{
 "cells": [
  {
   "cell_type": "markdown",
   "id": "88a6d7a8-4ba0-44aa-b9cc-bde6ca17eb71",
   "metadata": {},
   "source": [
    "# Scientific Python tutorial for the STAR collaboration\n",
    "\n",
    "This notebook shows you how to do physics analysis in Python using a STAR PicoDST file. I presented it on Zoom on September 13, 2021.\n",
    "\n",
    "You can read it in GitHub ([jpivarski-talks/2021-09-13-star-uproot-awkward-tutorial](https://github.com/jpivarski-talks/2021-09-13-star-uproot-awkward-tutorial)) or run it [interactively on Binder](FIXME).\n",
    "\n",
    "I recommend the latter, as that would let you see the outputs of the code cells and make modifications to explore \"what if?\" scenarios. Binder loads all dependencies on its server; you don't have to install anything.\n",
    "\n",
    "If you want to run it on your own computer, see the `requirements.txt` file for Python packages to install. The requirements specifies exact versions that are known to work with this notebook, but if you plan to use these libraries for other work, you'll probably want the latest versions of each.\n",
    "\n",
    "This notebook is broken up into sections that lead toward a project in which you will be translating a C++ analysis into array-oriented Python."
   ]
  },
  {
   "cell_type": "markdown",
   "id": "1a438bfd-a767-4d0b-bbc9-1175b4d34e43",
   "metadata": {
    "tags": []
   },
   "source": [
    "## 1. Python: interactively building up an analysis"
   ]
  },
  {
   "cell_type": "markdown",
   "id": "2764f556-cbaf-4629-ac50-0eb78b58ea99",
   "metadata": {},
   "source": [
    "## 2. NumPy: thinking one array at a time"
   ]
  },
  {
   "cell_type": "markdown",
   "id": "ee248524-5bd4-4f9b-8303-68575b5e1e67",
   "metadata": {},
   "source": [
    "## 3. Uproot: array-oriented ROOT I/O"
   ]
  },
  {
   "cell_type": "markdown",
   "id": "4f5afbe6-52bf-4c65-b604-7106fc87dd1e",
   "metadata": {},
   "source": [
    "## 4. Awkward Array: complex data in arrays"
   ]
  },
  {
   "cell_type": "markdown",
   "id": "e013b84a-8de8-481d-a559-c0682ec8f403",
   "metadata": {},
   "source": [
    "## 5. Vector, hist, fastjet: the array-oriented ecosystem"
   ]
  },
  {
   "cell_type": "markdown",
   "id": "4d7bc919-93cd-4f03-94ac-ed821d1faf37",
   "metadata": {
    "tags": []
   },
   "source": [
    "## 6. Z peak: translating a C++ analysis into array-oriented Python\n",
    "\n",
    "In this section, you will plot the mass of e⁺e⁻ pairs from the PicoDST file, using [star-picodst-W-reference-for-jim/macros/PicoDstAnalyzer.C](star-picodst-W-reference-for-jim/macros/PicoDstAnalyzer.C) as a guide."
   ]
  },
  {
   "cell_type": "markdown",
   "id": "cf80a172-196d-4d1a-97ab-40528e76e1fa",
   "metadata": {},
   "source": [
    "### Reading the data\n",
    "\n",
    "All data come from the PicoDST file, so let's load it again."
   ]
  },
  {
   "cell_type": "code",
   "execution_count": 1,
   "id": "3b0f4f5c-69bb-43a5-9d5e-4fac3deeb669",
   "metadata": {},
   "outputs": [],
   "source": [
    "import uproot\n",
    "import awkward as ak\n",
    "import numpy as np"
   ]
  },
  {
   "cell_type": "code",
   "execution_count": 2,
   "id": "917d1057-26d7-4b6e-92a5-175d71640c1a",
   "metadata": {},
   "outputs": [
    {
     "data": {
      "text/plain": [
       "<TTree 'PicoDst' (18 branches) at 0x7f327935c730>"
      ]
     },
     "execution_count": 2,
     "metadata": {},
     "output_type": "execute_result"
    }
   ],
   "source": [
    "picodst = uproot.open(\"https://pivarski-princeton.s3.amazonaws.com/pythia_ppZee_run17emb.picoDst.root:PicoDst\")\n",
    "picodst"
   ]
  },
  {
   "cell_type": "markdown",
   "id": "8224ed6d-59d4-4836-9b50-41804a800dfd",
   "metadata": {
    "tags": []
   },
   "source": [
    "In [star-picodst-W-reference-for-jim/macros/PicoDstAnalyzer.C](star-picodst-W-reference-for-jim/macros/PicoDstAnalyzer.C), the chain of commands that leads to getting a track is:\n",
    "\n",
    "```c++\n",
    "// get a reader and initialize it\n",
    "const Char_t *inFile = \"pythia_ppZee_run17emb.picoDst.root:PicoDst\";\n",
    "StPicoDstReader* picoReader = new StPicoDstReader(inFile);\n",
    "picoReader->Init();\n",
    "\n",
    "// in the loop over events (iEvent), load an event\n",
    "Bool_t readEvent = picoReader->readPicoEvent(iEvent);\n",
    "StPicoDst *dst = picoReader->picoDst();\n",
    "\n",
    "// in the loop over tracks (iTrk), load a track\n",
    "StPicoTrack *picoTrack = dst->track(iTrk);\n",
    "```\n",
    "\n",
    "The most relevant quantity for calculating invariant mass is the track's momentum:\n",
    "\n",
    "```c++\n",
    "picoTrack->pMom()\n",
    "```\n",
    "\n",
    "As a first step, we need to get track momenta. The [star-picodst-W-reference-for-jim/StPicoTrack.h](star-picodst-W-reference-for-jim/StPicoTrack.h) defines `pMom` as\n",
    "\n",
    "```c++\n",
    "TVector3 pMom() const           { return TVector3(mPMomentumX, mPMomentumY, mPMomentumZ); }\n",
    "```\n",
    "\n",
    "**Exercise 1:** Search through `picodst` and find _the full names_ of these branches. Then read all three into _arrays_ named `px`, `py`, and `pz`.\n",
    "\n",
    "For reference, here is the [uproot.TTree](https://uproot.readthedocs.io/en/latest/uproot.behaviors.TTree.TTree.html) documentation.\n",
    "\n",
    "Depending on your network connection, those arrays could take 30 seconds to load. Be sure you have an expression that works on a small subsample before starting the big download."
   ]
  },
  {
   "cell_type": "code",
   "execution_count": null,
   "id": "d4fc90c7-921a-4e26-b924-b0a5c87ed1c1",
   "metadata": {},
   "outputs": [],
   "source": [
    "picodst. ???"
   ]
  },
  {
   "cell_type": "markdown",
   "id": "3d22cde5-329a-4b6b-b56a-32ff63536b27",
   "metadata": {
    "tags": []
   },
   "source": [
    "<details>\n",
    "    <summary><b>Answer</b> (no peeking!)</summary>\n",
    "\n",
    "Search around with `picodst.keys`, gradually narrowing its output with wildcards or regular expressions like either of the following:\n",
    "\n",
    "```python\n",
    "picodst.keys(filter_name=\"*mPMomentum[XYZ]\")\n",
    "\n",
    "picodst.keys(filter_name=\"/.*mPMomentum[XYZ]/\")\n",
    "```\n",
    "</details>"
   ]
  },
  {
   "cell_type": "code",
   "execution_count": 3,
   "id": "ca0a6924-c6ee-41cd-a2aa-7d8a3549c241",
   "metadata": {},
   "outputs": [],
   "source": [
    "px, py, pz = ???"
   ]
  },
  {
   "cell_type": "markdown",
   "id": "b69783fb-af9b-4538-ace6-f96522498396",
   "metadata": {},
   "source": [
    "<details>\n",
    "    <summary><b>Hint for postponing the big download</b> (okay, maybe peek)</summary>\n",
    "\n",
    "Remember that all of the array-fetching functions (`TTree.arrays`, `TBranch.array`, etc.) take `entry_start` and `entry_stop` as arguments.\n",
    "\n",
    "You can quickly limit the number of baskets read by setting `entry_stop` to some small number, like 1000.\n",
    "\n",
    "```python\n",
    "picodst.arrays(\"Event.mEventId\", entry_stop=1000)\n",
    "```\n",
    "<br>\n",
    "\n",
    "When you've got something you like, you can then remove the `entry_stop=1000` to let it go through the whole file.\n",
    "</details>"
   ]
  },
  {
   "cell_type": "markdown",
   "id": "87f9e631-f31f-4307-bb11-4a7c652572b6",
   "metadata": {},
   "source": [
    "<details>\n",
    "    <summary><b>Answer</b> (no peeking!)</summary>\n",
    "\n",
    "There are several different ways to read the arrays, but the most straightforward are `TTree.arrays` and `TBranch.array`.\n",
    "\n",
    "`TTree.arrays` can use the same `filter_name` that you identified with `TTree.keys`. But just calling it as-is returns a single array.\n",
    "\n",
    "```python\n",
    "single_array = picodst.arrays(filter_name=\"*mPMomentum[XYZ]\")\n",
    "```\n",
    "<br>\n",
    "\n",
    "**Solution 1:** You could, then, look at the `single_array.fields` ([ak.fields](https://awkward-array.readthedocs.io/en/latest/_auto/ak.fields.html)) to see what their names are and just pull them out.\n",
    "\n",
    "```python\n",
    "px = single_array[\"Track.mPMomentumX\"]\n",
    "py = single_array[\"Track.mPMomentumY\"]\n",
    "pz = single_array[\"Track.mPMomentumZ\"]\n",
    "```\n",
    "<br>\n",
    "\n",
    "**Solution 2:** Or you could pull them all out at once (without needing to know their names) with [ak.unzip](https://awkward-array.readthedocs.io/en/latest/_auto/ak.unzip.html).\n",
    "\n",
    "```python\n",
    "px, py, pz = ak.unzip(single_array)\n",
    "```\n",
    "<br>\n",
    "\n",
    "**Solution 3:** Or, if you noticed the `how` parameter of `TTree.arrays`, you'd see that this gives you the desired form directly.\n",
    "\n",
    "```python\n",
    "px, py, pz = picodst.arrays(filter_name=\"*mPMomentum[XYZ]\", how=tuple)\n",
    "```\n",
    "<br>\n",
    "\n",
    "**Solution 4:** As one final alternative, you could get each branch object and use `TBranch.array` on each one individually. (For network traffic, this is three request-and-responses rather than one, so it's less efficient, but leave that for later performance tuning.)\n",
    "\n",
    "```python\n",
    "px = picodst[\"Track/Track.mPMomentumX\"].array()\n",
    "py = picodst[\"Track/Track.mPMomentumY\"].array()\n",
    "pz = picodst[\"Track/Track.mPMomentumZ\"].array()\n",
    "```\n",
    "</details>"
   ]
  },
  {
   "cell_type": "markdown",
   "id": "a1de568b-03d3-486d-92f9-7ca9ecce8e43",
   "metadata": {},
   "source": [
    "### Making an array of Lorentz vectors\n",
    "\n",
    "Rather than calculating invariant mass from first principles, let's cast these as a `\"Momentum4D\"` with the Vector library."
   ]
  },
  {
   "cell_type": "code",
   "execution_count": 4,
   "id": "0ac13c62-7520-4269-b5c6-79ca76cd0fdb",
   "metadata": {},
   "outputs": [],
   "source": [
    "import vector\n",
    "vector.register_awkward()"
   ]
  },
  {
   "cell_type": "markdown",
   "id": "74553e16-bad5-4a52-9f20-8703bf5f2788",
   "metadata": {},
   "source": [
    "**Exercise 2:** Combine the `px`, `py`, `pz`, and `M = 0.000511` (a constant) into an array of type\n",
    "\n",
    "```\n",
    "8004 * var * {\"px\": float32, \"py\": float32, \"pz\": float32, \"M\": float64}\n",
    "```\n",
    "\n",
    "It is _essential_ that the \"`var`\" is outside the record structure—that it is an array of lists of `px-py-pz-M` records, not an array of records of `px-py-pz-M` lists, such as\n",
    "\n",
    "```\n",
    "8004 * {\"px\": var * float32, \"py\": var * float32, \"pz\": var * float32, \"M\": float64}\n",
    "```\n",
    "\n",
    "_When that works,_ also add the name `\"Momentum4D\"` to those records, so that they become Lorentz vectors. The type should then look like\n",
    "\n",
    "```\n",
    "8004 * var * Momentum4D[\"px\": float32, \"py\": float32, \"pz\": float32, \"M\": float64]\n",
    "```\n",
    "\n",
    "Both of these should compute instantaneously. If it's taking a long time, something's wrong.\n",
    "\n",
    "**Hint:** The [ak.zip](https://awkward-array.readthedocs.io/en/latest/_auto/ak.zip.html) function is relevant. You might also use [ak.Array](https://awkward-array.readthedocs.io/en/latest/_auto/ak.Array.html) and/or [ak.with_name](https://awkward-array.readthedocs.io/en/latest/_auto/ak.with_name.html), and [ak.type](https://awkward-array.readthedocs.io/en/latest/_auto/ak.type.html) or just `.type` to look at the type."
   ]
  },
  {
   "cell_type": "code",
   "execution_count": 5,
   "id": "70a15532-f20f-4e6d-8acc-738d569e9f08",
   "metadata": {},
   "outputs": [],
   "source": [
    "pMom = ???"
   ]
  },
  {
   "cell_type": "markdown",
   "id": "35f5efe3-17f4-4606-8ec6-3eaed0f39aec",
   "metadata": {},
   "source": [
    "<details>\n",
    "    <summary><b>Answer</b> (no peeking!)</summary>\n",
    "\n",
    "This is just what the `ak.zip` function does, when given a dict of field names to arrays. Don't set the `depth_limit`, as that would prevent their merger into an array of lists of records. The `\"M\"` field does not need to be an array—`ak.zip` will \"broadcast\" a constant into the same shape as the other fields.\n",
    "\n",
    "```python\n",
    "ak.zip({\"px\": px, \"py\": py, \"pz\": pz, \"M\": 0.000511})\n",
    "```\n",
    "<br>\n",
    "\n",
    "To add the `\"Momentum4D\"` name to these fields, you could use `ak.with_name` explicitly:\n",
    "\n",
    "```python\n",
    "ak.with_name(ak.zip({\"px\": px, \"py\": py, \"pz\": pz, \"M\": 0.000511}), \"Momentum4D\")\n",
    "```\n",
    "<br>\n",
    "\n",
    "or just add it as an argument in the original `ak.zip`:\n",
    "\n",
    "```python\n",
    "ak.zip({\"px\": px, \"py\": py, \"pz\": pz, \"M\": 0.000511}, with_name=\"Momentum4D\")\n",
    "```\n",
    "<br>\n",
    "\n",
    "The `ak.Array` constructor also has a `with_name` argument, so you could have used that, too.\n",
    "</details>"
   ]
  },
  {
   "cell_type": "markdown",
   "id": "df422789-45fd-44ab-96f1-dc98eef9a4e2",
   "metadata": {},
   "source": [
    "### Aside: if you're averse to physical constants in your code\n",
    "\n",
    "There are libraries for that. Particle is a \"Pythonic PDG\" and hepunits has unit conversions in the same units as Particle."
   ]
  },
  {
   "cell_type": "code",
   "execution_count": 6,
   "id": "38348016-3393-4fa0-879f-9ed3928679a0",
   "metadata": {},
   "outputs": [
    {
     "data": {
      "text/plain": [
       "0.0005109989460999999"
      ]
     },
     "execution_count": 6,
     "metadata": {},
     "output_type": "execute_result"
    }
   ],
   "source": [
    "import particle, hepunits\n",
    "\n",
    "particle.Particle.find(\"e-\").mass / hepunits.GeV"
   ]
  },
  {
   "cell_type": "markdown",
   "id": "10625ba1-1526-4180-b381-7eea122531f9",
   "metadata": {},
   "source": [
    "Constant fields can be added to a list of records through assignment."
   ]
  },
  {
   "cell_type": "code",
   "execution_count": 7,
   "id": "2c742d76-c424-4700-9dec-2274f7896412",
   "metadata": {},
   "outputs": [],
   "source": [
    "pMom[\"M\"] = particle.Particle.find(\"e-\").mass / hepunits.GeV"
   ]
  },
  {
   "cell_type": "markdown",
   "id": "8acae146-0f51-4ca7-8ad9-13606b9cd4a0",
   "metadata": {},
   "source": [
    "Now it's more precise."
   ]
  },
  {
   "cell_type": "code",
   "execution_count": 8,
   "id": "ec0cec6c-3881-43ef-b875-75784aa8a8f7",
   "metadata": {},
   "outputs": [
    {
     "data": {
      "text/plain": [
       "0.0005109989460999999"
      ]
     },
     "execution_count": 8,
     "metadata": {},
     "output_type": "execute_result"
    }
   ],
   "source": [
    "pMom[0, 0, \"M\"]"
   ]
  },
  {
   "cell_type": "markdown",
   "id": "75cbfea2-1da3-45f2-889a-acfb42e6581d",
   "metadata": {},
   "source": [
    "### How many tracks are there per event? How many pairwise combinations?\n",
    "\n",
    "The [ak.num](https://awkward-array.readthedocs.io/en/latest/_auto/ak.num.html) function returns the number of items in a `var` dimension, and NumPy's [np.mean](https://numpy.org/doc/stable/reference/generated/numpy.mean.html) computes an average."
   ]
  },
  {
   "cell_type": "code",
   "execution_count": 9,
   "id": "92d4c03f-a7d2-4331-b537-1095a82be94c",
   "metadata": {},
   "outputs": [
    {
     "data": {
      "text/plain": [
       "<Array [2594, 2513, 2909, ... 2441, 2586, 2321] type='8004 * int64'>"
      ]
     },
     "execution_count": 9,
     "metadata": {},
     "output_type": "execute_result"
    }
   ],
   "source": [
    "ak.num(pMom)"
   ]
  },
  {
   "cell_type": "code",
   "execution_count": 10,
   "id": "02a30db3-c76e-4200-878f-ca7748c85234",
   "metadata": {},
   "outputs": [
    {
     "data": {
      "text/plain": [
       "2611.1579210394802"
      ]
     },
     "execution_count": 10,
     "metadata": {},
     "output_type": "execute_result"
    }
   ],
   "source": [
    "np.mean(ak.num(pMom))"
   ]
  },
  {
   "cell_type": "markdown",
   "id": "6c3872f2-47af-42ce-b8a6-bd54318c13f5",
   "metadata": {},
   "source": [
    "**Exercise 3:** If we were to compute [ak.combinations](https://awkward-array.readthedocs.io/en/latest/_auto/ak.combinations.html) on these tracks (don't try it!), how many combinations would there be, on average?\n",
    "\n",
    "Remember, for a list with $N$ items, `ak.combinations(dataset, 2)` produces \"$N$ choose $2$\" pairs, which is $\\frac{N (N - 1)}{2}$."
   ]
  },
  {
   "cell_type": "markdown",
   "id": "949999c3-db7f-4f9b-82b3-f53e63f8fca7",
   "metadata": {},
   "source": [
    "<details>\n",
    "    <summary><b>Answer</b> (no peeking!)</summary>\n",
    "\n",
    "If $N$ were a single scalar, we would just compute the formula\n",
    "\n",
    "```python\n",
    "N = 10\n",
    "(N * (N - 1)) / 2\n",
    "```\n",
    "<br>\n",
    "\n",
    "In array-oriented computing, we can do the same thing with an array of values.\n",
    "\n",
    "```python\n",
    "tracks_in_each_event = ak.num(pMom)\n",
    "pairs_in_each_event = (tracks_in_each_event * (tracks_in_each_event - 1)) / 2\n",
    "np.mean(pairs_in_each_event)\n",
    "```\n",
    "<br>\n",
    "\n",
    "which is 3.5 million pairs _in each event._\n",
    "</details>"
   ]
  },
  {
   "cell_type": "markdown",
   "id": "f17fa9bb-5a59-4272-91c0-5e5439d5125e",
   "metadata": {},
   "source": [
    "### Selecting electrons\n",
    "\n",
    "Although we've created Lorentz vector objects of mass 0.000511 GeV, there's no guarantee that these tracks are electrons. In fact, many of them are not.\n",
    "\n",
    "A good discriminating property of electrons is that they deposit most of their energy in an electromagnetic calorimeter. If the $p_T$ measured via track curvature is approximately equal to the energy of a matched calorimeter tower, then there's a better chance they're electrons.\n",
    "\n",
    "In the C++ code ([star-picodst-W-reference-for-jim/macros/PicoDstAnalyzer.C](star-picodst-W-reference-for-jim/macros/PicoDstAnalyzer.C)), tracks are identified as having an electromagnetic shower match with\n",
    "\n",
    "```c++\n",
    "picoTrack->isBemcTrack()\n",
    "```\n",
    "\n",
    "and the matching shower is returned via\n",
    "\n",
    "```c++\n",
    "StPicoBEmcPidTraits *trait = dst->bemcPidTraits( picoTrack->bemcPidTraitsIndex() );\n",
    "```\n",
    "\n",
    "The The [star-picodst-W-reference-for-jim/StPicoTrack.h](star-picodst-W-reference-for-jim/StPicoTrack.h) defines these as\n",
    "\n",
    "```c++\n",
    "Bool_t isBemcTrack() const             { return (mBEmcPidTraitsIndex<0) ? false : true; }\n",
    "\n",
    "Int_t bemcPidTraitsIndex() const       { return mBEmcPidTraitsIndex; }\n",
    "\n",
    "static StPicoBEmcPidTraits* bemcPidTraits(Int_t i) { return (StPicoBEmcPidTraits*)picoArrays[StPicoArrays::BEmcPidTraits]->UncheckedAt(i); }\n",
    "```\n",
    "\n",
    "which we can find as branches in the TTree.\n",
    "\n",
    "According to [star-picodst-W-reference-for-jim/StPicoBEmcPidTraits.h](star-picodst-W-reference-for-jim/StPicoBEmcPidTraits.h), the calorimeter energy is in MeV, so we have to divide it by 1000 to get GeV, like the tracks.\n",
    "\n",
    "```c++\n",
    "Float_t btowE() const          { return (Float_t)mBtowE / 1000.; }\n",
    "```"
   ]
  },
  {
   "cell_type": "code",
   "execution_count": 60,
   "id": "80d5492a-61b0-444e-acf8-d2900ef2e3c8",
   "metadata": {},
   "outputs": [],
   "source": [
    "emc_index = picodst[\"Track.mBEmcPidTraitsIndex\"].array()\n",
    "emc_energy = picodst[\"EmcPidTraits.mBtowE\"].array() / 1000"
   ]
  },
  {
   "cell_type": "code",
   "execution_count": 12,
   "id": "2d2d2f5c-f419-4ba5-8445-f6b52041eab6",
   "metadata": {},
   "outputs": [
    {
     "data": {
      "text/plain": [
       "<Array [[-1, -1, -1, -1, ... -1, -1, -1, -1]] type='8004 * var * int16'>"
      ]
     },
     "execution_count": 12,
     "metadata": {},
     "output_type": "execute_result"
    }
   ],
   "source": [
    "emc_index"
   ]
  },
  {
   "cell_type": "code",
   "execution_count": 61,
   "id": "8794dc7b-2104-4ab7-a14e-be6f464711e9",
   "metadata": {},
   "outputs": [
    {
     "data": {
      "text/plain": [
       "<Array [[0, 0, 1.71, 32.8, ... 0, 0.36, 0]] type='8004 * var * float64'>"
      ]
     },
     "execution_count": 61,
     "metadata": {},
     "output_type": "execute_result"
    }
   ],
   "source": [
    "emc_energy"
   ]
  },
  {
   "cell_type": "markdown",
   "id": "7f8addc0-1ecc-4eec-958f-dd150a84e687",
   "metadata": {},
   "source": [
    "**Exercise 4:** Make an array with the same shape as `pMom` containing _true_ if the corresponding track has an electromagnetic calorimeter match and _false_ if it does not.\n",
    "\n",
    "It should have type ([ak.type](https://awkward-array.readthedocs.io/en/latest/_auto/ak.type.html))\n",
    "\n",
    "```\n",
    "8004 * var * bool\n",
    "```"
   ]
  },
  {
   "cell_type": "code",
   "execution_count": null,
   "id": "54654d9b-010a-429f-a555-a5a5d44f2d58",
   "metadata": {},
   "outputs": [],
   "source": [
    "isBemcTrack = ???"
   ]
  },
  {
   "cell_type": "markdown",
   "id": "250d11c5-52ed-414a-a65b-dede62770536",
   "metadata": {},
   "source": [
    "It should then be possible to compute"
   ]
  },
  {
   "cell_type": "code",
   "execution_count": 15,
   "id": "c87f07aa-2507-4f78-b60c-aca524a8f202",
   "metadata": {},
   "outputs": [],
   "source": [
    "pMom_isemc = pMom[isBemcTrack]\n",
    "emc_index_isemc = emc_index[isBemcTrack]"
   ]
  },
  {
   "cell_type": "markdown",
   "id": "f369a08a-be7a-4633-84ae-5e4e4d1c0010",
   "metadata": {},
   "source": [
    "and the average numbers of _selected_ tracks is much fewer."
   ]
  },
  {
   "cell_type": "code",
   "execution_count": 16,
   "id": "6d72eb6d-b420-492b-934a-1462264fc091",
   "metadata": {},
   "outputs": [
    {
     "data": {
      "text/plain": [
       "16.81984007996002"
      ]
     },
     "execution_count": 16,
     "metadata": {},
     "output_type": "execute_result"
    }
   ],
   "source": [
    "np.mean(ak.num(pMom_isemc))"
   ]
  },
  {
   "cell_type": "code",
   "execution_count": 17,
   "id": "d4592dfe-edb0-47e2-9365-fdbe489e50c4",
   "metadata": {},
   "outputs": [
    {
     "data": {
      "text/plain": [
       "16.81984007996002"
      ]
     },
     "execution_count": 17,
     "metadata": {},
     "output_type": "execute_result"
    }
   ],
   "source": [
    "np.mean(ak.num(emc_index_isemc))"
   ]
  },
  {
   "cell_type": "markdown",
   "id": "43daca7b-55ea-4e48-8082-8772ef701b1f",
   "metadata": {},
   "source": [
    "<details>\n",
    "    <summary><b>Answer</b> (no peeking!)</summary>\n",
    "\n",
    "Comparison operators, `<` and `>`, apply array-at-a-time, like anything else.\n",
    "\n",
    "```python\n",
    "isBemcTrack = (emc_index >= 0)\n",
    "```\n",
    "<br>\n",
    "\n",
    "Be sure to get the direction of the comparison right: in the C++ code, `mBEmcPidTraitsIndex<0` means `isBemcTrack` is _false_.\n",
    "</details>"
   ]
  },
  {
   "cell_type": "markdown",
   "id": "be7460a7-d859-4aeb-bf8b-250da34dc37d",
   "metadata": {},
   "source": [
    "### Connecting tracks to showers\n",
    "\n",
    "The `emc_index` (in particular, `emc_index_isemc` with the cut) determines _which item_ of `emc_energy` to associated with _each track_ in _each event_.\n",
    "\n",
    "It's an array of lists of integers (usually in order, but that isn't guaranteed)."
   ]
  },
  {
   "cell_type": "code",
   "execution_count": 18,
   "id": "6ff594af-6493-470e-964a-ef75243b0bd3",
   "metadata": {},
   "outputs": [
    {
     "data": {
      "text/plain": [
       "<Array [[0, 1, 2, 3, 4, 5, ... 3, 4, 5, 6, 7]] type='8004 * var * int16'>"
      ]
     },
     "execution_count": 18,
     "metadata": {},
     "output_type": "execute_result"
    }
   ],
   "source": [
    "emc_index_isemc"
   ]
  },
  {
   "cell_type": "code",
   "execution_count": 19,
   "id": "a5bd9a08-7b45-4cb1-b7ee-e4dfac436cff",
   "metadata": {},
   "outputs": [
    {
     "data": {
      "text/plain": [
       "<Array [0, 1, 2, 3, 4, 5, 6] type='7 * int16'>"
      ]
     },
     "execution_count": 19,
     "metadata": {},
     "output_type": "execute_result"
    }
   ],
   "source": [
    "emc_index_isemc[0]"
   ]
  },
  {
   "cell_type": "code",
   "execution_count": 20,
   "id": "22bf9897-72d7-493f-bfe6-7d69268cc21a",
   "metadata": {},
   "outputs": [
    {
     "data": {
      "text/plain": [
       "<Array [0, 1, 2, 3] type='4 * int16'>"
      ]
     },
     "execution_count": 20,
     "metadata": {},
     "output_type": "execute_result"
    }
   ],
   "source": [
    "emc_index_isemc[1]"
   ]
  },
  {
   "cell_type": "code",
   "execution_count": 21,
   "id": "11634d95-83bb-440e-83a9-9276d5ed66a0",
   "metadata": {},
   "outputs": [
    {
     "data": {
      "text/plain": [
       "<Array [0, 1, 2, 3] type='4 * int16'>"
      ]
     },
     "execution_count": 21,
     "metadata": {},
     "output_type": "execute_result"
    }
   ],
   "source": [
    "emc_index_isemc[2]"
   ]
  },
  {
   "cell_type": "markdown",
   "id": "ac995e4e-4df6-4334-b9e4-050b0a61fd1d",
   "metadata": {},
   "source": [
    "What is guaranteed is that all the integers are non-negative and less than the length of the `emc_energy` list _for that event_."
   ]
  },
  {
   "cell_type": "code",
   "execution_count": 22,
   "id": "bd889018-4626-453c-a188-1dfcfab9fac4",
   "metadata": {},
   "outputs": [
    {
     "data": {
      "text/plain": [
       "True"
      ]
     },
     "execution_count": 22,
     "metadata": {},
     "output_type": "execute_result"
    }
   ],
   "source": [
    "np.all(emc_index_isemc >= 0)"
   ]
  },
  {
   "cell_type": "code",
   "execution_count": 24,
   "id": "588ebce6-e4d8-41c7-8d2f-110441fc2e92",
   "metadata": {},
   "outputs": [
    {
     "data": {
      "text/plain": [
       "<Array [6, 3, 3, 1, 3, 0, ... 1, 1, 6, 0, 7, 7] type='8004 * ?int16'>"
      ]
     },
     "execution_count": 24,
     "metadata": {},
     "output_type": "execute_result"
    }
   ],
   "source": [
    "np.max(emc_index_isemc, axis=1)"
   ]
  },
  {
   "cell_type": "code",
   "execution_count": 26,
   "id": "201fcfe0-7181-450c-86fb-f9e7a46d2444",
   "metadata": {},
   "outputs": [
    {
     "data": {
      "text/plain": [
       "<Array [7, 4, 4, 2, 4, 1, ... 2, 2, 7, 1, 8, 8] type='8004 * int64'>"
      ]
     },
     "execution_count": 26,
     "metadata": {},
     "output_type": "execute_result"
    }
   ],
   "source": [
    "ak.num(emc_energy, axis=1)"
   ]
  },
  {
   "cell_type": "code",
   "execution_count": 27,
   "id": "72a43899-9473-4125-ab1c-1037d4f1ac61",
   "metadata": {},
   "outputs": [
    {
     "data": {
      "text/plain": [
       "True"
      ]
     },
     "execution_count": 27,
     "metadata": {},
     "output_type": "execute_result"
    }
   ],
   "source": [
    "np.all(np.max(emc_index_isemc, axis=1) < ak.num(emc_energy, axis=1))"
   ]
  },
  {
   "cell_type": "markdown",
   "id": "eb741b32-3bfa-427d-8900-6fa5bc1aa7d3",
   "metadata": {},
   "source": [
    "**Exercise 5:** Make an array of calorimeter energy for each track. Remember the [slicing rules](https://awkward-array.readthedocs.io/en/latest/_auto/ak.Array.html#ak-array-getitem)."
   ]
  },
  {
   "cell_type": "code",
   "execution_count": null,
   "id": "41d37626-64b9-4b5f-978b-ebba790a560e",
   "metadata": {},
   "outputs": [],
   "source": [
    "track_emc_energy = ???"
   ]
  },
  {
   "cell_type": "markdown",
   "id": "bfa62a75-3193-46a6-981f-21d6c081d242",
   "metadata": {},
   "source": [
    "It must have the same list lengths as `pMom_isemc` (and `emc_index_isemc`, which themselves have the same lengths)."
   ]
  },
  {
   "cell_type": "code",
   "execution_count": 64,
   "id": "cd199caf-8162-458c-9a87-190616d9b27d",
   "metadata": {},
   "outputs": [
    {
     "data": {
      "text/plain": [
       "(<Array [7, 4, 4, 2, 4, 1, ... 2, 2, 7, 1, 8, 8] type='8004 * int64'>,\n",
       " <Array [7, 4, 4, 2, 4, 1, ... 2, 2, 7, 1, 8, 8] type='8004 * int64'>,\n",
       " <Array [7, 4, 4, 2, 4, 1, ... 2, 2, 7, 1, 8, 8] type='8004 * int64'>)"
      ]
     },
     "execution_count": 64,
     "metadata": {},
     "output_type": "execute_result"
    }
   ],
   "source": [
    "ak.num(pMom_isemc), ak.num(emc_index_isemc), ak.num(track_emc_energy)"
   ]
  },
  {
   "cell_type": "code",
   "execution_count": 65,
   "id": "b3f47bd5-8b41-4839-ac76-e93fba9b7c90",
   "metadata": {},
   "outputs": [
    {
     "data": {
      "text/plain": [
       "True"
      ]
     },
     "execution_count": 65,
     "metadata": {},
     "output_type": "execute_result"
    }
   ],
   "source": [
    "np.all(ak.num(pMom_isemc) == ak.num(track_emc_energy))"
   ]
  },
  {
   "cell_type": "markdown",
   "id": "2ad56b5a-b9b6-4f46-9e30-420554ccb256",
   "metadata": {},
   "source": [
    "<details>\n",
    "    <summary><b>Answer</b> (no peeking!)</summary>\n",
    "\n",
    "This is what slicing by an array of integers does.\n",
    "\n",
    "```python\n",
    "track_emc_energy = emc_energy[emc_index_isemc]\n",
    "```\n",
    "<br>\n",
    "\n",
    "It's important to get the order right, to not write `emc_index_isemc[emc_energy]`, and it's also important to use the already filtered `emc_index_isemc`, not the original `emc_index`, which has `-1` values in it. An index of `-1` is taken to be the last item of each list, and that would even be an error if any list is empty.\n",
    "\n",
    "The way to think about the order is that the values—floating point numbers, with units of energy—are in `emc_energy` and the output, so `emc_energy` is the array that gets sliced, not the array that does the slicing.\n",
    "\n",
    "The array that does the slicing _must_ be integers, and the output lists will have the lengths of the lists of _integers_, the array that does the slicing.\n",
    "</details>"
   ]
  },
  {
   "cell_type": "markdown",
   "id": "472f73bb-44b9-46bf-bc98-5c46aa98af75",
   "metadata": {},
   "source": [
    "### Plotting track $p_T$ and calorimeter $E$\n",
    "\n",
    "Now that `pMom_isemc` and `track_emc_energy` are aligned with the same shape, they can be compared.\n",
    "\n",
    "Let's start by histogramming each quantity independently, to get a sense of how far each distribution spreads.\n",
    "\n",
    "Since `pMom_isemc` is an array of lists of Lorentz vectors, we can get all of their $p_T$ values by typing `.pt`."
   ]
  },
  {
   "cell_type": "code",
   "execution_count": 34,
   "id": "60d9f6e5-a674-4cfa-a0ed-7a8be74aaea7",
   "metadata": {},
   "outputs": [
    {
     "data": {
      "text/plain": [
       "<Array [[0, 0, 0.803, 17.9, ... 0, 0, 1.56, 0]] type='8004 * var * float32'>"
      ]
     },
     "execution_count": 34,
     "metadata": {},
     "output_type": "execute_result"
    }
   ],
   "source": [
    "pMom_isemc.pt"
   ]
  },
  {
   "cell_type": "markdown",
   "id": "52d8f5d2-6262-4a3a-9d11-671709a39642",
   "metadata": {},
   "source": [
    "Similarly, `track_emc_energy` is an array of lists of numbers."
   ]
  },
  {
   "cell_type": "code",
   "execution_count": 66,
   "id": "d7b1548b-1c3f-4b05-96c9-d25347affba5",
   "metadata": {},
   "outputs": [
    {
     "data": {
      "text/plain": [
       "<Array [[0, 0, 1.71, 32.8, ... 0, 0.36, 0]] type='8004 * var * float64'>"
      ]
     },
     "execution_count": 66,
     "metadata": {},
     "output_type": "execute_result"
    }
   ],
   "source": [
    "track_emc_energy"
   ]
  },
  {
   "cell_type": "markdown",
   "id": "74056b58-13c2-4eaa-a647-9835b99a79be",
   "metadata": {},
   "source": [
    "\"Lists of numbers\" have more information than can be histogrammed. To get something we can histogram, we need to make flat lists. [ak.flatten](https://awkward-array.readthedocs.io/en/latest/_auto/ak.flatten.html) can help with that."
   ]
  },
  {
   "cell_type": "code",
   "execution_count": 36,
   "id": "2da09c13-8c12-4618-b136-19e7e385e48e",
   "metadata": {},
   "outputs": [
    {
     "data": {
      "text/plain": [
       "<Array [0, 0, 0.803, 17.9, ... 0, 0, 1.56, 0] type='134626 * float32'>"
      ]
     },
     "execution_count": 36,
     "metadata": {},
     "output_type": "execute_result"
    }
   ],
   "source": [
    "ak.flatten(pMom_isemc.pt)"
   ]
  },
  {
   "cell_type": "markdown",
   "id": "cdf2bdc4-7ea9-4038-a3b3-fd189c450c55",
   "metadata": {},
   "source": [
    "Now for a histogram. Adjust `bins=(number of bins)` and `range=(low, high)` to narrow in on the shape of the distribution. See the documentation for [plt.hist](https://matplotlib.org/stable/api/_as_gen/matplotlib.pyplot.hist.html)."
   ]
  },
  {
   "cell_type": "code",
   "execution_count": 54,
   "id": "3af4dc4e-3005-4581-9812-6124ba4552d6",
   "metadata": {},
   "outputs": [],
   "source": [
    "import matplotlib.pyplot as plt"
   ]
  },
  {
   "cell_type": "code",
   "execution_count": 58,
   "id": "4b863d0f-8daa-4aae-a144-5b847df785a7",
   "metadata": {},
   "outputs": [
    {
     "data": {
      "image/png": "[encoded data removed]",
      "text/plain": [
       "<Figure size 432x288 with 1 Axes>"
      ]
     },
     "metadata": {
      "needs_background": "light"
     },
     "output_type": "display_data"
    }
   ],
   "source": [
    "plt.hist(ak.flatten(pMom_isemc.pt))\n",
    "plt.yscale(\"log\")"
   ]
  },
  {
   "cell_type": "code",
   "execution_count": 67,
   "id": "dff35173-c04b-4ba6-8ef2-c3d0d8073425",
   "metadata": {},
   "outputs": [
    {
     "data": {
      "image/png": "[encoded data removed]",
      "text/plain": [
       "<Figure size 432x288 with 1 Axes>"
      ]
     },
     "metadata": {
      "needs_background": "light"
     },
     "output_type": "display_data"
    }
   ],
   "source": [
    "plt.hist(ak.flatten(track_emc_energy))\n",
    "plt.yscale(\"log\")"
   ]
  },
  {
   "cell_type": "markdown",
   "id": "3fbd943a-7c52-48d0-b246-0e5a6c6ff3e5",
   "metadata": {},
   "source": [
    "**Exercise 6:** The above plots throw out the list information, but it can be useful. How would you change the expression above to plot maximum calorimeter energy per event? What about the mean energy per event?\n",
    "\n",
    "How do the shapes differ? (Make two Jupyter cells to compare them.)\n",
    "\n",
    "See the NumPy [np.max](https://numpy.org/doc/stable/reference/generated/numpy.amax.html) and [np.mean](https://numpy.org/doc/stable/reference/generated/numpy.mean.html) documentation, and check for arguments that might help."
   ]
  },
  {
   "cell_type": "markdown",
   "id": "09aec5ba-7cc8-4812-8cc9-5276c22ec4dd",
   "metadata": {},
   "source": [
    "<details>\n",
    "    <summary><b>Answer</b> (no peeking!)</summary>\n",
    "\n",
    "Replace `ak.flatten` with `np.max` (`np.amax`) and `np.mean`, but it becomes necessary to supply the `axis=1` argument.\n",
    "\n",
    "```python\n",
    "plt.hist(np.max(track_emc_energy, axis=1))\n",
    "plt.yscale(\"log\")\n",
    "```\n",
    "<br>\n",
    "\n",
    "The default `axis` for `ak.flatten` is already `axis=1`, but the default for `np.max` and `np.mean` is `axis=None`.\n",
    "\n",
    "For all of these functions (and other reducers like `np.max` and `np.mean`, such as count, count_nonzero, sum, argmax, any, all...), `axis=1` eliminates the second dimension, but `axis=None` eliminates all dimensions. For flattening, `axis=None` returns a one-dimensional array, but for reducers, `axis=None` returns a scalar, which can't be plotted.\n",
    "\n",
    "</details>"
   ]
  },
  {
   "cell_type": "markdown",
   "id": "ded3f9f0-9080-4ebc-b77a-201dbb99c0fb",
   "metadata": {
    "tags": []
   },
   "source": [
    "### Plotting the relationship between track $p_T$ and calorimeter $E$\n",
    "\n",
    "Although [plt.hist](https://matplotlib.org/stable/api/_as_gen/matplotlib.pyplot.hist.html) (and [plt.hist2d](https://matplotlib.org/stable/api/_as_gen/matplotlib.pyplot.hist2d.html)) can make a quick plot, you'll eventually want histogram _objects_ that are created with a specified binning and then filled (e.g. to fill iteratively or in parallel).\n",
    "\n",
    "This is what the hist library provides, and it also has some [good 2D plotting routines](https://boost-histogram.readthedocs.io/en/latest/usage/numpy.html)."
   ]
  },
  {
   "cell_type": "code",
   "execution_count": 83,
   "id": "a502822e-36a5-460d-bdc0-1703bbd2aa72",
   "metadata": {},
   "outputs": [],
   "source": [
    "import hist"
   ]
  },
  {
   "cell_type": "code",
   "execution_count": 112,
   "id": "6bdf7451-4e64-498b-88bc-c54fec42f9cc",
   "metadata": {},
   "outputs": [],
   "source": [
    "energy_vs_pt = hist.Hist(\n",
    "    hist.axis.Regular(25, 5, 30, label=\"track pT\"),\n",
    "    hist.axis.Regular(25, 5, 30, label=\"calorimeter energy\"),\n",
    ")"
   ]
  },
  {
   "cell_type": "code",
   "execution_count": 113,
   "id": "e24fbd94-e62c-4949-8803-3e35731c4eab",
   "metadata": {},
   "outputs": [
    {
     "data": {
      "text/html": [
       "<html>\n",
       "<div style=\"display:flex; align-items:center;\">\n",
       "<div style=\"width:290px;\">\n",
       "<svg xmlns=\"http://www.w3.org/2000/svg\" viewBox=\"-20 -270 290 290\">\n",
       "<text text-anchor=\"middle\" x=\"0\" y=\"13\" style=\"fill:currentColor;\">\n",
       "5\n",
       "</text>\n",
       "<text text-anchor=\"middle\" x=\"250\" y=\"13\" style=\"fill:currentColor;\">\n",
       "30\n",
       "</text>\n",
       "<text text-anchor=\"middle\" x=\"-10\" y=\"0\" style=\"fill:currentColor;\">\n",
       "5\n",
       "</text>\n",
       "<text text-anchor=\"middle\" x=\"-10\" y=\"-250\" style=\"fill:currentColor;\">\n",
       "30\n",
       "</text>\n",
       "<text text-anchor=\"middle\" x=\"125.0\" y=\"13\" style=\"fill:currentColor;\">\n",
       "track pT\n",
       "</text>\n",
       "<text text-anchor=\"middle\" x=\"-10\" y=\"-125.0\" transform=\"rotate(-90,-10,-125.0)\" style=\"fill:currentColor;\">\n",
       "calorimeter energy\n",
       "</text>\n",
       "<rect x=\"0.0\" y=\"-10.0\" width=\"10.0\" height=\"10.0\" opacity=\"0.2666666666666657\" fill=\"currentColor\" stroke-width=\"0.1\"/>\n",
       "<rect x=\"10.0\" y=\"-10.0\" width=\"10.0\" height=\"10.0\" opacity=\"0.1999999999999993\" fill=\"currentColor\" stroke-width=\"0.1\"/>\n",
       "<rect x=\"20.0\" y=\"-10.0\" width=\"10.0\" height=\"10.0\" opacity=\"0.06666666666666643\" fill=\"currentColor\" stroke-width=\"0.1\"/>\n",
       "<rect x=\"30.0\" y=\"-10.0\" width=\"10.0\" height=\"10.0\" opacity=\"0.0\" fill=\"currentColor\" stroke-width=\"0.1\"/>\n",
       "<rect x=\"40.0\" y=\"-10.0\" width=\"10.0\" height=\"10.0\" opacity=\"0.0\" fill=\"currentColor\" stroke-width=\"0.1\"/>\n",
       "<rect x=\"50.0\" y=\"-10.0\" width=\"10.0\" height=\"10.0\" opacity=\"0.06666666666666643\" fill=\"currentColor\" stroke-width=\"0.1\"/>\n",
       "<rect x=\"60.0\" y=\"-10.0\" width=\"10.0\" height=\"10.0\" opacity=\"0.13333333333333286\" fill=\"currentColor\" stroke-width=\"0.1\"/>\n",
       "<rect x=\"70.0\" y=\"-10.0\" width=\"10.0\" height=\"10.0\" opacity=\"0.0\" fill=\"currentColor\" stroke-width=\"0.1\"/>\n",
       "<rect x=\"80.0\" y=\"-10.0\" width=\"10.0\" height=\"10.0\" opacity=\"0.06666666666666643\" fill=\"currentColor\" stroke-width=\"0.1\"/>\n",
       "<rect x=\"90.0\" y=\"-10.0\" width=\"10.0\" height=\"10.0\" opacity=\"0.0\" fill=\"currentColor\" stroke-width=\"0.1\"/>\n",
       "<rect x=\"100.0\" y=\"-10.0\" width=\"10.0\" height=\"10.0\" opacity=\"0.1999999999999993\" fill=\"currentColor\" stroke-width=\"0.1\"/>\n",
       "<rect x=\"110.0\" y=\"-10.0\" width=\"10.0\" height=\"10.0\" opacity=\"0.13333333333333286\" fill=\"currentColor\" stroke-width=\"0.1\"/>\n",
       "<rect x=\"120.0\" y=\"-10.0\" width=\"10.0\" height=\"10.0\" opacity=\"0.06666666666666643\" fill=\"currentColor\" stroke-width=\"0.1\"/>\n",
       "<rect x=\"130.0\" y=\"-10.0\" width=\"10.0\" height=\"10.0\" opacity=\"0.0\" fill=\"currentColor\" stroke-width=\"0.1\"/>\n",
       "<rect x=\"140.0\" y=\"-10.0\" width=\"10.0\" height=\"10.0\" opacity=\"0.0\" fill=\"currentColor\" stroke-width=\"0.1\"/>\n",
       "<rect x=\"150.0\" y=\"-10.0\" width=\"10.0\" height=\"10.0\" opacity=\"0.06666666666666643\" fill=\"currentColor\" stroke-width=\"0.1\"/>\n",
       "<rect x=\"160.0\" y=\"-10.0\" width=\"10.0\" height=\"10.0\" opacity=\"0.13333333333333286\" fill=\"currentColor\" stroke-width=\"0.1\"/>\n",
       "<rect x=\"170.0\" y=\"-10.0\" width=\"10.0\" height=\"10.0\" opacity=\"0.13333333333333333\" fill=\"currentColor\" stroke-width=\"0.1\"/>\n",
       "<rect x=\"179.99999999999997\" y=\"-10.0\" width=\"10.0\" height=\"10.0\" opacity=\"0.13333333333333236\" fill=\"currentColor\" stroke-width=\"0.1\"/>\n",
       "<rect x=\"190.0\" y=\"-10.0\" width=\"10.0\" height=\"10.0\" opacity=\"0.06666666666666643\" fill=\"currentColor\" stroke-width=\"0.1\"/>\n",
       "<rect x=\"200.0\" y=\"-10.0\" width=\"10.0\" height=\"10.0\" opacity=\"0.06666666666666643\" fill=\"currentColor\" stroke-width=\"0.1\"/>\n",
       "<rect x=\"210.0\" y=\"-10.0\" width=\"10.0\" height=\"10.0\" opacity=\"0.13333333333333286\" fill=\"currentColor\" stroke-width=\"0.1\"/>\n",
       "<rect x=\"220.0\" y=\"-10.0\" width=\"10.0\" height=\"10.0\" opacity=\"0.13333333333333286\" fill=\"currentColor\" stroke-width=\"0.1\"/>\n",
       "<rect x=\"230.0\" y=\"-10.0\" width=\"10.0\" height=\"10.0\" opacity=\"0.19999999999999998\" fill=\"currentColor\" stroke-width=\"0.1\"/>\n",
       "<rect x=\"239.99999999999997\" y=\"-10.0\" width=\"10.0\" height=\"10.0\" opacity=\"0.2666666666666647\" fill=\"currentColor\" stroke-width=\"0.1\"/>\n",
       "<rect x=\"0.0\" y=\"-20.0\" width=\"10.0\" height=\"10.0\" opacity=\"0.06666666666666643\" fill=\"currentColor\" stroke-width=\"0.1\"/>\n",
       "<rect x=\"10.0\" y=\"-20.0\" width=\"10.0\" height=\"10.0\" opacity=\"0.3999999999999986\" fill=\"currentColor\" stroke-width=\"0.1\"/>\n",
       "<rect x=\"20.0\" y=\"-20.0\" width=\"10.0\" height=\"10.0\" opacity=\"0.3999999999999986\" fill=\"currentColor\" stroke-width=\"0.1\"/>\n",
       "<rect x=\"30.0\" y=\"-20.0\" width=\"10.0\" height=\"10.0\" opacity=\"0.06666666666666643\" fill=\"currentColor\" stroke-width=\"0.1\"/>\n",
       "<rect x=\"40.0\" y=\"-20.0\" width=\"10.0\" height=\"10.0\" opacity=\"0.06666666666666643\" fill=\"currentColor\" stroke-width=\"0.1\"/>\n",
       "<rect x=\"50.0\" y=\"-20.0\" width=\"10.0\" height=\"10.0\" opacity=\"0.0\" fill=\"currentColor\" stroke-width=\"0.1\"/>\n",
       "<rect x=\"60.0\" y=\"-20.0\" width=\"10.0\" height=\"10.0\" opacity=\"0.0\" fill=\"currentColor\" stroke-width=\"0.1\"/>\n",
       "<rect x=\"70.0\" y=\"-20.0\" width=\"10.0\" height=\"10.0\" opacity=\"0.13333333333333286\" fill=\"currentColor\" stroke-width=\"0.1\"/>\n",
       "<rect x=\"80.0\" y=\"-20.0\" width=\"10.0\" height=\"10.0\" opacity=\"0.0\" fill=\"currentColor\" stroke-width=\"0.1\"/>\n",
       "<rect x=\"90.0\" y=\"-20.0\" width=\"10.0\" height=\"10.0\" opacity=\"0.06666666666666643\" fill=\"currentColor\" stroke-width=\"0.1\"/>\n",
       "<rect x=\"100.0\" y=\"-20.0\" width=\"10.0\" height=\"10.0\" opacity=\"0.0\" fill=\"currentColor\" stroke-width=\"0.1\"/>\n",
       "<rect x=\"110.0\" y=\"-20.0\" width=\"10.0\" height=\"10.0\" opacity=\"0.0\" fill=\"currentColor\" stroke-width=\"0.1\"/>\n",
       "<rect x=\"120.0\" y=\"-20.0\" width=\"10.0\" height=\"10.0\" opacity=\"0.1999999999999993\" fill=\"currentColor\" stroke-width=\"0.1\"/>\n",
       "<rect x=\"130.0\" y=\"-20.0\" width=\"10.0\" height=\"10.0\" opacity=\"0.06666666666666643\" fill=\"currentColor\" stroke-width=\"0.1\"/>\n",
       "<rect x=\"140.0\" y=\"-20.0\" width=\"10.0\" height=\"10.0\" opacity=\"0.0\" fill=\"currentColor\" stroke-width=\"0.1\"/>\n",
       "<rect x=\"150.0\" y=\"-20.0\" width=\"10.0\" height=\"10.0\" opacity=\"0.0\" fill=\"currentColor\" stroke-width=\"0.1\"/>\n",
       "<rect x=\"160.0\" y=\"-20.0\" width=\"10.0\" height=\"10.0\" opacity=\"0.0\" fill=\"currentColor\" stroke-width=\"0.1\"/>\n",
       "<rect x=\"170.0\" y=\"-20.0\" width=\"10.0\" height=\"10.0\" opacity=\"0.0\" fill=\"currentColor\" stroke-width=\"0.1\"/>\n",
       "<rect x=\"179.99999999999997\" y=\"-20.0\" width=\"10.0\" height=\"10.0\" opacity=\"0.13333333333333236\" fill=\"currentColor\" stroke-width=\"0.1\"/>\n",
       "<rect x=\"190.0\" y=\"-20.0\" width=\"10.0\" height=\"10.0\" opacity=\"0.13333333333333286\" fill=\"currentColor\" stroke-width=\"0.1\"/>\n",
       "<rect x=\"200.0\" y=\"-20.0\" width=\"10.0\" height=\"10.0\" opacity=\"0.0\" fill=\"currentColor\" stroke-width=\"0.1\"/>\n",
       "<rect x=\"210.0\" y=\"-20.0\" width=\"10.0\" height=\"10.0\" opacity=\"0.06666666666666643\" fill=\"currentColor\" stroke-width=\"0.1\"/>\n",
       "<rect x=\"220.0\" y=\"-20.0\" width=\"10.0\" height=\"10.0\" opacity=\"0.06666666666666643\" fill=\"currentColor\" stroke-width=\"0.1\"/>\n",
       "<rect x=\"230.0\" y=\"-20.0\" width=\"10.0\" height=\"10.0\" opacity=\"0.19999999999999998\" fill=\"currentColor\" stroke-width=\"0.1\"/>\n",
       "<rect x=\"239.99999999999997\" y=\"-20.0\" width=\"10.0\" height=\"10.0\" opacity=\"0.19999999999999857\" fill=\"currentColor\" stroke-width=\"0.1\"/>\n",
       "<rect x=\"0.0\" y=\"-30.0\" width=\"10.0\" height=\"10.0\" opacity=\"0.06666666666666643\" fill=\"currentColor\" stroke-width=\"0.1\"/>\n",
       "<rect x=\"10.0\" y=\"-30.0\" width=\"10.0\" height=\"10.0\" opacity=\"0.06666666666666643\" fill=\"currentColor\" stroke-width=\"0.1\"/>\n",
       "<rect x=\"20.0\" y=\"-30.0\" width=\"10.0\" height=\"10.0\" opacity=\"0.1999999999999993\" fill=\"currentColor\" stroke-width=\"0.1\"/>\n",
       "<rect x=\"30.0\" y=\"-30.0\" width=\"10.0\" height=\"10.0\" opacity=\"0.06666666666666643\" fill=\"currentColor\" stroke-width=\"0.1\"/>\n",
       "<rect x=\"40.0\" y=\"-30.0\" width=\"10.0\" height=\"10.0\" opacity=\"0.13333333333333286\" fill=\"currentColor\" stroke-width=\"0.1\"/>\n",
       "<rect x=\"50.0\" y=\"-30.0\" width=\"10.0\" height=\"10.0\" opacity=\"0.0\" fill=\"currentColor\" stroke-width=\"0.1\"/>\n",
       "<rect x=\"60.0\" y=\"-30.0\" width=\"10.0\" height=\"10.0\" opacity=\"0.0\" fill=\"currentColor\" stroke-width=\"0.1\"/>\n",
       "<rect x=\"70.0\" y=\"-30.0\" width=\"10.0\" height=\"10.0\" opacity=\"0.0\" fill=\"currentColor\" stroke-width=\"0.1\"/>\n",
       "<rect x=\"80.0\" y=\"-30.0\" width=\"10.0\" height=\"10.0\" opacity=\"0.0\" fill=\"currentColor\" stroke-width=\"0.1\"/>\n",
       "<rect x=\"90.0\" y=\"-30.0\" width=\"10.0\" height=\"10.0\" opacity=\"0.0\" fill=\"currentColor\" stroke-width=\"0.1\"/>\n",
       "<rect x=\"100.0\" y=\"-30.0\" width=\"10.0\" height=\"10.0\" opacity=\"0.0\" fill=\"currentColor\" stroke-width=\"0.1\"/>\n",
       "<rect x=\"110.0\" y=\"-30.0\" width=\"10.0\" height=\"10.0\" opacity=\"0.06666666666666643\" fill=\"currentColor\" stroke-width=\"0.1\"/>\n",
       "<rect x=\"120.0\" y=\"-30.0\" width=\"10.0\" height=\"10.0\" opacity=\"0.13333333333333286\" fill=\"currentColor\" stroke-width=\"0.1\"/>\n",
       "<rect x=\"130.0\" y=\"-30.0\" width=\"10.0\" height=\"10.0\" opacity=\"0.13333333333333286\" fill=\"currentColor\" stroke-width=\"0.1\"/>\n",
       "<rect x=\"140.0\" y=\"-30.0\" width=\"10.0\" height=\"10.0\" opacity=\"0.0\" fill=\"currentColor\" stroke-width=\"0.1\"/>\n",
       "<rect x=\"150.0\" y=\"-30.0\" width=\"10.0\" height=\"10.0\" opacity=\"0.06666666666666643\" fill=\"currentColor\" stroke-width=\"0.1\"/>\n",
       "<rect x=\"160.0\" y=\"-30.0\" width=\"10.0\" height=\"10.0\" opacity=\"0.0\" fill=\"currentColor\" stroke-width=\"0.1\"/>\n",
       "<rect x=\"170.0\" y=\"-30.0\" width=\"10.0\" height=\"10.0\" opacity=\"0.06666666666666667\" fill=\"currentColor\" stroke-width=\"0.1\"/>\n",
       "<rect x=\"179.99999999999997\" y=\"-30.0\" width=\"10.0\" height=\"10.0\" opacity=\"0.13333333333333236\" fill=\"currentColor\" stroke-width=\"0.1\"/>\n",
       "<rect x=\"190.0\" y=\"-30.0\" width=\"10.0\" height=\"10.0\" opacity=\"0.2666666666666657\" fill=\"currentColor\" stroke-width=\"0.1\"/>\n",
       "<rect x=\"200.0\" y=\"-30.0\" width=\"10.0\" height=\"10.0\" opacity=\"0.2666666666666657\" fill=\"currentColor\" stroke-width=\"0.1\"/>\n",
       "<rect x=\"210.0\" y=\"-30.0\" width=\"10.0\" height=\"10.0\" opacity=\"0.0\" fill=\"currentColor\" stroke-width=\"0.1\"/>\n",
       "<rect x=\"220.0\" y=\"-30.0\" width=\"10.0\" height=\"10.0\" opacity=\"0.06666666666666643\" fill=\"currentColor\" stroke-width=\"0.1\"/>\n",
       "<rect x=\"230.0\" y=\"-30.0\" width=\"10.0\" height=\"10.0\" opacity=\"0.19999999999999998\" fill=\"currentColor\" stroke-width=\"0.1\"/>\n",
       "<rect x=\"239.99999999999997\" y=\"-30.0\" width=\"10.0\" height=\"10.0\" opacity=\"0.19999999999999857\" fill=\"currentColor\" stroke-width=\"0.1\"/>\n",
       "<rect x=\"0.0\" y=\"-40.0\" width=\"10.0\" height=\"10.0\" opacity=\"0.0\" fill=\"currentColor\" stroke-width=\"0.1\"/>\n",
       "<rect x=\"10.0\" y=\"-40.0\" width=\"10.0\" height=\"10.0\" opacity=\"0.06666666666666643\" fill=\"currentColor\" stroke-width=\"0.1\"/>\n",
       "<rect x=\"20.0\" y=\"-40.0\" width=\"10.0\" height=\"10.0\" opacity=\"0.13333333333333286\" fill=\"currentColor\" stroke-width=\"0.1\"/>\n",
       "<rect x=\"30.0\" y=\"-40.0\" width=\"10.0\" height=\"10.0\" opacity=\"0.2666666666666657\" fill=\"currentColor\" stroke-width=\"0.1\"/>\n",
       "<rect x=\"40.0\" y=\"-40.0\" width=\"10.0\" height=\"10.0\" opacity=\"0.0\" fill=\"currentColor\" stroke-width=\"0.1\"/>\n",
       "<rect x=\"50.0\" y=\"-40.0\" width=\"10.0\" height=\"10.0\" opacity=\"0.0\" fill=\"currentColor\" stroke-width=\"0.1\"/>\n",
       "<rect x=\"60.0\" y=\"-40.0\" width=\"10.0\" height=\"10.0\" opacity=\"0.0\" fill=\"currentColor\" stroke-width=\"0.1\"/>\n",
       "<rect x=\"70.0\" y=\"-40.0\" width=\"10.0\" height=\"10.0\" opacity=\"0.0\" fill=\"currentColor\" stroke-width=\"0.1\"/>\n",
       "<rect x=\"80.0\" y=\"-40.0\" width=\"10.0\" height=\"10.0\" opacity=\"0.06666666666666643\" fill=\"currentColor\" stroke-width=\"0.1\"/>\n",
       "<rect x=\"90.0\" y=\"-40.0\" width=\"10.0\" height=\"10.0\" opacity=\"0.0\" fill=\"currentColor\" stroke-width=\"0.1\"/>\n",
       "<rect x=\"100.0\" y=\"-40.0\" width=\"10.0\" height=\"10.0\" opacity=\"0.06666666666666643\" fill=\"currentColor\" stroke-width=\"0.1\"/>\n",
       "<rect x=\"110.0\" y=\"-40.0\" width=\"10.0\" height=\"10.0\" opacity=\"0.13333333333333286\" fill=\"currentColor\" stroke-width=\"0.1\"/>\n",
       "<rect x=\"120.0\" y=\"-40.0\" width=\"10.0\" height=\"10.0\" opacity=\"0.06666666666666643\" fill=\"currentColor\" stroke-width=\"0.1\"/>\n",
       "<rect x=\"130.0\" y=\"-40.0\" width=\"10.0\" height=\"10.0\" opacity=\"0.0\" fill=\"currentColor\" stroke-width=\"0.1\"/>\n",
       "<rect x=\"140.0\" y=\"-40.0\" width=\"10.0\" height=\"10.0\" opacity=\"0.06666666666666643\" fill=\"currentColor\" stroke-width=\"0.1\"/>\n",
       "<rect x=\"150.0\" y=\"-40.0\" width=\"10.0\" height=\"10.0\" opacity=\"0.06666666666666643\" fill=\"currentColor\" stroke-width=\"0.1\"/>\n",
       "<rect x=\"160.0\" y=\"-40.0\" width=\"10.0\" height=\"10.0\" opacity=\"0.13333333333333286\" fill=\"currentColor\" stroke-width=\"0.1\"/>\n",
       "<rect x=\"170.0\" y=\"-40.0\" width=\"10.0\" height=\"10.0\" opacity=\"0.0\" fill=\"currentColor\" stroke-width=\"0.1\"/>\n",
       "<rect x=\"179.99999999999997\" y=\"-40.0\" width=\"10.0\" height=\"10.0\" opacity=\"0.06666666666666618\" fill=\"currentColor\" stroke-width=\"0.1\"/>\n",
       "<rect x=\"190.0\" y=\"-40.0\" width=\"10.0\" height=\"10.0\" opacity=\"0.13333333333333286\" fill=\"currentColor\" stroke-width=\"0.1\"/>\n",
       "<rect x=\"200.0\" y=\"-40.0\" width=\"10.0\" height=\"10.0\" opacity=\"0.0\" fill=\"currentColor\" stroke-width=\"0.1\"/>\n",
       "<rect x=\"210.0\" y=\"-40.0\" width=\"10.0\" height=\"10.0\" opacity=\"0.06666666666666643\" fill=\"currentColor\" stroke-width=\"0.1\"/>\n",
       "<rect x=\"220.0\" y=\"-40.0\" width=\"10.0\" height=\"10.0\" opacity=\"0.13333333333333286\" fill=\"currentColor\" stroke-width=\"0.1\"/>\n",
       "<rect x=\"230.0\" y=\"-40.0\" width=\"10.0\" height=\"10.0\" opacity=\"0.26666666666666666\" fill=\"currentColor\" stroke-width=\"0.1\"/>\n",
       "<rect x=\"239.99999999999997\" y=\"-40.0\" width=\"10.0\" height=\"10.0\" opacity=\"0.13333333333333236\" fill=\"currentColor\" stroke-width=\"0.1\"/>\n",
       "<rect x=\"0.0\" y=\"-50.0\" width=\"10.0\" height=\"10.0\" opacity=\"0.0\" fill=\"currentColor\" stroke-width=\"0.1\"/>\n",
       "<rect x=\"10.0\" y=\"-50.0\" width=\"10.0\" height=\"10.0\" opacity=\"0.06666666666666643\" fill=\"currentColor\" stroke-width=\"0.1\"/>\n",
       "<rect x=\"20.0\" y=\"-50.0\" width=\"10.0\" height=\"10.0\" opacity=\"0.1999999999999993\" fill=\"currentColor\" stroke-width=\"0.1\"/>\n",
       "<rect x=\"30.0\" y=\"-50.0\" width=\"10.0\" height=\"10.0\" opacity=\"0.06666666666666643\" fill=\"currentColor\" stroke-width=\"0.1\"/>\n",
       "<rect x=\"40.0\" y=\"-50.0\" width=\"10.0\" height=\"10.0\" opacity=\"0.06666666666666643\" fill=\"currentColor\" stroke-width=\"0.1\"/>\n",
       "<rect x=\"50.0\" y=\"-50.0\" width=\"10.0\" height=\"10.0\" opacity=\"0.1999999999999993\" fill=\"currentColor\" stroke-width=\"0.1\"/>\n",
       "<rect x=\"60.0\" y=\"-50.0\" width=\"10.0\" height=\"10.0\" opacity=\"0.06666666666666643\" fill=\"currentColor\" stroke-width=\"0.1\"/>\n",
       "<rect x=\"70.0\" y=\"-50.0\" width=\"10.0\" height=\"10.0\" opacity=\"0.06666666666666643\" fill=\"currentColor\" stroke-width=\"0.1\"/>\n",
       "<rect x=\"80.0\" y=\"-50.0\" width=\"10.0\" height=\"10.0\" opacity=\"0.0\" fill=\"currentColor\" stroke-width=\"0.1\"/>\n",
       "<rect x=\"90.0\" y=\"-50.0\" width=\"10.0\" height=\"10.0\" opacity=\"0.06666666666666643\" fill=\"currentColor\" stroke-width=\"0.1\"/>\n",
       "<rect x=\"100.0\" y=\"-50.0\" width=\"10.0\" height=\"10.0\" opacity=\"0.06666666666666643\" fill=\"currentColor\" stroke-width=\"0.1\"/>\n",
       "<rect x=\"110.0\" y=\"-50.0\" width=\"10.0\" height=\"10.0\" opacity=\"0.06666666666666643\" fill=\"currentColor\" stroke-width=\"0.1\"/>\n",
       "<rect x=\"120.0\" y=\"-50.0\" width=\"10.0\" height=\"10.0\" opacity=\"0.13333333333333286\" fill=\"currentColor\" stroke-width=\"0.1\"/>\n",
       "<rect x=\"130.0\" y=\"-50.0\" width=\"10.0\" height=\"10.0\" opacity=\"0.06666666666666643\" fill=\"currentColor\" stroke-width=\"0.1\"/>\n",
       "<rect x=\"140.0\" y=\"-50.0\" width=\"10.0\" height=\"10.0\" opacity=\"0.0\" fill=\"currentColor\" stroke-width=\"0.1\"/>\n",
       "<rect x=\"150.0\" y=\"-50.0\" width=\"10.0\" height=\"10.0\" opacity=\"0.06666666666666643\" fill=\"currentColor\" stroke-width=\"0.1\"/>\n",
       "<rect x=\"160.0\" y=\"-50.0\" width=\"10.0\" height=\"10.0\" opacity=\"0.0\" fill=\"currentColor\" stroke-width=\"0.1\"/>\n",
       "<rect x=\"170.0\" y=\"-50.0\" width=\"10.0\" height=\"10.0\" opacity=\"0.06666666666666667\" fill=\"currentColor\" stroke-width=\"0.1\"/>\n",
       "<rect x=\"179.99999999999997\" y=\"-50.0\" width=\"10.0\" height=\"10.0\" opacity=\"0.2666666666666647\" fill=\"currentColor\" stroke-width=\"0.1\"/>\n",
       "<rect x=\"190.0\" y=\"-50.0\" width=\"10.0\" height=\"10.0\" opacity=\"0.06666666666666643\" fill=\"currentColor\" stroke-width=\"0.1\"/>\n",
       "<rect x=\"200.0\" y=\"-50.0\" width=\"10.0\" height=\"10.0\" opacity=\"0.0\" fill=\"currentColor\" stroke-width=\"0.1\"/>\n",
       "<rect x=\"210.0\" y=\"-50.0\" width=\"10.0\" height=\"10.0\" opacity=\"0.06666666666666643\" fill=\"currentColor\" stroke-width=\"0.1\"/>\n",
       "<rect x=\"220.0\" y=\"-50.0\" width=\"10.0\" height=\"10.0\" opacity=\"0.1999999999999993\" fill=\"currentColor\" stroke-width=\"0.1\"/>\n",
       "<rect x=\"230.0\" y=\"-50.0\" width=\"10.0\" height=\"10.0\" opacity=\"0.26666666666666666\" fill=\"currentColor\" stroke-width=\"0.1\"/>\n",
       "<rect x=\"239.99999999999997\" y=\"-50.0\" width=\"10.0\" height=\"10.0\" opacity=\"0.0\" fill=\"currentColor\" stroke-width=\"0.1\"/>\n",
       "<rect x=\"0.0\" y=\"-60.0\" width=\"10.0\" height=\"10.0\" opacity=\"0.0\" fill=\"currentColor\" stroke-width=\"0.1\"/>\n",
       "<rect x=\"10.0\" y=\"-60.0\" width=\"10.0\" height=\"10.0\" opacity=\"0.0\" fill=\"currentColor\" stroke-width=\"0.1\"/>\n",
       "<rect x=\"20.0\" y=\"-60.0\" width=\"10.0\" height=\"10.0\" opacity=\"0.13333333333333286\" fill=\"currentColor\" stroke-width=\"0.1\"/>\n",
       "<rect x=\"30.0\" y=\"-60.0\" width=\"10.0\" height=\"10.0\" opacity=\"0.1999999999999993\" fill=\"currentColor\" stroke-width=\"0.1\"/>\n",
       "<rect x=\"40.0\" y=\"-60.0\" width=\"10.0\" height=\"10.0\" opacity=\"0.2666666666666657\" fill=\"currentColor\" stroke-width=\"0.1\"/>\n",
       "<rect x=\"50.0\" y=\"-60.0\" width=\"10.0\" height=\"10.0\" opacity=\"0.13333333333333286\" fill=\"currentColor\" stroke-width=\"0.1\"/>\n",
       "<rect x=\"60.0\" y=\"-60.0\" width=\"10.0\" height=\"10.0\" opacity=\"0.13333333333333286\" fill=\"currentColor\" stroke-width=\"0.1\"/>\n",
       "<rect x=\"70.0\" y=\"-60.0\" width=\"10.0\" height=\"10.0\" opacity=\"0.06666666666666643\" fill=\"currentColor\" stroke-width=\"0.1\"/>\n",
       "<rect x=\"80.0\" y=\"-60.0\" width=\"10.0\" height=\"10.0\" opacity=\"0.0\" fill=\"currentColor\" stroke-width=\"0.1\"/>\n",
       "<rect x=\"90.0\" y=\"-60.0\" width=\"10.0\" height=\"10.0\" opacity=\"0.06666666666666643\" fill=\"currentColor\" stroke-width=\"0.1\"/>\n",
       "<rect x=\"100.0\" y=\"-60.0\" width=\"10.0\" height=\"10.0\" opacity=\"0.0\" fill=\"currentColor\" stroke-width=\"0.1\"/>\n",
       "<rect x=\"110.0\" y=\"-60.0\" width=\"10.0\" height=\"10.0\" opacity=\"0.1999999999999993\" fill=\"currentColor\" stroke-width=\"0.1\"/>\n",
       "<rect x=\"120.0\" y=\"-60.0\" width=\"10.0\" height=\"10.0\" opacity=\"0.06666666666666643\" fill=\"currentColor\" stroke-width=\"0.1\"/>\n",
       "<rect x=\"130.0\" y=\"-60.0\" width=\"10.0\" height=\"10.0\" opacity=\"0.06666666666666643\" fill=\"currentColor\" stroke-width=\"0.1\"/>\n",
       "<rect x=\"140.0\" y=\"-60.0\" width=\"10.0\" height=\"10.0\" opacity=\"0.0\" fill=\"currentColor\" stroke-width=\"0.1\"/>\n",
       "<rect x=\"150.0\" y=\"-60.0\" width=\"10.0\" height=\"10.0\" opacity=\"0.06666666666666643\" fill=\"currentColor\" stroke-width=\"0.1\"/>\n",
       "<rect x=\"160.0\" y=\"-60.0\" width=\"10.0\" height=\"10.0\" opacity=\"0.13333333333333286\" fill=\"currentColor\" stroke-width=\"0.1\"/>\n",
       "<rect x=\"170.0\" y=\"-60.0\" width=\"10.0\" height=\"10.0\" opacity=\"0.0\" fill=\"currentColor\" stroke-width=\"0.1\"/>\n",
       "<rect x=\"179.99999999999997\" y=\"-60.0\" width=\"10.0\" height=\"10.0\" opacity=\"0.06666666666666618\" fill=\"currentColor\" stroke-width=\"0.1\"/>\n",
       "<rect x=\"190.0\" y=\"-60.0\" width=\"10.0\" height=\"10.0\" opacity=\"0.06666666666666643\" fill=\"currentColor\" stroke-width=\"0.1\"/>\n",
       "<rect x=\"200.0\" y=\"-60.0\" width=\"10.0\" height=\"10.0\" opacity=\"0.13333333333333286\" fill=\"currentColor\" stroke-width=\"0.1\"/>\n",
       "<rect x=\"210.0\" y=\"-60.0\" width=\"10.0\" height=\"10.0\" opacity=\"0.0\" fill=\"currentColor\" stroke-width=\"0.1\"/>\n",
       "<rect x=\"220.0\" y=\"-60.0\" width=\"10.0\" height=\"10.0\" opacity=\"0.06666666666666643\" fill=\"currentColor\" stroke-width=\"0.1\"/>\n",
       "<rect x=\"230.0\" y=\"-60.0\" width=\"10.0\" height=\"10.0\" opacity=\"0.19999999999999998\" fill=\"currentColor\" stroke-width=\"0.1\"/>\n",
       "<rect x=\"239.99999999999997\" y=\"-60.0\" width=\"10.0\" height=\"10.0\" opacity=\"0.0\" fill=\"currentColor\" stroke-width=\"0.1\"/>\n",
       "<rect x=\"0.0\" y=\"-70.0\" width=\"10.0\" height=\"10.0\" opacity=\"0.0\" fill=\"currentColor\" stroke-width=\"0.1\"/>\n",
       "<rect x=\"10.0\" y=\"-70.0\" width=\"10.0\" height=\"10.0\" opacity=\"0.0\" fill=\"currentColor\" stroke-width=\"0.1\"/>\n",
       "<rect x=\"20.0\" y=\"-70.0\" width=\"10.0\" height=\"10.0\" opacity=\"0.13333333333333286\" fill=\"currentColor\" stroke-width=\"0.1\"/>\n",
       "<rect x=\"30.0\" y=\"-70.0\" width=\"10.0\" height=\"10.0\" opacity=\"0.0\" fill=\"currentColor\" stroke-width=\"0.1\"/>\n",
       "<rect x=\"40.0\" y=\"-70.0\" width=\"10.0\" height=\"10.0\" opacity=\"0.13333333333333286\" fill=\"currentColor\" stroke-width=\"0.1\"/>\n",
       "<rect x=\"50.0\" y=\"-70.0\" width=\"10.0\" height=\"10.0\" opacity=\"0.13333333333333286\" fill=\"currentColor\" stroke-width=\"0.1\"/>\n",
       "<rect x=\"60.0\" y=\"-70.0\" width=\"10.0\" height=\"10.0\" opacity=\"0.3333333333333321\" fill=\"currentColor\" stroke-width=\"0.1\"/>\n",
       "<rect x=\"70.0\" y=\"-70.0\" width=\"10.0\" height=\"10.0\" opacity=\"0.06666666666666643\" fill=\"currentColor\" stroke-width=\"0.1\"/>\n",
       "<rect x=\"80.0\" y=\"-70.0\" width=\"10.0\" height=\"10.0\" opacity=\"0.13333333333333286\" fill=\"currentColor\" stroke-width=\"0.1\"/>\n",
       "<rect x=\"90.0\" y=\"-70.0\" width=\"10.0\" height=\"10.0\" opacity=\"0.06666666666666643\" fill=\"currentColor\" stroke-width=\"0.1\"/>\n",
       "<rect x=\"100.0\" y=\"-70.0\" width=\"10.0\" height=\"10.0\" opacity=\"0.0\" fill=\"currentColor\" stroke-width=\"0.1\"/>\n",
       "<rect x=\"110.0\" y=\"-70.0\" width=\"10.0\" height=\"10.0\" opacity=\"0.0\" fill=\"currentColor\" stroke-width=\"0.1\"/>\n",
       "<rect x=\"120.0\" y=\"-70.0\" width=\"10.0\" height=\"10.0\" opacity=\"0.13333333333333286\" fill=\"currentColor\" stroke-width=\"0.1\"/>\n",
       "<rect x=\"130.0\" y=\"-70.0\" width=\"10.0\" height=\"10.0\" opacity=\"0.3333333333333321\" fill=\"currentColor\" stroke-width=\"0.1\"/>\n",
       "<rect x=\"140.0\" y=\"-70.0\" width=\"10.0\" height=\"10.0\" opacity=\"0.06666666666666643\" fill=\"currentColor\" stroke-width=\"0.1\"/>\n",
       "<rect x=\"150.0\" y=\"-70.0\" width=\"10.0\" height=\"10.0\" opacity=\"0.13333333333333286\" fill=\"currentColor\" stroke-width=\"0.1\"/>\n",
       "<rect x=\"160.0\" y=\"-70.0\" width=\"10.0\" height=\"10.0\" opacity=\"0.06666666666666643\" fill=\"currentColor\" stroke-width=\"0.1\"/>\n",
       "<rect x=\"170.0\" y=\"-70.0\" width=\"10.0\" height=\"10.0\" opacity=\"0.06666666666666667\" fill=\"currentColor\" stroke-width=\"0.1\"/>\n",
       "<rect x=\"179.99999999999997\" y=\"-70.0\" width=\"10.0\" height=\"10.0\" opacity=\"0.13333333333333236\" fill=\"currentColor\" stroke-width=\"0.1\"/>\n",
       "<rect x=\"190.0\" y=\"-70.0\" width=\"10.0\" height=\"10.0\" opacity=\"0.0\" fill=\"currentColor\" stroke-width=\"0.1\"/>\n",
       "<rect x=\"200.0\" y=\"-70.0\" width=\"10.0\" height=\"10.0\" opacity=\"0.0\" fill=\"currentColor\" stroke-width=\"0.1\"/>\n",
       "<rect x=\"210.0\" y=\"-70.0\" width=\"10.0\" height=\"10.0\" opacity=\"0.0\" fill=\"currentColor\" stroke-width=\"0.1\"/>\n",
       "<rect x=\"220.0\" y=\"-70.0\" width=\"10.0\" height=\"10.0\" opacity=\"0.06666666666666643\" fill=\"currentColor\" stroke-width=\"0.1\"/>\n",
       "<rect x=\"230.0\" y=\"-70.0\" width=\"10.0\" height=\"10.0\" opacity=\"0.26666666666666666\" fill=\"currentColor\" stroke-width=\"0.1\"/>\n",
       "<rect x=\"239.99999999999997\" y=\"-70.0\" width=\"10.0\" height=\"10.0\" opacity=\"0.0\" fill=\"currentColor\" stroke-width=\"0.1\"/>\n",
       "<rect x=\"0.0\" y=\"-80.0\" width=\"10.0\" height=\"10.0\" opacity=\"0.0\" fill=\"currentColor\" stroke-width=\"0.1\"/>\n",
       "<rect x=\"10.0\" y=\"-80.0\" width=\"10.0\" height=\"10.0\" opacity=\"0.0\" fill=\"currentColor\" stroke-width=\"0.1\"/>\n",
       "<rect x=\"20.0\" y=\"-80.0\" width=\"10.0\" height=\"10.0\" opacity=\"0.0\" fill=\"currentColor\" stroke-width=\"0.1\"/>\n",
       "<rect x=\"30.0\" y=\"-80.0\" width=\"10.0\" height=\"10.0\" opacity=\"0.06666666666666643\" fill=\"currentColor\" stroke-width=\"0.1\"/>\n",
       "<rect x=\"40.0\" y=\"-80.0\" width=\"10.0\" height=\"10.0\" opacity=\"0.0\" fill=\"currentColor\" stroke-width=\"0.1\"/>\n",
       "<rect x=\"50.0\" y=\"-80.0\" width=\"10.0\" height=\"10.0\" opacity=\"0.06666666666666643\" fill=\"currentColor\" stroke-width=\"0.1\"/>\n",
       "<rect x=\"60.0\" y=\"-80.0\" width=\"10.0\" height=\"10.0\" opacity=\"0.1999999999999993\" fill=\"currentColor\" stroke-width=\"0.1\"/>\n",
       "<rect x=\"70.0\" y=\"-80.0\" width=\"10.0\" height=\"10.0\" opacity=\"0.06666666666666643\" fill=\"currentColor\" stroke-width=\"0.1\"/>\n",
       "<rect x=\"80.0\" y=\"-80.0\" width=\"10.0\" height=\"10.0\" opacity=\"0.06666666666666643\" fill=\"currentColor\" stroke-width=\"0.1\"/>\n",
       "<rect x=\"90.0\" y=\"-80.0\" width=\"10.0\" height=\"10.0\" opacity=\"0.2666666666666657\" fill=\"currentColor\" stroke-width=\"0.1\"/>\n",
       "<rect x=\"100.0\" y=\"-80.0\" width=\"10.0\" height=\"10.0\" opacity=\"0.1999999999999993\" fill=\"currentColor\" stroke-width=\"0.1\"/>\n",
       "<rect x=\"110.0\" y=\"-80.0\" width=\"10.0\" height=\"10.0\" opacity=\"0.06666666666666643\" fill=\"currentColor\" stroke-width=\"0.1\"/>\n",
       "<rect x=\"120.0\" y=\"-80.0\" width=\"10.0\" height=\"10.0\" opacity=\"0.13333333333333286\" fill=\"currentColor\" stroke-width=\"0.1\"/>\n",
       "<rect x=\"130.0\" y=\"-80.0\" width=\"10.0\" height=\"10.0\" opacity=\"0.06666666666666643\" fill=\"currentColor\" stroke-width=\"0.1\"/>\n",
       "<rect x=\"140.0\" y=\"-80.0\" width=\"10.0\" height=\"10.0\" opacity=\"0.06666666666666643\" fill=\"currentColor\" stroke-width=\"0.1\"/>\n",
       "<rect x=\"150.0\" y=\"-80.0\" width=\"10.0\" height=\"10.0\" opacity=\"0.0\" fill=\"currentColor\" stroke-width=\"0.1\"/>\n",
       "<rect x=\"160.0\" y=\"-80.0\" width=\"10.0\" height=\"10.0\" opacity=\"0.0\" fill=\"currentColor\" stroke-width=\"0.1\"/>\n",
       "<rect x=\"170.0\" y=\"-80.0\" width=\"10.0\" height=\"10.0\" opacity=\"0.19999999999999998\" fill=\"currentColor\" stroke-width=\"0.1\"/>\n",
       "<rect x=\"179.99999999999997\" y=\"-80.0\" width=\"10.0\" height=\"10.0\" opacity=\"0.0\" fill=\"currentColor\" stroke-width=\"0.1\"/>\n",
       "<rect x=\"190.0\" y=\"-80.0\" width=\"10.0\" height=\"10.0\" opacity=\"0.0\" fill=\"currentColor\" stroke-width=\"0.1\"/>\n",
       "<rect x=\"200.0\" y=\"-80.0\" width=\"10.0\" height=\"10.0\" opacity=\"0.0\" fill=\"currentColor\" stroke-width=\"0.1\"/>\n",
       "<rect x=\"210.0\" y=\"-80.0\" width=\"10.0\" height=\"10.0\" opacity=\"0.1999999999999993\" fill=\"currentColor\" stroke-width=\"0.1\"/>\n",
       "<rect x=\"220.0\" y=\"-80.0\" width=\"10.0\" height=\"10.0\" opacity=\"0.13333333333333286\" fill=\"currentColor\" stroke-width=\"0.1\"/>\n",
       "<rect x=\"230.0\" y=\"-80.0\" width=\"10.0\" height=\"10.0\" opacity=\"0.19999999999999998\" fill=\"currentColor\" stroke-width=\"0.1\"/>\n",
       "<rect x=\"239.99999999999997\" y=\"-80.0\" width=\"10.0\" height=\"10.0\" opacity=\"0.06666666666666618\" fill=\"currentColor\" stroke-width=\"0.1\"/>\n",
       "<rect x=\"0.0\" y=\"-90.0\" width=\"10.0\" height=\"10.0\" opacity=\"0.0\" fill=\"currentColor\" stroke-width=\"0.1\"/>\n",
       "<rect x=\"10.0\" y=\"-90.0\" width=\"10.0\" height=\"10.0\" opacity=\"0.0\" fill=\"currentColor\" stroke-width=\"0.1\"/>\n",
       "<rect x=\"20.0\" y=\"-90.0\" width=\"10.0\" height=\"10.0\" opacity=\"0.06666666666666643\" fill=\"currentColor\" stroke-width=\"0.1\"/>\n",
       "<rect x=\"30.0\" y=\"-90.0\" width=\"10.0\" height=\"10.0\" opacity=\"0.0\" fill=\"currentColor\" stroke-width=\"0.1\"/>\n",
       "<rect x=\"40.0\" y=\"-90.0\" width=\"10.0\" height=\"10.0\" opacity=\"0.0\" fill=\"currentColor\" stroke-width=\"0.1\"/>\n",
       "<rect x=\"50.0\" y=\"-90.0\" width=\"10.0\" height=\"10.0\" opacity=\"0.06666666666666643\" fill=\"currentColor\" stroke-width=\"0.1\"/>\n",
       "<rect x=\"60.0\" y=\"-90.0\" width=\"10.0\" height=\"10.0\" opacity=\"0.2666666666666657\" fill=\"currentColor\" stroke-width=\"0.1\"/>\n",
       "<rect x=\"70.0\" y=\"-90.0\" width=\"10.0\" height=\"10.0\" opacity=\"0.13333333333333286\" fill=\"currentColor\" stroke-width=\"0.1\"/>\n",
       "<rect x=\"80.0\" y=\"-90.0\" width=\"10.0\" height=\"10.0\" opacity=\"0.06666666666666643\" fill=\"currentColor\" stroke-width=\"0.1\"/>\n",
       "<rect x=\"90.0\" y=\"-90.0\" width=\"10.0\" height=\"10.0\" opacity=\"0.2666666666666657\" fill=\"currentColor\" stroke-width=\"0.1\"/>\n",
       "<rect x=\"100.0\" y=\"-90.0\" width=\"10.0\" height=\"10.0\" opacity=\"0.2666666666666657\" fill=\"currentColor\" stroke-width=\"0.1\"/>\n",
       "<rect x=\"110.0\" y=\"-90.0\" width=\"10.0\" height=\"10.0\" opacity=\"0.13333333333333286\" fill=\"currentColor\" stroke-width=\"0.1\"/>\n",
       "<rect x=\"120.0\" y=\"-90.0\" width=\"10.0\" height=\"10.0\" opacity=\"0.13333333333333286\" fill=\"currentColor\" stroke-width=\"0.1\"/>\n",
       "<rect x=\"130.0\" y=\"-90.0\" width=\"10.0\" height=\"10.0\" opacity=\"0.1999999999999993\" fill=\"currentColor\" stroke-width=\"0.1\"/>\n",
       "<rect x=\"140.0\" y=\"-90.0\" width=\"10.0\" height=\"10.0\" opacity=\"0.06666666666666643\" fill=\"currentColor\" stroke-width=\"0.1\"/>\n",
       "<rect x=\"150.0\" y=\"-90.0\" width=\"10.0\" height=\"10.0\" opacity=\"0.3333333333333321\" fill=\"currentColor\" stroke-width=\"0.1\"/>\n",
       "<rect x=\"160.0\" y=\"-90.0\" width=\"10.0\" height=\"10.0\" opacity=\"0.0\" fill=\"currentColor\" stroke-width=\"0.1\"/>\n",
       "<rect x=\"170.0\" y=\"-90.0\" width=\"10.0\" height=\"10.0\" opacity=\"0.0\" fill=\"currentColor\" stroke-width=\"0.1\"/>\n",
       "<rect x=\"179.99999999999997\" y=\"-90.0\" width=\"10.0\" height=\"10.0\" opacity=\"0.0\" fill=\"currentColor\" stroke-width=\"0.1\"/>\n",
       "<rect x=\"190.0\" y=\"-90.0\" width=\"10.0\" height=\"10.0\" opacity=\"0.06666666666666643\" fill=\"currentColor\" stroke-width=\"0.1\"/>\n",
       "<rect x=\"200.0\" y=\"-90.0\" width=\"10.0\" height=\"10.0\" opacity=\"0.06666666666666643\" fill=\"currentColor\" stroke-width=\"0.1\"/>\n",
       "<rect x=\"210.0\" y=\"-90.0\" width=\"10.0\" height=\"10.0\" opacity=\"0.06666666666666643\" fill=\"currentColor\" stroke-width=\"0.1\"/>\n",
       "<rect x=\"220.0\" y=\"-90.0\" width=\"10.0\" height=\"10.0\" opacity=\"0.13333333333333286\" fill=\"currentColor\" stroke-width=\"0.1\"/>\n",
       "<rect x=\"230.0\" y=\"-90.0\" width=\"10.0\" height=\"10.0\" opacity=\"0.0\" fill=\"currentColor\" stroke-width=\"0.1\"/>\n",
       "<rect x=\"239.99999999999997\" y=\"-90.0\" width=\"10.0\" height=\"10.0\" opacity=\"0.19999999999999857\" fill=\"currentColor\" stroke-width=\"0.1\"/>\n",
       "<rect x=\"0.0\" y=\"-100.0\" width=\"10.0\" height=\"10.0\" opacity=\"0.0\" fill=\"currentColor\" stroke-width=\"0.1\"/>\n",
       "<rect x=\"10.0\" y=\"-100.0\" width=\"10.0\" height=\"10.0\" opacity=\"0.0\" fill=\"currentColor\" stroke-width=\"0.1\"/>\n",
       "<rect x=\"20.0\" y=\"-100.0\" width=\"10.0\" height=\"10.0\" opacity=\"0.0\" fill=\"currentColor\" stroke-width=\"0.1\"/>\n",
       "<rect x=\"30.0\" y=\"-100.0\" width=\"10.0\" height=\"10.0\" opacity=\"0.0\" fill=\"currentColor\" stroke-width=\"0.1\"/>\n",
       "<rect x=\"40.0\" y=\"-100.0\" width=\"10.0\" height=\"10.0\" opacity=\"0.13333333333333286\" fill=\"currentColor\" stroke-width=\"0.1\"/>\n",
       "<rect x=\"50.0\" y=\"-100.0\" width=\"10.0\" height=\"10.0\" opacity=\"0.0\" fill=\"currentColor\" stroke-width=\"0.1\"/>\n",
       "<rect x=\"60.0\" y=\"-100.0\" width=\"10.0\" height=\"10.0\" opacity=\"0.06666666666666643\" fill=\"currentColor\" stroke-width=\"0.1\"/>\n",
       "<rect x=\"70.0\" y=\"-100.0\" width=\"10.0\" height=\"10.0\" opacity=\"0.466666666666665\" fill=\"currentColor\" stroke-width=\"0.1\"/>\n",
       "<rect x=\"80.0\" y=\"-100.0\" width=\"10.0\" height=\"10.0\" opacity=\"0.1999999999999993\" fill=\"currentColor\" stroke-width=\"0.1\"/>\n",
       "<rect x=\"90.0\" y=\"-100.0\" width=\"10.0\" height=\"10.0\" opacity=\"0.13333333333333286\" fill=\"currentColor\" stroke-width=\"0.1\"/>\n",
       "<rect x=\"100.0\" y=\"-100.0\" width=\"10.0\" height=\"10.0\" opacity=\"0.0\" fill=\"currentColor\" stroke-width=\"0.1\"/>\n",
       "<rect x=\"110.0\" y=\"-100.0\" width=\"10.0\" height=\"10.0\" opacity=\"0.13333333333333286\" fill=\"currentColor\" stroke-width=\"0.1\"/>\n",
       "<rect x=\"120.0\" y=\"-100.0\" width=\"10.0\" height=\"10.0\" opacity=\"0.1999999999999993\" fill=\"currentColor\" stroke-width=\"0.1\"/>\n",
       "<rect x=\"130.0\" y=\"-100.0\" width=\"10.0\" height=\"10.0\" opacity=\"0.13333333333333286\" fill=\"currentColor\" stroke-width=\"0.1\"/>\n",
       "<rect x=\"140.0\" y=\"-100.0\" width=\"10.0\" height=\"10.0\" opacity=\"0.06666666666666643\" fill=\"currentColor\" stroke-width=\"0.1\"/>\n",
       "<rect x=\"150.0\" y=\"-100.0\" width=\"10.0\" height=\"10.0\" opacity=\"0.06666666666666643\" fill=\"currentColor\" stroke-width=\"0.1\"/>\n",
       "<rect x=\"160.0\" y=\"-100.0\" width=\"10.0\" height=\"10.0\" opacity=\"0.06666666666666643\" fill=\"currentColor\" stroke-width=\"0.1\"/>\n",
       "<rect x=\"170.0\" y=\"-100.0\" width=\"10.0\" height=\"10.0\" opacity=\"0.06666666666666667\" fill=\"currentColor\" stroke-width=\"0.1\"/>\n",
       "<rect x=\"179.99999999999997\" y=\"-100.0\" width=\"10.0\" height=\"10.0\" opacity=\"0.06666666666666618\" fill=\"currentColor\" stroke-width=\"0.1\"/>\n",
       "<rect x=\"190.0\" y=\"-100.0\" width=\"10.0\" height=\"10.0\" opacity=\"0.13333333333333286\" fill=\"currentColor\" stroke-width=\"0.1\"/>\n",
       "<rect x=\"200.0\" y=\"-100.0\" width=\"10.0\" height=\"10.0\" opacity=\"0.06666666666666643\" fill=\"currentColor\" stroke-width=\"0.1\"/>\n",
       "<rect x=\"210.0\" y=\"-100.0\" width=\"10.0\" height=\"10.0\" opacity=\"0.06666666666666643\" fill=\"currentColor\" stroke-width=\"0.1\"/>\n",
       "<rect x=\"220.0\" y=\"-100.0\" width=\"10.0\" height=\"10.0\" opacity=\"0.1999999999999993\" fill=\"currentColor\" stroke-width=\"0.1\"/>\n",
       "<rect x=\"230.0\" y=\"-100.0\" width=\"10.0\" height=\"10.0\" opacity=\"0.06666666666666667\" fill=\"currentColor\" stroke-width=\"0.1\"/>\n",
       "<rect x=\"239.99999999999997\" y=\"-100.0\" width=\"10.0\" height=\"10.0\" opacity=\"0.06666666666666618\" fill=\"currentColor\" stroke-width=\"0.1\"/>\n",
       "<rect x=\"0.0\" y=\"-110.0\" width=\"10.0\" height=\"10.0\" opacity=\"0.0\" fill=\"currentColor\" stroke-width=\"0.1\"/>\n",
       "<rect x=\"10.0\" y=\"-110.0\" width=\"10.0\" height=\"10.0\" opacity=\"0.0\" fill=\"currentColor\" stroke-width=\"0.1\"/>\n",
       "<rect x=\"20.0\" y=\"-110.0\" width=\"10.0\" height=\"10.0\" opacity=\"0.0\" fill=\"currentColor\" stroke-width=\"0.1\"/>\n",
       "<rect x=\"30.0\" y=\"-110.0\" width=\"10.0\" height=\"10.0\" opacity=\"0.06666666666666643\" fill=\"currentColor\" stroke-width=\"0.1\"/>\n",
       "<rect x=\"40.0\" y=\"-110.0\" width=\"10.0\" height=\"10.0\" opacity=\"0.06666666666666643\" fill=\"currentColor\" stroke-width=\"0.1\"/>\n",
       "<rect x=\"50.0\" y=\"-110.0\" width=\"10.0\" height=\"10.0\" opacity=\"0.13333333333333286\" fill=\"currentColor\" stroke-width=\"0.1\"/>\n",
       "<rect x=\"60.0\" y=\"-110.0\" width=\"10.0\" height=\"10.0\" opacity=\"0.0\" fill=\"currentColor\" stroke-width=\"0.1\"/>\n",
       "<rect x=\"70.0\" y=\"-110.0\" width=\"10.0\" height=\"10.0\" opacity=\"0.3999999999999986\" fill=\"currentColor\" stroke-width=\"0.1\"/>\n",
       "<rect x=\"80.0\" y=\"-110.0\" width=\"10.0\" height=\"10.0\" opacity=\"0.06666666666666643\" fill=\"currentColor\" stroke-width=\"0.1\"/>\n",
       "<rect x=\"90.0\" y=\"-110.0\" width=\"10.0\" height=\"10.0\" opacity=\"0.3333333333333321\" fill=\"currentColor\" stroke-width=\"0.1\"/>\n",
       "<rect x=\"100.0\" y=\"-110.0\" width=\"10.0\" height=\"10.0\" opacity=\"0.06666666666666643\" fill=\"currentColor\" stroke-width=\"0.1\"/>\n",
       "<rect x=\"110.0\" y=\"-110.0\" width=\"10.0\" height=\"10.0\" opacity=\"0.466666666666665\" fill=\"currentColor\" stroke-width=\"0.1\"/>\n",
       "<rect x=\"120.0\" y=\"-110.0\" width=\"10.0\" height=\"10.0\" opacity=\"0.1999999999999993\" fill=\"currentColor\" stroke-width=\"0.1\"/>\n",
       "<rect x=\"130.0\" y=\"-110.0\" width=\"10.0\" height=\"10.0\" opacity=\"0.1999999999999993\" fill=\"currentColor\" stroke-width=\"0.1\"/>\n",
       "<rect x=\"140.0\" y=\"-110.0\" width=\"10.0\" height=\"10.0\" opacity=\"0.0\" fill=\"currentColor\" stroke-width=\"0.1\"/>\n",
       "<rect x=\"150.0\" y=\"-110.0\" width=\"10.0\" height=\"10.0\" opacity=\"0.1999999999999993\" fill=\"currentColor\" stroke-width=\"0.1\"/>\n",
       "<rect x=\"160.0\" y=\"-110.0\" width=\"10.0\" height=\"10.0\" opacity=\"0.06666666666666643\" fill=\"currentColor\" stroke-width=\"0.1\"/>\n",
       "<rect x=\"170.0\" y=\"-110.0\" width=\"10.0\" height=\"10.0\" opacity=\"0.0\" fill=\"currentColor\" stroke-width=\"0.1\"/>\n",
       "<rect x=\"179.99999999999997\" y=\"-110.0\" width=\"10.0\" height=\"10.0\" opacity=\"0.13333333333333236\" fill=\"currentColor\" stroke-width=\"0.1\"/>\n",
       "<rect x=\"190.0\" y=\"-110.0\" width=\"10.0\" height=\"10.0\" opacity=\"0.1999999999999993\" fill=\"currentColor\" stroke-width=\"0.1\"/>\n",
       "<rect x=\"200.0\" y=\"-110.0\" width=\"10.0\" height=\"10.0\" opacity=\"0.13333333333333286\" fill=\"currentColor\" stroke-width=\"0.1\"/>\n",
       "<rect x=\"210.0\" y=\"-110.0\" width=\"10.0\" height=\"10.0\" opacity=\"0.06666666666666643\" fill=\"currentColor\" stroke-width=\"0.1\"/>\n",
       "<rect x=\"220.0\" y=\"-110.0\" width=\"10.0\" height=\"10.0\" opacity=\"0.1999999999999993\" fill=\"currentColor\" stroke-width=\"0.1\"/>\n",
       "<rect x=\"230.0\" y=\"-110.0\" width=\"10.0\" height=\"10.0\" opacity=\"0.06666666666666667\" fill=\"currentColor\" stroke-width=\"0.1\"/>\n",
       "<rect x=\"239.99999999999997\" y=\"-110.0\" width=\"10.0\" height=\"10.0\" opacity=\"0.06666666666666618\" fill=\"currentColor\" stroke-width=\"0.1\"/>\n",
       "<rect x=\"0.0\" y=\"-120.0\" width=\"10.0\" height=\"10.0\" opacity=\"0.0\" fill=\"currentColor\" stroke-width=\"0.1\"/>\n",
       "<rect x=\"10.0\" y=\"-120.0\" width=\"10.0\" height=\"10.0\" opacity=\"0.0\" fill=\"currentColor\" stroke-width=\"0.1\"/>\n",
       "<rect x=\"20.0\" y=\"-120.0\" width=\"10.0\" height=\"10.0\" opacity=\"0.0\" fill=\"currentColor\" stroke-width=\"0.1\"/>\n",
       "<rect x=\"30.0\" y=\"-120.0\" width=\"10.0\" height=\"10.0\" opacity=\"0.0\" fill=\"currentColor\" stroke-width=\"0.1\"/>\n",
       "<rect x=\"40.0\" y=\"-120.0\" width=\"10.0\" height=\"10.0\" opacity=\"0.06666666666666643\" fill=\"currentColor\" stroke-width=\"0.1\"/>\n",
       "<rect x=\"50.0\" y=\"-120.0\" width=\"10.0\" height=\"10.0\" opacity=\"0.0\" fill=\"currentColor\" stroke-width=\"0.1\"/>\n",
       "<rect x=\"60.0\" y=\"-120.0\" width=\"10.0\" height=\"10.0\" opacity=\"0.0\" fill=\"currentColor\" stroke-width=\"0.1\"/>\n",
       "<rect x=\"70.0\" y=\"-120.0\" width=\"10.0\" height=\"10.0\" opacity=\"0.1999999999999993\" fill=\"currentColor\" stroke-width=\"0.1\"/>\n",
       "<rect x=\"80.0\" y=\"-120.0\" width=\"10.0\" height=\"10.0\" opacity=\"0.13333333333333286\" fill=\"currentColor\" stroke-width=\"0.1\"/>\n",
       "<rect x=\"90.0\" y=\"-120.0\" width=\"10.0\" height=\"10.0\" opacity=\"0.13333333333333286\" fill=\"currentColor\" stroke-width=\"0.1\"/>\n",
       "<rect x=\"100.0\" y=\"-120.0\" width=\"10.0\" height=\"10.0\" opacity=\"0.06666666666666643\" fill=\"currentColor\" stroke-width=\"0.1\"/>\n",
       "<rect x=\"110.0\" y=\"-120.0\" width=\"10.0\" height=\"10.0\" opacity=\"0.1999999999999993\" fill=\"currentColor\" stroke-width=\"0.1\"/>\n",
       "<rect x=\"120.0\" y=\"-120.0\" width=\"10.0\" height=\"10.0\" opacity=\"0.3333333333333321\" fill=\"currentColor\" stroke-width=\"0.1\"/>\n",
       "<rect x=\"130.0\" y=\"-120.0\" width=\"10.0\" height=\"10.0\" opacity=\"0.13333333333333286\" fill=\"currentColor\" stroke-width=\"0.1\"/>\n",
       "<rect x=\"140.0\" y=\"-120.0\" width=\"10.0\" height=\"10.0\" opacity=\"0.13333333333333286\" fill=\"currentColor\" stroke-width=\"0.1\"/>\n",
       "<rect x=\"150.0\" y=\"-120.0\" width=\"10.0\" height=\"10.0\" opacity=\"0.0\" fill=\"currentColor\" stroke-width=\"0.1\"/>\n",
       "<rect x=\"160.0\" y=\"-120.0\" width=\"10.0\" height=\"10.0\" opacity=\"0.13333333333333286\" fill=\"currentColor\" stroke-width=\"0.1\"/>\n",
       "<rect x=\"170.0\" y=\"-120.0\" width=\"10.0\" height=\"10.0\" opacity=\"0.13333333333333333\" fill=\"currentColor\" stroke-width=\"0.1\"/>\n",
       "<rect x=\"179.99999999999997\" y=\"-120.0\" width=\"10.0\" height=\"10.0\" opacity=\"0.13333333333333236\" fill=\"currentColor\" stroke-width=\"0.1\"/>\n",
       "<rect x=\"190.0\" y=\"-120.0\" width=\"10.0\" height=\"10.0\" opacity=\"0.1999999999999993\" fill=\"currentColor\" stroke-width=\"0.1\"/>\n",
       "<rect x=\"200.0\" y=\"-120.0\" width=\"10.0\" height=\"10.0\" opacity=\"0.06666666666666643\" fill=\"currentColor\" stroke-width=\"0.1\"/>\n",
       "<rect x=\"210.0\" y=\"-120.0\" width=\"10.0\" height=\"10.0\" opacity=\"0.06666666666666643\" fill=\"currentColor\" stroke-width=\"0.1\"/>\n",
       "<rect x=\"220.0\" y=\"-120.0\" width=\"10.0\" height=\"10.0\" opacity=\"0.06666666666666643\" fill=\"currentColor\" stroke-width=\"0.1\"/>\n",
       "<rect x=\"230.0\" y=\"-120.0\" width=\"10.0\" height=\"10.0\" opacity=\"0.13333333333333333\" fill=\"currentColor\" stroke-width=\"0.1\"/>\n",
       "<rect x=\"239.99999999999997\" y=\"-120.0\" width=\"10.0\" height=\"10.0\" opacity=\"0.13333333333333236\" fill=\"currentColor\" stroke-width=\"0.1\"/>\n",
       "<rect x=\"0.0\" y=\"-130.0\" width=\"10.0\" height=\"10.0\" opacity=\"0.0\" fill=\"currentColor\" stroke-width=\"0.1\"/>\n",
       "<rect x=\"10.0\" y=\"-130.0\" width=\"10.0\" height=\"10.0\" opacity=\"0.0\" fill=\"currentColor\" stroke-width=\"0.1\"/>\n",
       "<rect x=\"20.0\" y=\"-130.0\" width=\"10.0\" height=\"10.0\" opacity=\"0.0\" fill=\"currentColor\" stroke-width=\"0.1\"/>\n",
       "<rect x=\"30.0\" y=\"-130.0\" width=\"10.0\" height=\"10.0\" opacity=\"0.06666666666666643\" fill=\"currentColor\" stroke-width=\"0.1\"/>\n",
       "<rect x=\"40.0\" y=\"-130.0\" width=\"10.0\" height=\"10.0\" opacity=\"0.0\" fill=\"currentColor\" stroke-width=\"0.1\"/>\n",
       "<rect x=\"50.0\" y=\"-130.0\" width=\"10.0\" height=\"10.0\" opacity=\"0.0\" fill=\"currentColor\" stroke-width=\"0.1\"/>\n",
       "<rect x=\"60.0\" y=\"-130.0\" width=\"10.0\" height=\"10.0\" opacity=\"0.13333333333333286\" fill=\"currentColor\" stroke-width=\"0.1\"/>\n",
       "<rect x=\"70.0\" y=\"-130.0\" width=\"10.0\" height=\"10.0\" opacity=\"0.06666666666666643\" fill=\"currentColor\" stroke-width=\"0.1\"/>\n",
       "<rect x=\"80.0\" y=\"-130.0\" width=\"10.0\" height=\"10.0\" opacity=\"0.13333333333333286\" fill=\"currentColor\" stroke-width=\"0.1\"/>\n",
       "<rect x=\"90.0\" y=\"-130.0\" width=\"10.0\" height=\"10.0\" opacity=\"0.06666666666666643\" fill=\"currentColor\" stroke-width=\"0.1\"/>\n",
       "<rect x=\"100.0\" y=\"-130.0\" width=\"10.0\" height=\"10.0\" opacity=\"0.13333333333333286\" fill=\"currentColor\" stroke-width=\"0.1\"/>\n",
       "<rect x=\"110.0\" y=\"-130.0\" width=\"10.0\" height=\"10.0\" opacity=\"0.3333333333333321\" fill=\"currentColor\" stroke-width=\"0.1\"/>\n",
       "<rect x=\"120.0\" y=\"-130.0\" width=\"10.0\" height=\"10.0\" opacity=\"0.466666666666665\" fill=\"currentColor\" stroke-width=\"0.1\"/>\n",
       "<rect x=\"130.0\" y=\"-130.0\" width=\"10.0\" height=\"10.0\" opacity=\"0.3999999999999986\" fill=\"currentColor\" stroke-width=\"0.1\"/>\n",
       "<rect x=\"140.0\" y=\"-130.0\" width=\"10.0\" height=\"10.0\" opacity=\"0.3333333333333321\" fill=\"currentColor\" stroke-width=\"0.1\"/>\n",
       "<rect x=\"150.0\" y=\"-130.0\" width=\"10.0\" height=\"10.0\" opacity=\"0.1999999999999993\" fill=\"currentColor\" stroke-width=\"0.1\"/>\n",
       "<rect x=\"160.0\" y=\"-130.0\" width=\"10.0\" height=\"10.0\" opacity=\"0.1999999999999993\" fill=\"currentColor\" stroke-width=\"0.1\"/>\n",
       "<rect x=\"170.0\" y=\"-130.0\" width=\"10.0\" height=\"10.0\" opacity=\"0.26666666666666666\" fill=\"currentColor\" stroke-width=\"0.1\"/>\n",
       "<rect x=\"179.99999999999997\" y=\"-130.0\" width=\"10.0\" height=\"10.0\" opacity=\"0.06666666666666618\" fill=\"currentColor\" stroke-width=\"0.1\"/>\n",
       "<rect x=\"190.0\" y=\"-130.0\" width=\"10.0\" height=\"10.0\" opacity=\"0.1999999999999993\" fill=\"currentColor\" stroke-width=\"0.1\"/>\n",
       "<rect x=\"200.0\" y=\"-130.0\" width=\"10.0\" height=\"10.0\" opacity=\"0.06666666666666643\" fill=\"currentColor\" stroke-width=\"0.1\"/>\n",
       "<rect x=\"210.0\" y=\"-130.0\" width=\"10.0\" height=\"10.0\" opacity=\"0.1999999999999993\" fill=\"currentColor\" stroke-width=\"0.1\"/>\n",
       "<rect x=\"220.0\" y=\"-130.0\" width=\"10.0\" height=\"10.0\" opacity=\"0.13333333333333286\" fill=\"currentColor\" stroke-width=\"0.1\"/>\n",
       "<rect x=\"230.0\" y=\"-130.0\" width=\"10.0\" height=\"10.0\" opacity=\"0.06666666666666667\" fill=\"currentColor\" stroke-width=\"0.1\"/>\n",
       "<rect x=\"239.99999999999997\" y=\"-130.0\" width=\"10.0\" height=\"10.0\" opacity=\"0.19999999999999857\" fill=\"currentColor\" stroke-width=\"0.1\"/>\n",
       "<rect x=\"0.0\" y=\"-140.0\" width=\"10.0\" height=\"10.0\" opacity=\"0.0\" fill=\"currentColor\" stroke-width=\"0.1\"/>\n",
       "<rect x=\"10.0\" y=\"-140.0\" width=\"10.0\" height=\"10.0\" opacity=\"0.0\" fill=\"currentColor\" stroke-width=\"0.1\"/>\n",
       "<rect x=\"20.0\" y=\"-140.0\" width=\"10.0\" height=\"10.0\" opacity=\"0.0\" fill=\"currentColor\" stroke-width=\"0.1\"/>\n",
       "<rect x=\"30.0\" y=\"-140.0\" width=\"10.0\" height=\"10.0\" opacity=\"0.0\" fill=\"currentColor\" stroke-width=\"0.1\"/>\n",
       "<rect x=\"40.0\" y=\"-140.0\" width=\"10.0\" height=\"10.0\" opacity=\"0.0\" fill=\"currentColor\" stroke-width=\"0.1\"/>\n",
       "<rect x=\"50.0\" y=\"-140.0\" width=\"10.0\" height=\"10.0\" opacity=\"0.0\" fill=\"currentColor\" stroke-width=\"0.1\"/>\n",
       "<rect x=\"60.0\" y=\"-140.0\" width=\"10.0\" height=\"10.0\" opacity=\"0.06666666666666643\" fill=\"currentColor\" stroke-width=\"0.1\"/>\n",
       "<rect x=\"70.0\" y=\"-140.0\" width=\"10.0\" height=\"10.0\" opacity=\"0.0\" fill=\"currentColor\" stroke-width=\"0.1\"/>\n",
       "<rect x=\"80.0\" y=\"-140.0\" width=\"10.0\" height=\"10.0\" opacity=\"0.2666666666666657\" fill=\"currentColor\" stroke-width=\"0.1\"/>\n",
       "<rect x=\"90.0\" y=\"-140.0\" width=\"10.0\" height=\"10.0\" opacity=\"0.13333333333333286\" fill=\"currentColor\" stroke-width=\"0.1\"/>\n",
       "<rect x=\"100.0\" y=\"-140.0\" width=\"10.0\" height=\"10.0\" opacity=\"0.1999999999999993\" fill=\"currentColor\" stroke-width=\"0.1\"/>\n",
       "<rect x=\"110.0\" y=\"-140.0\" width=\"10.0\" height=\"10.0\" opacity=\"0.2666666666666657\" fill=\"currentColor\" stroke-width=\"0.1\"/>\n",
       "<rect x=\"120.0\" y=\"-140.0\" width=\"10.0\" height=\"10.0\" opacity=\"0.3333333333333321\" fill=\"currentColor\" stroke-width=\"0.1\"/>\n",
       "<rect x=\"130.0\" y=\"-140.0\" width=\"10.0\" height=\"10.0\" opacity=\"0.466666666666665\" fill=\"currentColor\" stroke-width=\"0.1\"/>\n",
       "<rect x=\"140.0\" y=\"-140.0\" width=\"10.0\" height=\"10.0\" opacity=\"0.5333333333333314\" fill=\"currentColor\" stroke-width=\"0.1\"/>\n",
       "<rect x=\"150.0\" y=\"-140.0\" width=\"10.0\" height=\"10.0\" opacity=\"0.1999999999999993\" fill=\"currentColor\" stroke-width=\"0.1\"/>\n",
       "<rect x=\"160.0\" y=\"-140.0\" width=\"10.0\" height=\"10.0\" opacity=\"0.3333333333333321\" fill=\"currentColor\" stroke-width=\"0.1\"/>\n",
       "<rect x=\"170.0\" y=\"-140.0\" width=\"10.0\" height=\"10.0\" opacity=\"0.26666666666666666\" fill=\"currentColor\" stroke-width=\"0.1\"/>\n",
       "<rect x=\"179.99999999999997\" y=\"-140.0\" width=\"10.0\" height=\"10.0\" opacity=\"0.06666666666666618\" fill=\"currentColor\" stroke-width=\"0.1\"/>\n",
       "<rect x=\"190.0\" y=\"-140.0\" width=\"10.0\" height=\"10.0\" opacity=\"0.1999999999999993\" fill=\"currentColor\" stroke-width=\"0.1\"/>\n",
       "<rect x=\"200.0\" y=\"-140.0\" width=\"10.0\" height=\"10.0\" opacity=\"0.2666666666666657\" fill=\"currentColor\" stroke-width=\"0.1\"/>\n",
       "<rect x=\"210.0\" y=\"-140.0\" width=\"10.0\" height=\"10.0\" opacity=\"0.2666666666666657\" fill=\"currentColor\" stroke-width=\"0.1\"/>\n",
       "<rect x=\"220.0\" y=\"-140.0\" width=\"10.0\" height=\"10.0\" opacity=\"0.2666666666666657\" fill=\"currentColor\" stroke-width=\"0.1\"/>\n",
       "<rect x=\"230.0\" y=\"-140.0\" width=\"10.0\" height=\"10.0\" opacity=\"0.5333333333333333\" fill=\"currentColor\" stroke-width=\"0.1\"/>\n",
       "<rect x=\"239.99999999999997\" y=\"-140.0\" width=\"10.0\" height=\"10.0\" opacity=\"0.13333333333333236\" fill=\"currentColor\" stroke-width=\"0.1\"/>\n",
       "<rect x=\"0.0\" y=\"-150.0\" width=\"10.0\" height=\"10.0\" opacity=\"0.0\" fill=\"currentColor\" stroke-width=\"0.1\"/>\n",
       "<rect x=\"10.0\" y=\"-150.0\" width=\"10.0\" height=\"10.0\" opacity=\"0.0\" fill=\"currentColor\" stroke-width=\"0.1\"/>\n",
       "<rect x=\"20.0\" y=\"-150.0\" width=\"10.0\" height=\"10.0\" opacity=\"0.0\" fill=\"currentColor\" stroke-width=\"0.1\"/>\n",
       "<rect x=\"30.0\" y=\"-150.0\" width=\"10.0\" height=\"10.0\" opacity=\"0.0\" fill=\"currentColor\" stroke-width=\"0.1\"/>\n",
       "<rect x=\"40.0\" y=\"-150.0\" width=\"10.0\" height=\"10.0\" opacity=\"0.06666666666666643\" fill=\"currentColor\" stroke-width=\"0.1\"/>\n",
       "<rect x=\"50.0\" y=\"-150.0\" width=\"10.0\" height=\"10.0\" opacity=\"0.0\" fill=\"currentColor\" stroke-width=\"0.1\"/>\n",
       "<rect x=\"60.0\" y=\"-150.0\" width=\"10.0\" height=\"10.0\" opacity=\"0.0\" fill=\"currentColor\" stroke-width=\"0.1\"/>\n",
       "<rect x=\"70.0\" y=\"-150.0\" width=\"10.0\" height=\"10.0\" opacity=\"0.0\" fill=\"currentColor\" stroke-width=\"0.1\"/>\n",
       "<rect x=\"80.0\" y=\"-150.0\" width=\"10.0\" height=\"10.0\" opacity=\"0.06666666666666643\" fill=\"currentColor\" stroke-width=\"0.1\"/>\n",
       "<rect x=\"90.0\" y=\"-150.0\" width=\"10.0\" height=\"10.0\" opacity=\"0.06666666666666643\" fill=\"currentColor\" stroke-width=\"0.1\"/>\n",
       "<rect x=\"100.0\" y=\"-150.0\" width=\"10.0\" height=\"10.0\" opacity=\"0.06666666666666643\" fill=\"currentColor\" stroke-width=\"0.1\"/>\n",
       "<rect x=\"110.0\" y=\"-150.0\" width=\"10.0\" height=\"10.0\" opacity=\"0.466666666666665\" fill=\"currentColor\" stroke-width=\"0.1\"/>\n",
       "<rect x=\"120.0\" y=\"-150.0\" width=\"10.0\" height=\"10.0\" opacity=\"0.3999999999999986\" fill=\"currentColor\" stroke-width=\"0.1\"/>\n",
       "<rect x=\"130.0\" y=\"-150.0\" width=\"10.0\" height=\"10.0\" opacity=\"0.3999999999999986\" fill=\"currentColor\" stroke-width=\"0.1\"/>\n",
       "<rect x=\"140.0\" y=\"-150.0\" width=\"10.0\" height=\"10.0\" opacity=\"0.3333333333333321\" fill=\"currentColor\" stroke-width=\"0.1\"/>\n",
       "<rect x=\"150.0\" y=\"-150.0\" width=\"10.0\" height=\"10.0\" opacity=\"0.1999999999999993\" fill=\"currentColor\" stroke-width=\"0.1\"/>\n",
       "<rect x=\"160.0\" y=\"-150.0\" width=\"10.0\" height=\"10.0\" opacity=\"0.5333333333333314\" fill=\"currentColor\" stroke-width=\"0.1\"/>\n",
       "<rect x=\"170.0\" y=\"-150.0\" width=\"10.0\" height=\"10.0\" opacity=\"0.19999999999999998\" fill=\"currentColor\" stroke-width=\"0.1\"/>\n",
       "<rect x=\"179.99999999999997\" y=\"-150.0\" width=\"10.0\" height=\"10.0\" opacity=\"0.13333333333333236\" fill=\"currentColor\" stroke-width=\"0.1\"/>\n",
       "<rect x=\"190.0\" y=\"-150.0\" width=\"10.0\" height=\"10.0\" opacity=\"0.3999999999999986\" fill=\"currentColor\" stroke-width=\"0.1\"/>\n",
       "<rect x=\"200.0\" y=\"-150.0\" width=\"10.0\" height=\"10.0\" opacity=\"0.13333333333333286\" fill=\"currentColor\" stroke-width=\"0.1\"/>\n",
       "<rect x=\"210.0\" y=\"-150.0\" width=\"10.0\" height=\"10.0\" opacity=\"0.466666666666665\" fill=\"currentColor\" stroke-width=\"0.1\"/>\n",
       "<rect x=\"220.0\" y=\"-150.0\" width=\"10.0\" height=\"10.0\" opacity=\"0.06666666666666643\" fill=\"currentColor\" stroke-width=\"0.1\"/>\n",
       "<rect x=\"230.0\" y=\"-150.0\" width=\"10.0\" height=\"10.0\" opacity=\"0.06666666666666667\" fill=\"currentColor\" stroke-width=\"0.1\"/>\n",
       "<rect x=\"239.99999999999997\" y=\"-150.0\" width=\"10.0\" height=\"10.0\" opacity=\"0.06666666666666618\" fill=\"currentColor\" stroke-width=\"0.1\"/>\n",
       "<rect x=\"0.0\" y=\"-160.0\" width=\"10.0\" height=\"10.0\" opacity=\"0.0\" fill=\"currentColor\" stroke-width=\"0.1\"/>\n",
       "<rect x=\"10.0\" y=\"-160.0\" width=\"10.0\" height=\"10.0\" opacity=\"0.0\" fill=\"currentColor\" stroke-width=\"0.1\"/>\n",
       "<rect x=\"20.0\" y=\"-160.0\" width=\"10.0\" height=\"10.0\" opacity=\"0.0\" fill=\"currentColor\" stroke-width=\"0.1\"/>\n",
       "<rect x=\"30.0\" y=\"-160.0\" width=\"10.0\" height=\"10.0\" opacity=\"0.0\" fill=\"currentColor\" stroke-width=\"0.1\"/>\n",
       "<rect x=\"40.0\" y=\"-160.0\" width=\"10.0\" height=\"10.0\" opacity=\"0.0\" fill=\"currentColor\" stroke-width=\"0.1\"/>\n",
       "<rect x=\"50.0\" y=\"-160.0\" width=\"10.0\" height=\"10.0\" opacity=\"0.0\" fill=\"currentColor\" stroke-width=\"0.1\"/>\n",
       "<rect x=\"60.0\" y=\"-160.0\" width=\"10.0\" height=\"10.0\" opacity=\"0.0\" fill=\"currentColor\" stroke-width=\"0.1\"/>\n",
       "<rect x=\"70.0\" y=\"-160.0\" width=\"10.0\" height=\"10.0\" opacity=\"0.0\" fill=\"currentColor\" stroke-width=\"0.1\"/>\n",
       "<rect x=\"80.0\" y=\"-160.0\" width=\"10.0\" height=\"10.0\" opacity=\"0.13333333333333286\" fill=\"currentColor\" stroke-width=\"0.1\"/>\n",
       "<rect x=\"90.0\" y=\"-160.0\" width=\"10.0\" height=\"10.0\" opacity=\"0.06666666666666643\" fill=\"currentColor\" stroke-width=\"0.1\"/>\n",
       "<rect x=\"100.0\" y=\"-160.0\" width=\"10.0\" height=\"10.0\" opacity=\"0.2666666666666657\" fill=\"currentColor\" stroke-width=\"0.1\"/>\n",
       "<rect x=\"110.0\" y=\"-160.0\" width=\"10.0\" height=\"10.0\" opacity=\"0.2666666666666657\" fill=\"currentColor\" stroke-width=\"0.1\"/>\n",
       "<rect x=\"120.0\" y=\"-160.0\" width=\"10.0\" height=\"10.0\" opacity=\"0.2666666666666657\" fill=\"currentColor\" stroke-width=\"0.1\"/>\n",
       "<rect x=\"130.0\" y=\"-160.0\" width=\"10.0\" height=\"10.0\" opacity=\"0.13333333333333286\" fill=\"currentColor\" stroke-width=\"0.1\"/>\n",
       "<rect x=\"140.0\" y=\"-160.0\" width=\"10.0\" height=\"10.0\" opacity=\"0.466666666666665\" fill=\"currentColor\" stroke-width=\"0.1\"/>\n",
       "<rect x=\"150.0\" y=\"-160.0\" width=\"10.0\" height=\"10.0\" opacity=\"0.3999999999999986\" fill=\"currentColor\" stroke-width=\"0.1\"/>\n",
       "<rect x=\"160.0\" y=\"-160.0\" width=\"10.0\" height=\"10.0\" opacity=\"0.1999999999999993\" fill=\"currentColor\" stroke-width=\"0.1\"/>\n",
       "<rect x=\"170.0\" y=\"-160.0\" width=\"10.0\" height=\"10.0\" opacity=\"0.4666666666666667\" fill=\"currentColor\" stroke-width=\"0.1\"/>\n",
       "<rect x=\"179.99999999999997\" y=\"-160.0\" width=\"10.0\" height=\"10.0\" opacity=\"0.19999999999999857\" fill=\"currentColor\" stroke-width=\"0.1\"/>\n",
       "<rect x=\"190.0\" y=\"-160.0\" width=\"10.0\" height=\"10.0\" opacity=\"0.3333333333333321\" fill=\"currentColor\" stroke-width=\"0.1\"/>\n",
       "<rect x=\"200.0\" y=\"-160.0\" width=\"10.0\" height=\"10.0\" opacity=\"0.3333333333333321\" fill=\"currentColor\" stroke-width=\"0.1\"/>\n",
       "<rect x=\"210.0\" y=\"-160.0\" width=\"10.0\" height=\"10.0\" opacity=\"0.13333333333333286\" fill=\"currentColor\" stroke-width=\"0.1\"/>\n",
       "<rect x=\"220.0\" y=\"-160.0\" width=\"10.0\" height=\"10.0\" opacity=\"0.13333333333333286\" fill=\"currentColor\" stroke-width=\"0.1\"/>\n",
       "<rect x=\"230.0\" y=\"-160.0\" width=\"10.0\" height=\"10.0\" opacity=\"0.06666666666666667\" fill=\"currentColor\" stroke-width=\"0.1\"/>\n",
       "<rect x=\"239.99999999999997\" y=\"-160.0\" width=\"10.0\" height=\"10.0\" opacity=\"0.13333333333333236\" fill=\"currentColor\" stroke-width=\"0.1\"/>\n",
       "<rect x=\"0.0\" y=\"-170.0\" width=\"10.0\" height=\"10.0\" opacity=\"0.0\" fill=\"currentColor\" stroke-width=\"0.1\"/>\n",
       "<rect x=\"10.0\" y=\"-170.0\" width=\"10.0\" height=\"10.0\" opacity=\"0.0\" fill=\"currentColor\" stroke-width=\"0.1\"/>\n",
       "<rect x=\"20.0\" y=\"-170.0\" width=\"10.0\" height=\"10.0\" opacity=\"0.06666666666666643\" fill=\"currentColor\" stroke-width=\"0.1\"/>\n",
       "<rect x=\"30.0\" y=\"-170.0\" width=\"10.0\" height=\"10.0\" opacity=\"0.0\" fill=\"currentColor\" stroke-width=\"0.1\"/>\n",
       "<rect x=\"40.0\" y=\"-170.0\" width=\"10.0\" height=\"10.0\" opacity=\"0.06666666666666643\" fill=\"currentColor\" stroke-width=\"0.1\"/>\n",
       "<rect x=\"50.0\" y=\"-170.0\" width=\"10.0\" height=\"10.0\" opacity=\"0.06666666666666643\" fill=\"currentColor\" stroke-width=\"0.1\"/>\n",
       "<rect x=\"60.0\" y=\"-170.0\" width=\"10.0\" height=\"10.0\" opacity=\"0.13333333333333286\" fill=\"currentColor\" stroke-width=\"0.1\"/>\n",
       "<rect x=\"70.0\" y=\"-170.0\" width=\"10.0\" height=\"10.0\" opacity=\"0.06666666666666643\" fill=\"currentColor\" stroke-width=\"0.1\"/>\n",
       "<rect x=\"80.0\" y=\"-170.0\" width=\"10.0\" height=\"10.0\" opacity=\"0.13333333333333286\" fill=\"currentColor\" stroke-width=\"0.1\"/>\n",
       "<rect x=\"90.0\" y=\"-170.0\" width=\"10.0\" height=\"10.0\" opacity=\"0.1999999999999993\" fill=\"currentColor\" stroke-width=\"0.1\"/>\n",
       "<rect x=\"100.0\" y=\"-170.0\" width=\"10.0\" height=\"10.0\" opacity=\"0.06666666666666643\" fill=\"currentColor\" stroke-width=\"0.1\"/>\n",
       "<rect x=\"110.0\" y=\"-170.0\" width=\"10.0\" height=\"10.0\" opacity=\"0.3999999999999986\" fill=\"currentColor\" stroke-width=\"0.1\"/>\n",
       "<rect x=\"120.0\" y=\"-170.0\" width=\"10.0\" height=\"10.0\" opacity=\"0.13333333333333286\" fill=\"currentColor\" stroke-width=\"0.1\"/>\n",
       "<rect x=\"130.0\" y=\"-170.0\" width=\"10.0\" height=\"10.0\" opacity=\"0.1999999999999993\" fill=\"currentColor\" stroke-width=\"0.1\"/>\n",
       "<rect x=\"140.0\" y=\"-170.0\" width=\"10.0\" height=\"10.0\" opacity=\"0.1999999999999993\" fill=\"currentColor\" stroke-width=\"0.1\"/>\n",
       "<rect x=\"150.0\" y=\"-170.0\" width=\"10.0\" height=\"10.0\" opacity=\"0.3333333333333321\" fill=\"currentColor\" stroke-width=\"0.1\"/>\n",
       "<rect x=\"160.0\" y=\"-170.0\" width=\"10.0\" height=\"10.0\" opacity=\"0.13333333333333286\" fill=\"currentColor\" stroke-width=\"0.1\"/>\n",
       "<rect x=\"170.0\" y=\"-170.0\" width=\"10.0\" height=\"10.0\" opacity=\"0.19999999999999998\" fill=\"currentColor\" stroke-width=\"0.1\"/>\n",
       "<rect x=\"179.99999999999997\" y=\"-170.0\" width=\"10.0\" height=\"10.0\" opacity=\"0.2666666666666647\" fill=\"currentColor\" stroke-width=\"0.1\"/>\n",
       "<rect x=\"190.0\" y=\"-170.0\" width=\"10.0\" height=\"10.0\" opacity=\"0.3999999999999986\" fill=\"currentColor\" stroke-width=\"0.1\"/>\n",
       "<rect x=\"200.0\" y=\"-170.0\" width=\"10.0\" height=\"10.0\" opacity=\"0.1999999999999993\" fill=\"currentColor\" stroke-width=\"0.1\"/>\n",
       "<rect x=\"210.0\" y=\"-170.0\" width=\"10.0\" height=\"10.0\" opacity=\"0.1999999999999993\" fill=\"currentColor\" stroke-width=\"0.1\"/>\n",
       "<rect x=\"220.0\" y=\"-170.0\" width=\"10.0\" height=\"10.0\" opacity=\"0.2666666666666657\" fill=\"currentColor\" stroke-width=\"0.1\"/>\n",
       "<rect x=\"230.0\" y=\"-170.0\" width=\"10.0\" height=\"10.0\" opacity=\"0.13333333333333333\" fill=\"currentColor\" stroke-width=\"0.1\"/>\n",
       "<rect x=\"239.99999999999997\" y=\"-170.0\" width=\"10.0\" height=\"10.0\" opacity=\"0.2666666666666647\" fill=\"currentColor\" stroke-width=\"0.1\"/>\n",
       "<rect x=\"0.0\" y=\"-179.99999999999997\" width=\"10.0\" height=\"10.0\" opacity=\"0.0\" fill=\"currentColor\" stroke-width=\"0.1\"/>\n",
       "<rect x=\"10.0\" y=\"-179.99999999999997\" width=\"10.0\" height=\"10.0\" opacity=\"0.0\" fill=\"currentColor\" stroke-width=\"0.1\"/>\n",
       "<rect x=\"20.0\" y=\"-179.99999999999997\" width=\"10.0\" height=\"10.0\" opacity=\"0.0\" fill=\"currentColor\" stroke-width=\"0.1\"/>\n",
       "<rect x=\"30.0\" y=\"-179.99999999999997\" width=\"10.0\" height=\"10.0\" opacity=\"0.0\" fill=\"currentColor\" stroke-width=\"0.1\"/>\n",
       "<rect x=\"40.0\" y=\"-179.99999999999997\" width=\"10.0\" height=\"10.0\" opacity=\"0.0\" fill=\"currentColor\" stroke-width=\"0.1\"/>\n",
       "<rect x=\"50.0\" y=\"-179.99999999999997\" width=\"10.0\" height=\"10.0\" opacity=\"0.0\" fill=\"currentColor\" stroke-width=\"0.1\"/>\n",
       "<rect x=\"60.0\" y=\"-179.99999999999997\" width=\"10.0\" height=\"10.0\" opacity=\"0.06666666666666667\" fill=\"currentColor\" stroke-width=\"0.1\"/>\n",
       "<rect x=\"70.0\" y=\"-179.99999999999997\" width=\"10.0\" height=\"10.0\" opacity=\"0.06666666666666667\" fill=\"currentColor\" stroke-width=\"0.1\"/>\n",
       "<rect x=\"80.0\" y=\"-179.99999999999997\" width=\"10.0\" height=\"10.0\" opacity=\"0.0\" fill=\"currentColor\" stroke-width=\"0.1\"/>\n",
       "<rect x=\"90.0\" y=\"-179.99999999999997\" width=\"10.0\" height=\"10.0\" opacity=\"0.13333333333333333\" fill=\"currentColor\" stroke-width=\"0.1\"/>\n",
       "<rect x=\"100.0\" y=\"-179.99999999999997\" width=\"10.0\" height=\"10.0\" opacity=\"0.06666666666666667\" fill=\"currentColor\" stroke-width=\"0.1\"/>\n",
       "<rect x=\"110.0\" y=\"-179.99999999999997\" width=\"10.0\" height=\"10.0\" opacity=\"0.19999999999999998\" fill=\"currentColor\" stroke-width=\"0.1\"/>\n",
       "<rect x=\"120.0\" y=\"-179.99999999999997\" width=\"10.0\" height=\"10.0\" opacity=\"0.26666666666666666\" fill=\"currentColor\" stroke-width=\"0.1\"/>\n",
       "<rect x=\"130.0\" y=\"-179.99999999999997\" width=\"10.0\" height=\"10.0\" opacity=\"0.19999999999999998\" fill=\"currentColor\" stroke-width=\"0.1\"/>\n",
       "<rect x=\"140.0\" y=\"-179.99999999999997\" width=\"10.0\" height=\"10.0\" opacity=\"0.3333333333333333\" fill=\"currentColor\" stroke-width=\"0.1\"/>\n",
       "<rect x=\"150.0\" y=\"-179.99999999999997\" width=\"10.0\" height=\"10.0\" opacity=\"0.26666666666666666\" fill=\"currentColor\" stroke-width=\"0.1\"/>\n",
       "<rect x=\"160.0\" y=\"-179.99999999999997\" width=\"10.0\" height=\"10.0\" opacity=\"0.39999999999999997\" fill=\"currentColor\" stroke-width=\"0.1\"/>\n",
       "<rect x=\"170.0\" y=\"-179.99999999999997\" width=\"10.0\" height=\"10.0\" opacity=\"0.3333333333333345\" fill=\"currentColor\" stroke-width=\"0.1\"/>\n",
       "<rect x=\"179.99999999999997\" y=\"-179.99999999999997\" width=\"10.0\" height=\"10.0\" opacity=\"0.3999999999999986\" fill=\"currentColor\" stroke-width=\"0.1\"/>\n",
       "<rect x=\"190.0\" y=\"-179.99999999999997\" width=\"10.0\" height=\"10.0\" opacity=\"0.4666666666666667\" fill=\"currentColor\" stroke-width=\"0.1\"/>\n",
       "<rect x=\"200.0\" y=\"-179.99999999999997\" width=\"10.0\" height=\"10.0\" opacity=\"0.26666666666666666\" fill=\"currentColor\" stroke-width=\"0.1\"/>\n",
       "<rect x=\"210.0\" y=\"-179.99999999999997\" width=\"10.0\" height=\"10.0\" opacity=\"0.5333333333333333\" fill=\"currentColor\" stroke-width=\"0.1\"/>\n",
       "<rect x=\"220.0\" y=\"-179.99999999999997\" width=\"10.0\" height=\"10.0\" opacity=\"0.3333333333333333\" fill=\"currentColor\" stroke-width=\"0.1\"/>\n",
       "<rect x=\"230.0\" y=\"-179.99999999999997\" width=\"10.0\" height=\"10.0\" opacity=\"0.2666666666666676\" fill=\"currentColor\" stroke-width=\"0.1\"/>\n",
       "<rect x=\"239.99999999999997\" y=\"-179.99999999999997\" width=\"10.0\" height=\"10.0\" opacity=\"0.1999999999999993\" fill=\"currentColor\" stroke-width=\"0.1\"/>\n",
       "<rect x=\"0.0\" y=\"-190.0\" width=\"10.0\" height=\"10.0\" opacity=\"0.0\" fill=\"currentColor\" stroke-width=\"0.1\"/>\n",
       "<rect x=\"10.0\" y=\"-190.0\" width=\"10.0\" height=\"10.0\" opacity=\"0.0\" fill=\"currentColor\" stroke-width=\"0.1\"/>\n",
       "<rect x=\"20.0\" y=\"-190.0\" width=\"10.0\" height=\"10.0\" opacity=\"0.0\" fill=\"currentColor\" stroke-width=\"0.1\"/>\n",
       "<rect x=\"30.0\" y=\"-190.0\" width=\"10.0\" height=\"10.0\" opacity=\"0.0\" fill=\"currentColor\" stroke-width=\"0.1\"/>\n",
       "<rect x=\"40.0\" y=\"-190.0\" width=\"10.0\" height=\"10.0\" opacity=\"0.0\" fill=\"currentColor\" stroke-width=\"0.1\"/>\n",
       "<rect x=\"50.0\" y=\"-190.0\" width=\"10.0\" height=\"10.0\" opacity=\"0.06666666666666618\" fill=\"currentColor\" stroke-width=\"0.1\"/>\n",
       "<rect x=\"60.0\" y=\"-190.0\" width=\"10.0\" height=\"10.0\" opacity=\"0.06666666666666618\" fill=\"currentColor\" stroke-width=\"0.1\"/>\n",
       "<rect x=\"70.0\" y=\"-190.0\" width=\"10.0\" height=\"10.0\" opacity=\"0.13333333333333236\" fill=\"currentColor\" stroke-width=\"0.1\"/>\n",
       "<rect x=\"80.0\" y=\"-190.0\" width=\"10.0\" height=\"10.0\" opacity=\"0.0\" fill=\"currentColor\" stroke-width=\"0.1\"/>\n",
       "<rect x=\"90.0\" y=\"-190.0\" width=\"10.0\" height=\"10.0\" opacity=\"0.06666666666666618\" fill=\"currentColor\" stroke-width=\"0.1\"/>\n",
       "<rect x=\"100.0\" y=\"-190.0\" width=\"10.0\" height=\"10.0\" opacity=\"0.06666666666666618\" fill=\"currentColor\" stroke-width=\"0.1\"/>\n",
       "<rect x=\"110.0\" y=\"-190.0\" width=\"10.0\" height=\"10.0\" opacity=\"0.13333333333333236\" fill=\"currentColor\" stroke-width=\"0.1\"/>\n",
       "<rect x=\"120.0\" y=\"-190.0\" width=\"10.0\" height=\"10.0\" opacity=\"0.19999999999999857\" fill=\"currentColor\" stroke-width=\"0.1\"/>\n",
       "<rect x=\"130.0\" y=\"-190.0\" width=\"10.0\" height=\"10.0\" opacity=\"0.4666666666666633\" fill=\"currentColor\" stroke-width=\"0.1\"/>\n",
       "<rect x=\"140.0\" y=\"-190.0\" width=\"10.0\" height=\"10.0\" opacity=\"0.6666666666666619\" fill=\"currentColor\" stroke-width=\"0.1\"/>\n",
       "<rect x=\"150.0\" y=\"-190.0\" width=\"10.0\" height=\"10.0\" opacity=\"0.06666666666666618\" fill=\"currentColor\" stroke-width=\"0.1\"/>\n",
       "<rect x=\"160.0\" y=\"-190.0\" width=\"10.0\" height=\"10.0\" opacity=\"0.2666666666666647\" fill=\"currentColor\" stroke-width=\"0.1\"/>\n",
       "<rect x=\"170.0\" y=\"-190.0\" width=\"10.0\" height=\"10.0\" opacity=\"0.2666666666666657\" fill=\"currentColor\" stroke-width=\"0.1\"/>\n",
       "<rect x=\"179.99999999999997\" y=\"-190.0\" width=\"10.0\" height=\"10.0\" opacity=\"0.5333333333333277\" fill=\"currentColor\" stroke-width=\"0.1\"/>\n",
       "<rect x=\"190.0\" y=\"-190.0\" width=\"10.0\" height=\"10.0\" opacity=\"0.19999999999999857\" fill=\"currentColor\" stroke-width=\"0.1\"/>\n",
       "<rect x=\"200.0\" y=\"-190.0\" width=\"10.0\" height=\"10.0\" opacity=\"0.5333333333333294\" fill=\"currentColor\" stroke-width=\"0.1\"/>\n",
       "<rect x=\"210.0\" y=\"-190.0\" width=\"10.0\" height=\"10.0\" opacity=\"0.13333333333333236\" fill=\"currentColor\" stroke-width=\"0.1\"/>\n",
       "<rect x=\"220.0\" y=\"-190.0\" width=\"10.0\" height=\"10.0\" opacity=\"0.19999999999999857\" fill=\"currentColor\" stroke-width=\"0.1\"/>\n",
       "<rect x=\"230.0\" y=\"-190.0\" width=\"10.0\" height=\"10.0\" opacity=\"0.3333333333333321\" fill=\"currentColor\" stroke-width=\"0.1\"/>\n",
       "<rect x=\"239.99999999999997\" y=\"-190.0\" width=\"10.0\" height=\"10.0\" opacity=\"0.4666666666666617\" fill=\"currentColor\" stroke-width=\"0.1\"/>\n",
       "<rect x=\"0.0\" y=\"-200.0\" width=\"10.0\" height=\"10.0\" opacity=\"0.0\" fill=\"currentColor\" stroke-width=\"0.1\"/>\n",
       "<rect x=\"10.0\" y=\"-200.0\" width=\"10.0\" height=\"10.0\" opacity=\"0.0\" fill=\"currentColor\" stroke-width=\"0.1\"/>\n",
       "<rect x=\"20.0\" y=\"-200.0\" width=\"10.0\" height=\"10.0\" opacity=\"0.0\" fill=\"currentColor\" stroke-width=\"0.1\"/>\n",
       "<rect x=\"30.0\" y=\"-200.0\" width=\"10.0\" height=\"10.0\" opacity=\"0.0\" fill=\"currentColor\" stroke-width=\"0.1\"/>\n",
       "<rect x=\"40.0\" y=\"-200.0\" width=\"10.0\" height=\"10.0\" opacity=\"0.0\" fill=\"currentColor\" stroke-width=\"0.1\"/>\n",
       "<rect x=\"50.0\" y=\"-200.0\" width=\"10.0\" height=\"10.0\" opacity=\"0.06666666666666643\" fill=\"currentColor\" stroke-width=\"0.1\"/>\n",
       "<rect x=\"60.0\" y=\"-200.0\" width=\"10.0\" height=\"10.0\" opacity=\"0.06666666666666643\" fill=\"currentColor\" stroke-width=\"0.1\"/>\n",
       "<rect x=\"70.0\" y=\"-200.0\" width=\"10.0\" height=\"10.0\" opacity=\"0.0\" fill=\"currentColor\" stroke-width=\"0.1\"/>\n",
       "<rect x=\"80.0\" y=\"-200.0\" width=\"10.0\" height=\"10.0\" opacity=\"0.0\" fill=\"currentColor\" stroke-width=\"0.1\"/>\n",
       "<rect x=\"90.0\" y=\"-200.0\" width=\"10.0\" height=\"10.0\" opacity=\"0.0\" fill=\"currentColor\" stroke-width=\"0.1\"/>\n",
       "<rect x=\"100.0\" y=\"-200.0\" width=\"10.0\" height=\"10.0\" opacity=\"0.0\" fill=\"currentColor\" stroke-width=\"0.1\"/>\n",
       "<rect x=\"110.0\" y=\"-200.0\" width=\"10.0\" height=\"10.0\" opacity=\"0.13333333333333286\" fill=\"currentColor\" stroke-width=\"0.1\"/>\n",
       "<rect x=\"120.0\" y=\"-200.0\" width=\"10.0\" height=\"10.0\" opacity=\"0.0\" fill=\"currentColor\" stroke-width=\"0.1\"/>\n",
       "<rect x=\"130.0\" y=\"-200.0\" width=\"10.0\" height=\"10.0\" opacity=\"0.13333333333333286\" fill=\"currentColor\" stroke-width=\"0.1\"/>\n",
       "<rect x=\"140.0\" y=\"-200.0\" width=\"10.0\" height=\"10.0\" opacity=\"0.3333333333333321\" fill=\"currentColor\" stroke-width=\"0.1\"/>\n",
       "<rect x=\"150.0\" y=\"-200.0\" width=\"10.0\" height=\"10.0\" opacity=\"0.3999999999999986\" fill=\"currentColor\" stroke-width=\"0.1\"/>\n",
       "<rect x=\"160.0\" y=\"-200.0\" width=\"10.0\" height=\"10.0\" opacity=\"0.2666666666666657\" fill=\"currentColor\" stroke-width=\"0.1\"/>\n",
       "<rect x=\"170.0\" y=\"-200.0\" width=\"10.0\" height=\"10.0\" opacity=\"0.3333333333333333\" fill=\"currentColor\" stroke-width=\"0.1\"/>\n",
       "<rect x=\"179.99999999999997\" y=\"-200.0\" width=\"10.0\" height=\"10.0\" opacity=\"0.5999999999999956\" fill=\"currentColor\" stroke-width=\"0.1\"/>\n",
       "<rect x=\"190.0\" y=\"-200.0\" width=\"10.0\" height=\"10.0\" opacity=\"0.5333333333333314\" fill=\"currentColor\" stroke-width=\"0.1\"/>\n",
       "<rect x=\"200.0\" y=\"-200.0\" width=\"10.0\" height=\"10.0\" opacity=\"0.5333333333333314\" fill=\"currentColor\" stroke-width=\"0.1\"/>\n",
       "<rect x=\"210.0\" y=\"-200.0\" width=\"10.0\" height=\"10.0\" opacity=\"0.466666666666665\" fill=\"currentColor\" stroke-width=\"0.1\"/>\n",
       "<rect x=\"220.0\" y=\"-200.0\" width=\"10.0\" height=\"10.0\" opacity=\"0.466666666666665\" fill=\"currentColor\" stroke-width=\"0.1\"/>\n",
       "<rect x=\"230.0\" y=\"-200.0\" width=\"10.0\" height=\"10.0\" opacity=\"0.3333333333333333\" fill=\"currentColor\" stroke-width=\"0.1\"/>\n",
       "<rect x=\"239.99999999999997\" y=\"-200.0\" width=\"10.0\" height=\"10.0\" opacity=\"0.5333333333333294\" fill=\"currentColor\" stroke-width=\"0.1\"/>\n",
       "<rect x=\"0.0\" y=\"-210.0\" width=\"10.0\" height=\"10.0\" opacity=\"0.0\" fill=\"currentColor\" stroke-width=\"0.1\"/>\n",
       "<rect x=\"10.0\" y=\"-210.0\" width=\"10.0\" height=\"10.0\" opacity=\"0.06666666666666643\" fill=\"currentColor\" stroke-width=\"0.1\"/>\n",
       "<rect x=\"20.0\" y=\"-210.0\" width=\"10.0\" height=\"10.0\" opacity=\"0.0\" fill=\"currentColor\" stroke-width=\"0.1\"/>\n",
       "<rect x=\"30.0\" y=\"-210.0\" width=\"10.0\" height=\"10.0\" opacity=\"0.0\" fill=\"currentColor\" stroke-width=\"0.1\"/>\n",
       "<rect x=\"40.0\" y=\"-210.0\" width=\"10.0\" height=\"10.0\" opacity=\"0.0\" fill=\"currentColor\" stroke-width=\"0.1\"/>\n",
       "<rect x=\"50.0\" y=\"-210.0\" width=\"10.0\" height=\"10.0\" opacity=\"0.06666666666666643\" fill=\"currentColor\" stroke-width=\"0.1\"/>\n",
       "<rect x=\"60.0\" y=\"-210.0\" width=\"10.0\" height=\"10.0\" opacity=\"0.0\" fill=\"currentColor\" stroke-width=\"0.1\"/>\n",
       "<rect x=\"70.0\" y=\"-210.0\" width=\"10.0\" height=\"10.0\" opacity=\"0.0\" fill=\"currentColor\" stroke-width=\"0.1\"/>\n",
       "<rect x=\"80.0\" y=\"-210.0\" width=\"10.0\" height=\"10.0\" opacity=\"0.0\" fill=\"currentColor\" stroke-width=\"0.1\"/>\n",
       "<rect x=\"90.0\" y=\"-210.0\" width=\"10.0\" height=\"10.0\" opacity=\"0.1999999999999993\" fill=\"currentColor\" stroke-width=\"0.1\"/>\n",
       "<rect x=\"100.0\" y=\"-210.0\" width=\"10.0\" height=\"10.0\" opacity=\"0.0\" fill=\"currentColor\" stroke-width=\"0.1\"/>\n",
       "<rect x=\"110.0\" y=\"-210.0\" width=\"10.0\" height=\"10.0\" opacity=\"0.13333333333333286\" fill=\"currentColor\" stroke-width=\"0.1\"/>\n",
       "<rect x=\"120.0\" y=\"-210.0\" width=\"10.0\" height=\"10.0\" opacity=\"0.06666666666666643\" fill=\"currentColor\" stroke-width=\"0.1\"/>\n",
       "<rect x=\"130.0\" y=\"-210.0\" width=\"10.0\" height=\"10.0\" opacity=\"0.1999999999999993\" fill=\"currentColor\" stroke-width=\"0.1\"/>\n",
       "<rect x=\"140.0\" y=\"-210.0\" width=\"10.0\" height=\"10.0\" opacity=\"0.2666666666666657\" fill=\"currentColor\" stroke-width=\"0.1\"/>\n",
       "<rect x=\"150.0\" y=\"-210.0\" width=\"10.0\" height=\"10.0\" opacity=\"0.1999999999999993\" fill=\"currentColor\" stroke-width=\"0.1\"/>\n",
       "<rect x=\"160.0\" y=\"-210.0\" width=\"10.0\" height=\"10.0\" opacity=\"0.3333333333333321\" fill=\"currentColor\" stroke-width=\"0.1\"/>\n",
       "<rect x=\"170.0\" y=\"-210.0\" width=\"10.0\" height=\"10.0\" opacity=\"0.13333333333333333\" fill=\"currentColor\" stroke-width=\"0.1\"/>\n",
       "<rect x=\"179.99999999999997\" y=\"-210.0\" width=\"10.0\" height=\"10.0\" opacity=\"0.5333333333333294\" fill=\"currentColor\" stroke-width=\"0.1\"/>\n",
       "<rect x=\"190.0\" y=\"-210.0\" width=\"10.0\" height=\"10.0\" opacity=\"0.3333333333333321\" fill=\"currentColor\" stroke-width=\"0.1\"/>\n",
       "<rect x=\"200.0\" y=\"-210.0\" width=\"10.0\" height=\"10.0\" opacity=\"0.2666666666666657\" fill=\"currentColor\" stroke-width=\"0.1\"/>\n",
       "<rect x=\"210.0\" y=\"-210.0\" width=\"10.0\" height=\"10.0\" opacity=\"0.3333333333333321\" fill=\"currentColor\" stroke-width=\"0.1\"/>\n",
       "<rect x=\"220.0\" y=\"-210.0\" width=\"10.0\" height=\"10.0\" opacity=\"0.5999999999999979\" fill=\"currentColor\" stroke-width=\"0.1\"/>\n",
       "<rect x=\"230.0\" y=\"-210.0\" width=\"10.0\" height=\"10.0\" opacity=\"0.4666666666666667\" fill=\"currentColor\" stroke-width=\"0.1\"/>\n",
       "<rect x=\"239.99999999999997\" y=\"-210.0\" width=\"10.0\" height=\"10.0\" opacity=\"0.6666666666666619\" fill=\"currentColor\" stroke-width=\"0.1\"/>\n",
       "<rect x=\"0.0\" y=\"-220.0\" width=\"10.0\" height=\"10.0\" opacity=\"0.0\" fill=\"currentColor\" stroke-width=\"0.1\"/>\n",
       "<rect x=\"10.0\" y=\"-220.0\" width=\"10.0\" height=\"10.0\" opacity=\"0.0\" fill=\"currentColor\" stroke-width=\"0.1\"/>\n",
       "<rect x=\"20.0\" y=\"-220.0\" width=\"10.0\" height=\"10.0\" opacity=\"0.06666666666666643\" fill=\"currentColor\" stroke-width=\"0.1\"/>\n",
       "<rect x=\"30.0\" y=\"-220.0\" width=\"10.0\" height=\"10.0\" opacity=\"0.0\" fill=\"currentColor\" stroke-width=\"0.1\"/>\n",
       "<rect x=\"40.0\" y=\"-220.0\" width=\"10.0\" height=\"10.0\" opacity=\"0.0\" fill=\"currentColor\" stroke-width=\"0.1\"/>\n",
       "<rect x=\"50.0\" y=\"-220.0\" width=\"10.0\" height=\"10.0\" opacity=\"0.06666666666666643\" fill=\"currentColor\" stroke-width=\"0.1\"/>\n",
       "<rect x=\"60.0\" y=\"-220.0\" width=\"10.0\" height=\"10.0\" opacity=\"0.0\" fill=\"currentColor\" stroke-width=\"0.1\"/>\n",
       "<rect x=\"70.0\" y=\"-220.0\" width=\"10.0\" height=\"10.0\" opacity=\"0.06666666666666643\" fill=\"currentColor\" stroke-width=\"0.1\"/>\n",
       "<rect x=\"80.0\" y=\"-220.0\" width=\"10.0\" height=\"10.0\" opacity=\"0.0\" fill=\"currentColor\" stroke-width=\"0.1\"/>\n",
       "<rect x=\"90.0\" y=\"-220.0\" width=\"10.0\" height=\"10.0\" opacity=\"0.0\" fill=\"currentColor\" stroke-width=\"0.1\"/>\n",
       "<rect x=\"100.0\" y=\"-220.0\" width=\"10.0\" height=\"10.0\" opacity=\"0.06666666666666643\" fill=\"currentColor\" stroke-width=\"0.1\"/>\n",
       "<rect x=\"110.0\" y=\"-220.0\" width=\"10.0\" height=\"10.0\" opacity=\"0.13333333333333286\" fill=\"currentColor\" stroke-width=\"0.1\"/>\n",
       "<rect x=\"120.0\" y=\"-220.0\" width=\"10.0\" height=\"10.0\" opacity=\"0.0\" fill=\"currentColor\" stroke-width=\"0.1\"/>\n",
       "<rect x=\"130.0\" y=\"-220.0\" width=\"10.0\" height=\"10.0\" opacity=\"0.06666666666666643\" fill=\"currentColor\" stroke-width=\"0.1\"/>\n",
       "<rect x=\"140.0\" y=\"-220.0\" width=\"10.0\" height=\"10.0\" opacity=\"0.3333333333333321\" fill=\"currentColor\" stroke-width=\"0.1\"/>\n",
       "<rect x=\"150.0\" y=\"-220.0\" width=\"10.0\" height=\"10.0\" opacity=\"0.2666666666666657\" fill=\"currentColor\" stroke-width=\"0.1\"/>\n",
       "<rect x=\"160.0\" y=\"-220.0\" width=\"10.0\" height=\"10.0\" opacity=\"0.2666666666666657\" fill=\"currentColor\" stroke-width=\"0.1\"/>\n",
       "<rect x=\"170.0\" y=\"-220.0\" width=\"10.0\" height=\"10.0\" opacity=\"0.5333333333333333\" fill=\"currentColor\" stroke-width=\"0.1\"/>\n",
       "<rect x=\"179.99999999999997\" y=\"-220.0\" width=\"10.0\" height=\"10.0\" opacity=\"0.33333333333333093\" fill=\"currentColor\" stroke-width=\"0.1\"/>\n",
       "<rect x=\"190.0\" y=\"-220.0\" width=\"10.0\" height=\"10.0\" opacity=\"0.466666666666665\" fill=\"currentColor\" stroke-width=\"0.1\"/>\n",
       "<rect x=\"200.0\" y=\"-220.0\" width=\"10.0\" height=\"10.0\" opacity=\"0.3333333333333321\" fill=\"currentColor\" stroke-width=\"0.1\"/>\n",
       "<rect x=\"210.0\" y=\"-220.0\" width=\"10.0\" height=\"10.0\" opacity=\"0.5999999999999979\" fill=\"currentColor\" stroke-width=\"0.1\"/>\n",
       "<rect x=\"220.0\" y=\"-220.0\" width=\"10.0\" height=\"10.0\" opacity=\"0.3333333333333321\" fill=\"currentColor\" stroke-width=\"0.1\"/>\n",
       "<rect x=\"230.0\" y=\"-220.0\" width=\"10.0\" height=\"10.0\" opacity=\"0.26666666666666666\" fill=\"currentColor\" stroke-width=\"0.1\"/>\n",
       "<rect x=\"239.99999999999997\" y=\"-220.0\" width=\"10.0\" height=\"10.0\" opacity=\"0.4666666666666633\" fill=\"currentColor\" stroke-width=\"0.1\"/>\n",
       "<rect x=\"0.0\" y=\"-230.0\" width=\"10.0\" height=\"10.0\" opacity=\"0.0\" fill=\"currentColor\" stroke-width=\"0.1\"/>\n",
       "<rect x=\"10.0\" y=\"-230.0\" width=\"10.0\" height=\"10.0\" opacity=\"0.0\" fill=\"currentColor\" stroke-width=\"0.1\"/>\n",
       "<rect x=\"20.0\" y=\"-230.0\" width=\"10.0\" height=\"10.0\" opacity=\"0.0\" fill=\"currentColor\" stroke-width=\"0.1\"/>\n",
       "<rect x=\"30.0\" y=\"-230.0\" width=\"10.0\" height=\"10.0\" opacity=\"0.0\" fill=\"currentColor\" stroke-width=\"0.1\"/>\n",
       "<rect x=\"40.0\" y=\"-230.0\" width=\"10.0\" height=\"10.0\" opacity=\"0.13333333333333286\" fill=\"currentColor\" stroke-width=\"0.1\"/>\n",
       "<rect x=\"50.0\" y=\"-230.0\" width=\"10.0\" height=\"10.0\" opacity=\"0.13333333333333286\" fill=\"currentColor\" stroke-width=\"0.1\"/>\n",
       "<rect x=\"60.0\" y=\"-230.0\" width=\"10.0\" height=\"10.0\" opacity=\"0.0\" fill=\"currentColor\" stroke-width=\"0.1\"/>\n",
       "<rect x=\"70.0\" y=\"-230.0\" width=\"10.0\" height=\"10.0\" opacity=\"0.06666666666666643\" fill=\"currentColor\" stroke-width=\"0.1\"/>\n",
       "<rect x=\"80.0\" y=\"-230.0\" width=\"10.0\" height=\"10.0\" opacity=\"0.06666666666666643\" fill=\"currentColor\" stroke-width=\"0.1\"/>\n",
       "<rect x=\"90.0\" y=\"-230.0\" width=\"10.0\" height=\"10.0\" opacity=\"0.06666666666666643\" fill=\"currentColor\" stroke-width=\"0.1\"/>\n",
       "<rect x=\"100.0\" y=\"-230.0\" width=\"10.0\" height=\"10.0\" opacity=\"0.06666666666666643\" fill=\"currentColor\" stroke-width=\"0.1\"/>\n",
       "<rect x=\"110.0\" y=\"-230.0\" width=\"10.0\" height=\"10.0\" opacity=\"0.13333333333333286\" fill=\"currentColor\" stroke-width=\"0.1\"/>\n",
       "<rect x=\"120.0\" y=\"-230.0\" width=\"10.0\" height=\"10.0\" opacity=\"0.1999999999999993\" fill=\"currentColor\" stroke-width=\"0.1\"/>\n",
       "<rect x=\"130.0\" y=\"-230.0\" width=\"10.0\" height=\"10.0\" opacity=\"0.0\" fill=\"currentColor\" stroke-width=\"0.1\"/>\n",
       "<rect x=\"140.0\" y=\"-230.0\" width=\"10.0\" height=\"10.0\" opacity=\"0.06666666666666643\" fill=\"currentColor\" stroke-width=\"0.1\"/>\n",
       "<rect x=\"150.0\" y=\"-230.0\" width=\"10.0\" height=\"10.0\" opacity=\"0.1999999999999993\" fill=\"currentColor\" stroke-width=\"0.1\"/>\n",
       "<rect x=\"160.0\" y=\"-230.0\" width=\"10.0\" height=\"10.0\" opacity=\"0.2666666666666657\" fill=\"currentColor\" stroke-width=\"0.1\"/>\n",
       "<rect x=\"170.0\" y=\"-230.0\" width=\"10.0\" height=\"10.0\" opacity=\"0.13333333333333333\" fill=\"currentColor\" stroke-width=\"0.1\"/>\n",
       "<rect x=\"179.99999999999997\" y=\"-230.0\" width=\"10.0\" height=\"10.0\" opacity=\"0.5333333333333294\" fill=\"currentColor\" stroke-width=\"0.1\"/>\n",
       "<rect x=\"190.0\" y=\"-230.0\" width=\"10.0\" height=\"10.0\" opacity=\"0.7333333333333306\" fill=\"currentColor\" stroke-width=\"0.1\"/>\n",
       "<rect x=\"200.0\" y=\"-230.0\" width=\"10.0\" height=\"10.0\" opacity=\"0.3999999999999986\" fill=\"currentColor\" stroke-width=\"0.1\"/>\n",
       "<rect x=\"210.0\" y=\"-230.0\" width=\"10.0\" height=\"10.0\" opacity=\"0.5333333333333314\" fill=\"currentColor\" stroke-width=\"0.1\"/>\n",
       "<rect x=\"220.0\" y=\"-230.0\" width=\"10.0\" height=\"10.0\" opacity=\"0.5999999999999979\" fill=\"currentColor\" stroke-width=\"0.1\"/>\n",
       "<rect x=\"230.0\" y=\"-230.0\" width=\"10.0\" height=\"10.0\" opacity=\"0.6666666666666666\" fill=\"currentColor\" stroke-width=\"0.1\"/>\n",
       "<rect x=\"239.99999999999997\" y=\"-230.0\" width=\"10.0\" height=\"10.0\" opacity=\"0.5999999999999956\" fill=\"currentColor\" stroke-width=\"0.1\"/>\n",
       "<rect x=\"0.0\" y=\"-239.99999999999997\" width=\"10.0\" height=\"10.0\" opacity=\"0.0\" fill=\"currentColor\" stroke-width=\"0.1\"/>\n",
       "<rect x=\"10.0\" y=\"-239.99999999999997\" width=\"10.0\" height=\"10.0\" opacity=\"0.0\" fill=\"currentColor\" stroke-width=\"0.1\"/>\n",
       "<rect x=\"20.0\" y=\"-239.99999999999997\" width=\"10.0\" height=\"10.0\" opacity=\"0.0\" fill=\"currentColor\" stroke-width=\"0.1\"/>\n",
       "<rect x=\"30.0\" y=\"-239.99999999999997\" width=\"10.0\" height=\"10.0\" opacity=\"0.0\" fill=\"currentColor\" stroke-width=\"0.1\"/>\n",
       "<rect x=\"40.0\" y=\"-239.99999999999997\" width=\"10.0\" height=\"10.0\" opacity=\"0.0\" fill=\"currentColor\" stroke-width=\"0.1\"/>\n",
       "<rect x=\"50.0\" y=\"-239.99999999999997\" width=\"10.0\" height=\"10.0\" opacity=\"0.0\" fill=\"currentColor\" stroke-width=\"0.1\"/>\n",
       "<rect x=\"60.0\" y=\"-239.99999999999997\" width=\"10.0\" height=\"10.0\" opacity=\"0.06666666666666667\" fill=\"currentColor\" stroke-width=\"0.1\"/>\n",
       "<rect x=\"70.0\" y=\"-239.99999999999997\" width=\"10.0\" height=\"10.0\" opacity=\"0.0\" fill=\"currentColor\" stroke-width=\"0.1\"/>\n",
       "<rect x=\"80.0\" y=\"-239.99999999999997\" width=\"10.0\" height=\"10.0\" opacity=\"0.06666666666666667\" fill=\"currentColor\" stroke-width=\"0.1\"/>\n",
       "<rect x=\"90.0\" y=\"-239.99999999999997\" width=\"10.0\" height=\"10.0\" opacity=\"0.0\" fill=\"currentColor\" stroke-width=\"0.1\"/>\n",
       "<rect x=\"100.0\" y=\"-239.99999999999997\" width=\"10.0\" height=\"10.0\" opacity=\"0.06666666666666667\" fill=\"currentColor\" stroke-width=\"0.1\"/>\n",
       "<rect x=\"110.0\" y=\"-239.99999999999997\" width=\"10.0\" height=\"10.0\" opacity=\"0.06666666666666667\" fill=\"currentColor\" stroke-width=\"0.1\"/>\n",
       "<rect x=\"120.0\" y=\"-239.99999999999997\" width=\"10.0\" height=\"10.0\" opacity=\"0.13333333333333333\" fill=\"currentColor\" stroke-width=\"0.1\"/>\n",
       "<rect x=\"130.0\" y=\"-239.99999999999997\" width=\"10.0\" height=\"10.0\" opacity=\"0.13333333333333333\" fill=\"currentColor\" stroke-width=\"0.1\"/>\n",
       "<rect x=\"140.0\" y=\"-239.99999999999997\" width=\"10.0\" height=\"10.0\" opacity=\"0.19999999999999998\" fill=\"currentColor\" stroke-width=\"0.1\"/>\n",
       "<rect x=\"150.0\" y=\"-239.99999999999997\" width=\"10.0\" height=\"10.0\" opacity=\"0.06666666666666667\" fill=\"currentColor\" stroke-width=\"0.1\"/>\n",
       "<rect x=\"160.0\" y=\"-239.99999999999997\" width=\"10.0\" height=\"10.0\" opacity=\"0.26666666666666666\" fill=\"currentColor\" stroke-width=\"0.1\"/>\n",
       "<rect x=\"170.0\" y=\"-239.99999999999997\" width=\"10.0\" height=\"10.0\" opacity=\"0.40000000000000135\" fill=\"currentColor\" stroke-width=\"0.1\"/>\n",
       "<rect x=\"179.99999999999997\" y=\"-239.99999999999997\" width=\"10.0\" height=\"10.0\" opacity=\"0.1999999999999993\" fill=\"currentColor\" stroke-width=\"0.1\"/>\n",
       "<rect x=\"190.0\" y=\"-239.99999999999997\" width=\"10.0\" height=\"10.0\" opacity=\"0.6\" fill=\"currentColor\" stroke-width=\"0.1\"/>\n",
       "<rect x=\"200.0\" y=\"-239.99999999999997\" width=\"10.0\" height=\"10.0\" opacity=\"0.26666666666666666\" fill=\"currentColor\" stroke-width=\"0.1\"/>\n",
       "<rect x=\"210.0\" y=\"-239.99999999999997\" width=\"10.0\" height=\"10.0\" opacity=\"0.4666666666666667\" fill=\"currentColor\" stroke-width=\"0.1\"/>\n",
       "<rect x=\"220.0\" y=\"-239.99999999999997\" width=\"10.0\" height=\"10.0\" opacity=\"1.0\" fill=\"currentColor\" stroke-width=\"0.1\"/>\n",
       "<rect x=\"230.0\" y=\"-239.99999999999997\" width=\"10.0\" height=\"10.0\" opacity=\"0.9333333333333365\" fill=\"currentColor\" stroke-width=\"0.1\"/>\n",
       "<rect x=\"239.99999999999997\" y=\"-239.99999999999997\" width=\"10.0\" height=\"10.0\" opacity=\"0.2666666666666657\" fill=\"currentColor\" stroke-width=\"0.1\"/>\n",
       "<rect x=\"0.0\" y=\"-250.0\" width=\"10.0\" height=\"10.0\" opacity=\"0.0\" fill=\"currentColor\" stroke-width=\"0.1\"/>\n",
       "<rect x=\"10.0\" y=\"-250.0\" width=\"10.0\" height=\"10.0\" opacity=\"0.0\" fill=\"currentColor\" stroke-width=\"0.1\"/>\n",
       "<rect x=\"20.0\" y=\"-250.0\" width=\"10.0\" height=\"10.0\" opacity=\"0.0\" fill=\"currentColor\" stroke-width=\"0.1\"/>\n",
       "<rect x=\"30.0\" y=\"-250.0\" width=\"10.0\" height=\"10.0\" opacity=\"0.0\" fill=\"currentColor\" stroke-width=\"0.1\"/>\n",
       "<rect x=\"40.0\" y=\"-250.0\" width=\"10.0\" height=\"10.0\" opacity=\"0.0\" fill=\"currentColor\" stroke-width=\"0.1\"/>\n",
       "<rect x=\"50.0\" y=\"-250.0\" width=\"10.0\" height=\"10.0\" opacity=\"0.0\" fill=\"currentColor\" stroke-width=\"0.1\"/>\n",
       "<rect x=\"60.0\" y=\"-250.0\" width=\"10.0\" height=\"10.0\" opacity=\"0.06666666666666618\" fill=\"currentColor\" stroke-width=\"0.1\"/>\n",
       "<rect x=\"70.0\" y=\"-250.0\" width=\"10.0\" height=\"10.0\" opacity=\"0.06666666666666618\" fill=\"currentColor\" stroke-width=\"0.1\"/>\n",
       "<rect x=\"80.0\" y=\"-250.0\" width=\"10.0\" height=\"10.0\" opacity=\"0.06666666666666618\" fill=\"currentColor\" stroke-width=\"0.1\"/>\n",
       "<rect x=\"90.0\" y=\"-250.0\" width=\"10.0\" height=\"10.0\" opacity=\"0.06666666666666618\" fill=\"currentColor\" stroke-width=\"0.1\"/>\n",
       "<rect x=\"100.0\" y=\"-250.0\" width=\"10.0\" height=\"10.0\" opacity=\"0.0\" fill=\"currentColor\" stroke-width=\"0.1\"/>\n",
       "<rect x=\"110.0\" y=\"-250.0\" width=\"10.0\" height=\"10.0\" opacity=\"0.13333333333333236\" fill=\"currentColor\" stroke-width=\"0.1\"/>\n",
       "<rect x=\"120.0\" y=\"-250.0\" width=\"10.0\" height=\"10.0\" opacity=\"0.0\" fill=\"currentColor\" stroke-width=\"0.1\"/>\n",
       "<rect x=\"130.0\" y=\"-250.0\" width=\"10.0\" height=\"10.0\" opacity=\"0.19999999999999857\" fill=\"currentColor\" stroke-width=\"0.1\"/>\n",
       "<rect x=\"140.0\" y=\"-250.0\" width=\"10.0\" height=\"10.0\" opacity=\"0.06666666666666618\" fill=\"currentColor\" stroke-width=\"0.1\"/>\n",
       "<rect x=\"150.0\" y=\"-250.0\" width=\"10.0\" height=\"10.0\" opacity=\"0.2666666666666647\" fill=\"currentColor\" stroke-width=\"0.1\"/>\n",
       "<rect x=\"160.0\" y=\"-250.0\" width=\"10.0\" height=\"10.0\" opacity=\"0.19999999999999857\" fill=\"currentColor\" stroke-width=\"0.1\"/>\n",
       "<rect x=\"170.0\" y=\"-250.0\" width=\"10.0\" height=\"10.0\" opacity=\"0.1999999999999993\" fill=\"currentColor\" stroke-width=\"0.1\"/>\n",
       "<rect x=\"179.99999999999997\" y=\"-250.0\" width=\"10.0\" height=\"10.0\" opacity=\"0.19999999999999787\" fill=\"currentColor\" stroke-width=\"0.1\"/>\n",
       "<rect x=\"190.0\" y=\"-250.0\" width=\"10.0\" height=\"10.0\" opacity=\"0.19999999999999857\" fill=\"currentColor\" stroke-width=\"0.1\"/>\n",
       "<rect x=\"200.0\" y=\"-250.0\" width=\"10.0\" height=\"10.0\" opacity=\"0.33333333333333093\" fill=\"currentColor\" stroke-width=\"0.1\"/>\n",
       "<rect x=\"210.0\" y=\"-250.0\" width=\"10.0\" height=\"10.0\" opacity=\"0.5333333333333294\" fill=\"currentColor\" stroke-width=\"0.1\"/>\n",
       "<rect x=\"220.0\" y=\"-250.0\" width=\"10.0\" height=\"10.0\" opacity=\"0.5999999999999956\" fill=\"currentColor\" stroke-width=\"0.1\"/>\n",
       "<rect x=\"230.0\" y=\"-250.0\" width=\"10.0\" height=\"10.0\" opacity=\"0.6666666666666642\" fill=\"currentColor\" stroke-width=\"0.1\"/>\n",
       "<rect x=\"239.99999999999997\" y=\"-250.0\" width=\"10.0\" height=\"10.0\" opacity=\"0.6666666666666595\" fill=\"currentColor\" stroke-width=\"0.1\"/>\n",
       "</svg>\n",
       "</div>\n",
       "<div style=\"flex=grow:1;\">\n",
       "Regular(25, 5, 30, label='track pT')<br/>\n",
       "Regular(25, 5, 30, label='calorimeter energy')<br/>\n",
       "<hr style=\"margin-top:.2em; margin-bottom:.2em;\"/>\n",
       "Double() Σ=1326.0 <em>(134626.0 with flow)</em>\n",
       "\n",
       "</div>\n",
       "</div>\n",
       "</html>"
      ],
      "text/plain": [
       "Hist(\n",
       "  Regular(25, 5, 30, label='track pT'),\n",
       "  Regular(25, 5, 30, label='calorimeter energy'),\n",
       "  storage=Double()) # Sum: 1326.0 (134626.0 with flow)"
      ]
     },
     "execution_count": 113,
     "metadata": {},
     "output_type": "execute_result"
    }
   ],
   "source": [
    "energy_vs_pt.fill(ak.flatten(pMom_isemc.pt), ak.flatten(track_emc_energy))"
   ]
  },
  {
   "cell_type": "code",
   "execution_count": 114,
   "id": "04e4dbe1-90a7-492b-b9d9-2508a3e21940",
   "metadata": {},
   "outputs": [
    {
     "data": {
      "image/png": "[encoded data removed]",
      "text/plain": [
       "<Figure size 432x288 with 3 Axes>"
      ]
     },
     "metadata": {
      "needs_background": "light"
     },
     "output_type": "display_data"
    }
   ],
   "source": [
    "energy_vs_pt.plot2d_full();"
   ]
  },
  {
   "cell_type": "markdown",
   "id": "5da8f1ba-47e7-4c6f-a9cc-f4c4a6cb0d38",
   "metadata": {},
   "source": [
    "**Exercise 7:** Fill this histogram. Why do you see warning messages?"
   ]
  },
  {
   "cell_type": "code",
   "execution_count": 132,
   "id": "cc6f1322-8ca1-4c78-b8eb-86aee6157025",
   "metadata": {},
   "outputs": [],
   "source": [
    "ratio_vs_pt = hist.Hist(\n",
    "    hist.axis.Regular(25, 5, 30, label=\"track pT\"),\n",
    "    hist.axis.Regular(20, 0, 2, label=\"track pT / calorimeter energy\"),\n",
    ")"
   ]
  },
  {
   "cell_type": "code",
   "execution_count": null,
   "id": "3c6229a7-e263-401e-8b29-9290f4ebc09d",
   "metadata": {},
   "outputs": [],
   "source": [
    "pt_over_energy_ratio = ???"
   ]
  },
  {
   "cell_type": "code",
   "execution_count": 136,
   "id": "4629d9e2-9ffd-4f35-94fa-e99da462e9d5",
   "metadata": {},
   "outputs": [
    {
     "data": {
      "text/html": [
       "<html>\n",
       "<div style=\"display:flex; align-items:center;\">\n",
       "<div style=\"width:290px;\">\n",
       "<svg xmlns=\"http://www.w3.org/2000/svg\" viewBox=\"-20 -270 290 290\">\n",
       "<text text-anchor=\"middle\" x=\"0\" y=\"13\" style=\"fill:currentColor;\">\n",
       "5\n",
       "</text>\n",
       "<text text-anchor=\"middle\" x=\"250\" y=\"13\" style=\"fill:currentColor;\">\n",
       "30\n",
       "</text>\n",
       "<text text-anchor=\"middle\" x=\"-10\" y=\"0\" style=\"fill:currentColor;\">\n",
       "0\n",
       "</text>\n",
       "<text text-anchor=\"middle\" x=\"-10\" y=\"-250\" style=\"fill:currentColor;\">\n",
       "2\n",
       "</text>\n",
       "<text text-anchor=\"middle\" x=\"125.0\" y=\"13\" style=\"fill:currentColor;\">\n",
       "track pT\n",
       "</text>\n",
       "<text text-anchor=\"middle\" x=\"-10\" y=\"-125.0\" transform=\"rotate(-90,-10,-125.0)\" style=\"fill:currentColor;\">\n",
       "track pT / calorimeter energy\n",
       "</text>\n",
       "<rect x=\"0.0\" y=\"-12.5\" width=\"10.0\" height=\"12.5\" opacity=\"0.0\" fill=\"currentColor\" stroke-width=\"0.1\"/>\n",
       "<rect x=\"10.0\" y=\"-12.5\" width=\"10.0\" height=\"12.5\" opacity=\"0.0\" fill=\"currentColor\" stroke-width=\"0.1\"/>\n",
       "<rect x=\"20.0\" y=\"-12.5\" width=\"10.0\" height=\"12.5\" opacity=\"0.0\" fill=\"currentColor\" stroke-width=\"0.1\"/>\n",
       "<rect x=\"30.0\" y=\"-12.5\" width=\"10.0\" height=\"12.5\" opacity=\"0.0\" fill=\"currentColor\" stroke-width=\"0.1\"/>\n",
       "<rect x=\"40.0\" y=\"-12.5\" width=\"10.0\" height=\"12.5\" opacity=\"0.0\" fill=\"currentColor\" stroke-width=\"0.1\"/>\n",
       "<rect x=\"50.0\" y=\"-12.5\" width=\"10.0\" height=\"12.5\" opacity=\"0.0\" fill=\"currentColor\" stroke-width=\"0.1\"/>\n",
       "<rect x=\"60.0\" y=\"-12.5\" width=\"10.0\" height=\"12.5\" opacity=\"0.0\" fill=\"currentColor\" stroke-width=\"0.1\"/>\n",
       "<rect x=\"70.0\" y=\"-12.5\" width=\"10.0\" height=\"12.5\" opacity=\"0.0\" fill=\"currentColor\" stroke-width=\"0.1\"/>\n",
       "<rect x=\"80.0\" y=\"-12.5\" width=\"10.0\" height=\"12.5\" opacity=\"0.0\" fill=\"currentColor\" stroke-width=\"0.1\"/>\n",
       "<rect x=\"90.0\" y=\"-12.5\" width=\"10.0\" height=\"12.5\" opacity=\"0.0\" fill=\"currentColor\" stroke-width=\"0.1\"/>\n",
       "<rect x=\"100.0\" y=\"-12.5\" width=\"10.0\" height=\"12.5\" opacity=\"0.0\" fill=\"currentColor\" stroke-width=\"0.1\"/>\n",
       "<rect x=\"110.0\" y=\"-12.5\" width=\"10.0\" height=\"12.5\" opacity=\"0.0\" fill=\"currentColor\" stroke-width=\"0.1\"/>\n",
       "<rect x=\"120.0\" y=\"-12.5\" width=\"10.0\" height=\"12.5\" opacity=\"0.0\" fill=\"currentColor\" stroke-width=\"0.1\"/>\n",
       "<rect x=\"130.0\" y=\"-12.5\" width=\"10.0\" height=\"12.5\" opacity=\"0.0\" fill=\"currentColor\" stroke-width=\"0.1\"/>\n",
       "<rect x=\"140.0\" y=\"-12.5\" width=\"10.0\" height=\"12.5\" opacity=\"0.0\" fill=\"currentColor\" stroke-width=\"0.1\"/>\n",
       "<rect x=\"150.0\" y=\"-12.5\" width=\"10.0\" height=\"12.5\" opacity=\"0.0\" fill=\"currentColor\" stroke-width=\"0.1\"/>\n",
       "<rect x=\"160.0\" y=\"-12.5\" width=\"10.0\" height=\"12.5\" opacity=\"0.0\" fill=\"currentColor\" stroke-width=\"0.1\"/>\n",
       "<rect x=\"170.0\" y=\"-12.5\" width=\"10.0\" height=\"12.5\" opacity=\"0.0\" fill=\"currentColor\" stroke-width=\"0.1\"/>\n",
       "<rect x=\"179.99999999999997\" y=\"-12.5\" width=\"10.0\" height=\"12.5\" opacity=\"0.0\" fill=\"currentColor\" stroke-width=\"0.1\"/>\n",
       "<rect x=\"190.0\" y=\"-12.5\" width=\"10.0\" height=\"12.5\" opacity=\"0.0\" fill=\"currentColor\" stroke-width=\"0.1\"/>\n",
       "<rect x=\"200.0\" y=\"-12.5\" width=\"10.0\" height=\"12.5\" opacity=\"0.0\" fill=\"currentColor\" stroke-width=\"0.1\"/>\n",
       "<rect x=\"210.0\" y=\"-12.5\" width=\"10.0\" height=\"12.5\" opacity=\"0.0\" fill=\"currentColor\" stroke-width=\"0.1\"/>\n",
       "<rect x=\"220.0\" y=\"-12.5\" width=\"10.0\" height=\"12.5\" opacity=\"0.0\" fill=\"currentColor\" stroke-width=\"0.1\"/>\n",
       "<rect x=\"230.0\" y=\"-12.5\" width=\"10.0\" height=\"12.5\" opacity=\"0.0\" fill=\"currentColor\" stroke-width=\"0.1\"/>\n",
       "<rect x=\"239.99999999999997\" y=\"-12.5\" width=\"10.0\" height=\"12.5\" opacity=\"0.0\" fill=\"currentColor\" stroke-width=\"0.1\"/>\n",
       "<rect x=\"0.0\" y=\"-25.0\" width=\"10.0\" height=\"12.5\" opacity=\"0.09523809523809519\" fill=\"currentColor\" stroke-width=\"0.1\"/>\n",
       "<rect x=\"10.0\" y=\"-25.0\" width=\"10.0\" height=\"12.5\" opacity=\"0.011904761904761899\" fill=\"currentColor\" stroke-width=\"0.1\"/>\n",
       "<rect x=\"20.0\" y=\"-25.0\" width=\"10.0\" height=\"12.5\" opacity=\"0.0\" fill=\"currentColor\" stroke-width=\"0.1\"/>\n",
       "<rect x=\"30.0\" y=\"-25.0\" width=\"10.0\" height=\"12.5\" opacity=\"0.0\" fill=\"currentColor\" stroke-width=\"0.1\"/>\n",
       "<rect x=\"40.0\" y=\"-25.0\" width=\"10.0\" height=\"12.5\" opacity=\"0.0\" fill=\"currentColor\" stroke-width=\"0.1\"/>\n",
       "<rect x=\"50.0\" y=\"-25.0\" width=\"10.0\" height=\"12.5\" opacity=\"0.0\" fill=\"currentColor\" stroke-width=\"0.1\"/>\n",
       "<rect x=\"60.0\" y=\"-25.0\" width=\"10.0\" height=\"12.5\" opacity=\"0.0\" fill=\"currentColor\" stroke-width=\"0.1\"/>\n",
       "<rect x=\"70.0\" y=\"-25.0\" width=\"10.0\" height=\"12.5\" opacity=\"0.0\" fill=\"currentColor\" stroke-width=\"0.1\"/>\n",
       "<rect x=\"80.0\" y=\"-25.0\" width=\"10.0\" height=\"12.5\" opacity=\"0.0\" fill=\"currentColor\" stroke-width=\"0.1\"/>\n",
       "<rect x=\"90.0\" y=\"-25.0\" width=\"10.0\" height=\"12.5\" opacity=\"0.0\" fill=\"currentColor\" stroke-width=\"0.1\"/>\n",
       "<rect x=\"100.0\" y=\"-25.0\" width=\"10.0\" height=\"12.5\" opacity=\"0.0\" fill=\"currentColor\" stroke-width=\"0.1\"/>\n",
       "<rect x=\"110.0\" y=\"-25.0\" width=\"10.0\" height=\"12.5\" opacity=\"0.0\" fill=\"currentColor\" stroke-width=\"0.1\"/>\n",
       "<rect x=\"120.0\" y=\"-25.0\" width=\"10.0\" height=\"12.5\" opacity=\"0.0\" fill=\"currentColor\" stroke-width=\"0.1\"/>\n",
       "<rect x=\"130.0\" y=\"-25.0\" width=\"10.0\" height=\"12.5\" opacity=\"0.0\" fill=\"currentColor\" stroke-width=\"0.1\"/>\n",
       "<rect x=\"140.0\" y=\"-25.0\" width=\"10.0\" height=\"12.5\" opacity=\"0.0\" fill=\"currentColor\" stroke-width=\"0.1\"/>\n",
       "<rect x=\"150.0\" y=\"-25.0\" width=\"10.0\" height=\"12.5\" opacity=\"0.0\" fill=\"currentColor\" stroke-width=\"0.1\"/>\n",
       "<rect x=\"160.0\" y=\"-25.0\" width=\"10.0\" height=\"12.5\" opacity=\"0.0\" fill=\"currentColor\" stroke-width=\"0.1\"/>\n",
       "<rect x=\"170.0\" y=\"-25.0\" width=\"10.0\" height=\"12.5\" opacity=\"0.0\" fill=\"currentColor\" stroke-width=\"0.1\"/>\n",
       "<rect x=\"179.99999999999997\" y=\"-25.0\" width=\"10.0\" height=\"12.5\" opacity=\"0.0\" fill=\"currentColor\" stroke-width=\"0.1\"/>\n",
       "<rect x=\"190.0\" y=\"-25.0\" width=\"10.0\" height=\"12.5\" opacity=\"0.0\" fill=\"currentColor\" stroke-width=\"0.1\"/>\n",
       "<rect x=\"200.0\" y=\"-25.0\" width=\"10.0\" height=\"12.5\" opacity=\"0.0\" fill=\"currentColor\" stroke-width=\"0.1\"/>\n",
       "<rect x=\"210.0\" y=\"-25.0\" width=\"10.0\" height=\"12.5\" opacity=\"0.0\" fill=\"currentColor\" stroke-width=\"0.1\"/>\n",
       "<rect x=\"220.0\" y=\"-25.0\" width=\"10.0\" height=\"12.5\" opacity=\"0.0\" fill=\"currentColor\" stroke-width=\"0.1\"/>\n",
       "<rect x=\"230.0\" y=\"-25.0\" width=\"10.0\" height=\"12.5\" opacity=\"0.0\" fill=\"currentColor\" stroke-width=\"0.1\"/>\n",
       "<rect x=\"239.99999999999997\" y=\"-25.0\" width=\"10.0\" height=\"12.5\" opacity=\"0.0\" fill=\"currentColor\" stroke-width=\"0.1\"/>\n",
       "<rect x=\"0.0\" y=\"-37.5\" width=\"10.0\" height=\"12.5\" opacity=\"0.0\" fill=\"currentColor\" stroke-width=\"0.1\"/>\n",
       "<rect x=\"10.0\" y=\"-37.5\" width=\"10.0\" height=\"12.5\" opacity=\"0.059523809523809514\" fill=\"currentColor\" stroke-width=\"0.1\"/>\n",
       "<rect x=\"20.0\" y=\"-37.5\" width=\"10.0\" height=\"12.5\" opacity=\"0.11904761904761903\" fill=\"currentColor\" stroke-width=\"0.1\"/>\n",
       "<rect x=\"30.0\" y=\"-37.5\" width=\"10.0\" height=\"12.5\" opacity=\"0.10714285714285714\" fill=\"currentColor\" stroke-width=\"0.1\"/>\n",
       "<rect x=\"40.0\" y=\"-37.5\" width=\"10.0\" height=\"12.5\" opacity=\"0.07142857142857142\" fill=\"currentColor\" stroke-width=\"0.1\"/>\n",
       "<rect x=\"50.0\" y=\"-37.5\" width=\"10.0\" height=\"12.5\" opacity=\"0.0\" fill=\"currentColor\" stroke-width=\"0.1\"/>\n",
       "<rect x=\"60.0\" y=\"-37.5\" width=\"10.0\" height=\"12.5\" opacity=\"0.0\" fill=\"currentColor\" stroke-width=\"0.1\"/>\n",
       "<rect x=\"70.0\" y=\"-37.5\" width=\"10.0\" height=\"12.5\" opacity=\"0.0\" fill=\"currentColor\" stroke-width=\"0.1\"/>\n",
       "<rect x=\"80.0\" y=\"-37.5\" width=\"10.0\" height=\"12.5\" opacity=\"0.0\" fill=\"currentColor\" stroke-width=\"0.1\"/>\n",
       "<rect x=\"90.0\" y=\"-37.5\" width=\"10.0\" height=\"12.5\" opacity=\"0.0\" fill=\"currentColor\" stroke-width=\"0.1\"/>\n",
       "<rect x=\"100.0\" y=\"-37.5\" width=\"10.0\" height=\"12.5\" opacity=\"0.0\" fill=\"currentColor\" stroke-width=\"0.1\"/>\n",
       "<rect x=\"110.0\" y=\"-37.5\" width=\"10.0\" height=\"12.5\" opacity=\"0.0\" fill=\"currentColor\" stroke-width=\"0.1\"/>\n",
       "<rect x=\"120.0\" y=\"-37.5\" width=\"10.0\" height=\"12.5\" opacity=\"0.0\" fill=\"currentColor\" stroke-width=\"0.1\"/>\n",
       "<rect x=\"130.0\" y=\"-37.5\" width=\"10.0\" height=\"12.5\" opacity=\"0.0\" fill=\"currentColor\" stroke-width=\"0.1\"/>\n",
       "<rect x=\"140.0\" y=\"-37.5\" width=\"10.0\" height=\"12.5\" opacity=\"0.0\" fill=\"currentColor\" stroke-width=\"0.1\"/>\n",
       "<rect x=\"150.0\" y=\"-37.5\" width=\"10.0\" height=\"12.5\" opacity=\"0.0\" fill=\"currentColor\" stroke-width=\"0.1\"/>\n",
       "<rect x=\"160.0\" y=\"-37.5\" width=\"10.0\" height=\"12.5\" opacity=\"0.0\" fill=\"currentColor\" stroke-width=\"0.1\"/>\n",
       "<rect x=\"170.0\" y=\"-37.5\" width=\"10.0\" height=\"12.5\" opacity=\"0.0\" fill=\"currentColor\" stroke-width=\"0.1\"/>\n",
       "<rect x=\"179.99999999999997\" y=\"-37.5\" width=\"10.0\" height=\"12.5\" opacity=\"0.0\" fill=\"currentColor\" stroke-width=\"0.1\"/>\n",
       "<rect x=\"190.0\" y=\"-37.5\" width=\"10.0\" height=\"12.5\" opacity=\"0.0\" fill=\"currentColor\" stroke-width=\"0.1\"/>\n",
       "<rect x=\"200.0\" y=\"-37.5\" width=\"10.0\" height=\"12.5\" opacity=\"0.0\" fill=\"currentColor\" stroke-width=\"0.1\"/>\n",
       "<rect x=\"210.0\" y=\"-37.5\" width=\"10.0\" height=\"12.5\" opacity=\"0.0\" fill=\"currentColor\" stroke-width=\"0.1\"/>\n",
       "<rect x=\"220.0\" y=\"-37.5\" width=\"10.0\" height=\"12.5\" opacity=\"0.0\" fill=\"currentColor\" stroke-width=\"0.1\"/>\n",
       "<rect x=\"230.0\" y=\"-37.5\" width=\"10.0\" height=\"12.5\" opacity=\"0.0\" fill=\"currentColor\" stroke-width=\"0.1\"/>\n",
       "<rect x=\"239.99999999999997\" y=\"-37.5\" width=\"10.0\" height=\"12.5\" opacity=\"0.0\" fill=\"currentColor\" stroke-width=\"0.1\"/>\n",
       "<rect x=\"0.0\" y=\"-50.0\" width=\"10.0\" height=\"12.5\" opacity=\"0.0\" fill=\"currentColor\" stroke-width=\"0.1\"/>\n",
       "<rect x=\"10.0\" y=\"-50.0\" width=\"10.0\" height=\"12.5\" opacity=\"0.0\" fill=\"currentColor\" stroke-width=\"0.1\"/>\n",
       "<rect x=\"20.0\" y=\"-50.0\" width=\"10.0\" height=\"12.5\" opacity=\"0.011904761904761897\" fill=\"currentColor\" stroke-width=\"0.1\"/>\n",
       "<rect x=\"30.0\" y=\"-50.0\" width=\"10.0\" height=\"12.5\" opacity=\"0.0\" fill=\"currentColor\" stroke-width=\"0.1\"/>\n",
       "<rect x=\"40.0\" y=\"-50.0\" width=\"10.0\" height=\"12.5\" opacity=\"0.023809523809523794\" fill=\"currentColor\" stroke-width=\"0.1\"/>\n",
       "<rect x=\"50.0\" y=\"-50.0\" width=\"10.0\" height=\"12.5\" opacity=\"0.13095238095238088\" fill=\"currentColor\" stroke-width=\"0.1\"/>\n",
       "<rect x=\"60.0\" y=\"-50.0\" width=\"10.0\" height=\"12.5\" opacity=\"0.059523809523809486\" fill=\"currentColor\" stroke-width=\"0.1\"/>\n",
       "<rect x=\"70.0\" y=\"-50.0\" width=\"10.0\" height=\"12.5\" opacity=\"0.10714285714285707\" fill=\"currentColor\" stroke-width=\"0.1\"/>\n",
       "<rect x=\"80.0\" y=\"-50.0\" width=\"10.0\" height=\"12.5\" opacity=\"0.011904761904761897\" fill=\"currentColor\" stroke-width=\"0.1\"/>\n",
       "<rect x=\"90.0\" y=\"-50.0\" width=\"10.0\" height=\"12.5\" opacity=\"0.0\" fill=\"currentColor\" stroke-width=\"0.1\"/>\n",
       "<rect x=\"100.0\" y=\"-50.0\" width=\"10.0\" height=\"12.5\" opacity=\"0.0\" fill=\"currentColor\" stroke-width=\"0.1\"/>\n",
       "<rect x=\"110.0\" y=\"-50.0\" width=\"10.0\" height=\"12.5\" opacity=\"0.0\" fill=\"currentColor\" stroke-width=\"0.1\"/>\n",
       "<rect x=\"120.0\" y=\"-50.0\" width=\"10.0\" height=\"12.5\" opacity=\"0.0\" fill=\"currentColor\" stroke-width=\"0.1\"/>\n",
       "<rect x=\"130.0\" y=\"-50.0\" width=\"10.0\" height=\"12.5\" opacity=\"0.0\" fill=\"currentColor\" stroke-width=\"0.1\"/>\n",
       "<rect x=\"140.0\" y=\"-50.0\" width=\"10.0\" height=\"12.5\" opacity=\"0.0\" fill=\"currentColor\" stroke-width=\"0.1\"/>\n",
       "<rect x=\"150.0\" y=\"-50.0\" width=\"10.0\" height=\"12.5\" opacity=\"0.0\" fill=\"currentColor\" stroke-width=\"0.1\"/>\n",
       "<rect x=\"160.0\" y=\"-50.0\" width=\"10.0\" height=\"12.5\" opacity=\"0.0\" fill=\"currentColor\" stroke-width=\"0.1\"/>\n",
       "<rect x=\"170.0\" y=\"-50.0\" width=\"10.0\" height=\"12.5\" opacity=\"0.0\" fill=\"currentColor\" stroke-width=\"0.1\"/>\n",
       "<rect x=\"179.99999999999997\" y=\"-50.0\" width=\"10.0\" height=\"12.5\" opacity=\"0.0\" fill=\"currentColor\" stroke-width=\"0.1\"/>\n",
       "<rect x=\"190.0\" y=\"-50.0\" width=\"10.0\" height=\"12.5\" opacity=\"0.0\" fill=\"currentColor\" stroke-width=\"0.1\"/>\n",
       "<rect x=\"200.0\" y=\"-50.0\" width=\"10.0\" height=\"12.5\" opacity=\"0.0\" fill=\"currentColor\" stroke-width=\"0.1\"/>\n",
       "<rect x=\"210.0\" y=\"-50.0\" width=\"10.0\" height=\"12.5\" opacity=\"0.0\" fill=\"currentColor\" stroke-width=\"0.1\"/>\n",
       "<rect x=\"220.0\" y=\"-50.0\" width=\"10.0\" height=\"12.5\" opacity=\"0.0\" fill=\"currentColor\" stroke-width=\"0.1\"/>\n",
       "<rect x=\"230.0\" y=\"-50.0\" width=\"10.0\" height=\"12.5\" opacity=\"0.0\" fill=\"currentColor\" stroke-width=\"0.1\"/>\n",
       "<rect x=\"239.99999999999997\" y=\"-50.0\" width=\"10.0\" height=\"12.5\" opacity=\"0.0\" fill=\"currentColor\" stroke-width=\"0.1\"/>\n",
       "<rect x=\"0.0\" y=\"-62.5\" width=\"10.0\" height=\"12.5\" opacity=\"0.0\" fill=\"currentColor\" stroke-width=\"0.1\"/>\n",
       "<rect x=\"10.0\" y=\"-62.5\" width=\"10.0\" height=\"12.5\" opacity=\"0.0\" fill=\"currentColor\" stroke-width=\"0.1\"/>\n",
       "<rect x=\"20.0\" y=\"-62.5\" width=\"10.0\" height=\"12.5\" opacity=\"0.0\" fill=\"currentColor\" stroke-width=\"0.1\"/>\n",
       "<rect x=\"30.0\" y=\"-62.5\" width=\"10.0\" height=\"12.5\" opacity=\"0.011904761904761904\" fill=\"currentColor\" stroke-width=\"0.1\"/>\n",
       "<rect x=\"40.0\" y=\"-62.5\" width=\"10.0\" height=\"12.5\" opacity=\"0.023809523809523808\" fill=\"currentColor\" stroke-width=\"0.1\"/>\n",
       "<rect x=\"50.0\" y=\"-62.5\" width=\"10.0\" height=\"12.5\" opacity=\"0.059523809523809514\" fill=\"currentColor\" stroke-width=\"0.1\"/>\n",
       "<rect x=\"60.0\" y=\"-62.5\" width=\"10.0\" height=\"12.5\" opacity=\"0.059523809523809514\" fill=\"currentColor\" stroke-width=\"0.1\"/>\n",
       "<rect x=\"70.0\" y=\"-62.5\" width=\"10.0\" height=\"12.5\" opacity=\"0.03571428571428571\" fill=\"currentColor\" stroke-width=\"0.1\"/>\n",
       "<rect x=\"80.0\" y=\"-62.5\" width=\"10.0\" height=\"12.5\" opacity=\"0.17857142857142855\" fill=\"currentColor\" stroke-width=\"0.1\"/>\n",
       "<rect x=\"90.0\" y=\"-62.5\" width=\"10.0\" height=\"12.5\" opacity=\"0.11904761904761903\" fill=\"currentColor\" stroke-width=\"0.1\"/>\n",
       "<rect x=\"100.0\" y=\"-62.5\" width=\"10.0\" height=\"12.5\" opacity=\"0.08333333333333333\" fill=\"currentColor\" stroke-width=\"0.1\"/>\n",
       "<rect x=\"110.0\" y=\"-62.5\" width=\"10.0\" height=\"12.5\" opacity=\"0.03571428571428571\" fill=\"currentColor\" stroke-width=\"0.1\"/>\n",
       "<rect x=\"120.0\" y=\"-62.5\" width=\"10.0\" height=\"12.5\" opacity=\"0.0\" fill=\"currentColor\" stroke-width=\"0.1\"/>\n",
       "<rect x=\"130.0\" y=\"-62.5\" width=\"10.0\" height=\"12.5\" opacity=\"0.0\" fill=\"currentColor\" stroke-width=\"0.1\"/>\n",
       "<rect x=\"140.0\" y=\"-62.5\" width=\"10.0\" height=\"12.5\" opacity=\"0.0\" fill=\"currentColor\" stroke-width=\"0.1\"/>\n",
       "<rect x=\"150.0\" y=\"-62.5\" width=\"10.0\" height=\"12.5\" opacity=\"0.0\" fill=\"currentColor\" stroke-width=\"0.1\"/>\n",
       "<rect x=\"160.0\" y=\"-62.5\" width=\"10.0\" height=\"12.5\" opacity=\"0.0\" fill=\"currentColor\" stroke-width=\"0.1\"/>\n",
       "<rect x=\"170.0\" y=\"-62.5\" width=\"10.0\" height=\"12.5\" opacity=\"0.0\" fill=\"currentColor\" stroke-width=\"0.1\"/>\n",
       "<rect x=\"179.99999999999997\" y=\"-62.5\" width=\"10.0\" height=\"12.5\" opacity=\"0.0\" fill=\"currentColor\" stroke-width=\"0.1\"/>\n",
       "<rect x=\"190.0\" y=\"-62.5\" width=\"10.0\" height=\"12.5\" opacity=\"0.0\" fill=\"currentColor\" stroke-width=\"0.1\"/>\n",
       "<rect x=\"200.0\" y=\"-62.5\" width=\"10.0\" height=\"12.5\" opacity=\"0.0\" fill=\"currentColor\" stroke-width=\"0.1\"/>\n",
       "<rect x=\"210.0\" y=\"-62.5\" width=\"10.0\" height=\"12.5\" opacity=\"0.0\" fill=\"currentColor\" stroke-width=\"0.1\"/>\n",
       "<rect x=\"220.0\" y=\"-62.5\" width=\"10.0\" height=\"12.5\" opacity=\"0.0\" fill=\"currentColor\" stroke-width=\"0.1\"/>\n",
       "<rect x=\"230.0\" y=\"-62.5\" width=\"10.0\" height=\"12.5\" opacity=\"0.0\" fill=\"currentColor\" stroke-width=\"0.1\"/>\n",
       "<rect x=\"239.99999999999997\" y=\"-62.5\" width=\"10.0\" height=\"12.5\" opacity=\"0.0\" fill=\"currentColor\" stroke-width=\"0.1\"/>\n",
       "<rect x=\"0.0\" y=\"-75.0\" width=\"10.0\" height=\"12.5\" opacity=\"0.0\" fill=\"currentColor\" stroke-width=\"0.1\"/>\n",
       "<rect x=\"10.0\" y=\"-75.0\" width=\"10.0\" height=\"12.5\" opacity=\"0.0\" fill=\"currentColor\" stroke-width=\"0.1\"/>\n",
       "<rect x=\"20.0\" y=\"-75.0\" width=\"10.0\" height=\"12.5\" opacity=\"0.011904761904761904\" fill=\"currentColor\" stroke-width=\"0.1\"/>\n",
       "<rect x=\"30.0\" y=\"-75.0\" width=\"10.0\" height=\"12.5\" opacity=\"0.011904761904761904\" fill=\"currentColor\" stroke-width=\"0.1\"/>\n",
       "<rect x=\"40.0\" y=\"-75.0\" width=\"10.0\" height=\"12.5\" opacity=\"0.011904761904761904\" fill=\"currentColor\" stroke-width=\"0.1\"/>\n",
       "<rect x=\"50.0\" y=\"-75.0\" width=\"10.0\" height=\"12.5\" opacity=\"0.0\" fill=\"currentColor\" stroke-width=\"0.1\"/>\n",
       "<rect x=\"60.0\" y=\"-75.0\" width=\"10.0\" height=\"12.5\" opacity=\"0.023809523809523808\" fill=\"currentColor\" stroke-width=\"0.1\"/>\n",
       "<rect x=\"70.0\" y=\"-75.0\" width=\"10.0\" height=\"12.5\" opacity=\"0.047619047619047616\" fill=\"currentColor\" stroke-width=\"0.1\"/>\n",
       "<rect x=\"80.0\" y=\"-75.0\" width=\"10.0\" height=\"12.5\" opacity=\"0.0\" fill=\"currentColor\" stroke-width=\"0.1\"/>\n",
       "<rect x=\"90.0\" y=\"-75.0\" width=\"10.0\" height=\"12.5\" opacity=\"0.047619047619047616\" fill=\"currentColor\" stroke-width=\"0.1\"/>\n",
       "<rect x=\"100.0\" y=\"-75.0\" width=\"10.0\" height=\"12.5\" opacity=\"0.03571428571428571\" fill=\"currentColor\" stroke-width=\"0.1\"/>\n",
       "<rect x=\"110.0\" y=\"-75.0\" width=\"10.0\" height=\"12.5\" opacity=\"0.14285714285714285\" fill=\"currentColor\" stroke-width=\"0.1\"/>\n",
       "<rect x=\"120.0\" y=\"-75.0\" width=\"10.0\" height=\"12.5\" opacity=\"0.22619047619047616\" fill=\"currentColor\" stroke-width=\"0.1\"/>\n",
       "<rect x=\"130.0\" y=\"-75.0\" width=\"10.0\" height=\"12.5\" opacity=\"0.13095238095238096\" fill=\"currentColor\" stroke-width=\"0.1\"/>\n",
       "<rect x=\"140.0\" y=\"-75.0\" width=\"10.0\" height=\"12.5\" opacity=\"0.059523809523809514\" fill=\"currentColor\" stroke-width=\"0.1\"/>\n",
       "<rect x=\"150.0\" y=\"-75.0\" width=\"10.0\" height=\"12.5\" opacity=\"0.0\" fill=\"currentColor\" stroke-width=\"0.1\"/>\n",
       "<rect x=\"160.0\" y=\"-75.0\" width=\"10.0\" height=\"12.5\" opacity=\"0.0\" fill=\"currentColor\" stroke-width=\"0.1\"/>\n",
       "<rect x=\"170.0\" y=\"-75.0\" width=\"10.0\" height=\"12.5\" opacity=\"0.0\" fill=\"currentColor\" stroke-width=\"0.1\"/>\n",
       "<rect x=\"179.99999999999997\" y=\"-75.0\" width=\"10.0\" height=\"12.5\" opacity=\"0.0\" fill=\"currentColor\" stroke-width=\"0.1\"/>\n",
       "<rect x=\"190.0\" y=\"-75.0\" width=\"10.0\" height=\"12.5\" opacity=\"0.0\" fill=\"currentColor\" stroke-width=\"0.1\"/>\n",
       "<rect x=\"200.0\" y=\"-75.0\" width=\"10.0\" height=\"12.5\" opacity=\"0.0\" fill=\"currentColor\" stroke-width=\"0.1\"/>\n",
       "<rect x=\"210.0\" y=\"-75.0\" width=\"10.0\" height=\"12.5\" opacity=\"0.0\" fill=\"currentColor\" stroke-width=\"0.1\"/>\n",
       "<rect x=\"220.0\" y=\"-75.0\" width=\"10.0\" height=\"12.5\" opacity=\"0.0\" fill=\"currentColor\" stroke-width=\"0.1\"/>\n",
       "<rect x=\"230.0\" y=\"-75.0\" width=\"10.0\" height=\"12.5\" opacity=\"0.0\" fill=\"currentColor\" stroke-width=\"0.1\"/>\n",
       "<rect x=\"239.99999999999997\" y=\"-75.0\" width=\"10.0\" height=\"12.5\" opacity=\"0.0\" fill=\"currentColor\" stroke-width=\"0.1\"/>\n",
       "<rect x=\"0.0\" y=\"-87.5\" width=\"10.0\" height=\"12.5\" opacity=\"0.0\" fill=\"currentColor\" stroke-width=\"0.1\"/>\n",
       "<rect x=\"10.0\" y=\"-87.5\" width=\"10.0\" height=\"12.5\" opacity=\"0.0\" fill=\"currentColor\" stroke-width=\"0.1\"/>\n",
       "<rect x=\"20.0\" y=\"-87.5\" width=\"10.0\" height=\"12.5\" opacity=\"0.011904761904761904\" fill=\"currentColor\" stroke-width=\"0.1\"/>\n",
       "<rect x=\"30.0\" y=\"-87.5\" width=\"10.0\" height=\"12.5\" opacity=\"0.011904761904761904\" fill=\"currentColor\" stroke-width=\"0.1\"/>\n",
       "<rect x=\"40.0\" y=\"-87.5\" width=\"10.0\" height=\"12.5\" opacity=\"0.03571428571428571\" fill=\"currentColor\" stroke-width=\"0.1\"/>\n",
       "<rect x=\"50.0\" y=\"-87.5\" width=\"10.0\" height=\"12.5\" opacity=\"0.011904761904761904\" fill=\"currentColor\" stroke-width=\"0.1\"/>\n",
       "<rect x=\"60.0\" y=\"-87.5\" width=\"10.0\" height=\"12.5\" opacity=\"0.03571428571428571\" fill=\"currentColor\" stroke-width=\"0.1\"/>\n",
       "<rect x=\"70.0\" y=\"-87.5\" width=\"10.0\" height=\"12.5\" opacity=\"0.0\" fill=\"currentColor\" stroke-width=\"0.1\"/>\n",
       "<rect x=\"80.0\" y=\"-87.5\" width=\"10.0\" height=\"12.5\" opacity=\"0.059523809523809514\" fill=\"currentColor\" stroke-width=\"0.1\"/>\n",
       "<rect x=\"90.0\" y=\"-87.5\" width=\"10.0\" height=\"12.5\" opacity=\"0.08333333333333333\" fill=\"currentColor\" stroke-width=\"0.1\"/>\n",
       "<rect x=\"100.0\" y=\"-87.5\" width=\"10.0\" height=\"12.5\" opacity=\"0.011904761904761904\" fill=\"currentColor\" stroke-width=\"0.1\"/>\n",
       "<rect x=\"110.0\" y=\"-87.5\" width=\"10.0\" height=\"12.5\" opacity=\"0.10714285714285714\" fill=\"currentColor\" stroke-width=\"0.1\"/>\n",
       "<rect x=\"120.0\" y=\"-87.5\" width=\"10.0\" height=\"12.5\" opacity=\"0.059523809523809514\" fill=\"currentColor\" stroke-width=\"0.1\"/>\n",
       "<rect x=\"130.0\" y=\"-87.5\" width=\"10.0\" height=\"12.5\" opacity=\"0.09523809523809523\" fill=\"currentColor\" stroke-width=\"0.1\"/>\n",
       "<rect x=\"140.0\" y=\"-87.5\" width=\"10.0\" height=\"12.5\" opacity=\"0.20238095238095236\" fill=\"currentColor\" stroke-width=\"0.1\"/>\n",
       "<rect x=\"150.0\" y=\"-87.5\" width=\"10.0\" height=\"12.5\" opacity=\"0.2738095238095238\" fill=\"currentColor\" stroke-width=\"0.1\"/>\n",
       "<rect x=\"160.0\" y=\"-87.5\" width=\"10.0\" height=\"12.5\" opacity=\"0.22619047619047616\" fill=\"currentColor\" stroke-width=\"0.1\"/>\n",
       "<rect x=\"170.0\" y=\"-87.5\" width=\"10.0\" height=\"12.5\" opacity=\"0.23809523809523894\" fill=\"currentColor\" stroke-width=\"0.1\"/>\n",
       "<rect x=\"179.99999999999997\" y=\"-87.5\" width=\"10.0\" height=\"12.5\" opacity=\"0.0\" fill=\"currentColor\" stroke-width=\"0.1\"/>\n",
       "<rect x=\"190.0\" y=\"-87.5\" width=\"10.0\" height=\"12.5\" opacity=\"0.0\" fill=\"currentColor\" stroke-width=\"0.1\"/>\n",
       "<rect x=\"200.0\" y=\"-87.5\" width=\"10.0\" height=\"12.5\" opacity=\"0.0\" fill=\"currentColor\" stroke-width=\"0.1\"/>\n",
       "<rect x=\"210.0\" y=\"-87.5\" width=\"10.0\" height=\"12.5\" opacity=\"0.0\" fill=\"currentColor\" stroke-width=\"0.1\"/>\n",
       "<rect x=\"220.0\" y=\"-87.5\" width=\"10.0\" height=\"12.5\" opacity=\"0.0\" fill=\"currentColor\" stroke-width=\"0.1\"/>\n",
       "<rect x=\"230.0\" y=\"-87.5\" width=\"10.0\" height=\"12.5\" opacity=\"0.0\" fill=\"currentColor\" stroke-width=\"0.1\"/>\n",
       "<rect x=\"239.99999999999997\" y=\"-87.5\" width=\"10.0\" height=\"12.5\" opacity=\"0.0\" fill=\"currentColor\" stroke-width=\"0.1\"/>\n",
       "<rect x=\"0.0\" y=\"-100.0\" width=\"10.0\" height=\"12.5\" opacity=\"0.0\" fill=\"currentColor\" stroke-width=\"0.1\"/>\n",
       "<rect x=\"10.0\" y=\"-100.0\" width=\"10.0\" height=\"12.5\" opacity=\"0.02380952380952378\" fill=\"currentColor\" stroke-width=\"0.1\"/>\n",
       "<rect x=\"20.0\" y=\"-100.0\" width=\"10.0\" height=\"12.5\" opacity=\"0.05952380952380945\" fill=\"currentColor\" stroke-width=\"0.1\"/>\n",
       "<rect x=\"30.0\" y=\"-100.0\" width=\"10.0\" height=\"12.5\" opacity=\"0.02380952380952378\" fill=\"currentColor\" stroke-width=\"0.1\"/>\n",
       "<rect x=\"40.0\" y=\"-100.0\" width=\"10.0\" height=\"12.5\" opacity=\"0.02380952380952378\" fill=\"currentColor\" stroke-width=\"0.1\"/>\n",
       "<rect x=\"50.0\" y=\"-100.0\" width=\"10.0\" height=\"12.5\" opacity=\"0.03571428571428567\" fill=\"currentColor\" stroke-width=\"0.1\"/>\n",
       "<rect x=\"60.0\" y=\"-100.0\" width=\"10.0\" height=\"12.5\" opacity=\"0.01190476190476189\" fill=\"currentColor\" stroke-width=\"0.1\"/>\n",
       "<rect x=\"70.0\" y=\"-100.0\" width=\"10.0\" height=\"12.5\" opacity=\"0.08333333333333323\" fill=\"currentColor\" stroke-width=\"0.1\"/>\n",
       "<rect x=\"80.0\" y=\"-100.0\" width=\"10.0\" height=\"12.5\" opacity=\"0.07142857142857134\" fill=\"currentColor\" stroke-width=\"0.1\"/>\n",
       "<rect x=\"90.0\" y=\"-100.0\" width=\"10.0\" height=\"12.5\" opacity=\"0.03571428571428567\" fill=\"currentColor\" stroke-width=\"0.1\"/>\n",
       "<rect x=\"100.0\" y=\"-100.0\" width=\"10.0\" height=\"12.5\" opacity=\"0.07142857142857134\" fill=\"currentColor\" stroke-width=\"0.1\"/>\n",
       "<rect x=\"110.0\" y=\"-100.0\" width=\"10.0\" height=\"12.5\" opacity=\"0.15476190476190457\" fill=\"currentColor\" stroke-width=\"0.1\"/>\n",
       "<rect x=\"120.0\" y=\"-100.0\" width=\"10.0\" height=\"12.5\" opacity=\"0.04761904761904756\" fill=\"currentColor\" stroke-width=\"0.1\"/>\n",
       "<rect x=\"130.0\" y=\"-100.0\" width=\"10.0\" height=\"12.5\" opacity=\"0.14285714285714268\" fill=\"currentColor\" stroke-width=\"0.1\"/>\n",
       "<rect x=\"140.0\" y=\"-100.0\" width=\"10.0\" height=\"12.5\" opacity=\"0.14285714285714268\" fill=\"currentColor\" stroke-width=\"0.1\"/>\n",
       "<rect x=\"150.0\" y=\"-100.0\" width=\"10.0\" height=\"12.5\" opacity=\"0.10714285714285701\" fill=\"currentColor\" stroke-width=\"0.1\"/>\n",
       "<rect x=\"160.0\" y=\"-100.0\" width=\"10.0\" height=\"12.5\" opacity=\"0.19047619047619024\" fill=\"currentColor\" stroke-width=\"0.1\"/>\n",
       "<rect x=\"170.0\" y=\"-100.0\" width=\"10.0\" height=\"12.5\" opacity=\"0.2142857142857148\" fill=\"currentColor\" stroke-width=\"0.1\"/>\n",
       "<rect x=\"179.99999999999997\" y=\"-100.0\" width=\"10.0\" height=\"12.5\" opacity=\"0.3928571428571409\" fill=\"currentColor\" stroke-width=\"0.1\"/>\n",
       "<rect x=\"190.0\" y=\"-100.0\" width=\"10.0\" height=\"12.5\" opacity=\"0.49999999999999944\" fill=\"currentColor\" stroke-width=\"0.1\"/>\n",
       "<rect x=\"200.0\" y=\"-100.0\" width=\"10.0\" height=\"12.5\" opacity=\"0.5119047619047613\" fill=\"currentColor\" stroke-width=\"0.1\"/>\n",
       "<rect x=\"210.0\" y=\"-100.0\" width=\"10.0\" height=\"12.5\" opacity=\"0.17857142857142835\" fill=\"currentColor\" stroke-width=\"0.1\"/>\n",
       "<rect x=\"220.0\" y=\"-100.0\" width=\"10.0\" height=\"12.5\" opacity=\"0.0\" fill=\"currentColor\" stroke-width=\"0.1\"/>\n",
       "<rect x=\"230.0\" y=\"-100.0\" width=\"10.0\" height=\"12.5\" opacity=\"0.0\" fill=\"currentColor\" stroke-width=\"0.1\"/>\n",
       "<rect x=\"239.99999999999997\" y=\"-100.0\" width=\"10.0\" height=\"12.5\" opacity=\"0.0\" fill=\"currentColor\" stroke-width=\"0.1\"/>\n",
       "<rect x=\"0.0\" y=\"-112.5\" width=\"10.0\" height=\"12.5\" opacity=\"0.023809523809523808\" fill=\"currentColor\" stroke-width=\"0.1\"/>\n",
       "<rect x=\"10.0\" y=\"-112.5\" width=\"10.0\" height=\"12.5\" opacity=\"0.011904761904761904\" fill=\"currentColor\" stroke-width=\"0.1\"/>\n",
       "<rect x=\"20.0\" y=\"-112.5\" width=\"10.0\" height=\"12.5\" opacity=\"0.03571428571428571\" fill=\"currentColor\" stroke-width=\"0.1\"/>\n",
       "<rect x=\"30.0\" y=\"-112.5\" width=\"10.0\" height=\"12.5\" opacity=\"0.023809523809523808\" fill=\"currentColor\" stroke-width=\"0.1\"/>\n",
       "<rect x=\"40.0\" y=\"-112.5\" width=\"10.0\" height=\"12.5\" opacity=\"0.03571428571428571\" fill=\"currentColor\" stroke-width=\"0.1\"/>\n",
       "<rect x=\"50.0\" y=\"-112.5\" width=\"10.0\" height=\"12.5\" opacity=\"0.0\" fill=\"currentColor\" stroke-width=\"0.1\"/>\n",
       "<rect x=\"60.0\" y=\"-112.5\" width=\"10.0\" height=\"12.5\" opacity=\"0.047619047619047616\" fill=\"currentColor\" stroke-width=\"0.1\"/>\n",
       "<rect x=\"70.0\" y=\"-112.5\" width=\"10.0\" height=\"12.5\" opacity=\"0.10714285714285714\" fill=\"currentColor\" stroke-width=\"0.1\"/>\n",
       "<rect x=\"80.0\" y=\"-112.5\" width=\"10.0\" height=\"12.5\" opacity=\"0.03571428571428571\" fill=\"currentColor\" stroke-width=\"0.1\"/>\n",
       "<rect x=\"90.0\" y=\"-112.5\" width=\"10.0\" height=\"12.5\" opacity=\"0.03571428571428571\" fill=\"currentColor\" stroke-width=\"0.1\"/>\n",
       "<rect x=\"100.0\" y=\"-112.5\" width=\"10.0\" height=\"12.5\" opacity=\"0.047619047619047616\" fill=\"currentColor\" stroke-width=\"0.1\"/>\n",
       "<rect x=\"110.0\" y=\"-112.5\" width=\"10.0\" height=\"12.5\" opacity=\"0.13095238095238096\" fill=\"currentColor\" stroke-width=\"0.1\"/>\n",
       "<rect x=\"120.0\" y=\"-112.5\" width=\"10.0\" height=\"12.5\" opacity=\"0.14285714285714285\" fill=\"currentColor\" stroke-width=\"0.1\"/>\n",
       "<rect x=\"130.0\" y=\"-112.5\" width=\"10.0\" height=\"12.5\" opacity=\"0.07142857142857142\" fill=\"currentColor\" stroke-width=\"0.1\"/>\n",
       "<rect x=\"140.0\" y=\"-112.5\" width=\"10.0\" height=\"12.5\" opacity=\"0.23809523809523805\" fill=\"currentColor\" stroke-width=\"0.1\"/>\n",
       "<rect x=\"150.0\" y=\"-112.5\" width=\"10.0\" height=\"12.5\" opacity=\"0.11904761904761903\" fill=\"currentColor\" stroke-width=\"0.1\"/>\n",
       "<rect x=\"160.0\" y=\"-112.5\" width=\"10.0\" height=\"12.5\" opacity=\"0.11904761904761903\" fill=\"currentColor\" stroke-width=\"0.1\"/>\n",
       "<rect x=\"170.0\" y=\"-112.5\" width=\"10.0\" height=\"12.5\" opacity=\"0.13095238095238143\" fill=\"currentColor\" stroke-width=\"0.1\"/>\n",
       "<rect x=\"179.99999999999997\" y=\"-112.5\" width=\"10.0\" height=\"12.5\" opacity=\"0.19047619047618977\" fill=\"currentColor\" stroke-width=\"0.1\"/>\n",
       "<rect x=\"190.0\" y=\"-112.5\" width=\"10.0\" height=\"12.5\" opacity=\"0.29761904761904756\" fill=\"currentColor\" stroke-width=\"0.1\"/>\n",
       "<rect x=\"200.0\" y=\"-112.5\" width=\"10.0\" height=\"12.5\" opacity=\"0.23809523809523805\" fill=\"currentColor\" stroke-width=\"0.1\"/>\n",
       "<rect x=\"210.0\" y=\"-112.5\" width=\"10.0\" height=\"12.5\" opacity=\"1.0\" fill=\"currentColor\" stroke-width=\"0.1\"/>\n",
       "<rect x=\"220.0\" y=\"-112.5\" width=\"10.0\" height=\"12.5\" opacity=\"0.9404761904761905\" fill=\"currentColor\" stroke-width=\"0.1\"/>\n",
       "<rect x=\"230.0\" y=\"-112.5\" width=\"10.0\" height=\"12.5\" opacity=\"0.9761904761904796\" fill=\"currentColor\" stroke-width=\"0.1\"/>\n",
       "<rect x=\"239.99999999999997\" y=\"-112.5\" width=\"10.0\" height=\"12.5\" opacity=\"0.5595238095238074\" fill=\"currentColor\" stroke-width=\"0.1\"/>\n",
       "<rect x=\"0.0\" y=\"-125.0\" width=\"10.0\" height=\"12.5\" opacity=\"0.011904761904761904\" fill=\"currentColor\" stroke-width=\"0.1\"/>\n",
       "<rect x=\"10.0\" y=\"-125.0\" width=\"10.0\" height=\"12.5\" opacity=\"0.047619047619047616\" fill=\"currentColor\" stroke-width=\"0.1\"/>\n",
       "<rect x=\"20.0\" y=\"-125.0\" width=\"10.0\" height=\"12.5\" opacity=\"0.023809523809523808\" fill=\"currentColor\" stroke-width=\"0.1\"/>\n",
       "<rect x=\"30.0\" y=\"-125.0\" width=\"10.0\" height=\"12.5\" opacity=\"0.023809523809523808\" fill=\"currentColor\" stroke-width=\"0.1\"/>\n",
       "<rect x=\"40.0\" y=\"-125.0\" width=\"10.0\" height=\"12.5\" opacity=\"0.023809523809523808\" fill=\"currentColor\" stroke-width=\"0.1\"/>\n",
       "<rect x=\"50.0\" y=\"-125.0\" width=\"10.0\" height=\"12.5\" opacity=\"0.023809523809523808\" fill=\"currentColor\" stroke-width=\"0.1\"/>\n",
       "<rect x=\"60.0\" y=\"-125.0\" width=\"10.0\" height=\"12.5\" opacity=\"0.047619047619047616\" fill=\"currentColor\" stroke-width=\"0.1\"/>\n",
       "<rect x=\"70.0\" y=\"-125.0\" width=\"10.0\" height=\"12.5\" opacity=\"0.03571428571428571\" fill=\"currentColor\" stroke-width=\"0.1\"/>\n",
       "<rect x=\"80.0\" y=\"-125.0\" width=\"10.0\" height=\"12.5\" opacity=\"0.03571428571428571\" fill=\"currentColor\" stroke-width=\"0.1\"/>\n",
       "<rect x=\"90.0\" y=\"-125.0\" width=\"10.0\" height=\"12.5\" opacity=\"0.07142857142857142\" fill=\"currentColor\" stroke-width=\"0.1\"/>\n",
       "<rect x=\"100.0\" y=\"-125.0\" width=\"10.0\" height=\"12.5\" opacity=\"0.047619047619047616\" fill=\"currentColor\" stroke-width=\"0.1\"/>\n",
       "<rect x=\"110.0\" y=\"-125.0\" width=\"10.0\" height=\"12.5\" opacity=\"0.09523809523809523\" fill=\"currentColor\" stroke-width=\"0.1\"/>\n",
       "<rect x=\"120.0\" y=\"-125.0\" width=\"10.0\" height=\"12.5\" opacity=\"0.13095238095238096\" fill=\"currentColor\" stroke-width=\"0.1\"/>\n",
       "<rect x=\"130.0\" y=\"-125.0\" width=\"10.0\" height=\"12.5\" opacity=\"0.14285714285714285\" fill=\"currentColor\" stroke-width=\"0.1\"/>\n",
       "<rect x=\"140.0\" y=\"-125.0\" width=\"10.0\" height=\"12.5\" opacity=\"0.11904761904761903\" fill=\"currentColor\" stroke-width=\"0.1\"/>\n",
       "<rect x=\"150.0\" y=\"-125.0\" width=\"10.0\" height=\"12.5\" opacity=\"0.16666666666666666\" fill=\"currentColor\" stroke-width=\"0.1\"/>\n",
       "<rect x=\"160.0\" y=\"-125.0\" width=\"10.0\" height=\"12.5\" opacity=\"0.14285714285714285\" fill=\"currentColor\" stroke-width=\"0.1\"/>\n",
       "<rect x=\"170.0\" y=\"-125.0\" width=\"10.0\" height=\"12.5\" opacity=\"0.13095238095238143\" fill=\"currentColor\" stroke-width=\"0.1\"/>\n",
       "<rect x=\"179.99999999999997\" y=\"-125.0\" width=\"10.0\" height=\"12.5\" opacity=\"0.24999999999999906\" fill=\"currentColor\" stroke-width=\"0.1\"/>\n",
       "<rect x=\"190.0\" y=\"-125.0\" width=\"10.0\" height=\"12.5\" opacity=\"0.21428571428571427\" fill=\"currentColor\" stroke-width=\"0.1\"/>\n",
       "<rect x=\"200.0\" y=\"-125.0\" width=\"10.0\" height=\"12.5\" opacity=\"0.16666666666666666\" fill=\"currentColor\" stroke-width=\"0.1\"/>\n",
       "<rect x=\"210.0\" y=\"-125.0\" width=\"10.0\" height=\"12.5\" opacity=\"0.2619047619047619\" fill=\"currentColor\" stroke-width=\"0.1\"/>\n",
       "<rect x=\"220.0\" y=\"-125.0\" width=\"10.0\" height=\"12.5\" opacity=\"0.3571428571428571\" fill=\"currentColor\" stroke-width=\"0.1\"/>\n",
       "<rect x=\"230.0\" y=\"-125.0\" width=\"10.0\" height=\"12.5\" opacity=\"0.3571428571428584\" fill=\"currentColor\" stroke-width=\"0.1\"/>\n",
       "<rect x=\"239.99999999999997\" y=\"-125.0\" width=\"10.0\" height=\"12.5\" opacity=\"0.7857142857142828\" fill=\"currentColor\" stroke-width=\"0.1\"/>\n",
       "<rect x=\"0.0\" y=\"-137.5\" width=\"10.0\" height=\"12.5\" opacity=\"0.02380952380952378\" fill=\"currentColor\" stroke-width=\"0.1\"/>\n",
       "<rect x=\"10.0\" y=\"-137.5\" width=\"10.0\" height=\"12.5\" opacity=\"0.02380952380952378\" fill=\"currentColor\" stroke-width=\"0.1\"/>\n",
       "<rect x=\"20.0\" y=\"-137.5\" width=\"10.0\" height=\"12.5\" opacity=\"0.01190476190476189\" fill=\"currentColor\" stroke-width=\"0.1\"/>\n",
       "<rect x=\"30.0\" y=\"-137.5\" width=\"10.0\" height=\"12.5\" opacity=\"0.02380952380952378\" fill=\"currentColor\" stroke-width=\"0.1\"/>\n",
       "<rect x=\"40.0\" y=\"-137.5\" width=\"10.0\" height=\"12.5\" opacity=\"0.0\" fill=\"currentColor\" stroke-width=\"0.1\"/>\n",
       "<rect x=\"50.0\" y=\"-137.5\" width=\"10.0\" height=\"12.5\" opacity=\"0.04761904761904756\" fill=\"currentColor\" stroke-width=\"0.1\"/>\n",
       "<rect x=\"60.0\" y=\"-137.5\" width=\"10.0\" height=\"12.5\" opacity=\"0.04761904761904756\" fill=\"currentColor\" stroke-width=\"0.1\"/>\n",
       "<rect x=\"70.0\" y=\"-137.5\" width=\"10.0\" height=\"12.5\" opacity=\"0.01190476190476189\" fill=\"currentColor\" stroke-width=\"0.1\"/>\n",
       "<rect x=\"80.0\" y=\"-137.5\" width=\"10.0\" height=\"12.5\" opacity=\"0.02380952380952378\" fill=\"currentColor\" stroke-width=\"0.1\"/>\n",
       "<rect x=\"90.0\" y=\"-137.5\" width=\"10.0\" height=\"12.5\" opacity=\"0.04761904761904756\" fill=\"currentColor\" stroke-width=\"0.1\"/>\n",
       "<rect x=\"100.0\" y=\"-137.5\" width=\"10.0\" height=\"12.5\" opacity=\"0.0\" fill=\"currentColor\" stroke-width=\"0.1\"/>\n",
       "<rect x=\"110.0\" y=\"-137.5\" width=\"10.0\" height=\"12.5\" opacity=\"0.09523809523809512\" fill=\"currentColor\" stroke-width=\"0.1\"/>\n",
       "<rect x=\"120.0\" y=\"-137.5\" width=\"10.0\" height=\"12.5\" opacity=\"0.10714285714285701\" fill=\"currentColor\" stroke-width=\"0.1\"/>\n",
       "<rect x=\"130.0\" y=\"-137.5\" width=\"10.0\" height=\"12.5\" opacity=\"0.1190476190476189\" fill=\"currentColor\" stroke-width=\"0.1\"/>\n",
       "<rect x=\"140.0\" y=\"-137.5\" width=\"10.0\" height=\"12.5\" opacity=\"0.16666666666666646\" fill=\"currentColor\" stroke-width=\"0.1\"/>\n",
       "<rect x=\"150.0\" y=\"-137.5\" width=\"10.0\" height=\"12.5\" opacity=\"0.07142857142857134\" fill=\"currentColor\" stroke-width=\"0.1\"/>\n",
       "<rect x=\"160.0\" y=\"-137.5\" width=\"10.0\" height=\"12.5\" opacity=\"0.09523809523809512\" fill=\"currentColor\" stroke-width=\"0.1\"/>\n",
       "<rect x=\"170.0\" y=\"-137.5\" width=\"10.0\" height=\"12.5\" opacity=\"0.15476190476190513\" fill=\"currentColor\" stroke-width=\"0.1\"/>\n",
       "<rect x=\"179.99999999999997\" y=\"-137.5\" width=\"10.0\" height=\"12.5\" opacity=\"0.15476190476190402\" fill=\"currentColor\" stroke-width=\"0.1\"/>\n",
       "<rect x=\"190.0\" y=\"-137.5\" width=\"10.0\" height=\"12.5\" opacity=\"0.1309523809523808\" fill=\"currentColor\" stroke-width=\"0.1\"/>\n",
       "<rect x=\"200.0\" y=\"-137.5\" width=\"10.0\" height=\"12.5\" opacity=\"0.20238095238095213\" fill=\"currentColor\" stroke-width=\"0.1\"/>\n",
       "<rect x=\"210.0\" y=\"-137.5\" width=\"10.0\" height=\"12.5\" opacity=\"0.21428571428571402\" fill=\"currentColor\" stroke-width=\"0.1\"/>\n",
       "<rect x=\"220.0\" y=\"-137.5\" width=\"10.0\" height=\"12.5\" opacity=\"0.2619047619047616\" fill=\"currentColor\" stroke-width=\"0.1\"/>\n",
       "<rect x=\"230.0\" y=\"-137.5\" width=\"10.0\" height=\"12.5\" opacity=\"0.2500000000000006\" fill=\"currentColor\" stroke-width=\"0.1\"/>\n",
       "<rect x=\"239.99999999999997\" y=\"-137.5\" width=\"10.0\" height=\"12.5\" opacity=\"0.2261904761904751\" fill=\"currentColor\" stroke-width=\"0.1\"/>\n",
       "<rect x=\"0.0\" y=\"-150.0\" width=\"10.0\" height=\"12.5\" opacity=\"0.023809523809523832\" fill=\"currentColor\" stroke-width=\"0.1\"/>\n",
       "<rect x=\"10.0\" y=\"-150.0\" width=\"10.0\" height=\"12.5\" opacity=\"0.011904761904761916\" fill=\"currentColor\" stroke-width=\"0.1\"/>\n",
       "<rect x=\"20.0\" y=\"-150.0\" width=\"10.0\" height=\"12.5\" opacity=\"0.05952380952380958\" fill=\"currentColor\" stroke-width=\"0.1\"/>\n",
       "<rect x=\"30.0\" y=\"-150.0\" width=\"10.0\" height=\"12.5\" opacity=\"0.011904761904761916\" fill=\"currentColor\" stroke-width=\"0.1\"/>\n",
       "<rect x=\"40.0\" y=\"-150.0\" width=\"10.0\" height=\"12.5\" opacity=\"0.0\" fill=\"currentColor\" stroke-width=\"0.1\"/>\n",
       "<rect x=\"50.0\" y=\"-150.0\" width=\"10.0\" height=\"12.5\" opacity=\"0.011904761904761916\" fill=\"currentColor\" stroke-width=\"0.1\"/>\n",
       "<rect x=\"60.0\" y=\"-150.0\" width=\"10.0\" height=\"12.5\" opacity=\"0.03571428571428575\" fill=\"currentColor\" stroke-width=\"0.1\"/>\n",
       "<rect x=\"70.0\" y=\"-150.0\" width=\"10.0\" height=\"12.5\" opacity=\"0.023809523809523832\" fill=\"currentColor\" stroke-width=\"0.1\"/>\n",
       "<rect x=\"80.0\" y=\"-150.0\" width=\"10.0\" height=\"12.5\" opacity=\"0.023809523809523832\" fill=\"currentColor\" stroke-width=\"0.1\"/>\n",
       "<rect x=\"90.0\" y=\"-150.0\" width=\"10.0\" height=\"12.5\" opacity=\"0.05952380952380958\" fill=\"currentColor\" stroke-width=\"0.1\"/>\n",
       "<rect x=\"100.0\" y=\"-150.0\" width=\"10.0\" height=\"12.5\" opacity=\"0.0714285714285715\" fill=\"currentColor\" stroke-width=\"0.1\"/>\n",
       "<rect x=\"110.0\" y=\"-150.0\" width=\"10.0\" height=\"12.5\" opacity=\"0.023809523809523832\" fill=\"currentColor\" stroke-width=\"0.1\"/>\n",
       "<rect x=\"120.0\" y=\"-150.0\" width=\"10.0\" height=\"12.5\" opacity=\"0.047619047619047665\" fill=\"currentColor\" stroke-width=\"0.1\"/>\n",
       "<rect x=\"130.0\" y=\"-150.0\" width=\"10.0\" height=\"12.5\" opacity=\"0.03571428571428575\" fill=\"currentColor\" stroke-width=\"0.1\"/>\n",
       "<rect x=\"140.0\" y=\"-150.0\" width=\"10.0\" height=\"12.5\" opacity=\"0.03571428571428575\" fill=\"currentColor\" stroke-width=\"0.1\"/>\n",
       "<rect x=\"150.0\" y=\"-150.0\" width=\"10.0\" height=\"12.5\" opacity=\"0.047619047619047665\" fill=\"currentColor\" stroke-width=\"0.1\"/>\n",
       "<rect x=\"160.0\" y=\"-150.0\" width=\"10.0\" height=\"12.5\" opacity=\"0.10714285714285725\" fill=\"currentColor\" stroke-width=\"0.1\"/>\n",
       "<rect x=\"170.0\" y=\"-150.0\" width=\"10.0\" height=\"12.5\" opacity=\"0.07142857142857176\" fill=\"currentColor\" stroke-width=\"0.1\"/>\n",
       "<rect x=\"179.99999999999997\" y=\"-150.0\" width=\"10.0\" height=\"12.5\" opacity=\"0.08333333333333312\" fill=\"currentColor\" stroke-width=\"0.1\"/>\n",
       "<rect x=\"190.0\" y=\"-150.0\" width=\"10.0\" height=\"12.5\" opacity=\"0.142857142857143\" fill=\"currentColor\" stroke-width=\"0.1\"/>\n",
       "<rect x=\"200.0\" y=\"-150.0\" width=\"10.0\" height=\"12.5\" opacity=\"0.08333333333333341\" fill=\"currentColor\" stroke-width=\"0.1\"/>\n",
       "<rect x=\"210.0\" y=\"-150.0\" width=\"10.0\" height=\"12.5\" opacity=\"0.09523809523809533\" fill=\"currentColor\" stroke-width=\"0.1\"/>\n",
       "<rect x=\"220.0\" y=\"-150.0\" width=\"10.0\" height=\"12.5\" opacity=\"0.08333333333333341\" fill=\"currentColor\" stroke-width=\"0.1\"/>\n",
       "<rect x=\"230.0\" y=\"-150.0\" width=\"10.0\" height=\"12.5\" opacity=\"0.16666666666666743\" fill=\"currentColor\" stroke-width=\"0.1\"/>\n",
       "<rect x=\"239.99999999999997\" y=\"-150.0\" width=\"10.0\" height=\"12.5\" opacity=\"0.2261904761904756\" fill=\"currentColor\" stroke-width=\"0.1\"/>\n",
       "<rect x=\"0.0\" y=\"-162.5\" width=\"10.0\" height=\"12.5\" opacity=\"0.02380952380952378\" fill=\"currentColor\" stroke-width=\"0.1\"/>\n",
       "<rect x=\"10.0\" y=\"-162.5\" width=\"10.0\" height=\"12.5\" opacity=\"0.02380952380952378\" fill=\"currentColor\" stroke-width=\"0.1\"/>\n",
       "<rect x=\"20.0\" y=\"-162.5\" width=\"10.0\" height=\"12.5\" opacity=\"0.02380952380952378\" fill=\"currentColor\" stroke-width=\"0.1\"/>\n",
       "<rect x=\"30.0\" y=\"-162.5\" width=\"10.0\" height=\"12.5\" opacity=\"0.01190476190476189\" fill=\"currentColor\" stroke-width=\"0.1\"/>\n",
       "<rect x=\"40.0\" y=\"-162.5\" width=\"10.0\" height=\"12.5\" opacity=\"0.02380952380952378\" fill=\"currentColor\" stroke-width=\"0.1\"/>\n",
       "<rect x=\"50.0\" y=\"-162.5\" width=\"10.0\" height=\"12.5\" opacity=\"0.0\" fill=\"currentColor\" stroke-width=\"0.1\"/>\n",
       "<rect x=\"60.0\" y=\"-162.5\" width=\"10.0\" height=\"12.5\" opacity=\"0.0\" fill=\"currentColor\" stroke-width=\"0.1\"/>\n",
       "<rect x=\"70.0\" y=\"-162.5\" width=\"10.0\" height=\"12.5\" opacity=\"0.0\" fill=\"currentColor\" stroke-width=\"0.1\"/>\n",
       "<rect x=\"80.0\" y=\"-162.5\" width=\"10.0\" height=\"12.5\" opacity=\"0.0\" fill=\"currentColor\" stroke-width=\"0.1\"/>\n",
       "<rect x=\"90.0\" y=\"-162.5\" width=\"10.0\" height=\"12.5\" opacity=\"0.01190476190476189\" fill=\"currentColor\" stroke-width=\"0.1\"/>\n",
       "<rect x=\"100.0\" y=\"-162.5\" width=\"10.0\" height=\"12.5\" opacity=\"0.01190476190476189\" fill=\"currentColor\" stroke-width=\"0.1\"/>\n",
       "<rect x=\"110.0\" y=\"-162.5\" width=\"10.0\" height=\"12.5\" opacity=\"0.02380952380952378\" fill=\"currentColor\" stroke-width=\"0.1\"/>\n",
       "<rect x=\"120.0\" y=\"-162.5\" width=\"10.0\" height=\"12.5\" opacity=\"0.03571428571428567\" fill=\"currentColor\" stroke-width=\"0.1\"/>\n",
       "<rect x=\"130.0\" y=\"-162.5\" width=\"10.0\" height=\"12.5\" opacity=\"0.03571428571428567\" fill=\"currentColor\" stroke-width=\"0.1\"/>\n",
       "<rect x=\"140.0\" y=\"-162.5\" width=\"10.0\" height=\"12.5\" opacity=\"0.01190476190476189\" fill=\"currentColor\" stroke-width=\"0.1\"/>\n",
       "<rect x=\"150.0\" y=\"-162.5\" width=\"10.0\" height=\"12.5\" opacity=\"0.01190476190476189\" fill=\"currentColor\" stroke-width=\"0.1\"/>\n",
       "<rect x=\"160.0\" y=\"-162.5\" width=\"10.0\" height=\"12.5\" opacity=\"0.04761904761904756\" fill=\"currentColor\" stroke-width=\"0.1\"/>\n",
       "<rect x=\"170.0\" y=\"-162.5\" width=\"10.0\" height=\"12.5\" opacity=\"0.05952380952380967\" fill=\"currentColor\" stroke-width=\"0.1\"/>\n",
       "<rect x=\"179.99999999999997\" y=\"-162.5\" width=\"10.0\" height=\"12.5\" opacity=\"0.011904761904761847\" fill=\"currentColor\" stroke-width=\"0.1\"/>\n",
       "<rect x=\"190.0\" y=\"-162.5\" width=\"10.0\" height=\"12.5\" opacity=\"0.10714285714285701\" fill=\"currentColor\" stroke-width=\"0.1\"/>\n",
       "<rect x=\"200.0\" y=\"-162.5\" width=\"10.0\" height=\"12.5\" opacity=\"0.08333333333333323\" fill=\"currentColor\" stroke-width=\"0.1\"/>\n",
       "<rect x=\"210.0\" y=\"-162.5\" width=\"10.0\" height=\"12.5\" opacity=\"0.08333333333333323\" fill=\"currentColor\" stroke-width=\"0.1\"/>\n",
       "<rect x=\"220.0\" y=\"-162.5\" width=\"10.0\" height=\"12.5\" opacity=\"0.07142857142857134\" fill=\"currentColor\" stroke-width=\"0.1\"/>\n",
       "<rect x=\"230.0\" y=\"-162.5\" width=\"10.0\" height=\"12.5\" opacity=\"0.09523809523809547\" fill=\"currentColor\" stroke-width=\"0.1\"/>\n",
       "<rect x=\"239.99999999999997\" y=\"-162.5\" width=\"10.0\" height=\"12.5\" opacity=\"0.14285714285714216\" fill=\"currentColor\" stroke-width=\"0.1\"/>\n",
       "<rect x=\"0.0\" y=\"-175.0\" width=\"10.0\" height=\"12.5\" opacity=\"0.023809523809523832\" fill=\"currentColor\" stroke-width=\"0.1\"/>\n",
       "<rect x=\"10.0\" y=\"-175.0\" width=\"10.0\" height=\"12.5\" opacity=\"0.0\" fill=\"currentColor\" stroke-width=\"0.1\"/>\n",
       "<rect x=\"20.0\" y=\"-175.0\" width=\"10.0\" height=\"12.5\" opacity=\"0.0\" fill=\"currentColor\" stroke-width=\"0.1\"/>\n",
       "<rect x=\"30.0\" y=\"-175.0\" width=\"10.0\" height=\"12.5\" opacity=\"0.0\" fill=\"currentColor\" stroke-width=\"0.1\"/>\n",
       "<rect x=\"40.0\" y=\"-175.0\" width=\"10.0\" height=\"12.5\" opacity=\"0.0\" fill=\"currentColor\" stroke-width=\"0.1\"/>\n",
       "<rect x=\"50.0\" y=\"-175.0\" width=\"10.0\" height=\"12.5\" opacity=\"0.0\" fill=\"currentColor\" stroke-width=\"0.1\"/>\n",
       "<rect x=\"60.0\" y=\"-175.0\" width=\"10.0\" height=\"12.5\" opacity=\"0.0\" fill=\"currentColor\" stroke-width=\"0.1\"/>\n",
       "<rect x=\"70.0\" y=\"-175.0\" width=\"10.0\" height=\"12.5\" opacity=\"0.0\" fill=\"currentColor\" stroke-width=\"0.1\"/>\n",
       "<rect x=\"80.0\" y=\"-175.0\" width=\"10.0\" height=\"12.5\" opacity=\"0.0\" fill=\"currentColor\" stroke-width=\"0.1\"/>\n",
       "<rect x=\"90.0\" y=\"-175.0\" width=\"10.0\" height=\"12.5\" opacity=\"0.0\" fill=\"currentColor\" stroke-width=\"0.1\"/>\n",
       "<rect x=\"100.0\" y=\"-175.0\" width=\"10.0\" height=\"12.5\" opacity=\"0.0\" fill=\"currentColor\" stroke-width=\"0.1\"/>\n",
       "<rect x=\"110.0\" y=\"-175.0\" width=\"10.0\" height=\"12.5\" opacity=\"0.011904761904761916\" fill=\"currentColor\" stroke-width=\"0.1\"/>\n",
       "<rect x=\"120.0\" y=\"-175.0\" width=\"10.0\" height=\"12.5\" opacity=\"0.023809523809523832\" fill=\"currentColor\" stroke-width=\"0.1\"/>\n",
       "<rect x=\"130.0\" y=\"-175.0\" width=\"10.0\" height=\"12.5\" opacity=\"0.03571428571428575\" fill=\"currentColor\" stroke-width=\"0.1\"/>\n",
       "<rect x=\"140.0\" y=\"-175.0\" width=\"10.0\" height=\"12.5\" opacity=\"0.011904761904761916\" fill=\"currentColor\" stroke-width=\"0.1\"/>\n",
       "<rect x=\"150.0\" y=\"-175.0\" width=\"10.0\" height=\"12.5\" opacity=\"0.023809523809523832\" fill=\"currentColor\" stroke-width=\"0.1\"/>\n",
       "<rect x=\"160.0\" y=\"-175.0\" width=\"10.0\" height=\"12.5\" opacity=\"0.011904761904761916\" fill=\"currentColor\" stroke-width=\"0.1\"/>\n",
       "<rect x=\"170.0\" y=\"-175.0\" width=\"10.0\" height=\"12.5\" opacity=\"0.03571428571428588\" fill=\"currentColor\" stroke-width=\"0.1\"/>\n",
       "<rect x=\"179.99999999999997\" y=\"-175.0\" width=\"10.0\" height=\"12.5\" opacity=\"0.02380952380952375\" fill=\"currentColor\" stroke-width=\"0.1\"/>\n",
       "<rect x=\"190.0\" y=\"-175.0\" width=\"10.0\" height=\"12.5\" opacity=\"0.03571428571428575\" fill=\"currentColor\" stroke-width=\"0.1\"/>\n",
       "<rect x=\"200.0\" y=\"-175.0\" width=\"10.0\" height=\"12.5\" opacity=\"0.05952380952380958\" fill=\"currentColor\" stroke-width=\"0.1\"/>\n",
       "<rect x=\"210.0\" y=\"-175.0\" width=\"10.0\" height=\"12.5\" opacity=\"0.09523809523809533\" fill=\"currentColor\" stroke-width=\"0.1\"/>\n",
       "<rect x=\"220.0\" y=\"-175.0\" width=\"10.0\" height=\"12.5\" opacity=\"0.047619047619047665\" fill=\"currentColor\" stroke-width=\"0.1\"/>\n",
       "<rect x=\"230.0\" y=\"-175.0\" width=\"10.0\" height=\"12.5\" opacity=\"0.02380952380952392\" fill=\"currentColor\" stroke-width=\"0.1\"/>\n",
       "<rect x=\"239.99999999999997\" y=\"-175.0\" width=\"10.0\" height=\"12.5\" opacity=\"0.07142857142857124\" fill=\"currentColor\" stroke-width=\"0.1\"/>\n",
       "<rect x=\"0.0\" y=\"-187.5\" width=\"10.0\" height=\"12.5\" opacity=\"0.05952380952380945\" fill=\"currentColor\" stroke-width=\"0.1\"/>\n",
       "<rect x=\"10.0\" y=\"-187.5\" width=\"10.0\" height=\"12.5\" opacity=\"0.0\" fill=\"currentColor\" stroke-width=\"0.1\"/>\n",
       "<rect x=\"20.0\" y=\"-187.5\" width=\"10.0\" height=\"12.5\" opacity=\"0.0\" fill=\"currentColor\" stroke-width=\"0.1\"/>\n",
       "<rect x=\"30.0\" y=\"-187.5\" width=\"10.0\" height=\"12.5\" opacity=\"0.0\" fill=\"currentColor\" stroke-width=\"0.1\"/>\n",
       "<rect x=\"40.0\" y=\"-187.5\" width=\"10.0\" height=\"12.5\" opacity=\"0.01190476190476189\" fill=\"currentColor\" stroke-width=\"0.1\"/>\n",
       "<rect x=\"50.0\" y=\"-187.5\" width=\"10.0\" height=\"12.5\" opacity=\"0.0\" fill=\"currentColor\" stroke-width=\"0.1\"/>\n",
       "<rect x=\"60.0\" y=\"-187.5\" width=\"10.0\" height=\"12.5\" opacity=\"0.0\" fill=\"currentColor\" stroke-width=\"0.1\"/>\n",
       "<rect x=\"70.0\" y=\"-187.5\" width=\"10.0\" height=\"12.5\" opacity=\"0.01190476190476189\" fill=\"currentColor\" stroke-width=\"0.1\"/>\n",
       "<rect x=\"80.0\" y=\"-187.5\" width=\"10.0\" height=\"12.5\" opacity=\"0.0\" fill=\"currentColor\" stroke-width=\"0.1\"/>\n",
       "<rect x=\"90.0\" y=\"-187.5\" width=\"10.0\" height=\"12.5\" opacity=\"0.01190476190476189\" fill=\"currentColor\" stroke-width=\"0.1\"/>\n",
       "<rect x=\"100.0\" y=\"-187.5\" width=\"10.0\" height=\"12.5\" opacity=\"0.0\" fill=\"currentColor\" stroke-width=\"0.1\"/>\n",
       "<rect x=\"110.0\" y=\"-187.5\" width=\"10.0\" height=\"12.5\" opacity=\"0.0\" fill=\"currentColor\" stroke-width=\"0.1\"/>\n",
       "<rect x=\"120.0\" y=\"-187.5\" width=\"10.0\" height=\"12.5\" opacity=\"0.02380952380952378\" fill=\"currentColor\" stroke-width=\"0.1\"/>\n",
       "<rect x=\"130.0\" y=\"-187.5\" width=\"10.0\" height=\"12.5\" opacity=\"0.01190476190476189\" fill=\"currentColor\" stroke-width=\"0.1\"/>\n",
       "<rect x=\"140.0\" y=\"-187.5\" width=\"10.0\" height=\"12.5\" opacity=\"0.01190476190476189\" fill=\"currentColor\" stroke-width=\"0.1\"/>\n",
       "<rect x=\"150.0\" y=\"-187.5\" width=\"10.0\" height=\"12.5\" opacity=\"0.03571428571428567\" fill=\"currentColor\" stroke-width=\"0.1\"/>\n",
       "<rect x=\"160.0\" y=\"-187.5\" width=\"10.0\" height=\"12.5\" opacity=\"0.02380952380952378\" fill=\"currentColor\" stroke-width=\"0.1\"/>\n",
       "<rect x=\"170.0\" y=\"-187.5\" width=\"10.0\" height=\"12.5\" opacity=\"0.0\" fill=\"currentColor\" stroke-width=\"0.1\"/>\n",
       "<rect x=\"179.99999999999997\" y=\"-187.5\" width=\"10.0\" height=\"12.5\" opacity=\"0.011904761904761847\" fill=\"currentColor\" stroke-width=\"0.1\"/>\n",
       "<rect x=\"190.0\" y=\"-187.5\" width=\"10.0\" height=\"12.5\" opacity=\"0.05952380952380945\" fill=\"currentColor\" stroke-width=\"0.1\"/>\n",
       "<rect x=\"200.0\" y=\"-187.5\" width=\"10.0\" height=\"12.5\" opacity=\"0.01190476190476189\" fill=\"currentColor\" stroke-width=\"0.1\"/>\n",
       "<rect x=\"210.0\" y=\"-187.5\" width=\"10.0\" height=\"12.5\" opacity=\"0.04761904761904756\" fill=\"currentColor\" stroke-width=\"0.1\"/>\n",
       "<rect x=\"220.0\" y=\"-187.5\" width=\"10.0\" height=\"12.5\" opacity=\"0.04761904761904756\" fill=\"currentColor\" stroke-width=\"0.1\"/>\n",
       "<rect x=\"230.0\" y=\"-187.5\" width=\"10.0\" height=\"12.5\" opacity=\"0.023809523809523867\" fill=\"currentColor\" stroke-width=\"0.1\"/>\n",
       "<rect x=\"239.99999999999997\" y=\"-187.5\" width=\"10.0\" height=\"12.5\" opacity=\"0.023809523809523694\" fill=\"currentColor\" stroke-width=\"0.1\"/>\n",
       "<rect x=\"0.0\" y=\"-200.0\" width=\"10.0\" height=\"12.5\" opacity=\"0.07142857142857134\" fill=\"currentColor\" stroke-width=\"0.1\"/>\n",
       "<rect x=\"10.0\" y=\"-200.0\" width=\"10.0\" height=\"12.5\" opacity=\"0.0\" fill=\"currentColor\" stroke-width=\"0.1\"/>\n",
       "<rect x=\"20.0\" y=\"-200.0\" width=\"10.0\" height=\"12.5\" opacity=\"0.0\" fill=\"currentColor\" stroke-width=\"0.1\"/>\n",
       "<rect x=\"30.0\" y=\"-200.0\" width=\"10.0\" height=\"12.5\" opacity=\"0.0\" fill=\"currentColor\" stroke-width=\"0.1\"/>\n",
       "<rect x=\"40.0\" y=\"-200.0\" width=\"10.0\" height=\"12.5\" opacity=\"0.0\" fill=\"currentColor\" stroke-width=\"0.1\"/>\n",
       "<rect x=\"50.0\" y=\"-200.0\" width=\"10.0\" height=\"12.5\" opacity=\"0.0\" fill=\"currentColor\" stroke-width=\"0.1\"/>\n",
       "<rect x=\"60.0\" y=\"-200.0\" width=\"10.0\" height=\"12.5\" opacity=\"0.0\" fill=\"currentColor\" stroke-width=\"0.1\"/>\n",
       "<rect x=\"70.0\" y=\"-200.0\" width=\"10.0\" height=\"12.5\" opacity=\"0.0\" fill=\"currentColor\" stroke-width=\"0.1\"/>\n",
       "<rect x=\"80.0\" y=\"-200.0\" width=\"10.0\" height=\"12.5\" opacity=\"0.0\" fill=\"currentColor\" stroke-width=\"0.1\"/>\n",
       "<rect x=\"90.0\" y=\"-200.0\" width=\"10.0\" height=\"12.5\" opacity=\"0.01190476190476189\" fill=\"currentColor\" stroke-width=\"0.1\"/>\n",
       "<rect x=\"100.0\" y=\"-200.0\" width=\"10.0\" height=\"12.5\" opacity=\"0.0\" fill=\"currentColor\" stroke-width=\"0.1\"/>\n",
       "<rect x=\"110.0\" y=\"-200.0\" width=\"10.0\" height=\"12.5\" opacity=\"0.03571428571428567\" fill=\"currentColor\" stroke-width=\"0.1\"/>\n",
       "<rect x=\"120.0\" y=\"-200.0\" width=\"10.0\" height=\"12.5\" opacity=\"0.01190476190476189\" fill=\"currentColor\" stroke-width=\"0.1\"/>\n",
       "<rect x=\"130.0\" y=\"-200.0\" width=\"10.0\" height=\"12.5\" opacity=\"0.02380952380952378\" fill=\"currentColor\" stroke-width=\"0.1\"/>\n",
       "<rect x=\"140.0\" y=\"-200.0\" width=\"10.0\" height=\"12.5\" opacity=\"0.01190476190476189\" fill=\"currentColor\" stroke-width=\"0.1\"/>\n",
       "<rect x=\"150.0\" y=\"-200.0\" width=\"10.0\" height=\"12.5\" opacity=\"0.03571428571428567\" fill=\"currentColor\" stroke-width=\"0.1\"/>\n",
       "<rect x=\"160.0\" y=\"-200.0\" width=\"10.0\" height=\"12.5\" opacity=\"0.0\" fill=\"currentColor\" stroke-width=\"0.1\"/>\n",
       "<rect x=\"170.0\" y=\"-200.0\" width=\"10.0\" height=\"12.5\" opacity=\"0.011904761904761934\" fill=\"currentColor\" stroke-width=\"0.1\"/>\n",
       "<rect x=\"179.99999999999997\" y=\"-200.0\" width=\"10.0\" height=\"12.5\" opacity=\"0.023809523809523694\" fill=\"currentColor\" stroke-width=\"0.1\"/>\n",
       "<rect x=\"190.0\" y=\"-200.0\" width=\"10.0\" height=\"12.5\" opacity=\"0.03571428571428567\" fill=\"currentColor\" stroke-width=\"0.1\"/>\n",
       "<rect x=\"200.0\" y=\"-200.0\" width=\"10.0\" height=\"12.5\" opacity=\"0.02380952380952378\" fill=\"currentColor\" stroke-width=\"0.1\"/>\n",
       "<rect x=\"210.0\" y=\"-200.0\" width=\"10.0\" height=\"12.5\" opacity=\"0.03571428571428567\" fill=\"currentColor\" stroke-width=\"0.1\"/>\n",
       "<rect x=\"220.0\" y=\"-200.0\" width=\"10.0\" height=\"12.5\" opacity=\"0.03571428571428567\" fill=\"currentColor\" stroke-width=\"0.1\"/>\n",
       "<rect x=\"230.0\" y=\"-200.0\" width=\"10.0\" height=\"12.5\" opacity=\"0.09523809523809547\" fill=\"currentColor\" stroke-width=\"0.1\"/>\n",
       "<rect x=\"239.99999999999997\" y=\"-200.0\" width=\"10.0\" height=\"12.5\" opacity=\"0.011904761904761847\" fill=\"currentColor\" stroke-width=\"0.1\"/>\n",
       "<rect x=\"0.0\" y=\"-212.5\" width=\"10.0\" height=\"12.5\" opacity=\"0.011904761904761916\" fill=\"currentColor\" stroke-width=\"0.1\"/>\n",
       "<rect x=\"10.0\" y=\"-212.5\" width=\"10.0\" height=\"12.5\" opacity=\"0.0\" fill=\"currentColor\" stroke-width=\"0.1\"/>\n",
       "<rect x=\"20.0\" y=\"-212.5\" width=\"10.0\" height=\"12.5\" opacity=\"0.011904761904761916\" fill=\"currentColor\" stroke-width=\"0.1\"/>\n",
       "<rect x=\"30.0\" y=\"-212.5\" width=\"10.0\" height=\"12.5\" opacity=\"0.011904761904761916\" fill=\"currentColor\" stroke-width=\"0.1\"/>\n",
       "<rect x=\"40.0\" y=\"-212.5\" width=\"10.0\" height=\"12.5\" opacity=\"0.0\" fill=\"currentColor\" stroke-width=\"0.1\"/>\n",
       "<rect x=\"50.0\" y=\"-212.5\" width=\"10.0\" height=\"12.5\" opacity=\"0.0\" fill=\"currentColor\" stroke-width=\"0.1\"/>\n",
       "<rect x=\"60.0\" y=\"-212.5\" width=\"10.0\" height=\"12.5\" opacity=\"0.0\" fill=\"currentColor\" stroke-width=\"0.1\"/>\n",
       "<rect x=\"70.0\" y=\"-212.5\" width=\"10.0\" height=\"12.5\" opacity=\"0.0\" fill=\"currentColor\" stroke-width=\"0.1\"/>\n",
       "<rect x=\"80.0\" y=\"-212.5\" width=\"10.0\" height=\"12.5\" opacity=\"0.011904761904761916\" fill=\"currentColor\" stroke-width=\"0.1\"/>\n",
       "<rect x=\"90.0\" y=\"-212.5\" width=\"10.0\" height=\"12.5\" opacity=\"0.0\" fill=\"currentColor\" stroke-width=\"0.1\"/>\n",
       "<rect x=\"100.0\" y=\"-212.5\" width=\"10.0\" height=\"12.5\" opacity=\"0.0\" fill=\"currentColor\" stroke-width=\"0.1\"/>\n",
       "<rect x=\"110.0\" y=\"-212.5\" width=\"10.0\" height=\"12.5\" opacity=\"0.011904761904761916\" fill=\"currentColor\" stroke-width=\"0.1\"/>\n",
       "<rect x=\"120.0\" y=\"-212.5\" width=\"10.0\" height=\"12.5\" opacity=\"0.0\" fill=\"currentColor\" stroke-width=\"0.1\"/>\n",
       "<rect x=\"130.0\" y=\"-212.5\" width=\"10.0\" height=\"12.5\" opacity=\"0.03571428571428575\" fill=\"currentColor\" stroke-width=\"0.1\"/>\n",
       "<rect x=\"140.0\" y=\"-212.5\" width=\"10.0\" height=\"12.5\" opacity=\"0.011904761904761916\" fill=\"currentColor\" stroke-width=\"0.1\"/>\n",
       "<rect x=\"150.0\" y=\"-212.5\" width=\"10.0\" height=\"12.5\" opacity=\"0.0\" fill=\"currentColor\" stroke-width=\"0.1\"/>\n",
       "<rect x=\"160.0\" y=\"-212.5\" width=\"10.0\" height=\"12.5\" opacity=\"0.0\" fill=\"currentColor\" stroke-width=\"0.1\"/>\n",
       "<rect x=\"170.0\" y=\"-212.5\" width=\"10.0\" height=\"12.5\" opacity=\"0.0\" fill=\"currentColor\" stroke-width=\"0.1\"/>\n",
       "<rect x=\"179.99999999999997\" y=\"-212.5\" width=\"10.0\" height=\"12.5\" opacity=\"0.011904761904761875\" fill=\"currentColor\" stroke-width=\"0.1\"/>\n",
       "<rect x=\"190.0\" y=\"-212.5\" width=\"10.0\" height=\"12.5\" opacity=\"0.0\" fill=\"currentColor\" stroke-width=\"0.1\"/>\n",
       "<rect x=\"200.0\" y=\"-212.5\" width=\"10.0\" height=\"12.5\" opacity=\"0.011904761904761916\" fill=\"currentColor\" stroke-width=\"0.1\"/>\n",
       "<rect x=\"210.0\" y=\"-212.5\" width=\"10.0\" height=\"12.5\" opacity=\"0.0\" fill=\"currentColor\" stroke-width=\"0.1\"/>\n",
       "<rect x=\"220.0\" y=\"-212.5\" width=\"10.0\" height=\"12.5\" opacity=\"0.011904761904761916\" fill=\"currentColor\" stroke-width=\"0.1\"/>\n",
       "<rect x=\"230.0\" y=\"-212.5\" width=\"10.0\" height=\"12.5\" opacity=\"0.01190476190476196\" fill=\"currentColor\" stroke-width=\"0.1\"/>\n",
       "<rect x=\"239.99999999999997\" y=\"-212.5\" width=\"10.0\" height=\"12.5\" opacity=\"0.03571428571428562\" fill=\"currentColor\" stroke-width=\"0.1\"/>\n",
       "<rect x=\"0.0\" y=\"-225.0\" width=\"10.0\" height=\"12.5\" opacity=\"0.0\" fill=\"currentColor\" stroke-width=\"0.1\"/>\n",
       "<rect x=\"10.0\" y=\"-225.0\" width=\"10.0\" height=\"12.5\" opacity=\"0.0\" fill=\"currentColor\" stroke-width=\"0.1\"/>\n",
       "<rect x=\"20.0\" y=\"-225.0\" width=\"10.0\" height=\"12.5\" opacity=\"0.0\" fill=\"currentColor\" stroke-width=\"0.1\"/>\n",
       "<rect x=\"30.0\" y=\"-225.0\" width=\"10.0\" height=\"12.5\" opacity=\"0.0\" fill=\"currentColor\" stroke-width=\"0.1\"/>\n",
       "<rect x=\"40.0\" y=\"-225.0\" width=\"10.0\" height=\"12.5\" opacity=\"0.0\" fill=\"currentColor\" stroke-width=\"0.1\"/>\n",
       "<rect x=\"50.0\" y=\"-225.0\" width=\"10.0\" height=\"12.5\" opacity=\"0.0\" fill=\"currentColor\" stroke-width=\"0.1\"/>\n",
       "<rect x=\"60.0\" y=\"-225.0\" width=\"10.0\" height=\"12.5\" opacity=\"0.0\" fill=\"currentColor\" stroke-width=\"0.1\"/>\n",
       "<rect x=\"70.0\" y=\"-225.0\" width=\"10.0\" height=\"12.5\" opacity=\"0.0\" fill=\"currentColor\" stroke-width=\"0.1\"/>\n",
       "<rect x=\"80.0\" y=\"-225.0\" width=\"10.0\" height=\"12.5\" opacity=\"0.0\" fill=\"currentColor\" stroke-width=\"0.1\"/>\n",
       "<rect x=\"90.0\" y=\"-225.0\" width=\"10.0\" height=\"12.5\" opacity=\"0.0\" fill=\"currentColor\" stroke-width=\"0.1\"/>\n",
       "<rect x=\"100.0\" y=\"-225.0\" width=\"10.0\" height=\"12.5\" opacity=\"0.02380952380952378\" fill=\"currentColor\" stroke-width=\"0.1\"/>\n",
       "<rect x=\"110.0\" y=\"-225.0\" width=\"10.0\" height=\"12.5\" opacity=\"0.0\" fill=\"currentColor\" stroke-width=\"0.1\"/>\n",
       "<rect x=\"120.0\" y=\"-225.0\" width=\"10.0\" height=\"12.5\" opacity=\"0.01190476190476189\" fill=\"currentColor\" stroke-width=\"0.1\"/>\n",
       "<rect x=\"130.0\" y=\"-225.0\" width=\"10.0\" height=\"12.5\" opacity=\"0.01190476190476189\" fill=\"currentColor\" stroke-width=\"0.1\"/>\n",
       "<rect x=\"140.0\" y=\"-225.0\" width=\"10.0\" height=\"12.5\" opacity=\"0.0\" fill=\"currentColor\" stroke-width=\"0.1\"/>\n",
       "<rect x=\"150.0\" y=\"-225.0\" width=\"10.0\" height=\"12.5\" opacity=\"0.01190476190476189\" fill=\"currentColor\" stroke-width=\"0.1\"/>\n",
       "<rect x=\"160.0\" y=\"-225.0\" width=\"10.0\" height=\"12.5\" opacity=\"0.01190476190476189\" fill=\"currentColor\" stroke-width=\"0.1\"/>\n",
       "<rect x=\"170.0\" y=\"-225.0\" width=\"10.0\" height=\"12.5\" opacity=\"0.023809523809523867\" fill=\"currentColor\" stroke-width=\"0.1\"/>\n",
       "<rect x=\"179.99999999999997\" y=\"-225.0\" width=\"10.0\" height=\"12.5\" opacity=\"0.0\" fill=\"currentColor\" stroke-width=\"0.1\"/>\n",
       "<rect x=\"190.0\" y=\"-225.0\" width=\"10.0\" height=\"12.5\" opacity=\"0.03571428571428567\" fill=\"currentColor\" stroke-width=\"0.1\"/>\n",
       "<rect x=\"200.0\" y=\"-225.0\" width=\"10.0\" height=\"12.5\" opacity=\"0.01190476190476189\" fill=\"currentColor\" stroke-width=\"0.1\"/>\n",
       "<rect x=\"210.0\" y=\"-225.0\" width=\"10.0\" height=\"12.5\" opacity=\"0.01190476190476189\" fill=\"currentColor\" stroke-width=\"0.1\"/>\n",
       "<rect x=\"220.0\" y=\"-225.0\" width=\"10.0\" height=\"12.5\" opacity=\"0.03571428571428567\" fill=\"currentColor\" stroke-width=\"0.1\"/>\n",
       "<rect x=\"230.0\" y=\"-225.0\" width=\"10.0\" height=\"12.5\" opacity=\"0.023809523809523867\" fill=\"currentColor\" stroke-width=\"0.1\"/>\n",
       "<rect x=\"239.99999999999997\" y=\"-225.0\" width=\"10.0\" height=\"12.5\" opacity=\"0.04761904761904739\" fill=\"currentColor\" stroke-width=\"0.1\"/>\n",
       "<rect x=\"0.0\" y=\"-237.5\" width=\"10.0\" height=\"12.5\" opacity=\"0.047619047619047665\" fill=\"currentColor\" stroke-width=\"0.1\"/>\n",
       "<rect x=\"10.0\" y=\"-237.5\" width=\"10.0\" height=\"12.5\" opacity=\"0.0\" fill=\"currentColor\" stroke-width=\"0.1\"/>\n",
       "<rect x=\"20.0\" y=\"-237.5\" width=\"10.0\" height=\"12.5\" opacity=\"0.023809523809523832\" fill=\"currentColor\" stroke-width=\"0.1\"/>\n",
       "<rect x=\"30.0\" y=\"-237.5\" width=\"10.0\" height=\"12.5\" opacity=\"0.0\" fill=\"currentColor\" stroke-width=\"0.1\"/>\n",
       "<rect x=\"40.0\" y=\"-237.5\" width=\"10.0\" height=\"12.5\" opacity=\"0.0\" fill=\"currentColor\" stroke-width=\"0.1\"/>\n",
       "<rect x=\"50.0\" y=\"-237.5\" width=\"10.0\" height=\"12.5\" opacity=\"0.011904761904761916\" fill=\"currentColor\" stroke-width=\"0.1\"/>\n",
       "<rect x=\"60.0\" y=\"-237.5\" width=\"10.0\" height=\"12.5\" opacity=\"0.0\" fill=\"currentColor\" stroke-width=\"0.1\"/>\n",
       "<rect x=\"70.0\" y=\"-237.5\" width=\"10.0\" height=\"12.5\" opacity=\"0.0\" fill=\"currentColor\" stroke-width=\"0.1\"/>\n",
       "<rect x=\"80.0\" y=\"-237.5\" width=\"10.0\" height=\"12.5\" opacity=\"0.0\" fill=\"currentColor\" stroke-width=\"0.1\"/>\n",
       "<rect x=\"90.0\" y=\"-237.5\" width=\"10.0\" height=\"12.5\" opacity=\"0.0\" fill=\"currentColor\" stroke-width=\"0.1\"/>\n",
       "<rect x=\"100.0\" y=\"-237.5\" width=\"10.0\" height=\"12.5\" opacity=\"0.0\" fill=\"currentColor\" stroke-width=\"0.1\"/>\n",
       "<rect x=\"110.0\" y=\"-237.5\" width=\"10.0\" height=\"12.5\" opacity=\"0.0\" fill=\"currentColor\" stroke-width=\"0.1\"/>\n",
       "<rect x=\"120.0\" y=\"-237.5\" width=\"10.0\" height=\"12.5\" opacity=\"0.023809523809523832\" fill=\"currentColor\" stroke-width=\"0.1\"/>\n",
       "<rect x=\"130.0\" y=\"-237.5\" width=\"10.0\" height=\"12.5\" opacity=\"0.011904761904761916\" fill=\"currentColor\" stroke-width=\"0.1\"/>\n",
       "<rect x=\"140.0\" y=\"-237.5\" width=\"10.0\" height=\"12.5\" opacity=\"0.0\" fill=\"currentColor\" stroke-width=\"0.1\"/>\n",
       "<rect x=\"150.0\" y=\"-237.5\" width=\"10.0\" height=\"12.5\" opacity=\"0.011904761904761916\" fill=\"currentColor\" stroke-width=\"0.1\"/>\n",
       "<rect x=\"160.0\" y=\"-237.5\" width=\"10.0\" height=\"12.5\" opacity=\"0.0\" fill=\"currentColor\" stroke-width=\"0.1\"/>\n",
       "<rect x=\"170.0\" y=\"-237.5\" width=\"10.0\" height=\"12.5\" opacity=\"0.01190476190476196\" fill=\"currentColor\" stroke-width=\"0.1\"/>\n",
       "<rect x=\"179.99999999999997\" y=\"-237.5\" width=\"10.0\" height=\"12.5\" opacity=\"0.0\" fill=\"currentColor\" stroke-width=\"0.1\"/>\n",
       "<rect x=\"190.0\" y=\"-237.5\" width=\"10.0\" height=\"12.5\" opacity=\"0.0\" fill=\"currentColor\" stroke-width=\"0.1\"/>\n",
       "<rect x=\"200.0\" y=\"-237.5\" width=\"10.0\" height=\"12.5\" opacity=\"0.011904761904761916\" fill=\"currentColor\" stroke-width=\"0.1\"/>\n",
       "<rect x=\"210.0\" y=\"-237.5\" width=\"10.0\" height=\"12.5\" opacity=\"0.011904761904761916\" fill=\"currentColor\" stroke-width=\"0.1\"/>\n",
       "<rect x=\"220.0\" y=\"-237.5\" width=\"10.0\" height=\"12.5\" opacity=\"0.023809523809523832\" fill=\"currentColor\" stroke-width=\"0.1\"/>\n",
       "<rect x=\"230.0\" y=\"-237.5\" width=\"10.0\" height=\"12.5\" opacity=\"0.01190476190476196\" fill=\"currentColor\" stroke-width=\"0.1\"/>\n",
       "<rect x=\"239.99999999999997\" y=\"-237.5\" width=\"10.0\" height=\"12.5\" opacity=\"0.0\" fill=\"currentColor\" stroke-width=\"0.1\"/>\n",
       "<rect x=\"0.0\" y=\"-250.0\" width=\"10.0\" height=\"12.5\" opacity=\"0.01190476190476189\" fill=\"currentColor\" stroke-width=\"0.1\"/>\n",
       "<rect x=\"10.0\" y=\"-250.0\" width=\"10.0\" height=\"12.5\" opacity=\"0.02380952380952378\" fill=\"currentColor\" stroke-width=\"0.1\"/>\n",
       "<rect x=\"20.0\" y=\"-250.0\" width=\"10.0\" height=\"12.5\" opacity=\"0.02380952380952378\" fill=\"currentColor\" stroke-width=\"0.1\"/>\n",
       "<rect x=\"30.0\" y=\"-250.0\" width=\"10.0\" height=\"12.5\" opacity=\"0.0\" fill=\"currentColor\" stroke-width=\"0.1\"/>\n",
       "<rect x=\"40.0\" y=\"-250.0\" width=\"10.0\" height=\"12.5\" opacity=\"0.0\" fill=\"currentColor\" stroke-width=\"0.1\"/>\n",
       "<rect x=\"50.0\" y=\"-250.0\" width=\"10.0\" height=\"12.5\" opacity=\"0.0\" fill=\"currentColor\" stroke-width=\"0.1\"/>\n",
       "<rect x=\"60.0\" y=\"-250.0\" width=\"10.0\" height=\"12.5\" opacity=\"0.0\" fill=\"currentColor\" stroke-width=\"0.1\"/>\n",
       "<rect x=\"70.0\" y=\"-250.0\" width=\"10.0\" height=\"12.5\" opacity=\"0.0\" fill=\"currentColor\" stroke-width=\"0.1\"/>\n",
       "<rect x=\"80.0\" y=\"-250.0\" width=\"10.0\" height=\"12.5\" opacity=\"0.0\" fill=\"currentColor\" stroke-width=\"0.1\"/>\n",
       "<rect x=\"90.0\" y=\"-250.0\" width=\"10.0\" height=\"12.5\" opacity=\"0.0\" fill=\"currentColor\" stroke-width=\"0.1\"/>\n",
       "<rect x=\"100.0\" y=\"-250.0\" width=\"10.0\" height=\"12.5\" opacity=\"0.0\" fill=\"currentColor\" stroke-width=\"0.1\"/>\n",
       "<rect x=\"110.0\" y=\"-250.0\" width=\"10.0\" height=\"12.5\" opacity=\"0.02380952380952378\" fill=\"currentColor\" stroke-width=\"0.1\"/>\n",
       "<rect x=\"120.0\" y=\"-250.0\" width=\"10.0\" height=\"12.5\" opacity=\"0.0\" fill=\"currentColor\" stroke-width=\"0.1\"/>\n",
       "<rect x=\"130.0\" y=\"-250.0\" width=\"10.0\" height=\"12.5\" opacity=\"0.0\" fill=\"currentColor\" stroke-width=\"0.1\"/>\n",
       "<rect x=\"140.0\" y=\"-250.0\" width=\"10.0\" height=\"12.5\" opacity=\"0.0\" fill=\"currentColor\" stroke-width=\"0.1\"/>\n",
       "<rect x=\"150.0\" y=\"-250.0\" width=\"10.0\" height=\"12.5\" opacity=\"0.01190476190476189\" fill=\"currentColor\" stroke-width=\"0.1\"/>\n",
       "<rect x=\"160.0\" y=\"-250.0\" width=\"10.0\" height=\"12.5\" opacity=\"0.01190476190476189\" fill=\"currentColor\" stroke-width=\"0.1\"/>\n",
       "<rect x=\"170.0\" y=\"-250.0\" width=\"10.0\" height=\"12.5\" opacity=\"0.011904761904761934\" fill=\"currentColor\" stroke-width=\"0.1\"/>\n",
       "<rect x=\"179.99999999999997\" y=\"-250.0\" width=\"10.0\" height=\"12.5\" opacity=\"0.011904761904761847\" fill=\"currentColor\" stroke-width=\"0.1\"/>\n",
       "<rect x=\"190.0\" y=\"-250.0\" width=\"10.0\" height=\"12.5\" opacity=\"0.0\" fill=\"currentColor\" stroke-width=\"0.1\"/>\n",
       "<rect x=\"200.0\" y=\"-250.0\" width=\"10.0\" height=\"12.5\" opacity=\"0.0\" fill=\"currentColor\" stroke-width=\"0.1\"/>\n",
       "<rect x=\"210.0\" y=\"-250.0\" width=\"10.0\" height=\"12.5\" opacity=\"0.01190476190476189\" fill=\"currentColor\" stroke-width=\"0.1\"/>\n",
       "<rect x=\"220.0\" y=\"-250.0\" width=\"10.0\" height=\"12.5\" opacity=\"0.01190476190476189\" fill=\"currentColor\" stroke-width=\"0.1\"/>\n",
       "<rect x=\"230.0\" y=\"-250.0\" width=\"10.0\" height=\"12.5\" opacity=\"0.011904761904761934\" fill=\"currentColor\" stroke-width=\"0.1\"/>\n",
       "<rect x=\"239.99999999999997\" y=\"-250.0\" width=\"10.0\" height=\"12.5\" opacity=\"0.023809523809523694\" fill=\"currentColor\" stroke-width=\"0.1\"/>\n",
       "</svg>\n",
       "</div>\n",
       "<div style=\"flex=grow:1;\">\n",
       "Regular(25, 5, 30, label='track pT')<br/>\n",
       "Regular(20, 0, 2, label='track pT / calorimeter energy')<br/>\n",
       "<hr style=\"margin-top:.2em; margin-bottom:.2em;\"/>\n",
       "Double() Σ=1954.0 <em>(134626.0 with flow)</em>\n",
       "\n",
       "</div>\n",
       "</div>\n",
       "</html>"
      ],
      "text/plain": [
       "Hist(\n",
       "  Regular(25, 5, 30, label='track pT'),\n",
       "  Regular(20, 0, 2, label='track pT / calorimeter energy'),\n",
       "  storage=Double()) # Sum: 1954.0 (134626.0 with flow)"
      ]
     },
     "execution_count": 136,
     "metadata": {},
     "output_type": "execute_result"
    }
   ],
   "source": [
    "ratio_vs_pt.fill(ak.flatten(pMom_isemc.pt), ak.flatten(pt_over_energy_ratio))"
   ]
  },
  {
   "cell_type": "markdown",
   "id": "7c4b5e37-fd35-4f60-a446-3baac2a61ad8",
   "metadata": {},
   "source": [
    "Also, plot this ratio in one dimension:"
   ]
  },
  {
   "cell_type": "code",
   "execution_count": 148,
   "id": "19845180-6efc-4098-a726-3a413bf5b0d9",
   "metadata": {},
   "outputs": [
    {
     "data": {
      "text/html": [
       "<html>\n",
       "<div style=\"display:flex; align-items:center;\">\n",
       "<div style=\"width:290px;\">\n",
       "<svg xmlns=\"http://www.w3.org/2000/svg\" viewBox=\"-10 -105 270 120\">\n",
       "<line x1=\"-5\" y1=\"0\" x2=\"255\" y2=\"0\" style=\"fill:none;stroke-width:2;stroke:currentColor\"/>\n",
       "<text text-anchor=\"middle\" x=\"0\" y=\"15\" style=\"fill:currentColor;\">\n",
       "0.1\n",
       "</text>\n",
       "<text text-anchor=\"middle\" x=\"250\" y=\"15\" style=\"fill:currentColor;\">\n",
       "4\n",
       "</text>\n",
       "<text text-anchor=\"middle\" x=\"125.0\" y=\"15\" style=\"fill:currentColor;\">\n",
       "Axis 0\n",
       "</text>\n",
       "<polyline points=\"  0,0   0,-3.58 6.41026,-3.58 6.41026,-4.62 12.8205,-4.62 12.8205,-9.52 19.2308,-9.52 19.2308,-12.2 25.641,-12.2 25.641,-20.7 32.0513,-20.7 32.0513,-24.5 38.4615,-24.5 38.4615,-40.7 44.8718,-40.7 44.8718,-60.7 51.2821,-60.7 51.2821,-80.4 57.6923,-80.4 57.6923,-97.4 64.1026,-97.4 64.1026,-100 70.5128,-100 70.5128,-94 76.9231,-94 76.9231,-71.3 83.3333,-71.3 83.3333,-60.3 89.7436,-60.3 89.7436,-50.7 96.1538,-50.7 96.1538,-34.8 102.564,-34.8 102.564,-28.3 108.974,-28.3 108.974,-21.4 115.385,-21.4 115.385,-19 121.795,-19 121.795,-17 128.205,-17 128.205,-12.4 134.615,-12.4 134.615,-11.1 141.026,-11.1 141.026,-10.3 147.436,-10.3 147.436,-8.2 153.846,-8.2 153.846,-8.39 160.256,-8.39 160.256,-7.35 166.667,-7.35 166.667,-6.13 173.077,-6.13 173.077,-4.81 179.487,-4.81 179.487,-5.66 185.897,-5.66 185.897,-4.52 192.308,-4.52 192.308,-4.52 198.718,-4.52 198.718,-3.77 205.128,-3.77 205.128,-3.39 211.538,-3.39 211.538,-3.39 217.949,-3.39 217.949,-3.02 224.359,-3.02 224.359,-4.05 230.769,-4.05 230.769,-2.54 237.179,-2.54 237.179,-2.45 243.59,-2.45 243.59,-2.17 250,-2.17 250,0\" style=\"fill:none; stroke:currentColor;\"/>\n",
       "</svg>\n",
       "</div>\n",
       "<div style=\"flex=grow:1;\">\n",
       "Regular(39, 0.1, 4, label='Axis 0')<br/>\n",
       "<hr style=\"margin-top:.2em; margin-bottom:.2em;\"/>\n",
       "Double() Σ=10177.0 <em>(134626.0 with flow)</em>\n",
       "\n",
       "</div>\n",
       "</div>\n",
       "</html>"
      ],
      "text/plain": [
       "Hist(Regular(39, 0.1, 4, label='Axis 0'), storage=Double()) # Sum: 10177.0 (134626.0 with flow)"
      ]
     },
     "execution_count": 148,
     "metadata": {},
     "output_type": "execute_result"
    }
   ],
   "source": [
    "pt_over_energy_ratio_plot = hist.Hist(hist.axis.Regular(40, 0, 4)).fill(ak.flatten(pt_over_energy_ratio))\n",
    "pt_over_energy_ratio_plot[1:]"
   ]
  },
  {
   "cell_type": "code",
   "execution_count": 147,
   "id": "c3fff670-c1f0-4ce8-bde1-972213395128",
   "metadata": {},
   "outputs": [
    {
     "data": {
      "image/png": "[encoded data removed]",
      "text/plain": [
       "<Figure size 432x288 with 1 Axes>"
      ]
     },
     "metadata": {
      "needs_background": "light"
     },
     "output_type": "display_data"
    }
   ],
   "source": [
    "pt_over_energy_ratio_plot.plot()\n",
    "plt.yscale(\"log\")"
   ]
  },
  {
   "cell_type": "markdown",
   "id": "cacb926d-4b1a-45fc-845a-f4a280c71cc4",
   "metadata": {},
   "source": [
    "<details>\n",
    "    <summary><b>Answer</b> (no peeking!)</summary>\n",
    "\n",
    "Divide the two quantities elementwise:\n",
    "\n",
    "```python\n",
    "pt_over_energy_ratio = pMom_isemc.pt / track_emc_energy\n",
    "```\n",
    "<br>\n",
    "\n",
    "NumPy raises warnings about division by zero and zero-divided-by-zero (separately). That's sometimes a mistake, though in this case, we _know_ that some of the $p_T$ and $E$ values are zero. These warnings can be selectively ignored with [np.errstate](https://numpy.org/doc/stable/reference/generated/numpy.errstate.html).\n",
    "\n",
    "Although division by zero would raise an exception in Python (stopping a script), they result in \"not a number\" in arrays. You can see them if you look at `pt_over_energy_ratio`.\n",
    "\n",
    "```\n",
    "<Array [[nan, nan, 0.471, ... nan, 4.32, nan]] type='8004 * var * float64'>\n",
    "```\n",
    "</details>"
   ]
  },
  {
   "cell_type": "markdown",
   "id": "4b97bc3c-c1d0-4e3c-9624-7049be94d435",
   "metadata": {
    "tags": []
   },
   "source": [
    "### Selecting electrons with $p_T/E$\n",
    "\n",
    "Electrons deposit nearly all of their energy in the calorimeter, so $p_T/E$ is nearly 1. (Why $p_T/E$ and not track energy $/$ calorimeter energy? I personally don't know this bit of STAR detector physics.)\n",
    "\n",
    "Looking at the one-dimensional ratio plot, what would be a good cut around the peak at 1?\n",
    "\n",
    "**Exercise 8:** Suppose we take the cut to be 2/3 through 4/3. How do you make an array of "
   ]
  },
  {
   "cell_type": "code",
   "execution_count": null,
   "id": "25570c95-8d88-4402-9209-f3d0ef8b3643",
   "metadata": {},
   "outputs": [],
   "source": [
    "pMom_electrons = ???"
   ]
  },
  {
   "cell_type": "code",
   "execution_count": 158,
   "id": "74f7fd12-1039-4156-83f4-13895a14df7f",
   "metadata": {},
   "outputs": [],
   "source": [
    "pMom_electrons = pMom_isemc[(2/3 < pt_over_energy_ratio) & (pt_over_energy_ratio < 4/3)]"
   ]
  },
  {
   "cell_type": "code",
   "execution_count": 159,
   "id": "9d10e3c8-d009-4183-86bc-f39a6f251dc5",
   "metadata": {},
   "outputs": [
    {
     "data": {
      "text/plain": [
       "<MomentumArray4D [[], [{px: 34.7, ... M: 0.000511}]] type='8004 * var * Momentum...'>"
      ]
     },
     "execution_count": 159,
     "metadata": {},
     "output_type": "execute_result"
    }
   ],
   "source": [
    "pMom_electrons"
   ]
  },
  {
   "cell_type": "code",
   "execution_count": 167,
   "id": "186b16e0-5261-437e-8564-154eebe7f404",
   "metadata": {},
   "outputs": [
    {
     "data": {
      "image/png": "[encoded data removed]",
      "text/plain": [
       "<Figure size 432x288 with 1 Axes>"
      ]
     },
     "metadata": {
      "needs_background": "light"
     },
     "output_type": "display_data"
    }
   ],
   "source": [
    "hist.Hist(hist.axis.Regular(90, 0, 45)).fill(ak.flatten(pMom_electrons.pt)).plot();"
   ]
  },
  {
   "cell_type": "code",
   "execution_count": 168,
   "id": "3d647092-445a-49ab-bf6b-9f50c27bf7c8",
   "metadata": {},
   "outputs": [
    {
     "data": {
      "text/plain": [
       "40.0"
      ]
     },
     "execution_count": 168,
     "metadata": {},
     "output_type": "execute_result"
    }
   ],
   "source": [
    "30 * 4/3"
   ]
  },
  {
   "cell_type": "code",
   "execution_count": null,
   "id": "35d3d250-dff9-4c2d-a577-382c710dc6ae",
   "metadata": {},
   "outputs": [],
   "source": []
  }
 ],
 "metadata": {
  "kernelspec": {
   "display_name": "Python 3 (ipykernel)",
   "language": "python",
   "name": "python3"
  },
  "language_info": {
   "codemirror_mode": {
    "name": "ipython",
    "version": 3
   },
   "file_extension": ".py",
   "mimetype": "text/x-python",
   "name": "python",
   "nbconvert_exporter": "python",
   "pygments_lexer": "ipython3",
   "version": "3.8.10"
  }
 },
 "nbformat": 4,
 "nbformat_minor": 5
}
