{
 "cells": [
  {
   "cell_type": "markdown",
   "id": "88a6d7a8-4ba0-44aa-b9cc-bde6ca17eb71",
   "metadata": {},
   "source": [
    "# Scientific Python tutorial for the STAR collaboration\n",
    "\n",
    "This notebook shows you how to do physics analysis in Python using a STAR PicoDST file. I presented it on Zoom on September 13, 2021, but you can find it offline at [jpivarski-talks/2021-09-13-star-uproot-awkward-tutorial](https://github.com/jpivarski-talks/2021-09-13-star-uproot-awkward-tutorial).\n",
    "\n",
    "You can run this notebook on Binder (see link above), which loads all of the library dependencies onto its server; you don't have to install anything. But if you would like to run it on your computer, see the `requirements.txt` file. This specifies exact versions of dependencies that are known to work for this notebook, though if you plan to use these libraries later on, you'll want the latest versions of each.\n",
    "\n",
    "The first 5 sections are introductory, and the last contains exercises. In the live tutorial, we spent one hour on the introductory material and one hour in small groups, working on the exercises."
   ]
  },
  {
   "cell_type": "markdown",
   "id": "1a438bfd-a767-4d0b-bbc9-1175b4d34e43",
   "metadata": {
    "tags": []
   },
   "source": [
    "## 1. Python: interactively building up an analysis"
   ]
  },
  {
   "cell_type": "markdown",
   "id": "2764f556-cbaf-4629-ac50-0eb78b58ea99",
   "metadata": {},
   "source": [
    "## 2. NumPy: thinking one array at a time"
   ]
  },
  {
   "cell_type": "markdown",
   "id": "ee248524-5bd4-4f9b-8303-68575b5e1e67",
   "metadata": {},
   "source": [
    "## 3. Uproot: array-oriented ROOT I/O"
   ]
  },
  {
   "cell_type": "markdown",
   "id": "4f5afbe6-52bf-4c65-b604-7106fc87dd1e",
   "metadata": {},
   "source": [
    "## 4. Awkward Array: complex data in arrays"
   ]
  },
  {
   "cell_type": "markdown",
   "id": "e013b84a-8de8-481d-a559-c0682ec8f403",
   "metadata": {},
   "source": [
    "## 5. Vector, hist, fastjet: the array-oriented ecosystem"
   ]
  },
  {
   "cell_type": "markdown",
   "id": "4d7bc919-93cd-4f03-94ac-ed821d1faf37",
   "metadata": {
    "tags": []
   },
   "source": [
    "## Exercises: translating a C++ analysis into array-oriented Python\n",
    "\n",
    "In this section, we will plot the mass of e⁺e⁻ pairs from the PicoDST file, using C++ examples as a guide.\n",
    "\n",
    "The solutions are hidden. Try to solve each exercise on your own (by filling in the \"`???`\"), then compare with the solutions we've provided."
   ]
  },
  {
   "cell_type": "markdown",
   "id": "939208e8-4987-4cee-8c8f-0df02affd3f0",
   "metadata": {},
   "source": [
    "### C++ version of the analysis\n",
    "\n",
    "The analysis we want to reproduce is the following:\n",
    "\n",
    "```c++\n",
    "// histogram to fill\n",
    "TH1F *hM = new TH1F(\"hM\", \"e+e- invariant mass (GeV/c)\", 200, 0., 100.);\n",
    "\n",
    "// get a reader and initialize it\n",
    "const Char_t *inFile = \"pythia_ppZee_run17emb.picoDst.root\";\n",
    "StPicoDstReader* picoReader = new StPicoDstReader(inFile);\n",
    "picoReader->Init();\n",
    "\n",
    "Long64_t events2read = picoReader->chain()->GetEntries();\n",
    "\n",
    "// loop over events\n",
    "for (Long64_t iEvent = 0; iEvent < events2read; iEvent++) {\n",
    "  Bool_t readEvent = picoReader->readPicoEvent(iEvent);\n",
    "  StPicoDst *dst = picoReader->picoDst();\n",
    "\n",
    "  Int_t nTracks = dst->numberOfTracks();\n",
    "\n",
    "  // for collecting good tracks\n",
    "  std::vector<StPicoTrack*> good;\n",
    "\n",
    "  // loop over tracks\n",
    "  for (Int_t iTrk = 0; iTrk < nTracks; iTrk++) {\n",
    "    StPicoTrack *picoTrack = dst->track(iTrk);\n",
    "\n",
    "    // track quality cuts\n",
    "    if (!picoTrack->isPrimary()) continue;\n",
    "    if (picoTrack->nHitsFit() / picoTrack()->nHitsMax() < 0.2) continue;\n",
    "\n",
    "    // track -> associated electromagnetic calorimeter energy\n",
    "    if (picoTrack->isBemcTrack()) {\n",
    "      StPicoBEmcPidTraits *trait = dst->bemcPidTraits(\n",
    "          picoTrack->bemcPidTraitsIndex()\n",
    "      );\n",
    "\n",
    "      // matched energy cut\n",
    "      double pOverE = picoTrack->pMom().Mag() / trait->btowE();\n",
    "      if (pOverE < 0.1) continue;\n",
    "\n",
    "      // this is a good track\n",
    "      good.push_back(picoTrack);\n",
    "    }\n",
    "  }\n",
    "\n",
    "  // loop over good pairs with opposite-sign charge and fill the invariant mass plot\n",
    "  for (UInt_t i = 0; i < good.size(); i++) {\n",
    "    for (UInt_t j = i + 1; j < good.size(); j++) {\n",
    "      // opposite-sign charge cut\n",
    "      if (good[i].charge() != good[j].charge()) {\n",
    "        // make Lorentz vectors with electron mass\n",
    "        TLorentzVector one(good[i].pMom(), 0.0005109989461);\n",
    "        TLorentzVector two(good[j].pMom(), 0.0005109989461);\n",
    "\n",
    "        // fill the histogram\n",
    "        hM->Fill((one + two).M());\n",
    "      }\n",
    "    }\n",
    "  }\n",
    "}\n",
    "```"
   ]
  },
  {
   "cell_type": "markdown",
   "id": "cf80a172-196d-4d1a-97ab-40528e76e1fa",
   "metadata": {},
   "source": [
    "### Reading the data\n",
    "\n",
    "As before, we start by reading the file."
   ]
  },
  {
   "cell_type": "code",
   "execution_count": 6,
   "id": "3b0f4f5c-69bb-43a5-9d5e-4fac3deeb669",
   "metadata": {},
   "outputs": [],
   "source": [
    "import uproot\n",
    "import awkward as ak\n",
    "import numpy as np"
   ]
  },
  {
   "cell_type": "code",
   "execution_count": 7,
   "id": "917d1057-26d7-4b6e-92a5-175d71640c1a",
   "metadata": {},
   "outputs": [
    {
     "data": {
      "text/plain": [
       "<TTree 'PicoDst' (18 branches) at 0x7f2b94139850>"
      ]
     },
     "execution_count": 7,
     "metadata": {},
     "output_type": "execute_result"
    }
   ],
   "source": [
    "picodst = uproot.open(\"https://pivarski-princeton.s3.amazonaws.com/pythia_ppZee_run17emb.picoDst.root:PicoDst\")\n",
    "picodst"
   ]
  },
  {
   "cell_type": "markdown",
   "id": "5af0868d-a006-4ea3-9808-80efc56cc454",
   "metadata": {},
   "source": [
    "By examining the C++ code, we see that we need to compute\n",
    "\n",
    "```c++\n",
    "StPicoTrack::isPrimary\n",
    "StPicoTrack::nHitsFit\n",
    "StPicoTrack::nHitsMax\n",
    "StPicoTrack::isBemcTrack\n",
    "StPicoTrack::bemcPidTraitsIndex\n",
    "StPicoTrack::pMom\n",
    "StPicoBEmcPidTraits::btowE\n",
    "```\n",
    "\n",
    "From [star-picodst-reference/StPicoTrack.h](star-picodst-reference/StPicoTrack.h) and [star-picodst-reference/StPicoBEmcPidTraits.h](star-picodst-reference/StPicoBEmcPidTraits.h), we learn that these are computed from the following TBranches:\n",
    "\n",
    "   * `mPMomentumX`\n",
    "   * `mPMomentumY`\n",
    "   * `mPMomentumZ`\n",
    "   * `mNHitsFit`\n",
    "   * `mNHitsMax`\n",
    "   * `mBEmcPidTraitsIndex`\n",
    "   * `mBtowE`\n",
    "\n",
    "**Exercise 1:** Extract these TBranches as arrays, using the same names.\n",
    "\n",
    "**Hint:** To avoid long download times while you experiment, set `entry_stop=10` in your calls to [TTree.arrays](https://uproot.readthedocs.io/en/latest/uproot.behaviors.TTree.TTree.html#arrays) or [TBranch.array](https://uproot.readthedocs.io/en/latest/uproot.behaviors.TBranch.TBranch.html#array). Just be sure to remove it to get all entries in the end.\n",
    "\n",
    "From where I am on the Internet, it took about 30 seconds to read. If it's taking over a minute, you're probably downloading more than you intended."
   ]
  },
  {
   "cell_type": "code",
   "execution_count": null,
   "id": "6c4ce5c4-4eae-4d38-997e-50ce2fde8fe2",
   "metadata": {},
   "outputs": [],
   "source": [
    "mPMomentumX = ???\n",
    "mPMomentumY = ???\n",
    "mPMomentumZ = ???\n",
    "mNHitsFit = ???\n",
    "mNHitsMax = ???\n",
    "mBEmcPidTraitsIndex = ???\n",
    "mBtowE = ???"
   ]
  },
  {
   "cell_type": "markdown",
   "id": "5a3c9ea5-68fb-4077-ac4b-b360713fb993",
   "metadata": {},
   "source": [
    "The types of these arrays should be"
   ]
  },
  {
   "cell_type": "code",
   "execution_count": 12,
   "id": "a6b68737-f93d-4860-8dfa-f29ef753efc6",
   "metadata": {},
   "outputs": [
    {
     "data": {
      "text/plain": [
       "(8004 * var * float32,\n",
       " 8004 * var * float32,\n",
       " 8004 * var * float32,\n",
       " 8004 * var * int8,\n",
       " 8004 * var * uint8,\n",
       " 8004 * var * int16,\n",
       " 8004 * var * float64)"
      ]
     },
     "execution_count": 12,
     "metadata": {},
     "output_type": "execute_result"
    }
   ],
   "source": [
    "(\n",
    "    mPMomentumX.type,\n",
    "    mPMomentumY.type,\n",
    "    mPMomentumZ.type,\n",
    "    mNHitsFit.type,\n",
    "    mNHitsMax.type,\n",
    "    mBEmcPidTraitsIndex.type,\n",
    "    mBtowE.type,\n",
    ")"
   ]
  },
  {
   "cell_type": "markdown",
   "id": "66818905-7947-4c6d-aed3-3e886a598edb",
   "metadata": {},
   "source": [
    "<details style=\"border: dashed 1px black; padding: 10px\">\n",
    "    <summary><b>Solutions</b> (no peeking!)</summary>\n",
    "\n",
    "<br>\n",
    "\n",
    "There are several ways to get these data; here are two.\n",
    "\n",
    "**(1)** You could navigate to each TBranch and ask for its `array`.\n",
    "\n",
    "```python\n",
    "mPMomentumX = picodst[\"Track.mPMomentumX\"].array()\n",
    "mPMomentumY = picodst[\"Track.mPMomentumY\"].array()\n",
    "mPMomentumZ = picodst[\"Track.mPMomentumZ\"].array()\n",
    "mNHitsFit = picodst[\"Track.mNHitsFit\"].array()\n",
    "mNHitsMax = picodst[\"Track.mNHitsMax\"].array()\n",
    "mBEmcPidTraitsIndex = picodst[\"Track.mBEmcPidTraitsIndex\"].array()\n",
    "mBtowE = picodst[\"EmcPidTraits.mBtowE\"].array() / 1000\n",
    "```\n",
    "<br>\n",
    "\n",
    "**(2)** You could ask the TTree for its `arrays`, with a filter to keep from reading everything over the network, then extract each field of the resulting record array. (There's a slight performance advantage to this method, since it only has to make 1 request across the network, rather than 7, _if_ you filter the TBranches to read. If you don't, _it will read all branches_, which will take much longer.)\n",
    "\n",
    "```python\n",
    "single_array = picodst.arrays(filter_name=[\n",
    "    \"Track.mPMomentum[XYZ]\",\n",
    "    \"Track.mNHits*\",\n",
    "    \"Track.mBEmcPidTraitsIndex\",\n",
    "    \"EmcPidTraits.mBtowE\",\n",
    "])\n",
    "mPMomentumX = single_array[\"Track.mPMomentumX\"]\n",
    "mPMomentumY = single_array[\"Track.mPMomentumY\"]\n",
    "mPMomentumZ = single_array[\"Track.mPMomentumZ\"]\n",
    "mNHitsFit = single_array[\"Track.mNHitsFit\"]\n",
    "mNHitsMax = single_array[\"Track.mNHitsMax\"]\n",
    "mBEmcPidTraitsIndex = single_array[\"Track.mBEmcPidTraitsIndex\"]\n",
    "mBtowE = single_array[\"EmcPidTraits.mBtowE\"] / 1000\n",
    "```\n",
    "<br>\n",
    "\n",
    "\n",
    "Either way, be sure to divide the `mBtowE` branch by 1000, as it is in the C++ code.\n",
    "</details>"
   ]
  },
  {
   "cell_type": "markdown",
   "id": "61a95c4b-57be-4677-9104-11329d8d8414",
   "metadata": {},
   "source": [
    "### Making momentum objects with charges\n",
    "\n",
    "The C++ code uses ROOT [TVector3](https://root.cern.ch/doc/master/classTVector3.html) and [TLorentzVector](https://root.cern.ch/doc/master/classTLorentzVector.html) objects for vector calculations. We'll use the (array-oriented) Vector library.\n",
    "\n",
    "The definitions of `pMom` and `charge` are\n",
    "\n",
    "```c++\n",
    "  TVector3 pMom() const            { return TVector3(mPMomentumX, mPMomentumY, mPMomentumZ); }\n",
    "  Short_t charge() const           { return (mNHitsFit > 0) ? 1 : -1; }\n",
    "```\n",
    "mPMomentumX, mPMomentumY, mPMomentumZ\n",
    "(Yes, the `charge` bit is hidden inside the `mNHitsFit` integer.)"
   ]
  },
  {
   "cell_type": "code",
   "execution_count": 48,
   "id": "5c360fce-f9c8-4bbd-b8cb-478ba19fe380",
   "metadata": {},
   "outputs": [],
   "source": [
    "import vector\n",
    "vector.register_awkward()"
   ]
  },
  {
   "cell_type": "code",
   "execution_count": 50,
   "id": "4fd2a510-945f-4b4f-b065-9f9de45f26ee",
   "metadata": {},
   "outputs": [
    {
     "data": {
      "text/plain": [
       "0.0005109989460999999"
      ]
     },
     "execution_count": 50,
     "metadata": {},
     "output_type": "execute_result"
    }
   ],
   "source": [
    "import particle, hepunits\n",
    "electron_mass = particle.Particle.find(\"e-\").mass / hepunits.GeV\n",
    "electron_mass"
   ]
  },
  {
   "cell_type": "markdown",
   "id": "f928973c-d9d4-4c69-b37b-4f7ca64d0210",
   "metadata": {},
   "source": [
    "**Exercise 2a:** First, make an array of `charge` as positive and negative `1` integers. You may use [ak.where](https://awkward-array.readthedocs.io/en/latest/_auto/ak.where.html) or clever arithmetic."
   ]
  },
  {
   "cell_type": "code",
   "execution_count": null,
   "id": "b069dcc5-40d4-4c13-8b60-0799506dac17",
   "metadata": {},
   "outputs": [],
   "source": [
    "charge = ???"
   ]
  },
  {
   "cell_type": "markdown",
   "id": "2685ced0-286d-4b94-8d53-f1e4da83dafc",
   "metadata": {},
   "source": [
    "The type should be:"
   ]
  },
  {
   "cell_type": "code",
   "execution_count": 53,
   "id": "5a55e834-912c-4ddb-a26b-9a38bc23a4ba",
   "metadata": {},
   "outputs": [
    {
     "data": {
      "text/plain": [
       "8004 * var * int64"
      ]
     },
     "execution_count": 53,
     "metadata": {},
     "output_type": "execute_result"
    }
   ],
   "source": [
    "charge.type"
   ]
  },
  {
   "cell_type": "markdown",
   "id": "835cb89c-8309-4ec2-b7f6-d6e13047762c",
   "metadata": {},
   "source": [
    "And the first and last values should be:"
   ]
  },
  {
   "cell_type": "code",
   "execution_count": 54,
   "id": "1fc0a723-d47f-4bee-b9e0-970656261ced",
   "metadata": {},
   "outputs": [
    {
     "data": {
      "text/plain": [
       "<Array [[1, 1, 1, 1, 1, ... 1, 1, -1, -1, 1]] type='8004 * var * int64'>"
      ]
     },
     "execution_count": 54,
     "metadata": {},
     "output_type": "execute_result"
    }
   ],
   "source": [
    "charge"
   ]
  },
  {
   "cell_type": "markdown",
   "id": "bfd83242-0c5c-4a79-82ee-c93fc1a28277",
   "metadata": {},
   "source": [
    "**Exercise 2b:** Next, use [ak.zip](https://awkward-array.readthedocs.io/en/latest/_auto/ak.zip.html) to combine `mPMomentumX`, `mPMomentumY`, `mPMomentumZ`, `electron_mass`, and `charge` into a single array of type\n",
    "\n",
    "```python\n",
    "8004 * var * {\"px\": float32, \"py\": float32, \"pz\": float32, \"M\": float64, \"charge\": int64}\n",
    "```\n",
    "\n",
    "It is very important that the type is lists of records (`var * {\"px\": float32, ...}`), not records of lists (`{\"px\": var * float32, ...}`)."
   ]
  },
  {
   "cell_type": "code",
   "execution_count": null,
   "id": "5bf0d96b-883e-4eee-8cc2-eadf8bc0316c",
   "metadata": {},
   "outputs": [],
   "source": [
    "record_array = ???"
   ]
  },
  {
   "cell_type": "markdown",
   "id": "578df68e-ca46-46da-a0a8-2304e8fae650",
   "metadata": {},
   "source": [
    "The second record in the first event should be:"
   ]
  },
  {
   "cell_type": "code",
   "execution_count": 63,
   "id": "cadf3f5c-7a24-4d5e-9da9-0aefb6c3f454",
   "metadata": {},
   "outputs": [
    {
     "data": {
      "text/plain": [
       "{'px': -0.14229480922222137,\n",
       " 'py': 0.3735402524471283,\n",
       " 'pz': 0.15136101841926575,\n",
       " 'M': 0.0005109989460999999,\n",
       " 'charge': 1}"
      ]
     },
     "execution_count": 63,
     "metadata": {},
     "output_type": "execute_result"
    }
   ],
   "source": [
    "record_array[0, 1].tolist()"
   ]
  },
  {
   "cell_type": "markdown",
   "id": "5cc05202-b554-4bbd-9065-91147624eaeb",
   "metadata": {},
   "source": [
    "**Exercise 2c:** Finally, search Awkward Array's [reference documentation](https://awkward-array.readthedocs.io/) for a way to add the `\"Momentum4D\"` name to these records to turn them into Lorentz vectors."
   ]
  },
  {
   "cell_type": "code",
   "execution_count": null,
   "id": "424b56b6-427b-4f15-a8c1-1fd6c233897b",
   "metadata": {},
   "outputs": [],
   "source": [
    "pMom = ???"
   ]
  },
  {
   "cell_type": "markdown",
   "id": "dabb5a5b-0173-4fa3-9bdc-be902ec3adbd",
   "metadata": {},
   "source": [
    "The type of `pMom` should be:"
   ]
  },
  {
   "cell_type": "code",
   "execution_count": 65,
   "id": "ff59c700-a632-427f-a8db-59a02fe90c06",
   "metadata": {},
   "outputs": [
    {
     "data": {
      "text/plain": [
       "8004 * var * Momentum4D[\"px\": float32, \"py\": float32, \"pz\": float32, \"M\": float64, \"charge\": int64]"
      ]
     },
     "execution_count": 65,
     "metadata": {},
     "output_type": "execute_result"
    }
   ],
   "source": [
    "pMom.type"
   ]
  },
  {
   "cell_type": "markdown",
   "id": "93721d8d-d508-4dc8-9c41-2181d523a1ad",
   "metadata": {},
   "source": [
    "Lorentz vector operations don't require the `\"charge\"`, but it will be convenient to keep that in the same package. The Vector library will ignore it."
   ]
  },
  {
   "cell_type": "markdown",
   "id": "a5041048-2da8-4722-9417-c05864f71809",
   "metadata": {},
   "source": [
    "<details style=\"border: dashed 1px black; padding: 10px\">\n",
    "    <summary><b>Solutions</b> (no peeking!)</summary>\n",
    "\n",
    "<br>\n",
    "\n",
    "The charge can be computed using:\n",
    "\n",
    "```python\n",
    "charge = ak.where(mNHitsFit > 0, 1, -1)\n",
    "```\n",
    "<br>\n",
    "\n",
    "or \"clever arithmetic\" (booleans in a numerical expression become `false → 0`, `true → 1`):\n",
    "\n",
    "```python\n",
    "charge = (mNHitsFit > 0) * 2 - 1\n",
    "```\n",
    "<br>\n",
    "\n",
    "Making the record array is a direct application of [ak.zip](https://awkward-array.readthedocs.io/en/latest/_auto/ak.zip.html):\n",
    "\n",
    "```python\n",
    "record_array = ak.zip(\n",
    "    {\"px\": mPMomentumX, \"py\": mPMomentumY, \"pz\": mPMomentumZ, \"M\": electron_mass, \"charge\": charge}\n",
    ")\n",
    "```\n",
    "<br>\n",
    "\n",
    "Combining the variable-length lists of `mPMomentumX`, `mPMomentumY`, `mPMomentumZ`, and `charge` is just what [ak.zip](https://awkward-array.readthedocs.io/en/latest/_auto/ak.zip.html) does (and if those lists had different lengths, it would raise an error). Only using `depth_limit=1` or the [ak.Array](https://awkward-array.readthedocs.io/en/latest/_auto/ak.Array.html) constructor would produce the wrong type.\n",
    "\n",
    "Also, the constant `electron_mass` does not need special handling. Constants and lower-dimension arrays are [broadcasted](https://awkward-array.readthedocs.io/en/latest/_auto/ak.broadcast_arrays.html) to the same shape as larger-dimension arrays when used in the same function. (This is similar to, but an extension of, NumPy's [concept of broadcasting](https://numpy.org/doc/stable/user/basics.broadcasting.html).)\n",
    "\n",
    "Finally, to add the `\"Momentum4D\"` name to all the records, you could use [ak.zip](https://awkward-array.readthedocs.io/en/latest/_auto/ak.zip.html) again, as it has a `with_name` argument:\n",
    "\n",
    "```python\n",
    "pMom = ak.zip(\n",
    "    {\"px\": mPMomentumX, \"py\": mPMomentumY, \"pz\": mPMomentumZ, \"M\": electron_mass, \"charge\": charge},\n",
    "    with_name=\"Momentum4D\",\n",
    ")\n",
    "```\n",
    "<br>\n",
    "\n",
    "Or pass the already-built `record_array` into [ak.with_name](https://awkward-array.readthedocs.io/en/latest/_auto/ak.with_name.html):\n",
    "\n",
    "```python\n",
    "pMom = ak.with_name(record_array, \"Momentum4D\")\n",
    "```\n",
    "<br>\n",
    "\n",
    "Or pass the already-built `record_array` into the [ak.Array](https://awkward-array.readthedocs.io/en/latest/_auto/ak.Array.html) constructor with a `with_name` argument:\n",
    "\n",
    "```python\n",
    "pMom = ak.Array(record_array, with_name=\"Momentum4D\")\n",
    "```\n",
    "</details>"
   ]
  },
  {
   "cell_type": "markdown",
   "id": "f43a554b-7c4b-4463-802d-81e1edaee071",
   "metadata": {
    "tags": []
   },
   "source": [
    "### Computing track cuts\n",
    "\n",
    "In the C++, the following cuts are applied to the tracks:\n",
    "\n",
    "```c++\n",
    "if (!picoTrack->isPrimary()) continue;\n",
    "if (picoTrack->nHitsFit() / picoTrack()->nHitsMax() < 0.2) continue;\n",
    "if (picoTrack->isBemcTrack()) {\n",
    "  // ...\n",
    "}\n",
    "```\n",
    "\n",
    "Some of the cuts in C++ are applied by jumping to the next loop iteration with `continue` (a dangerous practice, in my opinion) while another is in a nested `if` statement. Note that the `continue` conditions describe the _opposite_ of a good track.\n",
    "\n",
    "The quantities used in the cuts are defined in [star-picodst-reference/StPicoTrack.h](star-picodst-reference/StPicoTrack.h):\n",
    "\n",
    "```c++\n",
    "  Bool_t isPrimary() const         { return ( pMom().Mag()>0 ); }\n",
    "  TVector3 pMom() const            { return TVector3(mPMomentumX, mPMomentumY, mPMomentumZ); }\n",
    "\n",
    "  Int_t   nHitsFit() const         { return (mNHitsFit > 0) ? (Int_t)mNHitsFit : (Int_t)(-1 * mNHitsFit); }\n",
    "  Int_t   nHitsMax() const         { return (Int_t)mNHitsMax; }\n",
    "\n",
    "  Bool_t isBemcTrack() const       { return (mBEmcPidTraitsIndex<0) ? false : true; }\n",
    "```\n",
    "\n",
    "**Exercise 3:** Convert these cuts into a [boolean array slice](https://awkward-array.readthedocs.io/en/latest/_auto/ak.Array.html#filtering)."
   ]
  },
  {
   "cell_type": "code",
   "execution_count": null,
   "id": "51e0d20c-0a04-4b5f-8896-41487cf6533a",
   "metadata": {},
   "outputs": [],
   "source": [
    "isPrimary = ???\n",
    "nHitsFit = ???\n",
    "nHitsMax = ???\n",
    "isBemcTrack = ???\n",
    "\n",
    "track_quality_cuts = ???"
   ]
  },
  {
   "cell_type": "markdown",
   "id": "3f8c6a55-a5d5-4827-9525-cb1f7c571489",
   "metadata": {},
   "source": [
    "The type of `track_quality_cuts` should be:"
   ]
  },
  {
   "cell_type": "code",
   "execution_count": 15,
   "id": "0ae97fec-bcb1-4a5b-ace4-c837c6fe8cfd",
   "metadata": {},
   "outputs": [
    {
     "data": {
      "text/plain": [
       "8004 * var * bool"
      ]
     },
     "execution_count": 15,
     "metadata": {},
     "output_type": "execute_result"
    }
   ],
   "source": [
    "track_quality_cuts.type"
   ]
  },
  {
   "cell_type": "markdown",
   "id": "0d069e56-7709-43b4-8db0-6fd24313e550",
   "metadata": {},
   "source": [
    "And the number of passing tracks in the first and last events should be:"
   ]
  },
  {
   "cell_type": "code",
   "execution_count": 16,
   "id": "1d4e86f4-83e3-450a-b4b1-ecafef0a4558",
   "metadata": {},
   "outputs": [
    {
     "data": {
      "text/plain": [
       "<Array [3, 2, 2, 1, 2, 1, ... 1, 1, 2, 1, 4, 4] type='8004 * int64'>"
      ]
     },
     "execution_count": 16,
     "metadata": {},
     "output_type": "execute_result"
    }
   ],
   "source": [
    "np.count_nonzero(track_quality_cuts, axis=1)"
   ]
  },
  {
   "cell_type": "markdown",
   "id": "74b85049-a428-4a51-b194-557259ef155b",
   "metadata": {},
   "source": [
    "<details style=\"border: dashed 1px black; padding: 10px\">\n",
    "    <summary><b>Solutions</b> (no peeking!)</summary>\n",
    "\n",
    "<br>\n",
    "\n",
    "There are several equivalent ways to compute `isPrimary`:\n",
    "\n",
    "```python\n",
    "isPrimary = (abs(mPMomentumX) > 0) & (abs(mPMomentumY) > 0) & (abs(mPMomentumZ) > 0)\n",
    "```\n",
    "<br>\n",
    "\n",
    "and\n",
    "\n",
    "```python\n",
    "isPrimary = mPMomentumX**2 + mPMomentumY**2 + mPMomentumZ**2 > 0   # or with np.sqrt\n",
    "```\n",
    "<br>\n",
    "\n",
    "The most straightforward way to compute `nHitsFit` is:\n",
    "\n",
    "```python\n",
    "nHitsFit = abs(mNHitsFit)\n",
    "```\n",
    "<br>\n",
    "\n",
    "but you could use [ak.where](https://awkward-array.readthedocs.io/en/latest/_auto/ak.where.html)/[np.where](https://numpy.org/doc/stable/reference/generated/numpy.where.html) to make it look more like the C++:\n",
    "\n",
    "```python\n",
    "nHitsFit = np.where(mNHitsFit > 0, mNHitsFit, -1 * mNHitsFit)\n",
    "```\n",
    "<br>\n",
    "\n",
    "`nHitsMax` is exactly equal to `mNHitsMax`, and `isBemcTrack` is:\n",
    "\n",
    "```python\n",
    "isBemcTrack = mBEmcPidTraitsIndex >= 0   # be sure to get the inequality right\n",
    "```\n",
    "<br>\n",
    "\n",
    "or\n",
    "\n",
    "```python\n",
    "isBemcTrack = np.where(mBEmcPidTraitsIndex < 0, False, True)\n",
    "```\n",
    "<br>\n",
    "\n",
    "to make it look more like the C++.\n",
    "\n",
    "Finally, `track_quality_cuts` is a logical-AND of three selections:\n",
    "\n",
    "```python\n",
    "track_quality_cuts = isPrimary & (nHitsFit / nHitsMax >= 0.2) & isBemcTrack\n",
    "```\n",
    "<br>\n",
    "\n",
    "Be sure to get the inequality right: `continue` _throws away_ bad tracks, but we want an expression that will _keep_ good tracks.\n",
    "</details>"
   ]
  },
  {
   "cell_type": "markdown",
   "id": "2e022cfd-dd63-4774-8733-651cd795d8f8",
   "metadata": {},
   "source": [
    "### Matching tracks to electromagnetic showers\n",
    "\n",
    "The final track quality cut requires us to match the track with its corresponding shower. Tracks and showers have different multiplicities."
   ]
  },
  {
   "cell_type": "code",
   "execution_count": 31,
   "id": "f38560ce-dacd-420f-9868-5a312975a7d7",
   "metadata": {},
   "outputs": [
    {
     "data": {
      "text/plain": [
       "(<Array [2594, 2513, 2909, ... 2441, 2586, 2321] type='8004 * int64'>,\n",
       " <Array [7, 4, 4, 2, 4, 1, ... 2, 2, 7, 1, 8, 8] type='8004 * int64'>)"
      ]
     },
     "execution_count": 31,
     "metadata": {},
     "output_type": "execute_result"
    }
   ],
   "source": [
    "ak.num(mPMomentumX), ak.num(mBtowE)"
   ]
  },
  {
   "cell_type": "markdown",
   "id": "1ec3d7cc-6d7c-4193-a871-14e8c6f1c52f",
   "metadata": {},
   "source": [
    "The PicoDst file provides us with an index for each track that is the position of the corresponding shower in the showers array. It is `-1` when there is no corresponding shower."
   ]
  },
  {
   "cell_type": "code",
   "execution_count": 32,
   "id": "8db3bad2-a78d-4849-b381-d836632a6e52",
   "metadata": {},
   "outputs": [
    {
     "data": {
      "text/plain": [
       "<Array [[-1, -1, -1, -1, ... -1, -1, -1, -1]] type='8004 * var * int16'>"
      ]
     },
     "execution_count": 32,
     "metadata": {},
     "output_type": "execute_result"
    }
   ],
   "source": [
    "mBEmcPidTraitsIndex"
   ]
  },
  {
   "cell_type": "markdown",
   "id": "bc428e24-f098-43af-a1bb-3f2552d4845c",
   "metadata": {},
   "source": [
    "**Exercise 4:** Filter `mBEmcPidTraitsIndex` with `track_quality_cuts` and make an array of shower energy `mBtowE` for each quality track."
   ]
  },
  {
   "cell_type": "code",
   "execution_count": null,
   "id": "75829309-086d-45e3-8d6f-7bab39ecaade",
   "metadata": {},
   "outputs": [],
   "source": [
    "quality_mBtowE = ???"
   ]
  },
  {
   "cell_type": "markdown",
   "id": "781383c3-321f-4a76-b478-47be738693f8",
   "metadata": {},
   "source": [
    "The type of `quality_mBtowE` should be:"
   ]
  },
  {
   "cell_type": "code",
   "execution_count": 34,
   "id": "9c3e2df5-0b00-4604-a4ea-1110282305ae",
   "metadata": {},
   "outputs": [
    {
     "data": {
      "text/plain": [
       "8004 * var * float64"
      ]
     },
     "execution_count": 34,
     "metadata": {},
     "output_type": "execute_result"
    }
   ],
   "source": [
    "quality_mBtowE.type"
   ]
  },
  {
   "cell_type": "markdown",
   "id": "cd144142-5e40-4e4e-ba37-ecf49330e770",
   "metadata": {},
   "source": [
    "Its first and last values should be:"
   ]
  },
  {
   "cell_type": "code",
   "execution_count": 35,
   "id": "7f0f30a2-28ca-4f7f-a452-63b4d28a7635",
   "metadata": {},
   "outputs": [
    {
     "data": {
      "text/plain": [
       "<Array [[1.71, 32.8, 0], ... 0, 17.8, 0.36]] type='8004 * var * float64'>"
      ]
     },
     "execution_count": 35,
     "metadata": {},
     "output_type": "execute_result"
    }
   ],
   "source": [
    "quality_mBtowE"
   ]
  },
  {
   "cell_type": "markdown",
   "id": "7b3777ca-388b-4475-ab8b-520f3ec45aef",
   "metadata": {},
   "source": [
    "And it should have as many values in each event as there are \"`true`\" booleans in `track_quality_cuts`:"
   ]
  },
  {
   "cell_type": "code",
   "execution_count": 46,
   "id": "39648e20-725a-473c-b2bc-74aceff8beb2",
   "metadata": {},
   "outputs": [
    {
     "data": {
      "text/plain": [
       "<Array [3, 2, 2, 1, 2, 1, ... 1, 1, 2, 1, 4, 4] type='8004 * int64'>"
      ]
     },
     "execution_count": 46,
     "metadata": {},
     "output_type": "execute_result"
    }
   ],
   "source": [
    "ak.num(quality_mBtowE)"
   ]
  },
  {
   "cell_type": "code",
   "execution_count": 47,
   "id": "0960eb6e-79ff-432d-8464-c9fa16503fda",
   "metadata": {},
   "outputs": [
    {
     "data": {
      "text/plain": [
       "True"
      ]
     },
     "execution_count": 47,
     "metadata": {},
     "output_type": "execute_result"
    }
   ],
   "source": [
    "np.all(ak.num(quality_mBtowE) == np.count_nonzero(track_quality_cuts, axis=1))"
   ]
  },
  {
   "cell_type": "markdown",
   "id": "e0948da5-5243-4649-ab49-fd7af98238cb",
   "metadata": {},
   "source": [
    "<details style=\"border: dashed 1px black; padding: 10px\">\n",
    "    <summary><b>Solutions</b> (no peeking!)</summary>\n",
    "\n",
    "<br>\n",
    "\n",
    "The answer could be written in one line:\n",
    "\n",
    "```python\n",
    "quality_mBtowE = mBtowE[mBEmcPidTraitsIndex[track_quality_cuts]]\n",
    "```\n",
    "<br>\n",
    "\n",
    "The first part, `mBEmcPidTraitsIndex[track_quality_cuts]`, applies the track quality cuts to the `mBEmcPidTraitsIndex` so that there are no more `-1` values in it. The remaining array of lists of integers is exactly what is required to pick energy values from `mBtowE` in lists of the right lengths and orders.\n",
    "\n",
    "Naturally, you could write it in two lines (or as many as you find easy to read).\n",
    "\n",
    "If you know about [ak.mask](https://awkward-array.readthedocs.io/en/latest/_auto/ak.mask.html), you might have tried masking `mBEmcPidTraitsIndex` instead of filtering it:\n",
    "\n",
    "```python\n",
    "quality_mBEmcPidTraitsIndex = mBEmcPidTraitsIndex.mask[track_quality_cuts]\n",
    "quality_mBtowE = mBtowE[quality_mBEmcPidTraitsIndex]\n",
    "```\n",
    "<br>\n",
    "\n",
    "Instead of changing the lengths of the lists by dropping bad tracks, this would replace them with missing value placeholders (\"`None`\"). _This is not wrong,_ and it's a good alternative to the overall problem because it simplifies the process of filtering filtered data. (The placeholders keep the arrays the same lengths, so cuts can be applied in any order.)\n",
    "\n",
    "However, it changes how the next step would have to be handled, and you'd eventually have to use [ak.is_none](https://awkward-array.readthedocs.io/en/latest/_auto/ak.is_none.html) to remove the missing values. For the sake of this walkthrough, to keep everyone on the same page, let's not do that.\n",
    "</details>"
   ]
  },
  {
   "cell_type": "markdown",
   "id": "894f6997-4d66-478b-8299-d07424dc8df3",
   "metadata": {},
   "source": [
    "### Applying the energy cut and making track-pairs\n",
    "\n",
    "The last quality cut requires track $p_T$ divided by shower energy $E$ to be at least `0.1`:"
   ]
  },
  {
   "cell_type": "code",
   "execution_count": null,
   "id": "1f3f951f-368f-45b4-b790-dd656cef7275",
   "metadata": {},
   "outputs": [],
   "source": []
  },
  {
   "cell_type": "code",
   "execution_count": null,
   "id": "aafde9df-095e-4d8d-ab88-723266d07f6b",
   "metadata": {},
   "outputs": [],
   "source": []
  },
  {
   "cell_type": "code",
   "execution_count": null,
   "id": "a71c14d0-8a23-48c0-941e-38d95663cd97",
   "metadata": {},
   "outputs": [],
   "source": []
  },
  {
   "cell_type": "code",
   "execution_count": null,
   "id": "7bdfe17c-403f-4593-a5fd-fac1ce9cb6da",
   "metadata": {},
   "outputs": [],
   "source": []
  },
  {
   "cell_type": "code",
   "execution_count": null,
   "id": "29ff0717-c2a5-4b68-a1f3-ecc026a6bfba",
   "metadata": {},
   "outputs": [],
   "source": []
  },
  {
   "cell_type": "markdown",
   "id": "91bffc54-bf67-49c8-a2d4-e2c20ac2906d",
   "metadata": {},
   "source": [
    "```c++\n",
    "  Bool_t isPrimary() const         { return ( pMom().Mag()>0 ); }\n",
    "  Int_t   nHitsFit() const         { return (mNHitsFit > 0) ? (Int_t)mNHitsFit : (Int_t)(-1 * mNHitsFit); }\n",
    "  Int_t   nHitsMax() const         { return (Int_t)mNHitsMax; }\n",
    "  Bool_t isBemcTrack() const       { return (mBEmcPidTraitsIndex<0) ? false : true; }\n",
    "  Int_t bemcPidTraitsIndex() const { return mBEmcPidTraitsIndex; }\n",
    "  TVector3 pMom() const            { return TVector3(mPMomentumX, mPMomentumY, mPMomentumZ); }\n",
    "  Float_t btowE() const            { return (Float_t)mBtowE / 1000.; }\n",
    "  Short_t charge() const           { return (mNHitsFit > 0) ? 1 : -1; }\n",
    "```"
   ]
  },
  {
   "cell_type": "code",
   "execution_count": null,
   "id": "dd5fdd74-e8cb-41e7-b90d-f14a3d3572af",
   "metadata": {},
   "outputs": [],
   "source": []
  },
  {
   "cell_type": "markdown",
   "id": "8224ed6d-59d4-4836-9b50-41804a800dfd",
   "metadata": {
    "tags": []
   },
   "source": [
    "In [star-picodst-W-reference-for-jim/macros/PicoDstAnalyzer.C](star-picodst-W-reference-for-jim/macros/PicoDstAnalyzer.C), the chain of commands that leads to getting a track is:\n",
    "\n",
    "```c++\n",
    "// get a reader and initialize it\n",
    "const Char_t *inFile = \"pythia_ppZee_run17emb.picoDst.root:PicoDst\";\n",
    "StPicoDstReader* picoReader = new StPicoDstReader(inFile);\n",
    "picoReader->Init();\n",
    "\n",
    "// in the loop over events (iEvent), load an event\n",
    "Bool_t readEvent = picoReader->readPicoEvent(iEvent);\n",
    "StPicoDst *dst = picoReader->picoDst();\n",
    "\n",
    "// in the loop over tracks (iTrk), load a track\n",
    "StPicoTrack *picoTrack = dst->track(iTrk);\n",
    "```\n",
    "\n",
    "The most relevant quantity for calculating invariant mass is the track's momentum:\n",
    "\n",
    "```c++\n",
    "picoTrack->pMom()\n",
    "```\n",
    "\n",
    "As a first step, we need to get track momenta. The [star-picodst-W-reference-for-jim/StPicoTrack.h](star-picodst-W-reference-for-jim/StPicoTrack.h) defines `pMom` as\n",
    "\n",
    "```c++\n",
    "TVector3 pMom() const           { return TVector3(mPMomentumX, mPMomentumY, mPMomentumZ); }\n",
    "```\n",
    "\n",
    "**Exercise 1:** Search through `picodst` and find _the full names_ of these branches. Then read all three into _arrays_ named `px`, `py`, and `pz`.\n",
    "\n",
    "For reference, here is the [uproot.TTree](https://uproot.readthedocs.io/en/latest/uproot.behaviors.TTree.TTree.html) documentation.\n",
    "\n",
    "Depending on your network connection, those arrays could take 30 seconds to load. Be sure you have an expression that works on a small subsample before starting the big download."
   ]
  },
  {
   "cell_type": "code",
   "execution_count": null,
   "id": "d4fc90c7-921a-4e26-b924-b0a5c87ed1c1",
   "metadata": {},
   "outputs": [],
   "source": [
    "picodst. ???"
   ]
  },
  {
   "cell_type": "markdown",
   "id": "3d22cde5-329a-4b6b-b56a-32ff63536b27",
   "metadata": {
    "tags": []
   },
   "source": [
    "<details>\n",
    "    <summary><b>Answer</b> (no peeking!)</summary>\n",
    "\n",
    "Search around with `picodst.keys`, gradually narrowing its output with wildcards or regular expressions like either of the following:\n",
    "\n",
    "```python\n",
    "picodst.keys(filter_name=\"*mPMomentum[XYZ]\")\n",
    "\n",
    "picodst.keys(filter_name=\"/.*mPMomentum[XYZ]/\")\n",
    "```\n",
    "</details>"
   ]
  },
  {
   "cell_type": "code",
   "execution_count": null,
   "id": "ca0a6924-c6ee-41cd-a2aa-7d8a3549c241",
   "metadata": {},
   "outputs": [],
   "source": [
    "px, py, pz = ???"
   ]
  },
  {
   "cell_type": "markdown",
   "id": "b69783fb-af9b-4538-ace6-f96522498396",
   "metadata": {},
   "source": [
    "<details>\n",
    "    <summary><b>Hint for postponing the big download</b> (okay, maybe peek)</summary>\n",
    "\n",
    "Remember that all of the array-fetching functions (`TTree.arrays`, `TBranch.array`, etc.) take `entry_start` and `entry_stop` as arguments.\n",
    "\n",
    "You can quickly limit the number of baskets read by setting `entry_stop` to some small number, like 1000.\n",
    "\n",
    "```python\n",
    "picodst.arrays(\"Event.mEventId\", entry_stop=1000)\n",
    "```\n",
    "<br>\n",
    "\n",
    "When you've got something you like, you can then remove the `entry_stop=1000` to let it go through the whole file.\n",
    "</details>"
   ]
  },
  {
   "cell_type": "markdown",
   "id": "87f9e631-f31f-4307-bb11-4a7c652572b6",
   "metadata": {},
   "source": [
    "<details>\n",
    "    <summary><b>Answer</b> (no peeking!)</summary>\n",
    "\n",
    "There are several different ways to read the arrays, but the most straightforward are `TTree.arrays` and `TBranch.array`.\n",
    "\n",
    "`TTree.arrays` can use the same `filter_name` that you identified with `TTree.keys`. But just calling it as-is returns a single array.\n",
    "\n",
    "```python\n",
    "single_array = picodst.arrays(filter_name=\"*mPMomentum[XYZ]\")\n",
    "```\n",
    "<br>\n",
    "\n",
    "**Solution 1:** You could, then, look at the `single_array.fields` ([ak.fields](https://awkward-array.readthedocs.io/en/latest/_auto/ak.fields.html)) to see what their names are and just pull them out.\n",
    "\n",
    "```python\n",
    "px = single_array[\"Track.mPMomentumX\"]\n",
    "py = single_array[\"Track.mPMomentumY\"]\n",
    "pz = single_array[\"Track.mPMomentumZ\"]\n",
    "```\n",
    "<br>\n",
    "\n",
    "**Solution 2:** Or you could pull them all out at once (without needing to know their names) with [ak.unzip](https://awkward-array.readthedocs.io/en/latest/_auto/ak.unzip.html).\n",
    "\n",
    "```python\n",
    "px, py, pz = ak.unzip(single_array)\n",
    "```\n",
    "<br>\n",
    "\n",
    "**Solution 3:** Or, if you noticed the `how` parameter of `TTree.arrays`, you'd see that this gives you the desired form directly.\n",
    "\n",
    "```python\n",
    "px, py, pz = picodst.arrays(filter_name=\"*mPMomentum[XYZ]\", how=tuple)\n",
    "```\n",
    "<br>\n",
    "\n",
    "**Solution 4:** As one final alternative, you could get each branch object and use `TBranch.array` on each one individually. (For network traffic, this is three request-and-responses rather than one, so it's less efficient, but leave that for later performance tuning.)\n",
    "\n",
    "```python\n",
    "px = picodst[\"Track/Track.mPMomentumX\"].array()\n",
    "py = picodst[\"Track/Track.mPMomentumY\"].array()\n",
    "pz = picodst[\"Track/Track.mPMomentumZ\"].array()\n",
    "```\n",
    "</details>"
   ]
  },
  {
   "cell_type": "markdown",
   "id": "a1de568b-03d3-486d-92f9-7ca9ecce8e43",
   "metadata": {},
   "source": [
    "### Making an array of Lorentz vectors\n",
    "\n",
    "Rather than calculating invariant mass from first principles, let's cast these as a `\"Momentum4D\"` with the Vector library."
   ]
  },
  {
   "cell_type": "code",
   "execution_count": null,
   "id": "0ac13c62-7520-4269-b5c6-79ca76cd0fdb",
   "metadata": {},
   "outputs": [],
   "source": [
    "import vector\n",
    "vector.register_awkward()"
   ]
  },
  {
   "cell_type": "markdown",
   "id": "74553e16-bad5-4a52-9f20-8703bf5f2788",
   "metadata": {},
   "source": [
    "**Exercise 2:** Combine the `px`, `py`, `pz`, and `M = 0.000511` (a constant) into an array of type\n",
    "\n",
    "```\n",
    "8004 * var * {\"px\": float32, \"py\": float32, \"pz\": float32, \"M\": float64}\n",
    "```\n",
    "\n",
    "It is _essential_ that the \"`var`\" is outside the record structure—that it is an array of lists of `px-py-pz-M` records, not an array of records of `px-py-pz-M` lists, such as\n",
    "\n",
    "```\n",
    "8004 * {\"px\": var * float32, \"py\": var * float32, \"pz\": var * float32, \"M\": float64}\n",
    "```\n",
    "\n",
    "_When that works,_ also add the name `\"Momentum4D\"` to those records, so that they become Lorentz vectors. The type should then look like\n",
    "\n",
    "```\n",
    "8004 * var * Momentum4D[\"px\": float32, \"py\": float32, \"pz\": float32, \"M\": float64]\n",
    "```\n",
    "\n",
    "Both of these should compute instantaneously. If it's taking a long time, something's wrong.\n",
    "\n",
    "**Hint:** The [ak.zip](https://awkward-array.readthedocs.io/en/latest/_auto/ak.zip.html) function is relevant. You might also use [ak.Array](https://awkward-array.readthedocs.io/en/latest/_auto/ak.Array.html) and/or [ak.with_name](https://awkward-array.readthedocs.io/en/latest/_auto/ak.with_name.html), and [ak.type](https://awkward-array.readthedocs.io/en/latest/_auto/ak.type.html) or just `.type` to look at the type."
   ]
  },
  {
   "cell_type": "code",
   "execution_count": null,
   "id": "70a15532-f20f-4e6d-8acc-738d569e9f08",
   "metadata": {},
   "outputs": [],
   "source": [
    "pMom = ???"
   ]
  },
  {
   "cell_type": "markdown",
   "id": "35f5efe3-17f4-4606-8ec6-3eaed0f39aec",
   "metadata": {},
   "source": [
    "<details>\n",
    "    <summary><b>Answer</b> (no peeking!)</summary>\n",
    "\n",
    "This is just what the `ak.zip` function does, when given a dict of field names to arrays. Don't set the `depth_limit`, as that would prevent their merger into an array of lists of records. The `\"M\"` field does not need to be an array—`ak.zip` will \"broadcast\" a constant into the same shape as the other fields.\n",
    "\n",
    "```python\n",
    "ak.zip({\"px\": px, \"py\": py, \"pz\": pz, \"M\": 0.000511})\n",
    "```\n",
    "<br>\n",
    "\n",
    "To add the `\"Momentum4D\"` name to these fields, you could use `ak.with_name` explicitly:\n",
    "\n",
    "```python\n",
    "ak.with_name(ak.zip({\"px\": px, \"py\": py, \"pz\": pz, \"M\": 0.000511}), \"Momentum4D\")\n",
    "```\n",
    "<br>\n",
    "\n",
    "or just add it as an argument in the original `ak.zip`:\n",
    "\n",
    "```python\n",
    "ak.zip({\"px\": px, \"py\": py, \"pz\": pz, \"M\": 0.000511}, with_name=\"Momentum4D\")\n",
    "```\n",
    "<br>\n",
    "\n",
    "The `ak.Array` constructor also has a `with_name` argument, so you could have used that, too.\n",
    "</details>"
   ]
  },
  {
   "cell_type": "markdown",
   "id": "df422789-45fd-44ab-96f1-dc98eef9a4e2",
   "metadata": {},
   "source": [
    "### Aside: if you're averse to physical constants in your code\n",
    "\n",
    "There are libraries for that. Particle is a \"Pythonic PDG\" and hepunits has unit conversions in the same units as Particle."
   ]
  },
  {
   "cell_type": "code",
   "execution_count": null,
   "id": "38348016-3393-4fa0-879f-9ed3928679a0",
   "metadata": {},
   "outputs": [],
   "source": [
    "import particle, hepunits\n",
    "\n",
    "particle.Particle.find(\"e-\").mass / hepunits.GeV"
   ]
  },
  {
   "cell_type": "markdown",
   "id": "10625ba1-1526-4180-b381-7eea122531f9",
   "metadata": {},
   "source": [
    "Constant fields can be added to a list of records through assignment."
   ]
  },
  {
   "cell_type": "code",
   "execution_count": null,
   "id": "2c742d76-c424-4700-9dec-2274f7896412",
   "metadata": {},
   "outputs": [],
   "source": [
    "pMom[\"M\"] = particle.Particle.find(\"e-\").mass / hepunits.GeV"
   ]
  },
  {
   "cell_type": "markdown",
   "id": "8acae146-0f51-4ca7-8ad9-13606b9cd4a0",
   "metadata": {},
   "source": [
    "Now it's more precise."
   ]
  },
  {
   "cell_type": "code",
   "execution_count": null,
   "id": "ec0cec6c-3881-43ef-b875-75784aa8a8f7",
   "metadata": {},
   "outputs": [],
   "source": [
    "pMom[0, 0, \"M\"]"
   ]
  },
  {
   "cell_type": "markdown",
   "id": "75cbfea2-1da3-45f2-889a-acfb42e6581d",
   "metadata": {},
   "source": [
    "### How many tracks are there per event? How many pairwise combinations?\n",
    "\n",
    "The [ak.num](https://awkward-array.readthedocs.io/en/latest/_auto/ak.num.html) function returns the number of items in a `var` dimension, and NumPy's [np.mean](https://numpy.org/doc/stable/reference/generated/numpy.mean.html) computes an average."
   ]
  },
  {
   "cell_type": "code",
   "execution_count": null,
   "id": "92d4c03f-a7d2-4331-b537-1095a82be94c",
   "metadata": {},
   "outputs": [],
   "source": [
    "ak.num(pMom)"
   ]
  },
  {
   "cell_type": "code",
   "execution_count": null,
   "id": "02a30db3-c76e-4200-878f-ca7748c85234",
   "metadata": {},
   "outputs": [],
   "source": [
    "np.mean(ak.num(pMom))"
   ]
  },
  {
   "cell_type": "markdown",
   "id": "6c3872f2-47af-42ce-b8a6-bd54318c13f5",
   "metadata": {},
   "source": [
    "**Exercise 3:** If we were to compute [ak.combinations](https://awkward-array.readthedocs.io/en/latest/_auto/ak.combinations.html) on these tracks (don't try it!), how many combinations would there be, on average?\n",
    "\n",
    "Remember, for a list with $N$ items, `ak.combinations(dataset, 2)` produces \"$N$ choose $2$\" pairs, which is $\\frac{N (N - 1)}{2}$."
   ]
  },
  {
   "cell_type": "markdown",
   "id": "949999c3-db7f-4f9b-82b3-f53e63f8fca7",
   "metadata": {},
   "source": [
    "<details>\n",
    "    <summary><b>Answer</b> (no peeking!)</summary>\n",
    "\n",
    "If $N$ were a single scalar, we would just compute the formula\n",
    "\n",
    "```python\n",
    "N = 10\n",
    "(N * (N - 1)) / 2\n",
    "```\n",
    "<br>\n",
    "\n",
    "In array-oriented computing, we can do the same thing with an array of values.\n",
    "\n",
    "```python\n",
    "tracks_in_each_event = ak.num(pMom)\n",
    "pairs_in_each_event = (tracks_in_each_event * (tracks_in_each_event - 1)) / 2\n",
    "np.mean(pairs_in_each_event)\n",
    "```\n",
    "<br>\n",
    "\n",
    "which is 3.5 million pairs _in each event._\n",
    "</details>"
   ]
  },
  {
   "cell_type": "markdown",
   "id": "f17fa9bb-5a59-4272-91c0-5e5439d5125e",
   "metadata": {},
   "source": [
    "### Selecting electrons\n",
    "\n",
    "Although we've created Lorentz vector objects of mass 0.000511 GeV, there's no guarantee that these tracks are electrons. In fact, many of them are not.\n",
    "\n",
    "A good discriminating property of electrons is that they deposit most of their energy in an electromagnetic calorimeter. If the $p_T$ measured via track curvature is approximately equal to the energy of a matched calorimeter tower, then there's a better chance they're electrons.\n",
    "\n",
    "In the C++ code ([star-picodst-W-reference-for-jim/macros/PicoDstAnalyzer.C](star-picodst-W-reference-for-jim/macros/PicoDstAnalyzer.C)), tracks are identified as having an electromagnetic shower match with\n",
    "\n",
    "```c++\n",
    "picoTrack->isBemcTrack()\n",
    "```\n",
    "\n",
    "and the matching shower is returned via\n",
    "\n",
    "```c++\n",
    "StPicoBEmcPidTraits *trait = dst->bemcPidTraits( picoTrack->bemcPidTraitsIndex() );\n",
    "```\n",
    "\n",
    "The The [star-picodst-W-reference-for-jim/StPicoTrack.h](star-picodst-W-reference-for-jim/StPicoTrack.h) defines these as\n",
    "\n",
    "```c++\n",
    "Bool_t isBemcTrack() const             { return (mBEmcPidTraitsIndex<0) ? false : true; }\n",
    "\n",
    "Int_t bemcPidTraitsIndex() const       { return mBEmcPidTraitsIndex; }\n",
    "\n",
    "static StPicoBEmcPidTraits* bemcPidTraits(Int_t i) { return (StPicoBEmcPidTraits*)picoArrays[StPicoArrays::BEmcPidTraits]->UncheckedAt(i); }\n",
    "```\n",
    "\n",
    "which we can find as branches in the TTree.\n",
    "\n",
    "According to [star-picodst-W-reference-for-jim/StPicoBEmcPidTraits.h](star-picodst-W-reference-for-jim/StPicoBEmcPidTraits.h), the calorimeter energy is in MeV, so we have to divide it by 1000 to get GeV, like the tracks.\n",
    "\n",
    "```c++\n",
    "Float_t btowE() const          { return (Float_t)mBtowE / 1000.; }\n",
    "```"
   ]
  },
  {
   "cell_type": "code",
   "execution_count": null,
   "id": "80d5492a-61b0-444e-acf8-d2900ef2e3c8",
   "metadata": {},
   "outputs": [],
   "source": [
    "emc_index = picodst[\"Track.mBEmcPidTraitsIndex\"].array()\n",
    "emc_energy = picodst[\"EmcPidTraits.mBtowE\"].array() / 1000"
   ]
  },
  {
   "cell_type": "code",
   "execution_count": null,
   "id": "2d2d2f5c-f419-4ba5-8445-f6b52041eab6",
   "metadata": {},
   "outputs": [],
   "source": [
    "emc_index"
   ]
  },
  {
   "cell_type": "code",
   "execution_count": null,
   "id": "8794dc7b-2104-4ab7-a14e-be6f464711e9",
   "metadata": {},
   "outputs": [],
   "source": [
    "emc_energy"
   ]
  },
  {
   "cell_type": "markdown",
   "id": "7f8addc0-1ecc-4eec-958f-dd150a84e687",
   "metadata": {},
   "source": [
    "**Exercise 4:** Make an array with the same shape as `pMom` containing _true_ if the corresponding track has an electromagnetic calorimeter match and _false_ if it does not.\n",
    "\n",
    "It should have type ([ak.type](https://awkward-array.readthedocs.io/en/latest/_auto/ak.type.html))\n",
    "\n",
    "```\n",
    "8004 * var * bool\n",
    "```"
   ]
  },
  {
   "cell_type": "code",
   "execution_count": null,
   "id": "54654d9b-010a-429f-a555-a5a5d44f2d58",
   "metadata": {},
   "outputs": [],
   "source": [
    "isBemcTrack = ???"
   ]
  },
  {
   "cell_type": "markdown",
   "id": "250d11c5-52ed-414a-a65b-dede62770536",
   "metadata": {},
   "source": [
    "It should then be possible to compute"
   ]
  },
  {
   "cell_type": "code",
   "execution_count": null,
   "id": "c87f07aa-2507-4f78-b60c-aca524a8f202",
   "metadata": {},
   "outputs": [],
   "source": [
    "pMom_isemc = pMom[isBemcTrack]\n",
    "emc_index_isemc = emc_index[isBemcTrack]"
   ]
  },
  {
   "cell_type": "markdown",
   "id": "f369a08a-be7a-4633-84ae-5e4e4d1c0010",
   "metadata": {},
   "source": [
    "and the average numbers of _selected_ tracks is much fewer."
   ]
  },
  {
   "cell_type": "code",
   "execution_count": null,
   "id": "6d72eb6d-b420-492b-934a-1462264fc091",
   "metadata": {},
   "outputs": [],
   "source": [
    "np.mean(ak.num(pMom_isemc))"
   ]
  },
  {
   "cell_type": "code",
   "execution_count": null,
   "id": "d4592dfe-edb0-47e2-9365-fdbe489e50c4",
   "metadata": {},
   "outputs": [],
   "source": [
    "np.mean(ak.num(emc_index_isemc))"
   ]
  },
  {
   "cell_type": "markdown",
   "id": "43daca7b-55ea-4e48-8082-8772ef701b1f",
   "metadata": {},
   "source": [
    "<details>\n",
    "    <summary><b>Answer</b> (no peeking!)</summary>\n",
    "\n",
    "Comparison operators, `<` and `>`, apply array-at-a-time, like anything else.\n",
    "\n",
    "```python\n",
    "isBemcTrack = (emc_index >= 0)\n",
    "```\n",
    "<br>\n",
    "\n",
    "Be sure to get the direction of the comparison right: in the C++ code, `mBEmcPidTraitsIndex<0` means `isBemcTrack` is _false_.\n",
    "</details>"
   ]
  },
  {
   "cell_type": "markdown",
   "id": "be7460a7-d859-4aeb-bf8b-250da34dc37d",
   "metadata": {},
   "source": [
    "### Connecting tracks to showers\n",
    "\n",
    "The `emc_index` (in particular, `emc_index_isemc` with the cut) determines _which item_ of `emc_energy` to associated with _each track_ in _each event_.\n",
    "\n",
    "It's an array of lists of integers (usually in order, but that isn't guaranteed)."
   ]
  },
  {
   "cell_type": "code",
   "execution_count": null,
   "id": "6ff594af-6493-470e-964a-ef75243b0bd3",
   "metadata": {},
   "outputs": [],
   "source": [
    "emc_index_isemc"
   ]
  },
  {
   "cell_type": "code",
   "execution_count": null,
   "id": "a5bd9a08-7b45-4cb1-b7ee-e4dfac436cff",
   "metadata": {},
   "outputs": [],
   "source": [
    "emc_index_isemc[0]"
   ]
  },
  {
   "cell_type": "code",
   "execution_count": null,
   "id": "22bf9897-72d7-493f-bfe6-7d69268cc21a",
   "metadata": {},
   "outputs": [],
   "source": [
    "emc_index_isemc[1]"
   ]
  },
  {
   "cell_type": "code",
   "execution_count": null,
   "id": "11634d95-83bb-440e-83a9-9276d5ed66a0",
   "metadata": {},
   "outputs": [],
   "source": [
    "emc_index_isemc[2]"
   ]
  },
  {
   "cell_type": "markdown",
   "id": "ac995e4e-4df6-4334-b9e4-050b0a61fd1d",
   "metadata": {},
   "source": [
    "What is guaranteed is that all the integers are non-negative and less than the length of the `emc_energy` list _for that event_."
   ]
  },
  {
   "cell_type": "code",
   "execution_count": null,
   "id": "bd889018-4626-453c-a188-1dfcfab9fac4",
   "metadata": {},
   "outputs": [],
   "source": [
    "np.all(emc_index_isemc >= 0)"
   ]
  },
  {
   "cell_type": "code",
   "execution_count": null,
   "id": "588ebce6-e4d8-41c7-8d2f-110441fc2e92",
   "metadata": {},
   "outputs": [],
   "source": [
    "np.max(emc_index_isemc, axis=1)"
   ]
  },
  {
   "cell_type": "code",
   "execution_count": null,
   "id": "201fcfe0-7181-450c-86fb-f9e7a46d2444",
   "metadata": {},
   "outputs": [],
   "source": [
    "ak.num(emc_energy, axis=1)"
   ]
  },
  {
   "cell_type": "code",
   "execution_count": null,
   "id": "72a43899-9473-4125-ab1c-1037d4f1ac61",
   "metadata": {},
   "outputs": [],
   "source": [
    "np.all(np.max(emc_index_isemc, axis=1) < ak.num(emc_energy, axis=1))"
   ]
  },
  {
   "cell_type": "markdown",
   "id": "eb741b32-3bfa-427d-8900-6fa5bc1aa7d3",
   "metadata": {},
   "source": [
    "**Exercise 5:** Make an array of calorimeter energy for each track. Remember the [slicing rules](https://awkward-array.readthedocs.io/en/latest/_auto/ak.Array.html#ak-array-getitem)."
   ]
  },
  {
   "cell_type": "code",
   "execution_count": null,
   "id": "41d37626-64b9-4b5f-978b-ebba790a560e",
   "metadata": {},
   "outputs": [],
   "source": [
    "track_emc_energy = ???"
   ]
  },
  {
   "cell_type": "markdown",
   "id": "bfa62a75-3193-46a6-981f-21d6c081d242",
   "metadata": {},
   "source": [
    "It must have the same list lengths as `pMom_isemc` (and `emc_index_isemc`, which themselves have the same lengths)."
   ]
  },
  {
   "cell_type": "code",
   "execution_count": null,
   "id": "cd199caf-8162-458c-9a87-190616d9b27d",
   "metadata": {},
   "outputs": [],
   "source": [
    "ak.num(pMom_isemc), ak.num(emc_index_isemc), ak.num(track_emc_energy)"
   ]
  },
  {
   "cell_type": "code",
   "execution_count": null,
   "id": "b3f47bd5-8b41-4839-ac76-e93fba9b7c90",
   "metadata": {},
   "outputs": [],
   "source": [
    "np.all(ak.num(pMom_isemc) == ak.num(track_emc_energy))"
   ]
  },
  {
   "cell_type": "markdown",
   "id": "2ad56b5a-b9b6-4f46-9e30-420554ccb256",
   "metadata": {},
   "source": [
    "<details>\n",
    "    <summary><b>Answer</b> (no peeking!)</summary>\n",
    "\n",
    "This is what slicing by an array of integers does.\n",
    "\n",
    "```python\n",
    "track_emc_energy = emc_energy[emc_index_isemc]\n",
    "```\n",
    "<br>\n",
    "\n",
    "It's important to get the order right, to not write `emc_index_isemc[emc_energy]`, and it's also important to use the already filtered `emc_index_isemc`, not the original `emc_index`, which has `-1` values in it. An index of `-1` is taken to be the last item of each list, and that would even be an error if any list is empty.\n",
    "\n",
    "The way to think about the order is that the values—floating point numbers, with units of energy—are in `emc_energy` and the output, so `emc_energy` is the array that gets sliced, not the array that does the slicing.\n",
    "\n",
    "The array that does the slicing _must_ be integers, and the output lists will have the lengths of the lists of _integers_, the array that does the slicing.\n",
    "</details>"
   ]
  },
  {
   "cell_type": "markdown",
   "id": "472f73bb-44b9-46bf-bc98-5c46aa98af75",
   "metadata": {},
   "source": [
    "### Plotting track $p_T$ and calorimeter $E$\n",
    "\n",
    "Now that `pMom_isemc` and `track_emc_energy` are aligned with the same shape, they can be compared.\n",
    "\n",
    "Let's start by histogramming each quantity independently, to get a sense of how far each distribution spreads.\n",
    "\n",
    "Since `pMom_isemc` is an array of lists of Lorentz vectors, we can get all of their $p_T$ values by typing `.pt`."
   ]
  },
  {
   "cell_type": "code",
   "execution_count": null,
   "id": "60d9f6e5-a674-4cfa-a0ed-7a8be74aaea7",
   "metadata": {},
   "outputs": [],
   "source": [
    "pMom_isemc.pt"
   ]
  },
  {
   "cell_type": "markdown",
   "id": "52d8f5d2-6262-4a3a-9d11-671709a39642",
   "metadata": {},
   "source": [
    "Similarly, `track_emc_energy` is an array of lists of numbers."
   ]
  },
  {
   "cell_type": "code",
   "execution_count": null,
   "id": "d7b1548b-1c3f-4b05-96c9-d25347affba5",
   "metadata": {},
   "outputs": [],
   "source": [
    "track_emc_energy"
   ]
  },
  {
   "cell_type": "markdown",
   "id": "74056b58-13c2-4eaa-a647-9835b99a79be",
   "metadata": {},
   "source": [
    "\"Lists of numbers\" have more information than can be histogrammed. To get something we can histogram, we need to make flat lists. [ak.flatten](https://awkward-array.readthedocs.io/en/latest/_auto/ak.flatten.html) can help with that."
   ]
  },
  {
   "cell_type": "code",
   "execution_count": null,
   "id": "2da09c13-8c12-4618-b136-19e7e385e48e",
   "metadata": {},
   "outputs": [],
   "source": [
    "ak.flatten(pMom_isemc.pt)"
   ]
  },
  {
   "cell_type": "markdown",
   "id": "cdf2bdc4-7ea9-4038-a3b3-fd189c450c55",
   "metadata": {},
   "source": [
    "Now for a histogram. Adjust `bins=(number of bins)` and `range=(low, high)` to narrow in on the shape of the distribution. See the documentation for [plt.hist](https://matplotlib.org/stable/api/_as_gen/matplotlib.pyplot.hist.html)."
   ]
  },
  {
   "cell_type": "code",
   "execution_count": null,
   "id": "3af4dc4e-3005-4581-9812-6124ba4552d6",
   "metadata": {},
   "outputs": [],
   "source": [
    "import matplotlib.pyplot as plt"
   ]
  },
  {
   "cell_type": "code",
   "execution_count": null,
   "id": "4b863d0f-8daa-4aae-a144-5b847df785a7",
   "metadata": {},
   "outputs": [],
   "source": [
    "plt.hist(ak.flatten(pMom_isemc.pt))\n",
    "plt.yscale(\"log\")"
   ]
  },
  {
   "cell_type": "code",
   "execution_count": null,
   "id": "dff35173-c04b-4ba6-8ef2-c3d0d8073425",
   "metadata": {},
   "outputs": [],
   "source": [
    "plt.hist(ak.flatten(track_emc_energy))\n",
    "plt.yscale(\"log\")"
   ]
  },
  {
   "cell_type": "markdown",
   "id": "3fbd943a-7c52-48d0-b246-0e5a6c6ff3e5",
   "metadata": {},
   "source": [
    "**Exercise 6:** The above plots throw out the list information, but it can be useful. How would you change the expression above to plot maximum calorimeter energy per event? What about the mean energy per event?\n",
    "\n",
    "How do the shapes differ? (Make two Jupyter cells to compare them.)\n",
    "\n",
    "See the NumPy [np.max](https://numpy.org/doc/stable/reference/generated/numpy.amax.html) and [np.mean](https://numpy.org/doc/stable/reference/generated/numpy.mean.html) documentation, and check for arguments that might help."
   ]
  },
  {
   "cell_type": "markdown",
   "id": "09aec5ba-7cc8-4812-8cc9-5276c22ec4dd",
   "metadata": {},
   "source": [
    "<details>\n",
    "    <summary><b>Answer</b> (no peeking!)</summary>\n",
    "\n",
    "Replace `ak.flatten` with `np.max` (`np.amax`) and `np.mean`, but it becomes necessary to supply the `axis=1` argument.\n",
    "\n",
    "```python\n",
    "plt.hist(np.max(track_emc_energy, axis=1))\n",
    "plt.yscale(\"log\")\n",
    "```\n",
    "<br>\n",
    "\n",
    "The default `axis` for `ak.flatten` is already `axis=1`, but the default for `np.max` and `np.mean` is `axis=None`.\n",
    "\n",
    "For all of these functions (and other reducers like `np.max` and `np.mean`, such as count, count_nonzero, sum, argmax, any, all...), `axis=1` eliminates the second dimension, but `axis=None` eliminates all dimensions. For flattening, `axis=None` returns a one-dimensional array, but for reducers, `axis=None` returns a scalar, which can't be plotted.\n",
    "\n",
    "</details>"
   ]
  },
  {
   "cell_type": "markdown",
   "id": "ded3f9f0-9080-4ebc-b77a-201dbb99c0fb",
   "metadata": {
    "tags": []
   },
   "source": [
    "### Plotting the relationship between track $p_T$ and calorimeter $E$\n",
    "\n",
    "Although [plt.hist](https://matplotlib.org/stable/api/_as_gen/matplotlib.pyplot.hist.html) (and [plt.hist2d](https://matplotlib.org/stable/api/_as_gen/matplotlib.pyplot.hist2d.html)) can make a quick plot, you'll eventually want histogram _objects_ that are created with a specified binning and then filled (e.g. to fill iteratively or in parallel).\n",
    "\n",
    "This is what the hist library provides, and it also has some [good 2D plotting routines](https://boost-histogram.readthedocs.io/en/latest/usage/numpy.html)."
   ]
  },
  {
   "cell_type": "code",
   "execution_count": null,
   "id": "a502822e-36a5-460d-bdc0-1703bbd2aa72",
   "metadata": {},
   "outputs": [],
   "source": [
    "import hist"
   ]
  },
  {
   "cell_type": "code",
   "execution_count": null,
   "id": "6bdf7451-4e64-498b-88bc-c54fec42f9cc",
   "metadata": {},
   "outputs": [],
   "source": [
    "energy_vs_pt = hist.Hist(\n",
    "    hist.axis.Regular(25, 5, 30, label=\"track pT\"),\n",
    "    hist.axis.Regular(25, 5, 30, label=\"calorimeter energy\"),\n",
    ")"
   ]
  },
  {
   "cell_type": "code",
   "execution_count": null,
   "id": "e24fbd94-e62c-4949-8803-3e35731c4eab",
   "metadata": {},
   "outputs": [],
   "source": [
    "energy_vs_pt.fill(ak.flatten(pMom_isemc.pt), ak.flatten(track_emc_energy))"
   ]
  },
  {
   "cell_type": "code",
   "execution_count": null,
   "id": "04e4dbe1-90a7-492b-b9d9-2508a3e21940",
   "metadata": {},
   "outputs": [],
   "source": [
    "energy_vs_pt.plot2d_full();"
   ]
  },
  {
   "cell_type": "markdown",
   "id": "5da8f1ba-47e7-4c6f-a9cc-f4c4a6cb0d38",
   "metadata": {},
   "source": [
    "**Exercise 7:** Fill this histogram. Why do you see warning messages?"
   ]
  },
  {
   "cell_type": "code",
   "execution_count": null,
   "id": "cc6f1322-8ca1-4c78-b8eb-86aee6157025",
   "metadata": {},
   "outputs": [],
   "source": [
    "ratio_vs_pt = hist.Hist(\n",
    "    hist.axis.Regular(25, 5, 30, label=\"track pT\"),\n",
    "    hist.axis.Regular(20, 0, 2, label=\"track pT / calorimeter energy\"),\n",
    ")"
   ]
  },
  {
   "cell_type": "code",
   "execution_count": null,
   "id": "3c6229a7-e263-401e-8b29-9290f4ebc09d",
   "metadata": {},
   "outputs": [],
   "source": [
    "pt_over_energy_ratio = ???"
   ]
  },
  {
   "cell_type": "code",
   "execution_count": null,
   "id": "4629d9e2-9ffd-4f35-94fa-e99da462e9d5",
   "metadata": {},
   "outputs": [],
   "source": [
    "ratio_vs_pt.fill(ak.flatten(pMom_isemc.pt), ak.flatten(pt_over_energy_ratio))"
   ]
  },
  {
   "cell_type": "markdown",
   "id": "7c4b5e37-fd35-4f60-a446-3baac2a61ad8",
   "metadata": {},
   "source": [
    "Also, plot this ratio in one dimension:"
   ]
  },
  {
   "cell_type": "code",
   "execution_count": null,
   "id": "19845180-6efc-4098-a726-3a413bf5b0d9",
   "metadata": {},
   "outputs": [],
   "source": [
    "pt_over_energy_ratio_plot = hist.Hist(hist.axis.Regular(40, 0, 4)).fill(ak.flatten(pt_over_energy_ratio))\n",
    "pt_over_energy_ratio_plot[1:]"
   ]
  },
  {
   "cell_type": "code",
   "execution_count": null,
   "id": "c3fff670-c1f0-4ce8-bde1-972213395128",
   "metadata": {},
   "outputs": [],
   "source": [
    "pt_over_energy_ratio_plot.plot()\n",
    "plt.yscale(\"log\")"
   ]
  },
  {
   "cell_type": "markdown",
   "id": "cacb926d-4b1a-45fc-845a-f4a280c71cc4",
   "metadata": {},
   "source": [
    "<details>\n",
    "    <summary><b>Answer</b> (no peeking!)</summary>\n",
    "\n",
    "Divide the two quantities elementwise:\n",
    "\n",
    "```python\n",
    "pt_over_energy_ratio = pMom_isemc.pt / track_emc_energy\n",
    "```\n",
    "<br>\n",
    "\n",
    "NumPy raises warnings about division by zero and zero-divided-by-zero (separately). That's sometimes a mistake, though in this case, we _know_ that some of the $p_T$ and $E$ values are zero. These warnings can be selectively ignored with [np.errstate](https://numpy.org/doc/stable/reference/generated/numpy.errstate.html).\n",
    "\n",
    "Although division by zero would raise an exception in Python (stopping a script), they result in \"not a number\" in arrays. You can see them if you look at `pt_over_energy_ratio`.\n",
    "\n",
    "```\n",
    "<Array [[nan, nan, 0.471, ... nan, 4.32, nan]] type='8004 * var * float64'>\n",
    "```\n",
    "</details>"
   ]
  },
  {
   "cell_type": "markdown",
   "id": "4b97bc3c-c1d0-4e3c-9624-7049be94d435",
   "metadata": {
    "tags": []
   },
   "source": [
    "### Selecting electrons with $p_T/E$\n",
    "\n",
    "Electrons deposit nearly all of their energy in the calorimeter, so $p_T/E$ is nearly 1. (Why $p_T/E$ and not track energy $/$ calorimeter energy? I personally don't know this bit of STAR detector physics.)\n",
    "\n",
    "Looking at the one-dimensional ratio plot, what would be a good cut around the peak at 1?\n",
    "\n",
    "**Exercise 8:** Suppose we take the cut to be 2/3 through 4/3. How do you make an array of "
   ]
  },
  {
   "cell_type": "code",
   "execution_count": null,
   "id": "25570c95-8d88-4402-9209-f3d0ef8b3643",
   "metadata": {},
   "outputs": [],
   "source": [
    "pMom_electrons = ???"
   ]
  },
  {
   "cell_type": "code",
   "execution_count": null,
   "id": "74f7fd12-1039-4156-83f4-13895a14df7f",
   "metadata": {},
   "outputs": [],
   "source": [
    "pMom_electrons = pMom_isemc[(2/3 < pt_over_energy_ratio) & (pt_over_energy_ratio < 4/3)]"
   ]
  },
  {
   "cell_type": "code",
   "execution_count": null,
   "id": "9d10e3c8-d009-4183-86bc-f39a6f251dc5",
   "metadata": {},
   "outputs": [],
   "source": [
    "pMom_electrons"
   ]
  },
  {
   "cell_type": "code",
   "execution_count": null,
   "id": "186b16e0-5261-437e-8564-154eebe7f404",
   "metadata": {},
   "outputs": [],
   "source": [
    "hist.Hist(hist.axis.Regular(90, 0, 45)).fill(ak.flatten(pMom_electrons.pt)).plot();"
   ]
  },
  {
   "cell_type": "code",
   "execution_count": null,
   "id": "3d647092-445a-49ab-bf6b-9f50c27bf7c8",
   "metadata": {},
   "outputs": [],
   "source": [
    "30 * 4/3"
   ]
  },
  {
   "cell_type": "code",
   "execution_count": null,
   "id": "35d3d250-dff9-4c2d-a577-382c710dc6ae",
   "metadata": {},
   "outputs": [],
   "source": []
  }
 ],
 "metadata": {
  "kernelspec": {
   "display_name": "Python 3 (ipykernel)",
   "language": "python",
   "name": "python3"
  },
  "language_info": {
   "codemirror_mode": {
    "name": "ipython",
    "version": 3
   },
   "file_extension": ".py",
   "mimetype": "text/x-python",
   "name": "python",
   "nbconvert_exporter": "python",
   "pygments_lexer": "ipython3",
   "version": "3.8.10"
  }
 },
 "nbformat": 4,
 "nbformat_minor": 5
}
